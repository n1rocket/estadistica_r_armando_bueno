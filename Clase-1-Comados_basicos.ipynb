{
 "cells": [
  {
   "cell_type": "markdown",
   "metadata": {
    "slideshow": {
     "slide_type": "-"
    }
   },
   "source": [
    "# Bienvenidos\n",
    "\n",
    "Esto es un notebook. Podemos escribir en lenguaje Markdown, el cual nos permite:\n",
    "* Listas\n",
    "* Escribir en **negrita** y *cursiva*\n",
    "* Más información aquí: [Markdown-Cheatsheet](https://github.com/adam-p/markdown-here/wiki/Markdown-Cheatsheet)\n"
   ]
  },
  {
   "cell_type": "markdown",
   "metadata": {},
   "source": [
    "### PREGUNTAD!!\n",
    "\n",
    "Sobretodo si os perdeis, no lleguemos a casos donde no sepais que estamos haciendo.\n",
    "\n",
    "![Imagen no cargada. Edita y borra la @ ](https://memegenerator.net/img/instances/28913469.jpg)"
   ]
  },
  {
   "cell_type": "markdown",
   "metadata": {},
   "source": [
    "# Introducción\n",
    "\n",
    "![ ](diagrama_resumen.png )"
   ]
  },
  {
   "cell_type": "markdown",
   "metadata": {},
   "source": [
    "# Bibliografía \n",
    "\n",
    "Sobre **estadística**: [Practical Statistics for Data Scientists: 50 Essential Concepts](https://www.amazon.com/Practical-Statistics-Data-Scientists-Essential/dp/1491952962/ref=sr_1_3?ie=UTF8&qid=1518719786)\n",
    "\n",
    "\n",
    "Sobre **R**: [R for Data Science: Import, Tidy, Transform, Visualize, and Model Data](https://www.amazon.com/Data-Science-Transform-Visualize-Model/dp/1491910399/ref=sr_1_1?ie=UTF8&qid=1518791084) Este libro es bastante completo, abarca mucho temario que no veremos por falta de tiempo.\n",
    "\n",
    "Aplicaciones movil Android/iPhone: https://artofstat.com/art-of-stat-inference\n"
   ]
  },
  {
   "cell_type": "markdown",
   "metadata": {},
   "source": [
    "## Estadística vs Machine Learning\n",
    "\n",
    "\n",
    "Más información aquí: [Markdown-Cheatsheet](https://www.reddit.com/r/MachineLearningLounge/comments/9soaw4/let_me_fix_that_for_you/)\n",
    "\n",
    "\n",
    "* Estadística: Trata de entender las variables y su relación entre ellas. Las estadísitcas te ayudan a entender como es tu población de datos.\n",
    "\n",
    "* Machine Learning: Trata de hacer predicciones, crear modelos que, a partir de una población limitada puedan **generalizar** y aprender como se comportarán los datos.\n",
    "\n"
   ]
  },
  {
   "cell_type": "markdown",
   "metadata": {},
   "source": [
    "# Introducción a R\n",
    "\n",
    "R es un lenguaje de programación orientado a la estadística.\n",
    "\n",
    "Algo parecido a SPSS o Matlab.\n",
    "\n",
    "Es código abierto y se entrega bajo licencia GPL (versión 2 o posterior). Además existen multitud de paquetes que complementan su funcionalidad."
   ]
  },
  {
   "cell_type": "markdown",
   "metadata": {},
   "source": [
    "## Asignaciones\n",
    "\n",
    "Podemos usar <- o el símbolo = para asignar un valor a una variable"
   ]
  },
  {
   "cell_type": "code",
   "execution_count": 3,
   "metadata": {},
   "outputs": [
    {
     "name": "stdout",
     "output_type": "stream",
     "text": [
      "[1] 10\n"
     ]
    }
   ],
   "source": [
    "a = 10\n",
    "print(a)"
   ]
  },
  {
   "cell_type": "code",
   "execution_count": 4,
   "metadata": {},
   "outputs": [
    {
     "name": "stdout",
     "output_type": "stream",
     "text": [
      "[1] 7\n"
     ]
    }
   ],
   "source": [
    "a <- 7\n",
    "print(a)"
   ]
  },
  {
   "cell_type": "code",
   "execution_count": 19,
   "metadata": {},
   "outputs": [
    {
     "name": "stdout",
     "output_type": "stream",
     "text": [
      "[1] 3\n"
     ]
    }
   ],
   "source": [
    "a<- 3\n",
    "print(a)"
   ]
  },
  {
   "cell_type": "code",
   "execution_count": 20,
   "metadata": {},
   "outputs": [
    {
     "name": "stdout",
     "output_type": "stream",
     "text": [
      "[1] 10\n"
     ]
    }
   ],
   "source": [
    "10 -> b\n",
    "print(b)"
   ]
  },
  {
   "cell_type": "markdown",
   "metadata": {},
   "source": [
    "## Operaciones"
   ]
  },
  {
   "cell_type": "code",
   "execution_count": 21,
   "metadata": {},
   "outputs": [],
   "source": [
    "### Operaciones matemáticas"
   ]
  },
  {
   "cell_type": "code",
   "execution_count": 22,
   "metadata": {},
   "outputs": [
    {
     "data": {
      "text/html": [
       "13"
      ],
      "text/latex": [
       "13"
      ],
      "text/markdown": [
       "13"
      ],
      "text/plain": [
       "[1] 13"
      ]
     },
     "metadata": {},
     "output_type": "display_data"
    },
    {
     "data": {
      "text/html": [
       "30"
      ],
      "text/latex": [
       "30"
      ],
      "text/markdown": [
       "30"
      ],
      "text/plain": [
       "[1] 30"
      ]
     },
     "metadata": {},
     "output_type": "display_data"
    },
    {
     "data": {
      "text/html": [
       "7"
      ],
      "text/latex": [
       "7"
      ],
      "text/markdown": [
       "7"
      ],
      "text/plain": [
       "[1] 7"
      ]
     },
     "metadata": {},
     "output_type": "display_data"
    },
    {
     "data": {
      "text/html": [
       "3.33333333333333"
      ],
      "text/latex": [
       "3.33333333333333"
      ],
      "text/markdown": [
       "3.33333333333333"
      ],
      "text/plain": [
       "[1] 3.333333"
      ]
     },
     "metadata": {},
     "output_type": "display_data"
    },
    {
     "data": {
      "text/html": [
       "3"
      ],
      "text/latex": [
       "3"
      ],
      "text/markdown": [
       "3"
      ],
      "text/plain": [
       "[1] 3"
      ]
     },
     "metadata": {},
     "output_type": "display_data"
    },
    {
     "data": {
      "text/html": [
       "1"
      ],
      "text/latex": [
       "1"
      ],
      "text/markdown": [
       "1"
      ],
      "text/plain": [
       "[1] 1"
      ]
     },
     "metadata": {},
     "output_type": "display_data"
    },
    {
     "data": {
      "text/html": [
       "59049"
      ],
      "text/latex": [
       "59049"
      ],
      "text/markdown": [
       "59049"
      ],
      "text/plain": [
       "[1] 59049"
      ]
     },
     "metadata": {},
     "output_type": "display_data"
    }
   ],
   "source": [
    "b+a #Suma\n",
    "b*a #Multiplicación\n",
    "b-a #Resta\n",
    "b/a #División: \n",
    "b %/% a #División entera: \n",
    "b %% a #Módulo: \n",
    "a^b #Potencia: "
   ]
  },
  {
   "cell_type": "code",
   "execution_count": 23,
   "metadata": {},
   "outputs": [],
   "source": [
    "### Otro tipo de operador"
   ]
  },
  {
   "cell_type": "code",
   "execution_count": 24,
   "metadata": {},
   "outputs": [
    {
     "data": {
      "text/html": [
       "<style>\n",
       ".list-inline {list-style: none; margin:0; padding: 0}\n",
       ".list-inline>li {display: inline-block}\n",
       ".list-inline>li:not(:last-child)::after {content: \"\\00b7\"; padding: 0 .5ex}\n",
       "</style>\n",
       "<ol class=list-inline><li>3</li><li>4</li><li>5</li><li>6</li><li>7</li><li>8</li><li>9</li><li>10</li></ol>\n"
      ],
      "text/latex": [
       "\\begin{enumerate*}\n",
       "\\item 3\n",
       "\\item 4\n",
       "\\item 5\n",
       "\\item 6\n",
       "\\item 7\n",
       "\\item 8\n",
       "\\item 9\n",
       "\\item 10\n",
       "\\end{enumerate*}\n"
      ],
      "text/markdown": [
       "1. 3\n",
       "2. 4\n",
       "3. 5\n",
       "4. 6\n",
       "5. 7\n",
       "6. 8\n",
       "7. 9\n",
       "8. 10\n",
       "\n",
       "\n"
      ],
      "text/plain": [
       "[1]  3  4  5  6  7  8  9 10"
      ]
     },
     "metadata": {},
     "output_type": "display_data"
    }
   ],
   "source": [
    "3:10        #Secuencias"
   ]
  },
  {
   "cell_type": "code",
   "execution_count": 28,
   "metadata": {},
   "outputs": [
    {
     "data": {
      "text/html": [
       "TRUE"
      ],
      "text/latex": [
       "TRUE"
      ],
      "text/markdown": [
       "TRUE"
      ],
      "text/plain": [
       "[1] TRUE"
      ]
     },
     "metadata": {},
     "output_type": "display_data"
    }
   ],
   "source": [
    "6 %in% 3:10 #contiene"
   ]
  },
  {
   "cell_type": "markdown",
   "metadata": {},
   "source": [
    "## Funciones básicas\n",
    "\n",
    "Las funciones \n",
    " * siempre acaban en ()\n",
    " * pueden recibir un número variable de parámetros\n",
    " * pueden existir parámetros por defecto"
   ]
  },
  {
   "cell_type": "markdown",
   "metadata": {},
   "source": [
    "Ver las variables en memoria, función ls()"
   ]
  },
  {
   "cell_type": "code",
   "execution_count": 49,
   "metadata": {},
   "outputs": [
    {
     "data": {
      "text/html": [
       "<style>\n",
       ".list-inline {list-style: none; margin:0; padding: 0}\n",
       ".list-inline>li {display: inline-block}\n",
       ".list-inline>li:not(:last-child)::after {content: \"\\00b7\"; padding: 0 .5ex}\n",
       "</style>\n",
       "<ol class=list-inline><li>'a'</li><li>'ai'</li><li>'b'</li><li>'s1'</li></ol>\n"
      ],
      "text/latex": [
       "\\begin{enumerate*}\n",
       "\\item 'a'\n",
       "\\item 'ai'\n",
       "\\item 'b'\n",
       "\\item 's1'\n",
       "\\end{enumerate*}\n"
      ],
      "text/markdown": [
       "1. 'a'\n",
       "2. 'ai'\n",
       "3. 'b'\n",
       "4. 's1'\n",
       "\n",
       "\n"
      ],
      "text/plain": [
       "[1] \"a\"  \"ai\" \"b\"  \"s1\""
      ]
     },
     "metadata": {},
     "output_type": "display_data"
    }
   ],
   "source": [
    "ls()"
   ]
  },
  {
   "cell_type": "markdown",
   "metadata": {},
   "source": [
    "Ver el tipo de variable, función typeof(x):"
   ]
  },
  {
   "cell_type": "code",
   "execution_count": 30,
   "metadata": {},
   "outputs": [
    {
     "data": {
      "text/html": [
       "'double'"
      ],
      "text/latex": [
       "'double'"
      ],
      "text/markdown": [
       "'double'"
      ],
      "text/plain": [
       "[1] \"double\""
      ]
     },
     "metadata": {},
     "output_type": "display_data"
    }
   ],
   "source": [
    "typeof(a)"
   ]
  },
  {
   "cell_type": "markdown",
   "metadata": {},
   "source": [
    "Para concatenar textos usamos paste(a, b, c, ...)"
   ]
  },
  {
   "cell_type": "code",
   "execution_count": 31,
   "metadata": {},
   "outputs": [
    {
     "data": {
      "text/html": [
       "'El valor de a es 3 . Y el valor de b es 10'"
      ],
      "text/latex": [
       "'El valor de a es 3 . Y el valor de b es 10'"
      ],
      "text/markdown": [
       "'El valor de a es 3 . Y el valor de b es 10'"
      ],
      "text/plain": [
       "[1] \"El valor de a es 3 . Y el valor de b es 10\""
      ]
     },
     "metadata": {},
     "output_type": "display_data"
    }
   ],
   "source": [
    "paste('El valor de a es',a,\". Y el valor de b es\",b)"
   ]
  },
  {
   "cell_type": "markdown",
   "metadata": {},
   "source": [
    "# Tipos de datos"
   ]
  },
  {
   "cell_type": "markdown",
   "metadata": {},
   "source": [
    "## double"
   ]
  },
  {
   "cell_type": "code",
   "execution_count": 34,
   "metadata": {},
   "outputs": [
    {
     "data": {
      "text/html": [
       "'double'"
      ],
      "text/latex": [
       "'double'"
      ],
      "text/markdown": [
       "'double'"
      ],
      "text/plain": [
       "[1] \"double\""
      ]
     },
     "metadata": {},
     "output_type": "display_data"
    }
   ],
   "source": [
    "a<- 2018\n",
    "typeof(a)"
   ]
  },
  {
   "cell_type": "code",
   "execution_count": 36,
   "metadata": {},
   "outputs": [
    {
     "data": {
      "text/html": [
       "2.71828182845905"
      ],
      "text/latex": [
       "2.71828182845905"
      ],
      "text/markdown": [
       "2.71828182845905"
      ],
      "text/plain": [
       "[1] 2.718282"
      ]
     },
     "metadata": {},
     "output_type": "display_data"
    },
    {
     "data": {
      "text/html": [
       "'double'"
      ],
      "text/latex": [
       "'double'"
      ],
      "text/markdown": [
       "'double'"
      ],
      "text/plain": [
       "[1] \"double\""
      ]
     },
     "metadata": {},
     "output_type": "display_data"
    }
   ],
   "source": [
    "b<- exp(1)\n",
    "b\n",
    "typeof(b)"
   ]
  },
  {
   "cell_type": "code",
   "execution_count": 39,
   "metadata": {},
   "outputs": [],
   "source": [
    "?exp"
   ]
  },
  {
   "cell_type": "markdown",
   "metadata": {},
   "source": [
    "## integer"
   ]
  },
  {
   "cell_type": "code",
   "execution_count": 40,
   "metadata": {},
   "outputs": [
    {
     "data": {
      "text/html": [
       "3"
      ],
      "text/latex": [
       "3"
      ],
      "text/markdown": [
       "3"
      ],
      "text/plain": [
       "[1] 3"
      ]
     },
     "metadata": {},
     "output_type": "display_data"
    },
    {
     "data": {
      "text/html": [
       "'integer'"
      ],
      "text/latex": [
       "'integer'"
      ],
      "text/markdown": [
       "'integer'"
      ],
      "text/plain": [
       "[1] \"integer\""
      ]
     },
     "metadata": {},
     "output_type": "display_data"
    }
   ],
   "source": [
    "ai <- as.integer(3.7847)\n",
    "ai\n",
    "typeof(ai)"
   ]
  },
  {
   "cell_type": "markdown",
   "metadata": {},
   "source": [
    "## Diferencias entre  integer y double"
   ]
  },
  {
   "cell_type": "markdown",
   "metadata": {},
   "source": [
    "El número más grande que podemos representar es diferente:"
   ]
  },
  {
   "cell_type": "code",
   "execution_count": 41,
   "metadata": {},
   "outputs": [
    {
     "data": {
      "text/html": [
       "2147483647"
      ],
      "text/latex": [
       "2147483647"
      ],
      "text/markdown": [
       "2147483647"
      ],
      "text/plain": [
       "[1] 2147483647"
      ]
     },
     "metadata": {},
     "output_type": "display_data"
    },
    {
     "data": {
      "text/html": [
       "1.79769313486232e+308"
      ],
      "text/latex": [
       "1.79769313486232e+308"
      ],
      "text/markdown": [
       "1.79769313486232e+308"
      ],
      "text/plain": [
       "[1] 1.797693e+308"
      ]
     },
     "metadata": {},
     "output_type": "display_data"
    }
   ],
   "source": [
    ".Machine$integer.max\n",
    ".Machine$double.xmax"
   ]
  },
  {
   "cell_type": "markdown",
   "metadata": {},
   "source": [
    "El tamaño que ocupan en memoria es:"
   ]
  },
  {
   "cell_type": "code",
   "execution_count": 42,
   "metadata": {},
   "outputs": [
    {
     "data": {
      "text/plain": [
       "56 bytes"
      ]
     },
     "metadata": {},
     "output_type": "display_data"
    },
    {
     "data": {
      "text/plain": [
       "56 bytes"
      ]
     },
     "metadata": {},
     "output_type": "display_data"
    }
   ],
   "source": [
    "object.size(ai)\n",
    "object.size(b)"
   ]
  },
  {
   "cell_type": "markdown",
   "metadata": {},
   "source": [
    "## character"
   ]
  },
  {
   "cell_type": "code",
   "execution_count": 43,
   "metadata": {},
   "outputs": [
    {
     "data": {
      "text/html": [
       "' Halloween '"
      ],
      "text/latex": [
       "' Halloween '"
      ],
      "text/markdown": [
       "' Halloween '"
      ],
      "text/plain": [
       "[1] \" Halloween \""
      ]
     },
     "metadata": {},
     "output_type": "display_data"
    },
    {
     "data": {
      "text/html": [
       "'character'"
      ],
      "text/latex": [
       "'character'"
      ],
      "text/markdown": [
       "'character'"
      ],
      "text/plain": [
       "[1] \"character\""
      ]
     },
     "metadata": {},
     "output_type": "display_data"
    }
   ],
   "source": [
    "s1 <- \" Halloween \"\n",
    "s1\n",
    "typeof(s1)"
   ]
  },
  {
   "cell_type": "markdown",
   "metadata": {},
   "source": [
    "Las cadenas de texto se pueden concatenar usando la función paste(x,y,z...)"
   ]
  },
  {
   "cell_type": "code",
   "execution_count": 47,
   "metadata": {},
   "outputs": [],
   "source": [
    "?paste"
   ]
  },
  {
   "cell_type": "code",
   "execution_count": 45,
   "metadata": {},
   "outputs": [
    {
     "data": {
      "text/html": [
       "<span style=white-space:pre-wrap>' Halloween  calabaza. 2018'</span>"
      ],
      "text/latex": [
       "' Halloween  calabaza. 2018'"
      ],
      "text/markdown": [
       "<span style=white-space:pre-wrap>' Halloween  calabaza. 2018'</span>"
      ],
      "text/plain": [
       "[1] \" Halloween  calabaza. 2018\""
      ]
     },
     "metadata": {},
     "output_type": "display_data"
    }
   ],
   "source": [
    "paste(s1,\"calabaza.\",a)"
   ]
  },
  {
   "cell_type": "code",
   "execution_count": 46,
   "metadata": {},
   "outputs": [
    {
     "data": {
      "text/html": [
       "' Halloween calabaza.2018'"
      ],
      "text/latex": [
       "' Halloween calabaza.2018'"
      ],
      "text/markdown": [
       "' Halloween calabaza.2018'"
      ],
      "text/plain": [
       "[1] \" Halloween calabaza.2018\""
      ]
     },
     "metadata": {},
     "output_type": "display_data"
    }
   ],
   "source": [
    "paste0(s1,\"calabaza.\",a)"
   ]
  },
  {
   "cell_type": "code",
   "execution_count": 48,
   "metadata": {},
   "outputs": [
    {
     "data": {
      "text/html": [
       "' Halloween -|-calabaza.-|-2018'"
      ],
      "text/latex": [
       "' Halloween -\\textbar{}-calabaza.-\\textbar{}-2018'"
      ],
      "text/markdown": [
       "' Halloween -|-calabaza.-|-2018'"
      ],
      "text/plain": [
       "[1] \" Halloween -|-calabaza.-|-2018\""
      ]
     },
     "metadata": {},
     "output_type": "display_data"
    }
   ],
   "source": [
    "paste(s1,\"calabaza.\",a,sep='-|-')"
   ]
  },
  {
   "cell_type": "markdown",
   "metadata": {},
   "source": [
    "## Logical"
   ]
  },
  {
   "cell_type": "code",
   "execution_count": 50,
   "metadata": {},
   "outputs": [
    {
     "data": {
      "text/html": [
       "'El valor de b1 es TRUE'"
      ],
      "text/latex": [
       "'El valor de b1 es TRUE'"
      ],
      "text/markdown": [
       "'El valor de b1 es TRUE'"
      ],
      "text/plain": [
       "[1] \"El valor de b1 es TRUE\""
      ]
     },
     "metadata": {},
     "output_type": "display_data"
    },
    {
     "data": {
      "text/html": [
       "'El valor de b2 es TRUE'"
      ],
      "text/latex": [
       "'El valor de b2 es TRUE'"
      ],
      "text/markdown": [
       "'El valor de b2 es TRUE'"
      ],
      "text/plain": [
       "[1] \"El valor de b2 es TRUE\""
      ]
     },
     "metadata": {},
     "output_type": "display_data"
    },
    {
     "data": {
      "text/html": [
       "'El valor de b3 es FALSE'"
      ],
      "text/latex": [
       "'El valor de b3 es FALSE'"
      ],
      "text/markdown": [
       "'El valor de b3 es FALSE'"
      ],
      "text/plain": [
       "[1] \"El valor de b3 es FALSE\""
      ]
     },
     "metadata": {},
     "output_type": "display_data"
    }
   ],
   "source": [
    "b1 <- TRUE\n",
    "b2 <- T\n",
    "b3 <- FALSE\n",
    "paste(\"El valor de b1 es\",b1)\n",
    "paste(\"El valor de b2 es\",b2)\n",
    "paste(\"El valor de b3 es\",b3)"
   ]
  },
  {
   "cell_type": "markdown",
   "metadata": {},
   "source": [
    "Operaciones lógicas:\n",
    "\n",
    "\n",
    "| A | B |AND|OR |XOR|NOT(A)|\n",
    "|---|---|---|---|---|------|\n",
    "| 0 | 0 | 0 | 0 | 0 |  1   |\n",
    "| 0 | 1 | 0 | 1 | 1 |  1   |\n",
    "| 1 | 0 | 0 | 1 | 1 |  0   |\n",
    "| 1 | 1 | 1 | 1 | 0 |  0   |"
   ]
  },
  {
   "cell_type": "code",
   "execution_count": 51,
   "metadata": {},
   "outputs": [
    {
     "name": "stdout",
     "output_type": "stream",
     "text": [
      "[1] \"b1 AND b3: FALSE\"\n",
      "[1] \"b1 OR  b3: TRUE\"\n",
      "[1] \"b1 XOR b3: TRUE\"\n",
      "[1] \"   NOT b1: FALSE\"\n"
     ]
    }
   ],
   "source": [
    "print(paste(\"b1 AND b3:\",b1 & b3))\n",
    "print(paste(\"b1 OR  b3:\",b1 | b3))\n",
    "print(paste(\"b1 XOR b3:\",xor(b1 ,b3)))\n",
    "print(paste(\"   NOT b1:\",!b1))"
   ]
  },
  {
   "cell_type": "markdown",
   "metadata": {},
   "source": [
    "## Vectores"
   ]
  },
  {
   "cell_type": "markdown",
   "metadata": {},
   "source": [
    "Los vectores se crean con la función c(), todos los elementos de un vector son del mimo tipo. Es decir, no se podrían mezclar caracteres y double."
   ]
  },
  {
   "cell_type": "markdown",
   "metadata": {},
   "source": [
    "En python:\n",
    "\n",
    "   a = [1,2,3,40]\n",
    "   \n",
    "En R:\n",
    "\n",
    "   a = c(1,2,3,40)"
   ]
  },
  {
   "cell_type": "code",
   "execution_count": 53,
   "metadata": {},
   "outputs": [],
   "source": [
    "?c"
   ]
  },
  {
   "cell_type": "code",
   "execution_count": 54,
   "metadata": {},
   "outputs": [
    {
     "name": "stdout",
     "output_type": "stream",
     "text": [
      "[1] \"alturas es una variable de tipo: double\"\n"
     ]
    }
   ],
   "source": [
    "alturas <- c(1.80,1.60,1.50,1.90,1.75,1.63,1.65)\n",
    "print(paste(\"alturas es una variable de tipo:\",typeof(alturas)))"
   ]
  },
  {
   "cell_type": "code",
   "execution_count": 55,
   "metadata": {},
   "outputs": [
    {
     "name": "stdout",
     "output_type": "stream",
     "text": [
      "[1] \"Podemos ver la estructura de un objeto con la función str():\"\n",
      " num [1:7] 1.8 1.6 1.5 1.9 1.75 1.63 1.65\n"
     ]
    }
   ],
   "source": [
    "print(\"Podemos ver la estructura de un objeto con la función str():\")\n",
    "str(alturas)"
   ]
  },
  {
   "cell_type": "code",
   "execution_count": 56,
   "metadata": {},
   "outputs": [
    {
     "data": {
      "text/html": [
       "<style>\n",
       ".list-inline {list-style: none; margin:0; padding: 0}\n",
       ".list-inline>li {display: inline-block}\n",
       ".list-inline>li:not(:last-child)::after {content: \"\\00b7\"; padding: 0 .5ex}\n",
       "</style>\n",
       "<ol class=list-inline><li>'uno'</li><li>'2'</li><li>'tres'</li><li>'14.0'</li></ol>\n"
      ],
      "text/latex": [
       "\\begin{enumerate*}\n",
       "\\item 'uno'\n",
       "\\item '2'\n",
       "\\item 'tres'\n",
       "\\item '14.0'\n",
       "\\end{enumerate*}\n"
      ],
      "text/markdown": [
       "1. 'uno'\n",
       "2. '2'\n",
       "3. 'tres'\n",
       "4. '14.0'\n",
       "\n",
       "\n"
      ],
      "text/plain": [
       "[1] \"uno\"  \"2\"    \"tres\" \"14.0\""
      ]
     },
     "metadata": {},
     "output_type": "display_data"
    }
   ],
   "source": [
    "otroVector <- c(\"uno\",2.0,\"tres\",\"14.0\")\n",
    "otroVector"
   ]
  },
  {
   "cell_type": "code",
   "execution_count": 57,
   "metadata": {},
   "outputs": [
    {
     "name": "stdout",
     "output_type": "stream",
     "text": [
      " chr [1:4] \"uno\" \"2\" \"tres\" \"14.0\"\n"
     ]
    }
   ],
   "source": [
    "str(otroVector)"
   ]
  },
  {
   "cell_type": "code",
   "execution_count": 58,
   "metadata": {},
   "outputs": [
    {
     "data": {
      "text/html": [
       "<style>\n",
       ".list-inline {list-style: none; margin:0; padding: 0}\n",
       ".list-inline>li {display: inline-block}\n",
       ".list-inline>li:not(:last-child)::after {content: \"\\00b7\"; padding: 0 .5ex}\n",
       "</style>\n",
       "<ol class=list-inline><li>FALSE</li><li>TRUE</li><li>FALSE</li><li>FALSE</li></ol>\n"
      ],
      "text/latex": [
       "\\begin{enumerate*}\n",
       "\\item FALSE\n",
       "\\item TRUE\n",
       "\\item FALSE\n",
       "\\item FALSE\n",
       "\\end{enumerate*}\n"
      ],
      "text/markdown": [
       "1. FALSE\n",
       "2. TRUE\n",
       "3. FALSE\n",
       "4. FALSE\n",
       "\n",
       "\n"
      ],
      "text/plain": [
       "[1] FALSE  TRUE FALSE FALSE"
      ]
     },
     "metadata": {},
     "output_type": "display_data"
    }
   ],
   "source": [
    "otroVector==2"
   ]
  },
  {
   "cell_type": "markdown",
   "metadata": {},
   "source": [
    "### Acceso a elementos"
   ]
  },
  {
   "cell_type": "code",
   "execution_count": 60,
   "metadata": {},
   "outputs": [
    {
     "data": {
      "text/html": [
       "<style>\n",
       ".list-inline {list-style: none; margin:0; padding: 0}\n",
       ".list-inline>li {display: inline-block}\n",
       ".list-inline>li:not(:last-child)::after {content: \"\\00b7\"; padding: 0 .5ex}\n",
       "</style>\n",
       "<ol class=list-inline><li>1.8</li><li>1.6</li><li>1.5</li><li>1.9</li><li>1.75</li><li>1.63</li><li>1.65</li></ol>\n"
      ],
      "text/latex": [
       "\\begin{enumerate*}\n",
       "\\item 1.8\n",
       "\\item 1.6\n",
       "\\item 1.5\n",
       "\\item 1.9\n",
       "\\item 1.75\n",
       "\\item 1.63\n",
       "\\item 1.65\n",
       "\\end{enumerate*}\n"
      ],
      "text/markdown": [
       "1. 1.8\n",
       "2. 1.6\n",
       "3. 1.5\n",
       "4. 1.9\n",
       "5. 1.75\n",
       "6. 1.63\n",
       "7. 1.65\n",
       "\n",
       "\n"
      ],
      "text/plain": [
       "[1] 1.80 1.60 1.50 1.90 1.75 1.63 1.65"
      ]
     },
     "metadata": {},
     "output_type": "display_data"
    }
   ],
   "source": [
    "alturas"
   ]
  },
  {
   "cell_type": "code",
   "execution_count": 64,
   "metadata": {},
   "outputs": [
    {
     "name": "stdout",
     "output_type": "stream",
     "text": [
      "[1] \"El valor del tercer elemento es: 1.6\"\n"
     ]
    }
   ],
   "source": [
    "print(paste(\"El valor del tercer elemento es:\",alturas[2]))"
   ]
  },
  {
   "cell_type": "markdown",
   "metadata": {},
   "source": [
    "**¡¡En R los arrays empiezan en 1!!**\n",
    "![Imagen no cargada. Edita y borra la @ ](https://i.redd.it/iwnqgrrbls5z.png )"
   ]
  },
  {
   "cell_type": "markdown",
   "metadata": {},
   "source": [
    "Podemos dar nombres a cada elemento"
   ]
  },
  {
   "cell_type": "code",
   "execution_count": 65,
   "metadata": {},
   "outputs": [],
   "source": [
    "myVector <- c(nombre=\"Philip\", apellido=\"García\", teléfono=600100100)"
   ]
  },
  {
   "cell_type": "code",
   "execution_count": 66,
   "metadata": {},
   "outputs": [
    {
     "data": {
      "text/html": [
       "<style>\n",
       ".dl-inline {width: auto; margin:0; padding: 0}\n",
       ".dl-inline>dt, .dl-inline>dd {float: none; width: auto; display: inline-block}\n",
       ".dl-inline>dt::after {content: \":\\0020\"; padding-right: .5ex}\n",
       ".dl-inline>dt:not(:first-of-type) {padding-left: .5ex}\n",
       "</style><dl class=dl-inline><dt>nombre</dt><dd>'Philip'</dd><dt>apellido</dt><dd>'García'</dd><dt>teléfono</dt><dd>'600100100'</dd></dl>\n"
      ],
      "text/latex": [
       "\\begin{description*}\n",
       "\\item[nombre] 'Philip'\n",
       "\\item[apellido] 'García'\n",
       "\\item[teléfono] '600100100'\n",
       "\\end{description*}\n"
      ],
      "text/markdown": [
       "nombre\n",
       ":   'Philip'apellido\n",
       ":   'García'teléfono\n",
       ":   '600100100'\n",
       "\n"
      ],
      "text/plain": [
       "     nombre    apellido    teléfono \n",
       "   \"Philip\"    \"García\" \"600100100\" "
      ]
     },
     "metadata": {},
     "output_type": "display_data"
    }
   ],
   "source": [
    "myVector"
   ]
  },
  {
   "cell_type": "code",
   "execution_count": 67,
   "metadata": {},
   "outputs": [
    {
     "data": {
      "text/html": [
       "<strong>nombre:</strong> 'Philip'"
      ],
      "text/latex": [
       "\\textbf{nombre:} 'Philip'"
      ],
      "text/markdown": [
       "**nombre:** 'Philip'"
      ],
      "text/plain": [
       "  nombre \n",
       "\"Philip\" "
      ]
     },
     "metadata": {},
     "output_type": "display_data"
    }
   ],
   "source": [
    "myVector[\"nombre\"]"
   ]
  },
  {
   "cell_type": "code",
   "execution_count": 68,
   "metadata": {},
   "outputs": [
    {
     "data": {
      "text/html": [
       "<strong>apellido:</strong> 'García'"
      ],
      "text/latex": [
       "\\textbf{apellido:} 'García'"
      ],
      "text/markdown": [
       "**apellido:** 'García'"
      ],
      "text/plain": [
       "apellido \n",
       "\"García\" "
      ]
     },
     "metadata": {},
     "output_type": "display_data"
    }
   ],
   "source": [
    "myVector[2]"
   ]
  },
  {
   "cell_type": "code",
   "execution_count": 69,
   "metadata": {},
   "outputs": [
    {
     "data": {
      "text/html": [
       "<strong>teléfono:</strong> '600100100'"
      ],
      "text/latex": [
       "\\textbf{teléfono:} '600100100'"
      ],
      "text/markdown": [
       "**teléfono:** '600100100'"
      ],
      "text/plain": [
       "   teléfono \n",
       "\"600100100\" "
      ]
     },
     "metadata": {},
     "output_type": "display_data"
    }
   ],
   "source": [
    "myVector[\"teléfono\"]"
   ]
  },
  {
   "cell_type": "code",
   "execution_count": 70,
   "metadata": {},
   "outputs": [
    {
     "data": {
      "text/html": [
       "<style>\n",
       ".list-inline {list-style: none; margin:0; padding: 0}\n",
       ".list-inline>li {display: inline-block}\n",
       ".list-inline>li:not(:last-child)::after {content: \"\\00b7\"; padding: 0 .5ex}\n",
       "</style>\n",
       "<ol class=list-inline><li>'nombre'</li><li>'apellido'</li><li>'teléfono'</li></ol>\n"
      ],
      "text/latex": [
       "\\begin{enumerate*}\n",
       "\\item 'nombre'\n",
       "\\item 'apellido'\n",
       "\\item 'teléfono'\n",
       "\\end{enumerate*}\n"
      ],
      "text/markdown": [
       "1. 'nombre'\n",
       "2. 'apellido'\n",
       "3. 'teléfono'\n",
       "\n",
       "\n"
      ],
      "text/plain": [
       "[1] \"nombre\"   \"apellido\" \"teléfono\""
      ]
     },
     "metadata": {},
     "output_type": "display_data"
    }
   ],
   "source": [
    "#Los nombres de una variable se pueden ver con la función names()\n",
    "names(myVector)"
   ]
  },
  {
   "cell_type": "code",
   "execution_count": 71,
   "metadata": {},
   "outputs": [
    {
     "data": {
      "text/html": [
       "<strong>apellido:</strong> 'García'"
      ],
      "text/latex": [
       "\\textbf{apellido:} 'García'"
      ],
      "text/markdown": [
       "**apellido:** 'García'"
      ],
      "text/plain": [
       "apellido \n",
       "\"García\" "
      ]
     },
     "metadata": {},
     "output_type": "display_data"
    }
   ],
   "source": [
    "myVector['apellido']"
   ]
  },
  {
   "cell_type": "code",
   "execution_count": 73,
   "metadata": {},
   "outputs": [],
   "source": [
    "names(myVector) <- c(\"nombre_actualizado\",\"apellido_actualizado\", \"telefono_actualizado\")"
   ]
  },
  {
   "cell_type": "code",
   "execution_count": 74,
   "metadata": {},
   "outputs": [
    {
     "data": {
      "text/html": [
       "<style>\n",
       ".dl-inline {width: auto; margin:0; padding: 0}\n",
       ".dl-inline>dt, .dl-inline>dd {float: none; width: auto; display: inline-block}\n",
       ".dl-inline>dt::after {content: \":\\0020\"; padding-right: .5ex}\n",
       ".dl-inline>dt:not(:first-of-type) {padding-left: .5ex}\n",
       "</style><dl class=dl-inline><dt>nombre_actualizado</dt><dd>'Philip'</dd><dt>apellido_actualizado</dt><dd>'García'</dd><dt>telefono_actualizado</dt><dd>'600100100'</dd></dl>\n"
      ],
      "text/latex": [
       "\\begin{description*}\n",
       "\\item[nombre\\textbackslash{}\\_actualizado] 'Philip'\n",
       "\\item[apellido\\textbackslash{}\\_actualizado] 'García'\n",
       "\\item[telefono\\textbackslash{}\\_actualizado] '600100100'\n",
       "\\end{description*}\n"
      ],
      "text/markdown": [
       "nombre_actualizado\n",
       ":   'Philip'apellido_actualizado\n",
       ":   'García'telefono_actualizado\n",
       ":   '600100100'\n",
       "\n"
      ],
      "text/plain": [
       "  nombre_actualizado apellido_actualizado telefono_actualizado \n",
       "            \"Philip\"             \"García\"          \"600100100\" "
      ]
     },
     "metadata": {},
     "output_type": "display_data"
    }
   ],
   "source": [
    "myVector"
   ]
  },
  {
   "cell_type": "markdown",
   "metadata": {},
   "source": [
    "### Operaciones con vectores"
   ]
  },
  {
   "cell_type": "markdown",
   "metadata": {},
   "source": [
    "Al operar contra una variable se aplica esa operación a todos los elementos del vector"
   ]
  },
  {
   "cell_type": "code",
   "execution_count": 75,
   "metadata": {},
   "outputs": [
    {
     "data": {
      "text/html": [
       "<style>\n",
       ".list-inline {list-style: none; margin:0; padding: 0}\n",
       ".list-inline>li {display: inline-block}\n",
       ".list-inline>li:not(:last-child)::after {content: \"\\00b7\"; padding: 0 .5ex}\n",
       "</style>\n",
       "<ol class=list-inline><li>5.905512</li><li>5.249344</li><li>4.92126</li><li>6.233596</li><li>5.74147</li><li>5.3477692</li><li>5.413386</li></ol>\n"
      ],
      "text/latex": [
       "\\begin{enumerate*}\n",
       "\\item 5.905512\n",
       "\\item 5.249344\n",
       "\\item 4.92126\n",
       "\\item 6.233596\n",
       "\\item 5.74147\n",
       "\\item 5.3477692\n",
       "\\item 5.413386\n",
       "\\end{enumerate*}\n"
      ],
      "text/markdown": [
       "1. 5.905512\n",
       "2. 5.249344\n",
       "3. 4.92126\n",
       "4. 6.233596\n",
       "5. 5.74147\n",
       "6. 5.3477692\n",
       "7. 5.413386\n",
       "\n",
       "\n"
      ],
      "text/plain": [
       "[1] 5.905512 5.249344 4.921260 6.233596 5.741470 5.347769 5.413386"
      ]
     },
     "metadata": {},
     "output_type": "display_data"
    }
   ],
   "source": [
    "metro2pie <- 3.28084\n",
    "alturasEnPies <- alturas * metro2pie\n",
    "alturasEnPies"
   ]
  },
  {
   "cell_type": "markdown",
   "metadata": {},
   "source": [
    "Si se opera con dos vectores de la misma longitud se aplica elemento a elemento."
   ]
  },
  {
   "cell_type": "code",
   "execution_count": 81,
   "metadata": {},
   "outputs": [
    {
     "data": {
      "text/html": [
       "<style>\n",
       ".list-inline {list-style: none; margin:0; padding: 0}\n",
       ".list-inline>li {display: inline-block}\n",
       ".list-inline>li:not(:last-child)::after {content: \"\\00b7\"; padding: 0 .5ex}\n",
       "</style>\n",
       "<ol class=list-inline><li>1.8</li><li>1.6</li><li>1.5</li><li>1.9</li><li>1.75</li><li>1.63</li><li>1.65</li></ol>\n"
      ],
      "text/latex": [
       "\\begin{enumerate*}\n",
       "\\item 1.8\n",
       "\\item 1.6\n",
       "\\item 1.5\n",
       "\\item 1.9\n",
       "\\item 1.75\n",
       "\\item 1.63\n",
       "\\item 1.65\n",
       "\\end{enumerate*}\n"
      ],
      "text/markdown": [
       "1. 1.8\n",
       "2. 1.6\n",
       "3. 1.5\n",
       "4. 1.9\n",
       "5. 1.75\n",
       "6. 1.63\n",
       "7. 1.65\n",
       "\n",
       "\n"
      ],
      "text/plain": [
       "[1] 1.80 1.60 1.50 1.90 1.75 1.63 1.65"
      ]
     },
     "metadata": {},
     "output_type": "display_data"
    }
   ],
   "source": [
    "alturas"
   ]
  },
  {
   "cell_type": "code",
   "execution_count": 83,
   "metadata": {},
   "outputs": [
    {
     "data": {
      "text/html": [
       "<style>\n",
       ".list-inline {list-style: none; margin:0; padding: 0}\n",
       ".list-inline>li {display: inline-block}\n",
       ".list-inline>li:not(:last-child)::after {content: \"\\00b7\"; padding: 0 .5ex}\n",
       "</style>\n",
       "<ol class=list-inline><li>1.78</li><li>1.6</li><li>1.49</li><li>1.87</li><li>1.7</li><li>1.56</li><li>1.65</li></ol>\n"
      ],
      "text/latex": [
       "\\begin{enumerate*}\n",
       "\\item 1.78\n",
       "\\item 1.6\n",
       "\\item 1.49\n",
       "\\item 1.87\n",
       "\\item 1.7\n",
       "\\item 1.56\n",
       "\\item 1.65\n",
       "\\end{enumerate*}\n"
      ],
      "text/markdown": [
       "1. 1.78\n",
       "2. 1.6\n",
       "3. 1.49\n",
       "4. 1.87\n",
       "5. 1.7\n",
       "6. 1.56\n",
       "7. 1.65\n",
       "\n",
       "\n"
      ],
      "text/plain": [
       "[1] 1.78 1.60 1.49 1.87 1.70 1.56 1.65"
      ]
     },
     "metadata": {},
     "output_type": "display_data"
    }
   ],
   "source": [
    "alturaDeLosZapatos <- c(2,0,1,3,5,7,0)/100\n",
    "alturaReal <- alturas-alturaDeLosZapatos\n",
    "alturaReal"
   ]
  },
  {
   "cell_type": "markdown",
   "metadata": {},
   "source": [
    "Se puede operar con vectores de tamaños diferentes, en este caso el vector más pequeño se replica"
   ]
  },
  {
   "cell_type": "code",
   "execution_count": 84,
   "metadata": {},
   "outputs": [
    {
     "name": "stderr",
     "output_type": "stream",
     "text": [
      "Warning message in alturas * c(1, 0):\n",
      "“longer object length is not a multiple of shorter object length”\n"
     ]
    },
    {
     "data": {
      "text/html": [
       "<style>\n",
       ".list-inline {list-style: none; margin:0; padding: 0}\n",
       ".list-inline>li {display: inline-block}\n",
       ".list-inline>li:not(:last-child)::after {content: \"\\00b7\"; padding: 0 .5ex}\n",
       "</style>\n",
       "<ol class=list-inline><li>1.8</li><li>0</li><li>1.5</li><li>0</li><li>1.75</li><li>0</li><li>1.65</li></ol>\n"
      ],
      "text/latex": [
       "\\begin{enumerate*}\n",
       "\\item 1.8\n",
       "\\item 0\n",
       "\\item 1.5\n",
       "\\item 0\n",
       "\\item 1.75\n",
       "\\item 0\n",
       "\\item 1.65\n",
       "\\end{enumerate*}\n"
      ],
      "text/markdown": [
       "1. 1.8\n",
       "2. 0\n",
       "3. 1.5\n",
       "4. 0\n",
       "5. 1.75\n",
       "6. 0\n",
       "7. 1.65\n",
       "\n",
       "\n"
      ],
      "text/plain": [
       "[1] 1.80 0.00 1.50 0.00 1.75 0.00 1.65"
      ]
     },
     "metadata": {},
     "output_type": "display_data"
    }
   ],
   "source": [
    "alturas*c(1,0)"
   ]
  },
  {
   "cell_type": "markdown",
   "metadata": {},
   "source": [
    "Concatenar vectores"
   ]
  },
  {
   "cell_type": "code",
   "execution_count": 85,
   "metadata": {},
   "outputs": [
    {
     "data": {
      "text/html": [
       "<style>\n",
       ".list-inline {list-style: none; margin:0; padding: 0}\n",
       ".list-inline>li {display: inline-block}\n",
       ".list-inline>li:not(:last-child)::after {content: \"\\00b7\"; padding: 0 .5ex}\n",
       "</style>\n",
       "<ol class=list-inline><li>1.8</li><li>1.6</li><li>1.5</li><li>1.9</li><li>1.75</li><li>1.63</li><li>1.65</li><li>2</li><li>1.8</li><li>17</li></ol>\n"
      ],
      "text/latex": [
       "\\begin{enumerate*}\n",
       "\\item 1.8\n",
       "\\item 1.6\n",
       "\\item 1.5\n",
       "\\item 1.9\n",
       "\\item 1.75\n",
       "\\item 1.63\n",
       "\\item 1.65\n",
       "\\item 2\n",
       "\\item 1.8\n",
       "\\item 17\n",
       "\\end{enumerate*}\n"
      ],
      "text/markdown": [
       "1. 1.8\n",
       "2. 1.6\n",
       "3. 1.5\n",
       "4. 1.9\n",
       "5. 1.75\n",
       "6. 1.63\n",
       "7. 1.65\n",
       "8. 2\n",
       "9. 1.8\n",
       "10. 17\n",
       "\n",
       "\n"
      ],
      "text/plain": [
       " [1]  1.80  1.60  1.50  1.90  1.75  1.63  1.65  2.00  1.80 17.00"
      ]
     },
     "metadata": {},
     "output_type": "display_data"
    }
   ],
   "source": [
    "c(alturas,2,1.8,17)"
   ]
  },
  {
   "cell_type": "markdown",
   "metadata": {},
   "source": [
    "Longitud de un vector se obtiene con la función length()"
   ]
  },
  {
   "cell_type": "code",
   "execution_count": 86,
   "metadata": {},
   "outputs": [
    {
     "data": {
      "text/html": [
       "7"
      ],
      "text/latex": [
       "7"
      ],
      "text/markdown": [
       "7"
      ],
      "text/plain": [
       "[1] 7"
      ]
     },
     "metadata": {},
     "output_type": "display_data"
    }
   ],
   "source": [
    "length(alturas)"
   ]
  },
  {
   "cell_type": "markdown",
   "metadata": {},
   "source": [
    "La estructura de la variable se puede ver con la función str()"
   ]
  },
  {
   "cell_type": "code",
   "execution_count": 87,
   "metadata": {},
   "outputs": [
    {
     "name": "stdout",
     "output_type": "stream",
     "text": [
      " num [1:7] 1.8 1.6 1.5 1.9 1.75 1.63 1.65\n"
     ]
    }
   ],
   "source": [
    "str(alturas)"
   ]
  },
  {
   "cell_type": "code",
   "execution_count": 91,
   "metadata": {},
   "outputs": [
    {
     "data": {
      "text/html": [
       "<style>\n",
       ".list-inline {list-style: none; margin:0; padding: 0}\n",
       ".list-inline>li {display: inline-block}\n",
       ".list-inline>li:not(:last-child)::after {content: \"\\00b7\"; padding: 0 .5ex}\n",
       "</style>\n",
       "<ol class=list-inline><li>1.8</li><li>1.6</li><li>1.5</li><li>1.9</li><li>1.75</li><li>1.73</li><li>1.65</li></ol>\n"
      ],
      "text/latex": [
       "\\begin{enumerate*}\n",
       "\\item 1.8\n",
       "\\item 1.6\n",
       "\\item 1.5\n",
       "\\item 1.9\n",
       "\\item 1.75\n",
       "\\item 1.73\n",
       "\\item 1.65\n",
       "\\end{enumerate*}\n"
      ],
      "text/markdown": [
       "1. 1.8\n",
       "2. 1.6\n",
       "3. 1.5\n",
       "4. 1.9\n",
       "5. 1.75\n",
       "6. 1.73\n",
       "7. 1.65\n",
       "\n",
       "\n"
      ],
      "text/plain": [
       "[1] 1.80 1.60 1.50 1.90 1.75 1.73 1.65"
      ]
     },
     "metadata": {},
     "output_type": "display_data"
    }
   ],
   "source": [
    "alturas[6] <- 1.73\n",
    "alturas"
   ]
  },
  {
   "cell_type": "code",
   "execution_count": 92,
   "metadata": {},
   "outputs": [],
   "source": [
    "alturas[18] <- 1.9"
   ]
  },
  {
   "cell_type": "code",
   "execution_count": 93,
   "metadata": {},
   "outputs": [
    {
     "data": {
      "text/html": [
       "<style>\n",
       ".list-inline {list-style: none; margin:0; padding: 0}\n",
       ".list-inline>li {display: inline-block}\n",
       ".list-inline>li:not(:last-child)::after {content: \"\\00b7\"; padding: 0 .5ex}\n",
       "</style>\n",
       "<ol class=list-inline><li>1.8</li><li>1.6</li><li>1.5</li><li>1.9</li><li>1.75</li><li>1.73</li><li>1.65</li><li>&lt;NA&gt;</li><li>&lt;NA&gt;</li><li>&lt;NA&gt;</li><li>&lt;NA&gt;</li><li>&lt;NA&gt;</li><li>&lt;NA&gt;</li><li>&lt;NA&gt;</li><li>&lt;NA&gt;</li><li>&lt;NA&gt;</li><li>&lt;NA&gt;</li><li>1.9</li></ol>\n"
      ],
      "text/latex": [
       "\\begin{enumerate*}\n",
       "\\item 1.8\n",
       "\\item 1.6\n",
       "\\item 1.5\n",
       "\\item 1.9\n",
       "\\item 1.75\n",
       "\\item 1.73\n",
       "\\item 1.65\n",
       "\\item <NA>\n",
       "\\item <NA>\n",
       "\\item <NA>\n",
       "\\item <NA>\n",
       "\\item <NA>\n",
       "\\item <NA>\n",
       "\\item <NA>\n",
       "\\item <NA>\n",
       "\\item <NA>\n",
       "\\item <NA>\n",
       "\\item 1.9\n",
       "\\end{enumerate*}\n"
      ],
      "text/markdown": [
       "1. 1.8\n",
       "2. 1.6\n",
       "3. 1.5\n",
       "4. 1.9\n",
       "5. 1.75\n",
       "6. 1.73\n",
       "7. 1.65\n",
       "8. &lt;NA&gt;\n",
       "9. &lt;NA&gt;\n",
       "10. &lt;NA&gt;\n",
       "11. &lt;NA&gt;\n",
       "12. &lt;NA&gt;\n",
       "13. &lt;NA&gt;\n",
       "14. &lt;NA&gt;\n",
       "15. &lt;NA&gt;\n",
       "16. &lt;NA&gt;\n",
       "17. &lt;NA&gt;\n",
       "18. 1.9\n",
       "\n",
       "\n"
      ],
      "text/plain": [
       " [1] 1.80 1.60 1.50 1.90 1.75 1.73 1.65   NA   NA   NA   NA   NA   NA   NA   NA\n",
       "[16]   NA   NA 1.90"
      ]
     },
     "metadata": {},
     "output_type": "display_data"
    }
   ],
   "source": [
    "alturas"
   ]
  },
  {
   "cell_type": "code",
   "execution_count": 94,
   "metadata": {},
   "outputs": [
    {
     "data": {
      "text/html": [
       "18"
      ],
      "text/latex": [
       "18"
      ],
      "text/markdown": [
       "18"
      ],
      "text/plain": [
       "[1] 18"
      ]
     },
     "metadata": {},
     "output_type": "display_data"
    }
   ],
   "source": [
    "length(alturas)"
   ]
  },
  {
   "cell_type": "markdown",
   "metadata": {},
   "source": [
    "## Listas"
   ]
  },
  {
   "cell_type": "markdown",
   "metadata": {},
   "source": [
    "Las listas se pueden considerar como vectores que pueden almacenar cualquier tipo de dato."
   ]
  },
  {
   "cell_type": "code",
   "execution_count": 95,
   "metadata": {},
   "outputs": [
    {
     "data": {
      "text/html": [
       "<style>\n",
       ".list-inline {list-style: none; margin:0; padding: 0}\n",
       ".list-inline>li {display: inline-block}\n",
       ".list-inline>li:not(:last-child)::after {content: \"\\00b7\"; padding: 0 .5ex}\n",
       "</style>\n",
       "<ol class=list-inline><li>'1'</li><li>'3'</li><li>'catorce'</li><li>'panama'</li></ol>\n"
      ],
      "text/latex": [
       "\\begin{enumerate*}\n",
       "\\item '1'\n",
       "\\item '3'\n",
       "\\item 'catorce'\n",
       "\\item 'panama'\n",
       "\\end{enumerate*}\n"
      ],
      "text/markdown": [
       "1. '1'\n",
       "2. '3'\n",
       "3. 'catorce'\n",
       "4. 'panama'\n",
       "\n",
       "\n"
      ],
      "text/plain": [
       "[1] \"1\"       \"3\"       \"catorce\" \"panama\" "
      ]
     },
     "metadata": {},
     "output_type": "display_data"
    }
   ],
   "source": [
    "c(1,3,\"catorce\",\"panama\")"
   ]
  },
  {
   "cell_type": "code",
   "execution_count": 96,
   "metadata": {},
   "outputs": [
    {
     "name": "stdout",
     "output_type": "stream",
     "text": [
      "List of 4\n",
      " $ : num 1\n",
      " $ : num 3\n",
      " $ : chr \"catorce\"\n",
      " $ : chr \"panama\"\n"
     ]
    }
   ],
   "source": [
    "myList<-list(1,3,\"catorce\",\"panama\")\n",
    "str(myList)"
   ]
  },
  {
   "cell_type": "code",
   "execution_count": 97,
   "metadata": {},
   "outputs": [
    {
     "data": {
      "text/html": [
       "<ol>\n",
       "\t<li>1</li>\n",
       "\t<li>3</li>\n",
       "\t<li>'catorce'</li>\n",
       "\t<li>'panama'</li>\n",
       "</ol>\n"
      ],
      "text/latex": [
       "\\begin{enumerate}\n",
       "\\item 1\n",
       "\\item 3\n",
       "\\item 'catorce'\n",
       "\\item 'panama'\n",
       "\\end{enumerate}\n"
      ],
      "text/markdown": [
       "1. 1\n",
       "2. 3\n",
       "3. 'catorce'\n",
       "4. 'panama'\n",
       "\n",
       "\n"
      ],
      "text/plain": [
       "[[1]]\n",
       "[1] 1\n",
       "\n",
       "[[2]]\n",
       "[1] 3\n",
       "\n",
       "[[3]]\n",
       "[1] \"catorce\"\n",
       "\n",
       "[[4]]\n",
       "[1] \"panama\"\n"
      ]
     },
     "metadata": {},
     "output_type": "display_data"
    }
   ],
   "source": [
    "myList"
   ]
  },
  {
   "cell_type": "markdown",
   "metadata": {},
   "source": [
    "Podemos asignar un nombre a cada valor"
   ]
  },
  {
   "cell_type": "code",
   "execution_count": 98,
   "metadata": {},
   "outputs": [
    {
     "data": {
      "text/html": [
       "<dl>\n",
       "\t<dt>$nombre</dt>\n",
       "\t\t<dd>'Philip'</dd>\n",
       "\t<dt>$apellido</dt>\n",
       "\t\t<dd>'García'</dd>\n",
       "\t<dt>$teléfono</dt>\n",
       "\t\t<dd>600100100</dd>\n",
       "</dl>\n"
      ],
      "text/latex": [
       "\\begin{description}\n",
       "\\item[\\$nombre] 'Philip'\n",
       "\\item[\\$apellido] 'García'\n",
       "\\item[\\$teléfono] 600100100\n",
       "\\end{description}\n"
      ],
      "text/markdown": [
       "$nombre\n",
       ":   'Philip'\n",
       "$apellido\n",
       ":   'García'\n",
       "$teléfono\n",
       ":   600100100\n",
       "\n",
       "\n"
      ],
      "text/plain": [
       "$nombre\n",
       "[1] \"Philip\"\n",
       "\n",
       "$apellido\n",
       "[1] \"García\"\n",
       "\n",
       "$teléfono\n",
       "[1] 600100100\n"
      ]
     },
     "metadata": {},
     "output_type": "display_data"
    }
   ],
   "source": [
    "datosPersonales<-list(nombre=\"Philip\",\n",
    "                   apellido=\"García\",\n",
    "                   teléfono=600100100)\n",
    "datosPersonales"
   ]
  },
  {
   "cell_type": "markdown",
   "metadata": {},
   "source": [
    "### Acceso a elementos"
   ]
  },
  {
   "cell_type": "markdown",
   "metadata": {},
   "source": [
    "Podemos acceder a los distintos elementos utilizando su índice o nombre:"
   ]
  },
  {
   "cell_type": "code",
   "execution_count": 101,
   "metadata": {},
   "outputs": [
    {
     "data": {
      "text/html": [
       "<strong>$nombre</strong> = 'Philip'"
      ],
      "text/latex": [
       "\\textbf{\\$nombre} = 'Philip'"
      ],
      "text/markdown": [
       "**$nombre** = 'Philip'"
      ],
      "text/plain": [
       "$nombre\n",
       "[1] \"Philip\"\n"
      ]
     },
     "metadata": {},
     "output_type": "display_data"
    }
   ],
   "source": [
    "datosPersonales[1]"
   ]
  },
  {
   "cell_type": "code",
   "execution_count": 102,
   "metadata": {},
   "outputs": [
    {
     "name": "stdout",
     "output_type": "stream",
     "text": [
      "List of 1\n",
      " $ nombre: chr \"Philip\"\n"
     ]
    }
   ],
   "source": [
    "str(datosPersonales[1])"
   ]
  },
  {
   "cell_type": "code",
   "execution_count": 104,
   "metadata": {},
   "outputs": [
    {
     "data": {
      "text/html": [
       "'Philip'"
      ],
      "text/latex": [
       "'Philip'"
      ],
      "text/markdown": [
       "'Philip'"
      ],
      "text/plain": [
       "[1] \"Philip\""
      ]
     },
     "metadata": {},
     "output_type": "display_data"
    },
    {
     "name": "stdout",
     "output_type": "stream",
     "text": [
      " chr \"Philip\"\n"
     ]
    }
   ],
   "source": [
    "datosPersonales[[1]]\n",
    "str(datosPersonales[[1]])"
   ]
  },
  {
   "cell_type": "code",
   "execution_count": 107,
   "metadata": {},
   "outputs": [
    {
     "data": {
      "text/html": [
       "'Philip'"
      ],
      "text/latex": [
       "'Philip'"
      ],
      "text/markdown": [
       "'Philip'"
      ],
      "text/plain": [
       "[1] \"Philip\""
      ]
     },
     "metadata": {},
     "output_type": "display_data"
    }
   ],
   "source": [
    "datosPersonales[[\"nombre\"]]"
   ]
  },
  {
   "cell_type": "code",
   "execution_count": 108,
   "metadata": {},
   "outputs": [
    {
     "data": {
      "text/html": [
       "'Philip'"
      ],
      "text/latex": [
       "'Philip'"
      ],
      "text/markdown": [
       "'Philip'"
      ],
      "text/plain": [
       "[1] \"Philip\""
      ]
     },
     "metadata": {},
     "output_type": "display_data"
    }
   ],
   "source": [
    "datosPersonales$nombre"
   ]
  },
  {
   "cell_type": "code",
   "execution_count": 109,
   "metadata": {},
   "outputs": [
    {
     "data": {
      "text/html": [
       "600100100"
      ],
      "text/latex": [
       "600100100"
      ],
      "text/markdown": [
       "600100100"
      ],
      "text/plain": [
       "[1] 600100100"
      ]
     },
     "metadata": {},
     "output_type": "display_data"
    }
   ],
   "source": [
    "datosPersonales$`teléfono`"
   ]
  },
  {
   "cell_type": "code",
   "execution_count": 110,
   "metadata": {},
   "outputs": [
    {
     "data": {
      "text/html": [
       "TRUE"
      ],
      "text/latex": [
       "TRUE"
      ],
      "text/markdown": [
       "TRUE"
      ],
      "text/plain": [
       "[1] TRUE"
      ]
     },
     "metadata": {},
     "output_type": "display_data"
    }
   ],
   "source": [
    "is.null(datosPersonales[[\"direccion\"]])"
   ]
  },
  {
   "cell_type": "code",
   "execution_count": 113,
   "metadata": {},
   "outputs": [
    {
     "data": {
      "text/plain": [
       "NULL"
      ]
     },
     "metadata": {},
     "output_type": "display_data"
    }
   ],
   "source": [
    "datosPersonales[[\"direccion\"]]"
   ]
  },
  {
   "cell_type": "code",
   "execution_count": 114,
   "metadata": {},
   "outputs": [
    {
     "data": {
      "text/html": [
       "<style>\n",
       ".list-inline {list-style: none; margin:0; padding: 0}\n",
       ".list-inline>li {display: inline-block}\n",
       ".list-inline>li:not(:last-child)::after {content: \"\\00b7\"; padding: 0 .5ex}\n",
       "</style>\n",
       "<ol class=list-inline><li>'nombre'</li><li>'apellido'</li><li>'teléfono'</li></ol>\n"
      ],
      "text/latex": [
       "\\begin{enumerate*}\n",
       "\\item 'nombre'\n",
       "\\item 'apellido'\n",
       "\\item 'teléfono'\n",
       "\\end{enumerate*}\n"
      ],
      "text/markdown": [
       "1. 'nombre'\n",
       "2. 'apellido'\n",
       "3. 'teléfono'\n",
       "\n",
       "\n"
      ],
      "text/plain": [
       "[1] \"nombre\"   \"apellido\" \"teléfono\""
      ]
     },
     "metadata": {},
     "output_type": "display_data"
    }
   ],
   "source": [
    "names(datosPersonales)"
   ]
  },
  {
   "cell_type": "code",
   "execution_count": 115,
   "metadata": {},
   "outputs": [
    {
     "data": {
      "text/html": [
       "<dl>\n",
       "\t<dt>$ciudad</dt>\n",
       "\t\t<dd>'Madrid'</dd>\n",
       "\t<dt>$calle</dt>\n",
       "\t\t<dd>'Desengaño'</dd>\n",
       "\t<dt>$numero</dt>\n",
       "\t\t<dd>21</dd>\n",
       "</dl>\n"
      ],
      "text/latex": [
       "\\begin{description}\n",
       "\\item[\\$ciudad] 'Madrid'\n",
       "\\item[\\$calle] 'Desengaño'\n",
       "\\item[\\$numero] 21\n",
       "\\end{description}\n"
      ],
      "text/markdown": [
       "$ciudad\n",
       ":   'Madrid'\n",
       "$calle\n",
       ":   'Desengaño'\n",
       "$numero\n",
       ":   21\n",
       "\n",
       "\n"
      ],
      "text/plain": [
       "$ciudad\n",
       "[1] \"Madrid\"\n",
       "\n",
       "$calle\n",
       "[1] \"Desengaño\"\n",
       "\n",
       "$numero\n",
       "[1] 21\n"
      ]
     },
     "metadata": {},
     "output_type": "display_data"
    }
   ],
   "source": [
    "datosPersonales[[\"direccion\"]] <- list(ciudad=\"Madrid\",calle=\"Desengaño\",numero=21)\n",
    "datosPersonales[[\"direccion\"]]"
   ]
  },
  {
   "cell_type": "code",
   "execution_count": 116,
   "metadata": {},
   "outputs": [
    {
     "data": {
      "text/html": [
       "<dl>\n",
       "\t<dt>$nombre</dt>\n",
       "\t\t<dd>'Philip'</dd>\n",
       "\t<dt>$apellido</dt>\n",
       "\t\t<dd>'García'</dd>\n",
       "\t<dt>$teléfono</dt>\n",
       "\t\t<dd>600100100</dd>\n",
       "\t<dt>$direccion</dt>\n",
       "\t\t<dd><dl>\n",
       "\t<dt>$ciudad</dt>\n",
       "\t\t<dd>'Madrid'</dd>\n",
       "\t<dt>$calle</dt>\n",
       "\t\t<dd>'Desengaño'</dd>\n",
       "\t<dt>$numero</dt>\n",
       "\t\t<dd>21</dd>\n",
       "</dl>\n",
       "</dd>\n",
       "</dl>\n"
      ],
      "text/latex": [
       "\\begin{description}\n",
       "\\item[\\$nombre] 'Philip'\n",
       "\\item[\\$apellido] 'García'\n",
       "\\item[\\$teléfono] 600100100\n",
       "\\item[\\$direccion] \\begin{description}\n",
       "\\item[\\$ciudad] 'Madrid'\n",
       "\\item[\\$calle] 'Desengaño'\n",
       "\\item[\\$numero] 21\n",
       "\\end{description}\n",
       "\n",
       "\\end{description}\n"
      ],
      "text/markdown": [
       "$nombre\n",
       ":   'Philip'\n",
       "$apellido\n",
       ":   'García'\n",
       "$teléfono\n",
       ":   600100100\n",
       "$direccion\n",
       ":   $ciudad\n",
       ":   'Madrid'\n",
       "$calle\n",
       ":   'Desengaño'\n",
       "$numero\n",
       ":   21\n",
       "\n",
       "\n",
       "\n",
       "\n",
       "\n"
      ],
      "text/plain": [
       "$nombre\n",
       "[1] \"Philip\"\n",
       "\n",
       "$apellido\n",
       "[1] \"García\"\n",
       "\n",
       "$teléfono\n",
       "[1] 600100100\n",
       "\n",
       "$direccion\n",
       "$direccion$ciudad\n",
       "[1] \"Madrid\"\n",
       "\n",
       "$direccion$calle\n",
       "[1] \"Desengaño\"\n",
       "\n",
       "$direccion$numero\n",
       "[1] 21\n",
       "\n"
      ]
     },
     "metadata": {},
     "output_type": "display_data"
    }
   ],
   "source": [
    "datosPersonales"
   ]
  },
  {
   "cell_type": "code",
   "execution_count": 117,
   "metadata": {},
   "outputs": [
    {
     "data": {
      "text/html": [
       "'Desengaño'"
      ],
      "text/latex": [
       "'Desengaño'"
      ],
      "text/markdown": [
       "'Desengaño'"
      ],
      "text/plain": [
       "[1] \"Desengaño\""
      ]
     },
     "metadata": {},
     "output_type": "display_data"
    }
   ],
   "source": [
    "datosPersonales[[\"direccion\"]]$calle"
   ]
  },
  {
   "cell_type": "code",
   "execution_count": 118,
   "metadata": {},
   "outputs": [
    {
     "name": "stdout",
     "output_type": "stream",
     "text": [
      "[1] \"La longitud total de la lista es 4\"\n"
     ]
    }
   ],
   "source": [
    "print(paste(\"La longitud total de la lista es\",length(datosPersonales)))"
   ]
  },
  {
   "cell_type": "code",
   "execution_count": 119,
   "metadata": {},
   "outputs": [
    {
     "data": {
      "text/html": [
       "<style>\n",
       ".list-inline {list-style: none; margin:0; padding: 0}\n",
       ".list-inline>li {display: inline-block}\n",
       ".list-inline>li:not(:last-child)::after {content: \"\\00b7\"; padding: 0 .5ex}\n",
       "</style>\n",
       "<ol class=list-inline><li>'nombre'</li><li>'apellido'</li><li>'teléfono'</li><li>'direccion'</li></ol>\n"
      ],
      "text/latex": [
       "\\begin{enumerate*}\n",
       "\\item 'nombre'\n",
       "\\item 'apellido'\n",
       "\\item 'teléfono'\n",
       "\\item 'direccion'\n",
       "\\end{enumerate*}\n"
      ],
      "text/markdown": [
       "1. 'nombre'\n",
       "2. 'apellido'\n",
       "3. 'teléfono'\n",
       "4. 'direccion'\n",
       "\n",
       "\n"
      ],
      "text/plain": [
       "[1] \"nombre\"    \"apellido\"  \"teléfono\"  \"direccion\""
      ]
     },
     "metadata": {},
     "output_type": "display_data"
    }
   ],
   "source": [
    "names(datosPersonales)"
   ]
  },
  {
   "cell_type": "code",
   "execution_count": 120,
   "metadata": {},
   "outputs": [
    {
     "data": {
      "text/html": [
       "<style>\n",
       ".list-inline {list-style: none; margin:0; padding: 0}\n",
       ".list-inline>li {display: inline-block}\n",
       ".list-inline>li:not(:last-child)::after {content: \"\\00b7\"; padding: 0 .5ex}\n",
       "</style>\n",
       "<ol class=list-inline><li>'ciudad'</li><li>'calle'</li><li>'numero'</li></ol>\n"
      ],
      "text/latex": [
       "\\begin{enumerate*}\n",
       "\\item 'ciudad'\n",
       "\\item 'calle'\n",
       "\\item 'numero'\n",
       "\\end{enumerate*}\n"
      ],
      "text/markdown": [
       "1. 'ciudad'\n",
       "2. 'calle'\n",
       "3. 'numero'\n",
       "\n",
       "\n"
      ],
      "text/plain": [
       "[1] \"ciudad\" \"calle\"  \"numero\""
      ]
     },
     "metadata": {},
     "output_type": "display_data"
    }
   ],
   "source": [
    "names(datosPersonales$direccion)"
   ]
  },
  {
   "cell_type": "markdown",
   "metadata": {},
   "source": [
    "## Factores\n",
    "\n",
    "En estadística tenemos fundamentalmente dos tipos de variables:\n",
    "\n",
    "* **Numéricas:** Estos datos tienen significado como medidas, por ejemplo la altura, peso, presión sanguinea, número de mascotas.\n",
    "* **Categóricas:** Estos representan una característica, por ejemplo el género, color, sabores, ciudad."
   ]
  },
  {
   "cell_type": "markdown",
   "metadata": {},
   "source": [
    "Los factores son útiles cuando trabajamos con **variables categóricas**. Ej: Población de origen, colores, sabores"
   ]
  },
  {
   "cell_type": "code",
   "execution_count": 122,
   "metadata": {},
   "outputs": [],
   "source": [
    "saboresDePlatos<-c(\"Dulce\",\"Salado\",\"Ácido\",\"Amargo\",\"Umami\",\"Dulce\",\"Salado\",\"Ácido\",\"Umami\",\"Umami\",\"Salado\")\n",
    "saboresDePlatosFactor<-factor(saboresDePlatos)\n"
   ]
  },
  {
   "cell_type": "code",
   "execution_count": 125,
   "metadata": {},
   "outputs": [
    {
     "data": {
      "text/html": [
       "<style>\n",
       ".list-inline {list-style: none; margin:0; padding: 0}\n",
       ".list-inline>li {display: inline-block}\n",
       ".list-inline>li:not(:last-child)::after {content: \"\\00b7\"; padding: 0 .5ex}\n",
       "</style>\n",
       "<ol class=list-inline><li>'Dulce'</li><li>'Salado'</li><li>'Ácido'</li><li>'Amargo'</li><li>'Umami'</li><li>'Dulce'</li><li>'Salado'</li><li>'Ácido'</li><li>'Umami'</li><li>'Umami'</li><li>'Salado'</li></ol>\n"
      ],
      "text/latex": [
       "\\begin{enumerate*}\n",
       "\\item 'Dulce'\n",
       "\\item 'Salado'\n",
       "\\item 'Ácido'\n",
       "\\item 'Amargo'\n",
       "\\item 'Umami'\n",
       "\\item 'Dulce'\n",
       "\\item 'Salado'\n",
       "\\item 'Ácido'\n",
       "\\item 'Umami'\n",
       "\\item 'Umami'\n",
       "\\item 'Salado'\n",
       "\\end{enumerate*}\n"
      ],
      "text/markdown": [
       "1. 'Dulce'\n",
       "2. 'Salado'\n",
       "3. 'Ácido'\n",
       "4. 'Amargo'\n",
       "5. 'Umami'\n",
       "6. 'Dulce'\n",
       "7. 'Salado'\n",
       "8. 'Ácido'\n",
       "9. 'Umami'\n",
       "10. 'Umami'\n",
       "11. 'Salado'\n",
       "\n",
       "\n"
      ],
      "text/plain": [
       " [1] \"Dulce\"  \"Salado\" \"Ácido\"  \"Amargo\" \"Umami\"  \"Dulce\"  \"Salado\" \"Ácido\" \n",
       " [9] \"Umami\"  \"Umami\"  \"Salado\""
      ]
     },
     "metadata": {},
     "output_type": "display_data"
    }
   ],
   "source": [
    "saboresDePlatos"
   ]
  },
  {
   "cell_type": "code",
   "execution_count": 126,
   "metadata": {},
   "outputs": [
    {
     "data": {
      "text/html": [
       "<style>\n",
       ".list-inline {list-style: none; margin:0; padding: 0}\n",
       ".list-inline>li {display: inline-block}\n",
       ".list-inline>li:not(:last-child)::after {content: \"\\00b7\"; padding: 0 .5ex}\n",
       "</style>\n",
       "<ol class=list-inline><li>Dulce</li><li>Salado</li><li>Ácido</li><li>Amargo</li><li>Umami</li><li>Dulce</li><li>Salado</li><li>Ácido</li><li>Umami</li><li>Umami</li><li>Salado</li></ol>\n",
       "\n",
       "<details>\n",
       "\t<summary style=display:list-item;cursor:pointer>\n",
       "\t\t<strong>Levels</strong>:\n",
       "\t</summary>\n",
       "\t<style>\n",
       "\t.list-inline {list-style: none; margin:0; padding: 0}\n",
       "\t.list-inline>li {display: inline-block}\n",
       "\t.list-inline>li:not(:last-child)::after {content: \"\\00b7\"; padding: 0 .5ex}\n",
       "\t</style>\n",
       "\t<ol class=list-inline><li>'Ácido'</li><li>'Amargo'</li><li>'Dulce'</li><li>'Salado'</li><li>'Umami'</li></ol>\n",
       "</details>"
      ],
      "text/latex": [
       "\\begin{enumerate*}\n",
       "\\item Dulce\n",
       "\\item Salado\n",
       "\\item Ácido\n",
       "\\item Amargo\n",
       "\\item Umami\n",
       "\\item Dulce\n",
       "\\item Salado\n",
       "\\item Ácido\n",
       "\\item Umami\n",
       "\\item Umami\n",
       "\\item Salado\n",
       "\\end{enumerate*}\n",
       "\n",
       "\\emph{Levels}: \\begin{enumerate*}\n",
       "\\item 'Ácido'\n",
       "\\item 'Amargo'\n",
       "\\item 'Dulce'\n",
       "\\item 'Salado'\n",
       "\\item 'Umami'\n",
       "\\end{enumerate*}\n"
      ],
      "text/markdown": [
       "1. Dulce\n",
       "2. Salado\n",
       "3. Ácido\n",
       "4. Amargo\n",
       "5. Umami\n",
       "6. Dulce\n",
       "7. Salado\n",
       "8. Ácido\n",
       "9. Umami\n",
       "10. Umami\n",
       "11. Salado\n",
       "\n",
       "\n",
       "\n",
       "**Levels**: 1. 'Ácido'\n",
       "2. 'Amargo'\n",
       "3. 'Dulce'\n",
       "4. 'Salado'\n",
       "5. 'Umami'\n",
       "\n",
       "\n"
      ],
      "text/plain": [
       " [1] Dulce  Salado Ácido  Amargo Umami  Dulce  Salado Ácido  Umami  Umami \n",
       "[11] Salado\n",
       "Levels: Ácido Amargo Dulce Salado Umami"
      ]
     },
     "metadata": {},
     "output_type": "display_data"
    }
   ],
   "source": [
    "saboresDePlatosFactor"
   ]
  },
  {
   "cell_type": "code",
   "execution_count": 128,
   "metadata": {},
   "outputs": [
    {
     "data": {
      "text/plain": [
       "   Length     Class      Mode \n",
       "       11 character character "
      ]
     },
     "metadata": {},
     "output_type": "display_data"
    }
   ],
   "source": [
    "summary(saboresDePlatos)"
   ]
  },
  {
   "cell_type": "code",
   "execution_count": 129,
   "metadata": {},
   "outputs": [
    {
     "data": {
      "text/html": [
       "<style>\n",
       ".dl-inline {width: auto; margin:0; padding: 0}\n",
       ".dl-inline>dt, .dl-inline>dd {float: none; width: auto; display: inline-block}\n",
       ".dl-inline>dt::after {content: \":\\0020\"; padding-right: .5ex}\n",
       ".dl-inline>dt:not(:first-of-type) {padding-left: .5ex}\n",
       "</style><dl class=dl-inline><dt>Ácido</dt><dd>2</dd><dt>Amargo</dt><dd>1</dd><dt>Dulce</dt><dd>2</dd><dt>Salado</dt><dd>3</dd><dt>Umami</dt><dd>3</dd></dl>\n"
      ],
      "text/latex": [
       "\\begin{description*}\n",
       "\\item[Ácido] 2\n",
       "\\item[Amargo] 1\n",
       "\\item[Dulce] 2\n",
       "\\item[Salado] 3\n",
       "\\item[Umami] 3\n",
       "\\end{description*}\n"
      ],
      "text/markdown": [
       "Ácido\n",
       ":   2Amargo\n",
       ":   1Dulce\n",
       ":   2Salado\n",
       ":   3Umami\n",
       ":   3\n",
       "\n"
      ],
      "text/plain": [
       " Ácido Amargo  Dulce Salado  Umami \n",
       "     2      1      2      3      3 "
      ]
     },
     "metadata": {},
     "output_type": "display_data"
    }
   ],
   "source": [
    "summary(saboresDePlatosFactor)"
   ]
  },
  {
   "cell_type": "code",
   "execution_count": 130,
   "metadata": {},
   "outputs": [
    {
     "name": "stdout",
     "output_type": "stream",
     "text": [
      " chr [1:11] \"Dulce\" \"Salado\" \"Ácido\" \"Amargo\" \"Umami\" \"Dulce\" \"Salado\" ...\n"
     ]
    }
   ],
   "source": [
    "str(saboresDePlatos)"
   ]
  },
  {
   "cell_type": "code",
   "execution_count": 131,
   "metadata": {},
   "outputs": [
    {
     "name": "stdout",
     "output_type": "stream",
     "text": [
      " Factor w/ 5 levels \"Ácido\",\"Amargo\",..: 3 4 1 2 5 3 4 1 5 5 ...\n"
     ]
    }
   ],
   "source": [
    "str(saboresDePlatosFactor)"
   ]
  },
  {
   "cell_type": "code",
   "execution_count": 132,
   "metadata": {},
   "outputs": [
    {
     "data": {
      "text/html": [
       "<style>\n",
       ".list-inline {list-style: none; margin:0; padding: 0}\n",
       ".list-inline>li {display: inline-block}\n",
       ".list-inline>li:not(:last-child)::after {content: \"\\00b7\"; padding: 0 .5ex}\n",
       "</style>\n",
       "<ol class=list-inline><li>Dulce</li><li>Salado</li><li>Ácido</li><li>Amargo</li><li>Umami</li><li>Dulce</li><li>Salado</li><li>Ácido</li><li>Umami</li><li>Umami</li><li>Salado</li></ol>\n",
       "\n",
       "<details>\n",
       "\t<summary style=display:list-item;cursor:pointer>\n",
       "\t\t<strong>Levels</strong>:\n",
       "\t</summary>\n",
       "\t<style>\n",
       "\t.list-inline {list-style: none; margin:0; padding: 0}\n",
       "\t.list-inline>li {display: inline-block}\n",
       "\t.list-inline>li:not(:last-child)::after {content: \"\\00b7\"; padding: 0 .5ex}\n",
       "\t</style>\n",
       "\t<ol class=list-inline><li>'Ácido'</li><li>'Amargo'</li><li>'Dulce'</li><li>'Salado'</li><li>'Umami'</li></ol>\n",
       "</details>"
      ],
      "text/latex": [
       "\\begin{enumerate*}\n",
       "\\item Dulce\n",
       "\\item Salado\n",
       "\\item Ácido\n",
       "\\item Amargo\n",
       "\\item Umami\n",
       "\\item Dulce\n",
       "\\item Salado\n",
       "\\item Ácido\n",
       "\\item Umami\n",
       "\\item Umami\n",
       "\\item Salado\n",
       "\\end{enumerate*}\n",
       "\n",
       "\\emph{Levels}: \\begin{enumerate*}\n",
       "\\item 'Ácido'\n",
       "\\item 'Amargo'\n",
       "\\item 'Dulce'\n",
       "\\item 'Salado'\n",
       "\\item 'Umami'\n",
       "\\end{enumerate*}\n"
      ],
      "text/markdown": [
       "1. Dulce\n",
       "2. Salado\n",
       "3. Ácido\n",
       "4. Amargo\n",
       "5. Umami\n",
       "6. Dulce\n",
       "7. Salado\n",
       "8. Ácido\n",
       "9. Umami\n",
       "10. Umami\n",
       "11. Salado\n",
       "\n",
       "\n",
       "\n",
       "**Levels**: 1. 'Ácido'\n",
       "2. 'Amargo'\n",
       "3. 'Dulce'\n",
       "4. 'Salado'\n",
       "5. 'Umami'\n",
       "\n",
       "\n"
      ],
      "text/plain": [
       " [1] Dulce  Salado Ácido  Amargo Umami  Dulce  Salado Ácido  Umami  Umami \n",
       "[11] Salado\n",
       "Levels: Ácido Amargo Dulce Salado Umami"
      ]
     },
     "metadata": {},
     "output_type": "display_data"
    }
   ],
   "source": [
    "saboresDePlatosFactor"
   ]
  },
  {
   "cell_type": "code",
   "execution_count": 133,
   "metadata": {},
   "outputs": [
    {
     "name": "stdout",
     "output_type": "stream",
     "text": [
      "[1] \"Los factores internamente se gestionan como enteros\"\n"
     ]
    },
    {
     "data": {
      "text/html": [
       "<style>\n",
       ".list-inline {list-style: none; margin:0; padding: 0}\n",
       ".list-inline>li {display: inline-block}\n",
       ".list-inline>li:not(:last-child)::after {content: \"\\00b7\"; padding: 0 .5ex}\n",
       "</style>\n",
       "<ol class=list-inline><li>3</li><li>4</li><li>1</li><li>2</li><li>5</li><li>3</li><li>4</li><li>1</li><li>5</li><li>5</li><li>4</li></ol>\n"
      ],
      "text/latex": [
       "\\begin{enumerate*}\n",
       "\\item 3\n",
       "\\item 4\n",
       "\\item 1\n",
       "\\item 2\n",
       "\\item 5\n",
       "\\item 3\n",
       "\\item 4\n",
       "\\item 1\n",
       "\\item 5\n",
       "\\item 5\n",
       "\\item 4\n",
       "\\end{enumerate*}\n"
      ],
      "text/markdown": [
       "1. 3\n",
       "2. 4\n",
       "3. 1\n",
       "4. 2\n",
       "5. 5\n",
       "6. 3\n",
       "7. 4\n",
       "8. 1\n",
       "9. 5\n",
       "10. 5\n",
       "11. 4\n",
       "\n",
       "\n"
      ],
      "text/plain": [
       " [1] 3 4 1 2 5 3 4 1 5 5 4"
      ]
     },
     "metadata": {},
     "output_type": "display_data"
    }
   ],
   "source": [
    "print(\"Los factores internamente se gestionan como enteros\")\n",
    "as.numeric(saboresDePlatosFactor)"
   ]
  },
  {
   "cell_type": "code",
   "execution_count": 134,
   "metadata": {},
   "outputs": [
    {
     "data": {
      "text/html": [
       "<style>\n",
       ".list-inline {list-style: none; margin:0; padding: 0}\n",
       ".list-inline>li {display: inline-block}\n",
       ".list-inline>li:not(:last-child)::after {content: \"\\00b7\"; padding: 0 .5ex}\n",
       "</style>\n",
       "<ol class=list-inline><li>'sabor: Ácido'</li><li>'sabor: Amargo'</li><li>'sabor: Dulce'</li><li>'sabor: Salado'</li><li>'sabor: Umami'</li></ol>\n"
      ],
      "text/latex": [
       "\\begin{enumerate*}\n",
       "\\item 'sabor: Ácido'\n",
       "\\item 'sabor: Amargo'\n",
       "\\item 'sabor: Dulce'\n",
       "\\item 'sabor: Salado'\n",
       "\\item 'sabor: Umami'\n",
       "\\end{enumerate*}\n"
      ],
      "text/markdown": [
       "1. 'sabor: Ácido'\n",
       "2. 'sabor: Amargo'\n",
       "3. 'sabor: Dulce'\n",
       "4. 'sabor: Salado'\n",
       "5. 'sabor: Umami'\n",
       "\n",
       "\n"
      ],
      "text/plain": [
       "[1] \"sabor: Ácido\"  \"sabor: Amargo\" \"sabor: Dulce\"  \"sabor: Salado\"\n",
       "[5] \"sabor: Umami\" "
      ]
     },
     "metadata": {},
     "output_type": "display_data"
    }
   ],
   "source": [
    "paste(\"sabor:\",levels(saboresDePlatosFactor))"
   ]
  },
  {
   "cell_type": "code",
   "execution_count": 137,
   "metadata": {},
   "outputs": [
    {
     "data": {
      "text/html": [
       "'Ácido, Amargo, Dulce, Salado, Umami'"
      ],
      "text/latex": [
       "'Ácido, Amargo, Dulce, Salado, Umami'"
      ],
      "text/markdown": [
       "'Ácido, Amargo, Dulce, Salado, Umami'"
      ],
      "text/plain": [
       "[1] \"Ácido, Amargo, Dulce, Salado, Umami\""
      ]
     },
     "metadata": {},
     "output_type": "display_data"
    }
   ],
   "source": [
    "paste(levels(saboresDePlatosFactor), collapse=\", \")\n",
    "# En python sería: \", \".join(vector)"
   ]
  },
  {
   "cell_type": "code",
   "execution_count": 139,
   "metadata": {},
   "outputs": [
    {
     "name": "stdout",
     "output_type": "stream",
     "text": [
      "[1] \"Podemos ver los niveles con el comando levels: Ácido,Amargo,Dulce,Salado,Umami\"\n"
     ]
    }
   ],
   "source": [
    "print(paste(\"Podemos ver los niveles con el comando levels:\",\n",
    "            paste(levels(saboresDePlatosFactor),collapse=\",\")))"
   ]
  },
  {
   "cell_type": "code",
   "execution_count": 140,
   "metadata": {},
   "outputs": [
    {
     "data": {
      "text/html": [
       "<style>\n",
       ".list-inline {list-style: none; margin:0; padding: 0}\n",
       ".list-inline>li {display: inline-block}\n",
       ".list-inline>li:not(:last-child)::after {content: \"\\00b7\"; padding: 0 .5ex}\n",
       "</style>\n",
       "<ol class=list-inline><li>SI</li><li>NO</li><li>NO</li><li>SI</li><li>NO</li><li>SI</li></ol>\n",
       "\n",
       "<details>\n",
       "\t<summary style=display:list-item;cursor:pointer>\n",
       "\t\t<strong>Levels</strong>:\n",
       "\t</summary>\n",
       "\t<style>\n",
       "\t.list-inline {list-style: none; margin:0; padding: 0}\n",
       "\t.list-inline>li {display: inline-block}\n",
       "\t.list-inline>li:not(:last-child)::after {content: \"\\00b7\"; padding: 0 .5ex}\n",
       "\t</style>\n",
       "\t<ol class=list-inline><li>'NO'</li><li>'SI'</li></ol>\n",
       "</details>"
      ],
      "text/latex": [
       "\\begin{enumerate*}\n",
       "\\item SI\n",
       "\\item NO\n",
       "\\item NO\n",
       "\\item SI\n",
       "\\item NO\n",
       "\\item SI\n",
       "\\end{enumerate*}\n",
       "\n",
       "\\emph{Levels}: \\begin{enumerate*}\n",
       "\\item 'NO'\n",
       "\\item 'SI'\n",
       "\\end{enumerate*}\n"
      ],
      "text/markdown": [
       "1. SI\n",
       "2. NO\n",
       "3. NO\n",
       "4. SI\n",
       "5. NO\n",
       "6. SI\n",
       "\n",
       "\n",
       "\n",
       "**Levels**: 1. 'NO'\n",
       "2. 'SI'\n",
       "\n",
       "\n"
      ],
      "text/plain": [
       "[1] SI NO NO SI NO SI\n",
       "Levels: NO SI"
      ]
     },
     "metadata": {},
     "output_type": "display_data"
    }
   ],
   "source": [
    "factor(c(1,0,0,1,0,1),labels=c(\"NO\",\"SI\"))"
   ]
  },
  {
   "cell_type": "code",
   "execution_count": 143,
   "metadata": {},
   "outputs": [
    {
     "data": {
      "text/html": [
       "<style>\n",
       ".list-inline {list-style: none; margin:0; padding: 0}\n",
       ".list-inline>li {display: inline-block}\n",
       ".list-inline>li:not(:last-child)::after {content: \"\\00b7\"; padding: 0 .5ex}\n",
       "</style>\n",
       "<ol class=list-inline><li>ALTO</li><li>MEDIO</li><li>MEDIO</li><li>BAJO</li><li>MEDIO</li><li>BAJO</li></ol>\n",
       "\n",
       "<details>\n",
       "\t<summary style=display:list-item;cursor:pointer>\n",
       "\t\t<strong>Levels</strong>:\n",
       "\t</summary>\n",
       "\t<style>\n",
       "\t.list-inline {list-style: none; margin:0; padding: 0}\n",
       "\t.list-inline>li {display: inline-block}\n",
       "\t.list-inline>li:not(:last-child)::after {content: \"\\00b7\"; padding: 0 .5ex}\n",
       "\t</style>\n",
       "\t<ol class=list-inline><li>'BAJO'</li><li>'MEDIO'</li><li>'ALTO'</li></ol>\n",
       "</details>"
      ],
      "text/latex": [
       "\\begin{enumerate*}\n",
       "\\item ALTO\n",
       "\\item MEDIO\n",
       "\\item MEDIO\n",
       "\\item BAJO\n",
       "\\item MEDIO\n",
       "\\item BAJO\n",
       "\\end{enumerate*}\n",
       "\n",
       "\\emph{Levels}: \\begin{enumerate*}\n",
       "\\item 'BAJO'\n",
       "\\item 'MEDIO'\n",
       "\\item 'ALTO'\n",
       "\\end{enumerate*}\n"
      ],
      "text/markdown": [
       "1. ALTO\n",
       "2. MEDIO\n",
       "3. MEDIO\n",
       "4. BAJO\n",
       "5. MEDIO\n",
       "6. BAJO\n",
       "\n",
       "\n",
       "\n",
       "**Levels**: 1. 'BAJO'\n",
       "2. 'MEDIO'\n",
       "3. 'ALTO'\n",
       "\n",
       "\n"
      ],
      "text/plain": [
       "[1] ALTO  MEDIO MEDIO BAJO  MEDIO BAJO \n",
       "Levels: BAJO MEDIO ALTO"
      ]
     },
     "metadata": {},
     "output_type": "display_data"
    }
   ],
   "source": [
    "factor(c(10,5,5,0,5,0),labels=c(\"BAJO\",\"MEDIO\",\"ALTO\"))"
   ]
  },
  {
   "cell_type": "markdown",
   "metadata": {},
   "source": [
    "# Matrices"
   ]
  },
  {
   "cell_type": "markdown",
   "metadata": {},
   "source": [
    "Podemos crear matrices con la función matrix. Como parámetros de entrada recibe un vector y el número de columnas (*ncol*) o filas (nrow). Un parámetro opcional (*byrow*) indica si la matriz se va a rellenar por filas o por columnas (valor por defecto)"
   ]
  },
  {
   "cell_type": "code",
   "execution_count": 144,
   "metadata": {},
   "outputs": [
    {
     "data": {
      "text/html": [
       "<style>\n",
       ".list-inline {list-style: none; margin:0; padding: 0}\n",
       ".list-inline>li {display: inline-block}\n",
       ".list-inline>li:not(:last-child)::after {content: \"\\00b7\"; padding: 0 .5ex}\n",
       "</style>\n",
       "<ol class=list-inline><li>1</li><li>2</li><li>3</li><li>4</li><li>5</li><li>6</li><li>7</li><li>8</li><li>9</li><li>10</li><li>11</li><li>12</li></ol>\n"
      ],
      "text/latex": [
       "\\begin{enumerate*}\n",
       "\\item 1\n",
       "\\item 2\n",
       "\\item 3\n",
       "\\item 4\n",
       "\\item 5\n",
       "\\item 6\n",
       "\\item 7\n",
       "\\item 8\n",
       "\\item 9\n",
       "\\item 10\n",
       "\\item 11\n",
       "\\item 12\n",
       "\\end{enumerate*}\n"
      ],
      "text/markdown": [
       "1. 1\n",
       "2. 2\n",
       "3. 3\n",
       "4. 4\n",
       "5. 5\n",
       "6. 6\n",
       "7. 7\n",
       "8. 8\n",
       "9. 9\n",
       "10. 10\n",
       "11. 11\n",
       "12. 12\n",
       "\n",
       "\n"
      ],
      "text/plain": [
       " [1]  1  2  3  4  5  6  7  8  9 10 11 12"
      ]
     },
     "metadata": {},
     "output_type": "display_data"
    }
   ],
   "source": [
    "1:12"
   ]
  },
  {
   "cell_type": "code",
   "execution_count": 145,
   "metadata": {},
   "outputs": [
    {
     "data": {
      "text/html": [
       "<table class=\"dataframe\">\n",
       "<caption>A matrix: 4 × 3 of type int</caption>\n",
       "<tbody>\n",
       "\t<tr><td>1</td><td>5</td><td> 9</td></tr>\n",
       "\t<tr><td>2</td><td>6</td><td>10</td></tr>\n",
       "\t<tr><td>3</td><td>7</td><td>11</td></tr>\n",
       "\t<tr><td>4</td><td>8</td><td>12</td></tr>\n",
       "</tbody>\n",
       "</table>\n"
      ],
      "text/latex": [
       "A matrix: 4 × 3 of type int\n",
       "\\begin{tabular}{lll}\n",
       "\t 1 & 5 &  9\\\\\n",
       "\t 2 & 6 & 10\\\\\n",
       "\t 3 & 7 & 11\\\\\n",
       "\t 4 & 8 & 12\\\\\n",
       "\\end{tabular}\n"
      ],
      "text/markdown": [
       "\n",
       "A matrix: 4 × 3 of type int\n",
       "\n",
       "| 1 | 5 |  9 |\n",
       "| 2 | 6 | 10 |\n",
       "| 3 | 7 | 11 |\n",
       "| 4 | 8 | 12 |\n",
       "\n"
      ],
      "text/plain": [
       "     [,1] [,2] [,3]\n",
       "[1,] 1    5     9  \n",
       "[2,] 2    6    10  \n",
       "[3,] 3    7    11  \n",
       "[4,] 4    8    12  "
      ]
     },
     "metadata": {},
     "output_type": "display_data"
    }
   ],
   "source": [
    "m1<-matrix(c(1:12),ncol=3)\n",
    "m1"
   ]
  },
  {
   "cell_type": "code",
   "execution_count": null,
   "metadata": {},
   "outputs": [],
   "source": [
    "?matrix"
   ]
  },
  {
   "cell_type": "code",
   "execution_count": 146,
   "metadata": {},
   "outputs": [
    {
     "data": {
      "text/html": [
       "<table class=\"dataframe\">\n",
       "<caption>A matrix: 4 × 3 of type int</caption>\n",
       "<tbody>\n",
       "\t<tr><td> 1</td><td> 2</td><td> 3</td></tr>\n",
       "\t<tr><td> 4</td><td> 5</td><td> 6</td></tr>\n",
       "\t<tr><td> 7</td><td> 8</td><td> 9</td></tr>\n",
       "\t<tr><td>10</td><td>11</td><td>12</td></tr>\n",
       "</tbody>\n",
       "</table>\n"
      ],
      "text/latex": [
       "A matrix: 4 × 3 of type int\n",
       "\\begin{tabular}{lll}\n",
       "\t  1 &  2 &  3\\\\\n",
       "\t  4 &  5 &  6\\\\\n",
       "\t  7 &  8 &  9\\\\\n",
       "\t 10 & 11 & 12\\\\\n",
       "\\end{tabular}\n"
      ],
      "text/markdown": [
       "\n",
       "A matrix: 4 × 3 of type int\n",
       "\n",
       "|  1 |  2 |  3 |\n",
       "|  4 |  5 |  6 |\n",
       "|  7 |  8 |  9 |\n",
       "| 10 | 11 | 12 |\n",
       "\n"
      ],
      "text/plain": [
       "     [,1] [,2] [,3]\n",
       "[1,]  1    2    3  \n",
       "[2,]  4    5    6  \n",
       "[3,]  7    8    9  \n",
       "[4,] 10   11   12  "
      ]
     },
     "metadata": {},
     "output_type": "display_data"
    }
   ],
   "source": [
    "m2<-matrix(c(1:12),ncol=3,byrow=T)\n",
    "m2"
   ]
  },
  {
   "cell_type": "markdown",
   "metadata": {},
   "source": [
    "La dimensión del array se puede ver con la función *dim()* o con *str()*"
   ]
  },
  {
   "cell_type": "code",
   "execution_count": 147,
   "metadata": {},
   "outputs": [
    {
     "data": {
      "text/html": [
       "<style>\n",
       ".list-inline {list-style: none; margin:0; padding: 0}\n",
       ".list-inline>li {display: inline-block}\n",
       ".list-inline>li:not(:last-child)::after {content: \"\\00b7\"; padding: 0 .5ex}\n",
       "</style>\n",
       "<ol class=list-inline><li>4</li><li>3</li></ol>\n"
      ],
      "text/latex": [
       "\\begin{enumerate*}\n",
       "\\item 4\n",
       "\\item 3\n",
       "\\end{enumerate*}\n"
      ],
      "text/markdown": [
       "1. 4\n",
       "2. 3\n",
       "\n",
       "\n"
      ],
      "text/plain": [
       "[1] 4 3"
      ]
     },
     "metadata": {},
     "output_type": "display_data"
    }
   ],
   "source": [
    "dim(m1)"
   ]
  },
  {
   "cell_type": "code",
   "execution_count": 148,
   "metadata": {},
   "outputs": [
    {
     "data": {
      "text/html": [
       "12"
      ],
      "text/latex": [
       "12"
      ],
      "text/markdown": [
       "12"
      ],
      "text/plain": [
       "[1] 12"
      ]
     },
     "metadata": {},
     "output_type": "display_data"
    }
   ],
   "source": [
    "length(m1)"
   ]
  },
  {
   "cell_type": "code",
   "execution_count": 149,
   "metadata": {},
   "outputs": [
    {
     "name": "stdout",
     "output_type": "stream",
     "text": [
      " int [1:4, 1:3] 1 4 7 10 2 5 8 11 3 6 ...\n"
     ]
    }
   ],
   "source": [
    "str(m2)"
   ]
  },
  {
   "cell_type": "markdown",
   "metadata": {},
   "source": [
    "### Acceso"
   ]
  },
  {
   "cell_type": "markdown",
   "metadata": {},
   "source": [
    "El acceso se realiza igual que los vectores, pero aquí tenemos dos dimensiones."
   ]
  },
  {
   "cell_type": "code",
   "execution_count": 150,
   "metadata": {},
   "outputs": [
    {
     "data": {
      "text/html": [
       "9"
      ],
      "text/latex": [
       "9"
      ],
      "text/markdown": [
       "9"
      ],
      "text/plain": [
       "[1] 9"
      ]
     },
     "metadata": {},
     "output_type": "display_data"
    }
   ],
   "source": [
    "m1[1,3]"
   ]
  },
  {
   "cell_type": "markdown",
   "metadata": {},
   "source": [
    "También podemos dar nombres a las filas y columnas para luego poder acceder utilizando el nombre"
   ]
  },
  {
   "cell_type": "code",
   "execution_count": null,
   "metadata": {},
   "outputs": [],
   "source": [
    "?paste0"
   ]
  },
  {
   "cell_type": "code",
   "execution_count": null,
   "metadata": {},
   "outputs": [],
   "source": [
    "paste0(\"row\",1:4)"
   ]
  },
  {
   "cell_type": "code",
   "execution_count": 151,
   "metadata": {},
   "outputs": [
    {
     "data": {
      "text/html": [
       "<table class=\"dataframe\">\n",
       "<caption>A matrix: 4 × 3 of type int</caption>\n",
       "<thead>\n",
       "\t<tr><th></th><th scope=col>col1</th><th scope=col>col2</th><th scope=col>col3</th></tr>\n",
       "</thead>\n",
       "<tbody>\n",
       "\t<tr><th scope=row>row1</th><td>1</td><td>5</td><td> 9</td></tr>\n",
       "\t<tr><th scope=row>row2</th><td>2</td><td>6</td><td>10</td></tr>\n",
       "\t<tr><th scope=row>row3</th><td>3</td><td>7</td><td>11</td></tr>\n",
       "\t<tr><th scope=row>row4</th><td>4</td><td>8</td><td>12</td></tr>\n",
       "</tbody>\n",
       "</table>\n"
      ],
      "text/latex": [
       "A matrix: 4 × 3 of type int\n",
       "\\begin{tabular}{r|lll}\n",
       "  & col1 & col2 & col3\\\\\n",
       "\\hline\n",
       "\trow1 & 1 & 5 &  9\\\\\n",
       "\trow2 & 2 & 6 & 10\\\\\n",
       "\trow3 & 3 & 7 & 11\\\\\n",
       "\trow4 & 4 & 8 & 12\\\\\n",
       "\\end{tabular}\n"
      ],
      "text/markdown": [
       "\n",
       "A matrix: 4 × 3 of type int\n",
       "\n",
       "| <!--/--> | col1 | col2 | col3 |\n",
       "|---|---|---|---|\n",
       "| row1 | 1 | 5 |  9 |\n",
       "| row2 | 2 | 6 | 10 |\n",
       "| row3 | 3 | 7 | 11 |\n",
       "| row4 | 4 | 8 | 12 |\n",
       "\n"
      ],
      "text/plain": [
       "     col1 col2 col3\n",
       "row1 1    5     9  \n",
       "row2 2    6    10  \n",
       "row3 3    7    11  \n",
       "row4 4    8    12  "
      ]
     },
     "metadata": {},
     "output_type": "display_data"
    }
   ],
   "source": [
    "colnames(m1)<-paste0(\"col\",1:3)\n",
    "rownames(m1)<-paste0(\"row\",1:4)\n",
    "m1"
   ]
  },
  {
   "cell_type": "code",
   "execution_count": 152,
   "metadata": {},
   "outputs": [
    {
     "data": {
      "text/html": [
       "'El valor de \\'row1\\' y \\'col3\\' es: 9'"
      ],
      "text/latex": [
       "'El valor de \\textbackslash{}'row1\\textbackslash{}' y \\textbackslash{}'col3\\textbackslash{}' es: 9'"
      ],
      "text/markdown": [
       "'El valor de \\'row1\\' y \\'col3\\' es: 9'"
      ],
      "text/plain": [
       "[1] \"El valor de 'row1' y 'col3' es: 9\""
      ]
     },
     "metadata": {},
     "output_type": "display_data"
    }
   ],
   "source": [
    "paste(\"El valor de 'row1' y 'col3' es:\",m1[\"row1\",\"col3\"])"
   ]
  },
  {
   "cell_type": "markdown",
   "metadata": {},
   "source": [
    "Las funciones *colnames* y *rownames* "
   ]
  },
  {
   "cell_type": "code",
   "execution_count": 153,
   "metadata": {},
   "outputs": [
    {
     "data": {
      "text/html": [
       "<style>\n",
       ".list-inline {list-style: none; margin:0; padding: 0}\n",
       ".list-inline>li {display: inline-block}\n",
       ".list-inline>li:not(:last-child)::after {content: \"\\00b7\"; padding: 0 .5ex}\n",
       "</style>\n",
       "<ol class=list-inline><li>'row1'</li><li>'row2'</li><li>'row3'</li><li>'row4'</li></ol>\n"
      ],
      "text/latex": [
       "\\begin{enumerate*}\n",
       "\\item 'row1'\n",
       "\\item 'row2'\n",
       "\\item 'row3'\n",
       "\\item 'row4'\n",
       "\\end{enumerate*}\n"
      ],
      "text/markdown": [
       "1. 'row1'\n",
       "2. 'row2'\n",
       "3. 'row3'\n",
       "4. 'row4'\n",
       "\n",
       "\n"
      ],
      "text/plain": [
       "[1] \"row1\" \"row2\" \"row3\" \"row4\""
      ]
     },
     "metadata": {},
     "output_type": "display_data"
    }
   ],
   "source": [
    "rownames(m1)"
   ]
  },
  {
   "cell_type": "markdown",
   "metadata": {},
   "source": [
    "### Operaciones con matrices \n",
    "#### Álgebra lineal básica"
   ]
  },
  {
   "cell_type": "code",
   "execution_count": null,
   "metadata": {},
   "outputs": [],
   "source": [
    "m1"
   ]
  },
  {
   "cell_type": "markdown",
   "metadata": {},
   "source": [
    "Transpuesta"
   ]
  },
  {
   "cell_type": "code",
   "execution_count": null,
   "metadata": {},
   "outputs": [],
   "source": [
    "t(m1)"
   ]
  },
  {
   "cell_type": "markdown",
   "metadata": {},
   "source": [
    "Suma de constante"
   ]
  },
  {
   "cell_type": "code",
   "execution_count": null,
   "metadata": {},
   "outputs": [],
   "source": [
    "m1+10"
   ]
  },
  {
   "cell_type": "markdown",
   "metadata": {},
   "source": [
    "Suma de matrices"
   ]
  },
  {
   "cell_type": "code",
   "execution_count": null,
   "metadata": {},
   "outputs": [],
   "source": [
    "m1+m2"
   ]
  },
  {
   "cell_type": "markdown",
   "metadata": {},
   "source": [
    "Multiplicación de matrices"
   ]
  },
  {
   "cell_type": "code",
   "execution_count": null,
   "metadata": {},
   "outputs": [],
   "source": [
    "m1 %*% matrix(rep(1,12),nrow=3)"
   ]
  },
  {
   "cell_type": "code",
   "execution_count": null,
   "metadata": {},
   "outputs": [],
   "source": [
    "rep(\"a\",5)"
   ]
  },
  {
   "cell_type": "markdown",
   "metadata": {},
   "source": [
    "Submatrices"
   ]
  },
  {
   "cell_type": "code",
   "execution_count": null,
   "metadata": {},
   "outputs": [],
   "source": [
    "m1[2:4,2:3]"
   ]
  },
  {
   "cell_type": "code",
   "execution_count": null,
   "metadata": {},
   "outputs": [],
   "source": [
    "m1[c(3,2,4),2:3]"
   ]
  },
  {
   "cell_type": "markdown",
   "metadata": {},
   "source": [
    "# Tablas"
   ]
  },
  {
   "cell_type": "markdown",
   "metadata": {},
   "source": [
    "Se utilizan para estudios de frecuencia. Cuentan el número de veces que ha ocurrido algo."
   ]
  },
  {
   "cell_type": "code",
   "execution_count": 154,
   "metadata": {},
   "outputs": [
    {
     "data": {
      "text/html": [
       "<style>\n",
       ".list-inline {list-style: none; margin:0; padding: 0}\n",
       ".list-inline>li {display: inline-block}\n",
       ".list-inline>li:not(:last-child)::after {content: \"\\00b7\"; padding: 0 .5ex}\n",
       "</style>\n",
       "<ol class=list-inline><li>'Dulce'</li><li>'Salado'</li><li>'Ácido'</li><li>'Amargo'</li><li>'Umami'</li><li>'Dulce'</li><li>'Salado'</li><li>'Ácido'</li><li>'Umami'</li><li>'Umami'</li><li>'Salado'</li></ol>\n"
      ],
      "text/latex": [
       "\\begin{enumerate*}\n",
       "\\item 'Dulce'\n",
       "\\item 'Salado'\n",
       "\\item 'Ácido'\n",
       "\\item 'Amargo'\n",
       "\\item 'Umami'\n",
       "\\item 'Dulce'\n",
       "\\item 'Salado'\n",
       "\\item 'Ácido'\n",
       "\\item 'Umami'\n",
       "\\item 'Umami'\n",
       "\\item 'Salado'\n",
       "\\end{enumerate*}\n"
      ],
      "text/markdown": [
       "1. 'Dulce'\n",
       "2. 'Salado'\n",
       "3. 'Ácido'\n",
       "4. 'Amargo'\n",
       "5. 'Umami'\n",
       "6. 'Dulce'\n",
       "7. 'Salado'\n",
       "8. 'Ácido'\n",
       "9. 'Umami'\n",
       "10. 'Umami'\n",
       "11. 'Salado'\n",
       "\n",
       "\n"
      ],
      "text/plain": [
       " [1] \"Dulce\"  \"Salado\" \"Ácido\"  \"Amargo\" \"Umami\"  \"Dulce\"  \"Salado\" \"Ácido\" \n",
       " [9] \"Umami\"  \"Umami\"  \"Salado\""
      ]
     },
     "metadata": {},
     "output_type": "display_data"
    }
   ],
   "source": [
    "saboresDePlatos"
   ]
  },
  {
   "cell_type": "code",
   "execution_count": 155,
   "metadata": {},
   "outputs": [
    {
     "data": {
      "text/plain": [
       "saboresDePlatos\n",
       " Ácido Amargo  Dulce Salado  Umami \n",
       "     2      1      2      3      3 "
      ]
     },
     "metadata": {},
     "output_type": "display_data"
    }
   ],
   "source": [
    "tblSabores<-table(saboresDePlatos)\n",
    "tblSabores"
   ]
  },
  {
   "cell_type": "code",
   "execution_count": 156,
   "metadata": {},
   "outputs": [
    {
     "data": {
      "text/html": [
       "<style>\n",
       ".list-inline {list-style: none; margin:0; padding: 0}\n",
       ".list-inline>li {display: inline-block}\n",
       ".list-inline>li:not(:last-child)::after {content: \"\\00b7\"; padding: 0 .5ex}\n",
       "</style>\n",
       "<ol class=list-inline><li>'Ácido'</li><li>'Amargo'</li><li>'Dulce'</li><li>'Salado'</li><li>'Umami'</li></ol>\n"
      ],
      "text/latex": [
       "\\begin{enumerate*}\n",
       "\\item 'Ácido'\n",
       "\\item 'Amargo'\n",
       "\\item 'Dulce'\n",
       "\\item 'Salado'\n",
       "\\item 'Umami'\n",
       "\\end{enumerate*}\n"
      ],
      "text/markdown": [
       "1. 'Ácido'\n",
       "2. 'Amargo'\n",
       "3. 'Dulce'\n",
       "4. 'Salado'\n",
       "5. 'Umami'\n",
       "\n",
       "\n"
      ],
      "text/plain": [
       "[1] \"Ácido\"  \"Amargo\" \"Dulce\"  \"Salado\" \"Umami\" "
      ]
     },
     "metadata": {},
     "output_type": "display_data"
    }
   ],
   "source": [
    "names(tblSabores)"
   ]
  },
  {
   "cell_type": "code",
   "execution_count": 157,
   "metadata": {},
   "outputs": [
    {
     "name": "stdout",
     "output_type": "stream",
     "text": [
      " 'table' int [1:5(1d)] 2 1 2 3 3\n",
      " - attr(*, \"dimnames\")=List of 1\n",
      "  ..$ saboresDePlatos: chr [1:5] \"Ácido\" \"Amargo\" \"Dulce\" \"Salado\" ...\n"
     ]
    }
   ],
   "source": [
    "str(tblSabores)"
   ]
  },
  {
   "cell_type": "markdown",
   "metadata": {},
   "source": [
    "Los atributos son una lista de propiedades asociadas a un objeto en R"
   ]
  },
  {
   "cell_type": "code",
   "execution_count": null,
   "metadata": {},
   "outputs": [],
   "source": [
    "attributes(tblSabores)"
   ]
  },
  {
   "cell_type": "code",
   "execution_count": null,
   "metadata": {},
   "outputs": [],
   "source": [
    "class(tblSabores)"
   ]
  },
  {
   "cell_type": "code",
   "execution_count": null,
   "metadata": {},
   "outputs": [],
   "source": [
    "attributes(tblSabores)$dimnames$saboresDePlatos "
   ]
  },
  {
   "cell_type": "code",
   "execution_count": 158,
   "metadata": {},
   "outputs": [
    {
     "data": {
      "text/plain": [
       "       color\n",
       "animal  blanco marrón negro\n",
       "  gato       1      3     2\n",
       "  perro      1      1     2"
      ]
     },
     "metadata": {},
     "output_type": "display_data"
    }
   ],
   "source": [
    "color  <- c(\"marrón\",\"negro\",\"blanco\",\"negro\",\"blanco\",\"negro\",\"negro\",\"marrón\",\"marrón\",\"marrón\")\n",
    "animal <- c(\"gato\",\"gato\",\"perro\",\"gato\",\"gato\",\"perro\",\"perro\",\"perro\",\"gato\",\"gato\")\n",
    "\n",
    "tbl_animal<-table(animal,color)\n",
    "tbl_animal"
   ]
  },
  {
   "cell_type": "code",
   "execution_count": 159,
   "metadata": {},
   "outputs": [
    {
     "name": "stdout",
     "output_type": "stream",
     "text": [
      " 'table' int [1:2, 1:3] 1 1 3 1 2 2\n",
      " - attr(*, \"dimnames\")=List of 2\n",
      "  ..$ animal: chr [1:2] \"gato\" \"perro\"\n",
      "  ..$ color : chr [1:3] \"blanco\" \"marrón\" \"negro\"\n"
     ]
    }
   ],
   "source": [
    "str(tbl_animal)"
   ]
  },
  {
   "cell_type": "code",
   "execution_count": 160,
   "metadata": {},
   "outputs": [
    {
     "data": {
      "text/html": [
       "<dl>\n",
       "\t<dt>$animal</dt>\n",
       "\t\t<dd><style>\n",
       ".list-inline {list-style: none; margin:0; padding: 0}\n",
       ".list-inline>li {display: inline-block}\n",
       ".list-inline>li:not(:last-child)::after {content: \"\\00b7\"; padding: 0 .5ex}\n",
       "</style>\n",
       "<ol class=list-inline><li>'gato'</li><li>'perro'</li></ol>\n",
       "</dd>\n",
       "\t<dt>$color</dt>\n",
       "\t\t<dd><style>\n",
       ".list-inline {list-style: none; margin:0; padding: 0}\n",
       ".list-inline>li {display: inline-block}\n",
       ".list-inline>li:not(:last-child)::after {content: \"\\00b7\"; padding: 0 .5ex}\n",
       "</style>\n",
       "<ol class=list-inline><li>'blanco'</li><li>'marrón'</li><li>'negro'</li></ol>\n",
       "</dd>\n",
       "</dl>\n"
      ],
      "text/latex": [
       "\\begin{description}\n",
       "\\item[\\$animal] \\begin{enumerate*}\n",
       "\\item 'gato'\n",
       "\\item 'perro'\n",
       "\\end{enumerate*}\n",
       "\n",
       "\\item[\\$color] \\begin{enumerate*}\n",
       "\\item 'blanco'\n",
       "\\item 'marrón'\n",
       "\\item 'negro'\n",
       "\\end{enumerate*}\n",
       "\n",
       "\\end{description}\n"
      ],
      "text/markdown": [
       "$animal\n",
       ":   1. 'gato'\n",
       "2. 'perro'\n",
       "\n",
       "\n",
       "\n",
       "$color\n",
       ":   1. 'blanco'\n",
       "2. 'marrón'\n",
       "3. 'negro'\n",
       "\n",
       "\n",
       "\n",
       "\n",
       "\n"
      ],
      "text/plain": [
       "$animal\n",
       "[1] \"gato\"  \"perro\"\n",
       "\n",
       "$color\n",
       "[1] \"blanco\" \"marrón\" \"negro\" \n"
      ]
     },
     "metadata": {},
     "output_type": "display_data"
    }
   ],
   "source": [
    "attributes(tbl_animal)$dimnames"
   ]
  },
  {
   "cell_type": "code",
   "execution_count": 161,
   "metadata": {},
   "outputs": [
    {
     "data": {
      "text/html": [
       "<dl>\n",
       "\t<dt>$dim</dt>\n",
       "\t\t<dd><style>\n",
       ".list-inline {list-style: none; margin:0; padding: 0}\n",
       ".list-inline>li {display: inline-block}\n",
       ".list-inline>li:not(:last-child)::after {content: \"\\00b7\"; padding: 0 .5ex}\n",
       "</style>\n",
       "<ol class=list-inline><li>2</li><li>3</li></ol>\n",
       "</dd>\n",
       "\t<dt>$dimnames</dt>\n",
       "\t\t<dd><dl>\n",
       "\t<dt>$animal</dt>\n",
       "\t\t<dd><style>\n",
       ".list-inline {list-style: none; margin:0; padding: 0}\n",
       ".list-inline>li {display: inline-block}\n",
       ".list-inline>li:not(:last-child)::after {content: \"\\00b7\"; padding: 0 .5ex}\n",
       "</style>\n",
       "<ol class=list-inline><li>'gato'</li><li>'perro'</li></ol>\n",
       "</dd>\n",
       "\t<dt>$color</dt>\n",
       "\t\t<dd><style>\n",
       ".list-inline {list-style: none; margin:0; padding: 0}\n",
       ".list-inline>li {display: inline-block}\n",
       ".list-inline>li:not(:last-child)::after {content: \"\\00b7\"; padding: 0 .5ex}\n",
       "</style>\n",
       "<ol class=list-inline><li>'blanco'</li><li>'marrón'</li><li>'negro'</li></ol>\n",
       "</dd>\n",
       "</dl>\n",
       "</dd>\n",
       "\t<dt>$class</dt>\n",
       "\t\t<dd>'table'</dd>\n",
       "</dl>\n"
      ],
      "text/latex": [
       "\\begin{description}\n",
       "\\item[\\$dim] \\begin{enumerate*}\n",
       "\\item 2\n",
       "\\item 3\n",
       "\\end{enumerate*}\n",
       "\n",
       "\\item[\\$dimnames] \\begin{description}\n",
       "\\item[\\$animal] \\begin{enumerate*}\n",
       "\\item 'gato'\n",
       "\\item 'perro'\n",
       "\\end{enumerate*}\n",
       "\n",
       "\\item[\\$color] \\begin{enumerate*}\n",
       "\\item 'blanco'\n",
       "\\item 'marrón'\n",
       "\\item 'negro'\n",
       "\\end{enumerate*}\n",
       "\n",
       "\\end{description}\n",
       "\n",
       "\\item[\\$class] 'table'\n",
       "\\end{description}\n"
      ],
      "text/markdown": [
       "$dim\n",
       ":   1. 2\n",
       "2. 3\n",
       "\n",
       "\n",
       "\n",
       "$dimnames\n",
       ":   $animal\n",
       ":   1. 'gato'\n",
       "2. 'perro'\n",
       "\n",
       "\n",
       "\n",
       "$color\n",
       ":   1. 'blanco'\n",
       "2. 'marrón'\n",
       "3. 'negro'\n",
       "\n",
       "\n",
       "\n",
       "\n",
       "\n",
       "\n",
       "$class\n",
       ":   'table'\n",
       "\n",
       "\n"
      ],
      "text/plain": [
       "$dim\n",
       "[1] 2 3\n",
       "\n",
       "$dimnames\n",
       "$dimnames$animal\n",
       "[1] \"gato\"  \"perro\"\n",
       "\n",
       "$dimnames$color\n",
       "[1] \"blanco\" \"marrón\" \"negro\" \n",
       "\n",
       "\n",
       "$class\n",
       "[1] \"table\"\n"
      ]
     },
     "metadata": {},
     "output_type": "display_data"
    }
   ],
   "source": [
    "attributes(tbl_animal)"
   ]
  },
  {
   "cell_type": "markdown",
   "metadata": {},
   "source": [
    "## Miniresumen parcial"
   ]
  },
  {
   "cell_type": "markdown",
   "metadata": {},
   "source": [
    "Vector"
   ]
  },
  {
   "cell_type": "code",
   "execution_count": 163,
   "metadata": {},
   "outputs": [
    {
     "data": {
      "text/html": [
       "<style>\n",
       ".list-inline {list-style: none; margin:0; padding: 0}\n",
       ".list-inline>li {display: inline-block}\n",
       ".list-inline>li:not(:last-child)::after {content: \"\\00b7\"; padding: 0 .5ex}\n",
       "</style>\n",
       "<ol class=list-inline><li>7</li><li>8</li><li>9</li></ol>\n"
      ],
      "text/latex": [
       "\\begin{enumerate*}\n",
       "\\item 7\n",
       "\\item 8\n",
       "\\item 9\n",
       "\\end{enumerate*}\n"
      ],
      "text/markdown": [
       "1. 7\n",
       "2. 8\n",
       "3. 9\n",
       "\n",
       "\n"
      ],
      "text/plain": [
       "[1] 7 8 9"
      ]
     },
     "metadata": {},
     "output_type": "display_data"
    }
   ],
   "source": [
    "vecto_pesos <- c(5,7,8,9,10)\n",
    "vecto_pesos[2:4]"
   ]
  },
  {
   "cell_type": "markdown",
   "metadata": {},
   "source": [
    "Listas"
   ]
  },
  {
   "cell_type": "code",
   "execution_count": 165,
   "metadata": {},
   "outputs": [
    {
     "data": {
      "text/html": [
       "<dl>\n",
       "\t<dt>$altura</dt>\n",
       "\t\t<dd>1.5</dd>\n",
       "\t<dt>$ancho</dt>\n",
       "\t\t<dd>1</dd>\n",
       "\t<dt>$peso</dt>\n",
       "\t\t<dd>3</dd>\n",
       "\t<dt>$unidades_peso</dt>\n",
       "\t\t<dd>'Kg'</dd>\n",
       "\t<dt>$unidades_medida</dt>\n",
       "\t\t<dd>'m'</dd>\n",
       "\t<dt>$fabricacion</dt>\n",
       "\t\t<dd><dl>\n",
       "\t<dt>$numeroserie</dt>\n",
       "\t\t<dd>'A1238656'</dd>\n",
       "\t<dt>$origen</dt>\n",
       "\t\t<dd>'Zamora'</dd>\n",
       "</dl>\n",
       "</dd>\n",
       "</dl>\n"
      ],
      "text/latex": [
       "\\begin{description}\n",
       "\\item[\\$altura] 1.5\n",
       "\\item[\\$ancho] 1\n",
       "\\item[\\$peso] 3\n",
       "\\item[\\$unidades\\_peso] 'Kg'\n",
       "\\item[\\$unidades\\_medida] 'm'\n",
       "\\item[\\$fabricacion] \\begin{description}\n",
       "\\item[\\$numeroserie] 'A1238656'\n",
       "\\item[\\$origen] 'Zamora'\n",
       "\\end{description}\n",
       "\n",
       "\\end{description}\n"
      ],
      "text/markdown": [
       "$altura\n",
       ":   1.5\n",
       "$ancho\n",
       ":   1\n",
       "$peso\n",
       ":   3\n",
       "$unidades_peso\n",
       ":   'Kg'\n",
       "$unidades_medida\n",
       ":   'm'\n",
       "$fabricacion\n",
       ":   $numeroserie\n",
       ":   'A1238656'\n",
       "$origen\n",
       ":   'Zamora'\n",
       "\n",
       "\n",
       "\n",
       "\n",
       "\n"
      ],
      "text/plain": [
       "$altura\n",
       "[1] 1.5\n",
       "\n",
       "$ancho\n",
       "[1] 1\n",
       "\n",
       "$peso\n",
       "[1] 3\n",
       "\n",
       "$unidades_peso\n",
       "[1] \"Kg\"\n",
       "\n",
       "$unidades_medida\n",
       "[1] \"m\"\n",
       "\n",
       "$fabricacion\n",
       "$fabricacion$numeroserie\n",
       "[1] \"A1238656\"\n",
       "\n",
       "$fabricacion$origen\n",
       "[1] \"Zamora\"\n",
       "\n"
      ]
     },
     "metadata": {},
     "output_type": "display_data"
    }
   ],
   "source": [
    "lista_medidas <- list(altura=1.5, ancho=1, peso = 3, unidades_peso=\"Kg\", unidades_medida=\"m\", \n",
    "                      fabricacion=list(numeroserie=\"A1238656\", origen=\"Zamora\"))\n",
    "lista_medidas"
   ]
  },
  {
   "cell_type": "code",
   "execution_count": 166,
   "metadata": {},
   "outputs": [
    {
     "data": {
      "text/html": [
       "1.5"
      ],
      "text/latex": [
       "1.5"
      ],
      "text/markdown": [
       "1.5"
      ],
      "text/plain": [
       "[1] 1.5"
      ]
     },
     "metadata": {},
     "output_type": "display_data"
    }
   ],
   "source": [
    "lista_medidas[[\"altura\"]]"
   ]
  },
  {
   "cell_type": "markdown",
   "metadata": {},
   "source": [
    "## Data Frame\n",
    "\n",
    "Un Dataframe es una tabla como la que podemos encontrar en cualquier hoja de calculo.\n",
    "\n",
    "![](pics/ejemplo_dataframe.png)\n",
    "\n",
    "La información se estructura en columnas, cada columna puede ser de un tipo de variable diferente: categorica, numerica, fecha, etc..\n",
    "\n",
    "Cada fila representa un elemento u objeto cuyos atributos están representados por las columnas."
   ]
  },
  {
   "cell_type": "markdown",
   "metadata": {},
   "source": [
    "En R se definen como un conjunto de vectores de la misma longitud. Cada vector puede ser de un tipo diferente."
   ]
  },
  {
   "cell_type": "code",
   "execution_count": 167,
   "metadata": {},
   "outputs": [],
   "source": [
    "plt <- c(\"Bollo\",\"Palomitas\",\"Limón\",\"Ginebra\",\"Noodles\",\"Caramelo\",\"Patatas fritas\",\"Naranja\",\"Ternera\",\"Cerdo\",\"Sopa\")\n",
    "cal <-c(150,200,10,20,200,5,500,15,450,460,30)"
   ]
  },
  {
   "cell_type": "code",
   "execution_count": 168,
   "metadata": {},
   "outputs": [
    {
     "data": {
      "text/html": [
       "'Elemento 5 : Noodles - 200 cal'"
      ],
      "text/latex": [
       "'Elemento 5 : Noodles - 200 cal'"
      ],
      "text/markdown": [
       "'Elemento 5 : Noodles - 200 cal'"
      ],
      "text/plain": [
       "[1] \"Elemento 5 : Noodles - 200 cal\""
      ]
     },
     "metadata": {},
     "output_type": "display_data"
    }
   ],
   "source": [
    "idx<- 5 \n",
    "paste(\"Elemento\",idx,\":\",plt[idx],\"-\",cal[idx],\"cal\")"
   ]
  },
  {
   "cell_type": "code",
   "execution_count": 169,
   "metadata": {},
   "outputs": [
    {
     "data": {
      "text/html": [
       "<table class=\"dataframe\">\n",
       "<caption>A data.frame: 11 × 3</caption>\n",
       "<thead>\n",
       "\t<tr><th scope=col>plato</th><th scope=col>calorias</th><th scope=col>sabor</th></tr>\n",
       "\t<tr><th scope=col>&lt;chr&gt;</th><th scope=col>&lt;dbl&gt;</th><th scope=col>&lt;chr&gt;</th></tr>\n",
       "</thead>\n",
       "<tbody>\n",
       "\t<tr><td>Bollo         </td><td>150</td><td>Dulce </td></tr>\n",
       "\t<tr><td>Palomitas     </td><td>200</td><td>Salado</td></tr>\n",
       "\t<tr><td>Limón         </td><td> 10</td><td>Ácido </td></tr>\n",
       "\t<tr><td>Ginebra       </td><td> 20</td><td>Amargo</td></tr>\n",
       "\t<tr><td>Noodles       </td><td>200</td><td>Umami </td></tr>\n",
       "\t<tr><td>Caramelo      </td><td>  5</td><td>Dulce </td></tr>\n",
       "\t<tr><td>Patatas fritas</td><td>500</td><td>Salado</td></tr>\n",
       "\t<tr><td>Naranja       </td><td> 15</td><td>Ácido </td></tr>\n",
       "\t<tr><td>Ternera       </td><td>450</td><td>Umami </td></tr>\n",
       "\t<tr><td>Cerdo         </td><td>460</td><td>Umami </td></tr>\n",
       "\t<tr><td>Sopa          </td><td> 30</td><td>Salado</td></tr>\n",
       "</tbody>\n",
       "</table>\n"
      ],
      "text/latex": [
       "A data.frame: 11 × 3\n",
       "\\begin{tabular}{lll}\n",
       " plato & calorias & sabor\\\\\n",
       " <chr> & <dbl> & <chr>\\\\\n",
       "\\hline\n",
       "\t Bollo          & 150 & Dulce \\\\\n",
       "\t Palomitas      & 200 & Salado\\\\\n",
       "\t Limón          &  10 & Ácido \\\\\n",
       "\t Ginebra        &  20 & Amargo\\\\\n",
       "\t Noodles        & 200 & Umami \\\\\n",
       "\t Caramelo       &   5 & Dulce \\\\\n",
       "\t Patatas fritas & 500 & Salado\\\\\n",
       "\t Naranja        &  15 & Ácido \\\\\n",
       "\t Ternera        & 450 & Umami \\\\\n",
       "\t Cerdo          & 460 & Umami \\\\\n",
       "\t Sopa           &  30 & Salado\\\\\n",
       "\\end{tabular}\n"
      ],
      "text/markdown": [
       "\n",
       "A data.frame: 11 × 3\n",
       "\n",
       "| plato &lt;chr&gt; | calorias &lt;dbl&gt; | sabor &lt;chr&gt; |\n",
       "|---|---|---|\n",
       "| Bollo          | 150 | Dulce  |\n",
       "| Palomitas      | 200 | Salado |\n",
       "| Limón          |  10 | Ácido  |\n",
       "| Ginebra        |  20 | Amargo |\n",
       "| Noodles        | 200 | Umami  |\n",
       "| Caramelo       |   5 | Dulce  |\n",
       "| Patatas fritas | 500 | Salado |\n",
       "| Naranja        |  15 | Ácido  |\n",
       "| Ternera        | 450 | Umami  |\n",
       "| Cerdo          | 460 | Umami  |\n",
       "| Sopa           |  30 | Salado |\n",
       "\n"
      ],
      "text/plain": [
       "   plato          calorias sabor \n",
       "1  Bollo          150      Dulce \n",
       "2  Palomitas      200      Salado\n",
       "3  Limón           10      Ácido \n",
       "4  Ginebra         20      Amargo\n",
       "5  Noodles        200      Umami \n",
       "6  Caramelo         5      Dulce \n",
       "7  Patatas fritas 500      Salado\n",
       "8  Naranja         15      Ácido \n",
       "9  Ternera        450      Umami \n",
       "10 Cerdo          460      Umami \n",
       "11 Sopa            30      Salado"
      ]
     },
     "metadata": {},
     "output_type": "display_data"
    },
    {
     "name": "stdout",
     "output_type": "stream",
     "text": [
      "'data.frame':\t11 obs. of  3 variables:\n",
      " $ plato   : chr  \"Bollo\" \"Palomitas\" \"Limón\" \"Ginebra\" ...\n",
      " $ calorias: num  150 200 10 20 200 5 500 15 450 460 ...\n",
      " $ sabor   : chr  \"Dulce\" \"Salado\" \"Ácido\" \"Amargo\" ...\n"
     ]
    }
   ],
   "source": [
    "comidas<-data.frame(plato=plt, calorias=cal, sabor=saboresDePlatos, stringsAsFactors = F)\n",
    "comidas\n",
    "str(comidas)"
   ]
  },
  {
   "cell_type": "markdown",
   "metadata": {},
   "source": [
    "### Acceso a elementos de un data frame"
   ]
  },
  {
   "cell_type": "markdown",
   "metadata": {},
   "source": [
    "Acceso por filas:"
   ]
  },
  {
   "cell_type": "code",
   "execution_count": 182,
   "metadata": {},
   "outputs": [
    {
     "data": {
      "text/html": [
       "<table class=\"dataframe\">\n",
       "<caption>A data.frame: 3 × 3</caption>\n",
       "<thead>\n",
       "\t<tr><th></th><th scope=col>plato</th><th scope=col>calorias</th><th scope=col>sabor</th></tr>\n",
       "\t<tr><th></th><th scope=col>&lt;chr&gt;</th><th scope=col>&lt;dbl&gt;</th><th scope=col>&lt;chr&gt;</th></tr>\n",
       "</thead>\n",
       "<tbody>\n",
       "\t<tr><th scope=row>2</th><td>Palomitas</td><td>200</td><td>Salado</td></tr>\n",
       "\t<tr><th scope=row>3</th><td>Limón    </td><td> 10</td><td>Ácido </td></tr>\n",
       "\t<tr><th scope=row>4</th><td>Ginebra  </td><td> 20</td><td>Amargo</td></tr>\n",
       "</tbody>\n",
       "</table>\n"
      ],
      "text/latex": [
       "A data.frame: 3 × 3\n",
       "\\begin{tabular}{r|lll}\n",
       "  & plato & calorias & sabor\\\\\n",
       "  & <chr> & <dbl> & <chr>\\\\\n",
       "\\hline\n",
       "\t2 & Palomitas & 200 & Salado\\\\\n",
       "\t3 & Limón     &  10 & Ácido \\\\\n",
       "\t4 & Ginebra   &  20 & Amargo\\\\\n",
       "\\end{tabular}\n"
      ],
      "text/markdown": [
       "\n",
       "A data.frame: 3 × 3\n",
       "\n",
       "| <!--/--> | plato &lt;chr&gt; | calorias &lt;dbl&gt; | sabor &lt;chr&gt; |\n",
       "|---|---|---|---|\n",
       "| 2 | Palomitas | 200 | Salado |\n",
       "| 3 | Limón     |  10 | Ácido  |\n",
       "| 4 | Ginebra   |  20 | Amargo |\n",
       "\n"
      ],
      "text/plain": [
       "  plato     calorias sabor \n",
       "2 Palomitas 200      Salado\n",
       "3 Limón      10      Ácido \n",
       "4 Ginebra    20      Amargo"
      ]
     },
     "metadata": {},
     "output_type": "display_data"
    }
   ],
   "source": [
    "comidas[2:4,  ]"
   ]
  },
  {
   "cell_type": "code",
   "execution_count": 174,
   "metadata": {},
   "outputs": [
    {
     "data": {
      "text/html": [
       "<table class=\"dataframe\">\n",
       "<caption>A data.frame: 6 × 3</caption>\n",
       "<thead>\n",
       "\t<tr><th></th><th scope=col>plato</th><th scope=col>calorias</th><th scope=col>sabor</th></tr>\n",
       "\t<tr><th></th><th scope=col>&lt;chr&gt;</th><th scope=col>&lt;dbl&gt;</th><th scope=col>&lt;chr&gt;</th></tr>\n",
       "</thead>\n",
       "<tbody>\n",
       "\t<tr><th scope=row>2</th><td>Palomitas     </td><td>200</td><td>Salado</td></tr>\n",
       "\t<tr><th scope=row>4</th><td>Ginebra       </td><td> 20</td><td>Amargo</td></tr>\n",
       "\t<tr><th scope=row>6</th><td>Caramelo      </td><td>  5</td><td>Dulce </td></tr>\n",
       "\t<tr><th scope=row>7</th><td>Patatas fritas</td><td>500</td><td>Salado</td></tr>\n",
       "\t<tr><th scope=row>8</th><td>Naranja       </td><td> 15</td><td>Ácido </td></tr>\n",
       "\t<tr><th scope=row>9</th><td>Ternera       </td><td>450</td><td>Umami </td></tr>\n",
       "</tbody>\n",
       "</table>\n"
      ],
      "text/latex": [
       "A data.frame: 6 × 3\n",
       "\\begin{tabular}{r|lll}\n",
       "  & plato & calorias & sabor\\\\\n",
       "  & <chr> & <dbl> & <chr>\\\\\n",
       "\\hline\n",
       "\t2 & Palomitas      & 200 & Salado\\\\\n",
       "\t4 & Ginebra        &  20 & Amargo\\\\\n",
       "\t6 & Caramelo       &   5 & Dulce \\\\\n",
       "\t7 & Patatas fritas & 500 & Salado\\\\\n",
       "\t8 & Naranja        &  15 & Ácido \\\\\n",
       "\t9 & Ternera        & 450 & Umami \\\\\n",
       "\\end{tabular}\n"
      ],
      "text/markdown": [
       "\n",
       "A data.frame: 6 × 3\n",
       "\n",
       "| <!--/--> | plato &lt;chr&gt; | calorias &lt;dbl&gt; | sabor &lt;chr&gt; |\n",
       "|---|---|---|---|\n",
       "| 2 | Palomitas      | 200 | Salado |\n",
       "| 4 | Ginebra        |  20 | Amargo |\n",
       "| 6 | Caramelo       |   5 | Dulce  |\n",
       "| 7 | Patatas fritas | 500 | Salado |\n",
       "| 8 | Naranja        |  15 | Ácido  |\n",
       "| 9 | Ternera        | 450 | Umami  |\n",
       "\n"
      ],
      "text/plain": [
       "  plato          calorias sabor \n",
       "2 Palomitas      200      Salado\n",
       "4 Ginebra         20      Amargo\n",
       "6 Caramelo         5      Dulce \n",
       "7 Patatas fritas 500      Salado\n",
       "8 Naranja         15      Ácido \n",
       "9 Ternera        450      Umami "
      ]
     },
     "metadata": {},
     "output_type": "display_data"
    }
   ],
   "source": [
    "comidas[c(-1,-3,-5,-10,-11),]"
   ]
  },
  {
   "cell_type": "markdown",
   "metadata": {},
   "source": [
    "Acceso por columnas:"
   ]
  },
  {
   "cell_type": "code",
   "execution_count": 175,
   "metadata": {},
   "outputs": [
    {
     "data": {
      "text/html": [
       "<table class=\"dataframe\">\n",
       "<caption>A data.frame: 11 × 2</caption>\n",
       "<thead>\n",
       "\t<tr><th scope=col>plato</th><th scope=col>calorias</th></tr>\n",
       "\t<tr><th scope=col>&lt;chr&gt;</th><th scope=col>&lt;dbl&gt;</th></tr>\n",
       "</thead>\n",
       "<tbody>\n",
       "\t<tr><td>Bollo         </td><td>150</td></tr>\n",
       "\t<tr><td>Palomitas     </td><td>200</td></tr>\n",
       "\t<tr><td>Limón         </td><td> 10</td></tr>\n",
       "\t<tr><td>Ginebra       </td><td> 20</td></tr>\n",
       "\t<tr><td>Noodles       </td><td>200</td></tr>\n",
       "\t<tr><td>Caramelo      </td><td>  5</td></tr>\n",
       "\t<tr><td>Patatas fritas</td><td>500</td></tr>\n",
       "\t<tr><td>Naranja       </td><td> 15</td></tr>\n",
       "\t<tr><td>Ternera       </td><td>450</td></tr>\n",
       "\t<tr><td>Cerdo         </td><td>460</td></tr>\n",
       "\t<tr><td>Sopa          </td><td> 30</td></tr>\n",
       "</tbody>\n",
       "</table>\n"
      ],
      "text/latex": [
       "A data.frame: 11 × 2\n",
       "\\begin{tabular}{ll}\n",
       " plato & calorias\\\\\n",
       " <chr> & <dbl>\\\\\n",
       "\\hline\n",
       "\t Bollo          & 150\\\\\n",
       "\t Palomitas      & 200\\\\\n",
       "\t Limón          &  10\\\\\n",
       "\t Ginebra        &  20\\\\\n",
       "\t Noodles        & 200\\\\\n",
       "\t Caramelo       &   5\\\\\n",
       "\t Patatas fritas & 500\\\\\n",
       "\t Naranja        &  15\\\\\n",
       "\t Ternera        & 450\\\\\n",
       "\t Cerdo          & 460\\\\\n",
       "\t Sopa           &  30\\\\\n",
       "\\end{tabular}\n"
      ],
      "text/markdown": [
       "\n",
       "A data.frame: 11 × 2\n",
       "\n",
       "| plato &lt;chr&gt; | calorias &lt;dbl&gt; |\n",
       "|---|---|\n",
       "| Bollo          | 150 |\n",
       "| Palomitas      | 200 |\n",
       "| Limón          |  10 |\n",
       "| Ginebra        |  20 |\n",
       "| Noodles        | 200 |\n",
       "| Caramelo       |   5 |\n",
       "| Patatas fritas | 500 |\n",
       "| Naranja        |  15 |\n",
       "| Ternera        | 450 |\n",
       "| Cerdo          | 460 |\n",
       "| Sopa           |  30 |\n",
       "\n"
      ],
      "text/plain": [
       "   plato          calorias\n",
       "1  Bollo          150     \n",
       "2  Palomitas      200     \n",
       "3  Limón           10     \n",
       "4  Ginebra         20     \n",
       "5  Noodles        200     \n",
       "6  Caramelo         5     \n",
       "7  Patatas fritas 500     \n",
       "8  Naranja         15     \n",
       "9  Ternera        450     \n",
       "10 Cerdo          460     \n",
       "11 Sopa            30     "
      ]
     },
     "metadata": {},
     "output_type": "display_data"
    }
   ],
   "source": [
    "comidas[,c(\"plato\",\"calorias\")]"
   ]
  },
  {
   "cell_type": "markdown",
   "metadata": {},
   "source": [
    "Se puede usar el símbolo **$** para acceder a una columna.  \n",
    "Las siguientes dos llamadas son equivalentes:"
   ]
  },
  {
   "cell_type": "code",
   "execution_count": 176,
   "metadata": {},
   "outputs": [
    {
     "data": {
      "text/html": [
       "<style>\n",
       ".list-inline {list-style: none; margin:0; padding: 0}\n",
       ".list-inline>li {display: inline-block}\n",
       ".list-inline>li:not(:last-child)::after {content: \"\\00b7\"; padding: 0 .5ex}\n",
       "</style>\n",
       "<ol class=list-inline><li>'Bollo'</li><li>'Palomitas'</li><li>'Limón'</li><li>'Ginebra'</li><li>'Noodles'</li><li>'Caramelo'</li><li>'Patatas fritas'</li><li>'Naranja'</li><li>'Ternera'</li><li>'Cerdo'</li><li>'Sopa'</li></ol>\n"
      ],
      "text/latex": [
       "\\begin{enumerate*}\n",
       "\\item 'Bollo'\n",
       "\\item 'Palomitas'\n",
       "\\item 'Limón'\n",
       "\\item 'Ginebra'\n",
       "\\item 'Noodles'\n",
       "\\item 'Caramelo'\n",
       "\\item 'Patatas fritas'\n",
       "\\item 'Naranja'\n",
       "\\item 'Ternera'\n",
       "\\item 'Cerdo'\n",
       "\\item 'Sopa'\n",
       "\\end{enumerate*}\n"
      ],
      "text/markdown": [
       "1. 'Bollo'\n",
       "2. 'Palomitas'\n",
       "3. 'Limón'\n",
       "4. 'Ginebra'\n",
       "5. 'Noodles'\n",
       "6. 'Caramelo'\n",
       "7. 'Patatas fritas'\n",
       "8. 'Naranja'\n",
       "9. 'Ternera'\n",
       "10. 'Cerdo'\n",
       "11. 'Sopa'\n",
       "\n",
       "\n"
      ],
      "text/plain": [
       " [1] \"Bollo\"          \"Palomitas\"      \"Limón\"          \"Ginebra\"       \n",
       " [5] \"Noodles\"        \"Caramelo\"       \"Patatas fritas\" \"Naranja\"       \n",
       " [9] \"Ternera\"        \"Cerdo\"          \"Sopa\"          "
      ]
     },
     "metadata": {},
     "output_type": "display_data"
    }
   ],
   "source": [
    "comidas$plato"
   ]
  },
  {
   "cell_type": "code",
   "execution_count": 177,
   "metadata": {},
   "outputs": [
    {
     "data": {
      "text/html": [
       "<style>\n",
       ".list-inline {list-style: none; margin:0; padding: 0}\n",
       ".list-inline>li {display: inline-block}\n",
       ".list-inline>li:not(:last-child)::after {content: \"\\00b7\"; padding: 0 .5ex}\n",
       "</style>\n",
       "<ol class=list-inline><li>'Bollo'</li><li>'Palomitas'</li><li>'Limón'</li><li>'Ginebra'</li><li>'Noodles'</li><li>'Caramelo'</li><li>'Patatas fritas'</li><li>'Naranja'</li><li>'Ternera'</li><li>'Cerdo'</li><li>'Sopa'</li></ol>\n"
      ],
      "text/latex": [
       "\\begin{enumerate*}\n",
       "\\item 'Bollo'\n",
       "\\item 'Palomitas'\n",
       "\\item 'Limón'\n",
       "\\item 'Ginebra'\n",
       "\\item 'Noodles'\n",
       "\\item 'Caramelo'\n",
       "\\item 'Patatas fritas'\n",
       "\\item 'Naranja'\n",
       "\\item 'Ternera'\n",
       "\\item 'Cerdo'\n",
       "\\item 'Sopa'\n",
       "\\end{enumerate*}\n"
      ],
      "text/markdown": [
       "1. 'Bollo'\n",
       "2. 'Palomitas'\n",
       "3. 'Limón'\n",
       "4. 'Ginebra'\n",
       "5. 'Noodles'\n",
       "6. 'Caramelo'\n",
       "7. 'Patatas fritas'\n",
       "8. 'Naranja'\n",
       "9. 'Ternera'\n",
       "10. 'Cerdo'\n",
       "11. 'Sopa'\n",
       "\n",
       "\n"
      ],
      "text/plain": [
       " [1] \"Bollo\"          \"Palomitas\"      \"Limón\"          \"Ginebra\"       \n",
       " [5] \"Noodles\"        \"Caramelo\"       \"Patatas fritas\" \"Naranja\"       \n",
       " [9] \"Ternera\"        \"Cerdo\"          \"Sopa\"          "
      ]
     },
     "metadata": {},
     "output_type": "display_data"
    }
   ],
   "source": [
    "comidas[,\"plato\"]"
   ]
  },
  {
   "cell_type": "code",
   "execution_count": 183,
   "metadata": {},
   "outputs": [
    {
     "data": {
      "text/html": [
       "<style>\n",
       ".list-inline {list-style: none; margin:0; padding: 0}\n",
       ".list-inline>li {display: inline-block}\n",
       ".list-inline>li:not(:last-child)::after {content: \"\\00b7\"; padding: 0 .5ex}\n",
       "</style>\n",
       "<ol class=list-inline><li>'Bollo'</li><li>'Palomitas'</li><li>'Limón'</li><li>'Ginebra'</li><li>'Noodles'</li><li>'Caramelo'</li><li>'Patatas fritas'</li><li>'Naranja'</li><li>'Ternera'</li><li>'Cerdo'</li><li>'Sopa'</li></ol>\n"
      ],
      "text/latex": [
       "\\begin{enumerate*}\n",
       "\\item 'Bollo'\n",
       "\\item 'Palomitas'\n",
       "\\item 'Limón'\n",
       "\\item 'Ginebra'\n",
       "\\item 'Noodles'\n",
       "\\item 'Caramelo'\n",
       "\\item 'Patatas fritas'\n",
       "\\item 'Naranja'\n",
       "\\item 'Ternera'\n",
       "\\item 'Cerdo'\n",
       "\\item 'Sopa'\n",
       "\\end{enumerate*}\n"
      ],
      "text/markdown": [
       "1. 'Bollo'\n",
       "2. 'Palomitas'\n",
       "3. 'Limón'\n",
       "4. 'Ginebra'\n",
       "5. 'Noodles'\n",
       "6. 'Caramelo'\n",
       "7. 'Patatas fritas'\n",
       "8. 'Naranja'\n",
       "9. 'Ternera'\n",
       "10. 'Cerdo'\n",
       "11. 'Sopa'\n",
       "\n",
       "\n"
      ],
      "text/plain": [
       " [1] \"Bollo\"          \"Palomitas\"      \"Limón\"          \"Ginebra\"       \n",
       " [5] \"Noodles\"        \"Caramelo\"       \"Patatas fritas\" \"Naranja\"       \n",
       " [9] \"Ternera\"        \"Cerdo\"          \"Sopa\"          "
      ]
     },
     "metadata": {},
     "output_type": "display_data"
    }
   ],
   "source": [
    "comidas[,1]"
   ]
  },
  {
   "cell_type": "code",
   "execution_count": 184,
   "metadata": {},
   "outputs": [
    {
     "data": {
      "text/html": [
       "<style>\n",
       ".list-inline {list-style: none; margin:0; padding: 0}\n",
       ".list-inline>li {display: inline-block}\n",
       ".list-inline>li:not(:last-child)::after {content: \"\\00b7\"; padding: 0 .5ex}\n",
       "</style>\n",
       "<ol class=list-inline><li>'Dulce'</li><li>'Salado'</li><li>'Ácido'</li><li>'Amargo'</li><li>'Umami'</li><li>'Dulce'</li><li>'Salado'</li><li>'Ácido'</li><li>'Umami'</li><li>'Umami'</li><li>'Salado'</li></ol>\n"
      ],
      "text/latex": [
       "\\begin{enumerate*}\n",
       "\\item 'Dulce'\n",
       "\\item 'Salado'\n",
       "\\item 'Ácido'\n",
       "\\item 'Amargo'\n",
       "\\item 'Umami'\n",
       "\\item 'Dulce'\n",
       "\\item 'Salado'\n",
       "\\item 'Ácido'\n",
       "\\item 'Umami'\n",
       "\\item 'Umami'\n",
       "\\item 'Salado'\n",
       "\\end{enumerate*}\n"
      ],
      "text/markdown": [
       "1. 'Dulce'\n",
       "2. 'Salado'\n",
       "3. 'Ácido'\n",
       "4. 'Amargo'\n",
       "5. 'Umami'\n",
       "6. 'Dulce'\n",
       "7. 'Salado'\n",
       "8. 'Ácido'\n",
       "9. 'Umami'\n",
       "10. 'Umami'\n",
       "11. 'Salado'\n",
       "\n",
       "\n"
      ],
      "text/plain": [
       " [1] \"Dulce\"  \"Salado\" \"Ácido\"  \"Amargo\" \"Umami\"  \"Dulce\"  \"Salado\" \"Ácido\" \n",
       " [9] \"Umami\"  \"Umami\"  \"Salado\""
      ]
     },
     "metadata": {},
     "output_type": "display_data"
    }
   ],
   "source": [
    "comidas[,c(-1,-2)]"
   ]
  },
  {
   "cell_type": "code",
   "execution_count": 185,
   "metadata": {},
   "outputs": [
    {
     "data": {
      "text/html": [
       "<style>\n",
       ".list-inline {list-style: none; margin:0; padding: 0}\n",
       ".list-inline>li {display: inline-block}\n",
       ".list-inline>li:not(:last-child)::after {content: \"\\00b7\"; padding: 0 .5ex}\n",
       "</style>\n",
       "<ol class=list-inline><li>'Palomitas'</li><li>'Limón'</li></ol>\n"
      ],
      "text/latex": [
       "\\begin{enumerate*}\n",
       "\\item 'Palomitas'\n",
       "\\item 'Limón'\n",
       "\\end{enumerate*}\n"
      ],
      "text/markdown": [
       "1. 'Palomitas'\n",
       "2. 'Limón'\n",
       "\n",
       "\n"
      ],
      "text/plain": [
       "[1] \"Palomitas\" \"Limón\"    "
      ]
     },
     "metadata": {},
     "output_type": "display_data"
    }
   ],
   "source": [
    "comidas$plato[2:3]"
   ]
  },
  {
   "cell_type": "code",
   "execution_count": 186,
   "metadata": {},
   "outputs": [
    {
     "data": {
      "text/html": [
       "<style>\n",
       ".list-inline {list-style: none; margin:0; padding: 0}\n",
       ".list-inline>li {display: inline-block}\n",
       ".list-inline>li:not(:last-child)::after {content: \"\\00b7\"; padding: 0 .5ex}\n",
       "</style>\n",
       "<ol class=list-inline><li>'Palomitas'</li><li>'Limón'</li></ol>\n"
      ],
      "text/latex": [
       "\\begin{enumerate*}\n",
       "\\item 'Palomitas'\n",
       "\\item 'Limón'\n",
       "\\end{enumerate*}\n"
      ],
      "text/markdown": [
       "1. 'Palomitas'\n",
       "2. 'Limón'\n",
       "\n",
       "\n"
      ],
      "text/plain": [
       "[1] \"Palomitas\" \"Limón\"    "
      ]
     },
     "metadata": {},
     "output_type": "display_data"
    }
   ],
   "source": [
    "comidas[2:3,\"plato\"]"
   ]
  },
  {
   "cell_type": "code",
   "execution_count": 187,
   "metadata": {},
   "outputs": [
    {
     "data": {
      "text/html": [
       "<style>\n",
       ".list-inline {list-style: none; margin:0; padding: 0}\n",
       ".list-inline>li {display: inline-block}\n",
       ".list-inline>li:not(:last-child)::after {content: \"\\00b7\"; padding: 0 .5ex}\n",
       "</style>\n",
       "<ol class=list-inline><li>'plato'</li><li>'calorias'</li><li>'sabor'</li></ol>\n"
      ],
      "text/latex": [
       "\\begin{enumerate*}\n",
       "\\item 'plato'\n",
       "\\item 'calorias'\n",
       "\\item 'sabor'\n",
       "\\end{enumerate*}\n"
      ],
      "text/markdown": [
       "1. 'plato'\n",
       "2. 'calorias'\n",
       "3. 'sabor'\n",
       "\n",
       "\n"
      ],
      "text/plain": [
       "[1] \"plato\"    \"calorias\" \"sabor\"   "
      ]
     },
     "metadata": {},
     "output_type": "display_data"
    }
   ],
   "source": [
    "colnames(comidas)"
   ]
  },
  {
   "cell_type": "markdown",
   "metadata": {},
   "source": [
    "Número de filas que tiene un dataframe:"
   ]
  },
  {
   "cell_type": "code",
   "execution_count": 188,
   "metadata": {},
   "outputs": [
    {
     "data": {
      "text/html": [
       "11"
      ],
      "text/latex": [
       "11"
      ],
      "text/markdown": [
       "11"
      ],
      "text/plain": [
       "[1] 11"
      ]
     },
     "metadata": {},
     "output_type": "display_data"
    }
   ],
   "source": [
    "nrow(comidas)"
   ]
  },
  {
   "cell_type": "markdown",
   "metadata": {},
   "source": [
    "Número de columnas"
   ]
  },
  {
   "cell_type": "code",
   "execution_count": 189,
   "metadata": {},
   "outputs": [
    {
     "data": {
      "text/html": [
       "3"
      ],
      "text/latex": [
       "3"
      ],
      "text/markdown": [
       "3"
      ],
      "text/plain": [
       "[1] 3"
      ]
     },
     "metadata": {},
     "output_type": "display_data"
    }
   ],
   "source": [
    "ncol(comidas)"
   ]
  },
  {
   "cell_type": "markdown",
   "metadata": {},
   "source": [
    "También podemos dar nombres a las filas"
   ]
  },
  {
   "cell_type": "code",
   "execution_count": 190,
   "metadata": {},
   "outputs": [
    {
     "data": {
      "text/html": [
       "<table class=\"dataframe\">\n",
       "<caption>A data.frame: 11 × 3</caption>\n",
       "<thead>\n",
       "\t<tr><th></th><th scope=col>plato</th><th scope=col>calorias</th><th scope=col>sabor</th></tr>\n",
       "\t<tr><th></th><th scope=col>&lt;chr&gt;</th><th scope=col>&lt;dbl&gt;</th><th scope=col>&lt;chr&gt;</th></tr>\n",
       "</thead>\n",
       "<tbody>\n",
       "\t<tr><th scope=row>comida1</th><td>Bollo         </td><td>150</td><td>Dulce </td></tr>\n",
       "\t<tr><th scope=row>comida2</th><td>Palomitas     </td><td>200</td><td>Salado</td></tr>\n",
       "\t<tr><th scope=row>comida3</th><td>Limón         </td><td> 10</td><td>Ácido </td></tr>\n",
       "\t<tr><th scope=row>comida4</th><td>Ginebra       </td><td> 20</td><td>Amargo</td></tr>\n",
       "\t<tr><th scope=row>comida5</th><td>Noodles       </td><td>200</td><td>Umami </td></tr>\n",
       "\t<tr><th scope=row>comida6</th><td>Caramelo      </td><td>  5</td><td>Dulce </td></tr>\n",
       "\t<tr><th scope=row>comida7</th><td>Patatas fritas</td><td>500</td><td>Salado</td></tr>\n",
       "\t<tr><th scope=row>comida8</th><td>Naranja       </td><td> 15</td><td>Ácido </td></tr>\n",
       "\t<tr><th scope=row>comida9</th><td>Ternera       </td><td>450</td><td>Umami </td></tr>\n",
       "\t<tr><th scope=row>comida10</th><td>Cerdo         </td><td>460</td><td>Umami </td></tr>\n",
       "\t<tr><th scope=row>comida11</th><td>Sopa          </td><td> 30</td><td>Salado</td></tr>\n",
       "</tbody>\n",
       "</table>\n"
      ],
      "text/latex": [
       "A data.frame: 11 × 3\n",
       "\\begin{tabular}{r|lll}\n",
       "  & plato & calorias & sabor\\\\\n",
       "  & <chr> & <dbl> & <chr>\\\\\n",
       "\\hline\n",
       "\tcomida1 & Bollo          & 150 & Dulce \\\\\n",
       "\tcomida2 & Palomitas      & 200 & Salado\\\\\n",
       "\tcomida3 & Limón          &  10 & Ácido \\\\\n",
       "\tcomida4 & Ginebra        &  20 & Amargo\\\\\n",
       "\tcomida5 & Noodles        & 200 & Umami \\\\\n",
       "\tcomida6 & Caramelo       &   5 & Dulce \\\\\n",
       "\tcomida7 & Patatas fritas & 500 & Salado\\\\\n",
       "\tcomida8 & Naranja        &  15 & Ácido \\\\\n",
       "\tcomida9 & Ternera        & 450 & Umami \\\\\n",
       "\tcomida10 & Cerdo          & 460 & Umami \\\\\n",
       "\tcomida11 & Sopa           &  30 & Salado\\\\\n",
       "\\end{tabular}\n"
      ],
      "text/markdown": [
       "\n",
       "A data.frame: 11 × 3\n",
       "\n",
       "| <!--/--> | plato &lt;chr&gt; | calorias &lt;dbl&gt; | sabor &lt;chr&gt; |\n",
       "|---|---|---|---|\n",
       "| comida1 | Bollo          | 150 | Dulce  |\n",
       "| comida2 | Palomitas      | 200 | Salado |\n",
       "| comida3 | Limón          |  10 | Ácido  |\n",
       "| comida4 | Ginebra        |  20 | Amargo |\n",
       "| comida5 | Noodles        | 200 | Umami  |\n",
       "| comida6 | Caramelo       |   5 | Dulce  |\n",
       "| comida7 | Patatas fritas | 500 | Salado |\n",
       "| comida8 | Naranja        |  15 | Ácido  |\n",
       "| comida9 | Ternera        | 450 | Umami  |\n",
       "| comida10 | Cerdo          | 460 | Umami  |\n",
       "| comida11 | Sopa           |  30 | Salado |\n",
       "\n"
      ],
      "text/plain": [
       "         plato          calorias sabor \n",
       "comida1  Bollo          150      Dulce \n",
       "comida2  Palomitas      200      Salado\n",
       "comida3  Limón           10      Ácido \n",
       "comida4  Ginebra         20      Amargo\n",
       "comida5  Noodles        200      Umami \n",
       "comida6  Caramelo         5      Dulce \n",
       "comida7  Patatas fritas 500      Salado\n",
       "comida8  Naranja         15      Ácido \n",
       "comida9  Ternera        450      Umami \n",
       "comida10 Cerdo          460      Umami \n",
       "comida11 Sopa            30      Salado"
      ]
     },
     "metadata": {},
     "output_type": "display_data"
    }
   ],
   "source": [
    "rownames(comidas)<-paste0(\"comida\",1:nrow(comidas))\n",
    "comidas"
   ]
  },
  {
   "cell_type": "code",
   "execution_count": 191,
   "metadata": {},
   "outputs": [
    {
     "data": {
      "text/html": [
       "200"
      ],
      "text/latex": [
       "200"
      ],
      "text/markdown": [
       "200"
      ],
      "text/plain": [
       "[1] 200"
      ]
     },
     "metadata": {},
     "output_type": "display_data"
    }
   ],
   "source": [
    "comidas[\"comida5\",\"calorias\"]"
   ]
  },
  {
   "cell_type": "code",
   "execution_count": 192,
   "metadata": {},
   "outputs": [
    {
     "data": {
      "text/html": [
       "200"
      ],
      "text/latex": [
       "200"
      ],
      "text/markdown": [
       "200"
      ],
      "text/plain": [
       "[1] 200"
      ]
     },
     "metadata": {},
     "output_type": "display_data"
    }
   ],
   "source": [
    "comidas[5,\"calorias\"]"
   ]
  },
  {
   "cell_type": "code",
   "execution_count": 193,
   "metadata": {},
   "outputs": [
    {
     "data": {
      "text/html": [
       "<table class=\"dataframe\">\n",
       "<caption>A data.frame: 2 × 3</caption>\n",
       "<thead>\n",
       "\t<tr><th></th><th scope=col>sabor</th><th scope=col>calorias</th><th scope=col>plato</th></tr>\n",
       "\t<tr><th></th><th scope=col>&lt;chr&gt;</th><th scope=col>&lt;dbl&gt;</th><th scope=col>&lt;chr&gt;</th></tr>\n",
       "</thead>\n",
       "<tbody>\n",
       "\t<tr><th scope=row>comida4</th><td>Amargo</td><td> 20</td><td>Ginebra  </td></tr>\n",
       "\t<tr><th scope=row>comida2</th><td>Salado</td><td>200</td><td>Palomitas</td></tr>\n",
       "</tbody>\n",
       "</table>\n"
      ],
      "text/latex": [
       "A data.frame: 2 × 3\n",
       "\\begin{tabular}{r|lll}\n",
       "  & sabor & calorias & plato\\\\\n",
       "  & <chr> & <dbl> & <chr>\\\\\n",
       "\\hline\n",
       "\tcomida4 & Amargo &  20 & Ginebra  \\\\\n",
       "\tcomida2 & Salado & 200 & Palomitas\\\\\n",
       "\\end{tabular}\n"
      ],
      "text/markdown": [
       "\n",
       "A data.frame: 2 × 3\n",
       "\n",
       "| <!--/--> | sabor &lt;chr&gt; | calorias &lt;dbl&gt; | plato &lt;chr&gt; |\n",
       "|---|---|---|---|\n",
       "| comida4 | Amargo |  20 | Ginebra   |\n",
       "| comida2 | Salado | 200 | Palomitas |\n",
       "\n"
      ],
      "text/plain": [
       "        sabor  calorias plato    \n",
       "comida4 Amargo  20      Ginebra  \n",
       "comida2 Salado 200      Palomitas"
      ]
     },
     "metadata": {},
     "output_type": "display_data"
    }
   ],
   "source": [
    "comidas[c(4,2),c(3,2,1)]"
   ]
  },
  {
   "cell_type": "markdown",
   "metadata": {},
   "source": [
    "El nombre de las columnas y de las filas se puede obtener y modificar con las funciones **colnames()** y **rownames()**."
   ]
  },
  {
   "cell_type": "code",
   "execution_count": 194,
   "metadata": {},
   "outputs": [
    {
     "data": {
      "text/html": [
       "<style>\n",
       ".list-inline {list-style: none; margin:0; padding: 0}\n",
       ".list-inline>li {display: inline-block}\n",
       ".list-inline>li:not(:last-child)::after {content: \"\\00b7\"; padding: 0 .5ex}\n",
       "</style>\n",
       "<ol class=list-inline><li>'plato'</li><li>'calorias'</li><li>'sabor'</li></ol>\n"
      ],
      "text/latex": [
       "\\begin{enumerate*}\n",
       "\\item 'plato'\n",
       "\\item 'calorias'\n",
       "\\item 'sabor'\n",
       "\\end{enumerate*}\n"
      ],
      "text/markdown": [
       "1. 'plato'\n",
       "2. 'calorias'\n",
       "3. 'sabor'\n",
       "\n",
       "\n"
      ],
      "text/plain": [
       "[1] \"plato\"    \"calorias\" \"sabor\"   "
      ]
     },
     "metadata": {},
     "output_type": "display_data"
    },
    {
     "data": {
      "text/html": [
       "<style>\n",
       ".list-inline {list-style: none; margin:0; padding: 0}\n",
       ".list-inline>li {display: inline-block}\n",
       ".list-inline>li:not(:last-child)::after {content: \"\\00b7\"; padding: 0 .5ex}\n",
       "</style>\n",
       "<ol class=list-inline><li>'comida1'</li><li>'comida2'</li><li>'comida3'</li><li>'comida4'</li><li>'comida5'</li><li>'comida6'</li><li>'comida7'</li><li>'comida8'</li><li>'comida9'</li><li>'comida10'</li><li>'comida11'</li></ol>\n"
      ],
      "text/latex": [
       "\\begin{enumerate*}\n",
       "\\item 'comida1'\n",
       "\\item 'comida2'\n",
       "\\item 'comida3'\n",
       "\\item 'comida4'\n",
       "\\item 'comida5'\n",
       "\\item 'comida6'\n",
       "\\item 'comida7'\n",
       "\\item 'comida8'\n",
       "\\item 'comida9'\n",
       "\\item 'comida10'\n",
       "\\item 'comida11'\n",
       "\\end{enumerate*}\n"
      ],
      "text/markdown": [
       "1. 'comida1'\n",
       "2. 'comida2'\n",
       "3. 'comida3'\n",
       "4. 'comida4'\n",
       "5. 'comida5'\n",
       "6. 'comida6'\n",
       "7. 'comida7'\n",
       "8. 'comida8'\n",
       "9. 'comida9'\n",
       "10. 'comida10'\n",
       "11. 'comida11'\n",
       "\n",
       "\n"
      ],
      "text/plain": [
       " [1] \"comida1\"  \"comida2\"  \"comida3\"  \"comida4\"  \"comida5\"  \"comida6\" \n",
       " [7] \"comida7\"  \"comida8\"  \"comida9\"  \"comida10\" \"comida11\""
      ]
     },
     "metadata": {},
     "output_type": "display_data"
    }
   ],
   "source": [
    "colnames(comidas)\n",
    "rownames(comidas)"
   ]
  },
  {
   "cell_type": "code",
   "execution_count": 195,
   "metadata": {},
   "outputs": [
    {
     "data": {
      "text/plain": [
       "    plato              calorias        sabor          \n",
       " Length:11          Min.   :  5.0   Length:11         \n",
       " Class :character   1st Qu.: 17.5   Class :character  \n",
       " Mode  :character   Median :150.0   Mode  :character  \n",
       "                    Mean   :185.5                     \n",
       "                    3rd Qu.:325.0                     \n",
       "                    Max.   :500.0                     "
      ]
     },
     "metadata": {},
     "output_type": "display_data"
    }
   ],
   "source": [
    "summary(comidas)"
   ]
  },
  {
   "cell_type": "markdown",
   "metadata": {},
   "source": [
    "Para acceder a la fila que contiene el mínimo de calorías:"
   ]
  },
  {
   "cell_type": "code",
   "execution_count": 201,
   "metadata": {},
   "outputs": [
    {
     "data": {
      "text/html": [
       "<table class=\"dataframe\">\n",
       "<caption>A data.frame: 1 × 3</caption>\n",
       "<thead>\n",
       "\t<tr><th></th><th scope=col>plato</th><th scope=col>calorias</th><th scope=col>sabor</th></tr>\n",
       "\t<tr><th></th><th scope=col>&lt;fct&gt;</th><th scope=col>&lt;dbl&gt;</th><th scope=col>&lt;fct&gt;</th></tr>\n",
       "</thead>\n",
       "<tbody>\n",
       "\t<tr><th scope=row>6</th><td>Caramelo</td><td>5</td><td>Dulce</td></tr>\n",
       "</tbody>\n",
       "</table>\n"
      ],
      "text/latex": [
       "A data.frame: 1 × 3\n",
       "\\begin{tabular}{r|lll}\n",
       "  & plato & calorias & sabor\\\\\n",
       "  & <fct> & <dbl> & <fct>\\\\\n",
       "\\hline\n",
       "\t6 & Caramelo & 5 & Dulce\\\\\n",
       "\\end{tabular}\n"
      ],
      "text/markdown": [
       "\n",
       "A data.frame: 1 × 3\n",
       "\n",
       "| <!--/--> | plato &lt;fct&gt; | calorias &lt;dbl&gt; | sabor &lt;fct&gt; |\n",
       "|---|---|---|---|\n",
       "| 6 | Caramelo | 5 | Dulce |\n",
       "\n"
      ],
      "text/plain": [
       "  plato    calorias sabor\n",
       "6 Caramelo 5        Dulce"
      ]
     },
     "metadata": {},
     "output_type": "display_data"
    }
   ],
   "source": [
    "comidas[which.min(comidas$calorias),]"
   ]
  },
  {
   "cell_type": "code",
   "execution_count": 204,
   "metadata": {},
   "outputs": [
    {
     "data": {
      "text/html": [
       "Dulce\n",
       "<details>\n",
       "\t<summary style=display:list-item;cursor:pointer>\n",
       "\t\t<strong>Levels</strong>:\n",
       "\t</summary>\n",
       "\t<style>\n",
       "\t.list-inline {list-style: none; margin:0; padding: 0}\n",
       "\t.list-inline>li {display: inline-block}\n",
       "\t.list-inline>li:not(:last-child)::after {content: \"\\00b7\"; padding: 0 .5ex}\n",
       "\t</style>\n",
       "\t<ol class=list-inline><li>'Ácido'</li><li>'Amargo'</li><li>'Dulce'</li><li>'Salado'</li><li>'Umami'</li></ol>\n",
       "</details>"
      ],
      "text/latex": [
       "Dulce\n",
       "\\emph{Levels}: \\begin{enumerate*}\n",
       "\\item 'Ácido'\n",
       "\\item 'Amargo'\n",
       "\\item 'Dulce'\n",
       "\\item 'Salado'\n",
       "\\item 'Umami'\n",
       "\\end{enumerate*}\n"
      ],
      "text/markdown": [
       "Dulce\n",
       "**Levels**: 1. 'Ácido'\n",
       "2. 'Amargo'\n",
       "3. 'Dulce'\n",
       "4. 'Salado'\n",
       "5. 'Umami'\n",
       "\n",
       "\n"
      ],
      "text/plain": [
       "[1] Dulce\n",
       "Levels: Ácido Amargo Dulce Salado Umami"
      ]
     },
     "metadata": {},
     "output_type": "display_data"
    },
    {
     "data": {
      "text/html": [
       "Dulce\n",
       "<details>\n",
       "\t<summary style=display:list-item;cursor:pointer>\n",
       "\t\t<strong>Levels</strong>:\n",
       "\t</summary>\n",
       "\t<style>\n",
       "\t.list-inline {list-style: none; margin:0; padding: 0}\n",
       "\t.list-inline>li {display: inline-block}\n",
       "\t.list-inline>li:not(:last-child)::after {content: \"\\00b7\"; padding: 0 .5ex}\n",
       "\t</style>\n",
       "\t<ol class=list-inline><li>'Ácido'</li><li>'Amargo'</li><li>'Dulce'</li><li>'Salado'</li><li>'Umami'</li></ol>\n",
       "</details>"
      ],
      "text/latex": [
       "Dulce\n",
       "\\emph{Levels}: \\begin{enumerate*}\n",
       "\\item 'Ácido'\n",
       "\\item 'Amargo'\n",
       "\\item 'Dulce'\n",
       "\\item 'Salado'\n",
       "\\item 'Umami'\n",
       "\\end{enumerate*}\n"
      ],
      "text/markdown": [
       "Dulce\n",
       "**Levels**: 1. 'Ácido'\n",
       "2. 'Amargo'\n",
       "3. 'Dulce'\n",
       "4. 'Salado'\n",
       "5. 'Umami'\n",
       "\n",
       "\n"
      ],
      "text/plain": [
       "[1] Dulce\n",
       "Levels: Ácido Amargo Dulce Salado Umami"
      ]
     },
     "metadata": {},
     "output_type": "display_data"
    },
    {
     "data": {
      "text/html": [
       "Dulce\n",
       "<details>\n",
       "\t<summary style=display:list-item;cursor:pointer>\n",
       "\t\t<strong>Levels</strong>:\n",
       "\t</summary>\n",
       "\t<style>\n",
       "\t.list-inline {list-style: none; margin:0; padding: 0}\n",
       "\t.list-inline>li {display: inline-block}\n",
       "\t.list-inline>li:not(:last-child)::after {content: \"\\00b7\"; padding: 0 .5ex}\n",
       "\t</style>\n",
       "\t<ol class=list-inline><li>'Ácido'</li><li>'Amargo'</li><li>'Dulce'</li><li>'Salado'</li><li>'Umami'</li></ol>\n",
       "</details>"
      ],
      "text/latex": [
       "Dulce\n",
       "\\emph{Levels}: \\begin{enumerate*}\n",
       "\\item 'Ácido'\n",
       "\\item 'Amargo'\n",
       "\\item 'Dulce'\n",
       "\\item 'Salado'\n",
       "\\item 'Umami'\n",
       "\\end{enumerate*}\n"
      ],
      "text/markdown": [
       "Dulce\n",
       "**Levels**: 1. 'Ácido'\n",
       "2. 'Amargo'\n",
       "3. 'Dulce'\n",
       "4. 'Salado'\n",
       "5. 'Umami'\n",
       "\n",
       "\n"
      ],
      "text/plain": [
       "[1] Dulce\n",
       "Levels: Ácido Amargo Dulce Salado Umami"
      ]
     },
     "metadata": {},
     "output_type": "display_data"
    }
   ],
   "source": [
    "comidas[which.min(comidas$calorias),]$sabor\n",
    "comidas[which.min(comidas$calorias),\"sabor\"]\n",
    "comidas[which.min(comidas$calorias),3]"
   ]
  },
  {
   "cell_type": "markdown",
   "metadata": {},
   "source": [
    "### Dataset con variable categoricas "
   ]
  },
  {
   "cell_type": "code",
   "execution_count": 196,
   "metadata": {},
   "outputs": [
    {
     "data": {
      "text/html": [
       "<table class=\"dataframe\">\n",
       "<caption>A data.frame: 11 × 3</caption>\n",
       "<thead>\n",
       "\t<tr><th scope=col>plato</th><th scope=col>calorias</th><th scope=col>sabor</th></tr>\n",
       "\t<tr><th scope=col>&lt;fct&gt;</th><th scope=col>&lt;dbl&gt;</th><th scope=col>&lt;fct&gt;</th></tr>\n",
       "</thead>\n",
       "<tbody>\n",
       "\t<tr><td>Bollo         </td><td>150</td><td>Dulce </td></tr>\n",
       "\t<tr><td>Palomitas     </td><td>200</td><td>Salado</td></tr>\n",
       "\t<tr><td>Limón         </td><td> 10</td><td>Ácido </td></tr>\n",
       "\t<tr><td>Ginebra       </td><td> 20</td><td>Amargo</td></tr>\n",
       "\t<tr><td>Noodles       </td><td>200</td><td>Umami </td></tr>\n",
       "\t<tr><td>Caramelo      </td><td>  5</td><td>Dulce </td></tr>\n",
       "\t<tr><td>Patatas fritas</td><td>500</td><td>Salado</td></tr>\n",
       "\t<tr><td>Naranja       </td><td> 15</td><td>Ácido </td></tr>\n",
       "\t<tr><td>Ternera       </td><td>450</td><td>Umami </td></tr>\n",
       "\t<tr><td>Cerdo         </td><td>460</td><td>Umami </td></tr>\n",
       "\t<tr><td>Sopa          </td><td> 30</td><td>Salado</td></tr>\n",
       "</tbody>\n",
       "</table>\n"
      ],
      "text/latex": [
       "A data.frame: 11 × 3\n",
       "\\begin{tabular}{lll}\n",
       " plato & calorias & sabor\\\\\n",
       " <fct> & <dbl> & <fct>\\\\\n",
       "\\hline\n",
       "\t Bollo          & 150 & Dulce \\\\\n",
       "\t Palomitas      & 200 & Salado\\\\\n",
       "\t Limón          &  10 & Ácido \\\\\n",
       "\t Ginebra        &  20 & Amargo\\\\\n",
       "\t Noodles        & 200 & Umami \\\\\n",
       "\t Caramelo       &   5 & Dulce \\\\\n",
       "\t Patatas fritas & 500 & Salado\\\\\n",
       "\t Naranja        &  15 & Ácido \\\\\n",
       "\t Ternera        & 450 & Umami \\\\\n",
       "\t Cerdo          & 460 & Umami \\\\\n",
       "\t Sopa           &  30 & Salado\\\\\n",
       "\\end{tabular}\n"
      ],
      "text/markdown": [
       "\n",
       "A data.frame: 11 × 3\n",
       "\n",
       "| plato &lt;fct&gt; | calorias &lt;dbl&gt; | sabor &lt;fct&gt; |\n",
       "|---|---|---|\n",
       "| Bollo          | 150 | Dulce  |\n",
       "| Palomitas      | 200 | Salado |\n",
       "| Limón          |  10 | Ácido  |\n",
       "| Ginebra        |  20 | Amargo |\n",
       "| Noodles        | 200 | Umami  |\n",
       "| Caramelo       |   5 | Dulce  |\n",
       "| Patatas fritas | 500 | Salado |\n",
       "| Naranja        |  15 | Ácido  |\n",
       "| Ternera        | 450 | Umami  |\n",
       "| Cerdo          | 460 | Umami  |\n",
       "| Sopa           |  30 | Salado |\n",
       "\n"
      ],
      "text/plain": [
       "   plato          calorias sabor \n",
       "1  Bollo          150      Dulce \n",
       "2  Palomitas      200      Salado\n",
       "3  Limón           10      Ácido \n",
       "4  Ginebra         20      Amargo\n",
       "5  Noodles        200      Umami \n",
       "6  Caramelo         5      Dulce \n",
       "7  Patatas fritas 500      Salado\n",
       "8  Naranja         15      Ácido \n",
       "9  Ternera        450      Umami \n",
       "10 Cerdo          460      Umami \n",
       "11 Sopa            30      Salado"
      ]
     },
     "metadata": {},
     "output_type": "display_data"
    },
    {
     "name": "stdout",
     "output_type": "stream",
     "text": [
      "'data.frame':\t11 obs. of  3 variables:\n",
      " $ plato   : Factor w/ 11 levels \"Bollo\",\"Caramelo\",..: 1 8 5 4 7 2 9 6 11 3 ...\n",
      " $ calorias: num  150 200 10 20 200 5 500 15 450 460 ...\n",
      " $ sabor   : Factor w/ 5 levels \"Ácido\",\"Amargo\",..: 3 4 1 2 5 3 4 1 5 5 ...\n"
     ]
    }
   ],
   "source": [
    "comidas<-data.frame(plato=plt, calorias=cal, sabor=saboresDePlatos, stringsAsFactors = T)\n",
    "comidas\n",
    "str(comidas)"
   ]
  },
  {
   "cell_type": "code",
   "execution_count": 197,
   "metadata": {},
   "outputs": [
    {
     "data": {
      "text/plain": [
       "      plato      calorias        sabor  \n",
       " Bollo   :1   Min.   :  5.0   Ácido :2  \n",
       " Caramelo:1   1st Qu.: 17.5   Amargo:1  \n",
       " Cerdo   :1   Median :150.0   Dulce :2  \n",
       " Ginebra :1   Mean   :185.5   Salado:3  \n",
       " Limón   :1   3rd Qu.:325.0   Umami :3  \n",
       " Naranja :1   Max.   :500.0             \n",
       " (Other) :5                             "
      ]
     },
     "metadata": {},
     "output_type": "display_data"
    }
   ],
   "source": [
    "summary(comidas)"
   ]
  },
  {
   "cell_type": "markdown",
   "metadata": {},
   "source": [
    "## Arrays 3D\n",
    "\n",
    "Se pueden crear arrays N-dimensionales con la función array"
   ]
  },
  {
   "cell_type": "code",
   "execution_count": null,
   "metadata": {},
   "outputs": [],
   "source": [
    "arr<-array(1:12,dim = c(3,2,2))\n",
    "arr"
   ]
  },
  {
   "cell_type": "markdown",
   "metadata": {},
   "source": [
    "El acceso a elementos es similar al de las matrices"
   ]
  },
  {
   "cell_type": "code",
   "execution_count": null,
   "metadata": {},
   "outputs": [],
   "source": [
    "arr[1,2,1]"
   ]
  },
  {
   "cell_type": "code",
   "execution_count": null,
   "metadata": {},
   "outputs": [],
   "source": [
    "arr[1,,]"
   ]
  },
  {
   "cell_type": "code",
   "execution_count": null,
   "metadata": {},
   "outputs": [],
   "source": [
    "arr[2,,]"
   ]
  },
  {
   "cell_type": "code",
   "execution_count": null,
   "metadata": {},
   "outputs": [],
   "source": [
    "arr[3,,]"
   ]
  },
  {
   "cell_type": "code",
   "execution_count": null,
   "metadata": {},
   "outputs": [],
   "source": [
    "arr[4,,]"
   ]
  },
  {
   "cell_type": "code",
   "execution_count": null,
   "metadata": {},
   "outputs": [],
   "source": [
    "arr[,2,]"
   ]
  },
  {
   "cell_type": "markdown",
   "metadata": {},
   "source": [
    "## Fechas"
   ]
  },
  {
   "cell_type": "markdown",
   "metadata": {},
   "source": [
    "Existen dos objetos para almacenar fechas en R.\n",
    "\n",
    "* Posixct es recubrimiento sobre un timestamp en segundos.\n",
    "* Posixlt es una lista de objetos que contiene la información de la fecha"
   ]
  },
  {
   "cell_type": "code",
   "execution_count": 206,
   "metadata": {},
   "outputs": [
    {
     "data": {
      "text/plain": [
       "[1] \"2018-10-05 15:40:00 UTC\""
      ]
     },
     "metadata": {},
     "output_type": "display_data"
    },
    {
     "data": {
      "text/plain": [
       "[1] \"2018-05-10 17:33:00 UTC\""
      ]
     },
     "metadata": {},
     "output_type": "display_data"
    }
   ],
   "source": [
    "d1<-as.POSIXct(\"2018-10-5 15:40\")\n",
    "d2<-as.POSIXct(\"5/10/2018 17:33\",format=\"%m/%d/%Y %H:%M\")\n",
    "\n",
    "d1\n",
    "d2"
   ]
  },
  {
   "cell_type": "code",
   "execution_count": 208,
   "metadata": {},
   "outputs": [],
   "source": [
    "?strptime"
   ]
  },
  {
   "cell_type": "code",
   "execution_count": 209,
   "metadata": {},
   "outputs": [
    {
     "name": "stdout",
     "output_type": "stream",
     "text": [
      " POSIXct[1:1], format: \"2018-10-05 15:40:00\"\n"
     ]
    }
   ],
   "source": [
    "str(d1)"
   ]
  },
  {
   "cell_type": "code",
   "execution_count": 210,
   "metadata": {},
   "outputs": [
    {
     "data": {
      "text/html": [
       "<style>\n",
       ".list-inline {list-style: none; margin:0; padding: 0}\n",
       ".list-inline>li {display: inline-block}\n",
       ".list-inline>li:not(:last-child)::after {content: \"\\00b7\"; padding: 0 .5ex}\n",
       "</style>\n",
       "<ol class=list-inline><li>'POSIXct'</li><li>'POSIXt'</li></ol>\n"
      ],
      "text/latex": [
       "\\begin{enumerate*}\n",
       "\\item 'POSIXct'\n",
       "\\item 'POSIXt'\n",
       "\\end{enumerate*}\n"
      ],
      "text/markdown": [
       "1. 'POSIXct'\n",
       "2. 'POSIXt'\n",
       "\n",
       "\n"
      ],
      "text/plain": [
       "[1] \"POSIXct\" \"POSIXt\" "
      ]
     },
     "metadata": {},
     "output_type": "display_data"
    }
   ],
   "source": [
    "class(d1)"
   ]
  },
  {
   "cell_type": "code",
   "execution_count": 211,
   "metadata": {},
   "outputs": [
    {
     "data": {
      "text/html": [
       "1538754000"
      ],
      "text/latex": [
       "1538754000"
      ],
      "text/markdown": [
       "1538754000"
      ],
      "text/plain": [
       "[1] 1538754000\n",
       "attr(,\"tzone\")\n",
       "[1] \"\""
      ]
     },
     "metadata": {},
     "output_type": "display_data"
    }
   ],
   "source": [
    "unclass(d1)"
   ]
  },
  {
   "cell_type": "code",
   "execution_count": 219,
   "metadata": {},
   "outputs": [
    {
     "data": {
      "text/plain": [
       "[1] \"2018-10-06 15:40:00 UTC\""
      ]
     },
     "metadata": {},
     "output_type": "display_data"
    }
   ],
   "source": [
    "d1+60*60*24"
   ]
  },
  {
   "cell_type": "code",
   "execution_count": 222,
   "metadata": {},
   "outputs": [
    {
     "data": {
      "text/plain": [
       "[1] \"2022-10-28 20:30:00 CEST\""
      ]
     },
     "metadata": {},
     "output_type": "display_data"
    }
   ],
   "source": [
    "as.POSIXct('2022-10-31 19:30', tz='CET')-60*60*24*3"
   ]
  },
  {
   "cell_type": "code",
   "execution_count": 223,
   "metadata": {},
   "outputs": [
    {
     "data": {
      "text/plain": [
       "[1] \"2018-04-05 UTC\""
      ]
     },
     "metadata": {},
     "output_type": "display_data"
    }
   ],
   "source": [
    "d3<-as.POSIXlt(\"2018-4-5\")\n",
    "d3"
   ]
  },
  {
   "cell_type": "code",
   "execution_count": 225,
   "metadata": {},
   "outputs": [
    {
     "data": {
      "text/html": [
       "<dl>\n",
       "\t<dt>$sec</dt>\n",
       "\t\t<dd>0</dd>\n",
       "\t<dt>$min</dt>\n",
       "\t\t<dd>0</dd>\n",
       "\t<dt>$hour</dt>\n",
       "\t\t<dd>0</dd>\n",
       "\t<dt>$mday</dt>\n",
       "\t\t<dd>5</dd>\n",
       "\t<dt>$mon</dt>\n",
       "\t\t<dd>3</dd>\n",
       "\t<dt>$year</dt>\n",
       "\t\t<dd>118</dd>\n",
       "\t<dt>$wday</dt>\n",
       "\t\t<dd>4</dd>\n",
       "\t<dt>$yday</dt>\n",
       "\t\t<dd>94</dd>\n",
       "\t<dt>$isdst</dt>\n",
       "\t\t<dd>0</dd>\n",
       "\t<dt>$zone</dt>\n",
       "\t\t<dd>'UTC'</dd>\n",
       "\t<dt>$gmtoff</dt>\n",
       "\t\t<dd>&lt;NA&gt;</dd>\n",
       "</dl>\n"
      ],
      "text/latex": [
       "\\begin{description}\n",
       "\\item[\\$sec] 0\n",
       "\\item[\\$min] 0\n",
       "\\item[\\$hour] 0\n",
       "\\item[\\$mday] 5\n",
       "\\item[\\$mon] 3\n",
       "\\item[\\$year] 118\n",
       "\\item[\\$wday] 4\n",
       "\\item[\\$yday] 94\n",
       "\\item[\\$isdst] 0\n",
       "\\item[\\$zone] 'UTC'\n",
       "\\item[\\$gmtoff] <NA>\n",
       "\\end{description}\n"
      ],
      "text/markdown": [
       "$sec\n",
       ":   0\n",
       "$min\n",
       ":   0\n",
       "$hour\n",
       ":   0\n",
       "$mday\n",
       ":   5\n",
       "$mon\n",
       ":   3\n",
       "$year\n",
       ":   118\n",
       "$wday\n",
       ":   4\n",
       "$yday\n",
       ":   94\n",
       "$isdst\n",
       ":   0\n",
       "$zone\n",
       ":   'UTC'\n",
       "$gmtoff\n",
       ":   &lt;NA&gt;\n",
       "\n",
       "\n"
      ],
      "text/plain": [
       "$sec\n",
       "[1] 0\n",
       "\n",
       "$min\n",
       "[1] 0\n",
       "\n",
       "$hour\n",
       "[1] 0\n",
       "\n",
       "$mday\n",
       "[1] 5\n",
       "\n",
       "$mon\n",
       "[1] 3\n",
       "\n",
       "$year\n",
       "[1] 118\n",
       "\n",
       "$wday\n",
       "[1] 4\n",
       "\n",
       "$yday\n",
       "[1] 94\n",
       "\n",
       "$isdst\n",
       "[1] 0\n",
       "\n",
       "$zone\n",
       "[1] \"UTC\"\n",
       "\n",
       "$gmtoff\n",
       "[1] NA\n"
      ]
     },
     "metadata": {},
     "output_type": "display_data"
    }
   ],
   "source": [
    "unclass(d3)"
   ]
  },
  {
   "cell_type": "code",
   "execution_count": 226,
   "metadata": {},
   "outputs": [],
   "source": [
    "d3$mday<-6"
   ]
  },
  {
   "cell_type": "code",
   "execution_count": 227,
   "metadata": {},
   "outputs": [
    {
     "data": {
      "text/plain": [
       "[1] \"2018-04-06 UTC\""
      ]
     },
     "metadata": {},
     "output_type": "display_data"
    }
   ],
   "source": [
    "d3"
   ]
  },
  {
   "cell_type": "code",
   "execution_count": 228,
   "metadata": {},
   "outputs": [
    {
     "name": "stdout",
     "output_type": "stream",
     "text": [
      " POSIXlt[1:1], format: \"2018-04-06\"\n"
     ]
    }
   ],
   "source": [
    "str(d3)"
   ]
  },
  {
   "cell_type": "code",
   "execution_count": 229,
   "metadata": {},
   "outputs": [
    {
     "data": {
      "text/plain": [
       "[1] \"2018-01-01 UTC\" \"2018-01-02 UTC\" \"2018-01-03 UTC\""
      ]
     },
     "metadata": {},
     "output_type": "display_data"
    }
   ],
   "source": [
    "c(as.POSIXct(\"2018-01-01\"),as.POSIXct(\"2018-01-02\"),as.POSIXct(\"2018-01-03\"))"
   ]
  },
  {
   "cell_type": "code",
   "execution_count": 230,
   "metadata": {},
   "outputs": [
    {
     "name": "stdout",
     "output_type": "stream",
     "text": [
      "'data.frame':\t3 obs. of  1 variable:\n",
      " $ fecha: POSIXct, format: \"2018-01-01\" \"2018-01-02\" ...\n"
     ]
    }
   ],
   "source": [
    "df<-data.frame(fecha=c(as.POSIXlt(\"2018-01-01\"),as.POSIXlt(\"2018-01-02\"),as.POSIXlt(\"2018-01-03\")))\n",
    "str(df)\n"
   ]
  },
  {
   "cell_type": "markdown",
   "metadata": {},
   "source": [
    "## Valores infinitos y NaN (Not a Number)\n",
    "\n",
    "Inf y -Inf son negativo positivo y negativo, mientras que NaN significa \"Not a Number\""
   ]
  },
  {
   "cell_type": "code",
   "execution_count": 234,
   "metadata": {},
   "outputs": [
    {
     "data": {
      "text/html": [
       "'El valor de x es NaN'"
      ],
      "text/latex": [
       "'El valor de x es NaN'"
      ],
      "text/markdown": [
       "'El valor de x es NaN'"
      ],
      "text/plain": [
       "[1] \"El valor de x es NaN\""
      ]
     },
     "metadata": {},
     "output_type": "display_data"
    },
    {
     "data": {
      "text/html": [
       "FALSE"
      ],
      "text/latex": [
       "FALSE"
      ],
      "text/markdown": [
       "FALSE"
      ],
      "text/plain": [
       "[1] FALSE"
      ]
     },
     "metadata": {},
     "output_type": "display_data"
    },
    {
     "data": {
      "text/html": [
       "FALSE"
      ],
      "text/latex": [
       "FALSE"
      ],
      "text/markdown": [
       "FALSE"
      ],
      "text/plain": [
       "[1] FALSE"
      ]
     },
     "metadata": {},
     "output_type": "display_data"
    },
    {
     "data": {
      "text/html": [
       "TRUE"
      ],
      "text/latex": [
       "TRUE"
      ],
      "text/markdown": [
       "TRUE"
      ],
      "text/plain": [
       "[1] TRUE"
      ]
     },
     "metadata": {},
     "output_type": "display_data"
    }
   ],
   "source": [
    "#x<- 10\n",
    "#x<- 1/0\n",
    "x<- 0/0\n",
    "paste(\"El valor de x es\",x)\n",
    "\n",
    "is.finite(x)\n",
    "is.infinite(x)\n",
    "is.nan(x)"
   ]
  },
  {
   "cell_type": "code",
   "execution_count": 236,
   "metadata": {},
   "outputs": [
    {
     "data": {
      "text/html": [
       "TRUE"
      ],
      "text/latex": [
       "TRUE"
      ],
      "text/markdown": [
       "TRUE"
      ],
      "text/plain": [
       "[1] TRUE"
      ]
     },
     "metadata": {},
     "output_type": "display_data"
    },
    {
     "data": {
      "text/html": [
       "TRUE"
      ],
      "text/latex": [
       "TRUE"
      ],
      "text/markdown": [
       "TRUE"
      ],
      "text/plain": [
       "[1] TRUE"
      ]
     },
     "metadata": {},
     "output_type": "display_data"
    },
    {
     "data": {
      "text/html": [
       "TRUE"
      ],
      "text/latex": [
       "TRUE"
      ],
      "text/markdown": [
       "TRUE"
      ],
      "text/plain": [
       "[1] TRUE"
      ]
     },
     "metadata": {},
     "output_type": "display_data"
    }
   ],
   "source": [
    "#Valores NaN\n",
    "is.nan(NaN)\n",
    "is.nan(0/0)\n",
    "is.nan(Inf-Inf)"
   ]
  },
  {
   "cell_type": "markdown",
   "metadata": {},
   "source": [
    "La comprobación de si un número es NaN se tiene que realizar con la funcion is.nan()"
   ]
  },
  {
   "cell_type": "code",
   "execution_count": 237,
   "metadata": {},
   "outputs": [
    {
     "data": {
      "text/html": [
       "&lt;NA&gt;"
      ],
      "text/latex": [
       "<NA>"
      ],
      "text/markdown": [
       "&lt;NA&gt;"
      ],
      "text/plain": [
       "[1] NA"
      ]
     },
     "metadata": {},
     "output_type": "display_data"
    },
    {
     "data": {
      "text/html": [
       "TRUE"
      ],
      "text/latex": [
       "TRUE"
      ],
      "text/markdown": [
       "TRUE"
      ],
      "text/plain": [
       "[1] TRUE"
      ]
     },
     "metadata": {},
     "output_type": "display_data"
    }
   ],
   "source": [
    "x<-NaN\n",
    "x==NaN\n",
    "is.nan(x)"
   ]
  },
  {
   "cell_type": "markdown",
   "metadata": {},
   "source": [
    "## Valores NULL\n",
    "\n",
    "Simplemente son valores que no existen. Es un concepto similar a otros lenguajes como Java o C."
   ]
  },
  {
   "cell_type": "code",
   "execution_count": 1,
   "metadata": {},
   "outputs": [
    {
     "data": {
      "text/html": [
       "<style>\n",
       ".list-inline {list-style: none; margin:0; padding: 0}\n",
       ".list-inline>li {display: inline-block}\n",
       ".list-inline>li:not(:last-child)::after {content: \"\\00b7\"; padding: 0 .5ex}\n",
       "</style>\n",
       "<ol class=list-inline><li>1</li><li>2</li><li>&lt;NA&gt;</li><li>3</li><li>3</li></ol>\n"
      ],
      "text/latex": [
       "\\begin{enumerate*}\n",
       "\\item 1\n",
       "\\item 2\n",
       "\\item <NA>\n",
       "\\item 3\n",
       "\\item 3\n",
       "\\end{enumerate*}\n"
      ],
      "text/markdown": [
       "1. 1\n",
       "2. 2\n",
       "3. &lt;NA&gt;\n",
       "4. 3\n",
       "5. 3\n",
       "\n",
       "\n"
      ],
      "text/plain": [
       "[1]  1  2 NA  3  3"
      ]
     },
     "metadata": {},
     "output_type": "display_data"
    }
   ],
   "source": [
    "# Los valores NULL simplemente se ignoran\n",
    "c(1,2,NA,NULL,3,NULL,3,NULL)"
   ]
  },
  {
   "cell_type": "code",
   "execution_count": 239,
   "metadata": {},
   "outputs": [
    {
     "data": {
      "text/plain": [
       "NULL"
      ]
     },
     "metadata": {},
     "output_type": "display_data"
    },
    {
     "data": {
      "text/html": [
       "TRUE"
      ],
      "text/latex": [
       "TRUE"
      ],
      "text/markdown": [
       "TRUE"
      ],
      "text/plain": [
       "[1] TRUE"
      ]
     },
     "metadata": {},
     "output_type": "display_data"
    }
   ],
   "source": [
    "x<-NULL\n",
    "x\n",
    "is.null(x)"
   ]
  },
  {
   "cell_type": "code",
   "execution_count": 240,
   "metadata": {},
   "outputs": [
    {
     "data": {
      "text/html": [
       "<table class=\"dataframe\">\n",
       "<caption>A data.frame: 4 × 2</caption>\n",
       "<thead>\n",
       "\t<tr><th scope=col>x</th><th scope=col>y</th></tr>\n",
       "\t<tr><th scope=col>&lt;dbl&gt;</th><th scope=col>&lt;dbl&gt;</th></tr>\n",
       "</thead>\n",
       "<tbody>\n",
       "\t<tr><td>1</td><td>3</td></tr>\n",
       "\t<tr><td>2</td><td>2</td></tr>\n",
       "\t<tr><td>1</td><td>1</td></tr>\n",
       "\t<tr><td>1</td><td>1</td></tr>\n",
       "</tbody>\n",
       "</table>\n"
      ],
      "text/latex": [
       "A data.frame: 4 × 2\n",
       "\\begin{tabular}{ll}\n",
       " x & y\\\\\n",
       " <dbl> & <dbl>\\\\\n",
       "\\hline\n",
       "\t 1 & 3\\\\\n",
       "\t 2 & 2\\\\\n",
       "\t 1 & 1\\\\\n",
       "\t 1 & 1\\\\\n",
       "\\end{tabular}\n"
      ],
      "text/markdown": [
       "\n",
       "A data.frame: 4 × 2\n",
       "\n",
       "| x &lt;dbl&gt; | y &lt;dbl&gt; |\n",
       "|---|---|\n",
       "| 1 | 3 |\n",
       "| 2 | 2 |\n",
       "| 1 | 1 |\n",
       "| 1 | 1 |\n",
       "\n"
      ],
      "text/plain": [
       "  x y\n",
       "1 1 3\n",
       "2 2 2\n",
       "3 1 1\n",
       "4 1 1"
      ]
     },
     "metadata": {},
     "output_type": "display_data"
    }
   ],
   "source": [
    "df<-data.frame(x=c(1,2,1,1),y=c(3,2,1,1))\n",
    "df"
   ]
  },
  {
   "cell_type": "code",
   "execution_count": 241,
   "metadata": {},
   "outputs": [
    {
     "data": {
      "text/html": [
       "<table class=\"dataframe\">\n",
       "<caption>A data.frame: 4 × 1</caption>\n",
       "<thead>\n",
       "\t<tr><th scope=col>x</th></tr>\n",
       "\t<tr><th scope=col>&lt;dbl&gt;</th></tr>\n",
       "</thead>\n",
       "<tbody>\n",
       "\t<tr><td>1</td></tr>\n",
       "\t<tr><td>2</td></tr>\n",
       "\t<tr><td>1</td></tr>\n",
       "\t<tr><td>1</td></tr>\n",
       "</tbody>\n",
       "</table>\n"
      ],
      "text/latex": [
       "A data.frame: 4 × 1\n",
       "\\begin{tabular}{l}\n",
       " x\\\\\n",
       " <dbl>\\\\\n",
       "\\hline\n",
       "\t 1\\\\\n",
       "\t 2\\\\\n",
       "\t 1\\\\\n",
       "\t 1\\\\\n",
       "\\end{tabular}\n"
      ],
      "text/markdown": [
       "\n",
       "A data.frame: 4 × 1\n",
       "\n",
       "| x &lt;dbl&gt; |\n",
       "|---|\n",
       "| 1 |\n",
       "| 2 |\n",
       "| 1 |\n",
       "| 1 |\n",
       "\n"
      ],
      "text/plain": [
       "  x\n",
       "1 1\n",
       "2 2\n",
       "3 1\n",
       "4 1"
      ]
     },
     "metadata": {},
     "output_type": "display_data"
    }
   ],
   "source": [
    "df$y<- NULL\n",
    "df"
   ]
  },
  {
   "cell_type": "code",
   "execution_count": 244,
   "metadata": {},
   "outputs": [
    {
     "data": {
      "text/plain": [
       "NULL"
      ]
     },
     "metadata": {},
     "output_type": "display_data"
    },
    {
     "data": {
      "text/html": [
       "TRUE"
      ],
      "text/latex": [
       "TRUE"
      ],
      "text/markdown": [
       "TRUE"
      ],
      "text/plain": [
       "[1] TRUE"
      ]
     },
     "metadata": {},
     "output_type": "display_data"
    }
   ],
   "source": [
    "df$y\n",
    "is.null(df$y)"
   ]
  },
  {
   "cell_type": "markdown",
   "metadata": {},
   "source": [
    "## Valores no disponibles / Missing Values\n",
    "\n",
    "Son valores para los cuales no tenemos ninguna medida, se representan con un NA (\"Not Available).\n",
    "\n",
    "Pertenecen a valores perdidos que no se han podido recuperar, errores de medida, perdidas de datos, etc..\n",
    "\n",
    "En R los detectamos con: *is.na(x)*\n",
    "\n",
    "y podemos reemplazar su valor con la media, moda, mediana, etc...\n",
    "\n",
    "o simplemente eliminarlos: *na.omit(x)*\n",
    "\n",
    "Si estamos trabajando con series temporales es posible que queramos hacer una interpolación de los valores perdidos:\n",
    "\n",
    "zoo::na.approx(x)"
   ]
  },
  {
   "cell_type": "code",
   "execution_count": 2,
   "metadata": {},
   "outputs": [
    {
     "data": {
      "text/html": [
       "&lt;NA&gt;"
      ],
      "text/latex": [
       "<NA>"
      ],
      "text/markdown": [
       "&lt;NA&gt;"
      ],
      "text/plain": [
       "[1] NA"
      ]
     },
     "metadata": {},
     "output_type": "display_data"
    }
   ],
   "source": [
    "NA"
   ]
  },
  {
   "cell_type": "code",
   "execution_count": 3,
   "metadata": {},
   "outputs": [
    {
     "data": {
      "text/html": [
       "<style>\n",
       ".list-inline {list-style: none; margin:0; padding: 0}\n",
       ".list-inline>li {display: inline-block}\n",
       ".list-inline>li:not(:last-child)::after {content: \"\\00b7\"; padding: 0 .5ex}\n",
       "</style>\n",
       "<ol class=list-inline><li>1</li><li>3</li><li>&lt;NA&gt;</li><li>6</li></ol>\n"
      ],
      "text/latex": [
       "\\begin{enumerate*}\n",
       "\\item 1\n",
       "\\item 3\n",
       "\\item <NA>\n",
       "\\item 6\n",
       "\\end{enumerate*}\n"
      ],
      "text/markdown": [
       "1. 1\n",
       "2. 3\n",
       "3. &lt;NA&gt;\n",
       "4. 6\n",
       "\n",
       "\n"
      ],
      "text/plain": [
       "[1]  1  3 NA  6"
      ]
     },
     "metadata": {},
     "output_type": "display_data"
    }
   ],
   "source": [
    "data<-c(1,3,NA,6)\n",
    "data"
   ]
  },
  {
   "cell_type": "code",
   "execution_count": 4,
   "metadata": {},
   "outputs": [
    {
     "data": {
      "text/html": [
       "<style>\n",
       ".list-inline {list-style: none; margin:0; padding: 0}\n",
       ".list-inline>li {display: inline-block}\n",
       ".list-inline>li:not(:last-child)::after {content: \"\\00b7\"; padding: 0 .5ex}\n",
       "</style>\n",
       "<ol class=list-inline><li>FALSE</li><li>FALSE</li><li>TRUE</li><li>FALSE</li></ol>\n"
      ],
      "text/latex": [
       "\\begin{enumerate*}\n",
       "\\item FALSE\n",
       "\\item FALSE\n",
       "\\item TRUE\n",
       "\\item FALSE\n",
       "\\end{enumerate*}\n"
      ],
      "text/markdown": [
       "1. FALSE\n",
       "2. FALSE\n",
       "3. TRUE\n",
       "4. FALSE\n",
       "\n",
       "\n"
      ],
      "text/plain": [
       "[1] FALSE FALSE  TRUE FALSE"
      ]
     },
     "metadata": {},
     "output_type": "display_data"
    }
   ],
   "source": [
    "is.na(data)"
   ]
  },
  {
   "cell_type": "code",
   "execution_count": 5,
   "metadata": {},
   "outputs": [
    {
     "data": {
      "text/html": [
       "<style>\n",
       ".list-inline {list-style: none; margin:0; padding: 0}\n",
       ".list-inline>li {display: inline-block}\n",
       ".list-inline>li:not(:last-child)::after {content: \"\\00b7\"; padding: 0 .5ex}\n",
       "</style>\n",
       "<ol class=list-inline><li>1</li><li>3</li><li>6</li></ol>\n"
      ],
      "text/latex": [
       "\\begin{enumerate*}\n",
       "\\item 1\n",
       "\\item 3\n",
       "\\item 6\n",
       "\\end{enumerate*}\n"
      ],
      "text/markdown": [
       "1. 1\n",
       "2. 3\n",
       "3. 6\n",
       "\n",
       "\n"
      ],
      "text/plain": [
       "[1] 1 3 6\n",
       "attr(,\"na.action\")\n",
       "[1] 3\n",
       "attr(,\"class\")\n",
       "[1] \"omit\""
      ]
     },
     "metadata": {},
     "output_type": "display_data"
    }
   ],
   "source": [
    "na.omit(data)"
   ]
  },
  {
   "cell_type": "code",
   "execution_count": 6,
   "metadata": {},
   "outputs": [
    {
     "data": {
      "text/html": [
       "'El número de elementos con NA: 1'"
      ],
      "text/latex": [
       "'El número de elementos con NA: 1'"
      ],
      "text/markdown": [
       "'El número de elementos con NA: 1'"
      ],
      "text/plain": [
       "[1] \"El número de elementos con NA: 1\""
      ]
     },
     "metadata": {},
     "output_type": "display_data"
    }
   ],
   "source": [
    "paste(\"El número de elementos con NA:\",length(data[is.na(data)]))"
   ]
  },
  {
   "cell_type": "code",
   "execution_count": 8,
   "metadata": {},
   "outputs": [
    {
     "data": {
      "text/html": [
       "1"
      ],
      "text/latex": [
       "1"
      ],
      "text/markdown": [
       "1"
      ],
      "text/plain": [
       "[1] 1"
      ]
     },
     "metadata": {},
     "output_type": "display_data"
    }
   ],
   "source": [
    "sum(is.na(data))"
   ]
  },
  {
   "cell_type": "code",
   "execution_count": 9,
   "metadata": {},
   "outputs": [
    {
     "data": {
      "text/html": [
       "'El número de elementos que NO son NA: 3'"
      ],
      "text/latex": [
       "'El número de elementos que NO son NA: 3'"
      ],
      "text/markdown": [
       "'El número de elementos que NO son NA: 3'"
      ],
      "text/plain": [
       "[1] \"El número de elementos que NO son NA: 3\""
      ]
     },
     "metadata": {},
     "output_type": "display_data"
    }
   ],
   "source": [
    "paste(\"El número de elementos que NO son NA:\",length(data[!is.na(data)]))"
   ]
  },
  {
   "cell_type": "code",
   "execution_count": 15,
   "metadata": {},
   "outputs": [
    {
     "data": {
      "text/html": [
       "<style>\n",
       ".list-inline {list-style: none; margin:0; padding: 0}\n",
       ".list-inline>li {display: inline-block}\n",
       ".list-inline>li:not(:last-child)::after {content: \"\\00b7\"; padding: 0 .5ex}\n",
       "</style>\n",
       "<ol class=list-inline><li>TRUE</li><li>TRUE</li><li>TRUE</li><li>TRUE</li></ol>\n"
      ],
      "text/latex": [
       "\\begin{enumerate*}\n",
       "\\item TRUE\n",
       "\\item TRUE\n",
       "\\item TRUE\n",
       "\\item TRUE\n",
       "\\end{enumerate*}\n"
      ],
      "text/markdown": [
       "1. TRUE\n",
       "2. TRUE\n",
       "3. TRUE\n",
       "4. TRUE\n",
       "\n",
       "\n"
      ],
      "text/plain": [
       "[1] TRUE TRUE TRUE TRUE"
      ]
     },
     "metadata": {},
     "output_type": "display_data"
    }
   ],
   "source": [
    "!is.na(data)"
   ]
  },
  {
   "cell_type": "code",
   "execution_count": 10,
   "metadata": {},
   "outputs": [
    {
     "data": {
      "text/html": [
       "<style>\n",
       ".list-inline {list-style: none; margin:0; padding: 0}\n",
       ".list-inline>li {display: inline-block}\n",
       ".list-inline>li:not(:last-child)::after {content: \"\\00b7\"; padding: 0 .5ex}\n",
       "</style>\n",
       "<ol class=list-inline><li>1</li><li>3</li><li>6</li></ol>\n"
      ],
      "text/latex": [
       "\\begin{enumerate*}\n",
       "\\item 1\n",
       "\\item 3\n",
       "\\item 6\n",
       "\\end{enumerate*}\n"
      ],
      "text/markdown": [
       "1. 1\n",
       "2. 3\n",
       "3. 6\n",
       "\n",
       "\n"
      ],
      "text/plain": [
       "[1] 1 3 6"
      ]
     },
     "metadata": {},
     "output_type": "display_data"
    }
   ],
   "source": [
    "data[!is.na(data)]"
   ]
  },
  {
   "cell_type": "code",
   "execution_count": 12,
   "metadata": {},
   "outputs": [
    {
     "data": {
      "text/html": [
       "<style>\n",
       ".list-inline {list-style: none; margin:0; padding: 0}\n",
       ".list-inline>li {display: inline-block}\n",
       ".list-inline>li:not(:last-child)::after {content: \"\\00b7\"; padding: 0 .5ex}\n",
       "</style>\n",
       "<ol class=list-inline><li>10</li><li>3</li><li>&lt;NA&gt;</li><li>6</li></ol>\n"
      ],
      "text/latex": [
       "\\begin{enumerate*}\n",
       "\\item 10\n",
       "\\item 3\n",
       "\\item <NA>\n",
       "\\item 6\n",
       "\\end{enumerate*}\n"
      ],
      "text/markdown": [
       "1. 10\n",
       "2. 3\n",
       "3. &lt;NA&gt;\n",
       "4. 6\n",
       "\n",
       "\n"
      ],
      "text/plain": [
       "[1] 10  3 NA  6"
      ]
     },
     "metadata": {},
     "output_type": "display_data"
    }
   ],
   "source": [
    "data[1]<-10\n",
    "data"
   ]
  },
  {
   "cell_type": "code",
   "execution_count": 13,
   "metadata": {},
   "outputs": [
    {
     "data": {
      "text/html": [
       "<style>\n",
       ".list-inline {list-style: none; margin:0; padding: 0}\n",
       ".list-inline>li {display: inline-block}\n",
       ".list-inline>li:not(:last-child)::after {content: \"\\00b7\"; padding: 0 .5ex}\n",
       "</style>\n",
       "<ol class=list-inline><li>10</li><li>3</li><li>28</li><li>6</li></ol>\n"
      ],
      "text/latex": [
       "\\begin{enumerate*}\n",
       "\\item 10\n",
       "\\item 3\n",
       "\\item 28\n",
       "\\item 6\n",
       "\\end{enumerate*}\n"
      ],
      "text/markdown": [
       "1. 10\n",
       "2. 3\n",
       "3. 28\n",
       "4. 6\n",
       "\n",
       "\n"
      ],
      "text/plain": [
       "[1] 10  3 28  6"
      ]
     },
     "metadata": {},
     "output_type": "display_data"
    }
   ],
   "source": [
    "data[is.na(data)] <- 28\n",
    "data"
   ]
  },
  {
   "cell_type": "markdown",
   "metadata": {},
   "source": [
    "## Ejemplo datos reales\n",
    "\n",
    "\n",
    "#### Dataset coches\n",
    "\n",
    "Partimos del dataset de seguro de automóviles que podemos descargar de:\n",
    "\n",
    "https://archive.ics.uci.edu/ml/datasets/Automobile\n"
   ]
  },
  {
   "cell_type": "code",
   "execution_count": 16,
   "metadata": {},
   "outputs": [],
   "source": [
    "autos<-read.csv(\"./data//imports-85.data\", col.names = c(\"risk\", \"normalized_losses\", \n",
    "                                                         \"make\", \"fuel_type\", \"aspiration\",\n",
    "           \"num_doors\", \"body_style\", \"drive_wheels\", \"engine_location\",\n",
    "           \"wheel_base\", \"length\", \"width\", \"height\", \"curb_weight\",\n",
    "           \"engine_type\", \"num_cylinders\", \"engine_size\", \"fuel_system\",\n",
    "           \"bore\", \"stroke\", \"compression_ratio\", \"horsepower\", \"peak_rpm\",\n",
    "           \"city_mpg\", \"highway_mpg\", \"price\"), stringsAsFactors=F)"
   ]
  },
  {
   "cell_type": "code",
   "execution_count": 19,
   "metadata": {},
   "outputs": [
    {
     "data": {
      "text/html": [
       "<table class=\"dataframe\">\n",
       "<caption>A data.frame: 5 × 26</caption>\n",
       "<thead>\n",
       "\t<tr><th></th><th scope=col>risk</th><th scope=col>normalized_losses</th><th scope=col>make</th><th scope=col>fuel_type</th><th scope=col>aspiration</th><th scope=col>num_doors</th><th scope=col>body_style</th><th scope=col>drive_wheels</th><th scope=col>engine_location</th><th scope=col>wheel_base</th><th scope=col>⋯</th><th scope=col>engine_size</th><th scope=col>fuel_system</th><th scope=col>bore</th><th scope=col>stroke</th><th scope=col>compression_ratio</th><th scope=col>horsepower</th><th scope=col>peak_rpm</th><th scope=col>city_mpg</th><th scope=col>highway_mpg</th><th scope=col>price</th></tr>\n",
       "\t<tr><th></th><th scope=col>&lt;int&gt;</th><th scope=col>&lt;chr&gt;</th><th scope=col>&lt;chr&gt;</th><th scope=col>&lt;chr&gt;</th><th scope=col>&lt;chr&gt;</th><th scope=col>&lt;chr&gt;</th><th scope=col>&lt;chr&gt;</th><th scope=col>&lt;chr&gt;</th><th scope=col>&lt;chr&gt;</th><th scope=col>&lt;dbl&gt;</th><th scope=col>⋯</th><th scope=col>&lt;int&gt;</th><th scope=col>&lt;chr&gt;</th><th scope=col>&lt;chr&gt;</th><th scope=col>&lt;chr&gt;</th><th scope=col>&lt;dbl&gt;</th><th scope=col>&lt;chr&gt;</th><th scope=col>&lt;chr&gt;</th><th scope=col>&lt;int&gt;</th><th scope=col>&lt;int&gt;</th><th scope=col>&lt;chr&gt;</th></tr>\n",
       "</thead>\n",
       "<tbody>\n",
       "\t<tr><th scope=row>1</th><td>3</td><td>?  </td><td>alfa-romero</td><td>gas</td><td>std</td><td>two </td><td>convertible</td><td>rwd</td><td>front</td><td>88.6</td><td>⋯</td><td>130</td><td>mpfi</td><td>3.47</td><td>2.68</td><td> 9.0</td><td>111</td><td>5000</td><td>21</td><td>27</td><td>16500</td></tr>\n",
       "\t<tr><th scope=row>2</th><td>1</td><td>?  </td><td>alfa-romero</td><td>gas</td><td>std</td><td>two </td><td>hatchback  </td><td>rwd</td><td>front</td><td>94.5</td><td>⋯</td><td>152</td><td>mpfi</td><td>2.68</td><td>3.47</td><td> 9.0</td><td>154</td><td>5000</td><td>19</td><td>26</td><td>16500</td></tr>\n",
       "\t<tr><th scope=row>3</th><td>2</td><td>164</td><td>audi       </td><td>gas</td><td>std</td><td>four</td><td>sedan      </td><td>fwd</td><td>front</td><td>99.8</td><td>⋯</td><td>109</td><td>mpfi</td><td>3.19</td><td>3.40</td><td>10.0</td><td>102</td><td>5500</td><td>24</td><td>30</td><td>13950</td></tr>\n",
       "\t<tr><th scope=row>4</th><td>2</td><td>164</td><td>audi       </td><td>gas</td><td>std</td><td>four</td><td>sedan      </td><td>4wd</td><td>front</td><td>99.4</td><td>⋯</td><td>136</td><td>mpfi</td><td>3.19</td><td>3.40</td><td> 8.0</td><td>115</td><td>5500</td><td>18</td><td>22</td><td>17450</td></tr>\n",
       "\t<tr><th scope=row>5</th><td>2</td><td>?  </td><td>audi       </td><td>gas</td><td>std</td><td>two </td><td>sedan      </td><td>fwd</td><td>front</td><td>99.8</td><td>⋯</td><td>136</td><td>mpfi</td><td>3.19</td><td>3.40</td><td> 8.5</td><td>110</td><td>5500</td><td>19</td><td>25</td><td>15250</td></tr>\n",
       "</tbody>\n",
       "</table>\n"
      ],
      "text/latex": [
       "A data.frame: 5 × 26\n",
       "\\begin{tabular}{r|lllllllllllllllllllll}\n",
       "  & risk & normalized\\_losses & make & fuel\\_type & aspiration & num\\_doors & body\\_style & drive\\_wheels & engine\\_location & wheel\\_base & ⋯ & engine\\_size & fuel\\_system & bore & stroke & compression\\_ratio & horsepower & peak\\_rpm & city\\_mpg & highway\\_mpg & price\\\\\n",
       "  & <int> & <chr> & <chr> & <chr> & <chr> & <chr> & <chr> & <chr> & <chr> & <dbl> & ⋯ & <int> & <chr> & <chr> & <chr> & <dbl> & <chr> & <chr> & <int> & <int> & <chr>\\\\\n",
       "\\hline\n",
       "\t1 & 3 & ?   & alfa-romero & gas & std & two  & convertible & rwd & front & 88.6 & ⋯ & 130 & mpfi & 3.47 & 2.68 &  9.0 & 111 & 5000 & 21 & 27 & 16500\\\\\n",
       "\t2 & 1 & ?   & alfa-romero & gas & std & two  & hatchback   & rwd & front & 94.5 & ⋯ & 152 & mpfi & 2.68 & 3.47 &  9.0 & 154 & 5000 & 19 & 26 & 16500\\\\\n",
       "\t3 & 2 & 164 & audi        & gas & std & four & sedan       & fwd & front & 99.8 & ⋯ & 109 & mpfi & 3.19 & 3.40 & 10.0 & 102 & 5500 & 24 & 30 & 13950\\\\\n",
       "\t4 & 2 & 164 & audi        & gas & std & four & sedan       & 4wd & front & 99.4 & ⋯ & 136 & mpfi & 3.19 & 3.40 &  8.0 & 115 & 5500 & 18 & 22 & 17450\\\\\n",
       "\t5 & 2 & ?   & audi        & gas & std & two  & sedan       & fwd & front & 99.8 & ⋯ & 136 & mpfi & 3.19 & 3.40 &  8.5 & 110 & 5500 & 19 & 25 & 15250\\\\\n",
       "\\end{tabular}\n"
      ],
      "text/markdown": [
       "\n",
       "A data.frame: 5 × 26\n",
       "\n",
       "| <!--/--> | risk &lt;int&gt; | normalized_losses &lt;chr&gt; | make &lt;chr&gt; | fuel_type &lt;chr&gt; | aspiration &lt;chr&gt; | num_doors &lt;chr&gt; | body_style &lt;chr&gt; | drive_wheels &lt;chr&gt; | engine_location &lt;chr&gt; | wheel_base &lt;dbl&gt; | ⋯ ⋯ | engine_size &lt;int&gt; | fuel_system &lt;chr&gt; | bore &lt;chr&gt; | stroke &lt;chr&gt; | compression_ratio &lt;dbl&gt; | horsepower &lt;chr&gt; | peak_rpm &lt;chr&gt; | city_mpg &lt;int&gt; | highway_mpg &lt;int&gt; | price &lt;chr&gt; |\n",
       "|---|---|---|---|---|---|---|---|---|---|---|---|---|---|---|---|---|---|---|---|---|---|\n",
       "| 1 | 3 | ?   | alfa-romero | gas | std | two  | convertible | rwd | front | 88.6 | ⋯ | 130 | mpfi | 3.47 | 2.68 |  9.0 | 111 | 5000 | 21 | 27 | 16500 |\n",
       "| 2 | 1 | ?   | alfa-romero | gas | std | two  | hatchback   | rwd | front | 94.5 | ⋯ | 152 | mpfi | 2.68 | 3.47 |  9.0 | 154 | 5000 | 19 | 26 | 16500 |\n",
       "| 3 | 2 | 164 | audi        | gas | std | four | sedan       | fwd | front | 99.8 | ⋯ | 109 | mpfi | 3.19 | 3.40 | 10.0 | 102 | 5500 | 24 | 30 | 13950 |\n",
       "| 4 | 2 | 164 | audi        | gas | std | four | sedan       | 4wd | front | 99.4 | ⋯ | 136 | mpfi | 3.19 | 3.40 |  8.0 | 115 | 5500 | 18 | 22 | 17450 |\n",
       "| 5 | 2 | ?   | audi        | gas | std | two  | sedan       | fwd | front | 99.8 | ⋯ | 136 | mpfi | 3.19 | 3.40 |  8.5 | 110 | 5500 | 19 | 25 | 15250 |\n",
       "\n"
      ],
      "text/plain": [
       "  risk normalized_losses make        fuel_type aspiration num_doors body_style \n",
       "1 3    ?                 alfa-romero gas       std        two       convertible\n",
       "2 1    ?                 alfa-romero gas       std        two       hatchback  \n",
       "3 2    164               audi        gas       std        four      sedan      \n",
       "4 2    164               audi        gas       std        four      sedan      \n",
       "5 2    ?                 audi        gas       std        two       sedan      \n",
       "  drive_wheels engine_location wheel_base ⋯ engine_size fuel_system bore stroke\n",
       "1 rwd          front           88.6       ⋯ 130         mpfi        3.47 2.68  \n",
       "2 rwd          front           94.5       ⋯ 152         mpfi        2.68 3.47  \n",
       "3 fwd          front           99.8       ⋯ 109         mpfi        3.19 3.40  \n",
       "4 4wd          front           99.4       ⋯ 136         mpfi        3.19 3.40  \n",
       "5 fwd          front           99.8       ⋯ 136         mpfi        3.19 3.40  \n",
       "  compression_ratio horsepower peak_rpm city_mpg highway_mpg price\n",
       "1  9.0              111        5000     21       27          16500\n",
       "2  9.0              154        5000     19       26          16500\n",
       "3 10.0              102        5500     24       30          13950\n",
       "4  8.0              115        5500     18       22          17450\n",
       "5  8.5              110        5500     19       25          15250"
      ]
     },
     "metadata": {},
     "output_type": "display_data"
    }
   ],
   "source": [
    "head(autos,5)"
   ]
  },
  {
   "cell_type": "code",
   "execution_count": 20,
   "metadata": {},
   "outputs": [
    {
     "name": "stdout",
     "output_type": "stream",
     "text": [
      "'data.frame':\t204 obs. of  26 variables:\n",
      " $ risk             : int  3 1 2 2 2 1 1 1 0 2 ...\n",
      " $ normalized_losses: chr  \"?\" \"?\" \"164\" \"164\" ...\n",
      " $ make             : chr  \"alfa-romero\" \"alfa-romero\" \"audi\" \"audi\" ...\n",
      " $ fuel_type        : chr  \"gas\" \"gas\" \"gas\" \"gas\" ...\n",
      " $ aspiration       : chr  \"std\" \"std\" \"std\" \"std\" ...\n",
      " $ num_doors        : chr  \"two\" \"two\" \"four\" \"four\" ...\n",
      " $ body_style       : chr  \"convertible\" \"hatchback\" \"sedan\" \"sedan\" ...\n",
      " $ drive_wheels     : chr  \"rwd\" \"rwd\" \"fwd\" \"4wd\" ...\n",
      " $ engine_location  : chr  \"front\" \"front\" \"front\" \"front\" ...\n",
      " $ wheel_base       : num  88.6 94.5 99.8 99.4 99.8 ...\n",
      " $ length           : num  169 171 177 177 177 ...\n",
      " $ width            : num  64.1 65.5 66.2 66.4 66.3 71.4 71.4 71.4 67.9 64.8 ...\n",
      " $ height           : num  48.8 52.4 54.3 54.3 53.1 55.7 55.7 55.9 52 54.3 ...\n",
      " $ curb_weight      : int  2548 2823 2337 2824 2507 2844 2954 3086 3053 2395 ...\n",
      " $ engine_type      : chr  \"dohc\" \"ohcv\" \"ohc\" \"ohc\" ...\n",
      " $ num_cylinders    : chr  \"four\" \"six\" \"four\" \"five\" ...\n",
      " $ engine_size      : int  130 152 109 136 136 136 136 131 131 108 ...\n",
      " $ fuel_system      : chr  \"mpfi\" \"mpfi\" \"mpfi\" \"mpfi\" ...\n",
      " $ bore             : chr  \"3.47\" \"2.68\" \"3.19\" \"3.19\" ...\n",
      " $ stroke           : chr  \"2.68\" \"3.47\" \"3.40\" \"3.40\" ...\n",
      " $ compression_ratio: num  9 9 10 8 8.5 8.5 8.5 8.3 7 8.8 ...\n",
      " $ horsepower       : chr  \"111\" \"154\" \"102\" \"115\" ...\n",
      " $ peak_rpm         : chr  \"5000\" \"5000\" \"5500\" \"5500\" ...\n",
      " $ city_mpg         : int  21 19 24 18 19 19 19 17 16 23 ...\n",
      " $ highway_mpg      : int  27 26 30 22 25 25 25 20 22 29 ...\n",
      " $ price            : chr  \"16500\" \"16500\" \"13950\" \"17450\" ...\n"
     ]
    }
   ],
   "source": [
    "str(autos)"
   ]
  },
  {
   "cell_type": "code",
   "execution_count": 21,
   "metadata": {},
   "outputs": [
    {
     "data": {
      "text/html": [
       "204"
      ],
      "text/latex": [
       "204"
      ],
      "text/markdown": [
       "204"
      ],
      "text/plain": [
       "[1] 204"
      ]
     },
     "metadata": {},
     "output_type": "display_data"
    }
   ],
   "source": [
    "nrow(autos)"
   ]
  },
  {
   "cell_type": "code",
   "execution_count": 22,
   "metadata": {},
   "outputs": [
    {
     "data": {
      "text/html": [
       "26"
      ],
      "text/latex": [
       "26"
      ],
      "text/markdown": [
       "26"
      ],
      "text/plain": [
       "[1] 26"
      ]
     },
     "metadata": {},
     "output_type": "display_data"
    }
   ],
   "source": [
    "ncol(autos)"
   ]
  },
  {
   "cell_type": "markdown",
   "metadata": {},
   "source": [
    "Nos quedamos solo con las columnas: \"price\",\"horsepower\",\"body_style\",\"risk\""
   ]
  },
  {
   "cell_type": "code",
   "execution_count": 29,
   "metadata": {},
   "outputs": [
    {
     "name": "stdout",
     "output_type": "stream",
     "text": [
      "'data.frame':\t204 obs. of  4 variables:\n",
      " $ price     : chr  \"16500\" \"16500\" \"13950\" \"17450\" ...\n",
      " $ horsepower: chr  \"111\" \"154\" \"102\" \"115\" ...\n",
      " $ body_style: chr  \"convertible\" \"hatchback\" \"sedan\" \"sedan\" ...\n",
      " $ risk      : int  3 1 2 2 2 1 1 1 0 2 ...\n"
     ]
    }
   ],
   "source": [
    "autos <- autos[,c(\"price\",\"horsepower\",\"body_style\",\"risk\")]\n",
    "str(autos)"
   ]
  },
  {
   "cell_type": "code",
   "execution_count": 30,
   "metadata": {},
   "outputs": [
    {
     "data": {
      "text/html": [
       "4"
      ],
      "text/latex": [
       "4"
      ],
      "text/markdown": [
       "4"
      ],
      "text/plain": [
       "[1] 4"
      ]
     },
     "metadata": {},
     "output_type": "display_data"
    }
   ],
   "source": [
    "ncol(autos)"
   ]
  },
  {
   "cell_type": "markdown",
   "metadata": {
    "collapsed": true
   },
   "source": [
    "En este CSV cuando existe un valor desconocido lo han indicado con el caracter '?'. Por ese motivo la columna 'price' y 'horsepower' es factor en lugar de numeric.\n",
    "Tenemos que indicarle a R que son NA:"
   ]
  },
  {
   "cell_type": "code",
   "execution_count": 35,
   "metadata": {},
   "outputs": [
    {
     "data": {
      "text/html": [
       "<style>\n",
       ".list-inline {list-style: none; margin:0; padding: 0}\n",
       ".list-inline>li {display: inline-block}\n",
       ".list-inline>li:not(:last-child)::after {content: \"\\00b7\"; padding: 0 .5ex}\n",
       "</style>\n",
       "<ol class=list-inline><li>FALSE</li><li>FALSE</li><li>FALSE</li><li>FALSE</li><li>FALSE</li><li>FALSE</li><li>FALSE</li><li>FALSE</li><li>FALSE</li><li>FALSE</li><li>FALSE</li><li>FALSE</li><li>FALSE</li><li>FALSE</li><li>FALSE</li><li>FALSE</li><li>FALSE</li><li>FALSE</li><li>FALSE</li><li>FALSE</li><li>FALSE</li><li>FALSE</li><li>FALSE</li><li>FALSE</li><li>FALSE</li><li>FALSE</li><li>FALSE</li><li>FALSE</li><li>FALSE</li><li>FALSE</li><li>FALSE</li><li>FALSE</li><li>FALSE</li><li>FALSE</li><li>FALSE</li><li>FALSE</li><li>FALSE</li><li>FALSE</li><li>FALSE</li><li>FALSE</li><li>FALSE</li><li>FALSE</li><li>FALSE</li><li>FALSE</li><li>FALSE</li><li>FALSE</li><li>FALSE</li><li>FALSE</li><li>FALSE</li><li>FALSE</li><li>FALSE</li><li>FALSE</li><li>FALSE</li><li>FALSE</li><li>FALSE</li><li>FALSE</li><li>FALSE</li><li>FALSE</li><li>FALSE</li><li>FALSE</li><li>FALSE</li><li>FALSE</li><li>FALSE</li><li>FALSE</li><li>FALSE</li><li>FALSE</li><li>FALSE</li><li>FALSE</li><li>FALSE</li><li>FALSE</li><li>FALSE</li><li>FALSE</li><li>FALSE</li><li>FALSE</li><li>FALSE</li><li>FALSE</li><li>FALSE</li><li>FALSE</li><li>FALSE</li><li>FALSE</li><li>FALSE</li><li>FALSE</li><li>FALSE</li><li>FALSE</li><li>FALSE</li><li>FALSE</li><li>FALSE</li><li>FALSE</li><li>FALSE</li><li>FALSE</li><li>FALSE</li><li>FALSE</li><li>FALSE</li><li>FALSE</li><li>FALSE</li><li>FALSE</li><li>FALSE</li><li>FALSE</li><li>FALSE</li><li>FALSE</li><li>FALSE</li><li>FALSE</li><li>FALSE</li><li>FALSE</li><li>FALSE</li><li>FALSE</li><li>FALSE</li><li>FALSE</li><li>FALSE</li><li>FALSE</li><li>FALSE</li><li>FALSE</li><li>FALSE</li><li>FALSE</li><li>FALSE</li><li>FALSE</li><li>FALSE</li><li>FALSE</li><li>FALSE</li><li>FALSE</li><li>FALSE</li><li>FALSE</li><li>FALSE</li><li>FALSE</li><li>FALSE</li><li>FALSE</li><li>FALSE</li><li>FALSE</li><li>FALSE</li><li>TRUE</li><li>TRUE</li><li>FALSE</li><li>FALSE</li><li>FALSE</li><li>FALSE</li><li>FALSE</li><li>FALSE</li><li>FALSE</li><li>FALSE</li><li>FALSE</li><li>FALSE</li><li>FALSE</li><li>FALSE</li><li>FALSE</li><li>FALSE</li><li>FALSE</li><li>FALSE</li><li>FALSE</li><li>FALSE</li><li>FALSE</li><li>FALSE</li><li>FALSE</li><li>FALSE</li><li>FALSE</li><li>FALSE</li><li>FALSE</li><li>FALSE</li><li>FALSE</li><li>FALSE</li><li>FALSE</li><li>FALSE</li><li>FALSE</li><li>FALSE</li><li>FALSE</li><li>FALSE</li><li>FALSE</li><li>FALSE</li><li>FALSE</li><li>FALSE</li><li>FALSE</li><li>FALSE</li><li>FALSE</li><li>FALSE</li><li>FALSE</li><li>FALSE</li><li>FALSE</li><li>FALSE</li><li>FALSE</li><li>FALSE</li><li>FALSE</li><li>FALSE</li><li>FALSE</li><li>FALSE</li><li>FALSE</li><li>FALSE</li><li>FALSE</li><li>FALSE</li><li>FALSE</li><li>FALSE</li><li>FALSE</li><li>FALSE</li><li>FALSE</li><li>FALSE</li><li>FALSE</li><li>FALSE</li><li>FALSE</li><li>FALSE</li><li>FALSE</li><li>FALSE</li><li>FALSE</li><li>FALSE</li><li>FALSE</li><li>FALSE</li><li>FALSE</li></ol>\n"
      ],
      "text/latex": [
       "\\begin{enumerate*}\n",
       "\\item FALSE\n",
       "\\item FALSE\n",
       "\\item FALSE\n",
       "\\item FALSE\n",
       "\\item FALSE\n",
       "\\item FALSE\n",
       "\\item FALSE\n",
       "\\item FALSE\n",
       "\\item FALSE\n",
       "\\item FALSE\n",
       "\\item FALSE\n",
       "\\item FALSE\n",
       "\\item FALSE\n",
       "\\item FALSE\n",
       "\\item FALSE\n",
       "\\item FALSE\n",
       "\\item FALSE\n",
       "\\item FALSE\n",
       "\\item FALSE\n",
       "\\item FALSE\n",
       "\\item FALSE\n",
       "\\item FALSE\n",
       "\\item FALSE\n",
       "\\item FALSE\n",
       "\\item FALSE\n",
       "\\item FALSE\n",
       "\\item FALSE\n",
       "\\item FALSE\n",
       "\\item FALSE\n",
       "\\item FALSE\n",
       "\\item FALSE\n",
       "\\item FALSE\n",
       "\\item FALSE\n",
       "\\item FALSE\n",
       "\\item FALSE\n",
       "\\item FALSE\n",
       "\\item FALSE\n",
       "\\item FALSE\n",
       "\\item FALSE\n",
       "\\item FALSE\n",
       "\\item FALSE\n",
       "\\item FALSE\n",
       "\\item FALSE\n",
       "\\item FALSE\n",
       "\\item FALSE\n",
       "\\item FALSE\n",
       "\\item FALSE\n",
       "\\item FALSE\n",
       "\\item FALSE\n",
       "\\item FALSE\n",
       "\\item FALSE\n",
       "\\item FALSE\n",
       "\\item FALSE\n",
       "\\item FALSE\n",
       "\\item FALSE\n",
       "\\item FALSE\n",
       "\\item FALSE\n",
       "\\item FALSE\n",
       "\\item FALSE\n",
       "\\item FALSE\n",
       "\\item FALSE\n",
       "\\item FALSE\n",
       "\\item FALSE\n",
       "\\item FALSE\n",
       "\\item FALSE\n",
       "\\item FALSE\n",
       "\\item FALSE\n",
       "\\item FALSE\n",
       "\\item FALSE\n",
       "\\item FALSE\n",
       "\\item FALSE\n",
       "\\item FALSE\n",
       "\\item FALSE\n",
       "\\item FALSE\n",
       "\\item FALSE\n",
       "\\item FALSE\n",
       "\\item FALSE\n",
       "\\item FALSE\n",
       "\\item FALSE\n",
       "\\item FALSE\n",
       "\\item FALSE\n",
       "\\item FALSE\n",
       "\\item FALSE\n",
       "\\item FALSE\n",
       "\\item FALSE\n",
       "\\item FALSE\n",
       "\\item FALSE\n",
       "\\item FALSE\n",
       "\\item FALSE\n",
       "\\item FALSE\n",
       "\\item FALSE\n",
       "\\item FALSE\n",
       "\\item FALSE\n",
       "\\item FALSE\n",
       "\\item FALSE\n",
       "\\item FALSE\n",
       "\\item FALSE\n",
       "\\item FALSE\n",
       "\\item FALSE\n",
       "\\item FALSE\n",
       "\\item FALSE\n",
       "\\item FALSE\n",
       "\\item FALSE\n",
       "\\item FALSE\n",
       "\\item FALSE\n",
       "\\item FALSE\n",
       "\\item FALSE\n",
       "\\item FALSE\n",
       "\\item FALSE\n",
       "\\item FALSE\n",
       "\\item FALSE\n",
       "\\item FALSE\n",
       "\\item FALSE\n",
       "\\item FALSE\n",
       "\\item FALSE\n",
       "\\item FALSE\n",
       "\\item FALSE\n",
       "\\item FALSE\n",
       "\\item FALSE\n",
       "\\item FALSE\n",
       "\\item FALSE\n",
       "\\item FALSE\n",
       "\\item FALSE\n",
       "\\item FALSE\n",
       "\\item FALSE\n",
       "\\item FALSE\n",
       "\\item FALSE\n",
       "\\item FALSE\n",
       "\\item FALSE\n",
       "\\item TRUE\n",
       "\\item TRUE\n",
       "\\item FALSE\n",
       "\\item FALSE\n",
       "\\item FALSE\n",
       "\\item FALSE\n",
       "\\item FALSE\n",
       "\\item FALSE\n",
       "\\item FALSE\n",
       "\\item FALSE\n",
       "\\item FALSE\n",
       "\\item FALSE\n",
       "\\item FALSE\n",
       "\\item FALSE\n",
       "\\item FALSE\n",
       "\\item FALSE\n",
       "\\item FALSE\n",
       "\\item FALSE\n",
       "\\item FALSE\n",
       "\\item FALSE\n",
       "\\item FALSE\n",
       "\\item FALSE\n",
       "\\item FALSE\n",
       "\\item FALSE\n",
       "\\item FALSE\n",
       "\\item FALSE\n",
       "\\item FALSE\n",
       "\\item FALSE\n",
       "\\item FALSE\n",
       "\\item FALSE\n",
       "\\item FALSE\n",
       "\\item FALSE\n",
       "\\item FALSE\n",
       "\\item FALSE\n",
       "\\item FALSE\n",
       "\\item FALSE\n",
       "\\item FALSE\n",
       "\\item FALSE\n",
       "\\item FALSE\n",
       "\\item FALSE\n",
       "\\item FALSE\n",
       "\\item FALSE\n",
       "\\item FALSE\n",
       "\\item FALSE\n",
       "\\item FALSE\n",
       "\\item FALSE\n",
       "\\item FALSE\n",
       "\\item FALSE\n",
       "\\item FALSE\n",
       "\\item FALSE\n",
       "\\item FALSE\n",
       "\\item FALSE\n",
       "\\item FALSE\n",
       "\\item FALSE\n",
       "\\item FALSE\n",
       "\\item FALSE\n",
       "\\item FALSE\n",
       "\\item FALSE\n",
       "\\item FALSE\n",
       "\\item FALSE\n",
       "\\item FALSE\n",
       "\\item FALSE\n",
       "\\item FALSE\n",
       "\\item FALSE\n",
       "\\item FALSE\n",
       "\\item FALSE\n",
       "\\item FALSE\n",
       "\\item FALSE\n",
       "\\item FALSE\n",
       "\\item FALSE\n",
       "\\item FALSE\n",
       "\\item FALSE\n",
       "\\item FALSE\n",
       "\\item FALSE\n",
       "\\item FALSE\n",
       "\\end{enumerate*}\n"
      ],
      "text/markdown": [
       "1. FALSE\n",
       "2. FALSE\n",
       "3. FALSE\n",
       "4. FALSE\n",
       "5. FALSE\n",
       "6. FALSE\n",
       "7. FALSE\n",
       "8. FALSE\n",
       "9. FALSE\n",
       "10. FALSE\n",
       "11. FALSE\n",
       "12. FALSE\n",
       "13. FALSE\n",
       "14. FALSE\n",
       "15. FALSE\n",
       "16. FALSE\n",
       "17. FALSE\n",
       "18. FALSE\n",
       "19. FALSE\n",
       "20. FALSE\n",
       "21. FALSE\n",
       "22. FALSE\n",
       "23. FALSE\n",
       "24. FALSE\n",
       "25. FALSE\n",
       "26. FALSE\n",
       "27. FALSE\n",
       "28. FALSE\n",
       "29. FALSE\n",
       "30. FALSE\n",
       "31. FALSE\n",
       "32. FALSE\n",
       "33. FALSE\n",
       "34. FALSE\n",
       "35. FALSE\n",
       "36. FALSE\n",
       "37. FALSE\n",
       "38. FALSE\n",
       "39. FALSE\n",
       "40. FALSE\n",
       "41. FALSE\n",
       "42. FALSE\n",
       "43. FALSE\n",
       "44. FALSE\n",
       "45. FALSE\n",
       "46. FALSE\n",
       "47. FALSE\n",
       "48. FALSE\n",
       "49. FALSE\n",
       "50. FALSE\n",
       "51. FALSE\n",
       "52. FALSE\n",
       "53. FALSE\n",
       "54. FALSE\n",
       "55. FALSE\n",
       "56. FALSE\n",
       "57. FALSE\n",
       "58. FALSE\n",
       "59. FALSE\n",
       "60. FALSE\n",
       "61. FALSE\n",
       "62. FALSE\n",
       "63. FALSE\n",
       "64. FALSE\n",
       "65. FALSE\n",
       "66. FALSE\n",
       "67. FALSE\n",
       "68. FALSE\n",
       "69. FALSE\n",
       "70. FALSE\n",
       "71. FALSE\n",
       "72. FALSE\n",
       "73. FALSE\n",
       "74. FALSE\n",
       "75. FALSE\n",
       "76. FALSE\n",
       "77. FALSE\n",
       "78. FALSE\n",
       "79. FALSE\n",
       "80. FALSE\n",
       "81. FALSE\n",
       "82. FALSE\n",
       "83. FALSE\n",
       "84. FALSE\n",
       "85. FALSE\n",
       "86. FALSE\n",
       "87. FALSE\n",
       "88. FALSE\n",
       "89. FALSE\n",
       "90. FALSE\n",
       "91. FALSE\n",
       "92. FALSE\n",
       "93. FALSE\n",
       "94. FALSE\n",
       "95. FALSE\n",
       "96. FALSE\n",
       "97. FALSE\n",
       "98. FALSE\n",
       "99. FALSE\n",
       "100. FALSE\n",
       "101. FALSE\n",
       "102. FALSE\n",
       "103. FALSE\n",
       "104. FALSE\n",
       "105. FALSE\n",
       "106. FALSE\n",
       "107. FALSE\n",
       "108. FALSE\n",
       "109. FALSE\n",
       "110. FALSE\n",
       "111. FALSE\n",
       "112. FALSE\n",
       "113. FALSE\n",
       "114. FALSE\n",
       "115. FALSE\n",
       "116. FALSE\n",
       "117. FALSE\n",
       "118. FALSE\n",
       "119. FALSE\n",
       "120. FALSE\n",
       "121. FALSE\n",
       "122. FALSE\n",
       "123. FALSE\n",
       "124. FALSE\n",
       "125. FALSE\n",
       "126. FALSE\n",
       "127. FALSE\n",
       "128. FALSE\n",
       "129. FALSE\n",
       "130. TRUE\n",
       "131. TRUE\n",
       "132. FALSE\n",
       "133. FALSE\n",
       "134. FALSE\n",
       "135. FALSE\n",
       "136. FALSE\n",
       "137. FALSE\n",
       "138. FALSE\n",
       "139. FALSE\n",
       "140. FALSE\n",
       "141. FALSE\n",
       "142. FALSE\n",
       "143. FALSE\n",
       "144. FALSE\n",
       "145. FALSE\n",
       "146. FALSE\n",
       "147. FALSE\n",
       "148. FALSE\n",
       "149. FALSE\n",
       "150. FALSE\n",
       "151. FALSE\n",
       "152. FALSE\n",
       "153. FALSE\n",
       "154. FALSE\n",
       "155. FALSE\n",
       "156. FALSE\n",
       "157. FALSE\n",
       "158. FALSE\n",
       "159. FALSE\n",
       "160. FALSE\n",
       "161. FALSE\n",
       "162. FALSE\n",
       "163. FALSE\n",
       "164. FALSE\n",
       "165. FALSE\n",
       "166. FALSE\n",
       "167. FALSE\n",
       "168. FALSE\n",
       "169. FALSE\n",
       "170. FALSE\n",
       "171. FALSE\n",
       "172. FALSE\n",
       "173. FALSE\n",
       "174. FALSE\n",
       "175. FALSE\n",
       "176. FALSE\n",
       "177. FALSE\n",
       "178. FALSE\n",
       "179. FALSE\n",
       "180. FALSE\n",
       "181. FALSE\n",
       "182. FALSE\n",
       "183. FALSE\n",
       "184. FALSE\n",
       "185. FALSE\n",
       "186. FALSE\n",
       "187. FALSE\n",
       "188. FALSE\n",
       "189. FALSE\n",
       "190. FALSE\n",
       "191. FALSE\n",
       "192. FALSE\n",
       "193. FALSE\n",
       "194. FALSE\n",
       "195. FALSE\n",
       "196. FALSE\n",
       "197. FALSE\n",
       "198. FALSE\n",
       "199. FALSE\n",
       "200. FALSE\n",
       "201. FALSE\n",
       "202. FALSE\n",
       "203. FALSE\n",
       "204. FALSE\n",
       "\n",
       "\n"
      ],
      "text/plain": [
       "  [1] FALSE FALSE FALSE FALSE FALSE FALSE FALSE FALSE FALSE FALSE FALSE FALSE\n",
       " [13] FALSE FALSE FALSE FALSE FALSE FALSE FALSE FALSE FALSE FALSE FALSE FALSE\n",
       " [25] FALSE FALSE FALSE FALSE FALSE FALSE FALSE FALSE FALSE FALSE FALSE FALSE\n",
       " [37] FALSE FALSE FALSE FALSE FALSE FALSE FALSE FALSE FALSE FALSE FALSE FALSE\n",
       " [49] FALSE FALSE FALSE FALSE FALSE FALSE FALSE FALSE FALSE FALSE FALSE FALSE\n",
       " [61] FALSE FALSE FALSE FALSE FALSE FALSE FALSE FALSE FALSE FALSE FALSE FALSE\n",
       " [73] FALSE FALSE FALSE FALSE FALSE FALSE FALSE FALSE FALSE FALSE FALSE FALSE\n",
       " [85] FALSE FALSE FALSE FALSE FALSE FALSE FALSE FALSE FALSE FALSE FALSE FALSE\n",
       " [97] FALSE FALSE FALSE FALSE FALSE FALSE FALSE FALSE FALSE FALSE FALSE FALSE\n",
       "[109] FALSE FALSE FALSE FALSE FALSE FALSE FALSE FALSE FALSE FALSE FALSE FALSE\n",
       "[121] FALSE FALSE FALSE FALSE FALSE FALSE FALSE FALSE FALSE  TRUE  TRUE FALSE\n",
       "[133] FALSE FALSE FALSE FALSE FALSE FALSE FALSE FALSE FALSE FALSE FALSE FALSE\n",
       "[145] FALSE FALSE FALSE FALSE FALSE FALSE FALSE FALSE FALSE FALSE FALSE FALSE\n",
       "[157] FALSE FALSE FALSE FALSE FALSE FALSE FALSE FALSE FALSE FALSE FALSE FALSE\n",
       "[169] FALSE FALSE FALSE FALSE FALSE FALSE FALSE FALSE FALSE FALSE FALSE FALSE\n",
       "[181] FALSE FALSE FALSE FALSE FALSE FALSE FALSE FALSE FALSE FALSE FALSE FALSE\n",
       "[193] FALSE FALSE FALSE FALSE FALSE FALSE FALSE FALSE FALSE FALSE FALSE FALSE"
      ]
     },
     "metadata": {},
     "output_type": "display_data"
    }
   ],
   "source": [
    "ids_na_hp <- autos$horsepower=='?'\n",
    "ids_na_hp"
   ]
  },
  {
   "cell_type": "code",
   "execution_count": 36,
   "metadata": {},
   "outputs": [],
   "source": [
    "autos$horsepower[ids_na_hp] <- NA"
   ]
  },
  {
   "cell_type": "code",
   "execution_count": 38,
   "metadata": {},
   "outputs": [
    {
     "data": {
      "text/plain": [
       "\n",
       "100 101 102 106 110 111 112 114 115 116 120 121 123 134 135 140 142 143 145 152 \n",
       "  2   6   5   1   8   3   2   6   1   9   1   3   4   1   1   1   1   1   5   3 \n",
       "154 155 156 160 161 162 175 176 182 184 200 207 262 288  48  52  55  56  58  60 \n",
       "  1   2   2   6   2   2   1   2   3   2   1   3   1   1   1   2   1   2   1   1 \n",
       " 62  64  68  69  70  72  73  76  78  82  84  85  86  88  90  92  94  95  97 \n",
       "  6   1  19  10  11   1   3   5   1   5   5   3   4   6   3   4   2   7   5 "
      ]
     },
     "metadata": {},
     "output_type": "display_data"
    }
   ],
   "source": [
    "table(autos$horsepower)"
   ]
  },
  {
   "cell_type": "code",
   "execution_count": 39,
   "metadata": {},
   "outputs": [],
   "source": [
    "autos$price[autos$price=='?']<-NA"
   ]
  },
  {
   "cell_type": "code",
   "execution_count": 41,
   "metadata": {},
   "outputs": [
    {
     "data": {
      "text/html": [
       "<style>\n",
       ".list-inline {list-style: none; margin:0; padding: 0}\n",
       ".list-inline>li {display: inline-block}\n",
       ".list-inline>li:not(:last-child)::after {content: \"\\00b7\"; padding: 0 .5ex}\n",
       "</style>\n",
       "<ol class=list-inline><li>'16500'</li><li>'16500'</li><li>'13950'</li><li>'17450'</li><li>'15250'</li><li>'17710'</li><li>'18920'</li><li>'23875'</li><li>NA</li><li>'16430'</li><li>'16925'</li><li>'20970'</li><li>'21105'</li><li>'24565'</li><li>'30760'</li><li>'41315'</li><li>'36880'</li><li>'5151'</li><li>'6295'</li><li>'6575'</li><li>'5572'</li><li>'6377'</li><li>'7957'</li><li>'6229'</li><li>'6692'</li><li>'7609'</li><li>'8558'</li><li>'8921'</li><li>'12964'</li><li>'6479'</li><li>'6855'</li><li>'5399'</li><li>'6529'</li><li>'7129'</li><li>'7295'</li><li>'7295'</li><li>'7895'</li><li>'9095'</li><li>'8845'</li><li>'10295'</li><li>'12945'</li><li>'10345'</li><li>'6785'</li><li>NA</li><li>NA</li><li>'11048'</li><li>'32250'</li><li>'35550'</li><li>'36000'</li><li>'5195'</li><li>'6095'</li><li>'6795'</li><li>'6695'</li><li>'7395'</li><li>'10945'</li><li>'11845'</li><li>'13645'</li><li>'15645'</li><li>'8845'</li><li>'8495'</li><li>'10595'</li><li>'10245'</li><li>'10795'</li><li>'11245'</li><li>'18280'</li><li>'18344'</li><li>'25552'</li><li>'28248'</li><li>'28176'</li><li>'31600'</li><li>'34184'</li><li>'35056'</li><li>'40960'</li><li>'45400'</li><li>'16503'</li><li>'5389'</li><li>'6189'</li><li>'6669'</li><li>'7689'</li><li>'9959'</li><li>'8499'</li><li>'12629'</li><li>'14869'</li><li>'14489'</li><li>'6989'</li><li>'8189'</li><li>'9279'</li><li>'9279'</li><li>'5499'</li><li>'7099'</li><li>'6649'</li><li>'6849'</li><li>'7349'</li><li>'7299'</li><li>'7799'</li><li>'7499'</li><li>'7999'</li><li>'8249'</li><li>'8949'</li><li>'9549'</li><li>'13499'</li><li>'14399'</li><li>'13499'</li><li>'17199'</li><li>'19699'</li><li>'18399'</li><li>'11900'</li><li>'13200'</li><li>'12440'</li><li>'13860'</li><li>'15580'</li><li>'16900'</li><li>'16695'</li><li>'17075'</li><li>'16630'</li><li>'17950'</li><li>'18150'</li><li>'5572'</li><li>'7957'</li><li>'6229'</li><li>'6692'</li><li>'7609'</li><li>'8921'</li><li>'12764'</li><li>'22018'</li><li>'32528'</li><li>'34028'</li><li>'37028'</li><li>NA</li><li>'9295'</li><li>'9895'</li><li>'11850'</li><li>'12170'</li><li>'15040'</li><li>'15510'</li><li>'18150'</li><li>'18620'</li><li>'5118'</li><li>'7053'</li><li>'7603'</li><li>'7126'</li><li>'7775'</li><li>'9960'</li><li>'9233'</li><li>'11259'</li><li>'7463'</li><li>'10198'</li><li>'8013'</li><li>'11694'</li><li>'5348'</li><li>'6338'</li><li>'6488'</li><li>'6918'</li><li>'7898'</li><li>'8778'</li><li>'6938'</li><li>'7198'</li><li>'7898'</li><li>'7788'</li><li>'7738'</li><li>'8358'</li><li>'9258'</li><li>'8058'</li><li>'8238'</li><li>'9298'</li><li>'9538'</li><li>'8449'</li><li>'9639'</li><li>'9989'</li><li>'11199'</li><li>'11549'</li><li>'17669'</li><li>'8948'</li><li>'10698'</li><li>'9988'</li><li>'10898'</li><li>'11248'</li><li>'16558'</li><li>'15998'</li><li>'15690'</li><li>'15750'</li><li>'7775'</li><li>'7975'</li><li>'7995'</li><li>'8195'</li><li>'8495'</li><li>'9495'</li><li>'9995'</li><li>'11595'</li><li>'9980'</li><li>'13295'</li><li>'13845'</li><li>'12290'</li><li>'12940'</li><li>'13415'</li><li>'15985'</li><li>'16515'</li><li>'18420'</li><li>'18950'</li><li>'16845'</li><li>'19045'</li><li>'21485'</li><li>'22470'</li><li>'22625'</li></ol>\n"
      ],
      "text/latex": [
       "\\begin{enumerate*}\n",
       "\\item '16500'\n",
       "\\item '16500'\n",
       "\\item '13950'\n",
       "\\item '17450'\n",
       "\\item '15250'\n",
       "\\item '17710'\n",
       "\\item '18920'\n",
       "\\item '23875'\n",
       "\\item NA\n",
       "\\item '16430'\n",
       "\\item '16925'\n",
       "\\item '20970'\n",
       "\\item '21105'\n",
       "\\item '24565'\n",
       "\\item '30760'\n",
       "\\item '41315'\n",
       "\\item '36880'\n",
       "\\item '5151'\n",
       "\\item '6295'\n",
       "\\item '6575'\n",
       "\\item '5572'\n",
       "\\item '6377'\n",
       "\\item '7957'\n",
       "\\item '6229'\n",
       "\\item '6692'\n",
       "\\item '7609'\n",
       "\\item '8558'\n",
       "\\item '8921'\n",
       "\\item '12964'\n",
       "\\item '6479'\n",
       "\\item '6855'\n",
       "\\item '5399'\n",
       "\\item '6529'\n",
       "\\item '7129'\n",
       "\\item '7295'\n",
       "\\item '7295'\n",
       "\\item '7895'\n",
       "\\item '9095'\n",
       "\\item '8845'\n",
       "\\item '10295'\n",
       "\\item '12945'\n",
       "\\item '10345'\n",
       "\\item '6785'\n",
       "\\item NA\n",
       "\\item NA\n",
       "\\item '11048'\n",
       "\\item '32250'\n",
       "\\item '35550'\n",
       "\\item '36000'\n",
       "\\item '5195'\n",
       "\\item '6095'\n",
       "\\item '6795'\n",
       "\\item '6695'\n",
       "\\item '7395'\n",
       "\\item '10945'\n",
       "\\item '11845'\n",
       "\\item '13645'\n",
       "\\item '15645'\n",
       "\\item '8845'\n",
       "\\item '8495'\n",
       "\\item '10595'\n",
       "\\item '10245'\n",
       "\\item '10795'\n",
       "\\item '11245'\n",
       "\\item '18280'\n",
       "\\item '18344'\n",
       "\\item '25552'\n",
       "\\item '28248'\n",
       "\\item '28176'\n",
       "\\item '31600'\n",
       "\\item '34184'\n",
       "\\item '35056'\n",
       "\\item '40960'\n",
       "\\item '45400'\n",
       "\\item '16503'\n",
       "\\item '5389'\n",
       "\\item '6189'\n",
       "\\item '6669'\n",
       "\\item '7689'\n",
       "\\item '9959'\n",
       "\\item '8499'\n",
       "\\item '12629'\n",
       "\\item '14869'\n",
       "\\item '14489'\n",
       "\\item '6989'\n",
       "\\item '8189'\n",
       "\\item '9279'\n",
       "\\item '9279'\n",
       "\\item '5499'\n",
       "\\item '7099'\n",
       "\\item '6649'\n",
       "\\item '6849'\n",
       "\\item '7349'\n",
       "\\item '7299'\n",
       "\\item '7799'\n",
       "\\item '7499'\n",
       "\\item '7999'\n",
       "\\item '8249'\n",
       "\\item '8949'\n",
       "\\item '9549'\n",
       "\\item '13499'\n",
       "\\item '14399'\n",
       "\\item '13499'\n",
       "\\item '17199'\n",
       "\\item '19699'\n",
       "\\item '18399'\n",
       "\\item '11900'\n",
       "\\item '13200'\n",
       "\\item '12440'\n",
       "\\item '13860'\n",
       "\\item '15580'\n",
       "\\item '16900'\n",
       "\\item '16695'\n",
       "\\item '17075'\n",
       "\\item '16630'\n",
       "\\item '17950'\n",
       "\\item '18150'\n",
       "\\item '5572'\n",
       "\\item '7957'\n",
       "\\item '6229'\n",
       "\\item '6692'\n",
       "\\item '7609'\n",
       "\\item '8921'\n",
       "\\item '12764'\n",
       "\\item '22018'\n",
       "\\item '32528'\n",
       "\\item '34028'\n",
       "\\item '37028'\n",
       "\\item NA\n",
       "\\item '9295'\n",
       "\\item '9895'\n",
       "\\item '11850'\n",
       "\\item '12170'\n",
       "\\item '15040'\n",
       "\\item '15510'\n",
       "\\item '18150'\n",
       "\\item '18620'\n",
       "\\item '5118'\n",
       "\\item '7053'\n",
       "\\item '7603'\n",
       "\\item '7126'\n",
       "\\item '7775'\n",
       "\\item '9960'\n",
       "\\item '9233'\n",
       "\\item '11259'\n",
       "\\item '7463'\n",
       "\\item '10198'\n",
       "\\item '8013'\n",
       "\\item '11694'\n",
       "\\item '5348'\n",
       "\\item '6338'\n",
       "\\item '6488'\n",
       "\\item '6918'\n",
       "\\item '7898'\n",
       "\\item '8778'\n",
       "\\item '6938'\n",
       "\\item '7198'\n",
       "\\item '7898'\n",
       "\\item '7788'\n",
       "\\item '7738'\n",
       "\\item '8358'\n",
       "\\item '9258'\n",
       "\\item '8058'\n",
       "\\item '8238'\n",
       "\\item '9298'\n",
       "\\item '9538'\n",
       "\\item '8449'\n",
       "\\item '9639'\n",
       "\\item '9989'\n",
       "\\item '11199'\n",
       "\\item '11549'\n",
       "\\item '17669'\n",
       "\\item '8948'\n",
       "\\item '10698'\n",
       "\\item '9988'\n",
       "\\item '10898'\n",
       "\\item '11248'\n",
       "\\item '16558'\n",
       "\\item '15998'\n",
       "\\item '15690'\n",
       "\\item '15750'\n",
       "\\item '7775'\n",
       "\\item '7975'\n",
       "\\item '7995'\n",
       "\\item '8195'\n",
       "\\item '8495'\n",
       "\\item '9495'\n",
       "\\item '9995'\n",
       "\\item '11595'\n",
       "\\item '9980'\n",
       "\\item '13295'\n",
       "\\item '13845'\n",
       "\\item '12290'\n",
       "\\item '12940'\n",
       "\\item '13415'\n",
       "\\item '15985'\n",
       "\\item '16515'\n",
       "\\item '18420'\n",
       "\\item '18950'\n",
       "\\item '16845'\n",
       "\\item '19045'\n",
       "\\item '21485'\n",
       "\\item '22470'\n",
       "\\item '22625'\n",
       "\\end{enumerate*}\n"
      ],
      "text/markdown": [
       "1. '16500'\n",
       "2. '16500'\n",
       "3. '13950'\n",
       "4. '17450'\n",
       "5. '15250'\n",
       "6. '17710'\n",
       "7. '18920'\n",
       "8. '23875'\n",
       "9. NA\n",
       "10. '16430'\n",
       "11. '16925'\n",
       "12. '20970'\n",
       "13. '21105'\n",
       "14. '24565'\n",
       "15. '30760'\n",
       "16. '41315'\n",
       "17. '36880'\n",
       "18. '5151'\n",
       "19. '6295'\n",
       "20. '6575'\n",
       "21. '5572'\n",
       "22. '6377'\n",
       "23. '7957'\n",
       "24. '6229'\n",
       "25. '6692'\n",
       "26. '7609'\n",
       "27. '8558'\n",
       "28. '8921'\n",
       "29. '12964'\n",
       "30. '6479'\n",
       "31. '6855'\n",
       "32. '5399'\n",
       "33. '6529'\n",
       "34. '7129'\n",
       "35. '7295'\n",
       "36. '7295'\n",
       "37. '7895'\n",
       "38. '9095'\n",
       "39. '8845'\n",
       "40. '10295'\n",
       "41. '12945'\n",
       "42. '10345'\n",
       "43. '6785'\n",
       "44. NA\n",
       "45. NA\n",
       "46. '11048'\n",
       "47. '32250'\n",
       "48. '35550'\n",
       "49. '36000'\n",
       "50. '5195'\n",
       "51. '6095'\n",
       "52. '6795'\n",
       "53. '6695'\n",
       "54. '7395'\n",
       "55. '10945'\n",
       "56. '11845'\n",
       "57. '13645'\n",
       "58. '15645'\n",
       "59. '8845'\n",
       "60. '8495'\n",
       "61. '10595'\n",
       "62. '10245'\n",
       "63. '10795'\n",
       "64. '11245'\n",
       "65. '18280'\n",
       "66. '18344'\n",
       "67. '25552'\n",
       "68. '28248'\n",
       "69. '28176'\n",
       "70. '31600'\n",
       "71. '34184'\n",
       "72. '35056'\n",
       "73. '40960'\n",
       "74. '45400'\n",
       "75. '16503'\n",
       "76. '5389'\n",
       "77. '6189'\n",
       "78. '6669'\n",
       "79. '7689'\n",
       "80. '9959'\n",
       "81. '8499'\n",
       "82. '12629'\n",
       "83. '14869'\n",
       "84. '14489'\n",
       "85. '6989'\n",
       "86. '8189'\n",
       "87. '9279'\n",
       "88. '9279'\n",
       "89. '5499'\n",
       "90. '7099'\n",
       "91. '6649'\n",
       "92. '6849'\n",
       "93. '7349'\n",
       "94. '7299'\n",
       "95. '7799'\n",
       "96. '7499'\n",
       "97. '7999'\n",
       "98. '8249'\n",
       "99. '8949'\n",
       "100. '9549'\n",
       "101. '13499'\n",
       "102. '14399'\n",
       "103. '13499'\n",
       "104. '17199'\n",
       "105. '19699'\n",
       "106. '18399'\n",
       "107. '11900'\n",
       "108. '13200'\n",
       "109. '12440'\n",
       "110. '13860'\n",
       "111. '15580'\n",
       "112. '16900'\n",
       "113. '16695'\n",
       "114. '17075'\n",
       "115. '16630'\n",
       "116. '17950'\n",
       "117. '18150'\n",
       "118. '5572'\n",
       "119. '7957'\n",
       "120. '6229'\n",
       "121. '6692'\n",
       "122. '7609'\n",
       "123. '8921'\n",
       "124. '12764'\n",
       "125. '22018'\n",
       "126. '32528'\n",
       "127. '34028'\n",
       "128. '37028'\n",
       "129. NA\n",
       "130. '9295'\n",
       "131. '9895'\n",
       "132. '11850'\n",
       "133. '12170'\n",
       "134. '15040'\n",
       "135. '15510'\n",
       "136. '18150'\n",
       "137. '18620'\n",
       "138. '5118'\n",
       "139. '7053'\n",
       "140. '7603'\n",
       "141. '7126'\n",
       "142. '7775'\n",
       "143. '9960'\n",
       "144. '9233'\n",
       "145. '11259'\n",
       "146. '7463'\n",
       "147. '10198'\n",
       "148. '8013'\n",
       "149. '11694'\n",
       "150. '5348'\n",
       "151. '6338'\n",
       "152. '6488'\n",
       "153. '6918'\n",
       "154. '7898'\n",
       "155. '8778'\n",
       "156. '6938'\n",
       "157. '7198'\n",
       "158. '7898'\n",
       "159. '7788'\n",
       "160. '7738'\n",
       "161. '8358'\n",
       "162. '9258'\n",
       "163. '8058'\n",
       "164. '8238'\n",
       "165. '9298'\n",
       "166. '9538'\n",
       "167. '8449'\n",
       "168. '9639'\n",
       "169. '9989'\n",
       "170. '11199'\n",
       "171. '11549'\n",
       "172. '17669'\n",
       "173. '8948'\n",
       "174. '10698'\n",
       "175. '9988'\n",
       "176. '10898'\n",
       "177. '11248'\n",
       "178. '16558'\n",
       "179. '15998'\n",
       "180. '15690'\n",
       "181. '15750'\n",
       "182. '7775'\n",
       "183. '7975'\n",
       "184. '7995'\n",
       "185. '8195'\n",
       "186. '8495'\n",
       "187. '9495'\n",
       "188. '9995'\n",
       "189. '11595'\n",
       "190. '9980'\n",
       "191. '13295'\n",
       "192. '13845'\n",
       "193. '12290'\n",
       "194. '12940'\n",
       "195. '13415'\n",
       "196. '15985'\n",
       "197. '16515'\n",
       "198. '18420'\n",
       "199. '18950'\n",
       "200. '16845'\n",
       "201. '19045'\n",
       "202. '21485'\n",
       "203. '22470'\n",
       "204. '22625'\n",
       "\n",
       "\n"
      ],
      "text/plain": [
       "  [1] \"16500\" \"16500\" \"13950\" \"17450\" \"15250\" \"17710\" \"18920\" \"23875\" NA     \n",
       " [10] \"16430\" \"16925\" \"20970\" \"21105\" \"24565\" \"30760\" \"41315\" \"36880\" \"5151\" \n",
       " [19] \"6295\"  \"6575\"  \"5572\"  \"6377\"  \"7957\"  \"6229\"  \"6692\"  \"7609\"  \"8558\" \n",
       " [28] \"8921\"  \"12964\" \"6479\"  \"6855\"  \"5399\"  \"6529\"  \"7129\"  \"7295\"  \"7295\" \n",
       " [37] \"7895\"  \"9095\"  \"8845\"  \"10295\" \"12945\" \"10345\" \"6785\"  NA      NA     \n",
       " [46] \"11048\" \"32250\" \"35550\" \"36000\" \"5195\"  \"6095\"  \"6795\"  \"6695\"  \"7395\" \n",
       " [55] \"10945\" \"11845\" \"13645\" \"15645\" \"8845\"  \"8495\"  \"10595\" \"10245\" \"10795\"\n",
       " [64] \"11245\" \"18280\" \"18344\" \"25552\" \"28248\" \"28176\" \"31600\" \"34184\" \"35056\"\n",
       " [73] \"40960\" \"45400\" \"16503\" \"5389\"  \"6189\"  \"6669\"  \"7689\"  \"9959\"  \"8499\" \n",
       " [82] \"12629\" \"14869\" \"14489\" \"6989\"  \"8189\"  \"9279\"  \"9279\"  \"5499\"  \"7099\" \n",
       " [91] \"6649\"  \"6849\"  \"7349\"  \"7299\"  \"7799\"  \"7499\"  \"7999\"  \"8249\"  \"8949\" \n",
       "[100] \"9549\"  \"13499\" \"14399\" \"13499\" \"17199\" \"19699\" \"18399\" \"11900\" \"13200\"\n",
       "[109] \"12440\" \"13860\" \"15580\" \"16900\" \"16695\" \"17075\" \"16630\" \"17950\" \"18150\"\n",
       "[118] \"5572\"  \"7957\"  \"6229\"  \"6692\"  \"7609\"  \"8921\"  \"12764\" \"22018\" \"32528\"\n",
       "[127] \"34028\" \"37028\" NA      \"9295\"  \"9895\"  \"11850\" \"12170\" \"15040\" \"15510\"\n",
       "[136] \"18150\" \"18620\" \"5118\"  \"7053\"  \"7603\"  \"7126\"  \"7775\"  \"9960\"  \"9233\" \n",
       "[145] \"11259\" \"7463\"  \"10198\" \"8013\"  \"11694\" \"5348\"  \"6338\"  \"6488\"  \"6918\" \n",
       "[154] \"7898\"  \"8778\"  \"6938\"  \"7198\"  \"7898\"  \"7788\"  \"7738\"  \"8358\"  \"9258\" \n",
       "[163] \"8058\"  \"8238\"  \"9298\"  \"9538\"  \"8449\"  \"9639\"  \"9989\"  \"11199\" \"11549\"\n",
       "[172] \"17669\" \"8948\"  \"10698\" \"9988\"  \"10898\" \"11248\" \"16558\" \"15998\" \"15690\"\n",
       "[181] \"15750\" \"7775\"  \"7975\"  \"7995\"  \"8195\"  \"8495\"  \"9495\"  \"9995\"  \"11595\"\n",
       "[190] \"9980\"  \"13295\" \"13845\" \"12290\" \"12940\" \"13415\" \"15985\" \"16515\" \"18420\"\n",
       "[199] \"18950\" \"16845\" \"19045\" \"21485\" \"22470\" \"22625\""
      ]
     },
     "metadata": {},
     "output_type": "display_data"
    }
   ],
   "source": [
    "autos$price"
   ]
  },
  {
   "cell_type": "code",
   "execution_count": 43,
   "metadata": {},
   "outputs": [
    {
     "data": {
      "text/html": [
       "<table class=\"dataframe\">\n",
       "<caption>A data.frame: 4 × 4</caption>\n",
       "<thead>\n",
       "\t<tr><th></th><th scope=col>price</th><th scope=col>horsepower</th><th scope=col>body_style</th><th scope=col>risk</th></tr>\n",
       "\t<tr><th></th><th scope=col>&lt;chr&gt;</th><th scope=col>&lt;chr&gt;</th><th scope=col>&lt;chr&gt;</th><th scope=col>&lt;int&gt;</th></tr>\n",
       "</thead>\n",
       "<tbody>\n",
       "\t<tr><th scope=row>9</th><td>NA</td><td>160</td><td>hatchback</td><td>0</td></tr>\n",
       "\t<tr><th scope=row>44</th><td>NA</td><td>70 </td><td>sedan    </td><td>1</td></tr>\n",
       "\t<tr><th scope=row>45</th><td>NA</td><td>70 </td><td>sedan    </td><td>0</td></tr>\n",
       "\t<tr><th scope=row>129</th><td>NA</td><td>288</td><td>hatchback</td><td>1</td></tr>\n",
       "</tbody>\n",
       "</table>\n"
      ],
      "text/latex": [
       "A data.frame: 4 × 4\n",
       "\\begin{tabular}{r|llll}\n",
       "  & price & horsepower & body\\_style & risk\\\\\n",
       "  & <chr> & <chr> & <chr> & <int>\\\\\n",
       "\\hline\n",
       "\t9 & NA & 160 & hatchback & 0\\\\\n",
       "\t44 & NA & 70  & sedan     & 1\\\\\n",
       "\t45 & NA & 70  & sedan     & 0\\\\\n",
       "\t129 & NA & 288 & hatchback & 1\\\\\n",
       "\\end{tabular}\n"
      ],
      "text/markdown": [
       "\n",
       "A data.frame: 4 × 4\n",
       "\n",
       "| <!--/--> | price &lt;chr&gt; | horsepower &lt;chr&gt; | body_style &lt;chr&gt; | risk &lt;int&gt; |\n",
       "|---|---|---|---|---|\n",
       "| 9 | NA | 160 | hatchback | 0 |\n",
       "| 44 | NA | 70  | sedan     | 1 |\n",
       "| 45 | NA | 70  | sedan     | 0 |\n",
       "| 129 | NA | 288 | hatchback | 1 |\n",
       "\n"
      ],
      "text/plain": [
       "    price horsepower body_style risk\n",
       "9   NA    160        hatchback  0   \n",
       "44  NA    70         sedan      1   \n",
       "45  NA    70         sedan      0   \n",
       "129 NA    288        hatchback  1   "
      ]
     },
     "metadata": {},
     "output_type": "display_data"
    }
   ],
   "source": [
    "autos[is.na(autos$price),]"
   ]
  },
  {
   "cell_type": "markdown",
   "metadata": {},
   "source": [
    "Tenemos que convertir el factor de 'price' y 'horsepower' en valores numéricos:"
   ]
  },
  {
   "cell_type": "code",
   "execution_count": 48,
   "metadata": {},
   "outputs": [],
   "source": [
    "autos$price <- as.numeric(autos$price)\n",
    "autos$horsepower <- as.numeric(autos$horsepower)\n",
    "autos$body_style <- as.factor(autos$body_style)"
   ]
  },
  {
   "cell_type": "code",
   "execution_count": 49,
   "metadata": {},
   "outputs": [
    {
     "data": {
      "text/plain": [
       "     price         horsepower          body_style      risk        \n",
       " Min.   : 5118   Min.   : 48.0   convertible: 5   Min.   :-2.0000  \n",
       " 1st Qu.: 7775   1st Qu.: 70.0   hardtop    : 8   1st Qu.: 0.0000  \n",
       " Median :10270   Median : 95.0   hatchback  :70   Median : 1.0000  \n",
       " Mean   :13206   Mean   :104.2   sedan      :96   Mean   : 0.8235  \n",
       " 3rd Qu.:16501   3rd Qu.:116.0   wagon      :25   3rd Qu.: 2.0000  \n",
       " Max.   :45400   Max.   :288.0                    Max.   : 3.0000  \n",
       " NA's   :4       NA's   :2                                         "
      ]
     },
     "metadata": {},
     "output_type": "display_data"
    }
   ],
   "source": [
    "summary(autos)"
   ]
  },
  {
   "cell_type": "markdown",
   "metadata": {
    "collapsed": true
   },
   "source": [
    "#### Dataset cancer esófago\n",
    "\n",
    "\n",
    "Se realizó un estudio retrospectivo de casos y controles de 200 casos masculinos de cáncer de esófago y 778 controles poblacionales en Ille-et-Vilanine (Francia). Los logaritmos de los riesgos relativos de desarrollar la enfermedad aumentan linealmente con el consumo diario de alcohol y tabaco de manera independiente. El efecto combinado de ambos se ajusta con un modelo multiplicativo que se propone. Este modelo podría ser aplicable a otras situaciones. Explica la proporción de sexos y las diferencias urbanas / rurales observadas en Ille-er-Vilaine. \n",
    "\n",
    "http://www.math.umd.edu/~evs/s430.old/Data/ESOPH.dat\n",
    "\n",
    "Columnas:\n",
    "* agegp: grupo de edad\n",
    "* alcgp: consumo de alcohol\n",
    "* tobgp: consumo de tabaco\n",
    "* ncases: número de casos de cancer\n",
    "* ncontrol: población de control\n"
   ]
  },
  {
   "cell_type": "code",
   "execution_count": 52,
   "metadata": {},
   "outputs": [
    {
     "data": {
      "text/html": [
       "<table class=\"dataframe\">\n",
       "<caption>A data.frame: 6 × 5</caption>\n",
       "<thead>\n",
       "\t<tr><th></th><th scope=col>agegp</th><th scope=col>alcgp</th><th scope=col>tobgp</th><th scope=col>ncases</th><th scope=col>ncontrols</th></tr>\n",
       "\t<tr><th></th><th scope=col>&lt;fct&gt;</th><th scope=col>&lt;fct&gt;</th><th scope=col>&lt;fct&gt;</th><th scope=col>&lt;int&gt;</th><th scope=col>&lt;int&gt;</th></tr>\n",
       "</thead>\n",
       "<tbody>\n",
       "\t<tr><th scope=row>1</th><td>25-34</td><td>0-39g/day</td><td>0-9g/day</td><td>0</td><td>40</td></tr>\n",
       "\t<tr><th scope=row>2</th><td>25-34</td><td>0-39g/day</td><td>10-19   </td><td>0</td><td>10</td></tr>\n",
       "\t<tr><th scope=row>3</th><td>25-34</td><td>0-39g/day</td><td>20-29   </td><td>0</td><td> 6</td></tr>\n",
       "\t<tr><th scope=row>4</th><td>25-34</td><td>0-39g/day</td><td>30+     </td><td>0</td><td> 5</td></tr>\n",
       "\t<tr><th scope=row>5</th><td>25-34</td><td>40-79    </td><td>0-9g/day</td><td>0</td><td>27</td></tr>\n",
       "\t<tr><th scope=row>6</th><td>25-34</td><td>40-79    </td><td>10-19   </td><td>0</td><td> 7</td></tr>\n",
       "</tbody>\n",
       "</table>\n"
      ],
      "text/latex": [
       "A data.frame: 6 × 5\n",
       "\\begin{tabular}{r|lllll}\n",
       "  & agegp & alcgp & tobgp & ncases & ncontrols\\\\\n",
       "  & <fct> & <fct> & <fct> & <int> & <int>\\\\\n",
       "\\hline\n",
       "\t1 & 25-34 & 0-39g/day & 0-9g/day & 0 & 40\\\\\n",
       "\t2 & 25-34 & 0-39g/day & 10-19    & 0 & 10\\\\\n",
       "\t3 & 25-34 & 0-39g/day & 20-29    & 0 &  6\\\\\n",
       "\t4 & 25-34 & 0-39g/day & 30+      & 0 &  5\\\\\n",
       "\t5 & 25-34 & 40-79     & 0-9g/day & 0 & 27\\\\\n",
       "\t6 & 25-34 & 40-79     & 10-19    & 0 &  7\\\\\n",
       "\\end{tabular}\n"
      ],
      "text/markdown": [
       "\n",
       "A data.frame: 6 × 5\n",
       "\n",
       "| <!--/--> | agegp &lt;fct&gt; | alcgp &lt;fct&gt; | tobgp &lt;fct&gt; | ncases &lt;int&gt; | ncontrols &lt;int&gt; |\n",
       "|---|---|---|---|---|---|\n",
       "| 1 | 25-34 | 0-39g/day | 0-9g/day | 0 | 40 |\n",
       "| 2 | 25-34 | 0-39g/day | 10-19    | 0 | 10 |\n",
       "| 3 | 25-34 | 0-39g/day | 20-29    | 0 |  6 |\n",
       "| 4 | 25-34 | 0-39g/day | 30+      | 0 |  5 |\n",
       "| 5 | 25-34 | 40-79     | 0-9g/day | 0 | 27 |\n",
       "| 6 | 25-34 | 40-79     | 10-19    | 0 |  7 |\n",
       "\n"
      ],
      "text/plain": [
       "  agegp alcgp     tobgp    ncases ncontrols\n",
       "1 25-34 0-39g/day 0-9g/day 0      40       \n",
       "2 25-34 0-39g/day 10-19    0      10       \n",
       "3 25-34 0-39g/day 20-29    0       6       \n",
       "4 25-34 0-39g/day 30+      0       5       \n",
       "5 25-34 40-79     0-9g/day 0      27       \n",
       "6 25-34 40-79     10-19    0       7       "
      ]
     },
     "metadata": {},
     "output_type": "display_data"
    }
   ],
   "source": [
    "dfcancer<-read.csv(\"data/ESOPH.dat\",skip=43,sep = \"\", stringsAsFactors = T)\n",
    "head(dfcancer)"
   ]
  },
  {
   "cell_type": "code",
   "execution_count": 53,
   "metadata": {},
   "outputs": [
    {
     "name": "stdout",
     "output_type": "stream",
     "text": [
      "'data.frame':\t88 obs. of  5 variables:\n",
      " $ agegp    : Factor w/ 6 levels \"25-34\",\"35-44\",..: 1 1 1 1 1 1 1 1 1 1 ...\n",
      " $ alcgp    : Factor w/ 4 levels \"0-39g/day\",\"120+\",..: 1 1 1 1 3 3 3 3 4 4 ...\n",
      " $ tobgp    : Factor w/ 4 levels \"0-9g/day\",\"10-19\",..: 1 2 3 4 1 2 3 4 1 2 ...\n",
      " $ ncases   : int  0 0 0 0 0 0 0 0 0 0 ...\n",
      " $ ncontrols: int  40 10 6 5 27 7 4 7 2 1 ...\n"
     ]
    }
   ],
   "source": [
    "str(dfcancer)"
   ]
  },
  {
   "cell_type": "code",
   "execution_count": 54,
   "metadata": {},
   "outputs": [
    {
     "data": {
      "text/plain": [
       "   agegp          alcgp         tobgp        ncases         ncontrols    \n",
       " 25-34:15   0-39g/day:23   0-9g/day:24   Min.   : 0.000   Min.   : 1.00  \n",
       " 35-44:15   120+     :21   10-19   :24   1st Qu.: 0.000   1st Qu.: 3.00  \n",
       " 45-54:16   40-79    :23   20-29   :20   Median : 1.000   Median : 6.00  \n",
       " 55-64:16   80-119   :21   30+     :20   Mean   : 2.273   Mean   :11.08  \n",
       " 65-74:15                                3rd Qu.: 4.000   3rd Qu.:14.00  \n",
       " 75+  :11                                Max.   :17.000   Max.   :60.00  "
      ]
     },
     "metadata": {},
     "output_type": "display_data"
    }
   ],
   "source": [
    "summary(dfcancer)"
   ]
  },
  {
   "cell_type": "markdown",
   "metadata": {},
   "source": [
    "En ocasiones podemos convertir los factores en números. Com en este caso que sustituimos los rangos por su valor medio:"
   ]
  },
  {
   "cell_type": "code",
   "execution_count": 55,
   "metadata": {},
   "outputs": [
    {
     "data": {
      "text/html": [
       "<style>\n",
       ".list-inline {list-style: none; margin:0; padding: 0}\n",
       ".list-inline>li {display: inline-block}\n",
       ".list-inline>li:not(:last-child)::after {content: \"\\00b7\"; padding: 0 .5ex}\n",
       "</style>\n",
       "<ol class=list-inline><li>25-34</li><li>35-44</li><li>45-54</li><li>55-64</li><li>65-74</li><li>75+</li></ol>\n",
       "\n",
       "<details>\n",
       "\t<summary style=display:list-item;cursor:pointer>\n",
       "\t\t<strong>Levels</strong>:\n",
       "\t</summary>\n",
       "\t<style>\n",
       "\t.list-inline {list-style: none; margin:0; padding: 0}\n",
       "\t.list-inline>li {display: inline-block}\n",
       "\t.list-inline>li:not(:last-child)::after {content: \"\\00b7\"; padding: 0 .5ex}\n",
       "\t</style>\n",
       "\t<ol class=list-inline><li>'25-34'</li><li>'35-44'</li><li>'45-54'</li><li>'55-64'</li><li>'65-74'</li><li>'75+'</li></ol>\n",
       "</details>"
      ],
      "text/latex": [
       "\\begin{enumerate*}\n",
       "\\item 25-34\n",
       "\\item 35-44\n",
       "\\item 45-54\n",
       "\\item 55-64\n",
       "\\item 65-74\n",
       "\\item 75+\n",
       "\\end{enumerate*}\n",
       "\n",
       "\\emph{Levels}: \\begin{enumerate*}\n",
       "\\item '25-34'\n",
       "\\item '35-44'\n",
       "\\item '45-54'\n",
       "\\item '55-64'\n",
       "\\item '65-74'\n",
       "\\item '75+'\n",
       "\\end{enumerate*}\n"
      ],
      "text/markdown": [
       "1. 25-34\n",
       "2. 35-44\n",
       "3. 45-54\n",
       "4. 55-64\n",
       "5. 65-74\n",
       "6. 75+\n",
       "\n",
       "\n",
       "\n",
       "**Levels**: 1. '25-34'\n",
       "2. '35-44'\n",
       "3. '45-54'\n",
       "4. '55-64'\n",
       "5. '65-74'\n",
       "6. '75+'\n",
       "\n",
       "\n"
      ],
      "text/plain": [
       "[1] 25-34 35-44 45-54 55-64 65-74 75+  \n",
       "Levels: 25-34 35-44 45-54 55-64 65-74 75+"
      ]
     },
     "metadata": {},
     "output_type": "display_data"
    }
   ],
   "source": [
    "unique(dfcancer$agegp)"
   ]
  },
  {
   "cell_type": "code",
   "execution_count": 56,
   "metadata": {},
   "outputs": [
    {
     "data": {
      "text/html": [
       "<style>\n",
       ".list-inline {list-style: none; margin:0; padding: 0}\n",
       ".list-inline>li {display: inline-block}\n",
       ".list-inline>li:not(:last-child)::after {content: \"\\00b7\"; padding: 0 .5ex}\n",
       "</style>\n",
       "<ol class=list-inline><li>1</li><li>2</li><li>3</li><li>4</li><li>5</li><li>6</li></ol>\n"
      ],
      "text/latex": [
       "\\begin{enumerate*}\n",
       "\\item 1\n",
       "\\item 2\n",
       "\\item 3\n",
       "\\item 4\n",
       "\\item 5\n",
       "\\item 6\n",
       "\\end{enumerate*}\n"
      ],
      "text/markdown": [
       "1. 1\n",
       "2. 2\n",
       "3. 3\n",
       "4. 4\n",
       "5. 5\n",
       "6. 6\n",
       "\n",
       "\n"
      ],
      "text/plain": [
       "[1] 1 2 3 4 5 6"
      ]
     },
     "metadata": {},
     "output_type": "display_data"
    }
   ],
   "source": [
    "as.numeric(unique(dfcancer$agegp))"
   ]
  },
  {
   "cell_type": "code",
   "execution_count": 59,
   "metadata": {},
   "outputs": [
    {
     "data": {
      "text/html": [
       "<style>\n",
       ".list-inline {list-style: none; margin:0; padding: 0}\n",
       ".list-inline>li {display: inline-block}\n",
       ".list-inline>li:not(:last-child)::after {content: \"\\00b7\"; padding: 0 .5ex}\n",
       "</style>\n",
       "<ol class=list-inline><li>1</li><li>1</li><li>1</li><li>1</li><li>1</li><li>1</li><li>1</li><li>1</li><li>1</li><li>1</li><li>1</li><li>1</li><li>1</li><li>1</li><li>1</li><li>2</li><li>2</li><li>2</li><li>2</li><li>2</li><li>2</li><li>2</li><li>2</li><li>2</li><li>2</li><li>2</li><li>2</li><li>2</li><li>2</li><li>2</li><li>3</li><li>3</li><li>3</li><li>3</li><li>3</li><li>3</li><li>3</li><li>3</li><li>3</li><li>3</li><li>3</li><li>3</li><li>3</li><li>3</li><li>3</li><li>3</li><li>4</li><li>4</li><li>4</li><li>4</li><li>4</li><li>4</li><li>4</li><li>4</li><li>4</li><li>4</li><li>4</li><li>4</li><li>4</li><li>4</li><li>4</li><li>4</li><li>5</li><li>5</li><li>5</li><li>5</li><li>5</li><li>5</li><li>5</li><li>5</li><li>5</li><li>5</li><li>5</li><li>5</li><li>5</li><li>5</li><li>5</li><li>6</li><li>6</li><li>6</li><li>6</li><li>6</li><li>6</li><li>6</li><li>6</li><li>6</li><li>6</li><li>6</li></ol>\n"
      ],
      "text/latex": [
       "\\begin{enumerate*}\n",
       "\\item 1\n",
       "\\item 1\n",
       "\\item 1\n",
       "\\item 1\n",
       "\\item 1\n",
       "\\item 1\n",
       "\\item 1\n",
       "\\item 1\n",
       "\\item 1\n",
       "\\item 1\n",
       "\\item 1\n",
       "\\item 1\n",
       "\\item 1\n",
       "\\item 1\n",
       "\\item 1\n",
       "\\item 2\n",
       "\\item 2\n",
       "\\item 2\n",
       "\\item 2\n",
       "\\item 2\n",
       "\\item 2\n",
       "\\item 2\n",
       "\\item 2\n",
       "\\item 2\n",
       "\\item 2\n",
       "\\item 2\n",
       "\\item 2\n",
       "\\item 2\n",
       "\\item 2\n",
       "\\item 2\n",
       "\\item 3\n",
       "\\item 3\n",
       "\\item 3\n",
       "\\item 3\n",
       "\\item 3\n",
       "\\item 3\n",
       "\\item 3\n",
       "\\item 3\n",
       "\\item 3\n",
       "\\item 3\n",
       "\\item 3\n",
       "\\item 3\n",
       "\\item 3\n",
       "\\item 3\n",
       "\\item 3\n",
       "\\item 3\n",
       "\\item 4\n",
       "\\item 4\n",
       "\\item 4\n",
       "\\item 4\n",
       "\\item 4\n",
       "\\item 4\n",
       "\\item 4\n",
       "\\item 4\n",
       "\\item 4\n",
       "\\item 4\n",
       "\\item 4\n",
       "\\item 4\n",
       "\\item 4\n",
       "\\item 4\n",
       "\\item 4\n",
       "\\item 4\n",
       "\\item 5\n",
       "\\item 5\n",
       "\\item 5\n",
       "\\item 5\n",
       "\\item 5\n",
       "\\item 5\n",
       "\\item 5\n",
       "\\item 5\n",
       "\\item 5\n",
       "\\item 5\n",
       "\\item 5\n",
       "\\item 5\n",
       "\\item 5\n",
       "\\item 5\n",
       "\\item 5\n",
       "\\item 6\n",
       "\\item 6\n",
       "\\item 6\n",
       "\\item 6\n",
       "\\item 6\n",
       "\\item 6\n",
       "\\item 6\n",
       "\\item 6\n",
       "\\item 6\n",
       "\\item 6\n",
       "\\item 6\n",
       "\\end{enumerate*}\n"
      ],
      "text/markdown": [
       "1. 1\n",
       "2. 1\n",
       "3. 1\n",
       "4. 1\n",
       "5. 1\n",
       "6. 1\n",
       "7. 1\n",
       "8. 1\n",
       "9. 1\n",
       "10. 1\n",
       "11. 1\n",
       "12. 1\n",
       "13. 1\n",
       "14. 1\n",
       "15. 1\n",
       "16. 2\n",
       "17. 2\n",
       "18. 2\n",
       "19. 2\n",
       "20. 2\n",
       "21. 2\n",
       "22. 2\n",
       "23. 2\n",
       "24. 2\n",
       "25. 2\n",
       "26. 2\n",
       "27. 2\n",
       "28. 2\n",
       "29. 2\n",
       "30. 2\n",
       "31. 3\n",
       "32. 3\n",
       "33. 3\n",
       "34. 3\n",
       "35. 3\n",
       "36. 3\n",
       "37. 3\n",
       "38. 3\n",
       "39. 3\n",
       "40. 3\n",
       "41. 3\n",
       "42. 3\n",
       "43. 3\n",
       "44. 3\n",
       "45. 3\n",
       "46. 3\n",
       "47. 4\n",
       "48. 4\n",
       "49. 4\n",
       "50. 4\n",
       "51. 4\n",
       "52. 4\n",
       "53. 4\n",
       "54. 4\n",
       "55. 4\n",
       "56. 4\n",
       "57. 4\n",
       "58. 4\n",
       "59. 4\n",
       "60. 4\n",
       "61. 4\n",
       "62. 4\n",
       "63. 5\n",
       "64. 5\n",
       "65. 5\n",
       "66. 5\n",
       "67. 5\n",
       "68. 5\n",
       "69. 5\n",
       "70. 5\n",
       "71. 5\n",
       "72. 5\n",
       "73. 5\n",
       "74. 5\n",
       "75. 5\n",
       "76. 5\n",
       "77. 5\n",
       "78. 6\n",
       "79. 6\n",
       "80. 6\n",
       "81. 6\n",
       "82. 6\n",
       "83. 6\n",
       "84. 6\n",
       "85. 6\n",
       "86. 6\n",
       "87. 6\n",
       "88. 6\n",
       "\n",
       "\n"
      ],
      "text/plain": [
       " [1] 1 1 1 1 1 1 1 1 1 1 1 1 1 1 1 2 2 2 2 2 2 2 2 2 2 2 2 2 2 2 3 3 3 3 3 3 3 3\n",
       "[39] 3 3 3 3 3 3 3 3 4 4 4 4 4 4 4 4 4 4 4 4 4 4 4 4 5 5 5 5 5 5 5 5 5 5 5 5 5 5\n",
       "[77] 5 6 6 6 6 6 6 6 6 6 6 6"
      ]
     },
     "metadata": {},
     "output_type": "display_data"
    }
   ],
   "source": [
    "ageVectors <- c(30, 40, 50, 60, 70, 80)\n",
    "as.numeric(dfcancer$agegp)"
   ]
  },
  {
   "cell_type": "code",
   "execution_count": 62,
   "metadata": {},
   "outputs": [
    {
     "data": {
      "text/html": [
       "<style>\n",
       ".list-inline {list-style: none; margin:0; padding: 0}\n",
       ".list-inline>li {display: inline-block}\n",
       ".list-inline>li:not(:last-child)::after {content: \"\\00b7\"; padding: 0 .5ex}\n",
       "</style>\n",
       "<ol class=list-inline><li>30</li><li>30</li><li>30</li><li>30</li><li>30</li><li>30</li><li>30</li><li>30</li><li>30</li><li>30</li><li>30</li><li>30</li><li>30</li><li>30</li><li>30</li><li>40</li><li>40</li><li>40</li><li>40</li><li>40</li><li>40</li><li>40</li><li>40</li><li>40</li><li>40</li><li>40</li><li>40</li><li>40</li><li>40</li><li>40</li><li>50</li><li>50</li><li>50</li><li>50</li><li>50</li><li>50</li><li>50</li><li>50</li><li>50</li><li>50</li><li>50</li><li>50</li><li>50</li><li>50</li><li>50</li><li>50</li><li>60</li><li>60</li><li>60</li><li>60</li><li>60</li><li>60</li><li>60</li><li>60</li><li>60</li><li>60</li><li>60</li><li>60</li><li>60</li><li>60</li><li>60</li><li>60</li><li>70</li><li>70</li><li>70</li><li>70</li><li>70</li><li>70</li><li>70</li><li>70</li><li>70</li><li>70</li><li>70</li><li>70</li><li>70</li><li>70</li><li>70</li><li>80</li><li>80</li><li>80</li><li>80</li><li>80</li><li>80</li><li>80</li><li>80</li><li>80</li><li>80</li><li>80</li></ol>\n"
      ],
      "text/latex": [
       "\\begin{enumerate*}\n",
       "\\item 30\n",
       "\\item 30\n",
       "\\item 30\n",
       "\\item 30\n",
       "\\item 30\n",
       "\\item 30\n",
       "\\item 30\n",
       "\\item 30\n",
       "\\item 30\n",
       "\\item 30\n",
       "\\item 30\n",
       "\\item 30\n",
       "\\item 30\n",
       "\\item 30\n",
       "\\item 30\n",
       "\\item 40\n",
       "\\item 40\n",
       "\\item 40\n",
       "\\item 40\n",
       "\\item 40\n",
       "\\item 40\n",
       "\\item 40\n",
       "\\item 40\n",
       "\\item 40\n",
       "\\item 40\n",
       "\\item 40\n",
       "\\item 40\n",
       "\\item 40\n",
       "\\item 40\n",
       "\\item 40\n",
       "\\item 50\n",
       "\\item 50\n",
       "\\item 50\n",
       "\\item 50\n",
       "\\item 50\n",
       "\\item 50\n",
       "\\item 50\n",
       "\\item 50\n",
       "\\item 50\n",
       "\\item 50\n",
       "\\item 50\n",
       "\\item 50\n",
       "\\item 50\n",
       "\\item 50\n",
       "\\item 50\n",
       "\\item 50\n",
       "\\item 60\n",
       "\\item 60\n",
       "\\item 60\n",
       "\\item 60\n",
       "\\item 60\n",
       "\\item 60\n",
       "\\item 60\n",
       "\\item 60\n",
       "\\item 60\n",
       "\\item 60\n",
       "\\item 60\n",
       "\\item 60\n",
       "\\item 60\n",
       "\\item 60\n",
       "\\item 60\n",
       "\\item 60\n",
       "\\item 70\n",
       "\\item 70\n",
       "\\item 70\n",
       "\\item 70\n",
       "\\item 70\n",
       "\\item 70\n",
       "\\item 70\n",
       "\\item 70\n",
       "\\item 70\n",
       "\\item 70\n",
       "\\item 70\n",
       "\\item 70\n",
       "\\item 70\n",
       "\\item 70\n",
       "\\item 70\n",
       "\\item 80\n",
       "\\item 80\n",
       "\\item 80\n",
       "\\item 80\n",
       "\\item 80\n",
       "\\item 80\n",
       "\\item 80\n",
       "\\item 80\n",
       "\\item 80\n",
       "\\item 80\n",
       "\\item 80\n",
       "\\end{enumerate*}\n"
      ],
      "text/markdown": [
       "1. 30\n",
       "2. 30\n",
       "3. 30\n",
       "4. 30\n",
       "5. 30\n",
       "6. 30\n",
       "7. 30\n",
       "8. 30\n",
       "9. 30\n",
       "10. 30\n",
       "11. 30\n",
       "12. 30\n",
       "13. 30\n",
       "14. 30\n",
       "15. 30\n",
       "16. 40\n",
       "17. 40\n",
       "18. 40\n",
       "19. 40\n",
       "20. 40\n",
       "21. 40\n",
       "22. 40\n",
       "23. 40\n",
       "24. 40\n",
       "25. 40\n",
       "26. 40\n",
       "27. 40\n",
       "28. 40\n",
       "29. 40\n",
       "30. 40\n",
       "31. 50\n",
       "32. 50\n",
       "33. 50\n",
       "34. 50\n",
       "35. 50\n",
       "36. 50\n",
       "37. 50\n",
       "38. 50\n",
       "39. 50\n",
       "40. 50\n",
       "41. 50\n",
       "42. 50\n",
       "43. 50\n",
       "44. 50\n",
       "45. 50\n",
       "46. 50\n",
       "47. 60\n",
       "48. 60\n",
       "49. 60\n",
       "50. 60\n",
       "51. 60\n",
       "52. 60\n",
       "53. 60\n",
       "54. 60\n",
       "55. 60\n",
       "56. 60\n",
       "57. 60\n",
       "58. 60\n",
       "59. 60\n",
       "60. 60\n",
       "61. 60\n",
       "62. 60\n",
       "63. 70\n",
       "64. 70\n",
       "65. 70\n",
       "66. 70\n",
       "67. 70\n",
       "68. 70\n",
       "69. 70\n",
       "70. 70\n",
       "71. 70\n",
       "72. 70\n",
       "73. 70\n",
       "74. 70\n",
       "75. 70\n",
       "76. 70\n",
       "77. 70\n",
       "78. 80\n",
       "79. 80\n",
       "80. 80\n",
       "81. 80\n",
       "82. 80\n",
       "83. 80\n",
       "84. 80\n",
       "85. 80\n",
       "86. 80\n",
       "87. 80\n",
       "88. 80\n",
       "\n",
       "\n"
      ],
      "text/plain": [
       " [1] 30 30 30 30 30 30 30 30 30 30 30 30 30 30 30 40 40 40 40 40 40 40 40 40 40\n",
       "[26] 40 40 40 40 40 50 50 50 50 50 50 50 50 50 50 50 50 50 50 50 50 60 60 60 60\n",
       "[51] 60 60 60 60 60 60 60 60 60 60 60 60 70 70 70 70 70 70 70 70 70 70 70 70 70\n",
       "[76] 70 70 80 80 80 80 80 80 80 80 80 80 80"
      ]
     },
     "metadata": {},
     "output_type": "display_data"
    }
   ],
   "source": [
    "ageVectors[as.numeric(dfcancer$agegp)]"
   ]
  },
  {
   "cell_type": "code",
   "execution_count": 63,
   "metadata": {},
   "outputs": [],
   "source": [
    "dfcancer$edad_numerica <- ageVectors[as.numeric(dfcancer$agegp)]"
   ]
  },
  {
   "cell_type": "code",
   "execution_count": 66,
   "metadata": {},
   "outputs": [
    {
     "data": {
      "text/html": [
       "<table class=\"dataframe\">\n",
       "<caption>A data.frame: 6 × 6</caption>\n",
       "<thead>\n",
       "\t<tr><th></th><th scope=col>agegp</th><th scope=col>alcgp</th><th scope=col>tobgp</th><th scope=col>ncases</th><th scope=col>ncontrols</th><th scope=col>edad_numerica</th></tr>\n",
       "\t<tr><th></th><th scope=col>&lt;fct&gt;</th><th scope=col>&lt;fct&gt;</th><th scope=col>&lt;fct&gt;</th><th scope=col>&lt;int&gt;</th><th scope=col>&lt;int&gt;</th><th scope=col>&lt;dbl&gt;</th></tr>\n",
       "</thead>\n",
       "<tbody>\n",
       "\t<tr><th scope=row>83</th><td>75+</td><td>40-79 </td><td>20-29   </td><td>0</td><td>3</td><td>80</td></tr>\n",
       "\t<tr><th scope=row>84</th><td>75+</td><td>40-79 </td><td>30+     </td><td>1</td><td>1</td><td>80</td></tr>\n",
       "\t<tr><th scope=row>85</th><td>75+</td><td>80-119</td><td>0-9g/day</td><td>1</td><td>1</td><td>80</td></tr>\n",
       "\t<tr><th scope=row>86</th><td>75+</td><td>80-119</td><td>10-19   </td><td>1</td><td>1</td><td>80</td></tr>\n",
       "\t<tr><th scope=row>87</th><td>75+</td><td>120+  </td><td>0-9g/day</td><td>2</td><td>2</td><td>80</td></tr>\n",
       "\t<tr><th scope=row>88</th><td>75+</td><td>120+  </td><td>10-19   </td><td>1</td><td>1</td><td>80</td></tr>\n",
       "</tbody>\n",
       "</table>\n"
      ],
      "text/latex": [
       "A data.frame: 6 × 6\n",
       "\\begin{tabular}{r|llllll}\n",
       "  & agegp & alcgp & tobgp & ncases & ncontrols & edad\\_numerica\\\\\n",
       "  & <fct> & <fct> & <fct> & <int> & <int> & <dbl>\\\\\n",
       "\\hline\n",
       "\t83 & 75+ & 40-79  & 20-29    & 0 & 3 & 80\\\\\n",
       "\t84 & 75+ & 40-79  & 30+      & 1 & 1 & 80\\\\\n",
       "\t85 & 75+ & 80-119 & 0-9g/day & 1 & 1 & 80\\\\\n",
       "\t86 & 75+ & 80-119 & 10-19    & 1 & 1 & 80\\\\\n",
       "\t87 & 75+ & 120+   & 0-9g/day & 2 & 2 & 80\\\\\n",
       "\t88 & 75+ & 120+   & 10-19    & 1 & 1 & 80\\\\\n",
       "\\end{tabular}\n"
      ],
      "text/markdown": [
       "\n",
       "A data.frame: 6 × 6\n",
       "\n",
       "| <!--/--> | agegp &lt;fct&gt; | alcgp &lt;fct&gt; | tobgp &lt;fct&gt; | ncases &lt;int&gt; | ncontrols &lt;int&gt; | edad_numerica &lt;dbl&gt; |\n",
       "|---|---|---|---|---|---|---|\n",
       "| 83 | 75+ | 40-79  | 20-29    | 0 | 3 | 80 |\n",
       "| 84 | 75+ | 40-79  | 30+      | 1 | 1 | 80 |\n",
       "| 85 | 75+ | 80-119 | 0-9g/day | 1 | 1 | 80 |\n",
       "| 86 | 75+ | 80-119 | 10-19    | 1 | 1 | 80 |\n",
       "| 87 | 75+ | 120+   | 0-9g/day | 2 | 2 | 80 |\n",
       "| 88 | 75+ | 120+   | 10-19    | 1 | 1 | 80 |\n",
       "\n"
      ],
      "text/plain": [
       "   agegp alcgp  tobgp    ncases ncontrols edad_numerica\n",
       "83 75+   40-79  20-29    0      3         80           \n",
       "84 75+   40-79  30+      1      1         80           \n",
       "85 75+   80-119 0-9g/day 1      1         80           \n",
       "86 75+   80-119 10-19    1      1         80           \n",
       "87 75+   120+   0-9g/day 2      2         80           \n",
       "88 75+   120+   10-19    1      1         80           "
      ]
     },
     "metadata": {},
     "output_type": "display_data"
    }
   ],
   "source": [
    "tail(dfcancer)"
   ]
  },
  {
   "cell_type": "code",
   "execution_count": 68,
   "metadata": {},
   "outputs": [
    {
     "data": {
      "text/plain": [
       "   agegp          alcgp         tobgp        ncases         ncontrols    \n",
       " 25-34:15   0-39g/day:23   0-9g/day:24   Min.   : 0.000   Min.   : 1.00  \n",
       " 35-44:15   120+     :21   10-19   :24   1st Qu.: 0.000   1st Qu.: 3.00  \n",
       " 45-54:16   40-79    :23   20-29   :20   Median : 1.000   Median : 6.00  \n",
       " 55-64:16   80-119   :21   30+     :20   Mean   : 2.273   Mean   :11.08  \n",
       " 65-74:15                                3rd Qu.: 4.000   3rd Qu.:14.00  \n",
       " 75+  :11                                Max.   :17.000   Max.   :60.00  \n",
       " edad_numerica  \n",
       " Min.   :30.00  \n",
       " 1st Qu.:40.00  \n",
       " Median :50.00  \n",
       " Mean   :53.86  \n",
       " 3rd Qu.:70.00  \n",
       " Max.   :80.00  "
      ]
     },
     "metadata": {},
     "output_type": "display_data"
    }
   ],
   "source": [
    "summary(dfcancer)"
   ]
  },
  {
   "cell_type": "code",
   "execution_count": 77,
   "metadata": {},
   "outputs": [
    {
     "data": {
      "text/plain": [
       "\n",
       "0-39g/day     40-79 \n",
       "       23        23 "
      ]
     },
     "metadata": {},
     "output_type": "display_data"
    }
   ],
   "source": [
    "sort(table(dfcancer$alcgp), decreasing=T)[1:2]"
   ]
  },
  {
   "cell_type": "code",
   "execution_count": 74,
   "metadata": {},
   "outputs": [],
   "source": [
    "?sort"
   ]
  }
 ],
 "metadata": {
  "kernelspec": {
   "display_name": "R",
   "language": "R",
   "name": "ir"
  },
  "language_info": {
   "codemirror_mode": "r",
   "file_extension": ".r",
   "mimetype": "text/x-r-source",
   "name": "R",
   "pygments_lexer": "r",
   "version": "4.1.0"
  }
 },
 "nbformat": 4,
 "nbformat_minor": 1
}
