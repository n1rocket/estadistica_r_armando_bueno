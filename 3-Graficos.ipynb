{
 "cells": [
  {
   "cell_type": "markdown",
   "metadata": {},
   "source": [
    "# Gestión de paquetes\n",
    "\n",
    "En R hay multitud de paquetes que pueden ampliar su funcionalidad con nuevas funciones.\n",
    "Existe un repositorio oficial en [CRAN](https://cran.r-project.org/web/packages/index.html)\n",
    "\n",
    "R permite gestionar los paquetes mediante los comandos:\n",
    "* install.packages(pkgs, respos): Instala nuevos paquetes.\n",
    "* installed.packages(): Muestra los paquetes instalados.\n",
    "* remove.packages(pkgs) : Borra los paquetes indicados.\n",
    "* library(pkg) : Carga en memoria el paquete indicado."
   ]
  },
  {
   "cell_type": "markdown",
   "metadata": {},
   "source": [
    "# Gráficos\n",
    "\n",
    "Ya hemos visto como realizar gráficos con *plot*. Existe una librería más completa llamada ggplot2."
   ]
  },
  {
   "cell_type": "code",
   "execution_count": null,
   "metadata": {},
   "outputs": [],
   "source": [
    "# instalación\n",
    "#install.packages(c('ggplot2'), repos='https://cran.rstudio.com/')"
   ]
  },
  {
   "cell_type": "code",
   "execution_count": null,
   "metadata": {},
   "outputs": [],
   "source": [
    "library(\"ggplot2\")\n",
    "options(repr.plot.height=6,repr.plot.width=8 , repr.plot.res = 200)"
   ]
  },
  {
   "cell_type": "markdown",
   "metadata": {},
   "source": [
    "#### Ejemplo de gráficas"
   ]
  },
  {
   "cell_type": "code",
   "execution_count": null,
   "metadata": {},
   "outputs": [],
   "source": []
  },
  {
   "cell_type": "code",
   "execution_count": null,
   "metadata": {},
   "outputs": [],
   "source": [
    "#ggplot crea un objeto para representar gráficos\n",
    "#geom_line crea una linea sobre el objeto ggplot\n",
    "#geom_point muestra los puntos sobre el objeto ggplot\n",
    "#El objeto aes, indica que columnas vamos a usar para las coordenadas X e Y\n",
    "\n",
    "ggplot(data=mydf, aes(x=dfx, y=dfy))+geom_line(color=\"blue\")+geom_point(color=\"red\")"
   ]
  },
  {
   "cell_type": "code",
   "execution_count": null,
   "metadata": {},
   "outputs": [],
   "source": []
  },
  {
   "cell_type": "code",
   "execution_count": null,
   "metadata": {},
   "outputs": [],
   "source": [
    "mydf2[sort(sample(1:nrow(mydf2), 5)),]"
   ]
  },
  {
   "cell_type": "code",
   "execution_count": null,
   "metadata": {},
   "outputs": [],
   "source": [
    "summary(mydf2)"
   ]
  },
  {
   "cell_type": "code",
   "execution_count": null,
   "metadata": {},
   "outputs": [],
   "source": [
    "g <- ggplot(data=mydf2,aes(x=dfx,y=dfy,color=type))"
   ]
  },
  {
   "cell_type": "code",
   "execution_count": null,
   "metadata": {},
   "outputs": [],
   "source": [
    "summary(g)"
   ]
  },
  {
   "cell_type": "code",
   "execution_count": null,
   "metadata": {},
   "outputs": [],
   "source": [
    "g<-g+geom_line()+geom_point()"
   ]
  },
  {
   "cell_type": "code",
   "execution_count": null,
   "metadata": {},
   "outputs": [],
   "source": [
    "summary(g)"
   ]
  },
  {
   "cell_type": "code",
   "execution_count": null,
   "metadata": {},
   "outputs": [],
   "source": [
    "g"
   ]
  },
  {
   "cell_type": "markdown",
   "metadata": {},
   "source": [
    "R tiene varios datasets incorporados. En este caso vamos a usar el dataset de iris.\n",
    "\n",
    "Este conjunto de datos de iris da medidas en centímetros de las variables longitud y anchura del sépalo, y de los pétalos, para 50 flores de cada una de las 3 especies de iris. Las especies son _Iris setosa_, _versicolor_ y _virginica_.\n",
    "![](https://upload.wikimedia.org/wikipedia/commons/thumb/5/56/Kosaciec_szczecinkowaty_Iris_setosa.jpg/220px-Kosaciec_szczecinkowaty_Iris_setosa.jpg)"
   ]
  },
  {
   "cell_type": "code",
   "execution_count": null,
   "metadata": {},
   "outputs": [],
   "source": [
    "summary(iris)"
   ]
  },
  {
   "cell_type": "code",
   "execution_count": null,
   "metadata": {},
   "outputs": [],
   "source": [
    "iris[sample(1:nrow(iris),5),]"
   ]
  },
  {
   "cell_type": "code",
   "execution_count": null,
   "metadata": {},
   "outputs": [],
   "source": [
    "ggplot(data=iris,aes(x=Species, y=Sepal.Length,color=Species))+geom_boxplot()+\n",
    " scale_color_discrete(name=\"Longitud\")\n"
   ]
  },
  {
   "cell_type": "code",
   "execution_count": null,
   "metadata": {},
   "outputs": [],
   "source": [
    "ggplot(data=iris,aes(x=Sepal.Width, y =Sepal.Length, color=Species, shape=Species))+\n",
    "  geom_jitter(size=3)+\n",
    "  scale_color_discrete(\"Especies\")+\n",
    "  theme_bw()+ xlab(\"Anchura del sépalo\")+ylab(\"Longitud del sépalo\")+\n",
    "  ggtitle(\"Comparación del ancho y longitud del sépalo\")"
   ]
  },
  {
   "cell_type": "markdown",
   "metadata": {},
   "source": [
    "### Ejemplo con los seguros de coche\n",
    "\n",
    "Partimos del dataset de automóviles y seguros que podemos descargar de:\n",
    "\n",
    "https://archive.ics.uci.edu/ml/datasets/Automobile\n",
    "\n",
    "Al igual que usamos en el capítulo 1."
   ]
  },
  {
   "cell_type": "code",
   "execution_count": null,
   "metadata": {},
   "outputs": [],
   "source": [
    "autos<-read.csv(\"./data//imports-85.data\", col.names = c(\"risk\", \"normalized_losses\", \n",
    "                                                         \"make\", \"fuel_type\", \"aspiration\",\n",
    "           \"num_doors\", \"body_style\", \"drive_wheels\", \"engine_location\",\n",
    "           \"wheel_base\", \"length\", \"width\", \"height\", \"curb_weight\",\n",
    "           \"engine_type\", \"num_cylinders\", \"engine_size\", \"fuel_system\",\n",
    "           \"bore\", \"stroke\", \"compression_ratio\", \"horsepower\", \"peak_rpm\",\n",
    "           \"city_mpg\", \"highway_mpg\", \"price\"))"
   ]
  },
  {
   "cell_type": "code",
   "execution_count": null,
   "metadata": {},
   "outputs": [],
   "source": [
    "ggplot(data=autos, aes(x=length, y=width))+\n",
    " geom_point(aes(size=height),alpha=0.4)+\n",
    " scale_size_continuous(name=\"Altura\")+\n",
    " xlab(\"Longitud del coche\")+\n",
    " ylab(\"Ancho del coche\")"
   ]
  },
  {
   "cell_type": "markdown",
   "metadata": {},
   "source": [
    "Recomendada la visualización de Hans Rosling:\n",
    "https://www.ted.com/talks/hans_rosling_shows_the_best_stats_you_ve_ever_seen"
   ]
  },
  {
   "cell_type": "code",
   "execution_count": null,
   "metadata": {},
   "outputs": [],
   "source": [
    "ggplot(data=autos, aes(x=body_style, y=length, color=body_style))+geom_boxplot()"
   ]
  },
  {
   "cell_type": "code",
   "execution_count": null,
   "metadata": {},
   "outputs": [],
   "source": [
    "unique(autos$body_style)"
   ]
  },
  {
   "cell_type": "markdown",
   "metadata": {},
   "source": [
    "## Ejemplo con las estrellas\n",
    "\n",
    "*Se denomina [secuencia principal](https://es.wikipedia.org/wiki/Secuencia_principal) a la región del diagrama de Hertzsprung-Russell en la que se encuentran la mayor parte de las estrellas. Es una banda continua y distintiva de estrellas que aparece en las parcelas de color estelar versus brillo. Las estrellas en esta banda son conocidas como estrellas de secuencia principal o estrellas enanas. Por esta razón, estas estrellas son llamadas de secuencia principal. La secuencia principal termina entre las estrellas más frías de esta banda o curva que son las enanas rojas, de masa baja y comienza entre las bandas de las estrellas que se ubican hacia las altas temperaturas que son las supermasivas gigantes azules. El diagrama H-R es un diagrama estadístico que muestra la temperatura efectiva de las estrellas en función de su luminosidad. Otras regiones del diagrama están ocupadas por estrellas gigantes de corta vida y evolución rápida o por enanas blancas muy estables.*\n"
   ]
  },
  {
   "cell_type": "code",
   "execution_count": null,
   "metadata": {},
   "outputs": [],
   "source": []
  },
  {
   "cell_type": "markdown",
   "metadata": {},
   "source": [
    "## COVID-19\n",
    "\n",
    "\n",
    "Vamos a descargarnos los datos del repositorio de la universidad Johns Hopkins donde se almacena la cantidad de casos acumulados de COVID"
   ]
  },
  {
   "cell_type": "code",
   "execution_count": null,
   "metadata": {},
   "outputs": [],
   "source": [
    "covid_url<-'https://raw.githubusercontent.com/CSSEGISandData/COVID-19/master/csse_covid_19_data/csse_covid_19_time_series/time_series_covid19_confirmed_global.csv'\n",
    "\n",
    "df<-read.csv(url(covid_url))\n",
    "head(df)"
   ]
  },
  {
   "cell_type": "code",
   "execution_count": null,
   "metadata": {},
   "outputs": [],
   "source": [
    "df$Lat<-NULL\n",
    "df$Long<-NULL\n",
    "head(df)"
   ]
  },
  {
   "cell_type": "code",
   "execution_count": null,
   "metadata": {},
   "outputs": [],
   "source": [
    "library(reshape2)\n",
    "df_cov<-melt(df,id.vars=c(\"Province.State\",\"Country.Region\"))\n",
    "tail(df_cov)\n",
    "dim(df_cov)"
   ]
  },
  {
   "cell_type": "code",
   "execution_count": null,
   "metadata": {},
   "outputs": [],
   "source": [
    "df_cov$fecha<-as.POSIXct(df_cov$variable, format='X%m.%d.%y')\n",
    "head(df_cov)"
   ]
  },
  {
   "cell_type": "code",
   "execution_count": null,
   "metadata": {},
   "outputs": [],
   "source": [
    "df_country<-df_cov[df_cov$Country.Region==\"Spain\" | df_cov$Country.Region==\"Italy\",]\n",
    "tail(df_country)"
   ]
  },
  {
   "cell_type": "code",
   "execution_count": null,
   "metadata": {},
   "outputs": [],
   "source": []
  }
 ],
 "metadata": {
  "kernelspec": {
   "display_name": "R",
   "language": "R",
   "name": "ir"
  },
  "language_info": {
   "codemirror_mode": "r",
   "file_extension": ".r",
   "mimetype": "text/x-r-source",
   "name": "R",
   "pygments_lexer": "r",
   "version": "4.0.0"
  }
 },
 "nbformat": 4,
 "nbformat_minor": 1
}
