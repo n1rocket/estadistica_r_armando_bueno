{
 "cells": [
  {
   "cell_type": "markdown",
   "metadata": {},
   "source": [
    "# Relación entre variables\n",
    "\n",
    "Dos variables pueden estar relacionadas entre si de varias formas. En esta sección vamos a ver como podemos averiguar las relaciones que pueden existir entre dos variables.\n",
    "\n",
    "Pero antes veamos unos conceptos básicos:\n",
    "\n",
    "La variable $Y$ tiene una variación lineal respecto a $X$ si:\n",
    "\\\\[\n",
    "Y=\\beta·X+a\n",
    "\\\\]\n",
    "Donde $\\beta$ y $a$ son constantes fijas que definen la relación entre las dos variables. Pero en cambio, no tendremos una relación lineal en los siguientes casos:\n",
    "\\\\[\n",
    "Y=\\beta·X^2+a\n",
    "\\\\]\n",
    "\\\\[\n",
    "Y=\\beta^X\n",
    "\\\\]"
   ]
  },
  {
   "cell_type": "markdown",
   "metadata": {},
   "source": [
    "# Covarianza\n",
    "\n",
    "La covarianza es un valor que indica el grado de variación **lineal** conjunta de dos variables aleatorias respecto a sus medias.\n",
    "\n",
    "Supongamos que queremos comparar dos variables aleatorias X e Y:\n",
    "* Tendremos alta covarianza (positiva) cuando, para valores altos de X, tengamos mayoritariamente valores altos de Y\n",
    "* Tendremos baja covarianza (negativa) cuando, para valores altos de X, tengamos mayoritariamente valores bajos de Y\n",
    "* Tendremos covarianza cercana a 0, para valores altos de X, los valores de Y pueden ser altos o bajos por igual\n",
    "\n",
    "\n",
    "Su formula es la siguiente:\n",
    "\\\\[\n",
    "cov(X,Y) = \\frac{1}{N} \\sum _{i=1}^N \\left( x_i-\\bar{x} \\right)\\left( y_i-\\bar{y} \\right)\n",
    "\\\\]\n",
    "\n",
    "Recordemos la formula de la varianza:\n",
    "\\\\[\n",
    "Var(x) =  \\frac{1}{N} \\sum _{i=1}^N \\left( x_i-\\bar{x} \\right)^2\n",
    "\\\\]\n",
    "\n",
    "La covarianza de una variable aleatoria consigo misma es igual a la varianza:\n",
    "\\\\[\n",
    "cov(X,X) = Var(X)\n",
    "\\\\]\n",
    "\n",
    "En R la calculamos con la función *cov(x,y)*\n"
   ]
  },
  {
   "cell_type": "code",
   "execution_count": null,
   "metadata": {},
   "outputs": [],
   "source": [
    "options(repr.plot.height=4,repr.plot.width=6)\n",
    "\n",
    "n <- 100\n",
    "x <- rnorm(n,sd=1)\n",
    "y1 <- 20*x+1+rnorm(n,sd=10)\n",
    "y2 <- rnorm(n,mean=2, sd=10)\n",
    "paste(\"La covarianza de las variables x, y1 es:\",round(cov(x,y1),2))\n",
    "paste(\"La covarianza de las variables x, y2 es:\",round(cov(x,y2),2))\n",
    "plot(x,y1,col='red')\n",
    "points(x,y2,col=\"blue\")"
   ]
  },
  {
   "cell_type": "markdown",
   "metadata": {},
   "source": [
    "En cambio en el siguiente ejemplo la covarianza falla al tratar de encontrar una relación entre dos variables al no ser esta lineal."
   ]
  },
  {
   "cell_type": "code",
   "execution_count": null,
   "metadata": {},
   "outputs": [],
   "source": [
    "y <- x^2\n",
    "paste(\"La covarianza de las variables x, y es:\",round(cov(x,y),2))\n",
    "plot(x,y,col='red')"
   ]
  },
  {
   "cell_type": "markdown",
   "metadata": {},
   "source": [
    "### Ejemplo para finanzas\n",
    "\n",
    "\n",
    "En el mercado bursátil, se pone un gran énfasis en reducir el riesgo asumido. Esto generalmente significa que estas acciones no se mueven en la misma dirección. Se suelen elegir acciones que tienen una menor covarianza entre si.\n",
    "Esto se suele hacer no sobre el valor de la acción en sí, sino sobre la tasa de retorno al final de cada día."
   ]
  },
  {
   "cell_type": "code",
   "execution_count": null,
   "metadata": {},
   "outputs": [],
   "source": [
    "suppressWarnings(require(\"quantmod\"))\n",
    "start <- as.Date(\"2000-01-01\")\n",
    "end <- as.Date(\"2021-01-01\")\n",
    "TEF<-getSymbols(\"TEF.MC\", src = \"yahoo\", from = start, to = end,auto.assign = F)\n",
    "SAN<-getSymbols(\"SAN.MC\", src = \"yahoo\", from = start, to = end,auto.assign = F)\n",
    "BBVA<-getSymbols(\"BBVA.MC\", src = \"yahoo\", from = start, to = end,auto.assign = F)"
   ]
  },
  {
   "cell_type": "code",
   "execution_count": null,
   "metadata": {},
   "outputs": [],
   "source": [
    "candleChart(TEF[1:10,])"
   ]
  },
  {
   "cell_type": "code",
   "execution_count": null,
   "metadata": {},
   "outputs": [],
   "source": [
    "head(TEF)\n",
    "str(TEF)"
   ]
  },
  {
   "cell_type": "code",
   "execution_count": null,
   "metadata": {},
   "outputs": [],
   "source": [
    "convertToDf<-function(stock){\n",
    "    valueAdjusted <- stock[,6]\n",
    "    df <- data.frame(index(valueAdjusted), valueAdjusted, row.names=1:length(valueAdjusted))\n",
    "    colnames(df) <- c(\"date\",gsub(\".Adjusted\",\"\",names(valueAdjusted)))\n",
    "    df\n",
    "}\n",
    "\n",
    "df_TEF <- convertToDf(TEF)\n",
    "df_SAN <- convertToDf(SAN)\n",
    "df_BBVA <- convertToDf(BBVA)\n",
    "head(df_TEF)\n",
    "str(df_SAN)"
   ]
  },
  {
   "cell_type": "code",
   "execution_count": null,
   "metadata": {},
   "outputs": [],
   "source": [
    "df_total <- merge(df_TEF,df_SAN,by=\"date\", all=T)\n",
    "df_total <- merge(df_total,df_BBVA,by=\"date\", all=T)\n",
    "\n",
    "seq1 <- 1:(nrow(df_total)-1)\n",
    "seq2 <- 2:nrow(df_total)\n",
    "\n",
    "roi <- (df_total[seq2,2:ncol(df_total)]/df_total[seq1,2:ncol(df_total)]-1)*100\n",
    "\n",
    "\n",
    "head(roi)"
   ]
  },
  {
   "cell_type": "code",
   "execution_count": null,
   "metadata": {},
   "outputs": [],
   "source": [
    "paste(\"La covarianza entre las tasas de retorno del BBVA y TEF es:\",\n",
    "      cov(roi$BBVA.MC,roi$TEF.MC, use=\"complete.obs\"))\n",
    "paste(\"La covarianza entre las tasas de retorno del BBVA y SAN es:\",\n",
    "      cov(roi$BBVA.MC,roi$SAN.MC, use=\"complete.obs\"))"
   ]
  },
  {
   "cell_type": "markdown",
   "metadata": {},
   "source": [
    "Como cabría esperar existe una gran covarianza entre los bancos, Santander y BBVA, que no se da con Telefónica. Pero la covarianza tiene un problema y es que no está normalizada.\n",
    "\n",
    "La covarianza entre dos variables puede ser muy alta porque la varianza de una de las variables es muy alta o porque existe una relación alta entre cada una de ellas."
   ]
  },
  {
   "cell_type": "markdown",
   "metadata": {},
   "source": [
    "## Matriz de covarianza\n",
    "\n",
    "La matriz de covarianza muestra la varianza entre $n$ variables en forma de matriz $n \\times n$, donde el valor de la celda ij es la covarianza de la secuencia i con la secuencia j, el valor de la diagonal es la varianza de la secuencia correspondiente."
   ]
  },
  {
   "cell_type": "code",
   "execution_count": null,
   "metadata": {},
   "outputs": [],
   "source": [
    "cov(cbind(x,y1,y2))"
   ]
  },
  {
   "cell_type": "markdown",
   "metadata": {},
   "source": [
    "La matriz de covarianza nos sirve para de de un vistazo general la relación entre las diferentes variables. Si volvemos al caso anterior de las acciones se puede ver claramente que acciones están más relacionadas entre sí y cuales presentan una mayora varianza."
   ]
  },
  {
   "cell_type": "code",
   "execution_count": null,
   "metadata": {},
   "outputs": [],
   "source": [
    "cov(roi, use=\"complete.obs\")"
   ]
  },
  {
   "cell_type": "markdown",
   "metadata": {},
   "source": [
    "# Correlación\n",
    "\n",
    "La correlación es un valor que indica el grado de variación conjunta y **lineal** de dos variables aleatorias. Es la covarianza normalizada en el rango $[-1,1]$. Es una forma de ignorar la variación de cada una de las variables en si y centrarse únicamente en la relación que existe entre ambas, ya que una covarianza alta puede venir dada también porque una de las variables a estudiar tenga una varianza elevada.\n",
    "\n",
    "Supongamos que queremos comparar dos variables aleatorias X e Y:\n",
    "* Correlación cercana a 1, para valores altos de X, tengamos mayoritariamente valores altos de Y\n",
    "* Correlación cercana a -1, para valores altos de X, tengamos mayoritariamente valores bajos de Y\n",
    "* Correlación cercana a 0, para valores altos de X, los valores de Y pueden ser altos o bajos por igual\n",
    "\n",
    "\n",
    "La función de correlación de Pearson es:\n",
    "\\\\[\n",
    "\\rho_{X,Y} = corr (X,Y) = \\frac{cov(X,Y)}{\\sigma_X \\sigma_Y} \n",
    "\\\\]\n",
    "\n",
    "\n",
    "Al igual que con la covarianza podemos calcular una matriz de correlación. Se utiliza para ver de forma sencilla cual es la relación entre varias variables. En una matriz de correlación la diagonal será siempre 1 (la correlación de una variable consigo misma es 1) y el valor de la celda *ij* vendrá dado por la correlación de la variable i con j.\n",
    "\n",
    "\n",
    "En R la calculamos con la función *cor(x,y)*\n"
   ]
  },
  {
   "cell_type": "code",
   "execution_count": null,
   "metadata": {},
   "outputs": [],
   "source": [
    "cr1<-cor(x,y1)\n",
    "cr2<-cor(x,y2)\n",
    "paste(\"La correlación de las variables x,y1 es:\",round(cr1,2))\n",
    "paste(\"La correlación de las variables x,y2 es:\",round(cr2,2))\n",
    "\n",
    "cr<-cor(x,y)\n",
    "paste(\"La correlación de las variables x,y es:\",round(cr,2))"
   ]
  },
  {
   "cell_type": "markdown",
   "metadata": {},
   "source": [
    "## Correlación no implica causalidad\n",
    "\n",
    "\n",
    "https://es.wikipedia.org/wiki/Cum_hoc_ergo_propter_hoc: \n",
    "\n",
    "*Cum hoc ergo propter hoc (en latín, \"Con esto, por tanto a causa de esto\") es una falacia (es decir, un argumento que parece válido, pero que no lo es) que se comete al inferir que dos o más eventos están conectados causalmente porque se dan juntos. La falacia consiste en inferir que existe una relación causal entre dos o más eventos por haberse observado una correlación estadística entre ellos. Esta falacia muchas veces se refuta mediante la frase «correlación no implica causalidad».*\n",
    "\n",
    "Que dos variables estén correladas no implica que una una es la causa de la otra, es decir, que haya una relación directa entre ambas.\n",
    "\n",
    "Por ejemplo, existe una correlación de 0.992558 entre la tasa de divorcio en el estado de Maine y el consumo de margarina por habitante:\n",
    "![](pics/correlacion-margarina-divorcio.png)\n",
    "\n",
    "Fallos comunes que pueden llevar a buscar una correlación alta:\n",
    "* Utiliza solo la ventana de datos que te interesa.\n",
    "* Compara muchas variables entre sí, por puro azar algunas evolucionarán a la par.\n",
    "\n",
    "Más ejemplos en [tylervigen](http://www.tylervigen.com/spurious-correlations).\n",
    "\n"
   ]
  },
  {
   "cell_type": "markdown",
   "metadata": {},
   "source": [
    "Relacionada: https://xkcd.com/552/"
   ]
  },
  {
   "cell_type": "markdown",
   "metadata": {},
   "source": [
    "Dos variables también pueden estar correladas entre sí, pero la causalidad puede ser debida a una tercera variable oculta que no vemos.\n",
    "Por ejemplo:"
   ]
  },
  {
   "cell_type": "code",
   "execution_count": null,
   "metadata": {},
   "outputs": [],
   "source": [
    "set.seed(2807)\n",
    "\n",
    "x<- rnorm(100)\n",
    "y <- 2*x + 1+ rnorm(100,0,0.1)\n",
    "paste(\"La correlación entre x,y es\",cor(x,y))\n",
    "\n",
    "\n",
    "z <- 2*x + 1+ rnorm(100,0,0.1)\n",
    "paste(\"La correlación entre x,y es\",cor(x,z))\n",
    "\n",
    "\n",
    "paste(\"Aunque no existe ninguna relación directa entre z,y existe una alta correlación:\", cor(y,z))"
   ]
  },
  {
   "cell_type": "markdown",
   "metadata": {},
   "source": [
    "#### Correlación entre colesterol y ataques al corazón\n",
    "\n",
    "Existe una alta correlación en aquellos paises cuyos habitantes toman grasas saturadas (asociadas con un nivel de colesterol más alto) y aquellos cuyos número de enfermedades cardiovasculares es más elevado.\n",
    "\n",
    "Pero existe un problema en esta correlación, Francia y Finlandia presentan aproximadamente los mismos niveles de ingesta de grasas saturadas, pero los franceses tienen un porcentaje bajo de enfermedades cardiovasculares.\n",
    "\n",
    "Parece que hay algún otro componente en la dieta que puede estar relacionado con la calidad de la alimentación que es el que realmente influye a la hora de tener o no una enfermedad cardiovascular.\n",
    "\n",
    "\n",
    "[The French paradox: lessons for other countries](https://www.ncbi.nlm.nih.gov/pmc/articles/PMC1768013/)\n",
    "\n",
    "\n",
    "[Differences in Coronary Mortalit Can Be\n",
    "Explained by Differences in Cholesterol and\n",
    "Saturated Fat Intakes in 40 Countries but\n",
    "Not in France and Finland\n",
    "A Paradox](https://pdfs.semanticscholar.org/fb57/b6dddc3649702b9e79ae4575ad8a38970d8c.pdf)"
   ]
  },
  {
   "cell_type": "markdown",
   "metadata": {},
   "source": [
    "### Ejemplo de Matriz de correlación: Mercado continuo\n",
    "\n",
    "Si se decide invertir en acciones, una política conservadora consiste en diversificar lo máximo posible. Es decir, invertir en empresas que no tengan relaciones. De esta forma si un sector entra en crisis, las empresas de otro sector pueden no verse perjudicadas y salvaremos parte de nuestra inversión.\n",
    "\n",
    "Un análisis muy sencillo puede ser mediante la matriz de correlación de diferentes empresas. Empresas que presentan un alto nivel de correlación presentan subidas y bajadas muy parecidas. De esta forma, una jugada inteligente podría ser tener un portfolio de acciones con baja correlación.\n",
    "\n",
    "Veamos un ejemplo con unas pocas empresas y el cambio de moneda Bitcoin-Euro y el Nasdaq"
   ]
  },
  {
   "cell_type": "code",
   "execution_count": null,
   "metadata": {},
   "outputs": [],
   "source": [
    "suppressWarnings(require(\"quantmod\"))\n",
    "start <- as.Date(\"2000-01-01\")\n",
    "end <- as.Date(\"2018-01-01\")\n",
    "AAPL<-getSymbols(\"AAPL\", src = \"yahoo\", from = start, to = end,auto.assign = F)\n",
    "BTCEUR<-getSymbols(\"BTC-EUR\", src = \"yahoo\", from = start, to = end,auto.assign = F)\n",
    "IXIC<-getSymbols(\"^IXIC\", src = \"yahoo\", from = start, to = end,auto.assign = F)\n",
    "TEF<-getSymbols(\"TEF.MC\", src = \"yahoo\", from = start, to = end,auto.assign = F)\n",
    "VOD<-getSymbols(\"VOD\", src = \"yahoo\", from = start, to = end,auto.assign = F)\n",
    "SAN<-getSymbols(\"SAN.MC\", src = \"yahoo\", from = start, to = end,auto.assign = F)\n",
    "BBVA<-getSymbols(\"BBVA.MC\", src = \"yahoo\", from = start, to = end,auto.assign = F)\n",
    "TSLA<-getSymbols(\"TSLA\", src = \"yahoo\", from = start, to = end,auto.assign = F)"
   ]
  },
  {
   "cell_type": "code",
   "execution_count": null,
   "metadata": {},
   "outputs": [],
   "source": [
    "convertToDf<-function(stock){\n",
    "    valueAdjusted<-stock[,6]\n",
    "    df<-data.frame(index(valueAdjusted),valueAdjusted,row.names = 1:length(valueAdjusted))\n",
    "    colnames(df)<-c(\"date\",gsub(\".Adjusted\",\"\",names(valueAdjusted)))\n",
    "    df\n",
    "}\n",
    "df_IXIC<-convertToDf(IXIC)\n",
    "df_AAPL<-convertToDf(AAPL)\n",
    "df_TSLA<-convertToDf(TSLA)\n",
    "df_TEF<-convertToDf(TEF)\n",
    "df_VOD<-convertToDf(VOD)\n",
    "df_SAN<-convertToDf(SAN)\n",
    "df_BBVA<-convertToDf(BBVA)\n",
    "df_BTCEUR<-convertToDf(BTCEUR)\n",
    "\n",
    "head(df_IXIC)"
   ]
  },
  {
   "cell_type": "code",
   "execution_count": null,
   "metadata": {},
   "outputs": [],
   "source": [
    "df_total<-merge(df_IXIC,df_AAPL,by=\"date\",all = T)\n",
    "head(df_total)"
   ]
  },
  {
   "cell_type": "code",
   "execution_count": null,
   "metadata": {},
   "outputs": [],
   "source": [
    "df_total<-merge(df_total,df_TSLA,by=\"date\",all = T)\n",
    "df_total<-merge(df_total,df_TEF,by=\"date\",all = T)\n",
    "df_total<-merge(df_total,df_VOD,by=\"date\",all = T)\n",
    "df_total<-merge(df_total,df_SAN,by=\"date\",all = T)\n",
    "df_total<-merge(df_total,df_BBVA,by=\"date\",all = T)\n",
    "df_total<-merge(df_total,df_BTCEUR,by=\"date\",all = T)\n",
    "\n",
    "\n",
    "tail(df_total)"
   ]
  },
  {
   "cell_type": "code",
   "execution_count": null,
   "metadata": {},
   "outputs": [],
   "source": [
    "cor(df_total[2:ncol(df_total)],use=\"pairwise.complete.obs\")"
   ]
  },
  {
   "cell_type": "markdown",
   "metadata": {},
   "source": [
    "Podemos ver como Apple y Tesla están bastante correlados con el Nasdaq, como cabría esperar, al ser este un índice de empresas tecnológicas en USA.\n",
    "\n",
    "Telefónica y Vodafone se encuentran algo correlados, ambos pertenecen al mismo sector.\n",
    "\n",
    "Se ve como la correlación entre el banco Santander y el BBVA es alta, esto implica que ambas empresas tienen un comportamiento muy parecido. Según esto daría igual comprar acciones del Santander o del BBVA, las ganancias serían las mismas aproximadamente.\n",
    "\n",
    "Como cabría esperar el cambio Bitcoin-Euro se encuentra poco correlado con el resto de empresas. Hay una correlación con Apple y TESLA, pero seguramente se deba más a una casualidad, las acciones de Apple y TESLA han subido mucho en los últimos años igual que el Bitcoin. El hecho de que TESLA incorporara BTC en su cartera a mediados de febrero todavía no tiene peso suficiente para alterar la correlación de un año."
   ]
  },
  {
   "cell_type": "markdown",
   "metadata": {},
   "source": [
    "### Si la correlación no implica causalidad, ¿qué es entonces la correlación?\n",
    "\n",
    "Para entender que implicaciones tiene la correlación hay que hacer un análisis causal. Es una rama de la estadística que aunque tiene ya varios años no se encuentra todo lo distribuida que debiera.\n",
    "\n",
    "El libro de Judea Pearl, [The book of Why](http://bayes.cs.ucla.edu/WHY/) es un gran libro para ayudar a entender realmente la rama de la estadística desde un punto de vista causal.\n",
    "\n",
    "<img src=\"http://bayes.cs.ucla.edu/WHY/Pearl-The-Book.jpg\" alt=\"Drawing\" style=\"width: 200px;\"/>\n"
   ]
  },
  {
   "cell_type": "markdown",
   "metadata": {
    "collapsed": true
   },
   "source": [
    "# Regresión lineal\n",
    "\n",
    "\n",
    "Modelo matemático usado para aproximar la relación de dependencia entre una variable dependiente $Y$, la variables independiente $X$ y un término aleatorio $\\varepsilon$. Este modelo puede ser expresado como:\n",
    "\n",
    "\\\\[\n",
    "y_i=\\beta_0+\\beta_1 x_i+\\varepsilon_i  \\quad \\text{para }i=1,\\dots,n\n",
    "\\\\]"
   ]
  },
  {
   "cell_type": "code",
   "execution_count": null,
   "metadata": {},
   "outputs": [],
   "source": [
    "options(repr.plot.height=5,repr.plot.width=8 , repr.plot.res = 400)\n",
    "\n",
    "n<-100\n",
    "x<-rnorm(n,sd=1)\n",
    "y<- 1+20*x+rnorm(n,mean=1,sd=10)\n",
    "\n",
    "plot(x,y)\n",
    "#abline(c(1,20),col=\"blue\")\n",
    "grid()"
   ]
  },
  {
   "cell_type": "markdown",
   "metadata": {},
   "source": [
    "\n",
    "Esto significa que se puede expandir de la forma:\n",
    "\\\\[\n",
    "\\begin{split}\n",
    "y_1 &=\\beta_0+\\beta_1 x_1+\\varepsilon_1  \\\\\n",
    "y_2 &=\\beta_0+\\beta_1 x_2+\\varepsilon_2  \\\\\n",
    "\\vdots& \\\\\n",
    "y_n&=\\beta_0+\\beta_1 x_n+\\varepsilon_n \n",
    "\\end{split}\n",
    "\\\\]\n",
    "\n",
    "\n",
    "donde:\n",
    "* $y_i$: i-esimo valor de la variable dependiente\n",
    "* $x_i$: i-esimo valor de la variable independiente\n",
    "* $\\beta_0, \\beta_1$: parámetros a determinal que dado un conjunto de $x_i$ produce los mejores $y_i$\n",
    " * $\\beta_0$ : Puede ser llamado sesgo, bias, intercept o término constante. Indica el corte en el eje Y\n",
    " * $\\beta_1$ : Puede ser llamado pendiente, slope. Indica cuanto aumenta Y por cada incremento de X\n",
    "* $\\varepsilon_i$: error, valor aleatorio.\n",
    "\n",
    "Podemos escribirlo en forma de matriz:\n",
    "\\\\[\n",
    "\\begin{bmatrix}\n",
    " y_1 \\\\ \n",
    " y_2 \\\\ \n",
    " \\vdots \\\\ \n",
    " y_n \n",
    "\\end{bmatrix}\n",
    "=\n",
    "\\begin{bmatrix}\n",
    " 1 & x_1\\\\ \n",
    " 1 & x_2 \\\\ \n",
    " \\vdots & \\vdots \\\\ \n",
    " 1 & x_n \n",
    "\\end{bmatrix}\n",
    "\\begin{bmatrix}\n",
    "\\beta_0\n",
    "\\\\ \n",
    "\\beta_1\n",
    "\\end{bmatrix}+\n",
    "\\begin{bmatrix}\n",
    " \\varepsilon_1 \\\\ \n",
    " \\varepsilon_2 \\\\ \n",
    " \\vdots \\\\ \n",
    " \\varepsilon_n\n",
    "\\end{bmatrix}\n",
    "\\\\]\n",
    "Lo que se puede simplificar como:\n",
    "\\\\[\n",
    "Y=X \\beta+\\varepsilon\n",
    "\\\\]\n",
    "\n",
    "\n",
    "\n",
    "\n",
    "Donde:\n",
    "* $Y \\in \\mathbb{R}^{n \\times 1}$ \n",
    "* $X \\in \\mathbb{R}^{n \\times 2}$ \n",
    "* $\\beta \\in \\mathbb{R}^{1 \\times 2}$ \n",
    "* $\\varepsilon \\in \\mathbb{R}^{n \\times 1}$ \n",
    "\n",
    "\n"
   ]
  },
  {
   "cell_type": "code",
   "execution_count": null,
   "metadata": {},
   "outputs": [],
   "source": [
    "n<-10\n",
    "beta<-matrix(c(5,2),nrow = 2)\n",
    "X<-matrix(c(rep(1,n),1:n),ncol = 2, byrow = F)\n",
    "\n",
    "print(\"El valor de la matriz X es:\")\n",
    "X\n",
    "print(\"El valor de la Beta es:\")\n",
    "beta"
   ]
  },
  {
   "cell_type": "code",
   "execution_count": null,
   "metadata": {},
   "outputs": [],
   "source": [
    "print(\"El valor de la matriz X·Beta es:\")\n",
    "X %*% beta"
   ]
  },
  {
   "cell_type": "code",
   "execution_count": null,
   "metadata": {},
   "outputs": [],
   "source": [
    "print(\"El valor final de la matriz Y es:\")\n",
    "e<-rnorm(n)\n",
    "Y<-X %*% beta +e\n",
    "Y"
   ]
  },
  {
   "cell_type": "code",
   "execution_count": null,
   "metadata": {},
   "outputs": [],
   "source": [
    "plot(X[,2],Y,ylim = c(0,30))\n",
    "abline(beta,col=\"blue\")\n",
    "grid()"
   ]
  },
  {
   "cell_type": "markdown",
   "metadata": {},
   "source": [
    "## ¿Cómo calculamos $\\beta$?\n",
    "\n",
    "### Definición de inversa de una matriz\n",
    "\n",
    "La inversa de una matriz una matriz cuadrada $A$ se escribe $A^-1$ y se define como:\n",
    "\\\\[\n",
    "A^{-1} \\cdot A=I=A \\cdot A^{-1}\n",
    "\\\\]\n",
    "\n",
    "Donde I es la matriz identidad:\n",
    "\\\\[\n",
    "\\begin{bmatrix}\n",
    "1 & 0 & \\dots & 0\\\\ \n",
    "0 & 1 & \\dots & 0 \\\\ \n",
    "\\vdots &  & \\ddots &  \\vdots \\\\ \n",
    "0 & 0  & \\dots & 1\n",
    "\\end{bmatrix}\n",
    "\\\\]\n",
    "\n"
   ]
  },
  {
   "cell_type": "code",
   "execution_count": null,
   "metadata": {},
   "outputs": [],
   "source": [
    "A<-matrix(c(1,3,5,2,3,4,1,7,8),nrow=3)\n",
    "print(\"Tenemos una matriz A:\")\n",
    "A"
   ]
  },
  {
   "cell_type": "code",
   "execution_count": null,
   "metadata": {},
   "outputs": [],
   "source": [
    "print(\"La inversa de A es:\")\n",
    "iA<-solve(A)\n",
    "iA"
   ]
  },
  {
   "cell_type": "code",
   "execution_count": null,
   "metadata": {},
   "outputs": [],
   "source": [
    "print(\"Si multiplicamos una matriz por su inversa obtenemos una matriz identidad\")\n",
    "iA %*% A"
   ]
  },
  {
   "cell_type": "markdown",
   "metadata": {},
   "source": [
    "Podemos usar la matriz inversa para resolver ecuaciones:\n",
    "\\\\[\n",
    "\\begin{split}\n",
    "u&=Av \\\\\n",
    "A^{-1}u&=A^{-1}Av \\\\\n",
    "A^{-1}u&=Iv \\\\\n",
    "A^{-1}u&=v \\\\\n",
    "\\end{split}\n",
    "\\\\]\n",
    "\n"
   ]
  },
  {
   "cell_type": "code",
   "execution_count": null,
   "metadata": {},
   "outputs": [],
   "source": [
    "print(\"Calculamos el vector u como resultado de multiplicar A·v\")\n",
    "v <- c(1,2,3)\n",
    "u <- A %*% v\n",
    "u"
   ]
  },
  {
   "cell_type": "code",
   "execution_count": null,
   "metadata": {},
   "outputs": [],
   "source": [
    "print(\"Comprobamos que multiplicando u por la inversa de A obtenemos v de vuelta:\")\n",
    "iA %*% u"
   ]
  },
  {
   "cell_type": "markdown",
   "metadata": {},
   "source": [
    "### Pseudoinversa Moore-Penrose\n",
    "\n",
    "¿Qué ocurre si la matriz que queremos invertir no es cuadrada? Entonces el sistema de ecuaciones no tiene una única solución o simplemente no tiene solución.\n",
    "\n",
    "Lo que tratamos de encontrar es la menos mala de las soluciones.\n",
    "\n",
    "Para números reales se define como:\n",
    "\\\\[\n",
    "X^+ = \\left( X^{\\intercal} X  \\right)^{-1} X^{\\intercal}\n",
    "\\\\]\n",
    "Cuando:\n",
    "\\\\[\n",
    "X^+X = I\n",
    "\\\\]\n",
    "\n",
    "\n",
    "\n",
    "El problema original consistía en querer calcular $\\beta$ de tal forma que se minimice la influencia de $\\varepsilon$:\n",
    "\\\\[\n",
    "Y=X \\beta+\\varepsilon\n",
    "\\\\]\n",
    "En nuestro sistema $\\varepsilon$ es desconocido, pero sabemos que tiene media cero y varianza finita. Así que  simplificamos el siguiente sistema de ecuaciones:\n",
    "\n",
    "\\\\[\n",
    "\\begin{split}\n",
    "Y=&X \\beta' \\\\\n",
    "X^+Y=& X^+X \\beta' \\\\\n",
    "X^+Y=& \\beta' \\\\\n",
    "\\left( X^{\\intercal}X  \\right)^{-1} X^{\\intercal} Y =& \\beta'\n",
    "\\end{split}\n",
    "\\\\]\n",
    "\n",
    "Ahora tenemos, a partir de $X$ e $Y$ una estimación $\\beta'$. Podemos entonces, a partir de valores conocidos de $X$ calcular una estimación de $Y'$. \n",
    "\\\\[\n",
    "Y'=X \\beta'\n",
    "\\\\]\n",
    "\n",
    "Evidentemente $Y \\neq Y'$, llamaremos **residuo**(error) a la diferencia entre el valor real y el valor estimado : $\\varepsilon' = Y-Y'$. \n",
    "\n",
    "El método anterior garantiza que el error cuadrático medio sea mínimo.\n",
    "\\\\[\n",
    "{1 \\over n} \\sum_{i=0}^n{(Y-Y')^2}\n",
    "\\\\]"
   ]
  },
  {
   "cell_type": "code",
   "execution_count": null,
   "metadata": {},
   "outputs": [],
   "source": [
    "print(\"El valor estimado de beta\")\n",
    "est_beta <- solve(t(X) %*% X) %*% t(X) %*% Y\n",
    "est_beta"
   ]
  },
  {
   "cell_type": "code",
   "execution_count": null,
   "metadata": {},
   "outputs": [],
   "source": [
    "X"
   ]
  },
  {
   "cell_type": "code",
   "execution_count": null,
   "metadata": {},
   "outputs": [],
   "source": [
    "est_Y <- X %*% est_beta\n",
    "plot(X[,2],Y,col=\"blue\")\n",
    "points(X[,2],est_Y,col=\"red\")\n",
    "abline(est_beta,col=\"red\")\n",
    "abline(c(5,2),col=\"black\")\n",
    "\n",
    "\n",
    "legend(1,30,legend=c(\"Y\",\"Y'\"),col=c(\"blue\",\"red\"),pch=1)\n",
    "grid()\n",
    "t(Y-est_Y)"
   ]
  },
  {
   "cell_type": "code",
   "execution_count": null,
   "metadata": {},
   "outputs": [],
   "source": [
    "paste(\"El error cuadrático medio es:\",mean((Y-est_Y)^2))"
   ]
  },
  {
   "cell_type": "markdown",
   "metadata": {},
   "source": [
    "### Método en R\n",
    "\n",
    "En R existe la función lm (linear model) que se utiliza para calcular la dependencia entre variables"
   ]
  },
  {
   "cell_type": "code",
   "execution_count": null,
   "metadata": {},
   "outputs": [],
   "source": [
    "n<-10\n",
    "beta<-matrix(c(5,2),nrow = 2)\n",
    "e<-rnorm(n,sd=1)\n",
    "X<-matrix(c(rep(1,n),1:n),ncol = 2, byrow = F)\n",
    "Y<-X %*% beta +e"
   ]
  },
  {
   "cell_type": "code",
   "execution_count": null,
   "metadata": {},
   "outputs": [],
   "source": [
    "datos <- data.frame(Y=Y,X=X[,2])\n",
    "head(datos)"
   ]
  },
  {
   "cell_type": "code",
   "execution_count": null,
   "metadata": {},
   "outputs": [],
   "source": [
    "model <- lm(data=datos, formula= Y ~ X)\n",
    "summary(model)"
   ]
  },
  {
   "cell_type": "code",
   "execution_count": null,
   "metadata": {},
   "outputs": [],
   "source": [
    "model$coefficients"
   ]
  },
  {
   "cell_type": "markdown",
   "metadata": {},
   "source": [
    "## Fiabilidad de los coeficientes\n",
    "\n",
    "Suponiendo que los residuos siguen una distribución gaussiana, se puede calcular la varianza de cada uno de los coeficientes como:\n",
    "\\\\[\n",
    "Var [ \\beta' | X ] = s^2 (X^TX)^{-1} = \\frac{\\varepsilon^2}{n-p} ·  (X^TX)^{-1} = \\frac{\\sum(Y_i-Y')^2}{n-p} ·  (\\sum(X_i-\\overline{X}) )^{-1}\n",
    "\\\\]\n",
    "\n",
    "Donde:\n",
    "* p es el número de grados de liberdad, de coeficientes, en este caso son 2: Intersección y la pendiente.\n",
    "* n es el número de muestras\n",
    "\n",
    "La media de los coeficientes vienen dados por el vector $\\beta'$. Con la media y la varianza podemos calcular la probabilidad de que el valor de la media estimado esté muy desviado de 0 por puro azar. Eso aparece con el valor Pr(>|t|) en el summary del modelo. Cuanto menos sea este valor más fiable será. Más adelante veremos que significa esta probabilidad en detalle, llamada p-valor.\n"
   ]
  },
  {
   "cell_type": "code",
   "execution_count": null,
   "metadata": {},
   "outputs": [],
   "source": [
    "vcov_matrix<-as.numeric(t(model$residuals)%*%model$residuals/(length(model$residuals)-2))*solve(t(X)%*%X)\n",
    "# vcov_matrix <- vcov(model)\n",
    "# 1/sum((X[,2]-colMeans(X)[2])^2) == solve(t(X)%*%X)[2,2]\n",
    "\n",
    "paste(\"p-valor para intersección:\",(1-pt(model$coefficients[1]/sqrt(diag(vcov_matrix))[1],8))*2)\n",
    "paste(\"p-valor para pendiente:\",(1-pt(model$coefficients[2]/sqrt(diag(vcov_matrix))[2],8))*2)"
   ]
  },
  {
   "cell_type": "code",
   "execution_count": null,
   "metadata": {},
   "outputs": [],
   "source": [
    "vcov_matrix"
   ]
  },
  {
   "cell_type": "markdown",
   "metadata": {},
   "source": [
    "Podemos calcular el margen de error para la intersección conociendo su desviación típica y que sigue una distribución t-student.\n",
    "\n",
    "Porque para un intervalo de confianza del 95% la formula de los márgenes superior e inferor es:\n",
    "\n",
    "\\\\[\n",
    "inf_{0.95}=Qt(0.975)·\\sigma + \\bar x \\\\\n",
    "sup_{0.95}=Qt(0.025)·\\sigma + \\bar x\n",
    "\\\\]"
   ]
  },
  {
   "cell_type": "code",
   "execution_count": null,
   "metadata": {},
   "outputs": [],
   "source": [
    "library(ggplot2)\n",
    "options(repr.plot.height=2,repr.plot.width=6)\n",
    "\n",
    "mydt<-function(x,df,mn,sd){\n",
    "    dt((x-mn)/sd,df)\n",
    "}\n",
    "df<-n-2\n",
    "\n",
    "ggplot(data=datos, aes(x=X)) +     \n",
    "    stat_function(fun=mydt,args = list(df = df,mn=model$coefficients[1],sd=sqrt(diag(vcov_matrix))[1]),color=\"#2222BB\")+\n",
    "    geom_vline(xintercept=qt(0.975,df,lower.tail = F)*sqrt(diag(vcov_matrix))[1]+model$coefficients[1])+\n",
    "    geom_vline(xintercept=qt(0.025,df,lower.tail = F)*sqrt(diag(vcov_matrix))[1]+model$coefficients[1])+\n",
    "    xlim(-10,40)"
   ]
  },
  {
   "cell_type": "markdown",
   "metadata": {},
   "source": [
    "Con R podemos calcular esto automáticamente mediante el comando *confint*:"
   ]
  },
  {
   "cell_type": "code",
   "execution_count": null,
   "metadata": {},
   "outputs": [],
   "source": [
    "cnf_int<-confint(model)\n",
    "cnf_int"
   ]
  },
  {
   "cell_type": "markdown",
   "metadata": {},
   "source": [
    "**Opción interval = 'confidence':**\n",
    "\n",
    "Un **intervalo de confianza** de la predicción es un rango que probablemente contiene el **valor medio de la variable dependiente** dados los valores específicos de las variables independientes. Estos intervalos proporcionan un rango para el promedio de la población. Estos rangos no dicen nada sobre la distribución de los puntos de datos individuales alrededor de la media de la población.\n",
    "\n",
    "**Opción interval = 'prediction':**\n",
    "\n",
    "Un **intervalo de predicción** es un rango que probablemente contiene el **valor de la variable dependiente** para una sola observación nueva dados los valores específicos de las variables independientes. Con este tipo de intervalo, estamos prediciendo rangos para observaciones individuales en lugar del valor medio."
   ]
  },
  {
   "cell_type": "code",
   "execution_count": null,
   "metadata": {},
   "outputs": [],
   "source": [
    "pred_conf<-predict(model,datos,interval = 'confidence')\n",
    "head(pred_conf)\n",
    "pred<-predict(model,datos,interval = 'prediction')\n",
    "head(pred)"
   ]
  },
  {
   "cell_type": "code",
   "execution_count": null,
   "metadata": {},
   "outputs": [],
   "source": [
    "options(repr.plot.height=4,repr.plot.width=6)\n",
    "\n",
    "est_Y <- X %*% model$coefficients\n",
    "plot(X[,2],Y,col=\"blue\")\n",
    "#points(X[,2],est_Y,col=\"red\")\n",
    "#lines(X[,2],pred[,\"fit\"],col=\"red\")\n",
    "#lines(X[,2],pred_conf[,\"lwr\"],col=\"black\")\n",
    "#lines(X[,2],pred_conf[,\"upr\"],col=\"black\")\n",
    "#lines(X[,2],pred[,\"lwr\"],col=\"gray\")\n",
    "#lines(X[,2],pred[,\"upr\"],col=\"gray\")\n",
    "\n",
    "\n",
    "#abline(c(5,2),col=\"green\")"
   ]
  },
  {
   "cell_type": "markdown",
   "metadata": {},
   "source": [
    "## Coeficiente de determinación $R^2$\n",
    "\n",
    "\n",
    "Proporciona una medida de como de bien nuestra medida sigue al modelo. Se calcula mediante:\n",
    "\n",
    "\\\\[\n",
    "R^2=1-\\frac{SS_{res}}{SS_{tot}}=1-\\frac{MSE(y,y')}{VAR(y)}\n",
    "\\\\]\n",
    "\n",
    "Donde $SS_{res}$ es la suma del cuadrado de los residuos:\n",
    "\\\\[\n",
    "SS_{res}=\\sum_i (y_i-y_i')^2\n",
    "\\\\]\n",
    "\n",
    "y $SS_{tot}$ es proporcional a la varianza de $Y$:\n",
    "\n",
    "\\\\[\n",
    "SS_{tot}=\\sum_i (y_i-\\bar{y})^2\n",
    "\\\\]\n",
    "\n",
    "Cuanto más cercano a $1$ mejor seguirá la predicción a los datos reales.\n",
    "\n",
    "Responde a la pregunta, ¿como de mejor es mi modelo respecto a uno que siempre devuelva el valor medio?"
   ]
  },
  {
   "cell_type": "code",
   "execution_count": null,
   "metadata": {},
   "outputs": [],
   "source": [
    "Rsq <- 1-(sum((Y-est_Y)^2))/(sum((Y-mean(Y))^2))\n",
    "print(paste(\"El coeficiente de determinación es:\",Rsq))"
   ]
  },
  {
   "cell_type": "code",
   "execution_count": null,
   "metadata": {},
   "outputs": [],
   "source": [
    "summary(model)"
   ]
  },
  {
   "cell_type": "markdown",
   "metadata": {},
   "source": [
    "Nuevo ejemplo:"
   ]
  },
  {
   "cell_type": "code",
   "execution_count": null,
   "metadata": {},
   "outputs": [],
   "source": [
    "options(repr.plot.height=4,repr.plot.width=6)\n",
    "n<-40\n",
    "xn<-rnorm(n,sd=1)\n",
    "yn<-xn*2+rnorm(n,mean=2,sd=10)\n",
    "datos<-data.frame(y=yn,X=xn)\n",
    "model=lm(datos, formula=y~X+0)\n",
    "\n",
    "\n",
    "plot(xn,yn,col=\"blue\")\n",
    "abline(c(0,model$coefficients),col=\"red\")\n",
    "summary(model)$r.squared"
   ]
  },
  {
   "cell_type": "code",
   "execution_count": null,
   "metadata": {},
   "outputs": [],
   "source": [
    "summary(model)"
   ]
  },
  {
   "cell_type": "code",
   "execution_count": null,
   "metadata": {},
   "outputs": [],
   "source": [
    "options(repr.plot.height=2,repr.plot.width=6)\n",
    "\n",
    "vcov_matrix<-as.numeric(t(model$residuals)%*%model$residuals/(length(model$residuals)-2))*solve(t(xn)%*%xn)\n",
    "\n",
    "\n",
    "ggplot(data=datos, aes(x=X)) +     \n",
    "    stat_function(fun=mydt,args = list(df = df,mn=model$coefficients[1],sd=sqrt(diag(vcov_matrix))[1]),color=\"#2222BB\")+\n",
    "    geom_vline(xintercept=qt(0.975,df)*sqrt(diag(vcov_matrix))[1]+model$coefficients[1])+\n",
    "    geom_vline(xintercept=qt(0.025,df)*sqrt(diag(vcov_matrix))[1]+model$coefficients[1])+\n",
    "    xlim(-20,20)"
   ]
  },
  {
   "cell_type": "code",
   "execution_count": null,
   "metadata": {},
   "outputs": [],
   "source": [
    "cnf_int<-confint(model)\n",
    "cnf_int"
   ]
  },
  {
   "cell_type": "code",
   "execution_count": null,
   "metadata": {},
   "outputs": [],
   "source": [
    "options(repr.plot.height=4,repr.plot.width=6)\n",
    "\n",
    "datos<-datos[order(datos$X),]\n",
    "pred<-predict(model,datos,interval=\"confidence\")\n",
    "est_Y <- pred[,\"fit\"]\n",
    "plot(xn,yn,col=\"blue\")\n",
    "points(datos$X,est_Y,col=\"red\")\n",
    "\n",
    "#lines(datos$X,pred[,\"fit\"],col=\"red\")\n",
    "#lines(datos$X,pred[,\"lwr\"],col=\"black\")\n",
    "#lines(datos$X,pred[,\"upr\"],col=\"black\")\n",
    "#abline(c(0,cnf_int[2]),col=\"gray\")\n",
    "#abline(c(0,cnf_int[1]),col=\"gray\")\n",
    "\n"
   ]
  },
  {
   "cell_type": "markdown",
   "metadata": {},
   "source": [
    "Relacionado: https://xkcd.com/1725/"
   ]
  },
  {
   "cell_type": "markdown",
   "metadata": {},
   "source": [
    "### Ejemplo: Evolución de la producción de cereales por hectárea en Italia\n",
    "\n",
    "El siguiente gráfico muestra como ha evolucionado la producción de cereales por hectarea cultivada en italia desde 1960 hasta 2018.\n",
    "\n",
    "Alrededor del mundo se observa una tendencia muy parecida a partir de los años 60, nuevas especies híbridas de cereales junto con nuevos fertilizantes químicos y pesticidas, aumentarion la producción agrícola en todo el mundo en lo que se acabó llamando la revolución verde. El padre de este movimiento es considerado Norman Borlaug, premio nobel de la paz en 1970.\n",
    "![](https://upload.wikimedia.org/wikipedia/commons/thumb/b/ba/Norman_Borlaug.jpg/220px-Norman_Borlaug.jpg)\n",
    "\n",
    "\n"
   ]
  },
  {
   "cell_type": "code",
   "execution_count": null,
   "metadata": {},
   "outputs": [],
   "source": [
    "library(ggplot2)\n",
    "yieldKgIt<-read.csv(\"data/yieldKgIt.csv\")"
   ]
  },
  {
   "cell_type": "code",
   "execution_count": null,
   "metadata": {},
   "outputs": [],
   "source": [
    "model <- lm(data=yieldKgIt, formula=yieldCereal~DATE)\n",
    "summary(model)\n",
    "yieldKgIt$predicted <- predict(model, yieldKgIt)\n",
    "\n",
    "ggplot(data=yieldKgIt,aes(x=DATE))+\n",
    "   geom_point(aes(y=yieldCereal))+\n",
    "   geom_line(aes(y=predicted),color=\"blue\")+\n",
    "   theme_bw()+xlab(\"Año\")+ylab(\"Kg/ha\")+ggtitle(\"Producción de cereales\")\n"
   ]
  },
  {
   "cell_type": "markdown",
   "metadata": {},
   "source": [
    "Cada año, de media, la producción de cereales aumenta en 67.5kg/ha, sigue una curva lineal con bastante poco error. En la siguiente gráfica se ve los residuos:"
   ]
  },
  {
   "cell_type": "code",
   "execution_count": null,
   "metadata": {},
   "outputs": [],
   "source": [
    "ggplot(data=yieldKgIt,aes(x=DATE,y=yieldCereal-predicted))+   \n",
    "   geom_line(color=\"blue\")+\n",
    "   geom_point(color=\"red\")+\n",
    "   theme_bw()+xlab(\"Año\")+ylab(\"Kg/ha\")+ggtitle(\"Residuos\")\n"
   ]
  },
  {
   "cell_type": "markdown",
   "metadata": {},
   "source": [
    "¿Porqué a veces la producción de cereales es inferior o superior con la curva esperada?\n",
    "¿Podría haber factores meteorológicos involucrados?\n",
    "\n",
    "No tenemos el histórico de meteorología de toda italia, pero podemos aproximarlo con el histórico de la ciudad de Bolonia.\n"
   ]
  },
  {
   "cell_type": "code",
   "execution_count": null,
   "metadata": {},
   "outputs": [],
   "source": [
    "residuals<-data.frame(DATE=yieldKgIt$DATE,res=model$residuals)\n",
    "weather<-read.csv(\"data/ITE00100550.csv\")\n",
    "wc<-merge(weather[,c(\"DATE\",\"PRCP\")],residuals,by=\"DATE\")\n",
    "cor(wc$PRCP,wc$res,use=\"complete.obs\")\n",
    "#ggplot(wc,aes(x=DATE,y=PRCP))+geom_point()"
   ]
  },
  {
   "cell_type": "markdown",
   "metadata": {},
   "source": [
    "# Regresión lineal múltiple\n",
    "\n",
    "Hasta ahora habíamos visto como el cambio en una variable puede afectar a otra, pero ¿qué ocurre si son varias las variables que alteran el comportamiento de nuestra variable objetivo? En este caso necesitamos utilizar la regresión lineal múltiple.\n",
    "\n",
    "Es un modelo matemático usado para aproximar la relación de dependencia entre una variable dependiente $Y$, las variables independientes $X_i$ y un término aleatorio $\\varepsilon$. Este modelo puede ser expresado como:\n",
    "\n",
    "\\\\[\n",
    "Y=\\beta_1 X_1+\\beta_2 X_2+\\cdots +\\beta_p X_p+\\varepsilon = \\sum \\beta_k X_k+\\varepsilon\n",
    "\\\\]\n",
    "\n",
    "\n",
    "donde:\n",
    "* $Y$: variable dependiente\n",
    "* $X_1,X_2,\\cdots ,X_p$: variables independientes\n",
    "* $\\beta_0, \\beta_1,\\beta_2,\\cdots ,\\beta_p$: parámetros a determinal que dado un $X_k$ produce el mejor posible $Y$\n",
    "* $\\varepsilon$: error, valor aleatorio.\n",
    "\n",
    "Condiciones para aplicarlo:\n",
    "1. Que la relación entre las variables sea lineal.\n",
    "2. Que los errores en la medición de $X_k$ sean independientes entre sí.\n",
    "3. Que los errores tengan varianza constante. (https://es.wikipedia.org/wiki/Heterocedasticidad)\n",
    "4. Que los errores tengan una media aritmética igual a cero.\n",
    "\n",
    "\n",
    "Para calcular el valor óptimo de $\\beta$ vamos a utilizar un poco de álgebra linea. \n",
    "\\\\[\n",
    "\\begin{split}\n",
    "y_1 &=\\beta_1 x_{11}+\\beta_2 x_{12}+\\beta_3 x_{13}+\\cdots+\\beta_p x_{1p}+\\varepsilon_1  \\\\\n",
    "y_2 &=\\beta_1 x_{21}+\\beta_2 x_{22}+\\beta_3 x_{23}+\\cdots+\\beta_p x_{2p}+\\varepsilon_1  \\\\\n",
    "\\vdots& \\\\\n",
    "y_n &=\\beta_1 x_{n1}+\\beta_2 x_{n2}+\\beta_3 x_{n3}+\\cdots+\\beta_p x_{np}+\\varepsilon_1  \\\\\n",
    "\\end{split}\n",
    "\\\\]\n",
    "\n",
    "Podemos escribirlo en forma de matriz:\n",
    "\\\\[\n",
    "\\begin{bmatrix}\n",
    " y_1 \\\\ \n",
    " y_2 \\\\ \n",
    " \\vdots \\\\ \n",
    " y_n \n",
    "\\end{bmatrix}\n",
    "=\n",
    "\\begin{bmatrix}\n",
    " x_{11} & x_{12} & x_{13} & \\cdots & x_{1p} \\\\ \n",
    " x_{21} & x_{22} & x_{23} & \\cdots & x_{2p} \\\\ \n",
    " \\vdots & & & \\ddots & \\vdots \\\\ \n",
    " x_{n1} & x_{n2} & x_{n3} & \\cdots & x_{np}\n",
    "\\end{bmatrix}\n",
    "\\begin{bmatrix}\n",
    "\\beta_1 \\\\ \n",
    "\\beta_2 \\\\\n",
    "\\beta_3 \\\\\n",
    "\\vdots  \\\\\n",
    "\\beta_p\n",
    "\\end{bmatrix}+\n",
    "\\begin{bmatrix}\n",
    " \\varepsilon_1 \\\\ \n",
    " \\varepsilon_2 \\\\ \n",
    " \\vdots \\\\ \n",
    " \\varepsilon_n\n",
    "\\end{bmatrix}\n",
    "\\\\]\n",
    "Lo que se puede simplificar como:\n",
    "\\\\[\n",
    "Y=X \\beta+\\varepsilon\n",
    "\\\\]\n",
    "\n",
    "Al igual que en el caso anterior podemos estimar $\\beta$ con:\n",
    "\\\\[\n",
    "\\beta=\\left( X^{\\intercal}X  \\right)^{-1} X^{\\intercal} Y\n",
    "\\\\]"
   ]
  },
  {
   "cell_type": "code",
   "execution_count": null,
   "metadata": {},
   "outputs": [],
   "source": [
    "n<-10\n",
    "x1<-rep(1,n)\n",
    "x2<-seq(2,to=11,length.out = n)\n",
    "x3<-seq(0.3,to=5,length.out = n)^2\n",
    "X<-matrix(c(x1,x2,x3),nrow=n,byrow = F)\n",
    "print(\"El valor de la matriz X es:\")\n",
    "X\n",
    "beta<-matrix(c(5,2,14),nrow=3)\n",
    "print(\"El valor de la matriz Y es:\")\n",
    "Y<-X %*% beta+rnorm(n)\n",
    "Y"
   ]
  },
  {
   "cell_type": "code",
   "execution_count": null,
   "metadata": {},
   "outputs": [],
   "source": [
    "print(\"El valor estimado de beta es:\")\n",
    "est_beta<-solve(t(X) %*% X) %*% t(X) %*% Y\n",
    "est_beta\n",
    "\n",
    "print(\"El valor real de beta es:\")\n",
    "beta"
   ]
  },
  {
   "cell_type": "markdown",
   "metadata": {},
   "source": [
    "Esto también se puede resolver con la función *lm* de R. Ignoramos el vector *x1* porque la función por defecto ya añade el término."
   ]
  },
  {
   "cell_type": "code",
   "execution_count": null,
   "metadata": {},
   "outputs": [],
   "source": [
    "lm(Y~x2+x3)"
   ]
  },
  {
   "cell_type": "markdown",
   "metadata": {},
   "source": [
    "### Ejemplo: Peso de los niños al nacer\n",
    "\n",
    "Este dataset contien información de bebes recien nacidos y sus padres. Podemos usarlo como regresión para ver cuales son los factores que más afectan al peso del niño.\n",
    "\n",
    "http://people.reed.edu/~jones/141/BirthWgt.html\n",
    "\n",
    "Tenemos las siguientes variables que vamos a utilizar:\n",
    "\n",
    "|Nombre|Variable|\n",
    "|-|-|\n",
    "|Birthweight| Peso al nacer (libras)|\n",
    "|Gestation| Semanas que duró la gestación|\n",
    "|motherage| Edad de la madre|\n",
    "|mnocig| Número de cigarros al día fumados por la madre|\n",
    "|mheight| Altura de la madre (pulgadas)|\n"
   ]
  },
  {
   "cell_type": "code",
   "execution_count": null,
   "metadata": {},
   "outputs": [],
   "source": [
    "bwt<-read.csv(\"data/birthweight_reduced.csv\")\n",
    "#str(bwt)\n"
   ]
  },
  {
   "cell_type": "code",
   "execution_count": null,
   "metadata": {},
   "outputs": [],
   "source": [
    "library(GGally)\n",
    "options(repr.plot.height=4,repr.plot.width=6)\n",
    "ggpairs(bwt[,c(\"Gestation\",\"motherage\",\"mnocig\",\"mheight\",\"Birthweight\")],\n",
    "       lower = list(continuous = wrap(\"density\", alpha = 0.8,size=0.2,color='blue'))\n",
    "       #lower = list(continuous = wrap(\"points\", alpha = 0.3,size=0.1,color='blue'))\n",
    "       )"
   ]
  },
  {
   "cell_type": "code",
   "execution_count": null,
   "metadata": {},
   "outputs": [],
   "source": [
    "model<-lm(data=bwt, formula = Birthweight ~ Gestation+motherage+mnocig+mheight)\n",
    "summary(model)"
   ]
  },
  {
   "cell_type": "markdown",
   "metadata": {},
   "source": [
    "Los valores que más influencia parecen tener son aquellos que presentan un pvalor (Pr) más bajo. El número de * que hay a la derecha de cada fila indica su grado de confianza.\n",
    "\n",
    "La variable que más parece influir es la gestación, parece que por cada semana de gestación el bebé gana 0.33062 libras de peso. En cambio por cada cigarro al día que fuma la madre el peso del bebé podría disminuir en 0.02613 libras. La altura de la madre también parece tener cierta incluencia, por cada pulgada más que mida la madre el bebé pesará 0.13329 libras más. En cambio la edad de la madre parece no tener ningún efecto estadístico significativo."
   ]
  },
  {
   "cell_type": "code",
   "execution_count": null,
   "metadata": {},
   "outputs": [],
   "source": [
    "model<-lm(data=bwt, formula = Birthweight ~ Gestation+mnocig+mheight)\n",
    "summary(model)"
   ]
  },
  {
   "cell_type": "code",
   "execution_count": null,
   "metadata": {},
   "outputs": [],
   "source": [
    "confint(model)"
   ]
  },
  {
   "cell_type": "markdown",
   "metadata": {},
   "source": [
    "## Estimación de funciones polinómicas\n",
    "\n",
    "Podemos estimar funciones polinómicas del tipo:\n",
    "\\\\[\n",
    "y_i=\\beta_0+\\beta_1·x_i·+\\beta_2·x_i^2+\\beta_3·x_i^3+\\cdots+\\beta_p·x_i^p\n",
    "\\\\]\n",
    "\n",
    "\n",
    "Simplemente reescribiendolo como un modelo lineal múltple\n",
    "\\\\[\n",
    "\\begin{bmatrix}\n",
    " y_1 \\\\ \n",
    " y_2 \\\\ \n",
    " \\vdots \\\\ \n",
    " y_n \n",
    "\\end{bmatrix}\n",
    "=\n",
    "\\begin{bmatrix}\n",
    " 1 & x_{1} & x_{1}^2 & x_{1}^3 & \\cdots & x_{1}^p \\\\ \n",
    " 1 & x_{2} & x_{2}^2 & x_{2}^3 & \\cdots & x_{2}^p \\\\ \n",
    " \\vdots & & & \\ddots & \\vdots \\\\ \n",
    " 1 & x_{n} & x_{n}^2 & x_{n}^3 & \\cdots & x_{n}^p\n",
    "\\end{bmatrix}\n",
    "\\begin{bmatrix}\n",
    "\\beta_0 \\\\ \n",
    "\\beta_1 \\\\\n",
    "\\beta_2 \\\\\n",
    "\\beta_3 \\\\\n",
    "\\vdots  \\\\\n",
    "\\beta_p\n",
    "\\end{bmatrix}+\n",
    "\\begin{bmatrix}\n",
    " \\varepsilon_1 \\\\ \n",
    " \\varepsilon_2 \\\\ \n",
    " \\vdots \\\\ \n",
    " \\varepsilon_n\n",
    "\\end{bmatrix}\n",
    "\\\\]\n",
    "Lo que se puede simplificar como:\n",
    "\\\\[\n",
    "Y=X \\beta+\\varepsilon\n",
    "\\\\]\n"
   ]
  },
  {
   "cell_type": "code",
   "execution_count": null,
   "metadata": {},
   "outputs": [],
   "source": [
    "n<-100\n",
    "x<-seq(-10,10,length.out = n)\n",
    "\n",
    "x0<-rep(1,n)\n",
    "x1<-x\n",
    "x2<-x^2 \n",
    "x3<-x^3\n",
    "X<-matrix(c(x0,x1,x2,x3),nrow=n,byrow = F)\n",
    "\n",
    "beta<-matrix(c(1,1,3,0.5),nrow=4)\n",
    "Y<-X %*% beta+rnorm(n,sd = 50)\n",
    "\n",
    "plot(X[,2],Y,pch='*')\n",
    "\n",
    "est_beta<-solve(t(X) %*% X) %*% t(X) %*% Y\n",
    "est_Y<-X %*% beta\n",
    "lines(X[,2],est_Y,col=\"blue\")\n",
    "\n",
    "print(\"El valor estimado de beta es:\")\n",
    "est_beta\n",
    "\n",
    "print(\"El valor real de beta es:\")\n",
    "beta"
   ]
  },
  {
   "cell_type": "code",
   "execution_count": null,
   "metadata": {},
   "outputs": [],
   "source": [
    "modelPoly3<-lm(Y~x+I(x^2)+I(x^3))\n",
    "modelPoly3"
   ]
  },
  {
   "cell_type": "code",
   "execution_count": null,
   "metadata": {},
   "outputs": [],
   "source": [
    "summary(modelPoly3)"
   ]
  },
  {
   "cell_type": "markdown",
   "metadata": {},
   "source": [
    "### Sobreajuste\n",
    "\n",
    "El sobreajuste u overfitting ocurre en los modelos que tienen un grado polinómico tan alto que empiezan a seguir al ruido, se sobreajustan demasiado a los datos, perdiendo una visión más general de los datos y proporcionando predicciones peores.\n",
    "\n",
    "En este caso en lugar de estar aprendiendo la relación básica entre dos variables estaríamos aprendiendo los errores, nuestro modelo intenta integrar los errores para dar una respuesta más exacta. El problema es que al coger otra vez variables similares los errores cambian, y lo aprendido con los errores anteriores ya no nos sirve, con lo cual nuestro modelo sería erroneo.\n",
    "\n",
    "No hay que perderse demasiado en los detalles y las pequeñas variaciones de una variable, la esencia del modelo se basa en encontrar una predicción que funcione para la mayoría de los casos, no para los datos que estamos viendo ahora mismo, sino también para los datos futuros que nos llegarán."
   ]
  },
  {
   "cell_type": "code",
   "execution_count": null,
   "metadata": {},
   "outputs": [],
   "source": [
    "modelOverfit <- lm(Y~poly(x,27))\n",
    "summary(modelOverfit)"
   ]
  },
  {
   "cell_type": "code",
   "execution_count": null,
   "metadata": {},
   "outputs": [],
   "source": [
    "plot(X[,2],Y,pch='*')\n",
    "\n",
    "xp<-seq(-10,10,by=0.1)\n",
    "yp<-predict(modelOverfit,data.frame(x=xp))\n",
    "lines(xp,yp,col=\"blue\")\n",
    "lines(xp,predict(modelPoly3,data.frame(x=xp)),col=\"red\")"
   ]
  },
  {
   "cell_type": "code",
   "execution_count": null,
   "metadata": {},
   "outputs": [],
   "source": [
    "paste(\"Polinomio grado 27: Rsquared:\",summary(modelOverfit)$r.squared)\n",
    "paste(\"Polinomio grado 27: Residual standard error\",sqrt(sum(summary(modelOverfit)$residuals^2)/(length(summary(modelOverfit)$residuals)-25)))\n",
    "\n",
    "paste(\"Polinomio grado 3: Rsquared:\",summary(modelPoly3)$r.squared)\n",
    "paste(\"Polinomio grado 3: Residual standard error\",sqrt(sum(summary(modelPoly3)$residuals^2)/(length(summary(modelPoly3)$residuals)-4)))\n",
    "\n"
   ]
  },
  {
   "cell_type": "markdown",
   "metadata": {},
   "source": [
    "### Como encontrar el mejor modelo\n",
    "\n",
    "\n",
    "Podemos usar el p-valor de los coeficientes o buscar entre todos los modelos el de menor AIC.\n",
    "\n",
    "El criterio de información de Akaike (AIC) es un estimador de la calidad relativa del modelo que tiene en cuenta su complejidad.\n",
    "\n",
    "A medida que se aumenta el número de parámetros de entrada o de grados de un polinomio el valor del *error cuadrático medio* va a ser mejor porque el error cuadrático medio disminuye. El AIC penaliza los modelos complejos en favor del los sencillos para evitar el sobreajuste.\n",
    "\n",
    "\\\\[\n",
    "AIC = 2·P+N·log\\left(\\frac{SS_{res}}{N}\\right) = 2·P + N·log \\left(\\frac{\\sum_i (y_i-y_i')^2}{N} \\right)\n",
    "\\\\]\n",
    "\n",
    "Donde $P$ es el número de variables que se utilizan en el modelo y $N$ el número de muestras. Cuanto menor sea el vlor del AIC, mejor será el modelo.\n",
    "\n",
    "\n",
    "\n"
   ]
  },
  {
   "cell_type": "code",
   "execution_count": null,
   "metadata": {},
   "outputs": [],
   "source": [
    "paste(\"Polinomio grado 27, AIC:\",AIC(modelOverfit))\n",
    "paste(\"Polinomio grado 3, AIC:\",AIC(modelPoly3))"
   ]
  },
  {
   "cell_type": "markdown",
   "metadata": {},
   "source": [
    "En R existe la función stepAIC que nos encuentra el AIC mínimo tras probar con diferentes combinaciones."
   ]
  },
  {
   "cell_type": "code",
   "execution_count": null,
   "metadata": {},
   "outputs": [],
   "source": [
    "library(MASS)\n",
    "datadf<-data.frame(y=Y,x=x)\n",
    "model<-lm(formula=y~x+I(x^2)+I(x^3)+I(x^4)+I(x^5)+I(x^6)+I(x^7)+I(x^8),datadf)\n",
    "stepAIC(model,trace=FALSE)"
   ]
  },
  {
   "cell_type": "code",
   "execution_count": null,
   "metadata": {},
   "outputs": [],
   "source": []
  },
  {
   "cell_type": "code",
   "execution_count": null,
   "metadata": {},
   "outputs": [],
   "source": [
    "modelOptim<-#completar\n",
    "modelOptim\n",
    "plot(X[,2],Y,pch='*')\n",
    "\n",
    "xp<-seq(-10,10,by=0.1)\n",
    "yp<-predict(modelOptim,data.frame(x=xp))\n",
    "lines(xp,yp,col=\"blue\")\n",
    "\n",
    "modelPoly3<-lm(Y~x+I(x^2)+I(x^3))\n",
    "lines(xp,predict(modelPoly3,data.frame(x=xp)),col=\"red\")\n",
    "\n",
    "legend(-10,800,c(\"polinomio menor AIC\",\"polinomio grado 3\"),pch='-',col=c('blue','red'),y.intersp=2)"
   ]
  },
  {
   "cell_type": "code",
   "execution_count": null,
   "metadata": {},
   "outputs": [],
   "source": [
    "summary(modelOptim)\n",
    "summary(modelPoly3)"
   ]
  },
  {
   "cell_type": "markdown",
   "metadata": {},
   "source": [
    "Aunque el error sea menor con el polinomio de grado 24, es mejor utilizar el modelo con un el polinomio de grado 3. Porque el modelo de grado 24 está aprendiendo sobre el ruido."
   ]
  },
  {
   "cell_type": "markdown",
   "metadata": {},
   "source": [
    "### Ejemplo: Evolución de la población en España\n",
    "\n",
    "Volvamos a la distribución por edad de la población española comienzos de 2020. Podemos ver como el número de personas de más de 41 años parece ser representado más o menos por una línea:"
   ]
  },
  {
   "cell_type": "code",
   "execution_count": null,
   "metadata": {},
   "outputs": [],
   "source": [
    "poblacion_raw<-read.csv(\"data/9663bsc.csv\",skip=0,fileEncoding=\"ISO-8859-1\",header=T, sep=';',stringsAsFactor=F)\n",
    "poblacion_raw$Total <-  as.numeric(gsub('\\\\.', '', poblacion_raw$Total))\n",
    "\n",
    "library(dplyr)\n",
    "library(tidyr)\n",
    "\n",
    "poblacion <- poblacion_raw %>% pivot_wider(names_from = Sexo, values_from = Total)  %>% \n",
    " mutate(edad=as.numeric(gsub(\"año(s|)\",\"\",Edad.simple))) %>% drop_na() %>% select(-c(Periodo,Edad.simple)) %>%\n",
    " rename(Total='Ambos sexos') %>% arrange(edad) %>% mutate(nacimiento=2019-edad) %>% filter(edad>43)\n",
    "\n",
    "head(poblacion)"
   ]
  },
  {
   "cell_type": "code",
   "execution_count": null,
   "metadata": {},
   "outputs": [],
   "source": [
    "ggplot(data=poblacion,aes(x=edad,y=Total))+geom_line()\n",
    "\n",
    "model<-lm(data=poblacion,Total~poly(edad,12))\n",
    "#model<-lm(data=poblacion,Total~edad+I(edad^2)+I(edad^3)+I(edad^4)+I(edad^5)+I(edad^6)+I(edad^7)+I(edad^8)+I(edad^9)+I(edad^11))\n",
    "summary(model)"
   ]
  },
  {
   "cell_type": "code",
   "execution_count": null,
   "metadata": {},
   "outputs": [],
   "source": [
    "library(MASS)\n",
    "model_optim<-stepAIC(model,trace=FALSE,direction = \"both\")\n",
    "model_optim"
   ]
  },
  {
   "cell_type": "code",
   "execution_count": null,
   "metadata": {},
   "outputs": [],
   "source": [
    "model<-lm(data=poblacion,Total~edad+I(edad^2)+I(edad^3)+I(edad^4)+I(edad^5)+I(edad^6)+I(edad^7)+I(edad^8)+I(edad^9))\n",
    "summary(model)"
   ]
  },
  {
   "cell_type": "code",
   "execution_count": null,
   "metadata": {},
   "outputs": [],
   "source": [
    "poblacion$predicted <- predict(model,poblacion)\n",
    "ggplot(data=poblacion,aes(x=edad))+geom_point(aes(y=Total))+\n",
    " geom_line(aes(y=predicted),color=\"blue\")\n"
   ]
  },
  {
   "cell_type": "markdown",
   "metadata": {},
   "source": [
    "Pero si nos fijamos con detenimiento en el residuo, la diferencia entre el valor real y el esperado, podemos ver como todavía hoy se puede ver que los primero años de la postguerra hubo menos nacimientos."
   ]
  },
  {
   "cell_type": "code",
   "execution_count": null,
   "metadata": {},
   "outputs": [],
   "source": [
    "ggplot(data=poblacion,aes(x=nacimiento,y=Total-predicted))+geom_point(color=\"black\")+\n",
    " geom_line(color=\"blue\")\n"
   ]
  },
  {
   "cell_type": "markdown",
   "metadata": {},
   "source": [
    "### Regresión con variables categóricas\n",
    "\n"
   ]
  },
  {
   "cell_type": "markdown",
   "metadata": {},
   "source": [
    "Dataset de automóviles y seguros.\n",
    "\n",
    "https://archive.ics.uci.edu/ml/datasets/Automobile"
   ]
  },
  {
   "cell_type": "code",
   "execution_count": null,
   "metadata": {},
   "outputs": [],
   "source": [
    "autos<-read.csv(\"./data//imports-85.data\", col.names = c(\"risk\", \"normalized_losses\", \n",
    "                                                         \"make\", \"fuel_type\", \"aspiration\",\n",
    "           \"num_doors\", \"body_style\", \"drive_wheels\", \"engine_location\",\n",
    "           \"wheel_base\", \"length\", \"width\", \"height\", \"curb_weight\",\n",
    "           \"engine_type\", \"num_cylinders\", \"engine_size\", \"fuel_system\",\n",
    "           \"bore\", \"stroke\", \"compression_ratio\", \"horsepower\", \"peak_rpm\",\n",
    "           \"city_mpg\", \"highway_mpg\", \"price\"), stringsAsFactor=T)\n",
    "autos<-autos[,c(\"price\",\"horsepower\",\"length\",\"width\",\"body_style\",\"risk\")]\n",
    "autos$horsepower[autos$horsepower==\"?\"]<-NA\n",
    "autos$horsepower<-as.numeric(autos$horsepower)\n",
    "autos$price<-as.numeric(autos$price)"
   ]
  },
  {
   "cell_type": "code",
   "execution_count": null,
   "metadata": {},
   "outputs": [],
   "source": [
    "levels(autos$body_style)"
   ]
  },
  {
   "cell_type": "code",
   "execution_count": null,
   "metadata": {},
   "outputs": [],
   "source": [
    "aggregate(risk~body_style,autos,mean,na.rm=TRUE)"
   ]
  },
  {
   "cell_type": "code",
   "execution_count": null,
   "metadata": {},
   "outputs": [],
   "source": [
    "table(autos$body_style)"
   ]
  },
  {
   "cell_type": "code",
   "execution_count": null,
   "metadata": {},
   "outputs": [],
   "source": [
    "library(ggplot2)\n",
    "options(repr.plot.height=4,repr.plot.width=6)\n",
    "ggplot(autos,aes(y=horsepower,color=body_style))+geom_boxplot()"
   ]
  },
  {
   "cell_type": "code",
   "execution_count": null,
   "metadata": {},
   "outputs": [],
   "source": [
    "model<-(lm(formula=risk ~ horsepower+body_style,data=autos))\n",
    "summary(model)"
   ]
  },
  {
   "cell_type": "code",
   "execution_count": null,
   "metadata": {},
   "outputs": [],
   "source": [
    "predict(model,data.frame(horsepower=20,body_style='hardtop'))-\n",
    "predict(model,data.frame(horsepower=20,body_style='convertible'))"
   ]
  },
  {
   "cell_type": "markdown",
   "metadata": {
    "collapsed": true
   },
   "source": [
    "# Clasificación - Regresión logística\n",
    "\n",
    "Si lo que tenemos son dos grupos y queremos realizar una clasificación, tenemos que realizar ciertas modificaciones a la regresión lineal.\n",
    "\n",
    "\n",
    "\n",
    "\n",
    "La fórmula de la regresión lineal es:\n",
    "\\\\[\n",
    "\\hat{Y}=\\beta_1 X_1+\\beta_2 X_2+\\cdots +\\beta_p X_p = \\sum \\beta_k X_k\n",
    "\\\\]\n",
    "\n",
    "Podemos tratar de asignar una probabilidad \n",
    "\n",
    "Pero hay un problema porque esta regresión va entre \n"
   ]
  },
  {
   "cell_type": "markdown",
   "metadata": {
    "collapsed": true
   },
   "source": [
    "Por ejemplo: Trabajamos en un maderera y queremos saber si un tronco es de un abedul o de un abeto basándonos únicamente en el diametro y la longitud del tronco.\n",
    "\n"
   ]
  },
  {
   "cell_type": "code",
   "execution_count": null,
   "metadata": {},
   "outputs": [],
   "source": [
    "library(ggplot2)\n",
    "options(repr.plot.height=4,repr.plot.width=6)\n",
    "\n",
    "arboles<-read.csv(\"data/arboles.csv\")\n",
    "ggplot(arboles,aes(x=diametro,y=longitud,color=especie))+geom_point(size=0.3)"
   ]
  },
  {
   "cell_type": "markdown",
   "metadata": {
    "collapsed": true
   },
   "source": [
    "Podemos hacer una clasificación con un modelo lineal donde creamos una nueva columna *especie.n* y le asignamos:\n",
    "* abeto  = 1\n",
    "* abedul = -1\n",
    "\n",
    "Utilizamos un modelo lineal tal que:\n",
    "\\\\[\n",
    "  especie = \\beta_0+\\beta_1·diametro+\\beta_2·longitud\n",
    "\\\\]\n",
    "\n",
    "Entonces:\n",
    "* si especie >= 0 es un abeto\n",
    "* si especie <  0es un abedul\n",
    "\n",
    "La recta que marcará el umbral será:\n",
    "\\\\[\n",
    "\\begin{split}    \n",
    "  0 &= \\beta_0+\\beta_1·diametro+\\beta_2·longitud \\\\\n",
    "  -\\beta_2 longitud &= \\beta_0+\\beta_1·diametro\\\\\n",
    "  longitud &= \\frac{-\\beta_0}{\\beta_2}-\\frac{\\beta_1}{\\beta_2}·diametro\n",
    "\\end{split}  \n",
    "\\\\]\n",
    "\n"
   ]
  },
  {
   "cell_type": "code",
   "execution_count": null,
   "metadata": {},
   "outputs": [],
   "source": [
    "arboles$especie.n[arboles$especie==\"abeto\"] <-   1\n",
    "arboles$especie.n[arboles$especie==\"abedul\"]<-  -1\n",
    "\n",
    "itrain<-sample(1:nrow(arboles),round(nrow(arboles)*0.7))\n",
    "arboles.train<-arboles[itrain,]\n",
    "arboles.test<-arboles[-itrain,]\n",
    "\n",
    "\n",
    "modellm<-lm(data=arboles.train,formula=especie.n~diametro+longitud)\n",
    "beta<-modellm$coefficients\n",
    "\n",
    "ggplot(arboles.train,aes(x=diametro,y=longitud,color=especie))+geom_point(size=0.3)+\n",
    " geom_abline(intercept = -beta[1]/beta[3],slope = -beta[2]/beta[3], color=\"red\" )"
   ]
  },
  {
   "cell_type": "markdown",
   "metadata": {},
   "source": [
    "Pero esto no es del todo correcto porque los datos **NO** siguen una distribución gaussiana. \n",
    "Cada iteración, cada línea del dataframe, cada árbol medido, podría seguir una distribución de bernoulli.\n",
    "Es un abeto con probabilidad p o es un abedul con probabilidad (1-p). Esto se puede generalizar con una distribución binomial que indique la probabilidad de que n troncos sean abedules.\n",
    "\n",
    "\n",
    "Para pasar del dominio de números reales $(-\\infty,\\infty)$ al de probabilidades $[0,1]$ a vamos a utilizar la **función logística**:\n",
    "\\\\[\n",
    "h(x) = \\frac{1}{1+e^{-x}}\n",
    "\\\\]\n",
    "Su inversa se conoce como la función **logit**:\n",
    "\\\\[\n",
    "h^{-1}(p) = log \\left( \\frac{p}{1-p} \\right)\n",
    "\\\\]"
   ]
  },
  {
   "cell_type": "code",
   "execution_count": null,
   "metadata": {},
   "outputs": [],
   "source": [
    "x<-seq(-10,10,length.out = 100)\n",
    "y<-1/(1+exp(-x))\n",
    "plot(x,y,t=\"l\")"
   ]
  },
  {
   "cell_type": "markdown",
   "metadata": {},
   "source": [
    "Es decir, tenemos una probabilidad, su valor está en el rango $[0,1]$:\n",
    "\\\\[\n",
    "    p = \\frac{1}{1-e^{-\\hat{Y}}}= \\frac{1}{1-e^{-(\\beta_1 X_1+\\beta_2 X_2+\\cdots +\\beta_p X_p)}}   \n",
    "\\\\]\n",
    "\n",
    "Definimos la razón de monomios (Odds ratio) como el cociente entre dos probabilidades, su valor está en el rango $[0,\\infty]$:\n",
    "\\\\[\n",
    " Odds = \\frac{p}{1-p}=\\frac{\\frac{1}{1-e^{-(\\beta_1 X_1+\\beta_2 X_2+\\cdots +\\beta_p X_p)}}}{\\frac{e^{-(\\beta_1 X_1+\\beta_2 X_2+\\cdots +\\beta_p X_p)}}{1-e^{-(\\beta_1 X_1+\\beta_2 X_2+\\cdots +\\beta_p X_p)}}}=e^{(\\beta_1 X_1+\\beta_2 X_2+\\cdots +\\beta_p X_p)}\n",
    "\\\\]\n",
    "\n",
    "Si aplicamos el logaritmo a la razón de monomios tenemos un valor que está en el rango $[-\\infty,\\infty]$:\n",
    "\\\\[\n",
    " log(Odds) = \\beta_1 X_1+\\beta_2 X_2+\\cdots +\\beta_p X_p\n",
    "\\\\]\n",
    "\n"
   ]
  },
  {
   "cell_type": "markdown",
   "metadata": {},
   "source": [
    "Podemos repetir el ejercicio de antes poniendo el umbral en 0 igualmente pero con regresión logística:"
   ]
  },
  {
   "cell_type": "code",
   "execution_count": null,
   "metadata": {},
   "outputs": [],
   "source": [
    "model<-glm(data=arboles.train,formula=especie~diametro+longitud,family=binomial(link='logit'))\n",
    "betalg<-model$coefficients\n",
    "\n",
    "ggplot(arboles.train,aes(x=diametro,y=longitud,color=especie))+geom_point(size=0.3)+\n",
    " geom_abline(intercept = -beta[1]/beta[3],slope = -beta[2]/beta[3], color=\"red\" )    +\n",
    " geom_abline(intercept = -betalg[1]/betalg[3],slope = -betalg[2]/betalg[3], color=\"blue\" )    "
   ]
  },
  {
   "cell_type": "markdown",
   "metadata": {},
   "source": [
    "### Ejemplo: Peso de los niños al nacer\n",
    "\n",
    "Este dataset contien información de bebes recien nacidos y sus padres. \n",
    "Podemos usarlo como clasificación para ver cuales son los factores que más afectan al niño en función de si la madre es o no fumadora.\n",
    "\n",
    "Tenemos las siguientes variables que vamos a utilizar:\n",
    "\n",
    "|Nombre|Variable|\n",
    "|-|-|\n",
    "|Birthweight| Peso al nacer (libras)|\n",
    "|Gestation| Semanas que duró la gestación|\n",
    "|motherage| Edad de la madre|\n",
    "|smoker| Madre fumadora 0/1|\n"
   ]
  },
  {
   "cell_type": "code",
   "execution_count": null,
   "metadata": {},
   "outputs": [],
   "source": [
    "bwt<-read.csv(\"data/birthweight_reduced.csv\")\n",
    "bwt$smoker <- factor(bwt$smoker,labels=c(\"No\",\"Yes\"))\n",
    "str(bwt)"
   ]
  },
  {
   "cell_type": "code",
   "execution_count": null,
   "metadata": {},
   "outputs": [],
   "source": [
    "model <- glm(data=bwt, formula = smoker~Birthweight + Gestation, family=binomial())\n",
    "summary(model)"
   ]
  },
  {
   "cell_type": "code",
   "execution_count": null,
   "metadata": {},
   "outputs": [],
   "source": [
    "betalg <- model$coefficients\n",
    "ggplot(data=bwt, aes(x=Birthweight ,y=Gestation, color=smoker))+geom_point()+\n",
    " geom_abline(intercept=-betalg[1]/betalg[3], slope=-betalg[2]/betalg[3],color=\"blue\")"
   ]
  },
  {
   "cell_type": "markdown",
   "metadata": {},
   "source": [
    "Vemos que el valor que más influye en si la madre es fumadora o no es en el peso del niño al nacer. No parece que afecte mucho al tiempo de gestación.\n",
    "\n",
    "Podemos calcular la probabilidad de que la madre sea fumadora mirando el peso del niño y los coeficientes de la regresión logística:\n",
    "\\\\[\n",
    "    p = \\frac{1}{1-e^{-\\hat{Y}}}= \\frac{1}{1-e^{-(\\beta_0+\\beta_1 · peso)}}   \n",
    "\\\\]\n"
   ]
  },
  {
   "cell_type": "code",
   "execution_count": null,
   "metadata": {},
   "outputs": [],
   "source": [
    "model <- glm(data=bwt, formula = smoker~Birthweight , family=binomial())\n",
    "model$coefficients\n",
    "\n",
    "peso<-seq(4,10,length.out=100)\n",
    "p <- 1/(1+exp(-(model$coefficients[1]+peso*model$coefficients[2])))\n",
    "plot(peso,p,t=\"l\",xlab=\"Peso del niño\")"
   ]
  },
  {
   "cell_type": "code",
   "execution_count": null,
   "metadata": {},
   "outputs": [],
   "source": [
    "pesoLibras <- 5\n",
    "pesoKg <- pesoLibras*0.453592\n",
    "ods <- predict(model,data.frame(Birthweight=pesoLibras))\n",
    "print(paste(\"Para un peso de\",pesoKg,\"Kg es\",exp(ods),\n",
    "            \"veces más probable que la madre sea fumadora\"))\n",
    "print(paste(\"Para un peso de\",pesoKg,\n",
    "            \"Kg la probabilidad de que la madre sea fumadora es de\",exp(ods)/(1+exp(ods))))\n"
   ]
  },
  {
   "cell_type": "markdown",
   "metadata": {},
   "source": [
    "Otra forma de verlo es decir que cada libra que pesa el niño, la razón de probabilidades  de que la madre se fumadora respecto a la que no lo es:\n",
    "\\\\[\n",
    "log(\\frac{p}{1-p})=\\beta_0+\\beta_1 · peso\n",
    "\\\\]\n",
    "\\\\[\n",
    "\\frac{p}{1-p}=e^{\\beta_0}·e^{\\beta_1 · peso}\n",
    "\\\\]\n",
    "Por cada unidad que aumenta el peso, el la razón de probabilidades aumenta $e^{\\beta_1}$"
   ]
  },
  {
   "cell_type": "code",
   "execution_count": null,
   "metadata": {},
   "outputs": [],
   "source": [
    "peso1 <- 9\n",
    "peso2 <- 10\n",
    "\n",
    "p1 <- 1/(1+exp(-(model$coefficients[1]+peso1*model$coefficients[2])))\n",
    "p2 <- 1/(1+exp(-(model$coefficients[1]+peso2*model$coefficients[2])))\n",
    "\n",
    "(p2/(1-p2))/(p1/(1-p1))"
   ]
  },
  {
   "cell_type": "code",
   "execution_count": null,
   "metadata": {},
   "outputs": [],
   "source": [
    "exp(model$coefficients[2])"
   ]
  },
  {
   "cell_type": "markdown",
   "metadata": {
    "collapsed": true
   },
   "source": [
    "### Censo\n",
    "\n",
    "Dataset de: https://archive.ics.uci.edu/ml/datasets/adult\n",
    "\n",
    "* age: continuous. \n",
    "* workclass: Private, Self-emp-not-inc, Self-emp-inc, Federal-gov, Local-gov, State-gov, Without-pay, Never-worked. \n",
    "* fnlwgt: continuous. \n",
    "* education: Bachelors, Some-college, 11th, HS-grad, Prof-school, Assoc-acdm, Assoc-voc, 9th, 7th-8th, 12th, Masters, 1st-4th, 10th, Doctorate, 5th-6th, Preschool. \n",
    "* education-num: continuous. \n",
    "* marital-status: Married-civ-spouse, Divorced, Never-married, Separated, Widowed, Married-spouse-absent, Married-AF-spouse. \n",
    "* occupation: Tech-support, Craft-repair, Other-service, Sales, Exec-managerial, Prof-specialty, Handlers-cleaners, Machine-op-inspct, Adm-clerical, Farming-fishing, Transport-moving, Priv-house-serv, Protective-serv, Armed-Forces. \n",
    "* relationship: Wife, Own-child, Husband, Not-in-family, Other-relative, Unmarried. \n",
    "* race: White, Asian-Pac-Islander, Amer-Indian-Eskimo, Other, Black. \n",
    "* sex: Female, Male. \n",
    "* capital-gain: continuous. \n",
    "* capital-loss: continuous. \n",
    "* hours-per-week: continuous. \n",
    "* native-country: United-States, Cambodia, England, Puerto-Rico, Canada, Germany, Outlying-US(Guam-USVI-etc), India, Japan, Greece, South, China, Cuba, Iran, Honduras, Philippines, Italy, Poland, Jamaica, Vietnam, Mexico, Portugal, Ireland, France, Dominican-Republic, Laos, Ecuador, Taiwan, Haiti, Columbia, Hungary, Guatemala, Nicaragua, Scotland, Thailand, Yugoslavia, El-Salvador, Trinadad&Tobago, Peru, Hong, Holand-Netherlands."
   ]
  },
  {
   "cell_type": "code",
   "execution_count": null,
   "metadata": {},
   "outputs": [],
   "source": [
    "adult<-read.csv(\"data/adult.data.txt\",\n",
    "                col.names=c(\"age\",\"workclass\",\"fnlwgt\",\"education\",\"education-num\",\"marital-status\",\n",
    "                           \"occupation\",\"relationship\",\"race\",\"sex\",\"capital-gain\",\"capital-loss\",\"hours-per-week\",\n",
    "                           \"native-country\",\"50k\"), stringsAsFactor=T)\n",
    "\n",
    "str(adult)"
   ]
  },
  {
   "cell_type": "code",
   "execution_count": null,
   "metadata": {},
   "outputs": [],
   "source": [
    "levels(adult$education)\n",
    "numlevels<-length(levels(adult$education))\n",
    "adult$education<-factor(adult$education,levels(adult$education)[c(4,5,6,7,1,2,3,8:numlevels)])"
   ]
  },
  {
   "cell_type": "code",
   "execution_count": null,
   "metadata": {},
   "outputs": [],
   "source": [
    "levels(adult$education)\n"
   ]
  },
  {
   "cell_type": "code",
   "execution_count": null,
   "metadata": {},
   "outputs": [],
   "source": [
    "model <- glm(data=adult, formula=X50k ~ age+education+sex, family = binomial())\n",
    "model"
   ]
  },
  {
   "cell_type": "code",
   "execution_count": null,
   "metadata": {},
   "outputs": [],
   "source": [
    "paste(\"Un hombre tiene \",exp(model$coefficients[\"sex Male\"]),\"veces más posibilidades de ganar más de 50k$ que una mujer\")\n"
   ]
  },
  {
   "cell_type": "code",
   "execution_count": null,
   "metadata": {},
   "outputs": [],
   "source": [
    "paste(\"Cada año que pasa hay \",exp(model$coefficients[\"age\"]),\"veces más posibilidades de ganar más de 50k$\")\n"
   ]
  },
  {
   "cell_type": "code",
   "execution_count": null,
   "metadata": {},
   "outputs": [],
   "source": [
    "paste(\"Una persona con Master tiene \",exp(model$coefficients[\"education Masters\"]),\"veces más posibilidades de ganar más de 50k$ que alguien con solo 1st-4th\")"
   ]
  },
  {
   "cell_type": "code",
   "execution_count": null,
   "metadata": {},
   "outputs": [],
   "source": [
    "adult_master<-subset(adult,education==\" Masters\")\n",
    "model <- glm(data=adult_master, formula=X50k ~ age+sex, family = binomial())\n",
    "summary(model)"
   ]
  },
  {
   "cell_type": "code",
   "execution_count": null,
   "metadata": {},
   "outputs": [],
   "source": [
    "model <- glm(data=adult_master, formula=X50k ~ age*sex, family = binomial())\n",
    "summary(model)"
   ]
  },
  {
   "cell_type": "code",
   "execution_count": null,
   "metadata": {},
   "outputs": [],
   "source": [
    "confint(model)"
   ]
  },
  {
   "cell_type": "code",
   "execution_count": null,
   "metadata": {},
   "outputs": [],
   "source": []
  },
  {
   "cell_type": "markdown",
   "metadata": {},
   "source": [
    "## Dataset Anscombe\n",
    "\n",
    "Este dataset nos muestra que no nos podemos fiar simplemente por los estimadores de las variables, la representación gráfica nos proporciona una visión más completa.\n",
    "\n",
    "Existen datasets similares como el datasaurio:\n",
    "https://www.autodesk.com/research/publications/same-stats-different-graphs"
   ]
  },
  {
   "cell_type": "code",
   "execution_count": null,
   "metadata": {},
   "outputs": [],
   "source": [
    "library(datasets)\n",
    "anscombe"
   ]
  },
  {
   "cell_type": "code",
   "execution_count": null,
   "metadata": {},
   "outputs": [],
   "source": [
    "mean(anscombe$y1)\n",
    "mean(anscombe$y2)\n",
    "mean(anscombe$y3)\n",
    "mean(anscombe$y4)"
   ]
  },
  {
   "cell_type": "code",
   "execution_count": null,
   "metadata": {},
   "outputs": [],
   "source": [
    "var(anscombe$y1)\n",
    "var(anscombe$y2)\n",
    "var(anscombe$y3)\n",
    "var(anscombe$y4)"
   ]
  },
  {
   "cell_type": "code",
   "execution_count": null,
   "metadata": {},
   "outputs": [],
   "source": [
    "library(ggplot2)\n",
    "options(repr.plot.height=3,repr.plot.width=4 , repr.plot.res = 400)\n",
    "\n",
    "ggplot(anscombe)+\n",
    " geom_point(aes(x=x1,y=y1),color=\"red\")+\n",
    " geom_point(aes(x=x2,y=y2),color=\"green\")+\n",
    " geom_point(aes(x=x3,y=y3),color=\"blue\")+\n",
    " geom_point(aes(x=x4,y=y4),color=\"black\")"
   ]
  },
  {
   "cell_type": "code",
   "execution_count": null,
   "metadata": {},
   "outputs": [],
   "source": [
    "library(grid)\n",
    "library(gridExtra)\n",
    "options(repr.plot.height=4,repr.plot.width=8 , repr.plot.res = 200)\n",
    "\n",
    "g1<-ggplot(anscombe,aes(x=x1,y=y1))+geom_point(color=\"red\")+geom_smooth(method=\"lm\",color=\"grey\",se=F)\n",
    "g2<-ggplot(anscombe,aes(x=x2,y=y2))+geom_point(color=\"blue\")+geom_smooth(method=\"lm\",color=\"grey\",se=F)\n",
    "g3<-ggplot(anscombe,aes(x=x3,y=y3))+geom_point(color=\"blue\")+geom_smooth(method=\"lm\",color=\"grey\",se=F)\n",
    "g4<-ggplot(anscombe,aes(x=x4,y=y4))+geom_point(color=\"blue\")+geom_smooth(method=\"lm\",color=\"grey\",se=F)\n",
    " \n",
    "\n",
    "grid.arrange(g1, g2, g3, g3,nrow = 2,top = textGrob(\"Anscombe dataset\",gp=gpar(fontsize=20,font=3)))"
   ]
  },
  {
   "cell_type": "markdown",
   "metadata": {},
   "source": [
    "# Distribución conjunta\n",
    "\n",
    "La distribución conjunta de dos variables A y B se refiere a la distribución de probabilidad de la intersección de ambos eventos.\n",
    "Se representa como P(B,A) o  P(B $\\cap$ A)"
   ]
  },
  {
   "cell_type": "markdown",
   "metadata": {},
   "source": [
    "## Variables discretas\n",
    "\n",
    "\n",
    "AVISO: ESTOS DATOS SON PURAMENTE INVENTADOS\n",
    "\n",
    "Imagina que tenemos una tabla de contingencia que presenta el número de personas que les gusta Star Trek o StarWars función del sexo:"
   ]
  },
  {
   "cell_type": "code",
   "execution_count": null,
   "metadata": {},
   "outputs": [],
   "source": [
    "tbl<-as.table(matrix(c(122,58,214,120),dimnames = list(c(\"Star Trek\",\"Star Wars\"),c(\"Mujeres\",\"Hombres\")),nrow=2))\n",
    "tbl"
   ]
  },
  {
   "cell_type": "markdown",
   "metadata": {},
   "source": [
    "**Probabilidad marginal**\n",
    "\n",
    "En esta población, ¿Cual es la probabilidad de que a alguien le guste Star Wars?\n",
    "\\\\[\n",
    "P(\\text{Star Wars})=\\frac{58+120}{122+214+58+120}=0.34\n",
    "\\\\]"
   ]
  },
  {
   "cell_type": "code",
   "execution_count": null,
   "metadata": {},
   "outputs": [],
   "source": [
    "print(\"La probabilidad de que a alguien le gusta Star Trek o Star Wars es:\")\n",
    "rowSums(tbl)/sum(tbl)"
   ]
  },
  {
   "cell_type": "markdown",
   "metadata": {},
   "source": [
    "**Probabilidad conjunta**\n",
    "\n",
    "¿Cual es la probabilidad de que a un hombre le guste starwars?\n",
    "\\\\[\n",
    "P(\\text{Hombre,Star Wars})=\\frac{120}{122+214+58+120}=0.233\n",
    "\\\\]"
   ]
  },
  {
   "cell_type": "code",
   "execution_count": null,
   "metadata": {},
   "outputs": [],
   "source": [
    "print(\"La matriz de la probabilidad conjunta es:\")\n",
    "prop.table(tbl)"
   ]
  },
  {
   "cell_type": "markdown",
   "metadata": {},
   "source": [
    "**Probabilidad condicional**\n",
    "\n",
    "Suponiendo que nos fijemos solamente en los hombres, ¿cual es la probabilidad de que Star Wars sea la película más interesante?\n",
    "\n",
    "\\\\[\n",
    "P(\\text{Star Wars|Hombre})=\\frac{120}{214+120}=0.359\n",
    "\\\\]\n"
   ]
  },
  {
   "cell_type": "code",
   "execution_count": null,
   "metadata": {},
   "outputs": [],
   "source": [
    "print(\"La matriz condicional para mujeres y hombres:\")\n",
    "prop.table(tbl,margin = 2)"
   ]
  },
  {
   "cell_type": "markdown",
   "metadata": {},
   "source": [
    "Suponiendo que nos fijemos solamente en los fans de Star Wars, ¿cual es la probabilidad de que el fan sea hombre?\n",
    "\n",
    "\\\\[\n",
    "P(\\text{Hombre|Star Wars})=\\frac{120}{120+58}=0.674\n",
    "\\\\]"
   ]
  },
  {
   "cell_type": "code",
   "execution_count": null,
   "metadata": {},
   "outputs": [],
   "source": [
    "print(\"La matriz condicional para Star Trek y Star Wars :\")\n",
    "prop.table(tbl,margin = 1)"
   ]
  },
  {
   "cell_type": "markdown",
   "metadata": {},
   "source": [
    "**Propiedades**\n",
    "\\\\[\n",
    "\\begin{split}\n",
    "P(\\text{Star Wars,Hombre})&=P(\\text{Hombre,Star Wars}) \\\\\n",
    "P(\\text{Hombre,Star Wars})&=P(\\text{Hombre|Star Wars})·P(\\text{Star Wars}) \\\\\n",
    "P(\\text{Star Wars,Hombre})&=P(\\text{Star Wars|Hombre})·P(\\text{Hombre})\n",
    "\\end{split}\n",
    "\\\\]"
   ]
  },
  {
   "cell_type": "markdown",
   "metadata": {},
   "source": [
    "## Variables continuas\n",
    "\n",
    "### Dos variables independientes\n",
    "\n",
    "En este caso: \n",
    "P(B,A)=P(B)·P(A)\n",
    "\n",
    "Es fácil verlo porque su matriz de covarianza se parece a una matriz diagonal."
   ]
  },
  {
   "cell_type": "code",
   "execution_count": null,
   "metadata": {},
   "outputs": [],
   "source": [
    "N<-10000\n",
    "A<-rnorm(N,mean=0,sd=0.5)\n",
    "B<-rnorm(N,mean=0,sd=1)\n",
    "df<-data.frame(A,B)\n",
    "\n",
    "print(paste(\"Matriz de covarianza:\"))\n",
    "cov(df)\n",
    "\n",
    "library(ggplot2)\n",
    "ggplot(df, aes(x=A, y=B))+geom_density2d(aes(colour=..level..)) + \n",
    "  stat_density2d(aes(fill=..level..,alpha=..level..),geom='polygon',colour='black') + \n",
    "  scale_fill_continuous(low=\"green\",high=\"red\") +    \n",
    "  geom_point(alpha=0.2,size=0.1)+\n",
    "  theme_bw()+theme(legend.position=\"none\")+xlim(c(-5,5))+ylim(c(-5,5))"
   ]
  },
  {
   "cell_type": "markdown",
   "metadata": {},
   "source": [
    "Como son independientes, la probabilidad condicional de B respecto a A es igual a la probabilidad de B\n",
    "\n",
    "P(B|A)=P(B)"
   ]
  },
  {
   "cell_type": "code",
   "execution_count": null,
   "metadata": {},
   "outputs": [],
   "source": [
    "dfPartialProbs<-data.frame(B=B,var=\"P(B)\")\n",
    "dfPartialProbs<-rbind(dfPartialProbs,data.frame(B=df$B[df$A>-0.5 & df$A<0.5],var=\"P(B|-0.5<A<0.5)\"))\n",
    "\n",
    "\n",
    "ggplot(dfPartialProbs, aes(x=B,color=var))+geom_density()+\n",
    "  theme_bw()"
   ]
  },
  {
   "cell_type": "markdown",
   "metadata": {},
   "source": [
    "### Dos variables dependientes\n",
    "\n",
    "En este caso: \n",
    "P(B,A)=P(B|A)·P(A)=P(A,B)=P(A|B)·P(B)\n",
    "\n",
    "En este caso la matriz de covarianza no es diagonal."
   ]
  },
  {
   "cell_type": "code",
   "execution_count": null,
   "metadata": {},
   "outputs": [],
   "source": [
    "N<-10000\n",
    "A<-rnorm(N,mean=0,sd=2)\n",
    "B<-A+rnorm(N,mean=0,sd=2)\n",
    "df<-data.frame(A,B)\n",
    "\n",
    "print(paste(\"Matriz de covarianza:\"))\n",
    "cov(df)\n",
    "\n",
    "library(ggplot2)\n",
    "ggplot(df, aes(x=A, y=B))+geom_density2d(aes(colour=..level..)) + \n",
    "  stat_density2d(aes(fill=..level..,alpha=..level..),geom='polygon',colour='black') + \n",
    "  scale_fill_continuous(low=\"green\",high=\"red\") +    \n",
    "  geom_point(alpha=0.1,size=0.1)+\n",
    "  theme_bw()+theme(legend.position=\"none\")+xlim(c(-10,10))+ylim(c(-10,10))"
   ]
  },
  {
   "cell_type": "markdown",
   "metadata": {},
   "source": [
    "Como son dependientes, la probabilidad condicional de B respecto a A es diferente a la probabilidad de B\n",
    "\\\\[\n",
    "P(B|A) \\neq P(B)\n",
    "\\\\]"
   ]
  },
  {
   "cell_type": "code",
   "execution_count": null,
   "metadata": {},
   "outputs": [],
   "source": [
    "dfPartialProbs<-data.frame(B=B,var=\"P(B)\")\n",
    "dfPartialProbs<-rbind(dfPartialProbs,data.frame(B=df$B[df$A>-0.5 & df$A<0.5],var=\"P(B|-0.5<A<0.5)\"))\n",
    "\n",
    "dfPartialProbs<-rbind(dfPartialProbs,data.frame(B=df$B[df$A>3 & df$A<4],var=\"P(B|3<A<4)\"))\n",
    "\n",
    "\n",
    "ggplot(dfPartialProbs, aes(x=B,color=var))+geom_density()+\n",
    "  theme_bw()"
   ]
  },
  {
   "cell_type": "markdown",
   "metadata": {},
   "source": [
    "# Teorema de Bayes\n",
    "\n",
    "\n",
    "El teorema de Bayes describe la probabilidad de un evento basado en conocimientos previos que puede estar relacionado con el evento. Su fórmula es bastente simple:\n",
    "\\\\[\n",
    "P(A|B)=\\frac{P(B|A)·P(A)}{P(B)}=\\frac{P(B,A)}{P(B)}\n",
    "\\\\]\n",
    "donde A y B son nuestras variables aleatorias y $P(B) \\neq 0$:\n",
    "* P(A|B) es la probabilidad condicional del evento A, sabiendo que ha ocurrido B\n",
    "* P(B|A) es la probabilidad condicional del evento B, sabiendo que ha ocurrido A\n",
    "* P(A) y P(B) es la probabilidad de observar A y B de forma independiente. Es conocido como la probabilidad **marginal**.\n",
    "* P(B,A) o  P(B $\\cap$ A): es la probabilidad de que ambos eventos A y B ocurran a la vez. \n",
    " * Si son sucesos independientes P(B,A)=P(B)·P(A)\n",
    " * Si son sucesos dependientes P(B,A)=P(B|A)·P(A)\n"
   ]
  },
  {
   "cell_type": "markdown",
   "metadata": {},
   "source": [
    "![]( ./pics/bayes1.jpg )"
   ]
  },
  {
   "cell_type": "markdown",
   "metadata": {},
   "source": [
    "En la imagen anterior podemos ver dentro del cuadrado verde disparos rojos y blancos sobre un barco.\n",
    "En total hay 35 disparos, 20 rojos y 15 blancos.\n",
    "\n",
    "La probabilidad de elegir un disparo rojo al azar es:\n",
    "\\\\[\n",
    "\\begin{split}\n",
    "P(rojo)&=\\frac{20}{35}=\\frac{4}{7} \\approx  0.571 \\\\\n",
    "P(blanco)&=\\frac{15}{35}=\\frac{3}{7} \\approx  0.428\n",
    "\\end{split}\n",
    "\\\\]\n",
    "\n",
    "La probabilidad de, en ese cuadrado, acertar al barco es:\n",
    "\\\\[\n",
    "P(barco)=\\frac{4}{35} \\approx  0.114\n",
    "\\\\]\n",
    "\n",
    "Si sabemos que se ha realizado un disparo **blanco**, ¿cuál es la probabilidad de que haya dado al **barco**?\n",
    "\\\\[\n",
    "P(barco|blanco)=\\frac{3}{15} = 0.3\n",
    "\\\\]\n",
    "\n",
    "Si sabemos que se ha realizado un disparo **rojo**, ¿cuál es la probabilidad de que haya dado al **barco**?\n",
    "\\\\[\n",
    "P(barco|rojo)=\\frac{1}{20} = 0.05\n",
    "\\\\]\n",
    "\n",
    "#### Apliquemos Bayes\n",
    "\n",
    "El **barco** ha sido alcanzado por un disparo ¿Cuál es la probabilidad de que ese disparo sea **rojo**? \n",
    "\n",
    "Nos están preguntando por $P(rojo|barco)$. Conocemos P(barco|rojo), P(barco) y P(rojo), así que por el teorema de Bayes:\n",
    "\n",
    "\\\\[\n",
    "P(rojo|barco)=\\frac{P(barco|rojo)·P(rojo)}{P(barco)} =\\frac{0.05 ·\\frac{20}{35} }{\\frac{4}{35}}=\\frac{1}{4}=0.25\n",
    "\\\\]\n",
    "\n",
    "\n",
    "\n",
    "El **barco** ha sido alcanzado por un disparo ¿Cuál es la probabilidad de que ese disparo sea **blanco**? \n",
    "\n",
    "Nos están preguntando por $P(blanco|barco)$. Conocemos P(barco|blanco), P(barco) y P(blanco), así que por el teorema de Bayes:\n",
    "\n",
    "\\\\[\n",
    "P(rojo|barco)=\\frac{P(barco|blanco)·P(blanco)}{P(barco)} =\\frac{\\frac{3}{15} ·\\frac{15}{35} }{\\frac{4}{35}}=\\frac{3}{4}=0.75\n",
    "\\\\]\n",
    "\n",
    "\n",
    "#### Probabilidad conjunta\n",
    "\n",
    "¿Cual es la probabilidad de que un disparo de al **barco** y además sea **rojo**?\n",
    "\n",
    "\\\\[\n",
    "\\begin{split}\n",
    "P(barco,rojo)&=P(barco|rojo)·P(rojo)=\\frac{1}{20}·\\frac{20}{35}=\\frac{1}{35} \\\\\n",
    "P(barco,rojo)&=P(rojo|barco)·P(barco)=\\frac{1}{4}·\\frac{4}{35}=\\frac{1}{35}\n",
    "\\end{split}\n",
    "\\\\]\n"
   ]
  },
  {
   "cell_type": "markdown",
   "metadata": {},
   "source": [
    "## Arboles bayesianos\n",
    "\n",
    "Estamos en el año 2025, un terrible virus ha escapado de un laboratorio de máxima seguridad y está infectando a gente alrededor de todo el mundo convirtiendolos en zombies admiradores de [Nyan Cat](https://www.youtube.com/watch?v=QH2-TGUlwu4) aunque luego en apariencia llevan una vida normal. Se calcula que en este momento un **5% de la población** mundial está infectada.\n",
    "\n",
    "Afortunadamente existe un test al que se puede someter a un individuo para ver si está infectado o no. Pero el test no es 100% fiable, nunca se tiene tanta seguridad. Si la persona está infectada el test acertará un 99% de las veces, en cambio si no está infectada el test acertará un 98% de las veces. Esto genera la siguiente **matriz de confusión**:\n",
    "\n",
    "|. |Infectado|Sano|\n",
    "|-|-|-|\n",
    "|**Test=1**| 99%| 2% |\n",
    "|**Test=0**| 1%| 98% |\n",
    "\n",
    "\n",
    "Si elegimos una persona al azar y nuestro test dice que está infectado, ¿que posibilidades hay de que realmente esté infectado?\n",
    "Queremos saber P(Zombie=1|Test=1)\n",
    "\n",
    "Utilizando Bayes:\n",
    "\\\\[\n",
    "P(Zombie=1|Test=1)=\\frac{P(Test=1|Zombie=1)·P(Zombie=1)}{P(Test=1)}\n",
    "\\\\]\n",
    "Pero desconocemos $P(Test=1)$, aunque podemos obtenerlo mediante:\n",
    "\\\\[\n",
    "\\begin{split}\n",
    "P(Test=1)&=P(Test=1|Zombie=1)·P(Zombie=1)+P(Test=1|Zombie=0)·P(Zombie=0) \\\\\n",
    "P(Test=1)&=P(Test=1,Zombie=1)+P(Test=1,Zombie=0)\n",
    "\\end{split}\n",
    "\\\\]\n",
    "Es decir:\n",
    "\\\\[\n",
    "\\begin{split}\n",
    "P(Z=1|T=1)=\\frac{P(T=1|Z=1)·P(Z=1)}{P(T=1|Z=1)·P(Z=1)+P(T=1|Z=0)·P(Z=0)} \\\\\n",
    "P(Z=1|T=1)=\\frac{0.99·0.05}{0.99·0.05+0.02·0.95}=0.7226 \\\\\n",
    "\\end{split}\n",
    "\\\\]\n",
    "\n",
    "\n",
    "Esta misma información se puede representar con un grafo acíclico:\n",
    "\n",
    "![]( pics/bayestree1.png )"
   ]
  },
  {
   "cell_type": "markdown",
   "metadata": {},
   "source": [
    "## Análisis Causal y análisis contrafactual\n",
    "\n",
    "El análisis causal nos permite ver la relación causa efecto que hay entre diferentes variables.\n",
    "\n",
    "Veamos un ejemplo sacado del libro \"The book of why\". Imaginemos que la vacuna de la viruela que se aplica al 99% de la población.\n",
    "\n",
    "De los vacunados, un 1% desarrolla una reacción y de ese grupo un 1% fallece. Pero ninguno coge viruela.\n",
    "\n",
    "De los no vacunados, un 2% coge la enfermedad, y de esos enfermos un 20% fallece. \n",
    "\n",
    "El diagrama causal sería el siguiente:\n",
    "\n",
    "![](pics/causal_viruela.jpg)\n",
    "\n",
    "Si pintamos cada una de esas probabilidades. La probabilidad de sufrir una reacción (R) o la enfermedad (E) en función de la vacuna (V):\n",
    "\\\\[\n",
    "P(R|V)=0.01 \\\\\n",
    "P(R|\\neg V)=0 \\\\\n",
    "P(E|V)=0 \\\\\n",
    "P(E|\\neg V)=0.02\n",
    "\\\\]\n",
    "\n",
    "Las probabilidades de fallecimiento (M) en función de la reacción (R) o la enfermedad (E) son:\n",
    "\\\\[\n",
    "P(M|R)=0.01 \\\\\n",
    "P(M|E)=0.2\n",
    "\\\\]\n",
    "\n",
    "Si partimos de una población de 1 millón de personas, habrá 990.000 vacunados y 10.000 sin vacunar. De todos los vacunados fallecerán 99 personas. De los no vacunados fallecerán 40 personas.\n",
    "\n",
    "**En esta población muere más gente por las vacunas que por la enfermedad**.\n",
    "\n",
    "El análisis contrafactual trata de responder a la pregunta, si no se hubiera aplicado la vacuna. ¿Cuanta gente habría fallecido?\n",
    "\n",
    "La probabilidad de fallecer si te pones la vacuna es:\n",
    "\n",
    "\\\\[\n",
    "P(M|V) = P(M|R)·P(R|V) = 0.01·0.01 = 10^{-4}\n",
    "\\\\]\n",
    "\n",
    "La probabilidad de fallecer si NO te pones la vacuna es:\n",
    "\\\\[\n",
    "P(M|\\neg V) = P(M|E)·P(E|\\neg V) = 0.02·0.2 = 0.004\n",
    "\\\\]\n",
    "\n",
    "\n",
    "\n",
    "Si el millón de personas no se hubiera vacunado número de fallecidos sería de $10^6·0.004 = 4000$ personas. \n",
    "\n",
    "La vacuna ha salvado la vida de $4000-99-40=3861$ personas.\n"
   ]
  },
  {
   "cell_type": "markdown",
   "metadata": {},
   "source": [
    "## El problema de Monty Hall\n",
    "\n",
    "Este problema recibe su nombre tras el programa de televisión \"Let's Make a Deal\" presentado por Monty Hall en la década de 1970. El enunciado más famoso del problema, extraído de Parade Magazine en 1990:\n",
    "\n",
    "*Supón que estás en un concurso, y se te ofrece escoger entre tres puertas: detrás de una de ellas hay un coche, y detrás de las otras, cabras. Escoges una puerta, digamos la nº1, y el presentador, que sabe lo que hay detrás de las puertas, abre otra, digamos la nº3, que contiene una cabra. Entonces te pregunta: \"¿No prefieres escoger la nº2?\". ¿Es mejor para ti cambiar tu elección?*\n",
    "\n",
    "\n",
    "![]( pics/montyhall.png )\n",
    "\n",
    "\n",
    "Tenemos tres hipótesis:\n",
    "* $H_1$: El coche está tras la puerta 1\n",
    "* $H_2$: El coche está tras la puerta 2\n",
    "* $H_3$: El coche está tras la puerta 3\n",
    "\n",
    "Evidentemente, como no tenemos ningún tipo de información adicional:\n",
    "\\\\[\n",
    "P(H_1)=P(H_2)=P(H_3)=\\frac{1}{3}\n",
    "\\\\]\n",
    "\n",
    "Nuestra evidencia vendrá de Monty abriendo una puerta, evidentemente sabemos que:\n",
    "* Monty siempre abrirá una puerta de las 2 que no hayamos seleccionado.\n",
    "* Monty nunca abrirá la puerta que tenga el coche.\n",
    "\n",
    "\n",
    "Nosotros estamos interesados en la probabilidad que el coche esté detrás de una puerta utilizando nuestro conocimiento.\n",
    "\n",
    "Imaginemos que el **concursante selecciona la puerta 1**, a continuación **Monty selecciona la puerta 3**. Las siguientes **probabilidades condicionales** ocurren:\n",
    "* Condición, el coche está tras la puerta 1: Puede abrir igualmente la puerta 2 o 3\n",
    "\\\\[\n",
    "P(M_3|H_1)=\\frac{1}{2}=P(M_2|H_1)\n",
    "\\\\]\n",
    "* Condición, el coche está tras la puerta 2: Puede abrir solo la puerta 3:\n",
    "\\\\[\n",
    "P(M_3|H_2)=1\n",
    "\\\\]\n",
    "* Condición, el coche está tras la puerta 3: No podría abrir esa puerta:\n",
    "\\\\[\n",
    "P(M_3|H_3)=0\n",
    "\\\\]\n",
    "\n",
    "Desde nuestro punto de vista, la probabilidad marginal de que Monty elija la puerta 2 o 3 es la misma, porque no sabemos donde está el coche. Solo sabemos que nunca eligirá la puerta 1 porque es la que seleccionó el concursante:\n",
    "\\\\[\n",
    "P(M_2)=P(M_3)=\\frac{1}{2}\n",
    "\\\\]\n",
    "\n",
    "\n",
    "Ahora hay dos opciones, cambiar a la puerta 2 o mantenerse en la puerta 1.\n",
    "* Se mantiene en puerta 1, sabiendo que la puerta 3 no tiene premio:\n",
    "\\\\[\n",
    "P(H_1|M_3)=\\frac{P(M_3|H_1)·P(H_1)}{P(M_3)}=\\frac{\\frac{1}{2}·\\frac{1}{3}}{\\frac{1}{2}}=\\frac{1}{3}\n",
    "\\\\]\n",
    "* Se cambia a la puerta 2, sabiendo que la puerta 3 no tiene premio:\n",
    "\\\\[\n",
    "P(H_2|M_3)=\\frac{P(M_3|H_2)·P(H_2)}{P(M_3)}=\\frac{1·\\frac{1}{3}}{\\frac{1}{2}}=\\frac{2}{3}\n",
    "\\\\]\n",
    "\n",
    "Así pues se ve que la probabilidad de cambiar de puerta es 2/3, mientras que la probabilidad de mantenerse con la original es 1/3.\n"
   ]
  },
  {
   "cell_type": "code",
   "execution_count": null,
   "metadata": {},
   "outputs": [],
   "source": [
    "N<-10000\n",
    "puerta_con_premio<-floor(runif(N,min=1,max=4))\n",
    "\n",
    "seleccion_inicial_del_concursante<-floor(runif(N,min=1,max=4))\n",
    "seleccion_cambiada_del_concursante<-rep(NA,N)\n",
    "\n",
    "for (i in 1:N){\n",
    "    \n",
    "    # Monty selecciona una puerta\n",
    "    if (puerta_con_premio[i]==1){\n",
    "        if (puerta_con_premio[i]==seleccion_inicial_del_concursante[i]){\n",
    "            seleccion_monty<-ifelse(runif(1)>0.5,2,3)\n",
    "        }else{\n",
    "            seleccion_monty<-ifelse(seleccion_inicial_del_concursante[i]==3,2,3)\n",
    "        }\n",
    "    }else if (puerta_con_premio[i]==2){\n",
    "        if (puerta_con_premio[i]==seleccion_inicial_del_concursante[i]){\n",
    "            seleccion_monty<-ifelse(runif(1)>0.5,1,3)\n",
    "        }else{\n",
    "            seleccion_monty<-ifelse(seleccion_inicial_del_concursante[i]==3,1,3)\n",
    "        }        \n",
    "    }else if (puerta_con_premio[i]==3){\n",
    "        if (puerta_con_premio[i]==seleccion_inicial_del_concursante[i]){\n",
    "            seleccion_monty<-ifelse(runif(1)>0.5,1,2)\n",
    "        }else{\n",
    "            seleccion_monty<-ifelse(seleccion_inicial_del_concursante[i]==1,2,1)\n",
    "        }\n",
    "    }\n",
    "    \n",
    "    # El concursante selecciona otra puerta\n",
    "    puertas_prohibidas<-c(seleccion_monty,seleccion_inicial_del_concursante[i])\n",
    "    seleccion_cambiada_del_concursante[i]<-which(is.na(match(1:3,puertas_prohibidas)))    \n",
    "}\n",
    "\n",
    "p1<-mean(seleccion_inicial_del_concursante==puerta_con_premio)\n",
    "print(paste0(\"Si el concursante nunca cambia de puerta la probabilidad de acertar es:\",p1))\n",
    "p2<-mean(seleccion_cambiada_del_concursante==puerta_con_premio)\n",
    "print(paste0(\"Si el concursante siempre cambia de puerta la probabilidad de acertar es:\",p2))"
   ]
  }
 ],
 "metadata": {
  "kernelspec": {
   "display_name": "R",
   "language": "R",
   "name": "ir"
  },
  "language_info": {
   "codemirror_mode": "r",
   "file_extension": ".r",
   "mimetype": "text/x-r-source",
   "name": "R",
   "pygments_lexer": "r",
   "version": "4.1.0"
  }
 },
 "nbformat": 4,
 "nbformat_minor": 1
}
