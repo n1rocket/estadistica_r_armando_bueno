{
 "cells": [
  {
   "cell_type": "markdown",
   "metadata": {
    "slideshow": {
     "slide_type": "-"
    }
   },
   "source": [
    "# Bienvenidos\n",
    "\n",
    "Esto es un notebook. Podemos escribir en lenguaje Markdown, el cual nos permite:\n",
    "* Listas\n",
    "* Escribir en **negrita** y *cursiva*\n",
    "* Más información aquí: [Markdown-Cheatsheet](https://github.com/adam-p/markdown-here/wiki/Markdown-Cheatsheet)\n"
   ]
  },
  {
   "cell_type": "markdown",
   "metadata": {},
   "source": [
    "### PREGUNTAD!!\n",
    "\n",
    "Sobretodo si os perdeis, no lleguemos a casos donde no sepais que estamos haciendo.\n",
    "\n",
    "![Imagen no cargada. Edita y borra la @ ](https://memegenerator.net/img/instances/28913469.jpg)"
   ]
  },
  {
   "cell_type": "markdown",
   "metadata": {},
   "source": [
    "# Introducción\n",
    "\n",
    "![ ](diagrama_resumen.png )"
   ]
  },
  {
   "cell_type": "markdown",
   "metadata": {},
   "source": [
    "# Bibliografía \n",
    "\n",
    "Sobre **estadística**: [Practical Statistics for Data Scientists: 50 Essential Concepts](https://www.amazon.com/Practical-Statistics-Data-Scientists-Essential/dp/1491952962/ref=sr_1_3?ie=UTF8&qid=1518719786)\n",
    "\n",
    "\n",
    "Sobre **R**: [R for Data Science: Import, Tidy, Transform, Visualize, and Model Data](https://www.amazon.com/Data-Science-Transform-Visualize-Model/dp/1491910399/ref=sr_1_1?ie=UTF8&qid=1518791084) Este libro es bastante completo, abarca mucho temario que no veremos por falta de tiempo.\n",
    "\n",
    "Aplicaciones movil Android/iPhone: https://artofstat.com/art-of-stat-inference\n"
   ]
  },
  {
   "cell_type": "markdown",
   "metadata": {},
   "source": [
    "## Estadística vs Machine Learning\n",
    "\n",
    "\n",
    "Más información aquí: [Markdown-Cheatsheet](https://www.reddit.com/r/MachineLearningLounge/comments/9soaw4/let_me_fix_that_for_you/)\n",
    "\n",
    "\n",
    "* Estadística: Trata de entender las variables y su relación entre ellas. Las estadísitcas te ayudan a entender como es tu población de datos.\n",
    "\n",
    "* Machine Learning: Trata de hacer predicciones, crear modelos que, a partir de una población limitada puedan **generalizar** y aprender como se comportarán los datos.\n",
    "\n"
   ]
  },
  {
   "cell_type": "markdown",
   "metadata": {},
   "source": [
    "# Introducción a R\n",
    "\n",
    "R es un lenguaje de programación orientado a la estadística.\n",
    "\n",
    "Algo parecido a SPSS o Matlab.\n",
    "\n",
    "Es código abierto y se entrega bajo licencia GPL (versión 2 o posterior). Además existen multitud de paquetes que complementan su funcionalidad."
   ]
  },
  {
   "cell_type": "markdown",
   "metadata": {},
   "source": [
    "## Asignaciones\n",
    "\n",
    "Podemos usar <- o el símbolo = para asignar un valor a una variable"
   ]
  },
  {
   "cell_type": "code",
   "execution_count": 6,
   "metadata": {},
   "outputs": [
    {
     "name": "stdout",
     "output_type": "stream",
     "text": [
      "[1] \"hola mundo\"\n",
      "[1] 3\n",
      "[1] 10\n"
     ]
    }
   ],
   "source": [
    "print(\"hola mundo\")\n",
    "\n",
    "a <- 3\n",
    "print(a)\n",
    "\n",
    "10 -> b\n",
    "\n",
    "print(b)"
   ]
  },
  {
   "cell_type": "markdown",
   "metadata": {},
   "source": [
    "## Operaciones"
   ]
  },
  {
   "cell_type": "code",
   "execution_count": null,
   "metadata": {},
   "outputs": [],
   "source": [
    "### Operaciones matemáticas"
   ]
  },
  {
   "cell_type": "code",
   "execution_count": 8,
   "metadata": {},
   "outputs": [
    {
     "data": {
      "text/html": [
       "13"
      ],
      "text/latex": [
       "13"
      ],
      "text/markdown": [
       "13"
      ],
      "text/plain": [
       "[1] 13"
      ]
     },
     "metadata": {},
     "output_type": "display_data"
    },
    {
     "data": {
      "text/html": [
       "30"
      ],
      "text/latex": [
       "30"
      ],
      "text/markdown": [
       "30"
      ],
      "text/plain": [
       "[1] 30"
      ]
     },
     "metadata": {},
     "output_type": "display_data"
    },
    {
     "data": {
      "text/html": [
       "7"
      ],
      "text/latex": [
       "7"
      ],
      "text/markdown": [
       "7"
      ],
      "text/plain": [
       "[1] 7"
      ]
     },
     "metadata": {},
     "output_type": "display_data"
    },
    {
     "data": {
      "text/html": [
       "3.33333333333333"
      ],
      "text/latex": [
       "3.33333333333333"
      ],
      "text/markdown": [
       "3.33333333333333"
      ],
      "text/plain": [
       "[1] 3.333333"
      ]
     },
     "metadata": {},
     "output_type": "display_data"
    },
    {
     "data": {
      "text/html": [
       "3"
      ],
      "text/latex": [
       "3"
      ],
      "text/markdown": [
       "3"
      ],
      "text/plain": [
       "[1] 3"
      ]
     },
     "metadata": {},
     "output_type": "display_data"
    },
    {
     "data": {
      "text/html": [
       "1"
      ],
      "text/latex": [
       "1"
      ],
      "text/markdown": [
       "1"
      ],
      "text/plain": [
       "[1] 1"
      ]
     },
     "metadata": {},
     "output_type": "display_data"
    },
    {
     "data": {
      "text/html": [
       "59049"
      ],
      "text/latex": [
       "59049"
      ],
      "text/markdown": [
       "59049"
      ],
      "text/plain": [
       "[1] 59049"
      ]
     },
     "metadata": {},
     "output_type": "display_data"
    }
   ],
   "source": [
    "b+a #Suma\n",
    "b*a #Multiplicación\n",
    "b-a #Resta\n",
    "b/a #División: \n",
    "b%/%a #División entera: \n",
    "b %% a #Módulo: \n",
    "a^b #Potencia: "
   ]
  },
  {
   "cell_type": "code",
   "execution_count": null,
   "metadata": {},
   "outputs": [],
   "source": [
    "### Otro tipo de operador"
   ]
  },
  {
   "cell_type": "code",
   "execution_count": 9,
   "metadata": {},
   "outputs": [
    {
     "data": {
      "text/html": [
       "<style>\n",
       ".list-inline {list-style: none; margin:0; padding: 0}\n",
       ".list-inline>li {display: inline-block}\n",
       ".list-inline>li:not(:last-child)::after {content: \"\\00b7\"; padding: 0 .5ex}\n",
       "</style>\n",
       "<ol class=list-inline><li>3</li><li>4</li><li>5</li><li>6</li><li>7</li><li>8</li><li>9</li><li>10</li></ol>\n"
      ],
      "text/latex": [
       "\\begin{enumerate*}\n",
       "\\item 3\n",
       "\\item 4\n",
       "\\item 5\n",
       "\\item 6\n",
       "\\item 7\n",
       "\\item 8\n",
       "\\item 9\n",
       "\\item 10\n",
       "\\end{enumerate*}\n"
      ],
      "text/markdown": [
       "1. 3\n",
       "2. 4\n",
       "3. 5\n",
       "4. 6\n",
       "5. 7\n",
       "6. 8\n",
       "7. 9\n",
       "8. 10\n",
       "\n",
       "\n"
      ],
      "text/plain": [
       "[1]  3  4  5  6  7  8  9 10"
      ]
     },
     "metadata": {},
     "output_type": "display_data"
    },
    {
     "data": {
      "text/html": [
       "TRUE"
      ],
      "text/latex": [
       "TRUE"
      ],
      "text/markdown": [
       "TRUE"
      ],
      "text/plain": [
       "[1] TRUE"
      ]
     },
     "metadata": {},
     "output_type": "display_data"
    }
   ],
   "source": [
    "3:10        #Secuencias\n",
    "6 %in% 3:10 #contiene"
   ]
  },
  {
   "cell_type": "markdown",
   "metadata": {},
   "source": [
    "## Funciones básicas\n",
    "\n",
    "Las funciones \n",
    " * siempre acaban en ()\n",
    " * pueden recibir un número variable de parámetros\n",
    " * pueden existir parámetros por defecto"
   ]
  },
  {
   "cell_type": "markdown",
   "metadata": {},
   "source": [
    "Ver las variables en memoria, función ls()"
   ]
  },
  {
   "cell_type": "code",
   "execution_count": 10,
   "metadata": {},
   "outputs": [
    {
     "data": {
      "text/html": [
       "<style>\n",
       ".list-inline {list-style: none; margin:0; padding: 0}\n",
       ".list-inline>li {display: inline-block}\n",
       ".list-inline>li:not(:last-child)::after {content: \"\\00b7\"; padding: 0 .5ex}\n",
       "</style>\n",
       "<ol class=list-inline><li>'a'</li><li>'b'</li></ol>\n"
      ],
      "text/latex": [
       "\\begin{enumerate*}\n",
       "\\item 'a'\n",
       "\\item 'b'\n",
       "\\end{enumerate*}\n"
      ],
      "text/markdown": [
       "1. 'a'\n",
       "2. 'b'\n",
       "\n",
       "\n"
      ],
      "text/plain": [
       "[1] \"a\" \"b\""
      ]
     },
     "metadata": {},
     "output_type": "display_data"
    }
   ],
   "source": [
    "ls()"
   ]
  },
  {
   "cell_type": "markdown",
   "metadata": {},
   "source": [
    "Ver el tipo de variable, función typeof(x):"
   ]
  },
  {
   "cell_type": "code",
   "execution_count": 13,
   "metadata": {},
   "outputs": [
    {
     "data": {
      "text/html": [
       "'double'"
      ],
      "text/latex": [
       "'double'"
      ],
      "text/markdown": [
       "'double'"
      ],
      "text/plain": [
       "[1] \"double\""
      ]
     },
     "metadata": {},
     "output_type": "display_data"
    },
    {
     "data": {
      "text/html": [
       "'double'"
      ],
      "text/latex": [
       "'double'"
      ],
      "text/markdown": [
       "'double'"
      ],
      "text/plain": [
       "[1] \"double\""
      ]
     },
     "metadata": {},
     "output_type": "display_data"
    }
   ],
   "source": [
    "typeof(a)\n",
    "typeof(b)"
   ]
  },
  {
   "cell_type": "markdown",
   "metadata": {},
   "source": [
    "Para concatenar textos usamos paste(a, b, c, ...)"
   ]
  },
  {
   "cell_type": "code",
   "execution_count": 16,
   "metadata": {},
   "outputs": [
    {
     "data": {
      "text/html": [
       "'El valor de a es 3 . Y el valor de b es 10'"
      ],
      "text/latex": [
       "'El valor de a es 3 . Y el valor de b es 10'"
      ],
      "text/markdown": [
       "'El valor de a es 3 . Y el valor de b es 10'"
      ],
      "text/plain": [
       "[1] \"El valor de a es 3 . Y el valor de b es 10\""
      ]
     },
     "metadata": {},
     "output_type": "display_data"
    },
    {
     "data": {
      "text/html": [
       "'3 10'"
      ],
      "text/latex": [
       "'3 10'"
      ],
      "text/markdown": [
       "'3 10'"
      ],
      "text/plain": [
       "[1] \"3 10\""
      ]
     },
     "metadata": {},
     "output_type": "display_data"
    }
   ],
   "source": [
    "paste(\"El valor de a es\",a,\". Y el valor de b es\",b)\n",
    "paste(a,b)"
   ]
  },
  {
   "cell_type": "markdown",
   "metadata": {},
   "source": [
    "# Tipos de datos"
   ]
  },
  {
   "cell_type": "markdown",
   "metadata": {},
   "source": [
    "## double"
   ]
  },
  {
   "cell_type": "code",
   "execution_count": 17,
   "metadata": {},
   "outputs": [
    {
     "data": {
      "text/html": [
       "'double'"
      ],
      "text/latex": [
       "'double'"
      ],
      "text/markdown": [
       "'double'"
      ],
      "text/plain": [
       "[1] \"double\""
      ]
     },
     "metadata": {},
     "output_type": "display_data"
    }
   ],
   "source": [
    "a<- 2018\n",
    "typeof(a)"
   ]
  },
  {
   "cell_type": "code",
   "execution_count": 19,
   "metadata": {},
   "outputs": [
    {
     "data": {
      "text/html": [
       "2.71828182845905"
      ],
      "text/latex": [
       "2.71828182845905"
      ],
      "text/markdown": [
       "2.71828182845905"
      ],
      "text/plain": [
       "[1] 2.718282"
      ]
     },
     "metadata": {},
     "output_type": "display_data"
    },
    {
     "data": {
      "text/html": [
       "'double'"
      ],
      "text/latex": [
       "'double'"
      ],
      "text/markdown": [
       "'double'"
      ],
      "text/plain": [
       "[1] \"double\""
      ]
     },
     "metadata": {},
     "output_type": "display_data"
    }
   ],
   "source": [
    "b<- exp(1)\n",
    "b\n",
    "typeof(b)"
   ]
  },
  {
   "cell_type": "code",
   "execution_count": 22,
   "metadata": {},
   "outputs": [],
   "source": [
    "#Ayuda de comandos\n",
    "?exp"
   ]
  },
  {
   "cell_type": "markdown",
   "metadata": {},
   "source": [
    "## integer"
   ]
  },
  {
   "cell_type": "code",
   "execution_count": 23,
   "metadata": {},
   "outputs": [
    {
     "data": {
      "text/html": [
       "3"
      ],
      "text/latex": [
       "3"
      ],
      "text/markdown": [
       "3"
      ],
      "text/plain": [
       "[1] 3"
      ]
     },
     "metadata": {},
     "output_type": "display_data"
    },
    {
     "data": {
      "text/html": [
       "'integer'"
      ],
      "text/latex": [
       "'integer'"
      ],
      "text/markdown": [
       "'integer'"
      ],
      "text/plain": [
       "[1] \"integer\""
      ]
     },
     "metadata": {},
     "output_type": "display_data"
    }
   ],
   "source": [
    "ai <- as.integer(3.7847)\n",
    "ai\n",
    "typeof(ai)"
   ]
  },
  {
   "cell_type": "markdown",
   "metadata": {},
   "source": [
    "## Diferencias entre  integer y double"
   ]
  },
  {
   "cell_type": "markdown",
   "metadata": {},
   "source": [
    "El número más grande que podemos representar es diferente:"
   ]
  },
  {
   "cell_type": "code",
   "execution_count": 24,
   "metadata": {},
   "outputs": [
    {
     "data": {
      "text/html": [
       "2147483647"
      ],
      "text/latex": [
       "2147483647"
      ],
      "text/markdown": [
       "2147483647"
      ],
      "text/plain": [
       "[1] 2147483647"
      ]
     },
     "metadata": {},
     "output_type": "display_data"
    },
    {
     "data": {
      "text/html": [
       "1.79769313486232e+308"
      ],
      "text/latex": [
       "1.79769313486232e+308"
      ],
      "text/markdown": [
       "1.79769313486232e+308"
      ],
      "text/plain": [
       "[1] 1.797693e+308"
      ]
     },
     "metadata": {},
     "output_type": "display_data"
    }
   ],
   "source": [
    ".Machine$integer.max\n",
    ".Machine$double.xmax"
   ]
  },
  {
   "cell_type": "markdown",
   "metadata": {},
   "source": [
    "El tamaño que ocupan en memoria es:"
   ]
  },
  {
   "cell_type": "code",
   "execution_count": 25,
   "metadata": {},
   "outputs": [
    {
     "data": {
      "text/plain": [
       "56 bytes"
      ]
     },
     "metadata": {},
     "output_type": "display_data"
    },
    {
     "data": {
      "text/plain": [
       "56 bytes"
      ]
     },
     "metadata": {},
     "output_type": "display_data"
    }
   ],
   "source": [
    "object.size(ai)\n",
    "object.size(b)"
   ]
  },
  {
   "cell_type": "markdown",
   "metadata": {},
   "source": [
    "## character"
   ]
  },
  {
   "cell_type": "code",
   "execution_count": 29,
   "metadata": {},
   "outputs": [
    {
     "data": {
      "text/html": [
       "'Word'"
      ],
      "text/latex": [
       "'Word'"
      ],
      "text/markdown": [
       "'Word'"
      ],
      "text/plain": [
       "[1] \"Word\""
      ]
     },
     "metadata": {},
     "output_type": "display_data"
    },
    {
     "data": {
      "text/html": [
       "'character'"
      ],
      "text/latex": [
       "'character'"
      ],
      "text/markdown": [
       "'character'"
      ],
      "text/plain": [
       "[1] \"character\""
      ]
     },
     "metadata": {},
     "output_type": "display_data"
    }
   ],
   "source": [
    "s1 <- \"Word\"\n",
    "s1\n",
    "typeof(s1)"
   ]
  },
  {
   "cell_type": "markdown",
   "metadata": {},
   "source": [
    "Las cadenas de texto se pueden concatenar usando la función paste(x,y,z...)"
   ]
  },
  {
   "cell_type": "code",
   "execution_count": null,
   "metadata": {},
   "outputs": [],
   "source": [
    "?paste"
   ]
  },
  {
   "cell_type": "code",
   "execution_count": 32,
   "metadata": {},
   "outputs": [
    {
     "data": {
      "text/html": [
       "'Word calabaza. 2018'"
      ],
      "text/latex": [
       "'Word calabaza. 2018'"
      ],
      "text/markdown": [
       "'Word calabaza. 2018'"
      ],
      "text/plain": [
       "[1] \"Word calabaza. 2018\""
      ]
     },
     "metadata": {},
     "output_type": "display_data"
    },
    {
     "data": {
      "text/html": [
       "'Word-|-calabaza.-|-2018'"
      ],
      "text/latex": [
       "'Word-\\textbar{}-calabaza.-\\textbar{}-2018'"
      ],
      "text/markdown": [
       "'Word-|-calabaza.-|-2018'"
      ],
      "text/plain": [
       "[1] \"Word-|-calabaza.-|-2018\""
      ]
     },
     "metadata": {},
     "output_type": "display_data"
    },
    {
     "data": {
      "text/html": [
       "'Wordcalabaza.2018'"
      ],
      "text/latex": [
       "'Wordcalabaza.2018'"
      ],
      "text/markdown": [
       "'Wordcalabaza.2018'"
      ],
      "text/plain": [
       "[1] \"Wordcalabaza.2018\""
      ]
     },
     "metadata": {},
     "output_type": "display_data"
    }
   ],
   "source": [
    "paste(s1,\"calabaza.\",a)\n",
    "paste(s1,\"calabaza.\",a,sep='-|-')\n",
    "paste0(s1,\"calabaza.\",a)"
   ]
  },
  {
   "cell_type": "markdown",
   "metadata": {},
   "source": [
    "## Logical"
   ]
  },
  {
   "cell_type": "code",
   "execution_count": 34,
   "metadata": {},
   "outputs": [
    {
     "data": {
      "text/html": [
       "'El valor de b1 es TRUE'"
      ],
      "text/latex": [
       "'El valor de b1 es TRUE'"
      ],
      "text/markdown": [
       "'El valor de b1 es TRUE'"
      ],
      "text/plain": [
       "[1] \"El valor de b1 es TRUE\""
      ]
     },
     "metadata": {},
     "output_type": "display_data"
    },
    {
     "data": {
      "text/html": [
       "'El valor de b2 es TRUE'"
      ],
      "text/latex": [
       "'El valor de b2 es TRUE'"
      ],
      "text/markdown": [
       "'El valor de b2 es TRUE'"
      ],
      "text/plain": [
       "[1] \"El valor de b2 es TRUE\""
      ]
     },
     "metadata": {},
     "output_type": "display_data"
    },
    {
     "data": {
      "text/html": [
       "'El valor de b3 es FALSE'"
      ],
      "text/latex": [
       "'El valor de b3 es FALSE'"
      ],
      "text/markdown": [
       "'El valor de b3 es FALSE'"
      ],
      "text/plain": [
       "[1] \"El valor de b3 es FALSE\""
      ]
     },
     "metadata": {},
     "output_type": "display_data"
    },
    {
     "data": {
      "text/html": [
       "'El valor de b4 es FALSE'"
      ],
      "text/latex": [
       "'El valor de b4 es FALSE'"
      ],
      "text/markdown": [
       "'El valor de b4 es FALSE'"
      ],
      "text/plain": [
       "[1] \"El valor de b4 es FALSE\""
      ]
     },
     "metadata": {},
     "output_type": "display_data"
    }
   ],
   "source": [
    "b1 <- TRUE\n",
    "b2 <- T\n",
    "b3 <- FALSE\n",
    "b4 <- F\n",
    "paste(\"El valor de b1 es\",b1)\n",
    "paste(\"El valor de b2 es\",b2)\n",
    "paste(\"El valor de b3 es\",b3)\n",
    "paste(\"El valor de b4 es\",b4)"
   ]
  },
  {
   "cell_type": "markdown",
   "metadata": {},
   "source": [
    "Operaciones lógicas:\n",
    "\n",
    "\n",
    "| A | B |AND|OR |XOR|NOT(A)|\n",
    "|---|---|---|---|---|------|\n",
    "| 0 | 0 | 0 | 0 | 0 |  1   |\n",
    "| 0 | 1 | 0 | 1 | 1 |  1   |\n",
    "| 1 | 0 | 0 | 1 | 1 |  0   |\n",
    "| 1 | 1 | 1 | 1 | 0 |  0   |"
   ]
  },
  {
   "cell_type": "code",
   "execution_count": 35,
   "metadata": {},
   "outputs": [
    {
     "name": "stdout",
     "output_type": "stream",
     "text": [
      "[1] \"b1 AND b3: FALSE\"\n",
      "[1] \"b1 OR  b3: TRUE\"\n",
      "[1] \"b1 XOR b3: TRUE\"\n",
      "[1] \"   NOT b1: FALSE\"\n"
     ]
    }
   ],
   "source": [
    "print(paste(\"b1 AND b3:\",b1 & b3))\n",
    "print(paste(\"b1 OR  b3:\",b1 | b3))\n",
    "print(paste(\"b1 XOR b3:\",xor(b1 ,b3)))\n",
    "print(paste(\"   NOT b1:\",!b1))"
   ]
  },
  {
   "cell_type": "markdown",
   "metadata": {},
   "source": [
    "## Vectores"
   ]
  },
  {
   "cell_type": "markdown",
   "metadata": {},
   "source": [
    "Los vectores se crean con la función c(), todos los elementos de un vector son del mimo tipo. Es decir, no se podrían mezclar caracteres y double."
   ]
  },
  {
   "cell_type": "markdown",
   "metadata": {},
   "source": [
    "En python:\n",
    "\n",
    "   a = [1,2,3,40]\n",
    "   \n",
    "En R:\n",
    "\n",
    "   a = c(1,2,3,40)"
   ]
  },
  {
   "cell_type": "code",
   "execution_count": 36,
   "metadata": {},
   "outputs": [
    {
     "name": "stdout",
     "output_type": "stream",
     "text": [
      "[1] \"alturas es una variable de tipo: double\"\n"
     ]
    }
   ],
   "source": [
    "alturas<-c(1.80,1.60,1.50,1.90,1.75,1.63,1.65)\n",
    "print(paste(\"alturas es una variable de tipo:\",typeof(alturas)))"
   ]
  },
  {
   "cell_type": "code",
   "execution_count": 37,
   "metadata": {},
   "outputs": [
    {
     "name": "stdout",
     "output_type": "stream",
     "text": [
      "[1] \"Podemos ver la estructura de un objeto con la función str():\"\n",
      " num [1:7] 1.8 1.6 1.5 1.9 1.75 1.63 1.65\n"
     ]
    }
   ],
   "source": [
    "print(\"Podemos ver la estructura de un objeto con la función str():\")\n",
    "str(alturas)"
   ]
  },
  {
   "cell_type": "code",
   "execution_count": 38,
   "metadata": {},
   "outputs": [
    {
     "data": {
      "text/html": [
       "<style>\n",
       ".list-inline {list-style: none; margin:0; padding: 0}\n",
       ".list-inline>li {display: inline-block}\n",
       ".list-inline>li:not(:last-child)::after {content: \"\\00b7\"; padding: 0 .5ex}\n",
       "</style>\n",
       "<ol class=list-inline><li>'uno'</li><li>'2'</li><li>'tres'</li><li>'14.0'</li></ol>\n"
      ],
      "text/latex": [
       "\\begin{enumerate*}\n",
       "\\item 'uno'\n",
       "\\item '2'\n",
       "\\item 'tres'\n",
       "\\item '14.0'\n",
       "\\end{enumerate*}\n"
      ],
      "text/markdown": [
       "1. 'uno'\n",
       "2. '2'\n",
       "3. 'tres'\n",
       "4. '14.0'\n",
       "\n",
       "\n"
      ],
      "text/plain": [
       "[1] \"uno\"  \"2\"    \"tres\" \"14.0\""
      ]
     },
     "metadata": {},
     "output_type": "display_data"
    }
   ],
   "source": [
    "otroVector <- c(\"uno\",2.0,\"tres\",\"14.0\")\n",
    "otroVector"
   ]
  },
  {
   "cell_type": "code",
   "execution_count": 39,
   "metadata": {},
   "outputs": [
    {
     "name": "stdout",
     "output_type": "stream",
     "text": [
      " chr [1:4] \"uno\" \"2\" \"tres\" \"14.0\"\n"
     ]
    }
   ],
   "source": [
    "str(otroVector)"
   ]
  },
  {
   "cell_type": "markdown",
   "metadata": {},
   "source": [
    "### Acceso a elementos"
   ]
  },
  {
   "cell_type": "code",
   "execution_count": 40,
   "metadata": {},
   "outputs": [
    {
     "data": {
      "text/html": [
       "<style>\n",
       ".list-inline {list-style: none; margin:0; padding: 0}\n",
       ".list-inline>li {display: inline-block}\n",
       ".list-inline>li:not(:last-child)::after {content: \"\\00b7\"; padding: 0 .5ex}\n",
       "</style>\n",
       "<ol class=list-inline><li>1.8</li><li>1.6</li><li>1.5</li><li>1.9</li><li>1.75</li><li>1.63</li><li>1.65</li></ol>\n"
      ],
      "text/latex": [
       "\\begin{enumerate*}\n",
       "\\item 1.8\n",
       "\\item 1.6\n",
       "\\item 1.5\n",
       "\\item 1.9\n",
       "\\item 1.75\n",
       "\\item 1.63\n",
       "\\item 1.65\n",
       "\\end{enumerate*}\n"
      ],
      "text/markdown": [
       "1. 1.8\n",
       "2. 1.6\n",
       "3. 1.5\n",
       "4. 1.9\n",
       "5. 1.75\n",
       "6. 1.63\n",
       "7. 1.65\n",
       "\n",
       "\n"
      ],
      "text/plain": [
       "[1] 1.80 1.60 1.50 1.90 1.75 1.63 1.65"
      ]
     },
     "metadata": {},
     "output_type": "display_data"
    }
   ],
   "source": [
    "alturas"
   ]
  },
  {
   "cell_type": "code",
   "execution_count": 42,
   "metadata": {},
   "outputs": [
    {
     "name": "stdout",
     "output_type": "stream",
     "text": [
      "[1] \"El valor del tercer elemento es: 1.5\"\n"
     ]
    }
   ],
   "source": [
    "print(paste(\"El valor del tercer elemento es:\",alturas[3]))"
   ]
  },
  {
   "cell_type": "markdown",
   "metadata": {},
   "source": [
    "**¡¡En R los arrays empiezan en 1!!**\n",
    "![Imagen no cargada. Edita y borra la @ ](https://i.redd.it/iwnqgrrbls5z.png )"
   ]
  },
  {
   "cell_type": "markdown",
   "metadata": {},
   "source": [
    "Podemos dar nombres a cada elemento"
   ]
  },
  {
   "cell_type": "code",
   "execution_count": 43,
   "metadata": {},
   "outputs": [],
   "source": [
    "myVector <- c(nombre=\"Philip\",apellido=\"García\",teléfono=600100100)"
   ]
  },
  {
   "cell_type": "code",
   "execution_count": 44,
   "metadata": {},
   "outputs": [
    {
     "data": {
      "text/html": [
       "<style>\n",
       ".dl-inline {width: auto; margin:0; padding: 0}\n",
       ".dl-inline>dt, .dl-inline>dd {float: none; width: auto; display: inline-block}\n",
       ".dl-inline>dt::after {content: \":\\0020\"; padding-right: .5ex}\n",
       ".dl-inline>dt:not(:first-of-type) {padding-left: .5ex}\n",
       "</style><dl class=dl-inline><dt>nombre</dt><dd>'Philip'</dd><dt>apellido</dt><dd>'García'</dd><dt>teléfono</dt><dd>'600100100'</dd></dl>\n"
      ],
      "text/latex": [
       "\\begin{description*}\n",
       "\\item[nombre] 'Philip'\n",
       "\\item[apellido] 'García'\n",
       "\\item[teléfono] '600100100'\n",
       "\\end{description*}\n"
      ],
      "text/markdown": [
       "nombre\n",
       ":   'Philip'apellido\n",
       ":   'García'teléfono\n",
       ":   '600100100'\n",
       "\n"
      ],
      "text/plain": [
       "     nombre    apellido    teléfono \n",
       "   \"Philip\"    \"García\" \"600100100\" "
      ]
     },
     "metadata": {},
     "output_type": "display_data"
    }
   ],
   "source": [
    "myVector"
   ]
  },
  {
   "cell_type": "code",
   "execution_count": 45,
   "metadata": {},
   "outputs": [
    {
     "data": {
      "text/html": [
       "<strong>nombre:</strong> 'Philip'"
      ],
      "text/latex": [
       "\\textbf{nombre:} 'Philip'"
      ],
      "text/markdown": [
       "**nombre:** 'Philip'"
      ],
      "text/plain": [
       "  nombre \n",
       "\"Philip\" "
      ]
     },
     "metadata": {},
     "output_type": "display_data"
    }
   ],
   "source": [
    "myVector[\"nombre\"]"
   ]
  },
  {
   "cell_type": "code",
   "execution_count": 46,
   "metadata": {},
   "outputs": [
    {
     "data": {
      "text/html": [
       "<strong>apellido:</strong> 'García'"
      ],
      "text/latex": [
       "\\textbf{apellido:} 'García'"
      ],
      "text/markdown": [
       "**apellido:** 'García'"
      ],
      "text/plain": [
       "apellido \n",
       "\"García\" "
      ]
     },
     "metadata": {},
     "output_type": "display_data"
    }
   ],
   "source": [
    "myVector[2]"
   ]
  },
  {
   "cell_type": "code",
   "execution_count": 47,
   "metadata": {},
   "outputs": [
    {
     "data": {
      "text/html": [
       "<strong>teléfono:</strong> '600100100'"
      ],
      "text/latex": [
       "\\textbf{teléfono:} '600100100'"
      ],
      "text/markdown": [
       "**teléfono:** '600100100'"
      ],
      "text/plain": [
       "   teléfono \n",
       "\"600100100\" "
      ]
     },
     "metadata": {},
     "output_type": "display_data"
    }
   ],
   "source": [
    "myVector[\"teléfono\"]"
   ]
  },
  {
   "cell_type": "code",
   "execution_count": 48,
   "metadata": {},
   "outputs": [
    {
     "data": {
      "text/html": [
       "<style>\n",
       ".list-inline {list-style: none; margin:0; padding: 0}\n",
       ".list-inline>li {display: inline-block}\n",
       ".list-inline>li:not(:last-child)::after {content: \"\\00b7\"; padding: 0 .5ex}\n",
       "</style>\n",
       "<ol class=list-inline><li>'nombre'</li><li>'apellido'</li><li>'teléfono'</li></ol>\n"
      ],
      "text/latex": [
       "\\begin{enumerate*}\n",
       "\\item 'nombre'\n",
       "\\item 'apellido'\n",
       "\\item 'teléfono'\n",
       "\\end{enumerate*}\n"
      ],
      "text/markdown": [
       "1. 'nombre'\n",
       "2. 'apellido'\n",
       "3. 'teléfono'\n",
       "\n",
       "\n"
      ],
      "text/plain": [
       "[1] \"nombre\"   \"apellido\" \"teléfono\""
      ]
     },
     "metadata": {},
     "output_type": "display_data"
    }
   ],
   "source": [
    "#Los nombres de una variable se pueden ver con la función names()\n",
    "names(myVector)"
   ]
  },
  {
   "cell_type": "code",
   "execution_count": 49,
   "metadata": {},
   "outputs": [],
   "source": [
    "names(myVector) <- c(\"nombre_actualizado\",\"apellido_actualizado\", \"telefono_actualizado\")"
   ]
  },
  {
   "cell_type": "code",
   "execution_count": 50,
   "metadata": {},
   "outputs": [
    {
     "data": {
      "text/html": [
       "<style>\n",
       ".dl-inline {width: auto; margin:0; padding: 0}\n",
       ".dl-inline>dt, .dl-inline>dd {float: none; width: auto; display: inline-block}\n",
       ".dl-inline>dt::after {content: \":\\0020\"; padding-right: .5ex}\n",
       ".dl-inline>dt:not(:first-of-type) {padding-left: .5ex}\n",
       "</style><dl class=dl-inline><dt>nombre_actualizado</dt><dd>'Philip'</dd><dt>apellido_actualizado</dt><dd>'García'</dd><dt>telefono_actualizado</dt><dd>'600100100'</dd></dl>\n"
      ],
      "text/latex": [
       "\\begin{description*}\n",
       "\\item[nombre\\textbackslash{}\\_actualizado] 'Philip'\n",
       "\\item[apellido\\textbackslash{}\\_actualizado] 'García'\n",
       "\\item[telefono\\textbackslash{}\\_actualizado] '600100100'\n",
       "\\end{description*}\n"
      ],
      "text/markdown": [
       "nombre_actualizado\n",
       ":   'Philip'apellido_actualizado\n",
       ":   'García'telefono_actualizado\n",
       ":   '600100100'\n",
       "\n"
      ],
      "text/plain": [
       "  nombre_actualizado apellido_actualizado telefono_actualizado \n",
       "            \"Philip\"             \"García\"          \"600100100\" "
      ]
     },
     "metadata": {},
     "output_type": "display_data"
    }
   ],
   "source": [
    "myVector"
   ]
  },
  {
   "cell_type": "markdown",
   "metadata": {},
   "source": [
    "### Operaciones con vectores"
   ]
  },
  {
   "cell_type": "markdown",
   "metadata": {},
   "source": [
    "Al operar contra una variable se aplica esa operación a todos los elementos del vector"
   ]
  },
  {
   "cell_type": "code",
   "execution_count": 51,
   "metadata": {},
   "outputs": [
    {
     "data": {
      "text/html": [
       "<style>\n",
       ".list-inline {list-style: none; margin:0; padding: 0}\n",
       ".list-inline>li {display: inline-block}\n",
       ".list-inline>li:not(:last-child)::after {content: \"\\00b7\"; padding: 0 .5ex}\n",
       "</style>\n",
       "<ol class=list-inline><li>5.905512</li><li>5.249344</li><li>4.92126</li><li>6.233596</li><li>5.74147</li><li>5.3477692</li><li>5.413386</li></ol>\n"
      ],
      "text/latex": [
       "\\begin{enumerate*}\n",
       "\\item 5.905512\n",
       "\\item 5.249344\n",
       "\\item 4.92126\n",
       "\\item 6.233596\n",
       "\\item 5.74147\n",
       "\\item 5.3477692\n",
       "\\item 5.413386\n",
       "\\end{enumerate*}\n"
      ],
      "text/markdown": [
       "1. 5.905512\n",
       "2. 5.249344\n",
       "3. 4.92126\n",
       "4. 6.233596\n",
       "5. 5.74147\n",
       "6. 5.3477692\n",
       "7. 5.413386\n",
       "\n",
       "\n"
      ],
      "text/plain": [
       "[1] 5.905512 5.249344 4.921260 6.233596 5.741470 5.347769 5.413386"
      ]
     },
     "metadata": {},
     "output_type": "display_data"
    }
   ],
   "source": [
    "metro2pie <- 3.28084\n",
    "alturasEnPies <- alturas*metro2pie\n",
    "alturasEnPies"
   ]
  },
  {
   "cell_type": "markdown",
   "metadata": {},
   "source": [
    "Si se opera con dos vectores de la misma longitud se aplica elemento a elemento."
   ]
  },
  {
   "cell_type": "code",
   "execution_count": 54,
   "metadata": {},
   "outputs": [
    {
     "data": {
      "text/html": [
       "<style>\n",
       ".list-inline {list-style: none; margin:0; padding: 0}\n",
       ".list-inline>li {display: inline-block}\n",
       ".list-inline>li:not(:last-child)::after {content: \"\\00b7\"; padding: 0 .5ex}\n",
       "</style>\n",
       "<ol class=list-inline><li>1.8</li><li>1.6</li><li>1.5</li><li>1.9</li><li>1.75</li><li>1.63</li><li>1.65</li></ol>\n"
      ],
      "text/latex": [
       "\\begin{enumerate*}\n",
       "\\item 1.8\n",
       "\\item 1.6\n",
       "\\item 1.5\n",
       "\\item 1.9\n",
       "\\item 1.75\n",
       "\\item 1.63\n",
       "\\item 1.65\n",
       "\\end{enumerate*}\n"
      ],
      "text/markdown": [
       "1. 1.8\n",
       "2. 1.6\n",
       "3. 1.5\n",
       "4. 1.9\n",
       "5. 1.75\n",
       "6. 1.63\n",
       "7. 1.65\n",
       "\n",
       "\n"
      ],
      "text/plain": [
       "[1] 1.80 1.60 1.50 1.90 1.75 1.63 1.65"
      ]
     },
     "metadata": {},
     "output_type": "display_data"
    },
    {
     "data": {
      "text/html": [
       "7"
      ],
      "text/latex": [
       "7"
      ],
      "text/markdown": [
       "7"
      ],
      "text/plain": [
       "[1] 7"
      ]
     },
     "metadata": {},
     "output_type": "display_data"
    }
   ],
   "source": [
    "alturas\n",
    "length(alturas)"
   ]
  },
  {
   "cell_type": "code",
   "execution_count": 53,
   "metadata": {},
   "outputs": [
    {
     "data": {
      "text/html": [
       "<style>\n",
       ".list-inline {list-style: none; margin:0; padding: 0}\n",
       ".list-inline>li {display: inline-block}\n",
       ".list-inline>li:not(:last-child)::after {content: \"\\00b7\"; padding: 0 .5ex}\n",
       "</style>\n",
       "<ol class=list-inline><li>1.78</li><li>1.6</li><li>1.49</li><li>1.87</li><li>1.7</li><li>1.56</li><li>1.65</li></ol>\n"
      ],
      "text/latex": [
       "\\begin{enumerate*}\n",
       "\\item 1.78\n",
       "\\item 1.6\n",
       "\\item 1.49\n",
       "\\item 1.87\n",
       "\\item 1.7\n",
       "\\item 1.56\n",
       "\\item 1.65\n",
       "\\end{enumerate*}\n"
      ],
      "text/markdown": [
       "1. 1.78\n",
       "2. 1.6\n",
       "3. 1.49\n",
       "4. 1.87\n",
       "5. 1.7\n",
       "6. 1.56\n",
       "7. 1.65\n",
       "\n",
       "\n"
      ],
      "text/plain": [
       "[1] 1.78 1.60 1.49 1.87 1.70 1.56 1.65"
      ]
     },
     "metadata": {},
     "output_type": "display_data"
    }
   ],
   "source": [
    "alturaDeLosZapatos<-c(2,0,1,3,5,7,0)/100\n",
    "alturaReal<-alturas-alturaDeLosZapatos\n",
    "alturaReal"
   ]
  },
  {
   "cell_type": "markdown",
   "metadata": {},
   "source": [
    "Se puede operar con vectores de tamaños diferentes, en este caso el vector más pequeño se replica"
   ]
  },
  {
   "cell_type": "code",
   "execution_count": 56,
   "metadata": {},
   "outputs": [
    {
     "name": "stderr",
     "output_type": "stream",
     "text": [
      "Warning message in alturas * c(1, 0):\n",
      "“longer object length is not a multiple of shorter object length”\n"
     ]
    },
    {
     "data": {
      "text/html": [
       "<style>\n",
       ".list-inline {list-style: none; margin:0; padding: 0}\n",
       ".list-inline>li {display: inline-block}\n",
       ".list-inline>li:not(:last-child)::after {content: \"\\00b7\"; padding: 0 .5ex}\n",
       "</style>\n",
       "<ol class=list-inline><li>1.8</li><li>0</li><li>1.5</li><li>0</li><li>1.75</li><li>0</li><li>1.65</li></ol>\n"
      ],
      "text/latex": [
       "\\begin{enumerate*}\n",
       "\\item 1.8\n",
       "\\item 0\n",
       "\\item 1.5\n",
       "\\item 0\n",
       "\\item 1.75\n",
       "\\item 0\n",
       "\\item 1.65\n",
       "\\end{enumerate*}\n"
      ],
      "text/markdown": [
       "1. 1.8\n",
       "2. 0\n",
       "3. 1.5\n",
       "4. 0\n",
       "5. 1.75\n",
       "6. 0\n",
       "7. 1.65\n",
       "\n",
       "\n"
      ],
      "text/plain": [
       "[1] 1.80 0.00 1.50 0.00 1.75 0.00 1.65"
      ]
     },
     "metadata": {},
     "output_type": "display_data"
    }
   ],
   "source": [
    "alturas*c(1,0)"
   ]
  },
  {
   "cell_type": "markdown",
   "metadata": {},
   "source": [
    "Concatenar vectores"
   ]
  },
  {
   "cell_type": "code",
   "execution_count": 57,
   "metadata": {},
   "outputs": [
    {
     "data": {
      "text/html": [
       "<style>\n",
       ".list-inline {list-style: none; margin:0; padding: 0}\n",
       ".list-inline>li {display: inline-block}\n",
       ".list-inline>li:not(:last-child)::after {content: \"\\00b7\"; padding: 0 .5ex}\n",
       "</style>\n",
       "<ol class=list-inline><li>1.8</li><li>1.6</li><li>1.5</li><li>1.9</li><li>1.75</li><li>1.63</li><li>1.65</li><li>2</li><li>1.8</li><li>17</li></ol>\n"
      ],
      "text/latex": [
       "\\begin{enumerate*}\n",
       "\\item 1.8\n",
       "\\item 1.6\n",
       "\\item 1.5\n",
       "\\item 1.9\n",
       "\\item 1.75\n",
       "\\item 1.63\n",
       "\\item 1.65\n",
       "\\item 2\n",
       "\\item 1.8\n",
       "\\item 17\n",
       "\\end{enumerate*}\n"
      ],
      "text/markdown": [
       "1. 1.8\n",
       "2. 1.6\n",
       "3. 1.5\n",
       "4. 1.9\n",
       "5. 1.75\n",
       "6. 1.63\n",
       "7. 1.65\n",
       "8. 2\n",
       "9. 1.8\n",
       "10. 17\n",
       "\n",
       "\n"
      ],
      "text/plain": [
       " [1]  1.80  1.60  1.50  1.90  1.75  1.63  1.65  2.00  1.80 17.00"
      ]
     },
     "metadata": {},
     "output_type": "display_data"
    }
   ],
   "source": [
    "c(alturas,2,1.8,17)"
   ]
  },
  {
   "cell_type": "markdown",
   "metadata": {},
   "source": [
    "Longitud de un vector se obtiene con la función length()"
   ]
  },
  {
   "cell_type": "code",
   "execution_count": 58,
   "metadata": {},
   "outputs": [
    {
     "data": {
      "text/html": [
       "7"
      ],
      "text/latex": [
       "7"
      ],
      "text/markdown": [
       "7"
      ],
      "text/plain": [
       "[1] 7"
      ]
     },
     "metadata": {},
     "output_type": "display_data"
    }
   ],
   "source": [
    "length(alturas)"
   ]
  },
  {
   "cell_type": "markdown",
   "metadata": {},
   "source": [
    "La estructura de la variable se puede ver con la función str()"
   ]
  },
  {
   "cell_type": "code",
   "execution_count": 59,
   "metadata": {},
   "outputs": [
    {
     "name": "stdout",
     "output_type": "stream",
     "text": [
      " num [1:7] 1.8 1.6 1.5 1.9 1.75 1.63 1.65\n"
     ]
    }
   ],
   "source": [
    "str(alturas)"
   ]
  },
  {
   "cell_type": "code",
   "execution_count": 60,
   "metadata": {},
   "outputs": [],
   "source": [
    "alturas[18]<-1.9"
   ]
  },
  {
   "cell_type": "code",
   "execution_count": 61,
   "metadata": {},
   "outputs": [
    {
     "data": {
      "text/html": [
       "<style>\n",
       ".list-inline {list-style: none; margin:0; padding: 0}\n",
       ".list-inline>li {display: inline-block}\n",
       ".list-inline>li:not(:last-child)::after {content: \"\\00b7\"; padding: 0 .5ex}\n",
       "</style>\n",
       "<ol class=list-inline><li>1.8</li><li>1.6</li><li>1.5</li><li>1.9</li><li>1.75</li><li>1.63</li><li>1.65</li><li>&lt;NA&gt;</li><li>&lt;NA&gt;</li><li>&lt;NA&gt;</li><li>&lt;NA&gt;</li><li>&lt;NA&gt;</li><li>&lt;NA&gt;</li><li>&lt;NA&gt;</li><li>&lt;NA&gt;</li><li>&lt;NA&gt;</li><li>&lt;NA&gt;</li><li>1.9</li></ol>\n"
      ],
      "text/latex": [
       "\\begin{enumerate*}\n",
       "\\item 1.8\n",
       "\\item 1.6\n",
       "\\item 1.5\n",
       "\\item 1.9\n",
       "\\item 1.75\n",
       "\\item 1.63\n",
       "\\item 1.65\n",
       "\\item <NA>\n",
       "\\item <NA>\n",
       "\\item <NA>\n",
       "\\item <NA>\n",
       "\\item <NA>\n",
       "\\item <NA>\n",
       "\\item <NA>\n",
       "\\item <NA>\n",
       "\\item <NA>\n",
       "\\item <NA>\n",
       "\\item 1.9\n",
       "\\end{enumerate*}\n"
      ],
      "text/markdown": [
       "1. 1.8\n",
       "2. 1.6\n",
       "3. 1.5\n",
       "4. 1.9\n",
       "5. 1.75\n",
       "6. 1.63\n",
       "7. 1.65\n",
       "8. &lt;NA&gt;\n",
       "9. &lt;NA&gt;\n",
       "10. &lt;NA&gt;\n",
       "11. &lt;NA&gt;\n",
       "12. &lt;NA&gt;\n",
       "13. &lt;NA&gt;\n",
       "14. &lt;NA&gt;\n",
       "15. &lt;NA&gt;\n",
       "16. &lt;NA&gt;\n",
       "17. &lt;NA&gt;\n",
       "18. 1.9\n",
       "\n",
       "\n"
      ],
      "text/plain": [
       " [1] 1.80 1.60 1.50 1.90 1.75 1.63 1.65   NA   NA   NA   NA   NA   NA   NA   NA\n",
       "[16]   NA   NA 1.90"
      ]
     },
     "metadata": {},
     "output_type": "display_data"
    }
   ],
   "source": [
    "alturas"
   ]
  },
  {
   "cell_type": "markdown",
   "metadata": {},
   "source": [
    "## Listas"
   ]
  },
  {
   "cell_type": "markdown",
   "metadata": {},
   "source": [
    "Las listas se pueden considerar como vectores que pueden almacenar cualquier tipo de dato."
   ]
  },
  {
   "cell_type": "code",
   "execution_count": 62,
   "metadata": {},
   "outputs": [
    {
     "data": {
      "text/html": [
       "<style>\n",
       ".list-inline {list-style: none; margin:0; padding: 0}\n",
       ".list-inline>li {display: inline-block}\n",
       ".list-inline>li:not(:last-child)::after {content: \"\\00b7\"; padding: 0 .5ex}\n",
       "</style>\n",
       "<ol class=list-inline><li>'1'</li><li>'3'</li><li>'catorce'</li><li>'panama'</li></ol>\n"
      ],
      "text/latex": [
       "\\begin{enumerate*}\n",
       "\\item '1'\n",
       "\\item '3'\n",
       "\\item 'catorce'\n",
       "\\item 'panama'\n",
       "\\end{enumerate*}\n"
      ],
      "text/markdown": [
       "1. '1'\n",
       "2. '3'\n",
       "3. 'catorce'\n",
       "4. 'panama'\n",
       "\n",
       "\n"
      ],
      "text/plain": [
       "[1] \"1\"       \"3\"       \"catorce\" \"panama\" "
      ]
     },
     "metadata": {},
     "output_type": "display_data"
    }
   ],
   "source": [
    "c(1,3,\"catorce\",\"panama\")"
   ]
  },
  {
   "cell_type": "code",
   "execution_count": 63,
   "metadata": {},
   "outputs": [
    {
     "name": "stdout",
     "output_type": "stream",
     "text": [
      "List of 4\n",
      " $ : num 1\n",
      " $ : num 3\n",
      " $ : chr \"catorce\"\n",
      " $ : chr \"panama\"\n"
     ]
    }
   ],
   "source": [
    "myList<-list(1,3,\"catorce\",\"panama\")\n",
    "str(myList)"
   ]
  },
  {
   "cell_type": "code",
   "execution_count": 64,
   "metadata": {},
   "outputs": [
    {
     "data": {
      "text/html": [
       "<ol>\n",
       "\t<li>1</li>\n",
       "\t<li>3</li>\n",
       "\t<li>'catorce'</li>\n",
       "\t<li>'panama'</li>\n",
       "</ol>\n"
      ],
      "text/latex": [
       "\\begin{enumerate}\n",
       "\\item 1\n",
       "\\item 3\n",
       "\\item 'catorce'\n",
       "\\item 'panama'\n",
       "\\end{enumerate}\n"
      ],
      "text/markdown": [
       "1. 1\n",
       "2. 3\n",
       "3. 'catorce'\n",
       "4. 'panama'\n",
       "\n",
       "\n"
      ],
      "text/plain": [
       "[[1]]\n",
       "[1] 1\n",
       "\n",
       "[[2]]\n",
       "[1] 3\n",
       "\n",
       "[[3]]\n",
       "[1] \"catorce\"\n",
       "\n",
       "[[4]]\n",
       "[1] \"panama\"\n"
      ]
     },
     "metadata": {},
     "output_type": "display_data"
    }
   ],
   "source": [
    "myList"
   ]
  },
  {
   "cell_type": "markdown",
   "metadata": {},
   "source": [
    "Podemos asignar un nombre a cada valor"
   ]
  },
  {
   "cell_type": "code",
   "execution_count": 65,
   "metadata": {},
   "outputs": [
    {
     "data": {
      "text/html": [
       "<dl>\n",
       "\t<dt>$nombre</dt>\n",
       "\t\t<dd>'Philip'</dd>\n",
       "\t<dt>$apellido</dt>\n",
       "\t\t<dd>'García'</dd>\n",
       "\t<dt>$teléfono</dt>\n",
       "\t\t<dd>600100100</dd>\n",
       "</dl>\n"
      ],
      "text/latex": [
       "\\begin{description}\n",
       "\\item[\\$nombre] 'Philip'\n",
       "\\item[\\$apellido] 'García'\n",
       "\\item[\\$teléfono] 600100100\n",
       "\\end{description}\n"
      ],
      "text/markdown": [
       "$nombre\n",
       ":   'Philip'\n",
       "$apellido\n",
       ":   'García'\n",
       "$teléfono\n",
       ":   600100100\n",
       "\n",
       "\n"
      ],
      "text/plain": [
       "$nombre\n",
       "[1] \"Philip\"\n",
       "\n",
       "$apellido\n",
       "[1] \"García\"\n",
       "\n",
       "$teléfono\n",
       "[1] 600100100\n"
      ]
     },
     "metadata": {},
     "output_type": "display_data"
    }
   ],
   "source": [
    "datosPersonales<-list(nombre=\"Philip\",\n",
    "                   apellido=\"García\",\n",
    "                   teléfono=600100100)\n",
    "datosPersonales"
   ]
  },
  {
   "cell_type": "markdown",
   "metadata": {},
   "source": [
    "### Acceso a elementos"
   ]
  },
  {
   "cell_type": "markdown",
   "metadata": {},
   "source": [
    "Podemos acceder a los distintos elementos utilizando su índice o nombre:"
   ]
  },
  {
   "cell_type": "code",
   "execution_count": 66,
   "metadata": {},
   "outputs": [
    {
     "data": {
      "text/html": [
       "'Philip'"
      ],
      "text/latex": [
       "'Philip'"
      ],
      "text/markdown": [
       "'Philip'"
      ],
      "text/plain": [
       "[1] \"Philip\""
      ]
     },
     "metadata": {},
     "output_type": "display_data"
    }
   ],
   "source": [
    "datosPersonales[[1]]"
   ]
  },
  {
   "cell_type": "code",
   "execution_count": 67,
   "metadata": {},
   "outputs": [
    {
     "data": {
      "text/html": [
       "'Philip'"
      ],
      "text/latex": [
       "'Philip'"
      ],
      "text/markdown": [
       "'Philip'"
      ],
      "text/plain": [
       "[1] \"Philip\""
      ]
     },
     "metadata": {},
     "output_type": "display_data"
    }
   ],
   "source": [
    "datosPersonales[[\"nombre\"]]"
   ]
  },
  {
   "cell_type": "code",
   "execution_count": 68,
   "metadata": {},
   "outputs": [
    {
     "data": {
      "text/html": [
       "'Philip'"
      ],
      "text/latex": [
       "'Philip'"
      ],
      "text/markdown": [
       "'Philip'"
      ],
      "text/plain": [
       "[1] \"Philip\""
      ]
     },
     "metadata": {},
     "output_type": "display_data"
    }
   ],
   "source": [
    "datosPersonales$nombre"
   ]
  },
  {
   "cell_type": "code",
   "execution_count": 71,
   "metadata": {},
   "outputs": [
    {
     "data": {
      "text/html": [
       "TRUE"
      ],
      "text/latex": [
       "TRUE"
      ],
      "text/markdown": [
       "TRUE"
      ],
      "text/plain": [
       "[1] TRUE"
      ]
     },
     "metadata": {},
     "output_type": "display_data"
    },
    {
     "data": {
      "text/plain": [
       "NULL"
      ]
     },
     "metadata": {},
     "output_type": "display_data"
    }
   ],
   "source": [
    "is.null(datosPersonales[[\"direccion\"]])\n",
    "datosPersonales[[\"direccion\"]]"
   ]
  },
  {
   "cell_type": "code",
   "execution_count": 70,
   "metadata": {},
   "outputs": [
    {
     "data": {
      "text/html": [
       "<style>\n",
       ".list-inline {list-style: none; margin:0; padding: 0}\n",
       ".list-inline>li {display: inline-block}\n",
       ".list-inline>li:not(:last-child)::after {content: \"\\00b7\"; padding: 0 .5ex}\n",
       "</style>\n",
       "<ol class=list-inline><li>'nombre'</li><li>'apellido'</li><li>'teléfono'</li></ol>\n"
      ],
      "text/latex": [
       "\\begin{enumerate*}\n",
       "\\item 'nombre'\n",
       "\\item 'apellido'\n",
       "\\item 'teléfono'\n",
       "\\end{enumerate*}\n"
      ],
      "text/markdown": [
       "1. 'nombre'\n",
       "2. 'apellido'\n",
       "3. 'teléfono'\n",
       "\n",
       "\n"
      ],
      "text/plain": [
       "[1] \"nombre\"   \"apellido\" \"teléfono\""
      ]
     },
     "metadata": {},
     "output_type": "display_data"
    }
   ],
   "source": [
    "names(datosPersonales)"
   ]
  },
  {
   "cell_type": "code",
   "execution_count": 72,
   "metadata": {},
   "outputs": [
    {
     "data": {
      "text/html": [
       "<dl>\n",
       "\t<dt>$ciudad</dt>\n",
       "\t\t<dd>'Madrid'</dd>\n",
       "\t<dt>$calle</dt>\n",
       "\t\t<dd>'Desengaño'</dd>\n",
       "\t<dt>$numero</dt>\n",
       "\t\t<dd>21</dd>\n",
       "</dl>\n"
      ],
      "text/latex": [
       "\\begin{description}\n",
       "\\item[\\$ciudad] 'Madrid'\n",
       "\\item[\\$calle] 'Desengaño'\n",
       "\\item[\\$numero] 21\n",
       "\\end{description}\n"
      ],
      "text/markdown": [
       "$ciudad\n",
       ":   'Madrid'\n",
       "$calle\n",
       ":   'Desengaño'\n",
       "$numero\n",
       ":   21\n",
       "\n",
       "\n"
      ],
      "text/plain": [
       "$ciudad\n",
       "[1] \"Madrid\"\n",
       "\n",
       "$calle\n",
       "[1] \"Desengaño\"\n",
       "\n",
       "$numero\n",
       "[1] 21\n"
      ]
     },
     "metadata": {},
     "output_type": "display_data"
    }
   ],
   "source": [
    "datosPersonales[[\"direccion\"]]<-list(ciudad=\"Madrid\",calle=\"Desengaño\",numero=21)\n",
    "datosPersonales[[\"direccion\"]]"
   ]
  },
  {
   "cell_type": "code",
   "execution_count": 73,
   "metadata": {},
   "outputs": [
    {
     "data": {
      "text/html": [
       "<dl>\n",
       "\t<dt>$nombre</dt>\n",
       "\t\t<dd>'Philip'</dd>\n",
       "\t<dt>$apellido</dt>\n",
       "\t\t<dd>'García'</dd>\n",
       "\t<dt>$teléfono</dt>\n",
       "\t\t<dd>600100100</dd>\n",
       "\t<dt>$direccion</dt>\n",
       "\t\t<dd><dl>\n",
       "\t<dt>$ciudad</dt>\n",
       "\t\t<dd>'Madrid'</dd>\n",
       "\t<dt>$calle</dt>\n",
       "\t\t<dd>'Desengaño'</dd>\n",
       "\t<dt>$numero</dt>\n",
       "\t\t<dd>21</dd>\n",
       "</dl>\n",
       "</dd>\n",
       "</dl>\n"
      ],
      "text/latex": [
       "\\begin{description}\n",
       "\\item[\\$nombre] 'Philip'\n",
       "\\item[\\$apellido] 'García'\n",
       "\\item[\\$teléfono] 600100100\n",
       "\\item[\\$direccion] \\begin{description}\n",
       "\\item[\\$ciudad] 'Madrid'\n",
       "\\item[\\$calle] 'Desengaño'\n",
       "\\item[\\$numero] 21\n",
       "\\end{description}\n",
       "\n",
       "\\end{description}\n"
      ],
      "text/markdown": [
       "$nombre\n",
       ":   'Philip'\n",
       "$apellido\n",
       ":   'García'\n",
       "$teléfono\n",
       ":   600100100\n",
       "$direccion\n",
       ":   $ciudad\n",
       ":   'Madrid'\n",
       "$calle\n",
       ":   'Desengaño'\n",
       "$numero\n",
       ":   21\n",
       "\n",
       "\n",
       "\n",
       "\n",
       "\n"
      ],
      "text/plain": [
       "$nombre\n",
       "[1] \"Philip\"\n",
       "\n",
       "$apellido\n",
       "[1] \"García\"\n",
       "\n",
       "$teléfono\n",
       "[1] 600100100\n",
       "\n",
       "$direccion\n",
       "$direccion$ciudad\n",
       "[1] \"Madrid\"\n",
       "\n",
       "$direccion$calle\n",
       "[1] \"Desengaño\"\n",
       "\n",
       "$direccion$numero\n",
       "[1] 21\n",
       "\n"
      ]
     },
     "metadata": {},
     "output_type": "display_data"
    }
   ],
   "source": [
    "datosPersonales"
   ]
  },
  {
   "cell_type": "code",
   "execution_count": 76,
   "metadata": {},
   "outputs": [
    {
     "data": {
      "text/html": [
       "'Desengaño'"
      ],
      "text/latex": [
       "'Desengaño'"
      ],
      "text/markdown": [
       "'Desengaño'"
      ],
      "text/plain": [
       "[1] \"Desengaño\""
      ]
     },
     "metadata": {},
     "output_type": "display_data"
    },
    {
     "data": {
      "text/html": [
       "'Desengaño'"
      ],
      "text/latex": [
       "'Desengaño'"
      ],
      "text/markdown": [
       "'Desengaño'"
      ],
      "text/plain": [
       "[1] \"Desengaño\""
      ]
     },
     "metadata": {},
     "output_type": "display_data"
    }
   ],
   "source": [
    "datosPersonales[[\"direccion\"]]$calle\n",
    "\n",
    "datosPersonales$direccion$calle"
   ]
  },
  {
   "cell_type": "code",
   "execution_count": 75,
   "metadata": {},
   "outputs": [
    {
     "name": "stdout",
     "output_type": "stream",
     "text": [
      "[1] \"La longitud total de la lista es 4\"\n"
     ]
    }
   ],
   "source": [
    "print(paste(\"La longitud total de la lista es\",length(datosPersonales)))"
   ]
  },
  {
   "cell_type": "code",
   "execution_count": 77,
   "metadata": {},
   "outputs": [
    {
     "data": {
      "text/html": [
       "<style>\n",
       ".list-inline {list-style: none; margin:0; padding: 0}\n",
       ".list-inline>li {display: inline-block}\n",
       ".list-inline>li:not(:last-child)::after {content: \"\\00b7\"; padding: 0 .5ex}\n",
       "</style>\n",
       "<ol class=list-inline><li>'nombre'</li><li>'apellido'</li><li>'teléfono'</li><li>'direccion'</li></ol>\n"
      ],
      "text/latex": [
       "\\begin{enumerate*}\n",
       "\\item 'nombre'\n",
       "\\item 'apellido'\n",
       "\\item 'teléfono'\n",
       "\\item 'direccion'\n",
       "\\end{enumerate*}\n"
      ],
      "text/markdown": [
       "1. 'nombre'\n",
       "2. 'apellido'\n",
       "3. 'teléfono'\n",
       "4. 'direccion'\n",
       "\n",
       "\n"
      ],
      "text/plain": [
       "[1] \"nombre\"    \"apellido\"  \"teléfono\"  \"direccion\""
      ]
     },
     "metadata": {},
     "output_type": "display_data"
    },
    {
     "data": {
      "text/html": [
       "<style>\n",
       ".list-inline {list-style: none; margin:0; padding: 0}\n",
       ".list-inline>li {display: inline-block}\n",
       ".list-inline>li:not(:last-child)::after {content: \"\\00b7\"; padding: 0 .5ex}\n",
       "</style>\n",
       "<ol class=list-inline><li>'ciudad'</li><li>'calle'</li><li>'numero'</li></ol>\n"
      ],
      "text/latex": [
       "\\begin{enumerate*}\n",
       "\\item 'ciudad'\n",
       "\\item 'calle'\n",
       "\\item 'numero'\n",
       "\\end{enumerate*}\n"
      ],
      "text/markdown": [
       "1. 'ciudad'\n",
       "2. 'calle'\n",
       "3. 'numero'\n",
       "\n",
       "\n"
      ],
      "text/plain": [
       "[1] \"ciudad\" \"calle\"  \"numero\""
      ]
     },
     "metadata": {},
     "output_type": "display_data"
    }
   ],
   "source": [
    "names(datosPersonales)\n",
    "names(datosPersonales$direccion)"
   ]
  },
  {
   "cell_type": "markdown",
   "metadata": {},
   "source": [
    "## Factores\n",
    "\n",
    "En estadística tenemos fundamentalmente dos tipos de variables:\n",
    "\n",
    "* **Numéricas:** Estos datos tienen significado como medidas, por ejemplo la altura, peso, presión sanguinea, número de mascotas.\n",
    "* **Categóricas:** Estos representan una característica, por ejemplo el género, color, sabores, ciudad."
   ]
  },
  {
   "cell_type": "markdown",
   "metadata": {},
   "source": [
    "Los factores son útiles cuando trabajamos con **variables categóricas**. Ej: Población de origen, colores, sabores"
   ]
  },
  {
   "cell_type": "code",
   "execution_count": 78,
   "metadata": {},
   "outputs": [
    {
     "data": {
      "text/plain": [
       "   Length     Class      Mode \n",
       "       11 character character "
      ]
     },
     "metadata": {},
     "output_type": "display_data"
    },
    {
     "data": {
      "text/html": [
       "<style>\n",
       ".dl-inline {width: auto; margin:0; padding: 0}\n",
       ".dl-inline>dt, .dl-inline>dd {float: none; width: auto; display: inline-block}\n",
       ".dl-inline>dt::after {content: \":\\0020\"; padding-right: .5ex}\n",
       ".dl-inline>dt:not(:first-of-type) {padding-left: .5ex}\n",
       "</style><dl class=dl-inline><dt>Ácido</dt><dd>2</dd><dt>Amargo</dt><dd>1</dd><dt>Dulce</dt><dd>2</dd><dt>Salado</dt><dd>3</dd><dt>Umami</dt><dd>3</dd></dl>\n"
      ],
      "text/latex": [
       "\\begin{description*}\n",
       "\\item[Ácido] 2\n",
       "\\item[Amargo] 1\n",
       "\\item[Dulce] 2\n",
       "\\item[Salado] 3\n",
       "\\item[Umami] 3\n",
       "\\end{description*}\n"
      ],
      "text/markdown": [
       "Ácido\n",
       ":   2Amargo\n",
       ":   1Dulce\n",
       ":   2Salado\n",
       ":   3Umami\n",
       ":   3\n",
       "\n"
      ],
      "text/plain": [
       " Ácido Amargo  Dulce Salado  Umami \n",
       "     2      1      2      3      3 "
      ]
     },
     "metadata": {},
     "output_type": "display_data"
    }
   ],
   "source": [
    "saboresDePlatos<-c(\"Dulce\",\"Salado\",\"Ácido\",\"Amargo\",\"Umami\",\"Dulce\",\"Salado\",\"Ácido\",\"Umami\",\"Umami\",\"Salado\")\n",
    "saboresDePlatosFactor<-factor(saboresDePlatos)"
   ]
  },
  {
   "cell_type": "code",
   "execution_count": 81,
   "metadata": {},
   "outputs": [
    {
     "data": {
      "text/html": [
       "<style>\n",
       ".list-inline {list-style: none; margin:0; padding: 0}\n",
       ".list-inline>li {display: inline-block}\n",
       ".list-inline>li:not(:last-child)::after {content: \"\\00b7\"; padding: 0 .5ex}\n",
       "</style>\n",
       "<ol class=list-inline><li>'Dulce'</li><li>'Salado'</li><li>'Ácido'</li><li>'Amargo'</li><li>'Umami'</li><li>'Dulce'</li><li>'Salado'</li><li>'Ácido'</li><li>'Umami'</li><li>'Umami'</li><li>'Salado'</li></ol>\n"
      ],
      "text/latex": [
       "\\begin{enumerate*}\n",
       "\\item 'Dulce'\n",
       "\\item 'Salado'\n",
       "\\item 'Ácido'\n",
       "\\item 'Amargo'\n",
       "\\item 'Umami'\n",
       "\\item 'Dulce'\n",
       "\\item 'Salado'\n",
       "\\item 'Ácido'\n",
       "\\item 'Umami'\n",
       "\\item 'Umami'\n",
       "\\item 'Salado'\n",
       "\\end{enumerate*}\n"
      ],
      "text/markdown": [
       "1. 'Dulce'\n",
       "2. 'Salado'\n",
       "3. 'Ácido'\n",
       "4. 'Amargo'\n",
       "5. 'Umami'\n",
       "6. 'Dulce'\n",
       "7. 'Salado'\n",
       "8. 'Ácido'\n",
       "9. 'Umami'\n",
       "10. 'Umami'\n",
       "11. 'Salado'\n",
       "\n",
       "\n"
      ],
      "text/plain": [
       " [1] \"Dulce\"  \"Salado\" \"Ácido\"  \"Amargo\" \"Umami\"  \"Dulce\"  \"Salado\" \"Ácido\" \n",
       " [9] \"Umami\"  \"Umami\"  \"Salado\""
      ]
     },
     "metadata": {},
     "output_type": "display_data"
    }
   ],
   "source": [
    "saboresDePlatos"
   ]
  },
  {
   "cell_type": "code",
   "execution_count": 82,
   "metadata": {},
   "outputs": [
    {
     "data": {
      "text/html": [
       "<style>\n",
       ".list-inline {list-style: none; margin:0; padding: 0}\n",
       ".list-inline>li {display: inline-block}\n",
       ".list-inline>li:not(:last-child)::after {content: \"\\00b7\"; padding: 0 .5ex}\n",
       "</style>\n",
       "<ol class=list-inline><li>Dulce</li><li>Salado</li><li>Ácido</li><li>Amargo</li><li>Umami</li><li>Dulce</li><li>Salado</li><li>Ácido</li><li>Umami</li><li>Umami</li><li>Salado</li></ol>\n",
       "\n",
       "<details>\n",
       "\t<summary style=display:list-item;cursor:pointer>\n",
       "\t\t<strong>Levels</strong>:\n",
       "\t</summary>\n",
       "\t<style>\n",
       "\t.list-inline {list-style: none; margin:0; padding: 0}\n",
       "\t.list-inline>li {display: inline-block}\n",
       "\t.list-inline>li:not(:last-child)::after {content: \"\\00b7\"; padding: 0 .5ex}\n",
       "\t</style>\n",
       "\t<ol class=list-inline><li>'Ácido'</li><li>'Amargo'</li><li>'Dulce'</li><li>'Salado'</li><li>'Umami'</li></ol>\n",
       "</details>"
      ],
      "text/latex": [
       "\\begin{enumerate*}\n",
       "\\item Dulce\n",
       "\\item Salado\n",
       "\\item Ácido\n",
       "\\item Amargo\n",
       "\\item Umami\n",
       "\\item Dulce\n",
       "\\item Salado\n",
       "\\item Ácido\n",
       "\\item Umami\n",
       "\\item Umami\n",
       "\\item Salado\n",
       "\\end{enumerate*}\n",
       "\n",
       "\\emph{Levels}: \\begin{enumerate*}\n",
       "\\item 'Ácido'\n",
       "\\item 'Amargo'\n",
       "\\item 'Dulce'\n",
       "\\item 'Salado'\n",
       "\\item 'Umami'\n",
       "\\end{enumerate*}\n"
      ],
      "text/markdown": [
       "1. Dulce\n",
       "2. Salado\n",
       "3. Ácido\n",
       "4. Amargo\n",
       "5. Umami\n",
       "6. Dulce\n",
       "7. Salado\n",
       "8. Ácido\n",
       "9. Umami\n",
       "10. Umami\n",
       "11. Salado\n",
       "\n",
       "\n",
       "\n",
       "**Levels**: 1. 'Ácido'\n",
       "2. 'Amargo'\n",
       "3. 'Dulce'\n",
       "4. 'Salado'\n",
       "5. 'Umami'\n",
       "\n",
       "\n"
      ],
      "text/plain": [
       " [1] Dulce  Salado Ácido  Amargo Umami  Dulce  Salado Ácido  Umami  Umami \n",
       "[11] Salado\n",
       "Levels: Ácido Amargo Dulce Salado Umami"
      ]
     },
     "metadata": {},
     "output_type": "display_data"
    }
   ],
   "source": [
    "saboresDePlatosFactor"
   ]
  },
  {
   "cell_type": "code",
   "execution_count": 80,
   "metadata": {},
   "outputs": [
    {
     "data": {
      "text/html": [
       "<style>\n",
       ".dl-inline {width: auto; margin:0; padding: 0}\n",
       ".dl-inline>dt, .dl-inline>dd {float: none; width: auto; display: inline-block}\n",
       ".dl-inline>dt::after {content: \":\\0020\"; padding-right: .5ex}\n",
       ".dl-inline>dt:not(:first-of-type) {padding-left: .5ex}\n",
       "</style><dl class=dl-inline><dt>Ácido</dt><dd>2</dd><dt>Amargo</dt><dd>1</dd><dt>Dulce</dt><dd>2</dd><dt>Salado</dt><dd>3</dd><dt>Umami</dt><dd>3</dd></dl>\n"
      ],
      "text/latex": [
       "\\begin{description*}\n",
       "\\item[Ácido] 2\n",
       "\\item[Amargo] 1\n",
       "\\item[Dulce] 2\n",
       "\\item[Salado] 3\n",
       "\\item[Umami] 3\n",
       "\\end{description*}\n"
      ],
      "text/markdown": [
       "Ácido\n",
       ":   2Amargo\n",
       ":   1Dulce\n",
       ":   2Salado\n",
       ":   3Umami\n",
       ":   3\n",
       "\n"
      ],
      "text/plain": [
       " Ácido Amargo  Dulce Salado  Umami \n",
       "     2      1      2      3      3 "
      ]
     },
     "metadata": {},
     "output_type": "display_data"
    }
   ],
   "source": [
    "summary(saboresDePlatosFactor)"
   ]
  },
  {
   "cell_type": "code",
   "execution_count": 79,
   "metadata": {},
   "outputs": [
    {
     "data": {
      "text/plain": [
       "   Length     Class      Mode \n",
       "       11 character character "
      ]
     },
     "metadata": {},
     "output_type": "display_data"
    }
   ],
   "source": [
    "summary(saboresDePlatos)"
   ]
  },
  {
   "cell_type": "code",
   "execution_count": 83,
   "metadata": {},
   "outputs": [
    {
     "name": "stdout",
     "output_type": "stream",
     "text": [
      " chr [1:11] \"Dulce\" \"Salado\" \"Ácido\" \"Amargo\" \"Umami\" \"Dulce\" \"Salado\" ...\n"
     ]
    }
   ],
   "source": [
    "str(saboresDePlatos)"
   ]
  },
  {
   "cell_type": "code",
   "execution_count": 84,
   "metadata": {},
   "outputs": [
    {
     "name": "stdout",
     "output_type": "stream",
     "text": [
      " Factor w/ 5 levels \"Ácido\",\"Amargo\",..: 3 4 1 2 5 3 4 1 5 5 ...\n"
     ]
    }
   ],
   "source": [
    "str(saboresDePlatosFactor)"
   ]
  },
  {
   "cell_type": "code",
   "execution_count": 85,
   "metadata": {},
   "outputs": [
    {
     "data": {
      "text/html": [
       "<style>\n",
       ".list-inline {list-style: none; margin:0; padding: 0}\n",
       ".list-inline>li {display: inline-block}\n",
       ".list-inline>li:not(:last-child)::after {content: \"\\00b7\"; padding: 0 .5ex}\n",
       "</style>\n",
       "<ol class=list-inline><li>Dulce</li><li>Salado</li><li>Ácido</li><li>Amargo</li><li>Umami</li><li>Dulce</li><li>Salado</li><li>Ácido</li><li>Umami</li><li>Umami</li><li>Salado</li></ol>\n",
       "\n",
       "<details>\n",
       "\t<summary style=display:list-item;cursor:pointer>\n",
       "\t\t<strong>Levels</strong>:\n",
       "\t</summary>\n",
       "\t<style>\n",
       "\t.list-inline {list-style: none; margin:0; padding: 0}\n",
       "\t.list-inline>li {display: inline-block}\n",
       "\t.list-inline>li:not(:last-child)::after {content: \"\\00b7\"; padding: 0 .5ex}\n",
       "\t</style>\n",
       "\t<ol class=list-inline><li>'Ácido'</li><li>'Amargo'</li><li>'Dulce'</li><li>'Salado'</li><li>'Umami'</li></ol>\n",
       "</details>"
      ],
      "text/latex": [
       "\\begin{enumerate*}\n",
       "\\item Dulce\n",
       "\\item Salado\n",
       "\\item Ácido\n",
       "\\item Amargo\n",
       "\\item Umami\n",
       "\\item Dulce\n",
       "\\item Salado\n",
       "\\item Ácido\n",
       "\\item Umami\n",
       "\\item Umami\n",
       "\\item Salado\n",
       "\\end{enumerate*}\n",
       "\n",
       "\\emph{Levels}: \\begin{enumerate*}\n",
       "\\item 'Ácido'\n",
       "\\item 'Amargo'\n",
       "\\item 'Dulce'\n",
       "\\item 'Salado'\n",
       "\\item 'Umami'\n",
       "\\end{enumerate*}\n"
      ],
      "text/markdown": [
       "1. Dulce\n",
       "2. Salado\n",
       "3. Ácido\n",
       "4. Amargo\n",
       "5. Umami\n",
       "6. Dulce\n",
       "7. Salado\n",
       "8. Ácido\n",
       "9. Umami\n",
       "10. Umami\n",
       "11. Salado\n",
       "\n",
       "\n",
       "\n",
       "**Levels**: 1. 'Ácido'\n",
       "2. 'Amargo'\n",
       "3. 'Dulce'\n",
       "4. 'Salado'\n",
       "5. 'Umami'\n",
       "\n",
       "\n"
      ],
      "text/plain": [
       " [1] Dulce  Salado Ácido  Amargo Umami  Dulce  Salado Ácido  Umami  Umami \n",
       "[11] Salado\n",
       "Levels: Ácido Amargo Dulce Salado Umami"
      ]
     },
     "metadata": {},
     "output_type": "display_data"
    }
   ],
   "source": [
    "saboresDePlatosFactor"
   ]
  },
  {
   "cell_type": "code",
   "execution_count": 86,
   "metadata": {},
   "outputs": [
    {
     "name": "stdout",
     "output_type": "stream",
     "text": [
      "[1] \"Los factores internamente se gestionan como enteros\"\n"
     ]
    },
    {
     "data": {
      "text/html": [
       "<style>\n",
       ".list-inline {list-style: none; margin:0; padding: 0}\n",
       ".list-inline>li {display: inline-block}\n",
       ".list-inline>li:not(:last-child)::after {content: \"\\00b7\"; padding: 0 .5ex}\n",
       "</style>\n",
       "<ol class=list-inline><li>3</li><li>4</li><li>1</li><li>2</li><li>5</li><li>3</li><li>4</li><li>1</li><li>5</li><li>5</li><li>4</li></ol>\n"
      ],
      "text/latex": [
       "\\begin{enumerate*}\n",
       "\\item 3\n",
       "\\item 4\n",
       "\\item 1\n",
       "\\item 2\n",
       "\\item 5\n",
       "\\item 3\n",
       "\\item 4\n",
       "\\item 1\n",
       "\\item 5\n",
       "\\item 5\n",
       "\\item 4\n",
       "\\end{enumerate*}\n"
      ],
      "text/markdown": [
       "1. 3\n",
       "2. 4\n",
       "3. 1\n",
       "4. 2\n",
       "5. 5\n",
       "6. 3\n",
       "7. 4\n",
       "8. 1\n",
       "9. 5\n",
       "10. 5\n",
       "11. 4\n",
       "\n",
       "\n"
      ],
      "text/plain": [
       " [1] 3 4 1 2 5 3 4 1 5 5 4"
      ]
     },
     "metadata": {},
     "output_type": "display_data"
    }
   ],
   "source": [
    "print(\"Los factores internamente se gestionan como enteros\")\n",
    "as.numeric(saboresDePlatosFactor)"
   ]
  },
  {
   "cell_type": "code",
   "execution_count": 87,
   "metadata": {},
   "outputs": [
    {
     "data": {
      "text/html": [
       "<style>\n",
       ".list-inline {list-style: none; margin:0; padding: 0}\n",
       ".list-inline>li {display: inline-block}\n",
       ".list-inline>li:not(:last-child)::after {content: \"\\00b7\"; padding: 0 .5ex}\n",
       "</style>\n",
       "<ol class=list-inline><li>'sabor: Ácido'</li><li>'sabor: Amargo'</li><li>'sabor: Dulce'</li><li>'sabor: Salado'</li><li>'sabor: Umami'</li></ol>\n"
      ],
      "text/latex": [
       "\\begin{enumerate*}\n",
       "\\item 'sabor: Ácido'\n",
       "\\item 'sabor: Amargo'\n",
       "\\item 'sabor: Dulce'\n",
       "\\item 'sabor: Salado'\n",
       "\\item 'sabor: Umami'\n",
       "\\end{enumerate*}\n"
      ],
      "text/markdown": [
       "1. 'sabor: Ácido'\n",
       "2. 'sabor: Amargo'\n",
       "3. 'sabor: Dulce'\n",
       "4. 'sabor: Salado'\n",
       "5. 'sabor: Umami'\n",
       "\n",
       "\n"
      ],
      "text/plain": [
       "[1] \"sabor: Ácido\"  \"sabor: Amargo\" \"sabor: Dulce\"  \"sabor: Salado\"\n",
       "[5] \"sabor: Umami\" "
      ]
     },
     "metadata": {},
     "output_type": "display_data"
    }
   ],
   "source": [
    "paste(\"sabor:\",levels(saboresDePlatosFactor))"
   ]
  },
  {
   "cell_type": "code",
   "execution_count": 90,
   "metadata": {},
   "outputs": [
    {
     "data": {
      "text/html": [
       "'Ácido, Amargo, Dulce, Salado, Umami'"
      ],
      "text/latex": [
       "'Ácido, Amargo, Dulce, Salado, Umami'"
      ],
      "text/markdown": [
       "'Ácido, Amargo, Dulce, Salado, Umami'"
      ],
      "text/plain": [
       "[1] \"Ácido, Amargo, Dulce, Salado, Umami\""
      ]
     },
     "metadata": {},
     "output_type": "display_data"
    }
   ],
   "source": [
    "paste(levels(saboresDePlatosFactor), collapse=\", \")\n",
    "#En Python es ->   \", \".join(vector)"
   ]
  },
  {
   "cell_type": "code",
   "execution_count": 88,
   "metadata": {},
   "outputs": [
    {
     "name": "stdout",
     "output_type": "stream",
     "text": [
      "[1] \"Podemos ver los niveles con el comando levels: Ácido,Amargo,Dulce,Salado,Umami\"\n"
     ]
    }
   ],
   "source": [
    "print(paste(\"Podemos ver los niveles con el comando levels:\",\n",
    "            paste(levels(saboresDePlatosFactor),collapse=\",\")))"
   ]
  },
  {
   "cell_type": "code",
   "execution_count": 91,
   "metadata": {},
   "outputs": [
    {
     "data": {
      "text/html": [
       "<style>\n",
       ".list-inline {list-style: none; margin:0; padding: 0}\n",
       ".list-inline>li {display: inline-block}\n",
       ".list-inline>li:not(:last-child)::after {content: \"\\00b7\"; padding: 0 .5ex}\n",
       "</style>\n",
       "<ol class=list-inline><li>SI</li><li>NO</li><li>NO</li><li>SI</li><li>NO</li><li>SI</li></ol>\n",
       "\n",
       "<details>\n",
       "\t<summary style=display:list-item;cursor:pointer>\n",
       "\t\t<strong>Levels</strong>:\n",
       "\t</summary>\n",
       "\t<style>\n",
       "\t.list-inline {list-style: none; margin:0; padding: 0}\n",
       "\t.list-inline>li {display: inline-block}\n",
       "\t.list-inline>li:not(:last-child)::after {content: \"\\00b7\"; padding: 0 .5ex}\n",
       "\t</style>\n",
       "\t<ol class=list-inline><li>'NO'</li><li>'SI'</li></ol>\n",
       "</details>"
      ],
      "text/latex": [
       "\\begin{enumerate*}\n",
       "\\item SI\n",
       "\\item NO\n",
       "\\item NO\n",
       "\\item SI\n",
       "\\item NO\n",
       "\\item SI\n",
       "\\end{enumerate*}\n",
       "\n",
       "\\emph{Levels}: \\begin{enumerate*}\n",
       "\\item 'NO'\n",
       "\\item 'SI'\n",
       "\\end{enumerate*}\n"
      ],
      "text/markdown": [
       "1. SI\n",
       "2. NO\n",
       "3. NO\n",
       "4. SI\n",
       "5. NO\n",
       "6. SI\n",
       "\n",
       "\n",
       "\n",
       "**Levels**: 1. 'NO'\n",
       "2. 'SI'\n",
       "\n",
       "\n"
      ],
      "text/plain": [
       "[1] SI NO NO SI NO SI\n",
       "Levels: NO SI"
      ]
     },
     "metadata": {},
     "output_type": "display_data"
    }
   ],
   "source": [
    "factor(c(1,0,0,1,0,1),labels=c(\"NO\",\"SI\"))"
   ]
  },
  {
   "cell_type": "code",
   "execution_count": 94,
   "metadata": {},
   "outputs": [
    {
     "data": {
      "text/html": [
       "<style>\n",
       ".list-inline {list-style: none; margin:0; padding: 0}\n",
       ".list-inline>li {display: inline-block}\n",
       ".list-inline>li:not(:last-child)::after {content: \"\\00b7\"; padding: 0 .5ex}\n",
       "</style>\n",
       "<ol class=list-inline><li>ALTO</li><li>MEDIO</li><li>MEDIO</li><li>BAJO</li><li>MEDIO</li><li>BAJO</li></ol>\n",
       "\n",
       "<details>\n",
       "\t<summary style=display:list-item;cursor:pointer>\n",
       "\t\t<strong>Levels</strong>:\n",
       "\t</summary>\n",
       "\t<style>\n",
       "\t.list-inline {list-style: none; margin:0; padding: 0}\n",
       "\t.list-inline>li {display: inline-block}\n",
       "\t.list-inline>li:not(:last-child)::after {content: \"\\00b7\"; padding: 0 .5ex}\n",
       "\t</style>\n",
       "\t<ol class=list-inline><li>'BAJO'</li><li>'MEDIO'</li><li>'ALTO'</li></ol>\n",
       "</details>"
      ],
      "text/latex": [
       "\\begin{enumerate*}\n",
       "\\item ALTO\n",
       "\\item MEDIO\n",
       "\\item MEDIO\n",
       "\\item BAJO\n",
       "\\item MEDIO\n",
       "\\item BAJO\n",
       "\\end{enumerate*}\n",
       "\n",
       "\\emph{Levels}: \\begin{enumerate*}\n",
       "\\item 'BAJO'\n",
       "\\item 'MEDIO'\n",
       "\\item 'ALTO'\n",
       "\\end{enumerate*}\n"
      ],
      "text/markdown": [
       "1. ALTO\n",
       "2. MEDIO\n",
       "3. MEDIO\n",
       "4. BAJO\n",
       "5. MEDIO\n",
       "6. BAJO\n",
       "\n",
       "\n",
       "\n",
       "**Levels**: 1. 'BAJO'\n",
       "2. 'MEDIO'\n",
       "3. 'ALTO'\n",
       "\n",
       "\n"
      ],
      "text/plain": [
       "[1] ALTO  MEDIO MEDIO BAJO  MEDIO BAJO \n",
       "Levels: BAJO MEDIO ALTO"
      ]
     },
     "metadata": {},
     "output_type": "display_data"
    }
   ],
   "source": [
    "factor(c(10,5,5,0,5,0),labels=c(\"BAJO\",\"MEDIO\",\"ALTO\"))"
   ]
  },
  {
   "cell_type": "markdown",
   "metadata": {},
   "source": [
    "# Matrices"
   ]
  },
  {
   "cell_type": "markdown",
   "metadata": {},
   "source": [
    "Podemos crear matrices con la función matrix. Como parámetros de entrada recibe un vector y el número de columnas (*ncol*) o filas (nrow). Un parámetro opcional (*byrow*) indica si la matriz se va a rellenar por filas o por columnas (valor por defecto)"
   ]
  },
  {
   "cell_type": "code",
   "execution_count": null,
   "metadata": {},
   "outputs": [],
   "source": [
    "1:12"
   ]
  },
  {
   "cell_type": "code",
   "execution_count": null,
   "metadata": {},
   "outputs": [],
   "source": [
    "m1<-matrix(c(1:12),ncol=3)\n",
    "m1"
   ]
  },
  {
   "cell_type": "code",
   "execution_count": null,
   "metadata": {},
   "outputs": [],
   "source": [
    "?matrix"
   ]
  },
  {
   "cell_type": "code",
   "execution_count": null,
   "metadata": {},
   "outputs": [],
   "source": [
    "m2<-matrix(c(1:12),ncol=3,byrow=T)\n",
    "m2"
   ]
  },
  {
   "cell_type": "markdown",
   "metadata": {},
   "source": [
    "La dimensión del array se puede ver con la función *dim()* o con *str()*"
   ]
  },
  {
   "cell_type": "code",
   "execution_count": null,
   "metadata": {},
   "outputs": [],
   "source": [
    "dim(m1)"
   ]
  },
  {
   "cell_type": "code",
   "execution_count": null,
   "metadata": {},
   "outputs": [],
   "source": [
    "length(m1)"
   ]
  },
  {
   "cell_type": "code",
   "execution_count": null,
   "metadata": {},
   "outputs": [],
   "source": [
    "str(m2)"
   ]
  },
  {
   "cell_type": "markdown",
   "metadata": {},
   "source": [
    "### Acceso"
   ]
  },
  {
   "cell_type": "markdown",
   "metadata": {},
   "source": [
    "El acceso se realiza igual que los vectores, pero aquí tenemos dos dimensiones."
   ]
  },
  {
   "cell_type": "code",
   "execution_count": null,
   "metadata": {},
   "outputs": [],
   "source": [
    "m1[1,3]"
   ]
  },
  {
   "cell_type": "markdown",
   "metadata": {},
   "source": [
    "También podemos dar nombres a las filas y columnas para luego poder acceder utilizando el nombre"
   ]
  },
  {
   "cell_type": "code",
   "execution_count": null,
   "metadata": {},
   "outputs": [],
   "source": [
    "?paste0"
   ]
  },
  {
   "cell_type": "code",
   "execution_count": null,
   "metadata": {},
   "outputs": [],
   "source": [
    "paste0(\"row\",1:4)"
   ]
  },
  {
   "cell_type": "code",
   "execution_count": null,
   "metadata": {},
   "outputs": [],
   "source": [
    "colnames(m1)<-paste0(\"col\",1:3)\n",
    "rownames(m1)<-paste0(\"row\",1:4)\n",
    "m1"
   ]
  },
  {
   "cell_type": "code",
   "execution_count": null,
   "metadata": {},
   "outputs": [],
   "source": [
    "paste(\"El valor de 'row1' y 'col3' es:\",m1[\"row1\",\"col3\"])"
   ]
  },
  {
   "cell_type": "markdown",
   "metadata": {},
   "source": [
    "Las funciones *colnames* y *rownames* "
   ]
  },
  {
   "cell_type": "code",
   "execution_count": null,
   "metadata": {},
   "outputs": [],
   "source": [
    "rownames(m1)"
   ]
  },
  {
   "cell_type": "markdown",
   "metadata": {},
   "source": [
    "### Operaciones con matrices \n",
    "#### Álgebra lineal básica"
   ]
  },
  {
   "cell_type": "code",
   "execution_count": null,
   "metadata": {},
   "outputs": [],
   "source": [
    "m1"
   ]
  },
  {
   "cell_type": "markdown",
   "metadata": {},
   "source": [
    "Transpuesta"
   ]
  },
  {
   "cell_type": "code",
   "execution_count": null,
   "metadata": {},
   "outputs": [],
   "source": [
    "t(m1)"
   ]
  },
  {
   "cell_type": "markdown",
   "metadata": {},
   "source": [
    "Suma de constante"
   ]
  },
  {
   "cell_type": "code",
   "execution_count": null,
   "metadata": {},
   "outputs": [],
   "source": [
    "m1+10"
   ]
  },
  {
   "cell_type": "markdown",
   "metadata": {},
   "source": [
    "Suma de matrices"
   ]
  },
  {
   "cell_type": "code",
   "execution_count": null,
   "metadata": {},
   "outputs": [],
   "source": [
    "m1+m2"
   ]
  },
  {
   "cell_type": "markdown",
   "metadata": {},
   "source": [
    "Multiplicación de matrices"
   ]
  },
  {
   "cell_type": "code",
   "execution_count": null,
   "metadata": {},
   "outputs": [],
   "source": [
    "m1 %*% matrix(rep(1,12),nrow=3)"
   ]
  },
  {
   "cell_type": "code",
   "execution_count": null,
   "metadata": {},
   "outputs": [],
   "source": [
    "rep(\"a\",5)"
   ]
  },
  {
   "cell_type": "markdown",
   "metadata": {},
   "source": [
    "Submatrices"
   ]
  },
  {
   "cell_type": "code",
   "execution_count": null,
   "metadata": {},
   "outputs": [],
   "source": [
    "m1[2:4,2:3]"
   ]
  },
  {
   "cell_type": "code",
   "execution_count": null,
   "metadata": {},
   "outputs": [],
   "source": [
    "m1[c(3,2,4),2:3]"
   ]
  },
  {
   "cell_type": "markdown",
   "metadata": {},
   "source": [
    "# Tablas"
   ]
  },
  {
   "cell_type": "markdown",
   "metadata": {},
   "source": [
    "Se utilizan para estudios de frecuencia. Cuentan el número de veces que ha ocurrido algo."
   ]
  },
  {
   "cell_type": "code",
   "execution_count": null,
   "metadata": {},
   "outputs": [],
   "source": [
    "saboresDePlatos"
   ]
  },
  {
   "cell_type": "code",
   "execution_count": null,
   "metadata": {},
   "outputs": [],
   "source": [
    "tblSabores<-table(saboresDePlatos)\n",
    "tblSabores"
   ]
  },
  {
   "cell_type": "code",
   "execution_count": null,
   "metadata": {},
   "outputs": [],
   "source": [
    "names(tblSabores)"
   ]
  },
  {
   "cell_type": "code",
   "execution_count": null,
   "metadata": {},
   "outputs": [],
   "source": [
    "str(tblSabores)"
   ]
  },
  {
   "cell_type": "markdown",
   "metadata": {},
   "source": [
    "Los atributos son una lista de propiedades asociadas a un objeto en R"
   ]
  },
  {
   "cell_type": "code",
   "execution_count": null,
   "metadata": {},
   "outputs": [],
   "source": [
    "attributes(tblSabores)"
   ]
  },
  {
   "cell_type": "code",
   "execution_count": null,
   "metadata": {},
   "outputs": [],
   "source": [
    "class(tblSabores)"
   ]
  },
  {
   "cell_type": "code",
   "execution_count": null,
   "metadata": {},
   "outputs": [],
   "source": [
    "attributes(tblSabores)$dimnames$saboresDePlatos "
   ]
  },
  {
   "cell_type": "code",
   "execution_count": null,
   "metadata": {},
   "outputs": [],
   "source": [
    "color  <- c(\"marrón\",\"negro\",\"blanco\",\"negro\",\"blanco\",\"negro\",\"negro\",\"marrón\",\"marrón\",\"marrón\")\n",
    "animal <- c(\"gato\",\"gato\",\"perro\",\"gato\",\"gato\",\"perro\",\"perro\",\"perro\",\"gato\",\"gato\")\n",
    "\n",
    "tbl_animal<-table(animal,color)\n",
    "tbl_animal"
   ]
  },
  {
   "cell_type": "code",
   "execution_count": null,
   "metadata": {},
   "outputs": [],
   "source": [
    "str(tbl_animal)"
   ]
  },
  {
   "cell_type": "code",
   "execution_count": null,
   "metadata": {},
   "outputs": [],
   "source": [
    "attributes(tbl_animal)$dimnames"
   ]
  },
  {
   "cell_type": "code",
   "execution_count": null,
   "metadata": {},
   "outputs": [],
   "source": [
    "attributes(tbl_animal)"
   ]
  },
  {
   "cell_type": "markdown",
   "metadata": {},
   "source": [
    "## Miniresumen parcial"
   ]
  },
  {
   "cell_type": "markdown",
   "metadata": {},
   "source": [
    "Vector"
   ]
  },
  {
   "cell_type": "code",
   "execution_count": null,
   "metadata": {},
   "outputs": [],
   "source": [
    "vecto_pesos <- c(5,7,8,9,10)\n",
    "vecto_pesos[2:3]"
   ]
  },
  {
   "cell_type": "markdown",
   "metadata": {},
   "source": [
    "Listas"
   ]
  },
  {
   "cell_type": "code",
   "execution_count": null,
   "metadata": {},
   "outputs": [],
   "source": [
    "lista_medidas <- list(altura=1.5, ancho=1, peso = 3, unidades_peso=\"Kg\", unidades_medida=\"m\", \n",
    "                      fabricacion=list(numeroserie=\"A1238656\", origen=\"Zamora\"))\n",
    "lista_medidas"
   ]
  },
  {
   "cell_type": "code",
   "execution_count": null,
   "metadata": {},
   "outputs": [],
   "source": [
    "lista_medidas[[\"altura\"]]"
   ]
  },
  {
   "cell_type": "markdown",
   "metadata": {},
   "source": [
    "## Data Frame\n",
    "\n",
    "Un Dataframe es una tabla como la que podemos encontrar en cualquier hoja de calculo.\n",
    "\n",
    "![](pics/ejemplo_dataframe.png)\n",
    "\n",
    "La información se estructura en columnas, cada columna puede ser de un tipo de variable diferente: categorica, numerica, fecha, etc..\n",
    "\n",
    "Cada fila representa un elemento u objeto cuyos atributos están representados por las columnas."
   ]
  },
  {
   "cell_type": "markdown",
   "metadata": {},
   "source": [
    "En R se definen como un conjunto de vectores de la misma longitud. Cada vector puede ser de un tipo diferente."
   ]
  },
  {
   "cell_type": "code",
   "execution_count": null,
   "metadata": {},
   "outputs": [],
   "source": [
    "plt <- c(\"Bollo\",\"Palomitas\",\"Limón\",\"Ginebra\",\"Noodles\",\"Caramelo\",\"Patatas fritas\",\"Naranja\",\"Ternera\",\"Cerdo\",\"Sopa\")\n",
    "cal <-c(150,200,10,20,200,5,500,15,450,460,30)"
   ]
  },
  {
   "cell_type": "code",
   "execution_count": null,
   "metadata": {},
   "outputs": [],
   "source": [
    "idx<- 5 \n",
    "paste(\"Elemento\",idx,\":\",plt[idx],\"-\",cal[idx],\"cal\")"
   ]
  },
  {
   "cell_type": "code",
   "execution_count": null,
   "metadata": {},
   "outputs": [],
   "source": [
    "comidas<-data.frame(plato=plt, calorias=cal, sabor=saboresDePlatos, stringsAsFactors = F)\n",
    "comidas\n",
    "str(comidas)"
   ]
  },
  {
   "cell_type": "markdown",
   "metadata": {},
   "source": [
    "### Acceso a elementos de un data frame"
   ]
  },
  {
   "cell_type": "markdown",
   "metadata": {},
   "source": [
    "Acceso por filas:"
   ]
  },
  {
   "cell_type": "code",
   "execution_count": null,
   "metadata": {},
   "outputs": [],
   "source": [
    "comidas[2:3,]"
   ]
  },
  {
   "cell_type": "code",
   "execution_count": null,
   "metadata": {},
   "outputs": [],
   "source": [
    "comidas[c(-1,-3,-5,-10,-11),]"
   ]
  },
  {
   "cell_type": "markdown",
   "metadata": {},
   "source": [
    "Acceso por columnas:"
   ]
  },
  {
   "cell_type": "code",
   "execution_count": null,
   "metadata": {},
   "outputs": [],
   "source": [
    "comidas[,c(\"plato\",\"calorias\")]"
   ]
  },
  {
   "cell_type": "markdown",
   "metadata": {},
   "source": [
    "Se puede usar el símbolo **$** para acceder a una columna.  \n",
    "Las siguientes dos llamadas son equivalentes:"
   ]
  },
  {
   "cell_type": "code",
   "execution_count": null,
   "metadata": {},
   "outputs": [],
   "source": [
    "comidas$plato"
   ]
  },
  {
   "cell_type": "code",
   "execution_count": null,
   "metadata": {},
   "outputs": [],
   "source": [
    "comidas[,\"plato\"]"
   ]
  },
  {
   "cell_type": "code",
   "execution_count": null,
   "metadata": {},
   "outputs": [],
   "source": [
    "comidas[,1]"
   ]
  },
  {
   "cell_type": "code",
   "execution_count": null,
   "metadata": {},
   "outputs": [],
   "source": [
    "comidas[,c(-1,-2)]"
   ]
  },
  {
   "cell_type": "code",
   "execution_count": null,
   "metadata": {},
   "outputs": [],
   "source": [
    "comidas$plato[2:3]"
   ]
  },
  {
   "cell_type": "code",
   "execution_count": null,
   "metadata": {},
   "outputs": [],
   "source": [
    "comidas[2:3,\"plato\"]"
   ]
  },
  {
   "cell_type": "code",
   "execution_count": null,
   "metadata": {},
   "outputs": [],
   "source": [
    "colnames(comidas)"
   ]
  },
  {
   "cell_type": "markdown",
   "metadata": {},
   "source": [
    "Número de filas que tiene un dataframe:"
   ]
  },
  {
   "cell_type": "code",
   "execution_count": null,
   "metadata": {},
   "outputs": [],
   "source": [
    "nrow(comidas)"
   ]
  },
  {
   "cell_type": "markdown",
   "metadata": {},
   "source": [
    "También podemos dar nombres a las filas"
   ]
  },
  {
   "cell_type": "code",
   "execution_count": null,
   "metadata": {},
   "outputs": [],
   "source": [
    "rownames(comidas)<-paste0(\"comida\",1:nrow(comidas))\n",
    "comidas"
   ]
  },
  {
   "cell_type": "code",
   "execution_count": null,
   "metadata": {},
   "outputs": [],
   "source": [
    "comidas[\"comida5\",\"calorias\"]"
   ]
  },
  {
   "cell_type": "code",
   "execution_count": null,
   "metadata": {},
   "outputs": [],
   "source": [
    "comidas[5,\"calorias\"]"
   ]
  },
  {
   "cell_type": "code",
   "execution_count": null,
   "metadata": {},
   "outputs": [],
   "source": [
    "comidas[c(4,2),c(3,2,1)]"
   ]
  },
  {
   "cell_type": "markdown",
   "metadata": {},
   "source": [
    "El nombre de las columnas y de las filas se puede obtener y modificar con las funciones **colnames()** y **rownames()**."
   ]
  },
  {
   "cell_type": "code",
   "execution_count": null,
   "metadata": {},
   "outputs": [],
   "source": [
    "colnames(comidas)\n",
    "rownames(comidas)"
   ]
  },
  {
   "cell_type": "markdown",
   "metadata": {},
   "source": [
    "### Dataset con variable categoricas "
   ]
  },
  {
   "cell_type": "code",
   "execution_count": null,
   "metadata": {},
   "outputs": [],
   "source": [
    "comidas<-data.frame(plato=plt, calorias=cal, sabor=saboresDePlatos, stringsAsFactors = T)\n",
    "comidas\n",
    "str(comidas)"
   ]
  },
  {
   "cell_type": "markdown",
   "metadata": {},
   "source": [
    "## Arrays 3D\n",
    "\n",
    "Se pueden crear arrays N-dimensionales con la función array"
   ]
  },
  {
   "cell_type": "code",
   "execution_count": null,
   "metadata": {},
   "outputs": [],
   "source": [
    "arr<-array(1:12,dim = c(3,2,2))\n",
    "arr"
   ]
  },
  {
   "cell_type": "markdown",
   "metadata": {},
   "source": [
    "El acceso a elementos es similar al de las matrices"
   ]
  },
  {
   "cell_type": "code",
   "execution_count": null,
   "metadata": {},
   "outputs": [],
   "source": [
    "arr[1,2,1]"
   ]
  },
  {
   "cell_type": "code",
   "execution_count": null,
   "metadata": {},
   "outputs": [],
   "source": [
    "arr[1,,]"
   ]
  },
  {
   "cell_type": "code",
   "execution_count": null,
   "metadata": {},
   "outputs": [],
   "source": [
    "arr[2,,]"
   ]
  },
  {
   "cell_type": "code",
   "execution_count": null,
   "metadata": {},
   "outputs": [],
   "source": [
    "arr[3,,]"
   ]
  },
  {
   "cell_type": "code",
   "execution_count": null,
   "metadata": {},
   "outputs": [],
   "source": [
    "arr[4,,]"
   ]
  },
  {
   "cell_type": "code",
   "execution_count": null,
   "metadata": {},
   "outputs": [],
   "source": [
    "arr[,2,]"
   ]
  },
  {
   "cell_type": "markdown",
   "metadata": {},
   "source": [
    "## Fechas"
   ]
  },
  {
   "cell_type": "markdown",
   "metadata": {},
   "source": [
    "Existen dos objetos para almacenar fechas en R.\n",
    "\n",
    "* Posixct es recubrimiento sobre un timestamp en segundos.\n",
    "* Posixlt es una lista de objetos que contiene la información de la fecha"
   ]
  },
  {
   "cell_type": "code",
   "execution_count": null,
   "metadata": {},
   "outputs": [],
   "source": [
    "d1<-as.POSIXct(\"2018-10-5 15:40\")\n",
    "d2<-as.POSIXct(\"5/10/2018 17:33\",format=\"%m/%d/%Y\")\n",
    "\n",
    "d1\n",
    "d2"
   ]
  },
  {
   "cell_type": "code",
   "execution_count": null,
   "metadata": {},
   "outputs": [],
   "source": [
    "str(d1)"
   ]
  },
  {
   "cell_type": "code",
   "execution_count": null,
   "metadata": {},
   "outputs": [],
   "source": [
    "class(d1)"
   ]
  },
  {
   "cell_type": "code",
   "execution_count": null,
   "metadata": {},
   "outputs": [],
   "source": [
    "unclass(d1)"
   ]
  },
  {
   "cell_type": "code",
   "execution_count": null,
   "metadata": {},
   "outputs": [],
   "source": [
    "d1+60*60*24\n"
   ]
  },
  {
   "cell_type": "code",
   "execution_count": null,
   "metadata": {},
   "outputs": [],
   "source": [
    "d3<-as.POSIXlt(\"2018-4-5\")\n",
    "d3"
   ]
  },
  {
   "cell_type": "code",
   "execution_count": null,
   "metadata": {},
   "outputs": [],
   "source": [
    "d3"
   ]
  },
  {
   "cell_type": "code",
   "execution_count": null,
   "metadata": {},
   "outputs": [],
   "source": [
    "d3$mday<-6"
   ]
  },
  {
   "cell_type": "code",
   "execution_count": null,
   "metadata": {},
   "outputs": [],
   "source": [
    "d3"
   ]
  },
  {
   "cell_type": "code",
   "execution_count": null,
   "metadata": {},
   "outputs": [],
   "source": [
    "str(d3)"
   ]
  },
  {
   "cell_type": "code",
   "execution_count": null,
   "metadata": {},
   "outputs": [],
   "source": [
    "c(as.POSIXct(\"2018-01-01\"),as.POSIXct(\"2018-01-02\"),as.POSIXct(\"2018-01-03\"))"
   ]
  },
  {
   "cell_type": "code",
   "execution_count": null,
   "metadata": {},
   "outputs": [],
   "source": [
    "df<-data.frame(fecha=c(as.POSIXlt(\"2018-01-01\"),as.POSIXlt(\"2018-01-02\"),as.POSIXlt(\"2018-01-03\")))\n",
    "str(df)\n"
   ]
  },
  {
   "cell_type": "markdown",
   "metadata": {},
   "source": [
    "## Valores infinitos y NaN (Not a Number)\n",
    "\n",
    "Inf y -Inf son negativo positivo y negativo, mientras que NaN significa \"Not a Number\""
   ]
  },
  {
   "cell_type": "code",
   "execution_count": null,
   "metadata": {},
   "outputs": [],
   "source": [
    "x<-10\n",
    "x<-1/0\n",
    "x<-0/0\n",
    "paste(\"El valor de x es\",x)\n",
    "\n",
    "is.finite(x)\n",
    "is.infinite(x)\n",
    "is.nan(x)"
   ]
  },
  {
   "cell_type": "code",
   "execution_count": null,
   "metadata": {},
   "outputs": [],
   "source": [
    "#Valores NaN\n",
    "is.nan(NaN)\n",
    "is.nan(0/0)\n",
    "is.nan(Inf-Inf)"
   ]
  },
  {
   "cell_type": "markdown",
   "metadata": {},
   "source": [
    "La comprobación de si un número es NaN se tiene que realizar con la funcion is.nan()"
   ]
  },
  {
   "cell_type": "code",
   "execution_count": null,
   "metadata": {},
   "outputs": [],
   "source": [
    "x<-NaN\n",
    "x==NaN\n",
    "is.nan(x)"
   ]
  },
  {
   "cell_type": "markdown",
   "metadata": {},
   "source": [
    "## Valores NULL\n",
    "\n",
    "Simplemente son valores que no existen. Es un concepto similar a otros lenguajes como Java o C."
   ]
  },
  {
   "cell_type": "code",
   "execution_count": null,
   "metadata": {},
   "outputs": [],
   "source": [
    "# Los valores NULL simplemente se ignoran\n",
    "c(1,2,NA,NULL,3,NULL,3,NULL)"
   ]
  },
  {
   "cell_type": "code",
   "execution_count": null,
   "metadata": {},
   "outputs": [],
   "source": [
    "x<-NULL\n",
    "x\n",
    "is.null(x)"
   ]
  },
  {
   "cell_type": "code",
   "execution_count": null,
   "metadata": {},
   "outputs": [],
   "source": [
    "df<-data.frame(x=c(1,2,1,1),y=c(3,2,1,1))\n",
    "df"
   ]
  },
  {
   "cell_type": "code",
   "execution_count": null,
   "metadata": {},
   "outputs": [],
   "source": [
    "df$y<- NULL\n",
    "df"
   ]
  },
  {
   "cell_type": "code",
   "execution_count": null,
   "metadata": {},
   "outputs": [],
   "source": [
    "df$y\n",
    "is.null(df$y)"
   ]
  },
  {
   "cell_type": "markdown",
   "metadata": {},
   "source": [
    "## Valores no disponibles / Missing Values\n",
    "\n",
    "Son valores para los cuales no tenemos ninguna medida, se representan con un NA (\"Not Available).\n",
    "\n",
    "Pertenecen a valores perdidos que no se han podido recuperar, errores de medida, perdidas de datos, etc..\n",
    "\n",
    "En R los detectamos con: *is.na(x)*\n",
    "\n",
    "y podemos reemplazar su valor con la media, moda, mediana, etc...\n",
    "\n",
    "o simplemente eliminarlos: *na.omit(x)*\n",
    "\n",
    "Si estamos trabajando con series temporales es posible que queramos hacer una interpolación de los valores perdidos:\n",
    "\n",
    "zoo::na.approx(x)"
   ]
  },
  {
   "cell_type": "code",
   "execution_count": null,
   "metadata": {},
   "outputs": [],
   "source": [
    "NA"
   ]
  },
  {
   "cell_type": "code",
   "execution_count": null,
   "metadata": {},
   "outputs": [],
   "source": [
    "data<-c(1,3,NA,6)\n",
    "data"
   ]
  },
  {
   "cell_type": "code",
   "execution_count": null,
   "metadata": {},
   "outputs": [],
   "source": [
    "is.na(data)"
   ]
  },
  {
   "cell_type": "code",
   "execution_count": null,
   "metadata": {},
   "outputs": [],
   "source": [
    "na.omit(data)"
   ]
  },
  {
   "cell_type": "code",
   "execution_count": null,
   "metadata": {},
   "outputs": [],
   "source": [
    "paste(\"El número de elementos con NA:\",length(data[is.na(data)]))"
   ]
  },
  {
   "cell_type": "code",
   "execution_count": null,
   "metadata": {},
   "outputs": [],
   "source": [
    "paste(\"El número de elementos que NO son NA:\",length(data[!is.na(data)]))"
   ]
  },
  {
   "cell_type": "code",
   "execution_count": null,
   "metadata": {},
   "outputs": [],
   "source": [
    "data[1]<-10\n",
    "data"
   ]
  },
  {
   "cell_type": "code",
   "execution_count": null,
   "metadata": {},
   "outputs": [],
   "source": [
    "data[is.na(data)] <- 28\n",
    "data"
   ]
  },
  {
   "cell_type": "markdown",
   "metadata": {},
   "source": [
    "## Ejemplo datos reales\n",
    "\n",
    "\n",
    "#### Dataset coches\n",
    "\n",
    "Partimos del dataset de seguro de automóviles que podemos descargar de:\n",
    "\n",
    "https://archive.ics.uci.edu/ml/datasets/Automobile\n"
   ]
  },
  {
   "cell_type": "code",
   "execution_count": null,
   "metadata": {},
   "outputs": [],
   "source": [
    "autos<-read.csv(\"./data//imports-85.data\", col.names = c(\"risk\", \"normalized_losses\", \n",
    "                                                         \"make\", \"fuel_type\", \"aspiration\",\n",
    "           \"num_doors\", \"body_style\", \"drive_wheels\", \"engine_location\",\n",
    "           \"wheel_base\", \"length\", \"width\", \"height\", \"curb_weight\",\n",
    "           \"engine_type\", \"num_cylinders\", \"engine_size\", \"fuel_system\",\n",
    "           \"bore\", \"stroke\", \"compression_ratio\", \"horsepower\", \"peak_rpm\",\n",
    "           \"city_mpg\", \"highway_mpg\", \"price\"))"
   ]
  },
  {
   "cell_type": "code",
   "execution_count": null,
   "metadata": {},
   "outputs": [],
   "source": []
  },
  {
   "cell_type": "code",
   "execution_count": null,
   "metadata": {},
   "outputs": [],
   "source": []
  },
  {
   "cell_type": "markdown",
   "metadata": {},
   "source": [
    "Nos quedamos solo con las columnas: \"price\",\"horsepower\",\"body_style\",\"risk\""
   ]
  },
  {
   "cell_type": "code",
   "execution_count": null,
   "metadata": {},
   "outputs": [],
   "source": []
  },
  {
   "cell_type": "markdown",
   "metadata": {
    "collapsed": true
   },
   "source": [
    "En este CSV cuando existe un valor desconocido lo han indicado con el caracter '?'. Por ese motivo la columna 'price' y 'horsepower' es factor en lugar de numeric.\n",
    "Tenemos que indicarle a R que son NA:"
   ]
  },
  {
   "cell_type": "code",
   "execution_count": null,
   "metadata": {},
   "outputs": [],
   "source": []
  },
  {
   "cell_type": "markdown",
   "metadata": {},
   "source": [
    "Tenemos que convertir el factor de 'price' y 'horsepower' en valores numéricos:"
   ]
  },
  {
   "cell_type": "code",
   "execution_count": null,
   "metadata": {},
   "outputs": [],
   "source": []
  },
  {
   "cell_type": "markdown",
   "metadata": {
    "collapsed": true
   },
   "source": [
    "#### Dataset cancer esófago\n",
    "\n",
    "\n",
    "Se realizó un estudio retrospectivo de casos y controles de 200 casos masculinos de cáncer de esófago y 778 controles poblacionales en Ille-et-Vilanine (Francia). Los logaritmos de los riesgos relativos de desarrollar la enfermedad aumentan linealmente con el consumo diario de alcohol y tabaco de manera independiente. El efecto combinado de ambos se ajusta con un modelo multiplicativo que se propone. Este modelo podría ser aplicable a otras situaciones. Explica la proporción de sexos y las diferencias urbanas / rurales observadas en Ille-er-Vilaine. \n",
    "\n",
    "http://www.math.umd.edu/~evs/s430.old/Data/ESOPH.dat\n",
    "\n",
    "Columnas:\n",
    "* agegp: grupo de edad\n",
    "* alcgp: consumo de alcohol\n",
    "* tobgp: consumo de tabaco\n",
    "* ncases: número de casos de cancer\n",
    "* ncontrol: población de control\n"
   ]
  },
  {
   "cell_type": "code",
   "execution_count": null,
   "metadata": {},
   "outputs": [],
   "source": [
    "dfcancer<-read.csv(\"data/ESOPH.dat\",skip=43,sep = \"\")\n",
    "head(dfcancer)"
   ]
  },
  {
   "cell_type": "code",
   "execution_count": null,
   "metadata": {},
   "outputs": [],
   "source": []
  },
  {
   "cell_type": "markdown",
   "metadata": {},
   "source": [
    "En ocasiones podemos convertir los factores en números. Com en este caso que sustituimos los rangos por su valor medio:"
   ]
  },
  {
   "cell_type": "code",
   "execution_count": null,
   "metadata": {},
   "outputs": [],
   "source": []
  }
 ],
 "metadata": {
  "kernelspec": {
   "display_name": "R",
   "language": "R",
   "name": "ir"
  },
  "language_info": {
   "codemirror_mode": "r",
   "file_extension": ".r",
   "mimetype": "text/x-r-source",
   "name": "R",
   "pygments_lexer": "r",
   "version": "4.1.0"
  }
 },
 "nbformat": 4,
 "nbformat_minor": 1
}
