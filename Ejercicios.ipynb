{
 "cells": [
  {
   "cell_type": "markdown",
   "metadata": {},
   "source": [
    "### Ejemplo probabilidad COVID\n",
    "\n",
    "Supongamos que tenemos una población donde 5 de cada 1000 personas están infectadas.\n",
    "\n",
    "\n",
    "Pintar una curva donde se represente en el eje Y la probabilidad de encontrar **al menos un contagiado** en función del número de personas dado por el eje X"
   ]
  },
  {
   "cell_type": "code",
   "execution_count": null,
   "metadata": {},
   "outputs": [],
   "source": []
  },
  {
   "cell_type": "code",
   "execution_count": null,
   "metadata": {},
   "outputs": [],
   "source": []
  },
  {
   "cell_type": "markdown",
   "metadata": {},
   "source": [
    "Pintar una curva donde se represente en el eje Y la probabilidad de encontrar **exactamente dos contagiados** en función del número de personas dado por el eje X"
   ]
  },
  {
   "cell_type": "code",
   "execution_count": null,
   "metadata": {},
   "outputs": [],
   "source": []
  },
  {
   "cell_type": "markdown",
   "metadata": {},
   "source": [
    "Pintar una curva donde se represente en el eje Y la probabilidad de encontrar **dos o más contagiados** en función del número de personas dado por el eje X"
   ]
  },
  {
   "cell_type": "markdown",
   "metadata": {},
   "source": [
    " ## CSV edad española\n",
    " \n",
    "Usando el CSV del INE.¿Cual es la media de edad de la población española? ¿y la mediana? ¿la moda?\n",
    "\n",
    "La media se puede calcular como: \n",
    "\\\\[ \n",
    "    \\bar{x} =  \\frac{1}{\\text{poblaciónTotal}} \\sum _{i=1}^N edad_i · poblaciónConEdad_i \n",
    "\\\\]"
   ]
  },
  {
   "cell_type": "code",
   "execution_count": 1,
   "metadata": {},
   "outputs": [
    {
     "name": "stderr",
     "output_type": "stream",
     "text": [
      "\n",
      "Attaching package: ‘dplyr’\n",
      "\n",
      "\n",
      "The following objects are masked from ‘package:stats’:\n",
      "\n",
      "    filter, lag\n",
      "\n",
      "\n",
      "The following objects are masked from ‘package:base’:\n",
      "\n",
      "    intersect, setdiff, setequal, union\n",
      "\n",
      "\n",
      "Warning message in mask$eval_all_mutate(quo):\n",
      "“NAs introduced by coercion”\n"
     ]
    },
    {
     "data": {
      "text/html": [
       "<table class=\"dataframe\">\n",
       "<caption>A tibble: 6 × 4</caption>\n",
       "<thead>\n",
       "\t<tr><th scope=col>Ambos sexos</th><th scope=col>Hombres</th><th scope=col>Mujeres</th><th scope=col>edad</th></tr>\n",
       "\t<tr><th scope=col>&lt;dbl&gt;</th><th scope=col>&lt;dbl&gt;</th><th scope=col>&lt;dbl&gt;</th><th scope=col>&lt;dbl&gt;</th></tr>\n",
       "</thead>\n",
       "<tbody>\n",
       "\t<tr><td>336996</td><td>173932</td><td>163064</td><td>0</td></tr>\n",
       "\t<tr><td>345229</td><td>176803</td><td>168426</td><td>1</td></tr>\n",
       "\t<tr><td>366740</td><td>188571</td><td>178169</td><td>2</td></tr>\n",
       "\t<tr><td>384949</td><td>197802</td><td>187147</td><td>3</td></tr>\n",
       "\t<tr><td>411364</td><td>211875</td><td>199489</td><td>4</td></tr>\n",
       "\t<tr><td>434157</td><td>223201</td><td>210956</td><td>5</td></tr>\n",
       "</tbody>\n",
       "</table>\n"
      ],
      "text/latex": [
       "A tibble: 6 × 4\n",
       "\\begin{tabular}{llll}\n",
       " Ambos sexos & Hombres & Mujeres & edad\\\\\n",
       " <dbl> & <dbl> & <dbl> & <dbl>\\\\\n",
       "\\hline\n",
       "\t 336996 & 173932 & 163064 & 0\\\\\n",
       "\t 345229 & 176803 & 168426 & 1\\\\\n",
       "\t 366740 & 188571 & 178169 & 2\\\\\n",
       "\t 384949 & 197802 & 187147 & 3\\\\\n",
       "\t 411364 & 211875 & 199489 & 4\\\\\n",
       "\t 434157 & 223201 & 210956 & 5\\\\\n",
       "\\end{tabular}\n"
      ],
      "text/markdown": [
       "\n",
       "A tibble: 6 × 4\n",
       "\n",
       "| Ambos sexos &lt;dbl&gt; | Hombres &lt;dbl&gt; | Mujeres &lt;dbl&gt; | edad &lt;dbl&gt; |\n",
       "|---|---|---|---|\n",
       "| 336996 | 173932 | 163064 | 0 |\n",
       "| 345229 | 176803 | 168426 | 1 |\n",
       "| 366740 | 188571 | 178169 | 2 |\n",
       "| 384949 | 197802 | 187147 | 3 |\n",
       "| 411364 | 211875 | 199489 | 4 |\n",
       "| 434157 | 223201 | 210956 | 5 |\n",
       "\n"
      ],
      "text/plain": [
       "  Ambos sexos Hombres Mujeres edad\n",
       "1 336996      173932  163064  0   \n",
       "2 345229      176803  168426  1   \n",
       "3 366740      188571  178169  2   \n",
       "4 384949      197802  187147  3   \n",
       "5 411364      211875  199489  4   \n",
       "6 434157      223201  210956  5   "
      ]
     },
     "metadata": {},
     "output_type": "display_data"
    }
   ],
   "source": [
    "library(dplyr)\n",
    "library(tidyr)\n",
    "\n",
    "poblacion_raw<-read.csv(\"data/9663bsc.csv\",skip=0,fileEncoding=\"ISO-8859-1\",header=T, sep=';',stringsAsFactor=F)\n",
    "poblacion_raw$Total <- as.numeric(gsub('\\\\.','',poblacion_raw$Total))\n",
    "poblacion <- poblacion_raw %>% pivot_wider(names_from = Sexo, values_from = Total)  %>% \n",
    " mutate(edad=as.numeric(gsub(\"año(s|)\",\"\",Edad.simple))) %>% drop_na() %>% select(-c(Periodo,Edad.simple)) %>% arrange(edad)\n",
    "\n",
    "head(poblacion)"
   ]
  },
  {
   "cell_type": "markdown",
   "metadata": {},
   "source": [
    "# Origen de la vida\n",
    "\n",
    "Datos basados en:\n",
    "* [Life Before Earth](https://arxiv.org/pdf/1304.3381.pdf)\n",
    "* [Genome increase as a clock for the origin and evolution of life](https://biologydirect.biomedcentral.com/track/pdf/10.1186/1745-6150-1-17?site=biologydirect.biomedcentral.com)\n",
    "\n",
    "\n",
    "La siguiente tabla muestra la complejidad de ADN, eliminando las redundancias, de diferentes grupos de animales y su aparición en la tierra:\n",
    "\n",
    "| especies | genoma completo | genoma sin redundancia | aparición |\n",
    "| - | - | - | - |\n",
    "| mamíferos | $3.2 · 10^9$pb | $4.8 · 10^8$pb | 125 ma |\n",
    "| peces     | $4.8 · 10^8$pb | $1.6 · 10^8$pb | 500 ma |\n",
    "| gusanos   | $9.7 · 10^7$pb | $7.2 · 10^7$pb | 1000ma |\n",
    "| eucariotas| $2.9 · 10^6$pb | $2.9 · 10^6$pb | 2100ma |\n",
    "| procariotas|$5 · 10^5$pb   | $5 · 10^5$pb   | 3500ma |\n",
    "\n",
    "\n",
    "Las columnas significan:\n",
    "* especies: especies de animales.\n",
    "* genoma completo: Longitud del genoma de una especie medido en pares de bases de ADN.\n",
    "* genoma completo: Longitud del genoma de una especie, eliminando la redundancia, medido en pares de bases de ADN.\n",
    "* aparición: Cuando ese conjunto de especies aparecieron.\n",
    "\n",
    "Con estos datos tratar de obtener una regresión que indique cuando apareció un organismo con solo 1 par de bases genéticas. Esto podría marcar el origen de la vida.\n",
    "\n",
    "¿Qué columna habría que coger para hacer la regresión la del genoma completo o el que elimina la redundancia?\n",
    "\n",
    "Ayuda: Es mejor usar escalas logarítmicas."
   ]
  },
  {
   "cell_type": "code",
   "execution_count": null,
   "metadata": {},
   "outputs": [],
   "source": [
    "df<-data.frame(especie=c(\"mamíferos\",\"peces\",\"gusanos\",\"eucariotas\",\"procariotas\"),\n",
    "           gen_total=c(3.2e9,4.8e8,9.7e7,2.9e6,5e5),\n",
    "          gen_reduc=c(4.8e8,1.6e8,7.2e7,2.9e6,5e5),\n",
    "          aparicion=c(-125,-500,-1000,-2100,-3550))"
   ]
  },
  {
   "cell_type": "code",
   "execution_count": null,
   "metadata": {},
   "outputs": [],
   "source": [
    "df"
   ]
  },
  {
   "cell_type": "code",
   "execution_count": null,
   "metadata": {},
   "outputs": [],
   "source": [
    "library(ggplot2)\n",
    "library(reshape2)\n",
    "\n",
    "options(repr.plot.height=3,repr.plot.width=7)\n",
    "dfm<-melt(df,id=c(\"especie\",\"aparicion\"))\n",
    "#dfm\n",
    "ggplot(data=dfm,aes(x=aparicion,y=value))+geom_point(aes(shape=variable,color=variable))+theme_bw()"
   ]
  },
  {
   "cell_type": "code",
   "execution_count": null,
   "metadata": {},
   "outputs": [],
   "source": [
    "dflog<-df\n",
    "dflog[,2:3] <- log10(dflog[,2:3])\n",
    "dflog\n",
    "dfm<-melt(dflog,id=c(\"especie\",\"aparicion\"))\n",
    "#dfm\n",
    "ggplot(data=dfm,aes(x=aparicion,y=value))+geom_point(aes(shape=variable,color=variable))+theme_bw()"
   ]
  },
  {
   "cell_type": "code",
   "execution_count": null,
   "metadata": {},
   "outputs": [],
   "source": []
  }
 ],
 "metadata": {
  "kernelspec": {
   "display_name": "R",
   "language": "R",
   "name": "ir"
  },
  "language_info": {
   "codemirror_mode": "r",
   "file_extension": ".r",
   "mimetype": "text/x-r-source",
   "name": "R",
   "pygments_lexer": "r",
   "version": "4.1.0"
  }
 },
 "nbformat": 4,
 "nbformat_minor": 1
}
