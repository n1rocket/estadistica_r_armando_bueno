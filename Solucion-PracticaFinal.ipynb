{
 "cells": [
  {
   "cell_type": "code",
   "execution_count": 1,
   "metadata": {},
   "outputs": [],
   "source": [
    "library(ggplot2)\n",
    "options(repr.plot.height=4,repr.plot.width=6)"
   ]
  },
  {
   "cell_type": "markdown",
   "metadata": {},
   "source": [
    "Cargar los datos en un dataframe llamado: airbnb"
   ]
  },
  {
   "cell_type": "code",
   "execution_count": 2,
   "metadata": {},
   "outputs": [],
   "source": [
    "airbnb<-read.csv('data//airbnb.csv',sep = ',', stringsAsFactor=T)"
   ]
  },
  {
   "cell_type": "markdown",
   "metadata": {},
   "source": [
    "Mostrar las primeras 6 filas del dataframe"
   ]
  },
  {
   "cell_type": "code",
   "execution_count": 3,
   "metadata": {
    "scrolled": true
   },
   "outputs": [
    {
     "data": {
      "text/html": [
       "<table class=\"dataframe\">\n",
       "<caption>A data.frame: 6 × 13</caption>\n",
       "<thead>\n",
       "\t<tr><th></th><th scope=col>Zipcode</th><th scope=col>Neighbourhood.Cleansed</th><th scope=col>Property.Type</th><th scope=col>Room.Type</th><th scope=col>Accommodates</th><th scope=col>Bathrooms</th><th scope=col>Bedrooms</th><th scope=col>Beds</th><th scope=col>Bed.Type</th><th scope=col>Amenities</th><th scope=col>Square.Feet</th><th scope=col>Price</th><th scope=col>Review.Scores.Rating</th></tr>\n",
       "\t<tr><th></th><th scope=col>&lt;fct&gt;</th><th scope=col>&lt;fct&gt;</th><th scope=col>&lt;fct&gt;</th><th scope=col>&lt;fct&gt;</th><th scope=col>&lt;int&gt;</th><th scope=col>&lt;dbl&gt;</th><th scope=col>&lt;int&gt;</th><th scope=col>&lt;int&gt;</th><th scope=col>&lt;fct&gt;</th><th scope=col>&lt;fct&gt;</th><th scope=col>&lt;int&gt;</th><th scope=col>&lt;int&gt;</th><th scope=col>&lt;int&gt;</th></tr>\n",
       "</thead>\n",
       "<tbody>\n",
       "\t<tr><th scope=row>1</th><td>28004</td><td>Universidad</td><td>Apartment</td><td>Private room   </td><td>2</td><td>2</td><td>1</td><td>1</td><td>Real Bed</td><td>TV,Wireless Internet,Kitchen,Pets allowed,Pets live on this property,Buzzer/wireless intercom,Heating,Suitable for events,Washer,First aid kit,Essentials,Lock on bedroom door,Iron                                                                                                                                                                             </td><td> NA</td><td>35</td><td> NA</td></tr>\n",
       "\t<tr><th scope=row>2</th><td>28004</td><td>Universidad</td><td>Apartment</td><td>Entire home/apt</td><td>6</td><td>1</td><td>3</td><td>5</td><td>Real Bed</td><td>TV,Internet,Wireless Internet,Air conditioning,Kitchen,Indoor fireplace,Heating,Family/kid friendly,Washer,Dryer,Smoke detector,Carbon monoxide detector,Essentials,Shampoo                                                                                                                                                                                     </td><td> NA</td><td>92</td><td> 96</td></tr>\n",
       "\t<tr><th scope=row>3</th><td>28004</td><td>Universidad</td><td>Apartment</td><td>Entire home/apt</td><td>3</td><td>1</td><td>2</td><td>2</td><td>Real Bed</td><td>TV,Internet,Wireless Internet,Air conditioning,Kitchen,Doorman,Heating,Family/kid friendly,Washer,Essentials,Shampoo,Hangers,Hair dryer,Iron,Laptop friendly workspace                                                                                                                                                                                          </td><td> NA</td><td>55</td><td> 91</td></tr>\n",
       "\t<tr><th scope=row>4</th><td>28004</td><td>Universidad</td><td>Loft     </td><td>Entire home/apt</td><td>3</td><td>2</td><td>1</td><td>1</td><td>Real Bed</td><td>TV,Internet,Wireless Internet,Air conditioning,Kitchen,Pets allowed,Breakfast,Elevator in building,Indoor fireplace,Buzzer/wireless intercom,Heating,Washer,Essentials,Shampoo,Hangers,Hair dryer,Iron,Laptop friendly workspace,translation missing: en.hosting_amenity_49,translation missing: en.hosting_amenity_50                                          </td><td> NA</td><td>60</td><td>100</td></tr>\n",
       "\t<tr><th scope=row>5</th><td>28015</td><td>Universidad</td><td>Apartment</td><td>Entire home/apt</td><td>5</td><td>1</td><td>1</td><td>1</td><td>Real Bed</td><td>TV,Wireless Internet,Air conditioning,Kitchen,Smoking allowed,Pets allowed,Elevator in building,Heating,Family/kid friendly,Washer,Essentials,Iron                                                                                                                                                                                                              </td><td>538</td><td>75</td><td> 90</td></tr>\n",
       "\t<tr><th scope=row>6</th><td>28004</td><td>Universidad</td><td>Apartment</td><td>Entire home/apt</td><td>2</td><td>1</td><td>0</td><td>1</td><td>Real Bed</td><td>TV,Cable TV,Internet,Wireless Internet,Air conditioning,Wheelchair accessible,Kitchen,Doorman,Elevator in building,Buzzer/wireless intercom,Heating,Washer,Smoke detector,Carbon monoxide detector,First aid kit,Safety card,Fire extinguisher,Essentials,Shampoo,24-hour check-in,Hangers,Hair dryer,Iron,Laptop friendly workspace,Self Check-In,Doorman Entry</td><td> NA</td><td>55</td><td> 95</td></tr>\n",
       "</tbody>\n",
       "</table>\n"
      ],
      "text/latex": [
       "A data.frame: 6 × 13\n",
       "\\begin{tabular}{r|lllllllllllll}\n",
       "  & Zipcode & Neighbourhood.Cleansed & Property.Type & Room.Type & Accommodates & Bathrooms & Bedrooms & Beds & Bed.Type & Amenities & Square.Feet & Price & Review.Scores.Rating\\\\\n",
       "  & <fct> & <fct> & <fct> & <fct> & <int> & <dbl> & <int> & <int> & <fct> & <fct> & <int> & <int> & <int>\\\\\n",
       "\\hline\n",
       "\t1 & 28004 & Universidad & Apartment & Private room    & 2 & 2 & 1 & 1 & Real Bed & TV,Wireless Internet,Kitchen,Pets allowed,Pets live on this property,Buzzer/wireless intercom,Heating,Suitable for events,Washer,First aid kit,Essentials,Lock on bedroom door,Iron                                                                                                                                                                              &  NA & 35 &  NA\\\\\n",
       "\t2 & 28004 & Universidad & Apartment & Entire home/apt & 6 & 1 & 3 & 5 & Real Bed & TV,Internet,Wireless Internet,Air conditioning,Kitchen,Indoor fireplace,Heating,Family/kid friendly,Washer,Dryer,Smoke detector,Carbon monoxide detector,Essentials,Shampoo                                                                                                                                                                                      &  NA & 92 &  96\\\\\n",
       "\t3 & 28004 & Universidad & Apartment & Entire home/apt & 3 & 1 & 2 & 2 & Real Bed & TV,Internet,Wireless Internet,Air conditioning,Kitchen,Doorman,Heating,Family/kid friendly,Washer,Essentials,Shampoo,Hangers,Hair dryer,Iron,Laptop friendly workspace                                                                                                                                                                                           &  NA & 55 &  91\\\\\n",
       "\t4 & 28004 & Universidad & Loft      & Entire home/apt & 3 & 2 & 1 & 1 & Real Bed & TV,Internet,Wireless Internet,Air conditioning,Kitchen,Pets allowed,Breakfast,Elevator in building,Indoor fireplace,Buzzer/wireless intercom,Heating,Washer,Essentials,Shampoo,Hangers,Hair dryer,Iron,Laptop friendly workspace,translation missing: en.hosting\\_amenity\\_49,translation missing: en.hosting\\_amenity\\_50                                           &  NA & 60 & 100\\\\\n",
       "\t5 & 28015 & Universidad & Apartment & Entire home/apt & 5 & 1 & 1 & 1 & Real Bed & TV,Wireless Internet,Air conditioning,Kitchen,Smoking allowed,Pets allowed,Elevator in building,Heating,Family/kid friendly,Washer,Essentials,Iron                                                                                                                                                                                                               & 538 & 75 &  90\\\\\n",
       "\t6 & 28004 & Universidad & Apartment & Entire home/apt & 2 & 1 & 0 & 1 & Real Bed & TV,Cable TV,Internet,Wireless Internet,Air conditioning,Wheelchair accessible,Kitchen,Doorman,Elevator in building,Buzzer/wireless intercom,Heating,Washer,Smoke detector,Carbon monoxide detector,First aid kit,Safety card,Fire extinguisher,Essentials,Shampoo,24-hour check-in,Hangers,Hair dryer,Iron,Laptop friendly workspace,Self Check-In,Doorman Entry &  NA & 55 &  95\\\\\n",
       "\\end{tabular}\n"
      ],
      "text/markdown": [
       "\n",
       "A data.frame: 6 × 13\n",
       "\n",
       "| <!--/--> | Zipcode &lt;fct&gt; | Neighbourhood.Cleansed &lt;fct&gt; | Property.Type &lt;fct&gt; | Room.Type &lt;fct&gt; | Accommodates &lt;int&gt; | Bathrooms &lt;dbl&gt; | Bedrooms &lt;int&gt; | Beds &lt;int&gt; | Bed.Type &lt;fct&gt; | Amenities &lt;fct&gt; | Square.Feet &lt;int&gt; | Price &lt;int&gt; | Review.Scores.Rating &lt;int&gt; |\n",
       "|---|---|---|---|---|---|---|---|---|---|---|---|---|---|\n",
       "| 1 | 28004 | Universidad | Apartment | Private room    | 2 | 2 | 1 | 1 | Real Bed | TV,Wireless Internet,Kitchen,Pets allowed,Pets live on this property,Buzzer/wireless intercom,Heating,Suitable for events,Washer,First aid kit,Essentials,Lock on bedroom door,Iron                                                                                                                                                                              |  NA | 35 |  NA |\n",
       "| 2 | 28004 | Universidad | Apartment | Entire home/apt | 6 | 1 | 3 | 5 | Real Bed | TV,Internet,Wireless Internet,Air conditioning,Kitchen,Indoor fireplace,Heating,Family/kid friendly,Washer,Dryer,Smoke detector,Carbon monoxide detector,Essentials,Shampoo                                                                                                                                                                                      |  NA | 92 |  96 |\n",
       "| 3 | 28004 | Universidad | Apartment | Entire home/apt | 3 | 1 | 2 | 2 | Real Bed | TV,Internet,Wireless Internet,Air conditioning,Kitchen,Doorman,Heating,Family/kid friendly,Washer,Essentials,Shampoo,Hangers,Hair dryer,Iron,Laptop friendly workspace                                                                                                                                                                                           |  NA | 55 |  91 |\n",
       "| 4 | 28004 | Universidad | Loft      | Entire home/apt | 3 | 2 | 1 | 1 | Real Bed | TV,Internet,Wireless Internet,Air conditioning,Kitchen,Pets allowed,Breakfast,Elevator in building,Indoor fireplace,Buzzer/wireless intercom,Heating,Washer,Essentials,Shampoo,Hangers,Hair dryer,Iron,Laptop friendly workspace,translation missing: en.hosting_amenity_49,translation missing: en.hosting_amenity_50                                           |  NA | 60 | 100 |\n",
       "| 5 | 28015 | Universidad | Apartment | Entire home/apt | 5 | 1 | 1 | 1 | Real Bed | TV,Wireless Internet,Air conditioning,Kitchen,Smoking allowed,Pets allowed,Elevator in building,Heating,Family/kid friendly,Washer,Essentials,Iron                                                                                                                                                                                                               | 538 | 75 |  90 |\n",
       "| 6 | 28004 | Universidad | Apartment | Entire home/apt | 2 | 1 | 0 | 1 | Real Bed | TV,Cable TV,Internet,Wireless Internet,Air conditioning,Wheelchair accessible,Kitchen,Doorman,Elevator in building,Buzzer/wireless intercom,Heating,Washer,Smoke detector,Carbon monoxide detector,First aid kit,Safety card,Fire extinguisher,Essentials,Shampoo,24-hour check-in,Hangers,Hair dryer,Iron,Laptop friendly workspace,Self Check-In,Doorman Entry |  NA | 55 |  95 |\n",
       "\n"
      ],
      "text/plain": [
       "  Zipcode Neighbourhood.Cleansed Property.Type Room.Type       Accommodates\n",
       "1 28004   Universidad            Apartment     Private room    2           \n",
       "2 28004   Universidad            Apartment     Entire home/apt 6           \n",
       "3 28004   Universidad            Apartment     Entire home/apt 3           \n",
       "4 28004   Universidad            Loft          Entire home/apt 3           \n",
       "5 28015   Universidad            Apartment     Entire home/apt 5           \n",
       "6 28004   Universidad            Apartment     Entire home/apt 2           \n",
       "  Bathrooms Bedrooms Beds Bed.Type\n",
       "1 2         1        1    Real Bed\n",
       "2 1         3        5    Real Bed\n",
       "3 1         2        2    Real Bed\n",
       "4 2         1        1    Real Bed\n",
       "5 1         1        1    Real Bed\n",
       "6 1         0        1    Real Bed\n",
       "  Amenities                                                                                                                                                                                                                                                                                                                                                       \n",
       "1 TV,Wireless Internet,Kitchen,Pets allowed,Pets live on this property,Buzzer/wireless intercom,Heating,Suitable for events,Washer,First aid kit,Essentials,Lock on bedroom door,Iron                                                                                                                                                                             \n",
       "2 TV,Internet,Wireless Internet,Air conditioning,Kitchen,Indoor fireplace,Heating,Family/kid friendly,Washer,Dryer,Smoke detector,Carbon monoxide detector,Essentials,Shampoo                                                                                                                                                                                     \n",
       "3 TV,Internet,Wireless Internet,Air conditioning,Kitchen,Doorman,Heating,Family/kid friendly,Washer,Essentials,Shampoo,Hangers,Hair dryer,Iron,Laptop friendly workspace                                                                                                                                                                                          \n",
       "4 TV,Internet,Wireless Internet,Air conditioning,Kitchen,Pets allowed,Breakfast,Elevator in building,Indoor fireplace,Buzzer/wireless intercom,Heating,Washer,Essentials,Shampoo,Hangers,Hair dryer,Iron,Laptop friendly workspace,translation missing: en.hosting_amenity_49,translation missing: en.hosting_amenity_50                                          \n",
       "5 TV,Wireless Internet,Air conditioning,Kitchen,Smoking allowed,Pets allowed,Elevator in building,Heating,Family/kid friendly,Washer,Essentials,Iron                                                                                                                                                                                                              \n",
       "6 TV,Cable TV,Internet,Wireless Internet,Air conditioning,Wheelchair accessible,Kitchen,Doorman,Elevator in building,Buzzer/wireless intercom,Heating,Washer,Smoke detector,Carbon monoxide detector,First aid kit,Safety card,Fire extinguisher,Essentials,Shampoo,24-hour check-in,Hangers,Hair dryer,Iron,Laptop friendly workspace,Self Check-In,Doorman Entry\n",
       "  Square.Feet Price Review.Scores.Rating\n",
       "1  NA         35     NA                 \n",
       "2  NA         92     96                 \n",
       "3  NA         55     91                 \n",
       "4  NA         60    100                 \n",
       "5 538         75     90                 \n",
       "6  NA         55     95                 "
      ]
     },
     "metadata": {},
     "output_type": "display_data"
    }
   ],
   "source": [
    "head(airbnb)"
   ]
  },
  {
   "cell_type": "markdown",
   "metadata": {},
   "source": [
    "Renombrar las columnas de la siguiente forma:\n",
    "\n",
    "| Nombre original | Nuevo nombre |\n",
    "| - | - |\n",
    "| Zipcode | CodigoPostal |\n",
    "| Neighbourhood.Cleansed | Barrio |\n",
    "| Property.Type\t| TipoPropiedad |\n",
    "| Room.Type | TipoAlquiler |\n",
    "| Accommodates | MaxOcupantes |\n",
    "| Bathrooms\t| NumBanyos |\n",
    "| Bedrooms\t| NumDormitorios |\n",
    "| Beds\t|  NumCamas |\n",
    "| Bed.Type\t| TipoCama |\n",
    "| Amenities | Comodidades |\n",
    "| Square.Feet | PiesCuadrados |\n",
    "| Price\t| Precio |\n",
    "| Review.Scores.Rating | Puntuacion |"
   ]
  },
  {
   "cell_type": "code",
   "execution_count": 4,
   "metadata": {},
   "outputs": [
    {
     "data": {
      "text/plain": [
       "    Zipcode     Neighbourhood.Cleansed         Property.Type  \n",
       " 28012  :2060   Embajadores:1844       Apartment      :10888  \n",
       " 28004  :1794   Universidad:1358       House          :  966  \n",
       " 28005  :1194   Palacio    :1083       Condominium    :  345  \n",
       " 28013  :1019   Sol        : 940       Bed & Breakfast:  337  \n",
       " 28014  : 630   Justicia   : 785       Loft           :  283  \n",
       " 28015  : 600   Cortes     : 750       Other          :  220  \n",
       " (Other):5910   (Other)    :6447       (Other)        :  168  \n",
       "           Room.Type     Accommodates      Bathrooms        Bedrooms     \n",
       " Entire home/apt:7903   Min.   : 1.000   Min.   :0.000   Min.   : 0.000  \n",
       " Private room   :5113   1st Qu.: 2.000   1st Qu.:1.000   1st Qu.: 1.000  \n",
       " Shared room    : 191   Median : 2.000   Median :1.000   Median : 1.000  \n",
       "                        Mean   : 3.191   Mean   :1.253   Mean   : 1.294  \n",
       "                        3rd Qu.: 4.000   3rd Qu.:1.000   3rd Qu.: 2.000  \n",
       "                        Max.   :16.000   Max.   :8.000   Max.   :10.000  \n",
       "                                         NA's   :49      NA's   :23      \n",
       "      Beds                 Bed.Type    \n",
       " Min.   : 1.000   Airbed       :    5  \n",
       " 1st Qu.: 1.000   Couch        :   15  \n",
       " Median : 2.000   Futon        :   35  \n",
       " Mean   : 1.986   Pull-out Sofa:  238  \n",
       " 3rd Qu.: 2.000   Real Bed     :12914  \n",
       " Max.   :16.000                        \n",
       " NA's   :49                            \n",
       "                                                                                                                                                                                                                         Amenities    \n",
       "                                                                                                                                                                                                                              :  107  \n",
       " TV,Internet,Wireless Internet,Air conditioning,Kitchen,Elevator in building,Buzzer/wireless intercom,Heating,Family/kid friendly,Washer,Essentials,Hangers,Hair dryer,Iron,Laptop friendly workspace                         :   41  \n",
       " TV,Wireless Internet,Air conditioning,Kitchen,Elevator in building,Heating,Family/kid friendly,Washer,Dryer,Essentials,Shampoo,Hangers,Hair dryer,Iron                                                                       :   34  \n",
       " translation missing: en.hosting_amenity_49,translation missing: en.hosting_amenity_50                                                                                                                                        :   28  \n",
       " TV,Internet,Wireless Internet,Air conditioning,Kitchen,Elevator in building,Buzzer/wireless intercom,Heating,Family/kid friendly,Washer,Essentials,Shampoo,24-hour check-in,Hangers,Hair dryer,Iron,Laptop friendly workspace:   28  \n",
       " Wireless Internet,Heating,Fire extinguisher,Lock on bedroom door,translation missing: en.hosting_amenity_49,translation missing: en.hosting_amenity_50                                                                       :   25  \n",
       " (Other)                                                                                                                                                                                                                      :12944  \n",
       "  Square.Feet        Price        Review.Scores.Rating\n",
       " Min.   :   0    Min.   :  9.00   Min.   : 20.00      \n",
       " 1st Qu.:   0    1st Qu.: 31.00   1st Qu.: 88.00      \n",
       " Median : 108    Median : 52.00   Median : 94.00      \n",
       " Mean   : 378    Mean   : 65.92   Mean   : 91.62      \n",
       " 3rd Qu.: 646    3rd Qu.: 80.00   3rd Qu.: 98.00      \n",
       " Max.   :5167    Max.   :875.00   Max.   :100.00      \n",
       " NA's   :12688   NA's   :9        NA's   :2838        "
      ]
     },
     "metadata": {},
     "output_type": "display_data"
    }
   ],
   "source": [
    "summary(airbnb)"
   ]
  },
  {
   "cell_type": "code",
   "execution_count": 5,
   "metadata": {},
   "outputs": [],
   "source": [
    "newnames<-c(\"CodigoPostal\",\"Barrio\",\"TipoPropiedad\",\"TipoAlquiler\",\"MaxOcupantes\",\"NumBanyos\",\n",
    "\"NumDormitorios\",\"NumCamas\",\"TipoCama\",\"Comodidades\",\"PiesCuadrados\",\"Precio\",\"Puntuacion\")\n",
    "colnames(airbnb)<-newnames"
   ]
  },
  {
   "cell_type": "markdown",
   "metadata": {},
   "source": [
    "Crea una nueva columna llamada MetrosCuadrados a partir de la columna PiesCuadrados.\n",
    "\n",
    "Ayuda: 1 pie cuadrado son 0,092903 metros cuadrdados"
   ]
  },
  {
   "cell_type": "code",
   "execution_count": 6,
   "metadata": {},
   "outputs": [
    {
     "data": {
      "text/html": [
       "<table class=\"dataframe\">\n",
       "<caption>A data.frame: 170 × 13</caption>\n",
       "<thead>\n",
       "\t<tr><th></th><th scope=col>CodigoPostal</th><th scope=col>Barrio</th><th scope=col>TipoPropiedad</th><th scope=col>TipoAlquiler</th><th scope=col>MaxOcupantes</th><th scope=col>NumBanyos</th><th scope=col>NumDormitorios</th><th scope=col>NumCamas</th><th scope=col>TipoCama</th><th scope=col>Comodidades</th><th scope=col>PiesCuadrados</th><th scope=col>Precio</th><th scope=col>Puntuacion</th></tr>\n",
       "\t<tr><th></th><th scope=col>&lt;fct&gt;</th><th scope=col>&lt;fct&gt;</th><th scope=col>&lt;fct&gt;</th><th scope=col>&lt;fct&gt;</th><th scope=col>&lt;int&gt;</th><th scope=col>&lt;dbl&gt;</th><th scope=col>&lt;int&gt;</th><th scope=col>&lt;int&gt;</th><th scope=col>&lt;fct&gt;</th><th scope=col>&lt;fct&gt;</th><th scope=col>&lt;int&gt;</th><th scope=col>&lt;int&gt;</th><th scope=col>&lt;int&gt;</th></tr>\n",
       "</thead>\n",
       "<tbody>\n",
       "\t<tr><th scope=row>365</th><td>28002</td><td>El Viso      </td><td>Apartment      </td><td>Private room   </td><td>2</td><td>1.0</td><td>1</td><td>1</td><td>Real Bed     </td><td>TV,Cable TV,Internet,Wireless Internet,Air conditioning,Kitchen,Breakfast,Heating,Washer,Essentials,Shampoo                                                                                                                                                                                                                                       </td><td>NA</td><td> 26</td><td> 98</td></tr>\n",
       "\t<tr><th scope=row>366</th><td>28002</td><td>El Viso      </td><td>Apartment      </td><td>Entire home/apt</td><td>6</td><td>1.0</td><td>3</td><td>4</td><td>Real Bed     </td><td>TV,Internet,Wireless Internet,Air conditioning,Kitchen,Buzzer/wireless intercom,Heating,Family/kid friendly,Washer,Smoke detector,Carbon monoxide detector,First aid kit,Essentials,Shampoo,24-hour check-in,Hangers,Hair dryer,Iron,Laptop friendly workspace                                                                                    </td><td>NA</td><td> 82</td><td> 94</td></tr>\n",
       "\t<tr><th scope=row>368</th><td>28002</td><td>Prosperidad  </td><td>Loft           </td><td>Entire home/apt</td><td>2</td><td>1.0</td><td>1</td><td>1</td><td>Real Bed     </td><td>TV,Kitchen,Heating,Family/kid friendly,Essentials,Shampoo,Hangers,Hair dryer,Iron,Laptop friendly workspace                                                                                                                                                                                                                                       </td><td>NA</td><td> 65</td><td> 83</td></tr>\n",
       "\t<tr><th scope=row>369</th><td>28002</td><td>Prosperidad  </td><td>Apartment      </td><td>Entire home/apt</td><td>5</td><td>1.0</td><td>3</td><td>4</td><td>Real Bed     </td><td>TV,Wireless Internet,Kitchen,Elevator in building,Buzzer/wireless intercom,Heating,Family/kid friendly,Washer,Shampoo                                                                                                                                                                                                                             </td><td>NA</td><td> 69</td><td> 84</td></tr>\n",
       "\t<tr><th scope=row>405</th><td>28002</td><td>Prosperidad  </td><td>Apartment      </td><td>Entire home/apt</td><td>4</td><td>2.0</td><td>2</td><td>4</td><td>Real Bed     </td><td>TV,Internet,Wireless Internet,Air conditioning,Kitchen,Heating,Family/kid friendly,Washer,Dryer,First aid kit,Essentials,Shampoo                                                                                                                                                                                                                  </td><td>NA</td><td> 80</td><td> NA</td></tr>\n",
       "\t<tr><th scope=row>406</th><td>28002</td><td>Prosperidad  </td><td>Apartment      </td><td>Entire home/apt</td><td>4</td><td>1.0</td><td>1</td><td>2</td><td>Real Bed     </td><td>TV,Wireless Internet,Air conditioning,Kitchen,Free parking on premises,Elevator in building,Heating,Family/kid friendly,Washer,Dryer,Essentials,Hangers,Hair dryer,Iron                                                                                                                                                                           </td><td>NA</td><td>100</td><td> 99</td></tr>\n",
       "\t<tr><th scope=row>407</th><td>28002</td><td>Ciudad Jardín</td><td>Apartment      </td><td>Private room   </td><td>1</td><td>1.0</td><td>1</td><td>2</td><td>Real Bed     </td><td>Internet,Wireless Internet,Kitchen,Smoking allowed,Pets allowed,Elevator in building,Buzzer/wireless intercom,Heating,Washer,Hangers,Iron,Laptop friendly workspace                                                                                                                                                                               </td><td>NA</td><td> 25</td><td> NA</td></tr>\n",
       "\t<tr><th scope=row>639</th><td>28002</td><td>El Viso      </td><td>Apartment      </td><td>Private room   </td><td>2</td><td>1.0</td><td>1</td><td>2</td><td>Real Bed     </td><td>TV,Internet,Wireless Internet,Kitchen,Breakfast,Elevator in building,Heating,Washer                                                                                                                                                                                                                                                               </td><td>NA</td><td> 30</td><td> 96</td></tr>\n",
       "\t<tr><th scope=row>640</th><td>28002</td><td>Prosperidad  </td><td>Apartment      </td><td>Private room   </td><td>1</td><td>1.0</td><td>1</td><td>1</td><td>Real Bed     </td><td>Internet,Wireless Internet,Kitchen,Smoking allowed,Elevator in building,Buzzer/wireless intercom,Washer,Fire extinguisher,Essentials,Shampoo,Lock on bedroom door,24-hour check-in,Hangers,Hair dryer,Iron,Laptop friendly workspace,translation missing: en.hosting_amenity_49,translation missing: en.hosting_amenity_50,Self Check-In,Smartlock</td><td>NA</td><td> 19</td><td> 95</td></tr>\n",
       "\t<tr><th scope=row>641</th><td>28002</td><td>Prosperidad  </td><td>Apartment      </td><td>Private room   </td><td>3</td><td>1.0</td><td>1</td><td>1</td><td>Real Bed     </td><td>Internet,Wireless Internet,Wheelchair accessible,Kitchen,Doorman,Elevator in building,Buzzer/wireless intercom,Heating,Essentials,24-hour check-in,Hangers,Hair dryer,Iron,Laptop friendly workspace,translation missing: en.hosting_amenity_49,translation missing: en.hosting_amenity_50                                                        </td><td>NA</td><td> 30</td><td> 85</td></tr>\n",
       "\t<tr><th scope=row>643</th><td>28002</td><td>Prosperidad  </td><td>Apartment      </td><td>Private room   </td><td>1</td><td>1.0</td><td>1</td><td>1</td><td>Real Bed     </td><td>TV,Internet,Wireless Internet,Kitchen,Smoking allowed,Heating,Family/kid friendly,Essentials,Lock on bedroom door,24-hour check-in,Hair dryer,Laptop friendly workspace                                                                                                                                                                           </td><td>NA</td><td> 23</td><td> 88</td></tr>\n",
       "\t<tr><th scope=row>644</th><td>28002</td><td>Prosperidad  </td><td>House          </td><td>Entire home/apt</td><td>5</td><td>2.0</td><td>3</td><td>4</td><td>Real Bed     </td><td>TV,Internet,Wireless Internet,Air conditioning,Kitchen,Elevator in building,Heating,Family/kid friendly,Washer,Essentials,Shampoo                                                                                                                                                                                                                 </td><td>NA</td><td>125</td><td>100</td></tr>\n",
       "\t<tr><th scope=row>645</th><td>28002</td><td>Prosperidad  </td><td>House          </td><td>Private room   </td><td>2</td><td>1.0</td><td>1</td><td>1</td><td>Real Bed     </td><td>Wireless Internet,Air conditioning,Pool,Kitchen,Doorman,Elevator in building,Heating,Suitable for events,Washer,Dryer,Essentials,Shampoo,Lock on bedroom door,24-hour check-in,Hangers,Hair dryer,Iron,Laptop friendly workspace,translation missing: en.hosting_amenity_49,translation missing: en.hosting_amenity_50                            </td><td>NA</td><td> 39</td><td>100</td></tr>\n",
       "\t<tr><th scope=row>646</th><td>28002</td><td>Ciudad Jardín</td><td>Apartment      </td><td>Entire home/apt</td><td>4</td><td>1.0</td><td>2</td><td>2</td><td>Real Bed     </td><td>TV,Wireless Internet,Air conditioning,Kitchen,Elevator in building,Heating,Washer,Dryer,Essentials,Shampoo,Hangers,Hair dryer,Iron,Laptop friendly workspace                                                                                                                                                                                      </td><td>NA</td><td>105</td><td> NA</td></tr>\n",
       "\t<tr><th scope=row>647</th><td>28002</td><td>Ciudad Jardín</td><td>Other          </td><td>Entire home/apt</td><td>5</td><td>2.0</td><td>3</td><td>5</td><td>Real Bed     </td><td>TV,Wireless Internet,Air conditioning,Pool,Kitchen,Breakfast,Elevator in building,Heating,Family/kid friendly,Washer,First aid kit,Essentials,Shampoo,Lock on bedroom door,Hangers,Iron,Laptop friendly workspace                                                                                                                                 </td><td>NA</td><td>110</td><td> 95</td></tr>\n",
       "\t<tr><th scope=row>864</th><td>28002</td><td>Prosperidad  </td><td>Apartment      </td><td>Entire home/apt</td><td>3</td><td>1.0</td><td>1</td><td>2</td><td>Real Bed     </td><td>TV,Wireless Internet,Air conditioning,Kitchen,Doorman,Elevator in building,Family/kid friendly,Washer,Smoke detector,Carbon monoxide detector,Essentials,Shampoo,24-hour check-in,Hangers,Hair dryer,Iron,Laptop friendly workspace,Self Check-In,Doorman Entry                                                                                   </td><td>NA</td><td> 50</td><td> 95</td></tr>\n",
       "\t<tr><th scope=row>865</th><td>28002</td><td>Prosperidad  </td><td>Apartment      </td><td>Private room   </td><td>2</td><td>1.0</td><td>1</td><td>1</td><td>Real Bed     </td><td>Wireless Internet,Kitchen,Elevator in building,Heating,Washer,Essentials,Hangers,Iron,Laptop friendly workspace,translation missing: en.hosting_amenity_49                                                                                                                                                                                        </td><td>NA</td><td> 23</td><td>100</td></tr>\n",
       "\t<tr><th scope=row>866</th><td>28002</td><td>Prosperidad  </td><td>Apartment      </td><td>Private room   </td><td>1</td><td>1.0</td><td>1</td><td>1</td><td>Pull-out Sofa</td><td>TV,Wireless Internet,Kitchen,Doorman,Elevator in building,Heating,Washer,Essentials,Shampoo,Hangers,Iron,Laptop friendly workspace,translation missing: en.hosting_amenity_49,translation missing: en.hosting_amenity_50                                                                                                                          </td><td>NA</td><td> 28</td><td>100</td></tr>\n",
       "\t<tr><th scope=row>867</th><td>28002</td><td><span style=white-space:pre-wrap>Prosperidad  </span></td><td>Bed &amp; Breakfast</td><td><span style=white-space:pre-wrap>Private room   </span></td><td>2</td><td>1.0</td><td>1</td><td>1</td><td><span style=white-space:pre-wrap>Real Bed     </span></td><td><span style=white-space:pre-wrap>TV,Internet,Wireless Internet,Air conditioning,Kitchen,Breakfast,Elevator in building,Buzzer/wireless intercom,Heating,Washer,Shampoo,translation missing: en.hosting_amenity_49,translation missing: en.hosting_amenity_50                                                                                                                       </span></td><td>NA</td><td> 35</td><td> 80</td></tr>\n",
       "\t<tr><th scope=row>1306</th><td>28002</td><td><span style=white-space:pre-wrap>El Viso      </span></td><td>Bed &amp; Breakfast</td><td><span style=white-space:pre-wrap>Private room   </span></td><td>2</td><td>1.0</td><td>1</td><td>1</td><td><span style=white-space:pre-wrap>Real Bed     </span></td><td><span style=white-space:pre-wrap>TV,Cable TV,Internet,Wireless Internet,Air conditioning,Kitchen,Breakfast,Elevator in building,Heating,Washer,Fire extinguisher,Essentials,24-hour check-in,Hangers,Iron,Laptop friendly workspace,translation missing: en.hosting_amenity_49,translation missing: en.hosting_amenity_50                                                          </span></td><td>NA</td><td> 35</td><td>100</td></tr>\n",
       "\t<tr><th scope=row>1308</th><td>28002</td><td>Prosperidad  </td><td>Apartment      </td><td>Private room   </td><td>6</td><td>2.0</td><td>1</td><td>5</td><td>Real Bed     </td><td>TV,Cable TV,Internet,Wireless Internet,Air conditioning,Wheelchair accessible,Kitchen,Doorman,Elevator in building,Buzzer/wireless intercom,Heating,Family/kid friendly,Washer,Essentials,Shampoo,Hangers,Hair dryer,Iron,Laptop friendly workspace                                                                                               </td><td>NA</td><td> 74</td><td> 99</td></tr>\n",
       "\t<tr><th scope=row>1309</th><td>28002</td><td>Prosperidad  </td><td>Apartment      </td><td>Entire home/apt</td><td>6</td><td>1.0</td><td>2</td><td>3</td><td>Real Bed     </td><td>TV,Internet,Wireless Internet,Air conditioning,Kitchen,Pets allowed,Heating,Family/kid friendly,Washer,Essentials,Shampoo,Iron,Laptop friendly workspace                                                                                                                                                                                          </td><td>NA</td><td> 70</td><td>100</td></tr>\n",
       "\t<tr><th scope=row>1310</th><td>28002</td><td>Ciudad Jardín</td><td>Apartment      </td><td>Entire home/apt</td><td>2</td><td>1.0</td><td>1</td><td>1</td><td>Real Bed     </td><td>TV,Cable TV,Internet,Wireless Internet,Air conditioning,Kitchen,Pets allowed,Breakfast,Elevator in building,Heating,Family/kid friendly,Washer,Essentials,Shampoo,Hangers,Hair dryer,Iron,translation missing: en.hosting_amenity_49                                                                                                              </td><td>NA</td><td> 65</td><td> 96</td></tr>\n",
       "\t<tr><th scope=row>1311</th><td>28002</td><td>Ciudad Jardín</td><td>Apartment      </td><td>Entire home/apt</td><td>6</td><td>1.5</td><td>3</td><td>6</td><td>Real Bed     </td><td>TV,Wireless Internet,Air conditioning,Kitchen,Smoking allowed,Pets allowed,Doorman,Elevator in building,Buzzer/wireless intercom,Heating,Family/kid friendly,Suitable for events,Washer,Essentials,Hangers,Iron,Laptop friendly workspace                                                                                                         </td><td>NA</td><td>120</td><td>100</td></tr>\n",
       "\t<tr><th scope=row>1312</th><td>28002</td><td>Ciudad Jardín</td><td>Apartment      </td><td>Entire home/apt</td><td>1</td><td>1.0</td><td>1</td><td>1</td><td>Real Bed     </td><td>TV,Wireless Internet,Kitchen,Heating,Washer,First aid kit,Essentials,Shampoo,Hangers,Iron,Laptop friendly workspace,translation missing: en.hosting_amenity_49,translation missing: en.hosting_amenity_50                                                                                                                                         </td><td>NA</td><td> 37</td><td> NA</td></tr>\n",
       "\t<tr><th scope=row>1313</th><td>28002</td><td>Ciudad Jardín</td><td>Apartment      </td><td>Entire home/apt</td><td>7</td><td>3.0</td><td>3</td><td>5</td><td>Real Bed     </td><td>TV,Internet,Wireless Internet,Air conditioning,Kitchen,Free parking on premises,Doorman,Elevator in building,Buzzer/wireless intercom,Heating,Family/kid friendly,Washer,Essentials,Shampoo,Hangers,Hair dryer,Iron,Laptop friendly workspace                                                                                                     </td><td>NA</td><td>136</td><td> 94</td></tr>\n",
       "\t<tr><th scope=row>1772</th><td>28002</td><td>El Viso      </td><td>Apartment      </td><td>Entire home/apt</td><td>4</td><td>1.0</td><td>1</td><td>2</td><td>Real Bed     </td><td>Pets allowed,Family/kid friendly                                                                                                                                                                                                                                                                                                                  </td><td>NA</td><td> 42</td><td> NA</td></tr>\n",
       "\t<tr><th scope=row>1773</th><td>28002</td><td>Prosperidad  </td><td>Apartment      </td><td>Entire home/apt</td><td>4</td><td>1.0</td><td>1</td><td>3</td><td>Real Bed     </td><td>TV,Wireless Internet,Air conditioning,Kitchen,Smoking allowed,Pets allowed,Elevator in building,Family/kid friendly,Washer,Essentials,Shampoo,Hangers                                                                                                                                                                                             </td><td>NA</td><td> 40</td><td> NA</td></tr>\n",
       "\t<tr><th scope=row>1774</th><td>28002</td><td>Prosperidad  </td><td>Apartment      </td><td>Private room   </td><td>2</td><td>1.0</td><td>1</td><td>1</td><td>Real Bed     </td><td>Wireless Internet,Air conditioning,Kitchen,Smoking allowed,Doorman,Breakfast,Elevator in building,Buzzer/wireless intercom,Heating,First aid kit,Essentials,Shampoo,Hair dryer,Iron,Laptop friendly workspace,translation missing: en.hosting_amenity_49,translation missing: en.hosting_amenity_50                                               </td><td>NA</td><td> 25</td><td>100</td></tr>\n",
       "\t<tr><th scope=row>1775</th><td>28002</td><td>Prosperidad  </td><td>Apartment      </td><td>Entire home/apt</td><td>2</td><td>1.0</td><td>1</td><td>1</td><td>Real Bed     </td><td>TV,Kitchen,Buzzer/wireless intercom,Heating,Washer                                                                                                                                                                                                                                                                                                </td><td>NA</td><td> 75</td><td> NA</td></tr>\n",
       "\t<tr><th scope=row>⋮</th><td>⋮</td><td>⋮</td><td>⋮</td><td>⋮</td><td>⋮</td><td>⋮</td><td>⋮</td><td>⋮</td><td>⋮</td><td>⋮</td><td>⋮</td><td>⋮</td><td>⋮</td></tr>\n",
       "\t<tr><th scope=row>11231</th><td>28002</td><td>El Viso      </td><td>Apartment      </td><td>Entire home/apt</td><td>8</td><td>2.0</td><td>3</td><td>4</td><td>Real Bed     </td><td>TV,Internet,Wireless Internet,Air conditioning,Kitchen,Elevator in building,Heating,Family/kid friendly,Washer,Smoke detector,Carbon monoxide detector,First aid kit,Safety card,Essentials,Shampoo,Hangers,Hair dryer,Iron,Laptop friendly workspace                                                                                                                        </td><td>NA</td><td>100</td><td>100</td></tr>\n",
       "\t<tr><th scope=row>11233</th><td>28002</td><td>Prosperidad  </td><td>Apartment      </td><td>Private room   </td><td>1</td><td>1.0</td><td>1</td><td>1</td><td>Real Bed     </td><td>TV,Wireless Internet,Kitchen,Smoking allowed,Doorman,Elevator in building,Buzzer/wireless intercom,Heating,Washer,First aid kit,Essentials,Shampoo,Lock on bedroom door,Hangers,Hair dryer,Iron,Laptop friendly workspace                                                                                                                                                    </td><td>NA</td><td> 35</td><td> 98</td></tr>\n",
       "\t<tr><th scope=row>11500</th><td>28002</td><td>Guindalera   </td><td>Apartment      </td><td>Entire home/apt</td><td>6</td><td>1.0</td><td>3</td><td>4</td><td>Real Bed     </td><td>TV,Cable TV,Internet,Wireless Internet,Air conditioning,Kitchen,Smoking allowed,Elevator in building,Buzzer/wireless intercom,Heating,Family/kid friendly,Washer,Dryer,Essentials,Shampoo,24-hour check-in,Hangers,Iron,Laptop friendly workspace,Private living room                                                                                                        </td><td>NA</td><td> 80</td><td> 90</td></tr>\n",
       "\t<tr><th scope=row>11512</th><td>28002</td><td>El Viso      </td><td>Apartment      </td><td>Private room   </td><td>1</td><td>1.0</td><td>1</td><td>1</td><td>Real Bed     </td><td>TV,Wireless Internet,Air conditioning,Kitchen,Breakfast,Elevator in building,Heating,Family/kid friendly,Washer,First aid kit,Essentials,Shampoo,Hangers,Hair dryer,Iron,Laptop friendly workspace                                                                                                                                                                           </td><td>NA</td><td> 25</td><td> NA</td></tr>\n",
       "\t<tr><th scope=row>11514</th><td>28002</td><td>El Viso      </td><td>House          </td><td>Private room   </td><td>1</td><td>2.0</td><td>1</td><td>1</td><td>Real Bed     </td><td>TV,Cable TV,Internet,Wireless Internet,Wheelchair accessible,Kitchen,Doorman,Breakfast,Elevator in building,Buzzer/wireless intercom,Heating,Family/kid friendly,Washer,First aid kit,Fire extinguisher,Essentials,Shampoo,24-hour check-in,Hangers,Hair dryer,Iron,Laptop friendly workspace,translation missing: en.hosting_amenity_50                                     </td><td>NA</td><td> 25</td><td> 96</td></tr>\n",
       "\t<tr><th scope=row>11515</th><td>28002</td><td><span style=white-space:pre-wrap>El Viso      </span></td><td>Bed &amp; Breakfast</td><td><span style=white-space:pre-wrap>Private room   </span></td><td>2</td><td>1.0</td><td>1</td><td>1</td><td><span style=white-space:pre-wrap>Real Bed     </span></td><td><span style=white-space:pre-wrap>TV,Cable TV,Internet,Wireless Internet,Kitchen,Smoking allowed,Breakfast,Pets live on this property,Dog(s),Buzzer/wireless intercom,Heating,Family/kid friendly,Washer,First aid kit,Essentials,Shampoo,Lock on bedroom door,24-hour check-in,Hangers,Hair dryer,Iron,translation missing: en.hosting_amenity_50                                                             </span></td><td>NA</td><td> 35</td><td> 96</td></tr>\n",
       "\t<tr><th scope=row>11516</th><td>28002</td><td>Prosperidad  </td><td>Apartment      </td><td>Entire home/apt</td><td>4</td><td>1.0</td><td>1</td><td>2</td><td>Real Bed     </td><td>TV,Internet,Wireless Internet,Air conditioning,Kitchen,Free parking on premises,Smoking allowed,Pets allowed,Breakfast,Elevator in building,Heating,Family/kid friendly,Washer,Dryer,Essentials,Shampoo,Hangers,Hair dryer,Iron                                                                                                                                              </td><td>NA</td><td>150</td><td> NA</td></tr>\n",
       "\t<tr><th scope=row>11517</th><td>28002</td><td>Prosperidad  </td><td>Apartment      </td><td>Private room   </td><td>2</td><td>1.0</td><td>0</td><td>1</td><td>Real Bed     </td><td>TV,Wireless Internet,Air conditioning,Free parking on premises,Heating,Family/kid friendly,Essentials,Shampoo,Hair dryer,Iron,translation missing: en.hosting_amenity_50                                                                                                                                                                                                     </td><td>NA</td><td> 69</td><td> NA</td></tr>\n",
       "\t<tr><th scope=row>11518</th><td>28002</td><td>Prosperidad  </td><td>Apartment      </td><td>Private room   </td><td>2</td><td>1.0</td><td>2</td><td>1</td><td>Pull-out Sofa</td><td>Wireless Internet,Air conditioning,Kitchen,Smoking allowed,Pets allowed,Elevator in building,Heating,Family/kid friendly,Suitable for events,Washer,Dryer,Smoke detector,Essentials,Hangers,Iron,Laptop friendly workspace                                                                                                                                                   </td><td>NA</td><td> 19</td><td> 80</td></tr>\n",
       "\t<tr><th scope=row>11519</th><td>28002</td><td>Prosperidad  </td><td>Townhouse      </td><td>Private room   </td><td>1</td><td>1.0</td><td>1</td><td>1</td><td>Real Bed     </td><td>TV,Wireless Internet,Air conditioning,Pool,Kitchen,Pets live on this property,Dog(s),Heating,Family/kid friendly,Washer,Essentials,Hangers,Iron,Laptop friendly workspace,translation missing: en.hosting_amenity_50                                                                                                                                                         </td><td>NA</td><td> 45</td><td> 60</td></tr>\n",
       "\t<tr><th scope=row>11573</th><td>28002</td><td>Prosperidad  </td><td>Apartment      </td><td>Private room   </td><td>2</td><td>2.0</td><td>1</td><td>2</td><td>Real Bed     </td><td>TV,Wireless Internet,Air conditioning,Breakfast,Elevator in building,Buzzer/wireless intercom,Heating,Family/kid friendly,First aid kit,Safety card,Essentials,Shampoo,24-hour check-in,Hangers,Hair dryer,Laptop friendly workspace,translation missing: en.hosting_amenity_49,translation missing: en.hosting_amenity_50                                                   </td><td>NA</td><td> 35</td><td> 98</td></tr>\n",
       "\t<tr><th scope=row>11574</th><td>28002</td><td>Ciudad Jardín</td><td>Apartment      </td><td>Private room   </td><td>2</td><td>1.0</td><td>1</td><td>1</td><td>Real Bed     </td><td>Internet,Wireless Internet,Air conditioning,Wheelchair accessible,Pets allowed,Pets live on this property,Dog(s),Elevator in building,Heating,Essentials,Shampoo,translation missing: en.hosting_amenity_50                                                                                                                                                                  </td><td>NA</td><td> 29</td><td> 91</td></tr>\n",
       "\t<tr><th scope=row>11575</th><td>28002</td><td>Ciudad Jardín</td><td>Apartment      </td><td>Entire home/apt</td><td>2</td><td>1.0</td><td>1</td><td>1</td><td>Real Bed     </td><td>TV,Cable TV,Air conditioning,Kitchen,Smoking allowed,Pets allowed,Buzzer/wireless intercom,Heating,Washer                                                                                                                                                                                                                                                                    </td><td>NA</td><td> 55</td><td> NA</td></tr>\n",
       "\t<tr><th scope=row>11576</th><td>28002</td><td>Ciudad Jardín</td><td>Apartment      </td><td>Private room   </td><td>1</td><td>2.0</td><td>1</td><td>1</td><td>Real Bed     </td><td>TV,Cable TV,Internet,Wireless Internet,Kitchen,Doorman,Elevator in building,Heating,Washer,Dryer,translation missing: en.hosting_amenity_49,translation missing: en.hosting_amenity_50                                                                                                                                                                                       </td><td>NA</td><td> 35</td><td>100</td></tr>\n",
       "\t<tr><th scope=row>12101</th><td>28002</td><td>Prosperidad  </td><td>Apartment      </td><td>Private room   </td><td>2</td><td>1.0</td><td>1</td><td>1</td><td>Real Bed     </td><td>Internet,Wireless Internet,Kitchen,Smoking allowed,Elevator in building,Buzzer/wireless intercom,Washer,Fire extinguisher,Essentials,Shampoo,Lock on bedroom door,24-hour check-in,Hangers,Hair dryer,Iron,translation missing: en.hosting_amenity_49,translation missing: en.hosting_amenity_50,Self Check-In,Smartlock                                                     </td><td>NA</td><td> 24</td><td> 97</td></tr>\n",
       "\t<tr><th scope=row>12102</th><td>28002</td><td>Prosperidad  </td><td>Apartment      </td><td>Entire home/apt</td><td>3</td><td>1.0</td><td>1</td><td>2</td><td>Real Bed     </td><td>TV,Wireless Internet,Air conditioning,Kitchen,Breakfast,Elevator in building,Heating,Family/kid friendly,Washer,Essentials,Laptop friendly workspace,translation missing: en.hosting_amenity_50                                                                                                                                                                              </td><td>NA</td><td> 65</td><td> NA</td></tr>\n",
       "\t<tr><th scope=row>12129</th><td>28002</td><td>El Viso      </td><td>House          </td><td>Entire home/apt</td><td>2</td><td>1.0</td><td>1</td><td>2</td><td>Real Bed     </td><td>TV,Internet,Wireless Internet,Air conditioning,Kitchen,Elevator in building,Buzzer/wireless intercom,Heating,Washer,Dryer,Smoke detector,Carbon monoxide detector,First aid kit,Fire extinguisher,Essentials,Shampoo,24-hour check-in,Hangers,Hair dryer,Iron,Laptop friendly workspace,translation missing: en.hosting_amenity_49,translation missing: en.hosting_amenity_50</td><td>NA</td><td> 78</td><td> 97</td></tr>\n",
       "\t<tr><th scope=row>12130</th><td>28002</td><td>Prosperidad  </td><td>Apartment      </td><td>Entire home/apt</td><td>5</td><td>1.0</td><td>1</td><td>4</td><td>Real Bed     </td><td>TV,Internet,Wireless Internet,Air conditioning,Wheelchair accessible,Kitchen,Pets allowed,Doorman,Breakfast,Elevator in building,Heating,Family/kid friendly,Washer,Essentials,Shampoo,Hangers,Iron,Laptop friendly workspace                                                                                                                                                </td><td>NA</td><td> 65</td><td>100</td></tr>\n",
       "\t<tr><th scope=row>12418</th><td>28002</td><td>Prosperidad  </td><td>House          </td><td>Private room   </td><td>2</td><td>2.0</td><td>1</td><td>1</td><td>Real Bed     </td><td>TV,Internet,Wireless Internet,Air conditioning,Pool,Kitchen,Smoking allowed,Breakfast,Pets live on this property,Elevator in building,Heating,Washer,Essentials,Shampoo,24-hour check-in,Hangers                                                                                                                                                                             </td><td>NA</td><td> 35</td><td> 91</td></tr>\n",
       "\t<tr><th scope=row>12419</th><td>28002</td><td>Prosperidad  </td><td>Apartment      </td><td>Private room   </td><td>1</td><td>1.0</td><td>1</td><td>1</td><td>Pull-out Sofa</td><td>TV,Internet,Wireless Internet,Kitchen,Breakfast,Heating,Washer,Essentials,Shampoo                                                                                                                                                                                                                                                                                            </td><td>NA</td><td> 20</td><td> 94</td></tr>\n",
       "\t<tr><th scope=row>12420</th><td>28002</td><td>Prosperidad  </td><td>Apartment      </td><td>Entire home/apt</td><td>2</td><td>1.0</td><td>2</td><td>1</td><td>Real Bed     </td><td>TV,Wireless Internet,Air conditioning,Kitchen,Pets allowed,Breakfast,Elevator in building,Heating,Family/kid friendly,Washer,Essentials,Shampoo,Lock on bedroom door,Hangers,Hair dryer,Iron,Laptop friendly workspace,translation missing: en.hosting_amenity_49                                                                                                            </td><td>NA</td><td> 70</td><td> NA</td></tr>\n",
       "\t<tr><th scope=row>12441</th><td>28002</td><td>Ciudad Jardín</td><td>Apartment      </td><td>Entire home/apt</td><td>4</td><td>1.5</td><td>2</td><td>2</td><td>Real Bed     </td><td>Air conditioning,Kitchen,Doorman,Elevator in building,Buzzer/wireless intercom,Heating,Family/kid friendly,Washer,Dryer,Essentials,Hangers,Laptop friendly workspace                                                                                                                                                                                                         </td><td>NA</td><td>145</td><td>100</td></tr>\n",
       "\t<tr><th scope=row>12442</th><td>28002</td><td>Ciudad Jardín</td><td>Apartment      </td><td>Entire home/apt</td><td>4</td><td>1.5</td><td>2</td><td>4</td><td>Real Bed     </td><td>TV,Wireless Internet,Air conditioning,Wheelchair accessible,Kitchen,Smoking allowed,Pets allowed,Elevator in building,Buzzer/wireless intercom,Heating,Family/kid friendly,Washer,Essentials,24-hour check-in,Hangers,Hair dryer,Iron,Laptop friendly workspace                                                                                                              </td><td>NA</td><td> 99</td><td> 87</td></tr>\n",
       "\t<tr><th scope=row>13041</th><td>28002</td><td>Prosperidad  </td><td>Apartment      </td><td>Entire home/apt</td><td>3</td><td>1.0</td><td>1</td><td>2</td><td>Real Bed     </td><td>TV,Air conditioning,Wheelchair accessible,Kitchen,Doorman,Elevator in building,Buzzer/wireless intercom,Heating,Family/kid friendly,First aid kit,Essentials,Shampoo,Hangers,Hair dryer,Iron,Laptop friendly workspace                                                                                                                                                       </td><td>NA</td><td> 60</td><td> 92</td></tr>\n",
       "\t<tr><th scope=row>13042</th><td>28002</td><td>Prosperidad  </td><td>Apartment      </td><td>Entire home/apt</td><td>3</td><td>1.0</td><td>1</td><td>1</td><td>Real Bed     </td><td>TV,Internet,Wireless Internet,Air conditioning,Kitchen,Smoking allowed,Gym,Heating,Family/kid friendly,Washer,Dryer,Fire extinguisher,Essentials,Shampoo,24-hour check-in,Hangers,Hair dryer,Iron                                                                                                                                                                            </td><td>NA</td><td>110</td><td>100</td></tr>\n",
       "\t<tr><th scope=row>13043</th><td>28002</td><td>Prosperidad  </td><td>Loft           </td><td>Private room   </td><td>2</td><td>1.0</td><td>1</td><td>2</td><td>Real Bed     </td><td>TV,Internet,Air conditioning,Smoking allowed,Pets allowed,Doorman,Elevator in building,Heating,Family/kid friendly,Essentials,Shampoo,Hair dryer                                                                                                                                                                                                                             </td><td>NA</td><td>100</td><td> NA</td></tr>\n",
       "\t<tr><th scope=row>13120</th><td>28002</td><td>Prosperidad  </td><td>Apartment      </td><td>Entire home/apt</td><td>2</td><td>1.0</td><td>1</td><td>1</td><td>Real Bed     </td><td>TV,Internet,Wireless Internet,Air conditioning,Wheelchair accessible,Kitchen,Doorman,Elevator in building,Heating,Family/kid friendly,Washer,Essentials,Shampoo,Hair dryer,Iron                                                                                                                                                                                              </td><td>NA</td><td> 65</td><td> 88</td></tr>\n",
       "\t<tr><th scope=row>13121</th><td>28002</td><td>Prosperidad  </td><td>Apartment      </td><td>Entire home/apt</td><td>5</td><td>1.0</td><td>3</td><td>3</td><td>Real Bed     </td><td>TV,Wireless Internet,Air conditioning,Kitchen,Doorman,Breakfast,Elevator in building,Buzzer/wireless intercom,Heating,Family/kid friendly,Washer,Dryer,Essentials,Hangers,Iron,Laptop friendly workspace                                                                                                                                                                     </td><td>NA</td><td> 70</td><td> 96</td></tr>\n",
       "\t<tr><th scope=row>13123</th><td>28002</td><td>Ciudad Jardín</td><td>Apartment      </td><td>Private room   </td><td>1</td><td>1.0</td><td>1</td><td>1</td><td>Real Bed     </td><td>TV,Wireless Internet,Kitchen,Elevator in building,Washer,Smoke detector,First aid kit,Essentials,Hangers,Laptop friendly workspace,translation missing: en.hosting_amenity_49                                                                                                                                                                                                </td><td>NA</td><td> 15</td><td> NA</td></tr>\n",
       "\t<tr><th scope=row>13124</th><td>28002</td><td>Ciudad Jardín</td><td>Apartment      </td><td>Entire home/apt</td><td>4</td><td>1.0</td><td>1</td><td>1</td><td>Real Bed     </td><td>TV,Wireless Internet,Kitchen,Smoking allowed,Pets allowed,Buzzer/wireless intercom,Heating,Family/kid friendly,Washer,First aid kit,Safety card,Essentials,Shampoo,24-hour check-in,Hangers,Hair dryer,Iron,Laptop friendly workspace                                                                                                                                        </td><td>NA</td><td> 65</td><td> 93</td></tr>\n",
       "</tbody>\n",
       "</table>\n"
      ],
      "text/latex": [
       "A data.frame: 170 × 13\n",
       "\\begin{tabular}{r|lllllllllllll}\n",
       "  & CodigoPostal & Barrio & TipoPropiedad & TipoAlquiler & MaxOcupantes & NumBanyos & NumDormitorios & NumCamas & TipoCama & Comodidades & PiesCuadrados & Precio & Puntuacion\\\\\n",
       "  & <fct> & <fct> & <fct> & <fct> & <int> & <dbl> & <int> & <int> & <fct> & <fct> & <int> & <int> & <int>\\\\\n",
       "\\hline\n",
       "\t365 & 28002 & El Viso       & Apartment       & Private room    & 2 & 1.0 & 1 & 1 & Real Bed      & TV,Cable TV,Internet,Wireless Internet,Air conditioning,Kitchen,Breakfast,Heating,Washer,Essentials,Shampoo                                                                                                                                                                                                                                        & NA &  26 &  98\\\\\n",
       "\t366 & 28002 & El Viso       & Apartment       & Entire home/apt & 6 & 1.0 & 3 & 4 & Real Bed      & TV,Internet,Wireless Internet,Air conditioning,Kitchen,Buzzer/wireless intercom,Heating,Family/kid friendly,Washer,Smoke detector,Carbon monoxide detector,First aid kit,Essentials,Shampoo,24-hour check-in,Hangers,Hair dryer,Iron,Laptop friendly workspace                                                                                     & NA &  82 &  94\\\\\n",
       "\t368 & 28002 & Prosperidad   & Loft            & Entire home/apt & 2 & 1.0 & 1 & 1 & Real Bed      & TV,Kitchen,Heating,Family/kid friendly,Essentials,Shampoo,Hangers,Hair dryer,Iron,Laptop friendly workspace                                                                                                                                                                                                                                        & NA &  65 &  83\\\\\n",
       "\t369 & 28002 & Prosperidad   & Apartment       & Entire home/apt & 5 & 1.0 & 3 & 4 & Real Bed      & TV,Wireless Internet,Kitchen,Elevator in building,Buzzer/wireless intercom,Heating,Family/kid friendly,Washer,Shampoo                                                                                                                                                                                                                              & NA &  69 &  84\\\\\n",
       "\t405 & 28002 & Prosperidad   & Apartment       & Entire home/apt & 4 & 2.0 & 2 & 4 & Real Bed      & TV,Internet,Wireless Internet,Air conditioning,Kitchen,Heating,Family/kid friendly,Washer,Dryer,First aid kit,Essentials,Shampoo                                                                                                                                                                                                                   & NA &  80 &  NA\\\\\n",
       "\t406 & 28002 & Prosperidad   & Apartment       & Entire home/apt & 4 & 1.0 & 1 & 2 & Real Bed      & TV,Wireless Internet,Air conditioning,Kitchen,Free parking on premises,Elevator in building,Heating,Family/kid friendly,Washer,Dryer,Essentials,Hangers,Hair dryer,Iron                                                                                                                                                                            & NA & 100 &  99\\\\\n",
       "\t407 & 28002 & Ciudad Jardín & Apartment       & Private room    & 1 & 1.0 & 1 & 2 & Real Bed      & Internet,Wireless Internet,Kitchen,Smoking allowed,Pets allowed,Elevator in building,Buzzer/wireless intercom,Heating,Washer,Hangers,Iron,Laptop friendly workspace                                                                                                                                                                                & NA &  25 &  NA\\\\\n",
       "\t639 & 28002 & El Viso       & Apartment       & Private room    & 2 & 1.0 & 1 & 2 & Real Bed      & TV,Internet,Wireless Internet,Kitchen,Breakfast,Elevator in building,Heating,Washer                                                                                                                                                                                                                                                                & NA &  30 &  96\\\\\n",
       "\t640 & 28002 & Prosperidad   & Apartment       & Private room    & 1 & 1.0 & 1 & 1 & Real Bed      & Internet,Wireless Internet,Kitchen,Smoking allowed,Elevator in building,Buzzer/wireless intercom,Washer,Fire extinguisher,Essentials,Shampoo,Lock on bedroom door,24-hour check-in,Hangers,Hair dryer,Iron,Laptop friendly workspace,translation missing: en.hosting\\_amenity\\_49,translation missing: en.hosting\\_amenity\\_50,Self Check-In,Smartlock & NA &  19 &  95\\\\\n",
       "\t641 & 28002 & Prosperidad   & Apartment       & Private room    & 3 & 1.0 & 1 & 1 & Real Bed      & Internet,Wireless Internet,Wheelchair accessible,Kitchen,Doorman,Elevator in building,Buzzer/wireless intercom,Heating,Essentials,24-hour check-in,Hangers,Hair dryer,Iron,Laptop friendly workspace,translation missing: en.hosting\\_amenity\\_49,translation missing: en.hosting\\_amenity\\_50                                                         & NA &  30 &  85\\\\\n",
       "\t643 & 28002 & Prosperidad   & Apartment       & Private room    & 1 & 1.0 & 1 & 1 & Real Bed      & TV,Internet,Wireless Internet,Kitchen,Smoking allowed,Heating,Family/kid friendly,Essentials,Lock on bedroom door,24-hour check-in,Hair dryer,Laptop friendly workspace                                                                                                                                                                            & NA &  23 &  88\\\\\n",
       "\t644 & 28002 & Prosperidad   & House           & Entire home/apt & 5 & 2.0 & 3 & 4 & Real Bed      & TV,Internet,Wireless Internet,Air conditioning,Kitchen,Elevator in building,Heating,Family/kid friendly,Washer,Essentials,Shampoo                                                                                                                                                                                                                  & NA & 125 & 100\\\\\n",
       "\t645 & 28002 & Prosperidad   & House           & Private room    & 2 & 1.0 & 1 & 1 & Real Bed      & Wireless Internet,Air conditioning,Pool,Kitchen,Doorman,Elevator in building,Heating,Suitable for events,Washer,Dryer,Essentials,Shampoo,Lock on bedroom door,24-hour check-in,Hangers,Hair dryer,Iron,Laptop friendly workspace,translation missing: en.hosting\\_amenity\\_49,translation missing: en.hosting\\_amenity\\_50                             & NA &  39 & 100\\\\\n",
       "\t646 & 28002 & Ciudad Jardín & Apartment       & Entire home/apt & 4 & 1.0 & 2 & 2 & Real Bed      & TV,Wireless Internet,Air conditioning,Kitchen,Elevator in building,Heating,Washer,Dryer,Essentials,Shampoo,Hangers,Hair dryer,Iron,Laptop friendly workspace                                                                                                                                                                                       & NA & 105 &  NA\\\\\n",
       "\t647 & 28002 & Ciudad Jardín & Other           & Entire home/apt & 5 & 2.0 & 3 & 5 & Real Bed      & TV,Wireless Internet,Air conditioning,Pool,Kitchen,Breakfast,Elevator in building,Heating,Family/kid friendly,Washer,First aid kit,Essentials,Shampoo,Lock on bedroom door,Hangers,Iron,Laptop friendly workspace                                                                                                                                  & NA & 110 &  95\\\\\n",
       "\t864 & 28002 & Prosperidad   & Apartment       & Entire home/apt & 3 & 1.0 & 1 & 2 & Real Bed      & TV,Wireless Internet,Air conditioning,Kitchen,Doorman,Elevator in building,Family/kid friendly,Washer,Smoke detector,Carbon monoxide detector,Essentials,Shampoo,24-hour check-in,Hangers,Hair dryer,Iron,Laptop friendly workspace,Self Check-In,Doorman Entry                                                                                    & NA &  50 &  95\\\\\n",
       "\t865 & 28002 & Prosperidad   & Apartment       & Private room    & 2 & 1.0 & 1 & 1 & Real Bed      & Wireless Internet,Kitchen,Elevator in building,Heating,Washer,Essentials,Hangers,Iron,Laptop friendly workspace,translation missing: en.hosting\\_amenity\\_49                                                                                                                                                                                         & NA &  23 & 100\\\\\n",
       "\t866 & 28002 & Prosperidad   & Apartment       & Private room    & 1 & 1.0 & 1 & 1 & Pull-out Sofa & TV,Wireless Internet,Kitchen,Doorman,Elevator in building,Heating,Washer,Essentials,Shampoo,Hangers,Iron,Laptop friendly workspace,translation missing: en.hosting\\_amenity\\_49,translation missing: en.hosting\\_amenity\\_50                                                                                                                           & NA &  28 & 100\\\\\n",
       "\t867 & 28002 & Prosperidad   & Bed \\& Breakfast & Private room    & 2 & 1.0 & 1 & 1 & Real Bed      & TV,Internet,Wireless Internet,Air conditioning,Kitchen,Breakfast,Elevator in building,Buzzer/wireless intercom,Heating,Washer,Shampoo,translation missing: en.hosting\\_amenity\\_49,translation missing: en.hosting\\_amenity\\_50                                                                                                                        & NA &  35 &  80\\\\\n",
       "\t1306 & 28002 & El Viso       & Bed \\& Breakfast & Private room    & 2 & 1.0 & 1 & 1 & Real Bed      & TV,Cable TV,Internet,Wireless Internet,Air conditioning,Kitchen,Breakfast,Elevator in building,Heating,Washer,Fire extinguisher,Essentials,24-hour check-in,Hangers,Iron,Laptop friendly workspace,translation missing: en.hosting\\_amenity\\_49,translation missing: en.hosting\\_amenity\\_50                                                           & NA &  35 & 100\\\\\n",
       "\t1308 & 28002 & Prosperidad   & Apartment       & Private room    & 6 & 2.0 & 1 & 5 & Real Bed      & TV,Cable TV,Internet,Wireless Internet,Air conditioning,Wheelchair accessible,Kitchen,Doorman,Elevator in building,Buzzer/wireless intercom,Heating,Family/kid friendly,Washer,Essentials,Shampoo,Hangers,Hair dryer,Iron,Laptop friendly workspace                                                                                                & NA &  74 &  99\\\\\n",
       "\t1309 & 28002 & Prosperidad   & Apartment       & Entire home/apt & 6 & 1.0 & 2 & 3 & Real Bed      & TV,Internet,Wireless Internet,Air conditioning,Kitchen,Pets allowed,Heating,Family/kid friendly,Washer,Essentials,Shampoo,Iron,Laptop friendly workspace                                                                                                                                                                                           & NA &  70 & 100\\\\\n",
       "\t1310 & 28002 & Ciudad Jardín & Apartment       & Entire home/apt & 2 & 1.0 & 1 & 1 & Real Bed      & TV,Cable TV,Internet,Wireless Internet,Air conditioning,Kitchen,Pets allowed,Breakfast,Elevator in building,Heating,Family/kid friendly,Washer,Essentials,Shampoo,Hangers,Hair dryer,Iron,translation missing: en.hosting\\_amenity\\_49                                                                                                               & NA &  65 &  96\\\\\n",
       "\t1311 & 28002 & Ciudad Jardín & Apartment       & Entire home/apt & 6 & 1.5 & 3 & 6 & Real Bed      & TV,Wireless Internet,Air conditioning,Kitchen,Smoking allowed,Pets allowed,Doorman,Elevator in building,Buzzer/wireless intercom,Heating,Family/kid friendly,Suitable for events,Washer,Essentials,Hangers,Iron,Laptop friendly workspace                                                                                                          & NA & 120 & 100\\\\\n",
       "\t1312 & 28002 & Ciudad Jardín & Apartment       & Entire home/apt & 1 & 1.0 & 1 & 1 & Real Bed      & TV,Wireless Internet,Kitchen,Heating,Washer,First aid kit,Essentials,Shampoo,Hangers,Iron,Laptop friendly workspace,translation missing: en.hosting\\_amenity\\_49,translation missing: en.hosting\\_amenity\\_50                                                                                                                                          & NA &  37 &  NA\\\\\n",
       "\t1313 & 28002 & Ciudad Jardín & Apartment       & Entire home/apt & 7 & 3.0 & 3 & 5 & Real Bed      & TV,Internet,Wireless Internet,Air conditioning,Kitchen,Free parking on premises,Doorman,Elevator in building,Buzzer/wireless intercom,Heating,Family/kid friendly,Washer,Essentials,Shampoo,Hangers,Hair dryer,Iron,Laptop friendly workspace                                                                                                      & NA & 136 &  94\\\\\n",
       "\t1772 & 28002 & El Viso       & Apartment       & Entire home/apt & 4 & 1.0 & 1 & 2 & Real Bed      & Pets allowed,Family/kid friendly                                                                                                                                                                                                                                                                                                                   & NA &  42 &  NA\\\\\n",
       "\t1773 & 28002 & Prosperidad   & Apartment       & Entire home/apt & 4 & 1.0 & 1 & 3 & Real Bed      & TV,Wireless Internet,Air conditioning,Kitchen,Smoking allowed,Pets allowed,Elevator in building,Family/kid friendly,Washer,Essentials,Shampoo,Hangers                                                                                                                                                                                              & NA &  40 &  NA\\\\\n",
       "\t1774 & 28002 & Prosperidad   & Apartment       & Private room    & 2 & 1.0 & 1 & 1 & Real Bed      & Wireless Internet,Air conditioning,Kitchen,Smoking allowed,Doorman,Breakfast,Elevator in building,Buzzer/wireless intercom,Heating,First aid kit,Essentials,Shampoo,Hair dryer,Iron,Laptop friendly workspace,translation missing: en.hosting\\_amenity\\_49,translation missing: en.hosting\\_amenity\\_50                                                & NA &  25 & 100\\\\\n",
       "\t1775 & 28002 & Prosperidad   & Apartment       & Entire home/apt & 2 & 1.0 & 1 & 1 & Real Bed      & TV,Kitchen,Buzzer/wireless intercom,Heating,Washer                                                                                                                                                                                                                                                                                                 & NA &  75 &  NA\\\\\n",
       "\t⋮ & ⋮ & ⋮ & ⋮ & ⋮ & ⋮ & ⋮ & ⋮ & ⋮ & ⋮ & ⋮ & ⋮ & ⋮ & ⋮\\\\\n",
       "\t11231 & 28002 & El Viso       & Apartment       & Entire home/apt & 8 & 2.0 & 3 & 4 & Real Bed      & TV,Internet,Wireless Internet,Air conditioning,Kitchen,Elevator in building,Heating,Family/kid friendly,Washer,Smoke detector,Carbon monoxide detector,First aid kit,Safety card,Essentials,Shampoo,Hangers,Hair dryer,Iron,Laptop friendly workspace                                                                                                                         & NA & 100 & 100\\\\\n",
       "\t11233 & 28002 & Prosperidad   & Apartment       & Private room    & 1 & 1.0 & 1 & 1 & Real Bed      & TV,Wireless Internet,Kitchen,Smoking allowed,Doorman,Elevator in building,Buzzer/wireless intercom,Heating,Washer,First aid kit,Essentials,Shampoo,Lock on bedroom door,Hangers,Hair dryer,Iron,Laptop friendly workspace                                                                                                                                                     & NA &  35 &  98\\\\\n",
       "\t11500 & 28002 & Guindalera    & Apartment       & Entire home/apt & 6 & 1.0 & 3 & 4 & Real Bed      & TV,Cable TV,Internet,Wireless Internet,Air conditioning,Kitchen,Smoking allowed,Elevator in building,Buzzer/wireless intercom,Heating,Family/kid friendly,Washer,Dryer,Essentials,Shampoo,24-hour check-in,Hangers,Iron,Laptop friendly workspace,Private living room                                                                                                         & NA &  80 &  90\\\\\n",
       "\t11512 & 28002 & El Viso       & Apartment       & Private room    & 1 & 1.0 & 1 & 1 & Real Bed      & TV,Wireless Internet,Air conditioning,Kitchen,Breakfast,Elevator in building,Heating,Family/kid friendly,Washer,First aid kit,Essentials,Shampoo,Hangers,Hair dryer,Iron,Laptop friendly workspace                                                                                                                                                                            & NA &  25 &  NA\\\\\n",
       "\t11514 & 28002 & El Viso       & House           & Private room    & 1 & 2.0 & 1 & 1 & Real Bed      & TV,Cable TV,Internet,Wireless Internet,Wheelchair accessible,Kitchen,Doorman,Breakfast,Elevator in building,Buzzer/wireless intercom,Heating,Family/kid friendly,Washer,First aid kit,Fire extinguisher,Essentials,Shampoo,24-hour check-in,Hangers,Hair dryer,Iron,Laptop friendly workspace,translation missing: en.hosting\\_amenity\\_50                                      & NA &  25 &  96\\\\\n",
       "\t11515 & 28002 & El Viso       & Bed \\& Breakfast & Private room    & 2 & 1.0 & 1 & 1 & Real Bed      & TV,Cable TV,Internet,Wireless Internet,Kitchen,Smoking allowed,Breakfast,Pets live on this property,Dog(s),Buzzer/wireless intercom,Heating,Family/kid friendly,Washer,First aid kit,Essentials,Shampoo,Lock on bedroom door,24-hour check-in,Hangers,Hair dryer,Iron,translation missing: en.hosting\\_amenity\\_50                                                              & NA &  35 &  96\\\\\n",
       "\t11516 & 28002 & Prosperidad   & Apartment       & Entire home/apt & 4 & 1.0 & 1 & 2 & Real Bed      & TV,Internet,Wireless Internet,Air conditioning,Kitchen,Free parking on premises,Smoking allowed,Pets allowed,Breakfast,Elevator in building,Heating,Family/kid friendly,Washer,Dryer,Essentials,Shampoo,Hangers,Hair dryer,Iron                                                                                                                                               & NA & 150 &  NA\\\\\n",
       "\t11517 & 28002 & Prosperidad   & Apartment       & Private room    & 2 & 1.0 & 0 & 1 & Real Bed      & TV,Wireless Internet,Air conditioning,Free parking on premises,Heating,Family/kid friendly,Essentials,Shampoo,Hair dryer,Iron,translation missing: en.hosting\\_amenity\\_50                                                                                                                                                                                                      & NA &  69 &  NA\\\\\n",
       "\t11518 & 28002 & Prosperidad   & Apartment       & Private room    & 2 & 1.0 & 2 & 1 & Pull-out Sofa & Wireless Internet,Air conditioning,Kitchen,Smoking allowed,Pets allowed,Elevator in building,Heating,Family/kid friendly,Suitable for events,Washer,Dryer,Smoke detector,Essentials,Hangers,Iron,Laptop friendly workspace                                                                                                                                                    & NA &  19 &  80\\\\\n",
       "\t11519 & 28002 & Prosperidad   & Townhouse       & Private room    & 1 & 1.0 & 1 & 1 & Real Bed      & TV,Wireless Internet,Air conditioning,Pool,Kitchen,Pets live on this property,Dog(s),Heating,Family/kid friendly,Washer,Essentials,Hangers,Iron,Laptop friendly workspace,translation missing: en.hosting\\_amenity\\_50                                                                                                                                                          & NA &  45 &  60\\\\\n",
       "\t11573 & 28002 & Prosperidad   & Apartment       & Private room    & 2 & 2.0 & 1 & 2 & Real Bed      & TV,Wireless Internet,Air conditioning,Breakfast,Elevator in building,Buzzer/wireless intercom,Heating,Family/kid friendly,First aid kit,Safety card,Essentials,Shampoo,24-hour check-in,Hangers,Hair dryer,Laptop friendly workspace,translation missing: en.hosting\\_amenity\\_49,translation missing: en.hosting\\_amenity\\_50                                                    & NA &  35 &  98\\\\\n",
       "\t11574 & 28002 & Ciudad Jardín & Apartment       & Private room    & 2 & 1.0 & 1 & 1 & Real Bed      & Internet,Wireless Internet,Air conditioning,Wheelchair accessible,Pets allowed,Pets live on this property,Dog(s),Elevator in building,Heating,Essentials,Shampoo,translation missing: en.hosting\\_amenity\\_50                                                                                                                                                                   & NA &  29 &  91\\\\\n",
       "\t11575 & 28002 & Ciudad Jardín & Apartment       & Entire home/apt & 2 & 1.0 & 1 & 1 & Real Bed      & TV,Cable TV,Air conditioning,Kitchen,Smoking allowed,Pets allowed,Buzzer/wireless intercom,Heating,Washer                                                                                                                                                                                                                                                                     & NA &  55 &  NA\\\\\n",
       "\t11576 & 28002 & Ciudad Jardín & Apartment       & Private room    & 1 & 2.0 & 1 & 1 & Real Bed      & TV,Cable TV,Internet,Wireless Internet,Kitchen,Doorman,Elevator in building,Heating,Washer,Dryer,translation missing: en.hosting\\_amenity\\_49,translation missing: en.hosting\\_amenity\\_50                                                                                                                                                                                        & NA &  35 & 100\\\\\n",
       "\t12101 & 28002 & Prosperidad   & Apartment       & Private room    & 2 & 1.0 & 1 & 1 & Real Bed      & Internet,Wireless Internet,Kitchen,Smoking allowed,Elevator in building,Buzzer/wireless intercom,Washer,Fire extinguisher,Essentials,Shampoo,Lock on bedroom door,24-hour check-in,Hangers,Hair dryer,Iron,translation missing: en.hosting\\_amenity\\_49,translation missing: en.hosting\\_amenity\\_50,Self Check-In,Smartlock                                                      & NA &  24 &  97\\\\\n",
       "\t12102 & 28002 & Prosperidad   & Apartment       & Entire home/apt & 3 & 1.0 & 1 & 2 & Real Bed      & TV,Wireless Internet,Air conditioning,Kitchen,Breakfast,Elevator in building,Heating,Family/kid friendly,Washer,Essentials,Laptop friendly workspace,translation missing: en.hosting\\_amenity\\_50                                                                                                                                                                               & NA &  65 &  NA\\\\\n",
       "\t12129 & 28002 & El Viso       & House           & Entire home/apt & 2 & 1.0 & 1 & 2 & Real Bed      & TV,Internet,Wireless Internet,Air conditioning,Kitchen,Elevator in building,Buzzer/wireless intercom,Heating,Washer,Dryer,Smoke detector,Carbon monoxide detector,First aid kit,Fire extinguisher,Essentials,Shampoo,24-hour check-in,Hangers,Hair dryer,Iron,Laptop friendly workspace,translation missing: en.hosting\\_amenity\\_49,translation missing: en.hosting\\_amenity\\_50 & NA &  78 &  97\\\\\n",
       "\t12130 & 28002 & Prosperidad   & Apartment       & Entire home/apt & 5 & 1.0 & 1 & 4 & Real Bed      & TV,Internet,Wireless Internet,Air conditioning,Wheelchair accessible,Kitchen,Pets allowed,Doorman,Breakfast,Elevator in building,Heating,Family/kid friendly,Washer,Essentials,Shampoo,Hangers,Iron,Laptop friendly workspace                                                                                                                                                 & NA &  65 & 100\\\\\n",
       "\t12418 & 28002 & Prosperidad   & House           & Private room    & 2 & 2.0 & 1 & 1 & Real Bed      & TV,Internet,Wireless Internet,Air conditioning,Pool,Kitchen,Smoking allowed,Breakfast,Pets live on this property,Elevator in building,Heating,Washer,Essentials,Shampoo,24-hour check-in,Hangers                                                                                                                                                                              & NA &  35 &  91\\\\\n",
       "\t12419 & 28002 & Prosperidad   & Apartment       & Private room    & 1 & 1.0 & 1 & 1 & Pull-out Sofa & TV,Internet,Wireless Internet,Kitchen,Breakfast,Heating,Washer,Essentials,Shampoo                                                                                                                                                                                                                                                                                             & NA &  20 &  94\\\\\n",
       "\t12420 & 28002 & Prosperidad   & Apartment       & Entire home/apt & 2 & 1.0 & 2 & 1 & Real Bed      & TV,Wireless Internet,Air conditioning,Kitchen,Pets allowed,Breakfast,Elevator in building,Heating,Family/kid friendly,Washer,Essentials,Shampoo,Lock on bedroom door,Hangers,Hair dryer,Iron,Laptop friendly workspace,translation missing: en.hosting\\_amenity\\_49                                                                                                             & NA &  70 &  NA\\\\\n",
       "\t12441 & 28002 & Ciudad Jardín & Apartment       & Entire home/apt & 4 & 1.5 & 2 & 2 & Real Bed      & Air conditioning,Kitchen,Doorman,Elevator in building,Buzzer/wireless intercom,Heating,Family/kid friendly,Washer,Dryer,Essentials,Hangers,Laptop friendly workspace                                                                                                                                                                                                          & NA & 145 & 100\\\\\n",
       "\t12442 & 28002 & Ciudad Jardín & Apartment       & Entire home/apt & 4 & 1.5 & 2 & 4 & Real Bed      & TV,Wireless Internet,Air conditioning,Wheelchair accessible,Kitchen,Smoking allowed,Pets allowed,Elevator in building,Buzzer/wireless intercom,Heating,Family/kid friendly,Washer,Essentials,24-hour check-in,Hangers,Hair dryer,Iron,Laptop friendly workspace                                                                                                               & NA &  99 &  87\\\\\n",
       "\t13041 & 28002 & Prosperidad   & Apartment       & Entire home/apt & 3 & 1.0 & 1 & 2 & Real Bed      & TV,Air conditioning,Wheelchair accessible,Kitchen,Doorman,Elevator in building,Buzzer/wireless intercom,Heating,Family/kid friendly,First aid kit,Essentials,Shampoo,Hangers,Hair dryer,Iron,Laptop friendly workspace                                                                                                                                                        & NA &  60 &  92\\\\\n",
       "\t13042 & 28002 & Prosperidad   & Apartment       & Entire home/apt & 3 & 1.0 & 1 & 1 & Real Bed      & TV,Internet,Wireless Internet,Air conditioning,Kitchen,Smoking allowed,Gym,Heating,Family/kid friendly,Washer,Dryer,Fire extinguisher,Essentials,Shampoo,24-hour check-in,Hangers,Hair dryer,Iron                                                                                                                                                                             & NA & 110 & 100\\\\\n",
       "\t13043 & 28002 & Prosperidad   & Loft            & Private room    & 2 & 1.0 & 1 & 2 & Real Bed      & TV,Internet,Air conditioning,Smoking allowed,Pets allowed,Doorman,Elevator in building,Heating,Family/kid friendly,Essentials,Shampoo,Hair dryer                                                                                                                                                                                                                              & NA & 100 &  NA\\\\\n",
       "\t13120 & 28002 & Prosperidad   & Apartment       & Entire home/apt & 2 & 1.0 & 1 & 1 & Real Bed      & TV,Internet,Wireless Internet,Air conditioning,Wheelchair accessible,Kitchen,Doorman,Elevator in building,Heating,Family/kid friendly,Washer,Essentials,Shampoo,Hair dryer,Iron                                                                                                                                                                                               & NA &  65 &  88\\\\\n",
       "\t13121 & 28002 & Prosperidad   & Apartment       & Entire home/apt & 5 & 1.0 & 3 & 3 & Real Bed      & TV,Wireless Internet,Air conditioning,Kitchen,Doorman,Breakfast,Elevator in building,Buzzer/wireless intercom,Heating,Family/kid friendly,Washer,Dryer,Essentials,Hangers,Iron,Laptop friendly workspace                                                                                                                                                                      & NA &  70 &  96\\\\\n",
       "\t13123 & 28002 & Ciudad Jardín & Apartment       & Private room    & 1 & 1.0 & 1 & 1 & Real Bed      & TV,Wireless Internet,Kitchen,Elevator in building,Washer,Smoke detector,First aid kit,Essentials,Hangers,Laptop friendly workspace,translation missing: en.hosting\\_amenity\\_49                                                                                                                                                                                                 & NA &  15 &  NA\\\\\n",
       "\t13124 & 28002 & Ciudad Jardín & Apartment       & Entire home/apt & 4 & 1.0 & 1 & 1 & Real Bed      & TV,Wireless Internet,Kitchen,Smoking allowed,Pets allowed,Buzzer/wireless intercom,Heating,Family/kid friendly,Washer,First aid kit,Safety card,Essentials,Shampoo,24-hour check-in,Hangers,Hair dryer,Iron,Laptop friendly workspace                                                                                                                                         & NA &  65 &  93\\\\\n",
       "\\end{tabular}\n"
      ],
      "text/markdown": [
       "\n",
       "A data.frame: 170 × 13\n",
       "\n",
       "| <!--/--> | CodigoPostal &lt;fct&gt; | Barrio &lt;fct&gt; | TipoPropiedad &lt;fct&gt; | TipoAlquiler &lt;fct&gt; | MaxOcupantes &lt;int&gt; | NumBanyos &lt;dbl&gt; | NumDormitorios &lt;int&gt; | NumCamas &lt;int&gt; | TipoCama &lt;fct&gt; | Comodidades &lt;fct&gt; | PiesCuadrados &lt;int&gt; | Precio &lt;int&gt; | Puntuacion &lt;int&gt; |\n",
       "|---|---|---|---|---|---|---|---|---|---|---|---|---|---|\n",
       "| 365 | 28002 | El Viso       | Apartment       | Private room    | 2 | 1.0 | 1 | 1 | Real Bed      | TV,Cable TV,Internet,Wireless Internet,Air conditioning,Kitchen,Breakfast,Heating,Washer,Essentials,Shampoo                                                                                                                                                                                                                                        | NA |  26 |  98 |\n",
       "| 366 | 28002 | El Viso       | Apartment       | Entire home/apt | 6 | 1.0 | 3 | 4 | Real Bed      | TV,Internet,Wireless Internet,Air conditioning,Kitchen,Buzzer/wireless intercom,Heating,Family/kid friendly,Washer,Smoke detector,Carbon monoxide detector,First aid kit,Essentials,Shampoo,24-hour check-in,Hangers,Hair dryer,Iron,Laptop friendly workspace                                                                                     | NA |  82 |  94 |\n",
       "| 368 | 28002 | Prosperidad   | Loft            | Entire home/apt | 2 | 1.0 | 1 | 1 | Real Bed      | TV,Kitchen,Heating,Family/kid friendly,Essentials,Shampoo,Hangers,Hair dryer,Iron,Laptop friendly workspace                                                                                                                                                                                                                                        | NA |  65 |  83 |\n",
       "| 369 | 28002 | Prosperidad   | Apartment       | Entire home/apt | 5 | 1.0 | 3 | 4 | Real Bed      | TV,Wireless Internet,Kitchen,Elevator in building,Buzzer/wireless intercom,Heating,Family/kid friendly,Washer,Shampoo                                                                                                                                                                                                                              | NA |  69 |  84 |\n",
       "| 405 | 28002 | Prosperidad   | Apartment       | Entire home/apt | 4 | 2.0 | 2 | 4 | Real Bed      | TV,Internet,Wireless Internet,Air conditioning,Kitchen,Heating,Family/kid friendly,Washer,Dryer,First aid kit,Essentials,Shampoo                                                                                                                                                                                                                   | NA |  80 |  NA |\n",
       "| 406 | 28002 | Prosperidad   | Apartment       | Entire home/apt | 4 | 1.0 | 1 | 2 | Real Bed      | TV,Wireless Internet,Air conditioning,Kitchen,Free parking on premises,Elevator in building,Heating,Family/kid friendly,Washer,Dryer,Essentials,Hangers,Hair dryer,Iron                                                                                                                                                                            | NA | 100 |  99 |\n",
       "| 407 | 28002 | Ciudad Jardín | Apartment       | Private room    | 1 | 1.0 | 1 | 2 | Real Bed      | Internet,Wireless Internet,Kitchen,Smoking allowed,Pets allowed,Elevator in building,Buzzer/wireless intercom,Heating,Washer,Hangers,Iron,Laptop friendly workspace                                                                                                                                                                                | NA |  25 |  NA |\n",
       "| 639 | 28002 | El Viso       | Apartment       | Private room    | 2 | 1.0 | 1 | 2 | Real Bed      | TV,Internet,Wireless Internet,Kitchen,Breakfast,Elevator in building,Heating,Washer                                                                                                                                                                                                                                                                | NA |  30 |  96 |\n",
       "| 640 | 28002 | Prosperidad   | Apartment       | Private room    | 1 | 1.0 | 1 | 1 | Real Bed      | Internet,Wireless Internet,Kitchen,Smoking allowed,Elevator in building,Buzzer/wireless intercom,Washer,Fire extinguisher,Essentials,Shampoo,Lock on bedroom door,24-hour check-in,Hangers,Hair dryer,Iron,Laptop friendly workspace,translation missing: en.hosting_amenity_49,translation missing: en.hosting_amenity_50,Self Check-In,Smartlock | NA |  19 |  95 |\n",
       "| 641 | 28002 | Prosperidad   | Apartment       | Private room    | 3 | 1.0 | 1 | 1 | Real Bed      | Internet,Wireless Internet,Wheelchair accessible,Kitchen,Doorman,Elevator in building,Buzzer/wireless intercom,Heating,Essentials,24-hour check-in,Hangers,Hair dryer,Iron,Laptop friendly workspace,translation missing: en.hosting_amenity_49,translation missing: en.hosting_amenity_50                                                         | NA |  30 |  85 |\n",
       "| 643 | 28002 | Prosperidad   | Apartment       | Private room    | 1 | 1.0 | 1 | 1 | Real Bed      | TV,Internet,Wireless Internet,Kitchen,Smoking allowed,Heating,Family/kid friendly,Essentials,Lock on bedroom door,24-hour check-in,Hair dryer,Laptop friendly workspace                                                                                                                                                                            | NA |  23 |  88 |\n",
       "| 644 | 28002 | Prosperidad   | House           | Entire home/apt | 5 | 2.0 | 3 | 4 | Real Bed      | TV,Internet,Wireless Internet,Air conditioning,Kitchen,Elevator in building,Heating,Family/kid friendly,Washer,Essentials,Shampoo                                                                                                                                                                                                                  | NA | 125 | 100 |\n",
       "| 645 | 28002 | Prosperidad   | House           | Private room    | 2 | 1.0 | 1 | 1 | Real Bed      | Wireless Internet,Air conditioning,Pool,Kitchen,Doorman,Elevator in building,Heating,Suitable for events,Washer,Dryer,Essentials,Shampoo,Lock on bedroom door,24-hour check-in,Hangers,Hair dryer,Iron,Laptop friendly workspace,translation missing: en.hosting_amenity_49,translation missing: en.hosting_amenity_50                             | NA |  39 | 100 |\n",
       "| 646 | 28002 | Ciudad Jardín | Apartment       | Entire home/apt | 4 | 1.0 | 2 | 2 | Real Bed      | TV,Wireless Internet,Air conditioning,Kitchen,Elevator in building,Heating,Washer,Dryer,Essentials,Shampoo,Hangers,Hair dryer,Iron,Laptop friendly workspace                                                                                                                                                                                       | NA | 105 |  NA |\n",
       "| 647 | 28002 | Ciudad Jardín | Other           | Entire home/apt | 5 | 2.0 | 3 | 5 | Real Bed      | TV,Wireless Internet,Air conditioning,Pool,Kitchen,Breakfast,Elevator in building,Heating,Family/kid friendly,Washer,First aid kit,Essentials,Shampoo,Lock on bedroom door,Hangers,Iron,Laptop friendly workspace                                                                                                                                  | NA | 110 |  95 |\n",
       "| 864 | 28002 | Prosperidad   | Apartment       | Entire home/apt | 3 | 1.0 | 1 | 2 | Real Bed      | TV,Wireless Internet,Air conditioning,Kitchen,Doorman,Elevator in building,Family/kid friendly,Washer,Smoke detector,Carbon monoxide detector,Essentials,Shampoo,24-hour check-in,Hangers,Hair dryer,Iron,Laptop friendly workspace,Self Check-In,Doorman Entry                                                                                    | NA |  50 |  95 |\n",
       "| 865 | 28002 | Prosperidad   | Apartment       | Private room    | 2 | 1.0 | 1 | 1 | Real Bed      | Wireless Internet,Kitchen,Elevator in building,Heating,Washer,Essentials,Hangers,Iron,Laptop friendly workspace,translation missing: en.hosting_amenity_49                                                                                                                                                                                         | NA |  23 | 100 |\n",
       "| 866 | 28002 | Prosperidad   | Apartment       | Private room    | 1 | 1.0 | 1 | 1 | Pull-out Sofa | TV,Wireless Internet,Kitchen,Doorman,Elevator in building,Heating,Washer,Essentials,Shampoo,Hangers,Iron,Laptop friendly workspace,translation missing: en.hosting_amenity_49,translation missing: en.hosting_amenity_50                                                                                                                           | NA |  28 | 100 |\n",
       "| 867 | 28002 | Prosperidad   | Bed &amp; Breakfast | Private room    | 2 | 1.0 | 1 | 1 | Real Bed      | TV,Internet,Wireless Internet,Air conditioning,Kitchen,Breakfast,Elevator in building,Buzzer/wireless intercom,Heating,Washer,Shampoo,translation missing: en.hosting_amenity_49,translation missing: en.hosting_amenity_50                                                                                                                        | NA |  35 |  80 |\n",
       "| 1306 | 28002 | El Viso       | Bed &amp; Breakfast | Private room    | 2 | 1.0 | 1 | 1 | Real Bed      | TV,Cable TV,Internet,Wireless Internet,Air conditioning,Kitchen,Breakfast,Elevator in building,Heating,Washer,Fire extinguisher,Essentials,24-hour check-in,Hangers,Iron,Laptop friendly workspace,translation missing: en.hosting_amenity_49,translation missing: en.hosting_amenity_50                                                           | NA |  35 | 100 |\n",
       "| 1308 | 28002 | Prosperidad   | Apartment       | Private room    | 6 | 2.0 | 1 | 5 | Real Bed      | TV,Cable TV,Internet,Wireless Internet,Air conditioning,Wheelchair accessible,Kitchen,Doorman,Elevator in building,Buzzer/wireless intercom,Heating,Family/kid friendly,Washer,Essentials,Shampoo,Hangers,Hair dryer,Iron,Laptop friendly workspace                                                                                                | NA |  74 |  99 |\n",
       "| 1309 | 28002 | Prosperidad   | Apartment       | Entire home/apt | 6 | 1.0 | 2 | 3 | Real Bed      | TV,Internet,Wireless Internet,Air conditioning,Kitchen,Pets allowed,Heating,Family/kid friendly,Washer,Essentials,Shampoo,Iron,Laptop friendly workspace                                                                                                                                                                                           | NA |  70 | 100 |\n",
       "| 1310 | 28002 | Ciudad Jardín | Apartment       | Entire home/apt | 2 | 1.0 | 1 | 1 | Real Bed      | TV,Cable TV,Internet,Wireless Internet,Air conditioning,Kitchen,Pets allowed,Breakfast,Elevator in building,Heating,Family/kid friendly,Washer,Essentials,Shampoo,Hangers,Hair dryer,Iron,translation missing: en.hosting_amenity_49                                                                                                               | NA |  65 |  96 |\n",
       "| 1311 | 28002 | Ciudad Jardín | Apartment       | Entire home/apt | 6 | 1.5 | 3 | 6 | Real Bed      | TV,Wireless Internet,Air conditioning,Kitchen,Smoking allowed,Pets allowed,Doorman,Elevator in building,Buzzer/wireless intercom,Heating,Family/kid friendly,Suitable for events,Washer,Essentials,Hangers,Iron,Laptop friendly workspace                                                                                                          | NA | 120 | 100 |\n",
       "| 1312 | 28002 | Ciudad Jardín | Apartment       | Entire home/apt | 1 | 1.0 | 1 | 1 | Real Bed      | TV,Wireless Internet,Kitchen,Heating,Washer,First aid kit,Essentials,Shampoo,Hangers,Iron,Laptop friendly workspace,translation missing: en.hosting_amenity_49,translation missing: en.hosting_amenity_50                                                                                                                                          | NA |  37 |  NA |\n",
       "| 1313 | 28002 | Ciudad Jardín | Apartment       | Entire home/apt | 7 | 3.0 | 3 | 5 | Real Bed      | TV,Internet,Wireless Internet,Air conditioning,Kitchen,Free parking on premises,Doorman,Elevator in building,Buzzer/wireless intercom,Heating,Family/kid friendly,Washer,Essentials,Shampoo,Hangers,Hair dryer,Iron,Laptop friendly workspace                                                                                                      | NA | 136 |  94 |\n",
       "| 1772 | 28002 | El Viso       | Apartment       | Entire home/apt | 4 | 1.0 | 1 | 2 | Real Bed      | Pets allowed,Family/kid friendly                                                                                                                                                                                                                                                                                                                   | NA |  42 |  NA |\n",
       "| 1773 | 28002 | Prosperidad   | Apartment       | Entire home/apt | 4 | 1.0 | 1 | 3 | Real Bed      | TV,Wireless Internet,Air conditioning,Kitchen,Smoking allowed,Pets allowed,Elevator in building,Family/kid friendly,Washer,Essentials,Shampoo,Hangers                                                                                                                                                                                              | NA |  40 |  NA |\n",
       "| 1774 | 28002 | Prosperidad   | Apartment       | Private room    | 2 | 1.0 | 1 | 1 | Real Bed      | Wireless Internet,Air conditioning,Kitchen,Smoking allowed,Doorman,Breakfast,Elevator in building,Buzzer/wireless intercom,Heating,First aid kit,Essentials,Shampoo,Hair dryer,Iron,Laptop friendly workspace,translation missing: en.hosting_amenity_49,translation missing: en.hosting_amenity_50                                                | NA |  25 | 100 |\n",
       "| 1775 | 28002 | Prosperidad   | Apartment       | Entire home/apt | 2 | 1.0 | 1 | 1 | Real Bed      | TV,Kitchen,Buzzer/wireless intercom,Heating,Washer                                                                                                                                                                                                                                                                                                 | NA |  75 |  NA |\n",
       "| ⋮ | ⋮ | ⋮ | ⋮ | ⋮ | ⋮ | ⋮ | ⋮ | ⋮ | ⋮ | ⋮ | ⋮ | ⋮ | ⋮ |\n",
       "| 11231 | 28002 | El Viso       | Apartment       | Entire home/apt | 8 | 2.0 | 3 | 4 | Real Bed      | TV,Internet,Wireless Internet,Air conditioning,Kitchen,Elevator in building,Heating,Family/kid friendly,Washer,Smoke detector,Carbon monoxide detector,First aid kit,Safety card,Essentials,Shampoo,Hangers,Hair dryer,Iron,Laptop friendly workspace                                                                                                                         | NA | 100 | 100 |\n",
       "| 11233 | 28002 | Prosperidad   | Apartment       | Private room    | 1 | 1.0 | 1 | 1 | Real Bed      | TV,Wireless Internet,Kitchen,Smoking allowed,Doorman,Elevator in building,Buzzer/wireless intercom,Heating,Washer,First aid kit,Essentials,Shampoo,Lock on bedroom door,Hangers,Hair dryer,Iron,Laptop friendly workspace                                                                                                                                                     | NA |  35 |  98 |\n",
       "| 11500 | 28002 | Guindalera    | Apartment       | Entire home/apt | 6 | 1.0 | 3 | 4 | Real Bed      | TV,Cable TV,Internet,Wireless Internet,Air conditioning,Kitchen,Smoking allowed,Elevator in building,Buzzer/wireless intercom,Heating,Family/kid friendly,Washer,Dryer,Essentials,Shampoo,24-hour check-in,Hangers,Iron,Laptop friendly workspace,Private living room                                                                                                         | NA |  80 |  90 |\n",
       "| 11512 | 28002 | El Viso       | Apartment       | Private room    | 1 | 1.0 | 1 | 1 | Real Bed      | TV,Wireless Internet,Air conditioning,Kitchen,Breakfast,Elevator in building,Heating,Family/kid friendly,Washer,First aid kit,Essentials,Shampoo,Hangers,Hair dryer,Iron,Laptop friendly workspace                                                                                                                                                                            | NA |  25 |  NA |\n",
       "| 11514 | 28002 | El Viso       | House           | Private room    | 1 | 2.0 | 1 | 1 | Real Bed      | TV,Cable TV,Internet,Wireless Internet,Wheelchair accessible,Kitchen,Doorman,Breakfast,Elevator in building,Buzzer/wireless intercom,Heating,Family/kid friendly,Washer,First aid kit,Fire extinguisher,Essentials,Shampoo,24-hour check-in,Hangers,Hair dryer,Iron,Laptop friendly workspace,translation missing: en.hosting_amenity_50                                      | NA |  25 |  96 |\n",
       "| 11515 | 28002 | El Viso       | Bed &amp; Breakfast | Private room    | 2 | 1.0 | 1 | 1 | Real Bed      | TV,Cable TV,Internet,Wireless Internet,Kitchen,Smoking allowed,Breakfast,Pets live on this property,Dog(s),Buzzer/wireless intercom,Heating,Family/kid friendly,Washer,First aid kit,Essentials,Shampoo,Lock on bedroom door,24-hour check-in,Hangers,Hair dryer,Iron,translation missing: en.hosting_amenity_50                                                              | NA |  35 |  96 |\n",
       "| 11516 | 28002 | Prosperidad   | Apartment       | Entire home/apt | 4 | 1.0 | 1 | 2 | Real Bed      | TV,Internet,Wireless Internet,Air conditioning,Kitchen,Free parking on premises,Smoking allowed,Pets allowed,Breakfast,Elevator in building,Heating,Family/kid friendly,Washer,Dryer,Essentials,Shampoo,Hangers,Hair dryer,Iron                                                                                                                                               | NA | 150 |  NA |\n",
       "| 11517 | 28002 | Prosperidad   | Apartment       | Private room    | 2 | 1.0 | 0 | 1 | Real Bed      | TV,Wireless Internet,Air conditioning,Free parking on premises,Heating,Family/kid friendly,Essentials,Shampoo,Hair dryer,Iron,translation missing: en.hosting_amenity_50                                                                                                                                                                                                      | NA |  69 |  NA |\n",
       "| 11518 | 28002 | Prosperidad   | Apartment       | Private room    | 2 | 1.0 | 2 | 1 | Pull-out Sofa | Wireless Internet,Air conditioning,Kitchen,Smoking allowed,Pets allowed,Elevator in building,Heating,Family/kid friendly,Suitable for events,Washer,Dryer,Smoke detector,Essentials,Hangers,Iron,Laptop friendly workspace                                                                                                                                                    | NA |  19 |  80 |\n",
       "| 11519 | 28002 | Prosperidad   | Townhouse       | Private room    | 1 | 1.0 | 1 | 1 | Real Bed      | TV,Wireless Internet,Air conditioning,Pool,Kitchen,Pets live on this property,Dog(s),Heating,Family/kid friendly,Washer,Essentials,Hangers,Iron,Laptop friendly workspace,translation missing: en.hosting_amenity_50                                                                                                                                                          | NA |  45 |  60 |\n",
       "| 11573 | 28002 | Prosperidad   | Apartment       | Private room    | 2 | 2.0 | 1 | 2 | Real Bed      | TV,Wireless Internet,Air conditioning,Breakfast,Elevator in building,Buzzer/wireless intercom,Heating,Family/kid friendly,First aid kit,Safety card,Essentials,Shampoo,24-hour check-in,Hangers,Hair dryer,Laptop friendly workspace,translation missing: en.hosting_amenity_49,translation missing: en.hosting_amenity_50                                                    | NA |  35 |  98 |\n",
       "| 11574 | 28002 | Ciudad Jardín | Apartment       | Private room    | 2 | 1.0 | 1 | 1 | Real Bed      | Internet,Wireless Internet,Air conditioning,Wheelchair accessible,Pets allowed,Pets live on this property,Dog(s),Elevator in building,Heating,Essentials,Shampoo,translation missing: en.hosting_amenity_50                                                                                                                                                                   | NA |  29 |  91 |\n",
       "| 11575 | 28002 | Ciudad Jardín | Apartment       | Entire home/apt | 2 | 1.0 | 1 | 1 | Real Bed      | TV,Cable TV,Air conditioning,Kitchen,Smoking allowed,Pets allowed,Buzzer/wireless intercom,Heating,Washer                                                                                                                                                                                                                                                                     | NA |  55 |  NA |\n",
       "| 11576 | 28002 | Ciudad Jardín | Apartment       | Private room    | 1 | 2.0 | 1 | 1 | Real Bed      | TV,Cable TV,Internet,Wireless Internet,Kitchen,Doorman,Elevator in building,Heating,Washer,Dryer,translation missing: en.hosting_amenity_49,translation missing: en.hosting_amenity_50                                                                                                                                                                                        | NA |  35 | 100 |\n",
       "| 12101 | 28002 | Prosperidad   | Apartment       | Private room    | 2 | 1.0 | 1 | 1 | Real Bed      | Internet,Wireless Internet,Kitchen,Smoking allowed,Elevator in building,Buzzer/wireless intercom,Washer,Fire extinguisher,Essentials,Shampoo,Lock on bedroom door,24-hour check-in,Hangers,Hair dryer,Iron,translation missing: en.hosting_amenity_49,translation missing: en.hosting_amenity_50,Self Check-In,Smartlock                                                      | NA |  24 |  97 |\n",
       "| 12102 | 28002 | Prosperidad   | Apartment       | Entire home/apt | 3 | 1.0 | 1 | 2 | Real Bed      | TV,Wireless Internet,Air conditioning,Kitchen,Breakfast,Elevator in building,Heating,Family/kid friendly,Washer,Essentials,Laptop friendly workspace,translation missing: en.hosting_amenity_50                                                                                                                                                                               | NA |  65 |  NA |\n",
       "| 12129 | 28002 | El Viso       | House           | Entire home/apt | 2 | 1.0 | 1 | 2 | Real Bed      | TV,Internet,Wireless Internet,Air conditioning,Kitchen,Elevator in building,Buzzer/wireless intercom,Heating,Washer,Dryer,Smoke detector,Carbon monoxide detector,First aid kit,Fire extinguisher,Essentials,Shampoo,24-hour check-in,Hangers,Hair dryer,Iron,Laptop friendly workspace,translation missing: en.hosting_amenity_49,translation missing: en.hosting_amenity_50 | NA |  78 |  97 |\n",
       "| 12130 | 28002 | Prosperidad   | Apartment       | Entire home/apt | 5 | 1.0 | 1 | 4 | Real Bed      | TV,Internet,Wireless Internet,Air conditioning,Wheelchair accessible,Kitchen,Pets allowed,Doorman,Breakfast,Elevator in building,Heating,Family/kid friendly,Washer,Essentials,Shampoo,Hangers,Iron,Laptop friendly workspace                                                                                                                                                 | NA |  65 | 100 |\n",
       "| 12418 | 28002 | Prosperidad   | House           | Private room    | 2 | 2.0 | 1 | 1 | Real Bed      | TV,Internet,Wireless Internet,Air conditioning,Pool,Kitchen,Smoking allowed,Breakfast,Pets live on this property,Elevator in building,Heating,Washer,Essentials,Shampoo,24-hour check-in,Hangers                                                                                                                                                                              | NA |  35 |  91 |\n",
       "| 12419 | 28002 | Prosperidad   | Apartment       | Private room    | 1 | 1.0 | 1 | 1 | Pull-out Sofa | TV,Internet,Wireless Internet,Kitchen,Breakfast,Heating,Washer,Essentials,Shampoo                                                                                                                                                                                                                                                                                             | NA |  20 |  94 |\n",
       "| 12420 | 28002 | Prosperidad   | Apartment       | Entire home/apt | 2 | 1.0 | 2 | 1 | Real Bed      | TV,Wireless Internet,Air conditioning,Kitchen,Pets allowed,Breakfast,Elevator in building,Heating,Family/kid friendly,Washer,Essentials,Shampoo,Lock on bedroom door,Hangers,Hair dryer,Iron,Laptop friendly workspace,translation missing: en.hosting_amenity_49                                                                                                             | NA |  70 |  NA |\n",
       "| 12441 | 28002 | Ciudad Jardín | Apartment       | Entire home/apt | 4 | 1.5 | 2 | 2 | Real Bed      | Air conditioning,Kitchen,Doorman,Elevator in building,Buzzer/wireless intercom,Heating,Family/kid friendly,Washer,Dryer,Essentials,Hangers,Laptop friendly workspace                                                                                                                                                                                                          | NA | 145 | 100 |\n",
       "| 12442 | 28002 | Ciudad Jardín | Apartment       | Entire home/apt | 4 | 1.5 | 2 | 4 | Real Bed      | TV,Wireless Internet,Air conditioning,Wheelchair accessible,Kitchen,Smoking allowed,Pets allowed,Elevator in building,Buzzer/wireless intercom,Heating,Family/kid friendly,Washer,Essentials,24-hour check-in,Hangers,Hair dryer,Iron,Laptop friendly workspace                                                                                                               | NA |  99 |  87 |\n",
       "| 13041 | 28002 | Prosperidad   | Apartment       | Entire home/apt | 3 | 1.0 | 1 | 2 | Real Bed      | TV,Air conditioning,Wheelchair accessible,Kitchen,Doorman,Elevator in building,Buzzer/wireless intercom,Heating,Family/kid friendly,First aid kit,Essentials,Shampoo,Hangers,Hair dryer,Iron,Laptop friendly workspace                                                                                                                                                        | NA |  60 |  92 |\n",
       "| 13042 | 28002 | Prosperidad   | Apartment       | Entire home/apt | 3 | 1.0 | 1 | 1 | Real Bed      | TV,Internet,Wireless Internet,Air conditioning,Kitchen,Smoking allowed,Gym,Heating,Family/kid friendly,Washer,Dryer,Fire extinguisher,Essentials,Shampoo,24-hour check-in,Hangers,Hair dryer,Iron                                                                                                                                                                             | NA | 110 | 100 |\n",
       "| 13043 | 28002 | Prosperidad   | Loft            | Private room    | 2 | 1.0 | 1 | 2 | Real Bed      | TV,Internet,Air conditioning,Smoking allowed,Pets allowed,Doorman,Elevator in building,Heating,Family/kid friendly,Essentials,Shampoo,Hair dryer                                                                                                                                                                                                                              | NA | 100 |  NA |\n",
       "| 13120 | 28002 | Prosperidad   | Apartment       | Entire home/apt | 2 | 1.0 | 1 | 1 | Real Bed      | TV,Internet,Wireless Internet,Air conditioning,Wheelchair accessible,Kitchen,Doorman,Elevator in building,Heating,Family/kid friendly,Washer,Essentials,Shampoo,Hair dryer,Iron                                                                                                                                                                                               | NA |  65 |  88 |\n",
       "| 13121 | 28002 | Prosperidad   | Apartment       | Entire home/apt | 5 | 1.0 | 3 | 3 | Real Bed      | TV,Wireless Internet,Air conditioning,Kitchen,Doorman,Breakfast,Elevator in building,Buzzer/wireless intercom,Heating,Family/kid friendly,Washer,Dryer,Essentials,Hangers,Iron,Laptop friendly workspace                                                                                                                                                                      | NA |  70 |  96 |\n",
       "| 13123 | 28002 | Ciudad Jardín | Apartment       | Private room    | 1 | 1.0 | 1 | 1 | Real Bed      | TV,Wireless Internet,Kitchen,Elevator in building,Washer,Smoke detector,First aid kit,Essentials,Hangers,Laptop friendly workspace,translation missing: en.hosting_amenity_49                                                                                                                                                                                                 | NA |  15 |  NA |\n",
       "| 13124 | 28002 | Ciudad Jardín | Apartment       | Entire home/apt | 4 | 1.0 | 1 | 1 | Real Bed      | TV,Wireless Internet,Kitchen,Smoking allowed,Pets allowed,Buzzer/wireless intercom,Heating,Family/kid friendly,Washer,First aid kit,Safety card,Essentials,Shampoo,24-hour check-in,Hangers,Hair dryer,Iron,Laptop friendly workspace                                                                                                                                         | NA |  65 |  93 |\n",
       "\n"
      ],
      "text/plain": [
       "      CodigoPostal Barrio        TipoPropiedad   TipoAlquiler    MaxOcupantes\n",
       "365   28002        El Viso       Apartment       Private room    2           \n",
       "366   28002        El Viso       Apartment       Entire home/apt 6           \n",
       "368   28002        Prosperidad   Loft            Entire home/apt 2           \n",
       "369   28002        Prosperidad   Apartment       Entire home/apt 5           \n",
       "405   28002        Prosperidad   Apartment       Entire home/apt 4           \n",
       "406   28002        Prosperidad   Apartment       Entire home/apt 4           \n",
       "407   28002        Ciudad Jardín Apartment       Private room    1           \n",
       "639   28002        El Viso       Apartment       Private room    2           \n",
       "640   28002        Prosperidad   Apartment       Private room    1           \n",
       "641   28002        Prosperidad   Apartment       Private room    3           \n",
       "643   28002        Prosperidad   Apartment       Private room    1           \n",
       "644   28002        Prosperidad   House           Entire home/apt 5           \n",
       "645   28002        Prosperidad   House           Private room    2           \n",
       "646   28002        Ciudad Jardín Apartment       Entire home/apt 4           \n",
       "647   28002        Ciudad Jardín Other           Entire home/apt 5           \n",
       "864   28002        Prosperidad   Apartment       Entire home/apt 3           \n",
       "865   28002        Prosperidad   Apartment       Private room    2           \n",
       "866   28002        Prosperidad   Apartment       Private room    1           \n",
       "867   28002        Prosperidad   Bed & Breakfast Private room    2           \n",
       "1306  28002        El Viso       Bed & Breakfast Private room    2           \n",
       "1308  28002        Prosperidad   Apartment       Private room    6           \n",
       "1309  28002        Prosperidad   Apartment       Entire home/apt 6           \n",
       "1310  28002        Ciudad Jardín Apartment       Entire home/apt 2           \n",
       "1311  28002        Ciudad Jardín Apartment       Entire home/apt 6           \n",
       "1312  28002        Ciudad Jardín Apartment       Entire home/apt 1           \n",
       "1313  28002        Ciudad Jardín Apartment       Entire home/apt 7           \n",
       "1772  28002        El Viso       Apartment       Entire home/apt 4           \n",
       "1773  28002        Prosperidad   Apartment       Entire home/apt 4           \n",
       "1774  28002        Prosperidad   Apartment       Private room    2           \n",
       "1775  28002        Prosperidad   Apartment       Entire home/apt 2           \n",
       "⋮     ⋮            ⋮             ⋮               ⋮               ⋮           \n",
       "11231 28002        El Viso       Apartment       Entire home/apt 8           \n",
       "11233 28002        Prosperidad   Apartment       Private room    1           \n",
       "11500 28002        Guindalera    Apartment       Entire home/apt 6           \n",
       "11512 28002        El Viso       Apartment       Private room    1           \n",
       "11514 28002        El Viso       House           Private room    1           \n",
       "11515 28002        El Viso       Bed & Breakfast Private room    2           \n",
       "11516 28002        Prosperidad   Apartment       Entire home/apt 4           \n",
       "11517 28002        Prosperidad   Apartment       Private room    2           \n",
       "11518 28002        Prosperidad   Apartment       Private room    2           \n",
       "11519 28002        Prosperidad   Townhouse       Private room    1           \n",
       "11573 28002        Prosperidad   Apartment       Private room    2           \n",
       "11574 28002        Ciudad Jardín Apartment       Private room    2           \n",
       "11575 28002        Ciudad Jardín Apartment       Entire home/apt 2           \n",
       "11576 28002        Ciudad Jardín Apartment       Private room    1           \n",
       "12101 28002        Prosperidad   Apartment       Private room    2           \n",
       "12102 28002        Prosperidad   Apartment       Entire home/apt 3           \n",
       "12129 28002        El Viso       House           Entire home/apt 2           \n",
       "12130 28002        Prosperidad   Apartment       Entire home/apt 5           \n",
       "12418 28002        Prosperidad   House           Private room    2           \n",
       "12419 28002        Prosperidad   Apartment       Private room    1           \n",
       "12420 28002        Prosperidad   Apartment       Entire home/apt 2           \n",
       "12441 28002        Ciudad Jardín Apartment       Entire home/apt 4           \n",
       "12442 28002        Ciudad Jardín Apartment       Entire home/apt 4           \n",
       "13041 28002        Prosperidad   Apartment       Entire home/apt 3           \n",
       "13042 28002        Prosperidad   Apartment       Entire home/apt 3           \n",
       "13043 28002        Prosperidad   Loft            Private room    2           \n",
       "13120 28002        Prosperidad   Apartment       Entire home/apt 2           \n",
       "13121 28002        Prosperidad   Apartment       Entire home/apt 5           \n",
       "13123 28002        Ciudad Jardín Apartment       Private room    1           \n",
       "13124 28002        Ciudad Jardín Apartment       Entire home/apt 4           \n",
       "      NumBanyos NumDormitorios NumCamas TipoCama     \n",
       "365   1.0       1              1        Real Bed     \n",
       "366   1.0       3              4        Real Bed     \n",
       "368   1.0       1              1        Real Bed     \n",
       "369   1.0       3              4        Real Bed     \n",
       "405   2.0       2              4        Real Bed     \n",
       "406   1.0       1              2        Real Bed     \n",
       "407   1.0       1              2        Real Bed     \n",
       "639   1.0       1              2        Real Bed     \n",
       "640   1.0       1              1        Real Bed     \n",
       "641   1.0       1              1        Real Bed     \n",
       "643   1.0       1              1        Real Bed     \n",
       "644   2.0       3              4        Real Bed     \n",
       "645   1.0       1              1        Real Bed     \n",
       "646   1.0       2              2        Real Bed     \n",
       "647   2.0       3              5        Real Bed     \n",
       "864   1.0       1              2        Real Bed     \n",
       "865   1.0       1              1        Real Bed     \n",
       "866   1.0       1              1        Pull-out Sofa\n",
       "867   1.0       1              1        Real Bed     \n",
       "1306  1.0       1              1        Real Bed     \n",
       "1308  2.0       1              5        Real Bed     \n",
       "1309  1.0       2              3        Real Bed     \n",
       "1310  1.0       1              1        Real Bed     \n",
       "1311  1.5       3              6        Real Bed     \n",
       "1312  1.0       1              1        Real Bed     \n",
       "1313  3.0       3              5        Real Bed     \n",
       "1772  1.0       1              2        Real Bed     \n",
       "1773  1.0       1              3        Real Bed     \n",
       "1774  1.0       1              1        Real Bed     \n",
       "1775  1.0       1              1        Real Bed     \n",
       "⋮     ⋮         ⋮              ⋮        ⋮            \n",
       "11231 2.0       3              4        Real Bed     \n",
       "11233 1.0       1              1        Real Bed     \n",
       "11500 1.0       3              4        Real Bed     \n",
       "11512 1.0       1              1        Real Bed     \n",
       "11514 2.0       1              1        Real Bed     \n",
       "11515 1.0       1              1        Real Bed     \n",
       "11516 1.0       1              2        Real Bed     \n",
       "11517 1.0       0              1        Real Bed     \n",
       "11518 1.0       2              1        Pull-out Sofa\n",
       "11519 1.0       1              1        Real Bed     \n",
       "11573 2.0       1              2        Real Bed     \n",
       "11574 1.0       1              1        Real Bed     \n",
       "11575 1.0       1              1        Real Bed     \n",
       "11576 2.0       1              1        Real Bed     \n",
       "12101 1.0       1              1        Real Bed     \n",
       "12102 1.0       1              2        Real Bed     \n",
       "12129 1.0       1              2        Real Bed     \n",
       "12130 1.0       1              4        Real Bed     \n",
       "12418 2.0       1              1        Real Bed     \n",
       "12419 1.0       1              1        Pull-out Sofa\n",
       "12420 1.0       2              1        Real Bed     \n",
       "12441 1.5       2              2        Real Bed     \n",
       "12442 1.5       2              4        Real Bed     \n",
       "13041 1.0       1              2        Real Bed     \n",
       "13042 1.0       1              1        Real Bed     \n",
       "13043 1.0       1              2        Real Bed     \n",
       "13120 1.0       1              1        Real Bed     \n",
       "13121 1.0       3              3        Real Bed     \n",
       "13123 1.0       1              1        Real Bed     \n",
       "13124 1.0       1              1        Real Bed     \n",
       "      Comodidades                                                                                                                                                                                                                                                                                                                                                                  \n",
       "365   TV,Cable TV,Internet,Wireless Internet,Air conditioning,Kitchen,Breakfast,Heating,Washer,Essentials,Shampoo                                                                                                                                                                                                                                                                  \n",
       "366   TV,Internet,Wireless Internet,Air conditioning,Kitchen,Buzzer/wireless intercom,Heating,Family/kid friendly,Washer,Smoke detector,Carbon monoxide detector,First aid kit,Essentials,Shampoo,24-hour check-in,Hangers,Hair dryer,Iron,Laptop friendly workspace                                                                                                               \n",
       "368   TV,Kitchen,Heating,Family/kid friendly,Essentials,Shampoo,Hangers,Hair dryer,Iron,Laptop friendly workspace                                                                                                                                                                                                                                                                  \n",
       "369   TV,Wireless Internet,Kitchen,Elevator in building,Buzzer/wireless intercom,Heating,Family/kid friendly,Washer,Shampoo                                                                                                                                                                                                                                                        \n",
       "405   TV,Internet,Wireless Internet,Air conditioning,Kitchen,Heating,Family/kid friendly,Washer,Dryer,First aid kit,Essentials,Shampoo                                                                                                                                                                                                                                             \n",
       "406   TV,Wireless Internet,Air conditioning,Kitchen,Free parking on premises,Elevator in building,Heating,Family/kid friendly,Washer,Dryer,Essentials,Hangers,Hair dryer,Iron                                                                                                                                                                                                      \n",
       "407   Internet,Wireless Internet,Kitchen,Smoking allowed,Pets allowed,Elevator in building,Buzzer/wireless intercom,Heating,Washer,Hangers,Iron,Laptop friendly workspace                                                                                                                                                                                                          \n",
       "639   TV,Internet,Wireless Internet,Kitchen,Breakfast,Elevator in building,Heating,Washer                                                                                                                                                                                                                                                                                          \n",
       "640   Internet,Wireless Internet,Kitchen,Smoking allowed,Elevator in building,Buzzer/wireless intercom,Washer,Fire extinguisher,Essentials,Shampoo,Lock on bedroom door,24-hour check-in,Hangers,Hair dryer,Iron,Laptop friendly workspace,translation missing: en.hosting_amenity_49,translation missing: en.hosting_amenity_50,Self Check-In,Smartlock                           \n",
       "641   Internet,Wireless Internet,Wheelchair accessible,Kitchen,Doorman,Elevator in building,Buzzer/wireless intercom,Heating,Essentials,24-hour check-in,Hangers,Hair dryer,Iron,Laptop friendly workspace,translation missing: en.hosting_amenity_49,translation missing: en.hosting_amenity_50                                                                                   \n",
       "643   TV,Internet,Wireless Internet,Kitchen,Smoking allowed,Heating,Family/kid friendly,Essentials,Lock on bedroom door,24-hour check-in,Hair dryer,Laptop friendly workspace                                                                                                                                                                                                      \n",
       "644   TV,Internet,Wireless Internet,Air conditioning,Kitchen,Elevator in building,Heating,Family/kid friendly,Washer,Essentials,Shampoo                                                                                                                                                                                                                                            \n",
       "645   Wireless Internet,Air conditioning,Pool,Kitchen,Doorman,Elevator in building,Heating,Suitable for events,Washer,Dryer,Essentials,Shampoo,Lock on bedroom door,24-hour check-in,Hangers,Hair dryer,Iron,Laptop friendly workspace,translation missing: en.hosting_amenity_49,translation missing: en.hosting_amenity_50                                                       \n",
       "646   TV,Wireless Internet,Air conditioning,Kitchen,Elevator in building,Heating,Washer,Dryer,Essentials,Shampoo,Hangers,Hair dryer,Iron,Laptop friendly workspace                                                                                                                                                                                                                 \n",
       "647   TV,Wireless Internet,Air conditioning,Pool,Kitchen,Breakfast,Elevator in building,Heating,Family/kid friendly,Washer,First aid kit,Essentials,Shampoo,Lock on bedroom door,Hangers,Iron,Laptop friendly workspace                                                                                                                                                            \n",
       "864   TV,Wireless Internet,Air conditioning,Kitchen,Doorman,Elevator in building,Family/kid friendly,Washer,Smoke detector,Carbon monoxide detector,Essentials,Shampoo,24-hour check-in,Hangers,Hair dryer,Iron,Laptop friendly workspace,Self Check-In,Doorman Entry                                                                                                              \n",
       "865   Wireless Internet,Kitchen,Elevator in building,Heating,Washer,Essentials,Hangers,Iron,Laptop friendly workspace,translation missing: en.hosting_amenity_49                                                                                                                                                                                                                   \n",
       "866   TV,Wireless Internet,Kitchen,Doorman,Elevator in building,Heating,Washer,Essentials,Shampoo,Hangers,Iron,Laptop friendly workspace,translation missing: en.hosting_amenity_49,translation missing: en.hosting_amenity_50                                                                                                                                                     \n",
       "867   TV,Internet,Wireless Internet,Air conditioning,Kitchen,Breakfast,Elevator in building,Buzzer/wireless intercom,Heating,Washer,Shampoo,translation missing: en.hosting_amenity_49,translation missing: en.hosting_amenity_50                                                                                                                                                  \n",
       "1306  TV,Cable TV,Internet,Wireless Internet,Air conditioning,Kitchen,Breakfast,Elevator in building,Heating,Washer,Fire extinguisher,Essentials,24-hour check-in,Hangers,Iron,Laptop friendly workspace,translation missing: en.hosting_amenity_49,translation missing: en.hosting_amenity_50                                                                                     \n",
       "1308  TV,Cable TV,Internet,Wireless Internet,Air conditioning,Wheelchair accessible,Kitchen,Doorman,Elevator in building,Buzzer/wireless intercom,Heating,Family/kid friendly,Washer,Essentials,Shampoo,Hangers,Hair dryer,Iron,Laptop friendly workspace                                                                                                                          \n",
       "1309  TV,Internet,Wireless Internet,Air conditioning,Kitchen,Pets allowed,Heating,Family/kid friendly,Washer,Essentials,Shampoo,Iron,Laptop friendly workspace                                                                                                                                                                                                                     \n",
       "1310  TV,Cable TV,Internet,Wireless Internet,Air conditioning,Kitchen,Pets allowed,Breakfast,Elevator in building,Heating,Family/kid friendly,Washer,Essentials,Shampoo,Hangers,Hair dryer,Iron,translation missing: en.hosting_amenity_49                                                                                                                                         \n",
       "1311  TV,Wireless Internet,Air conditioning,Kitchen,Smoking allowed,Pets allowed,Doorman,Elevator in building,Buzzer/wireless intercom,Heating,Family/kid friendly,Suitable for events,Washer,Essentials,Hangers,Iron,Laptop friendly workspace                                                                                                                                    \n",
       "1312  TV,Wireless Internet,Kitchen,Heating,Washer,First aid kit,Essentials,Shampoo,Hangers,Iron,Laptop friendly workspace,translation missing: en.hosting_amenity_49,translation missing: en.hosting_amenity_50                                                                                                                                                                    \n",
       "1313  TV,Internet,Wireless Internet,Air conditioning,Kitchen,Free parking on premises,Doorman,Elevator in building,Buzzer/wireless intercom,Heating,Family/kid friendly,Washer,Essentials,Shampoo,Hangers,Hair dryer,Iron,Laptop friendly workspace                                                                                                                                \n",
       "1772  Pets allowed,Family/kid friendly                                                                                                                                                                                                                                                                                                                                             \n",
       "1773  TV,Wireless Internet,Air conditioning,Kitchen,Smoking allowed,Pets allowed,Elevator in building,Family/kid friendly,Washer,Essentials,Shampoo,Hangers                                                                                                                                                                                                                        \n",
       "1774  Wireless Internet,Air conditioning,Kitchen,Smoking allowed,Doorman,Breakfast,Elevator in building,Buzzer/wireless intercom,Heating,First aid kit,Essentials,Shampoo,Hair dryer,Iron,Laptop friendly workspace,translation missing: en.hosting_amenity_49,translation missing: en.hosting_amenity_50                                                                          \n",
       "1775  TV,Kitchen,Buzzer/wireless intercom,Heating,Washer                                                                                                                                                                                                                                                                                                                           \n",
       "⋮     ⋮                                                                                                                                                                                                                                                                                                                                                                            \n",
       "11231 TV,Internet,Wireless Internet,Air conditioning,Kitchen,Elevator in building,Heating,Family/kid friendly,Washer,Smoke detector,Carbon monoxide detector,First aid kit,Safety card,Essentials,Shampoo,Hangers,Hair dryer,Iron,Laptop friendly workspace                                                                                                                        \n",
       "11233 TV,Wireless Internet,Kitchen,Smoking allowed,Doorman,Elevator in building,Buzzer/wireless intercom,Heating,Washer,First aid kit,Essentials,Shampoo,Lock on bedroom door,Hangers,Hair dryer,Iron,Laptop friendly workspace                                                                                                                                                    \n",
       "11500 TV,Cable TV,Internet,Wireless Internet,Air conditioning,Kitchen,Smoking allowed,Elevator in building,Buzzer/wireless intercom,Heating,Family/kid friendly,Washer,Dryer,Essentials,Shampoo,24-hour check-in,Hangers,Iron,Laptop friendly workspace,Private living room                                                                                                        \n",
       "11512 TV,Wireless Internet,Air conditioning,Kitchen,Breakfast,Elevator in building,Heating,Family/kid friendly,Washer,First aid kit,Essentials,Shampoo,Hangers,Hair dryer,Iron,Laptop friendly workspace                                                                                                                                                                           \n",
       "11514 TV,Cable TV,Internet,Wireless Internet,Wheelchair accessible,Kitchen,Doorman,Breakfast,Elevator in building,Buzzer/wireless intercom,Heating,Family/kid friendly,Washer,First aid kit,Fire extinguisher,Essentials,Shampoo,24-hour check-in,Hangers,Hair dryer,Iron,Laptop friendly workspace,translation missing: en.hosting_amenity_50                                     \n",
       "11515 TV,Cable TV,Internet,Wireless Internet,Kitchen,Smoking allowed,Breakfast,Pets live on this property,Dog(s),Buzzer/wireless intercom,Heating,Family/kid friendly,Washer,First aid kit,Essentials,Shampoo,Lock on bedroom door,24-hour check-in,Hangers,Hair dryer,Iron,translation missing: en.hosting_amenity_50                                                             \n",
       "11516 TV,Internet,Wireless Internet,Air conditioning,Kitchen,Free parking on premises,Smoking allowed,Pets allowed,Breakfast,Elevator in building,Heating,Family/kid friendly,Washer,Dryer,Essentials,Shampoo,Hangers,Hair dryer,Iron                                                                                                                                              \n",
       "11517 TV,Wireless Internet,Air conditioning,Free parking on premises,Heating,Family/kid friendly,Essentials,Shampoo,Hair dryer,Iron,translation missing: en.hosting_amenity_50                                                                                                                                                                                                     \n",
       "11518 Wireless Internet,Air conditioning,Kitchen,Smoking allowed,Pets allowed,Elevator in building,Heating,Family/kid friendly,Suitable for events,Washer,Dryer,Smoke detector,Essentials,Hangers,Iron,Laptop friendly workspace                                                                                                                                                   \n",
       "11519 TV,Wireless Internet,Air conditioning,Pool,Kitchen,Pets live on this property,Dog(s),Heating,Family/kid friendly,Washer,Essentials,Hangers,Iron,Laptop friendly workspace,translation missing: en.hosting_amenity_50                                                                                                                                                         \n",
       "11573 TV,Wireless Internet,Air conditioning,Breakfast,Elevator in building,Buzzer/wireless intercom,Heating,Family/kid friendly,First aid kit,Safety card,Essentials,Shampoo,24-hour check-in,Hangers,Hair dryer,Laptop friendly workspace,translation missing: en.hosting_amenity_49,translation missing: en.hosting_amenity_50                                                   \n",
       "11574 Internet,Wireless Internet,Air conditioning,Wheelchair accessible,Pets allowed,Pets live on this property,Dog(s),Elevator in building,Heating,Essentials,Shampoo,translation missing: en.hosting_amenity_50                                                                                                                                                                  \n",
       "11575 TV,Cable TV,Air conditioning,Kitchen,Smoking allowed,Pets allowed,Buzzer/wireless intercom,Heating,Washer                                                                                                                                                                                                                                                                    \n",
       "11576 TV,Cable TV,Internet,Wireless Internet,Kitchen,Doorman,Elevator in building,Heating,Washer,Dryer,translation missing: en.hosting_amenity_49,translation missing: en.hosting_amenity_50                                                                                                                                                                                       \n",
       "12101 Internet,Wireless Internet,Kitchen,Smoking allowed,Elevator in building,Buzzer/wireless intercom,Washer,Fire extinguisher,Essentials,Shampoo,Lock on bedroom door,24-hour check-in,Hangers,Hair dryer,Iron,translation missing: en.hosting_amenity_49,translation missing: en.hosting_amenity_50,Self Check-In,Smartlock                                                     \n",
       "12102 TV,Wireless Internet,Air conditioning,Kitchen,Breakfast,Elevator in building,Heating,Family/kid friendly,Washer,Essentials,Laptop friendly workspace,translation missing: en.hosting_amenity_50                                                                                                                                                                              \n",
       "12129 TV,Internet,Wireless Internet,Air conditioning,Kitchen,Elevator in building,Buzzer/wireless intercom,Heating,Washer,Dryer,Smoke detector,Carbon monoxide detector,First aid kit,Fire extinguisher,Essentials,Shampoo,24-hour check-in,Hangers,Hair dryer,Iron,Laptop friendly workspace,translation missing: en.hosting_amenity_49,translation missing: en.hosting_amenity_50\n",
       "12130 TV,Internet,Wireless Internet,Air conditioning,Wheelchair accessible,Kitchen,Pets allowed,Doorman,Breakfast,Elevator in building,Heating,Family/kid friendly,Washer,Essentials,Shampoo,Hangers,Iron,Laptop friendly workspace                                                                                                                                                \n",
       "12418 TV,Internet,Wireless Internet,Air conditioning,Pool,Kitchen,Smoking allowed,Breakfast,Pets live on this property,Elevator in building,Heating,Washer,Essentials,Shampoo,24-hour check-in,Hangers                                                                                                                                                                             \n",
       "12419 TV,Internet,Wireless Internet,Kitchen,Breakfast,Heating,Washer,Essentials,Shampoo                                                                                                                                                                                                                                                                                            \n",
       "12420 TV,Wireless Internet,Air conditioning,Kitchen,Pets allowed,Breakfast,Elevator in building,Heating,Family/kid friendly,Washer,Essentials,Shampoo,Lock on bedroom door,Hangers,Hair dryer,Iron,Laptop friendly workspace,translation missing: en.hosting_amenity_49                                                                                                            \n",
       "12441 Air conditioning,Kitchen,Doorman,Elevator in building,Buzzer/wireless intercom,Heating,Family/kid friendly,Washer,Dryer,Essentials,Hangers,Laptop friendly workspace                                                                                                                                                                                                         \n",
       "12442 TV,Wireless Internet,Air conditioning,Wheelchair accessible,Kitchen,Smoking allowed,Pets allowed,Elevator in building,Buzzer/wireless intercom,Heating,Family/kid friendly,Washer,Essentials,24-hour check-in,Hangers,Hair dryer,Iron,Laptop friendly workspace                                                                                                              \n",
       "13041 TV,Air conditioning,Wheelchair accessible,Kitchen,Doorman,Elevator in building,Buzzer/wireless intercom,Heating,Family/kid friendly,First aid kit,Essentials,Shampoo,Hangers,Hair dryer,Iron,Laptop friendly workspace                                                                                                                                                       \n",
       "13042 TV,Internet,Wireless Internet,Air conditioning,Kitchen,Smoking allowed,Gym,Heating,Family/kid friendly,Washer,Dryer,Fire extinguisher,Essentials,Shampoo,24-hour check-in,Hangers,Hair dryer,Iron                                                                                                                                                                            \n",
       "13043 TV,Internet,Air conditioning,Smoking allowed,Pets allowed,Doorman,Elevator in building,Heating,Family/kid friendly,Essentials,Shampoo,Hair dryer                                                                                                                                                                                                                             \n",
       "13120 TV,Internet,Wireless Internet,Air conditioning,Wheelchair accessible,Kitchen,Doorman,Elevator in building,Heating,Family/kid friendly,Washer,Essentials,Shampoo,Hair dryer,Iron                                                                                                                                                                                              \n",
       "13121 TV,Wireless Internet,Air conditioning,Kitchen,Doorman,Breakfast,Elevator in building,Buzzer/wireless intercom,Heating,Family/kid friendly,Washer,Dryer,Essentials,Hangers,Iron,Laptop friendly workspace                                                                                                                                                                     \n",
       "13123 TV,Wireless Internet,Kitchen,Elevator in building,Washer,Smoke detector,First aid kit,Essentials,Hangers,Laptop friendly workspace,translation missing: en.hosting_amenity_49                                                                                                                                                                                                \n",
       "13124 TV,Wireless Internet,Kitchen,Smoking allowed,Pets allowed,Buzzer/wireless intercom,Heating,Family/kid friendly,Washer,First aid kit,Safety card,Essentials,Shampoo,24-hour check-in,Hangers,Hair dryer,Iron,Laptop friendly workspace                                                                                                                                        \n",
       "      PiesCuadrados Precio Puntuacion\n",
       "365   NA             26     98       \n",
       "366   NA             82     94       \n",
       "368   NA             65     83       \n",
       "369   NA             69     84       \n",
       "405   NA             80     NA       \n",
       "406   NA            100     99       \n",
       "407   NA             25     NA       \n",
       "639   NA             30     96       \n",
       "640   NA             19     95       \n",
       "641   NA             30     85       \n",
       "643   NA             23     88       \n",
       "644   NA            125    100       \n",
       "645   NA             39    100       \n",
       "646   NA            105     NA       \n",
       "647   NA            110     95       \n",
       "864   NA             50     95       \n",
       "865   NA             23    100       \n",
       "866   NA             28    100       \n",
       "867   NA             35     80       \n",
       "1306  NA             35    100       \n",
       "1308  NA             74     99       \n",
       "1309  NA             70    100       \n",
       "1310  NA             65     96       \n",
       "1311  NA            120    100       \n",
       "1312  NA             37     NA       \n",
       "1313  NA            136     94       \n",
       "1772  NA             42     NA       \n",
       "1773  NA             40     NA       \n",
       "1774  NA             25    100       \n",
       "1775  NA             75     NA       \n",
       "⋮     ⋮             ⋮      ⋮         \n",
       "11231 NA            100    100       \n",
       "11233 NA             35     98       \n",
       "11500 NA             80     90       \n",
       "11512 NA             25     NA       \n",
       "11514 NA             25     96       \n",
       "11515 NA             35     96       \n",
       "11516 NA            150     NA       \n",
       "11517 NA             69     NA       \n",
       "11518 NA             19     80       \n",
       "11519 NA             45     60       \n",
       "11573 NA             35     98       \n",
       "11574 NA             29     91       \n",
       "11575 NA             55     NA       \n",
       "11576 NA             35    100       \n",
       "12101 NA             24     97       \n",
       "12102 NA             65     NA       \n",
       "12129 NA             78     97       \n",
       "12130 NA             65    100       \n",
       "12418 NA             35     91       \n",
       "12419 NA             20     94       \n",
       "12420 NA             70     NA       \n",
       "12441 NA            145    100       \n",
       "12442 NA             99     87       \n",
       "13041 NA             60     92       \n",
       "13042 NA            110    100       \n",
       "13043 NA            100     NA       \n",
       "13120 NA             65     88       \n",
       "13121 NA             70     96       \n",
       "13123 NA             15     NA       \n",
       "13124 NA             65     93       "
      ]
     },
     "metadata": {},
     "output_type": "display_data"
    }
   ],
   "source": [
    "airbnb[airbnb$CodigoPostal==28002,]"
   ]
  },
  {
   "cell_type": "code",
   "execution_count": 7,
   "metadata": {},
   "outputs": [],
   "source": [
    "airbnb$MetrosCuadrados<-airbnb$PiesCuadrados*0.092903"
   ]
  },
  {
   "cell_type": "markdown",
   "metadata": {},
   "source": [
    "Miremos el código postal. Es una variable con entradas erroneas.\n",
    "Hay valores como '', '-'  y '28' que deberían ser considerados como NA.\n",
    "Así mismo también debería ser NA todos los que no compiencen por 28, ya que estamos con códigos postales de Madrid\n",
    "\n",
    "El código postal 28002, 28004 y 28051 tienen entradas repetidas. \n",
    "Por ejemplo las entradas 28002\\n20882 deberían ir dnetro de 28002\n",
    "\n",
    "El codigo 2804 debería ser 28004, 2805 deberia ser 28005 y 2815 juncto con 2815 debería ser 28015\n",
    "\n",
    "Limpia los datos de la columna Codigo Postal"
   ]
  },
  {
   "cell_type": "code",
   "execution_count": 8,
   "metadata": {},
   "outputs": [],
   "source": [
    "airbnb$CodigoPostal[airbnb$CodigoPostal=='' | airbnb$CodigoPostal=='-' | airbnb$CodigoPostal=='28']<-NA\n",
    "airbnb$CodigoPostal[!grepl(\"^28\",airbnb$CodigoPostal)]<-NA\n",
    "\n",
    "airbnb$CodigoPostal[airbnb$CodigoPostal=='28002\\n28002']<-'28002'\n",
    "airbnb$CodigoPostal[airbnb$CodigoPostal=='28051\\n28051']<-'28051'\n",
    "airbnb$CodigoPostal[airbnb$CodigoPostal=='Madrid 28004']<-'28004'\n",
    "\n",
    "\n",
    "airbnb$CodigoPostal[airbnb$CodigoPostal=='2804']<-'28004'\n",
    "airbnb$CodigoPostal[airbnb$CodigoPostal=='2805']<-'28005'\n",
    "airbnb$CodigoPostal[airbnb$CodigoPostal=='2815']<-'28015'\n",
    "airbnb$CodigoPostal[airbnb$CodigoPostal=='2015']<-'28015'\n",
    "\n",
    "airbnb$CodigoPostal <- gsub('[^(28)]\\\\d{3}', NA, airbnb$CodigoPostal)\n",
    "\n",
    "airbnb$CodigoPostal<-factor(airbnb$CodigoPostal)"
   ]
  },
  {
   "cell_type": "markdown",
   "metadata": {},
   "source": [
    "Una vez limpios los datos ¿Cuales son los códigos postales que tenemos? "
   ]
  },
  {
   "cell_type": "code",
   "execution_count": 9,
   "metadata": {},
   "outputs": [
    {
     "data": {
      "text/html": [
       "<span style=white-space:pre-wrap>'Hay 62  codigos postales'</span>"
      ],
      "text/latex": [
       "'Hay 62  codigos postales'"
      ],
      "text/markdown": [
       "<span style=white-space:pre-wrap>'Hay 62  codigos postales'</span>"
      ],
      "text/plain": [
       "[1] \"Hay 62  codigos postales\""
      ]
     },
     "metadata": {},
     "output_type": "display_data"
    }
   ],
   "source": [
    "paste(\"Hay\",length(unique(airbnb$CodigoPostal)),\" codigos postales\")"
   ]
  },
  {
   "cell_type": "markdown",
   "metadata": {},
   "source": [
    "¿Cuales son los 5 códigos postales con más entradas? ¿Y con menos? ¿Cuantas entradas tienen?"
   ]
  },
  {
   "cell_type": "code",
   "execution_count": 10,
   "metadata": {},
   "outputs": [
    {
     "name": "stdout",
     "output_type": "stream",
     "text": [
      "[1] \"Los 5 códigos postales con más entradas son:\"\n"
     ]
    },
    {
     "data": {
      "text/plain": [
       "\n",
       "28012 28004 28005 28013 28014 \n",
       " 2060  1795  1195  1019   630 "
      ]
     },
     "metadata": {},
     "output_type": "display_data"
    },
    {
     "name": "stdout",
     "output_type": "stream",
     "text": [
      "[1] \"Los 5 códigos postales con más entradas son:\"\n"
     ]
    },
    {
     "data": {
      "text/plain": [
       "\n",
       "28048 28052 28056 28058 28060 \n",
       "    1     1     1     1     1 "
      ]
     },
     "metadata": {},
     "output_type": "display_data"
    }
   ],
   "source": [
    "print(\"Los 5 códigos postales con más entradas son:\")\n",
    "head(sort(table(airbnb$CodigoPostal),decreasing = T),5)\n",
    "\n",
    "print(\"Los 5 códigos postales con más entradas son:\")\n",
    "head(sort(table(airbnb$CodigoPostal),decreasing = F),5)"
   ]
  },
  {
   "cell_type": "markdown",
   "metadata": {},
   "source": [
    "¿Cuales son los barrios que hay en el código postal 28012?"
   ]
  },
  {
   "cell_type": "code",
   "execution_count": 11,
   "metadata": {},
   "outputs": [
    {
     "data": {
      "text/html": [
       "<style>\n",
       ".list-inline {list-style: none; margin:0; padding: 0}\n",
       ".list-inline>li {display: inline-block}\n",
       ".list-inline>li:not(:last-child)::after {content: \"\\00b7\"; padding: 0 .5ex}\n",
       "</style>\n",
       "<ol class=list-inline><li>Sol</li><li>Acacias</li><li>Palos de Moguer</li><li>Embajadores</li><li>Cortes</li><li>Palacio</li><li>Universidad</li><li>Delicias</li><li>Arapiles</li><li>Atocha</li><li>Goya</li></ol>\n",
       "\n",
       "<details>\n",
       "\t<summary style=display:list-item;cursor:pointer>\n",
       "\t\t<strong>Levels</strong>:\n",
       "\t</summary>\n",
       "\t<style>\n",
       "\t.list-inline {list-style: none; margin:0; padding: 0}\n",
       "\t.list-inline>li {display: inline-block}\n",
       "\t.list-inline>li:not(:last-child)::after {content: \"\\00b7\"; padding: 0 .5ex}\n",
       "\t</style>\n",
       "\t<ol class=list-inline><li>'Abrantes'</li><li>'Acacias'</li><li>'Adelfas'</li><li>'Aeropuerto'</li><li>'Aguilas'</li><li>'Alameda de Osuna'</li><li>'Almagro'</li><li>'Almenara'</li><li>'Almendrales'</li><li>'Aluche'</li><li>'Ambroz'</li><li>'Amposta'</li><li>'Apostol Santiago'</li><li>'Arapiles'</li><li>'Aravaca'</li><li>'Arcos'</li><li>'Argüelles'</li><li>'Atocha'</li><li>'Bellas Vistas'</li><li>'Berruguete'</li><li>'Buenavista'</li><li>'Butarque'</li><li>'Campamento'</li><li>'Canillas'</li><li>'Canillejas'</li><li>'Cármenes'</li><li>'Casa de Campo'</li><li>'Casco Histórico de Barajas'</li><li>'Casco Histórico de Vallecas'</li><li>'Casco Histórico de Vicálvaro'</li><li>'Castellana'</li><li>'Castilla'</li><li>'Castillejos'</li><li>'Chopera'</li><li>'Ciudad Jardín'</li><li>'Ciudad Universitaria'</li><li>'Colina'</li><li>'Comillas'</li><li>'Concepción'</li><li>'Corralejos'</li><li>'Cortes'</li><li>'Costillares'</li><li>'Cuatro Caminos'</li><li>'Cuatro Vientos'</li><li>'Delicias'</li><li>'El Goloso'</li><li>'El Plantío'</li><li>'El Viso'</li><li>'Embajadores'</li><li>'Entrevías'</li><li>'Estrella'</li><li>'Fontarrón'</li><li>'Fuente del Berro'</li><li>'Fuentelareina'</li><li>'Gaztambide'</li><li>'Goya'</li><li>'Guindalera'</li><li>'Hellín'</li><li>'Hispanoamérica'</li><li>'Ibiza'</li><li>'Imperial'</li><li>'Jerónimos'</li><li>'Justicia'</li><li>'La Paz'</li><li>'Legazpi'</li><li>'Lista'</li><li>'Los Angeles'</li><li>'Los Rosales'</li><li>'Lucero'</li><li>'Marroquina'</li><li>'Media Legua'</li><li>'Mirasierra'</li><li>'Moscardó'</li><li>'Niño Jesús'</li><li>'Nueva España'</li><li>'Numancia'</li><li>'Opañel'</li><li>'Orcasitas'</li><li>'Orcasur'</li><li>'Pacífico'</li><li>'Palacio'</li><li>'Palomas'</li><li>'Palomeras Bajas'</li><li>'Palomeras Sureste'</li><li>'Palos de Moguer'</li><li>'Pavones'</li><li>'Peñagrande'</li><li>'Pilar'</li><li>'Pinar del Rey'</li><li>'Piovera'</li><li>'Portazgo'</li><li>'Pradolongo'</li><li>'Prosperidad'</li><li>'Pueblo Nuevo'</li><li>'Puerta Bonita'</li><li>'Puerta del Angel'</li><li>'Quintana'</li><li>'Recoletos'</li><li>'Rejas'</li><li>'Rios Rosas'</li><li>'Rosas'</li><li>'Salvador'</li><li>'San Andrés'</li><li>'San Cristobal'</li><li>'San Diego'</li><li>'San Fermín'</li><li>'San Isidro'</li><li>'San Juan Bautista'</li><li>'San Pascual'</li><li>'Santa Eugenia'</li><li>'Simancas'</li><li>'Sol'</li><li>'Timón'</li><li>'Trafalgar'</li><li>'Universidad'</li><li>'Valdeacederas'</li><li>'Valdefuentes'</li><li>'Valdemarín'</li><li>'Valdezarza'</li><li>'Vallehermoso'</li><li>'Valverde'</li><li>'Ventas'</li><li>'Vinateros'</li><li>'Vista Alegre'</li><li>'Zofío'</li></ol>\n",
       "</details>"
      ],
      "text/latex": [
       "\\begin{enumerate*}\n",
       "\\item Sol\n",
       "\\item Acacias\n",
       "\\item Palos de Moguer\n",
       "\\item Embajadores\n",
       "\\item Cortes\n",
       "\\item Palacio\n",
       "\\item Universidad\n",
       "\\item Delicias\n",
       "\\item Arapiles\n",
       "\\item Atocha\n",
       "\\item Goya\n",
       "\\end{enumerate*}\n",
       "\n",
       "\\emph{Levels}: \\begin{enumerate*}\n",
       "\\item 'Abrantes'\n",
       "\\item 'Acacias'\n",
       "\\item 'Adelfas'\n",
       "\\item 'Aeropuerto'\n",
       "\\item 'Aguilas'\n",
       "\\item 'Alameda de Osuna'\n",
       "\\item 'Almagro'\n",
       "\\item 'Almenara'\n",
       "\\item 'Almendrales'\n",
       "\\item 'Aluche'\n",
       "\\item 'Ambroz'\n",
       "\\item 'Amposta'\n",
       "\\item 'Apostol Santiago'\n",
       "\\item 'Arapiles'\n",
       "\\item 'Aravaca'\n",
       "\\item 'Arcos'\n",
       "\\item 'Argüelles'\n",
       "\\item 'Atocha'\n",
       "\\item 'Bellas Vistas'\n",
       "\\item 'Berruguete'\n",
       "\\item 'Buenavista'\n",
       "\\item 'Butarque'\n",
       "\\item 'Campamento'\n",
       "\\item 'Canillas'\n",
       "\\item 'Canillejas'\n",
       "\\item 'Cármenes'\n",
       "\\item 'Casa de Campo'\n",
       "\\item 'Casco Histórico de Barajas'\n",
       "\\item 'Casco Histórico de Vallecas'\n",
       "\\item 'Casco Histórico de Vicálvaro'\n",
       "\\item 'Castellana'\n",
       "\\item 'Castilla'\n",
       "\\item 'Castillejos'\n",
       "\\item 'Chopera'\n",
       "\\item 'Ciudad Jardín'\n",
       "\\item 'Ciudad Universitaria'\n",
       "\\item 'Colina'\n",
       "\\item 'Comillas'\n",
       "\\item 'Concepción'\n",
       "\\item 'Corralejos'\n",
       "\\item 'Cortes'\n",
       "\\item 'Costillares'\n",
       "\\item 'Cuatro Caminos'\n",
       "\\item 'Cuatro Vientos'\n",
       "\\item 'Delicias'\n",
       "\\item 'El Goloso'\n",
       "\\item 'El Plantío'\n",
       "\\item 'El Viso'\n",
       "\\item 'Embajadores'\n",
       "\\item 'Entrevías'\n",
       "\\item 'Estrella'\n",
       "\\item 'Fontarrón'\n",
       "\\item 'Fuente del Berro'\n",
       "\\item 'Fuentelareina'\n",
       "\\item 'Gaztambide'\n",
       "\\item 'Goya'\n",
       "\\item 'Guindalera'\n",
       "\\item 'Hellín'\n",
       "\\item 'Hispanoamérica'\n",
       "\\item 'Ibiza'\n",
       "\\item 'Imperial'\n",
       "\\item 'Jerónimos'\n",
       "\\item 'Justicia'\n",
       "\\item 'La Paz'\n",
       "\\item 'Legazpi'\n",
       "\\item 'Lista'\n",
       "\\item 'Los Angeles'\n",
       "\\item 'Los Rosales'\n",
       "\\item 'Lucero'\n",
       "\\item 'Marroquina'\n",
       "\\item 'Media Legua'\n",
       "\\item 'Mirasierra'\n",
       "\\item 'Moscardó'\n",
       "\\item 'Niño Jesús'\n",
       "\\item 'Nueva España'\n",
       "\\item 'Numancia'\n",
       "\\item 'Opañel'\n",
       "\\item 'Orcasitas'\n",
       "\\item 'Orcasur'\n",
       "\\item 'Pacífico'\n",
       "\\item 'Palacio'\n",
       "\\item 'Palomas'\n",
       "\\item 'Palomeras Bajas'\n",
       "\\item 'Palomeras Sureste'\n",
       "\\item 'Palos de Moguer'\n",
       "\\item 'Pavones'\n",
       "\\item 'Peñagrande'\n",
       "\\item 'Pilar'\n",
       "\\item 'Pinar del Rey'\n",
       "\\item 'Piovera'\n",
       "\\item 'Portazgo'\n",
       "\\item 'Pradolongo'\n",
       "\\item 'Prosperidad'\n",
       "\\item 'Pueblo Nuevo'\n",
       "\\item 'Puerta Bonita'\n",
       "\\item 'Puerta del Angel'\n",
       "\\item 'Quintana'\n",
       "\\item 'Recoletos'\n",
       "\\item 'Rejas'\n",
       "\\item 'Rios Rosas'\n",
       "\\item 'Rosas'\n",
       "\\item 'Salvador'\n",
       "\\item 'San Andrés'\n",
       "\\item 'San Cristobal'\n",
       "\\item 'San Diego'\n",
       "\\item 'San Fermín'\n",
       "\\item 'San Isidro'\n",
       "\\item 'San Juan Bautista'\n",
       "\\item 'San Pascual'\n",
       "\\item 'Santa Eugenia'\n",
       "\\item 'Simancas'\n",
       "\\item 'Sol'\n",
       "\\item 'Timón'\n",
       "\\item 'Trafalgar'\n",
       "\\item 'Universidad'\n",
       "\\item 'Valdeacederas'\n",
       "\\item 'Valdefuentes'\n",
       "\\item 'Valdemarín'\n",
       "\\item 'Valdezarza'\n",
       "\\item 'Vallehermoso'\n",
       "\\item 'Valverde'\n",
       "\\item 'Ventas'\n",
       "\\item 'Vinateros'\n",
       "\\item 'Vista Alegre'\n",
       "\\item 'Zofío'\n",
       "\\end{enumerate*}\n"
      ],
      "text/markdown": [
       "1. Sol\n",
       "2. Acacias\n",
       "3. Palos de Moguer\n",
       "4. Embajadores\n",
       "5. Cortes\n",
       "6. Palacio\n",
       "7. Universidad\n",
       "8. Delicias\n",
       "9. Arapiles\n",
       "10. Atocha\n",
       "11. Goya\n",
       "\n",
       "\n",
       "\n",
       "**Levels**: 1. 'Abrantes'\n",
       "2. 'Acacias'\n",
       "3. 'Adelfas'\n",
       "4. 'Aeropuerto'\n",
       "5. 'Aguilas'\n",
       "6. 'Alameda de Osuna'\n",
       "7. 'Almagro'\n",
       "8. 'Almenara'\n",
       "9. 'Almendrales'\n",
       "10. 'Aluche'\n",
       "11. 'Ambroz'\n",
       "12. 'Amposta'\n",
       "13. 'Apostol Santiago'\n",
       "14. 'Arapiles'\n",
       "15. 'Aravaca'\n",
       "16. 'Arcos'\n",
       "17. 'Argüelles'\n",
       "18. 'Atocha'\n",
       "19. 'Bellas Vistas'\n",
       "20. 'Berruguete'\n",
       "21. 'Buenavista'\n",
       "22. 'Butarque'\n",
       "23. 'Campamento'\n",
       "24. 'Canillas'\n",
       "25. 'Canillejas'\n",
       "26. 'Cármenes'\n",
       "27. 'Casa de Campo'\n",
       "28. 'Casco Histórico de Barajas'\n",
       "29. 'Casco Histórico de Vallecas'\n",
       "30. 'Casco Histórico de Vicálvaro'\n",
       "31. 'Castellana'\n",
       "32. 'Castilla'\n",
       "33. 'Castillejos'\n",
       "34. 'Chopera'\n",
       "35. 'Ciudad Jardín'\n",
       "36. 'Ciudad Universitaria'\n",
       "37. 'Colina'\n",
       "38. 'Comillas'\n",
       "39. 'Concepción'\n",
       "40. 'Corralejos'\n",
       "41. 'Cortes'\n",
       "42. 'Costillares'\n",
       "43. 'Cuatro Caminos'\n",
       "44. 'Cuatro Vientos'\n",
       "45. 'Delicias'\n",
       "46. 'El Goloso'\n",
       "47. 'El Plantío'\n",
       "48. 'El Viso'\n",
       "49. 'Embajadores'\n",
       "50. 'Entrevías'\n",
       "51. 'Estrella'\n",
       "52. 'Fontarrón'\n",
       "53. 'Fuente del Berro'\n",
       "54. 'Fuentelareina'\n",
       "55. 'Gaztambide'\n",
       "56. 'Goya'\n",
       "57. 'Guindalera'\n",
       "58. 'Hellín'\n",
       "59. 'Hispanoamérica'\n",
       "60. 'Ibiza'\n",
       "61. 'Imperial'\n",
       "62. 'Jerónimos'\n",
       "63. 'Justicia'\n",
       "64. 'La Paz'\n",
       "65. 'Legazpi'\n",
       "66. 'Lista'\n",
       "67. 'Los Angeles'\n",
       "68. 'Los Rosales'\n",
       "69. 'Lucero'\n",
       "70. 'Marroquina'\n",
       "71. 'Media Legua'\n",
       "72. 'Mirasierra'\n",
       "73. 'Moscardó'\n",
       "74. 'Niño Jesús'\n",
       "75. 'Nueva España'\n",
       "76. 'Numancia'\n",
       "77. 'Opañel'\n",
       "78. 'Orcasitas'\n",
       "79. 'Orcasur'\n",
       "80. 'Pacífico'\n",
       "81. 'Palacio'\n",
       "82. 'Palomas'\n",
       "83. 'Palomeras Bajas'\n",
       "84. 'Palomeras Sureste'\n",
       "85. 'Palos de Moguer'\n",
       "86. 'Pavones'\n",
       "87. 'Peñagrande'\n",
       "88. 'Pilar'\n",
       "89. 'Pinar del Rey'\n",
       "90. 'Piovera'\n",
       "91. 'Portazgo'\n",
       "92. 'Pradolongo'\n",
       "93. 'Prosperidad'\n",
       "94. 'Pueblo Nuevo'\n",
       "95. 'Puerta Bonita'\n",
       "96. 'Puerta del Angel'\n",
       "97. 'Quintana'\n",
       "98. 'Recoletos'\n",
       "99. 'Rejas'\n",
       "100. 'Rios Rosas'\n",
       "101. 'Rosas'\n",
       "102. 'Salvador'\n",
       "103. 'San Andrés'\n",
       "104. 'San Cristobal'\n",
       "105. 'San Diego'\n",
       "106. 'San Fermín'\n",
       "107. 'San Isidro'\n",
       "108. 'San Juan Bautista'\n",
       "109. 'San Pascual'\n",
       "110. 'Santa Eugenia'\n",
       "111. 'Simancas'\n",
       "112. 'Sol'\n",
       "113. 'Timón'\n",
       "114. 'Trafalgar'\n",
       "115. 'Universidad'\n",
       "116. 'Valdeacederas'\n",
       "117. 'Valdefuentes'\n",
       "118. 'Valdemarín'\n",
       "119. 'Valdezarza'\n",
       "120. 'Vallehermoso'\n",
       "121. 'Valverde'\n",
       "122. 'Ventas'\n",
       "123. 'Vinateros'\n",
       "124. 'Vista Alegre'\n",
       "125. 'Zofío'\n",
       "\n",
       "\n"
      ],
      "text/plain": [
       " [1] Sol             Acacias         Palos de Moguer Embajadores    \n",
       " [5] Cortes          Palacio         Universidad     Delicias       \n",
       " [9] Arapiles        Atocha          Goya           \n",
       "125 Levels: Abrantes Acacias Adelfas Aeropuerto Aguilas ... Zofío"
      ]
     },
     "metadata": {},
     "output_type": "display_data"
    }
   ],
   "source": [
    "unique(airbnb[which(airbnb$CodigoPostal=='28012'),]$Barrio)"
   ]
  },
  {
   "cell_type": "markdown",
   "metadata": {},
   "source": [
    "¿Cuantas entradas hay en cada uno de esos barrios para el codigo postal 28012? "
   ]
  },
  {
   "cell_type": "code",
   "execution_count": 12,
   "metadata": {},
   "outputs": [
    {
     "data": {
      "text/plain": [
       "\n",
       "        Acacias        Arapiles          Atocha          Cortes        Delicias \n",
       "             13               1               1             216               1 \n",
       "    Embajadores            Goya         Palacio Palos de Moguer             Sol \n",
       "           1449               1              27              46             301 \n",
       "    Universidad \n",
       "              4 "
      ]
     },
     "metadata": {},
     "output_type": "display_data"
    }
   ],
   "source": [
    "airbnb_28012<-airbnb[which(airbnb$CodigoPostal=='28012'),]\n",
    "airbnb_28012$Barrio<-factor(airbnb_28012$Barrio)\n",
    "table(airbnb_28012$Barrio)\n"
   ]
  },
  {
   "cell_type": "markdown",
   "metadata": {},
   "source": [
    "¿Cuantos barrios hay en todo el dataset airbnb? ¿Cuales son?"
   ]
  },
  {
   "cell_type": "code",
   "execution_count": 13,
   "metadata": {},
   "outputs": [
    {
     "data": {
      "text/html": [
       "125"
      ],
      "text/latex": [
       "125"
      ],
      "text/markdown": [
       "125"
      ],
      "text/plain": [
       "[1] 125"
      ]
     },
     "metadata": {},
     "output_type": "display_data"
    },
    {
     "data": {
      "text/html": [
       "<style>\n",
       ".list-inline {list-style: none; margin:0; padding: 0}\n",
       ".list-inline>li {display: inline-block}\n",
       ".list-inline>li:not(:last-child)::after {content: \"\\00b7\"; padding: 0 .5ex}\n",
       "</style>\n",
       "<ol class=list-inline><li>'Abrantes'</li><li>'Acacias'</li><li>'Adelfas'</li><li>'Aeropuerto'</li><li>'Aguilas'</li><li>'Alameda de Osuna'</li><li>'Almagro'</li><li>'Almenara'</li><li>'Almendrales'</li><li>'Aluche'</li><li>'Ambroz'</li><li>'Amposta'</li><li>'Apostol Santiago'</li><li>'Arapiles'</li><li>'Aravaca'</li><li>'Arcos'</li><li>'Argüelles'</li><li>'Atocha'</li><li>'Bellas Vistas'</li><li>'Berruguete'</li><li>'Buenavista'</li><li>'Butarque'</li><li>'Campamento'</li><li>'Canillas'</li><li>'Canillejas'</li><li>'Cármenes'</li><li>'Casa de Campo'</li><li>'Casco Histórico de Barajas'</li><li>'Casco Histórico de Vallecas'</li><li>'Casco Histórico de Vicálvaro'</li><li>'Castellana'</li><li>'Castilla'</li><li>'Castillejos'</li><li>'Chopera'</li><li>'Ciudad Jardín'</li><li>'Ciudad Universitaria'</li><li>'Colina'</li><li>'Comillas'</li><li>'Concepción'</li><li>'Corralejos'</li><li>'Cortes'</li><li>'Costillares'</li><li>'Cuatro Caminos'</li><li>'Cuatro Vientos'</li><li>'Delicias'</li><li>'El Goloso'</li><li>'El Plantío'</li><li>'El Viso'</li><li>'Embajadores'</li><li>'Entrevías'</li><li>'Estrella'</li><li>'Fontarrón'</li><li>'Fuente del Berro'</li><li>'Fuentelareina'</li><li>'Gaztambide'</li><li>'Goya'</li><li>'Guindalera'</li><li>'Hellín'</li><li>'Hispanoamérica'</li><li>'Ibiza'</li><li>'Imperial'</li><li>'Jerónimos'</li><li>'Justicia'</li><li>'La Paz'</li><li>'Legazpi'</li><li>'Lista'</li><li>'Los Angeles'</li><li>'Los Rosales'</li><li>'Lucero'</li><li>'Marroquina'</li><li>'Media Legua'</li><li>'Mirasierra'</li><li>'Moscardó'</li><li>'Niño Jesús'</li><li>'Nueva España'</li><li>'Numancia'</li><li>'Opañel'</li><li>'Orcasitas'</li><li>'Orcasur'</li><li>'Pacífico'</li><li>'Palacio'</li><li>'Palomas'</li><li>'Palomeras Bajas'</li><li>'Palomeras Sureste'</li><li>'Palos de Moguer'</li><li>'Pavones'</li><li>'Peñagrande'</li><li>'Pilar'</li><li>'Pinar del Rey'</li><li>'Piovera'</li><li>'Portazgo'</li><li>'Pradolongo'</li><li>'Prosperidad'</li><li>'Pueblo Nuevo'</li><li>'Puerta Bonita'</li><li>'Puerta del Angel'</li><li>'Quintana'</li><li>'Recoletos'</li><li>'Rejas'</li><li>'Rios Rosas'</li><li>'Rosas'</li><li>'Salvador'</li><li>'San Andrés'</li><li>'San Cristobal'</li><li>'San Diego'</li><li>'San Fermín'</li><li>'San Isidro'</li><li>'San Juan Bautista'</li><li>'San Pascual'</li><li>'Santa Eugenia'</li><li>'Simancas'</li><li>'Sol'</li><li>'Timón'</li><li>'Trafalgar'</li><li>'Universidad'</li><li>'Valdeacederas'</li><li>'Valdefuentes'</li><li>'Valdemarín'</li><li>'Valdezarza'</li><li>'Vallehermoso'</li><li>'Valverde'</li><li>'Ventas'</li><li>'Vinateros'</li><li>'Vista Alegre'</li><li>'Zofío'</li></ol>\n"
      ],
      "text/latex": [
       "\\begin{enumerate*}\n",
       "\\item 'Abrantes'\n",
       "\\item 'Acacias'\n",
       "\\item 'Adelfas'\n",
       "\\item 'Aeropuerto'\n",
       "\\item 'Aguilas'\n",
       "\\item 'Alameda de Osuna'\n",
       "\\item 'Almagro'\n",
       "\\item 'Almenara'\n",
       "\\item 'Almendrales'\n",
       "\\item 'Aluche'\n",
       "\\item 'Ambroz'\n",
       "\\item 'Amposta'\n",
       "\\item 'Apostol Santiago'\n",
       "\\item 'Arapiles'\n",
       "\\item 'Aravaca'\n",
       "\\item 'Arcos'\n",
       "\\item 'Argüelles'\n",
       "\\item 'Atocha'\n",
       "\\item 'Bellas Vistas'\n",
       "\\item 'Berruguete'\n",
       "\\item 'Buenavista'\n",
       "\\item 'Butarque'\n",
       "\\item 'Campamento'\n",
       "\\item 'Canillas'\n",
       "\\item 'Canillejas'\n",
       "\\item 'Cármenes'\n",
       "\\item 'Casa de Campo'\n",
       "\\item 'Casco Histórico de Barajas'\n",
       "\\item 'Casco Histórico de Vallecas'\n",
       "\\item 'Casco Histórico de Vicálvaro'\n",
       "\\item 'Castellana'\n",
       "\\item 'Castilla'\n",
       "\\item 'Castillejos'\n",
       "\\item 'Chopera'\n",
       "\\item 'Ciudad Jardín'\n",
       "\\item 'Ciudad Universitaria'\n",
       "\\item 'Colina'\n",
       "\\item 'Comillas'\n",
       "\\item 'Concepción'\n",
       "\\item 'Corralejos'\n",
       "\\item 'Cortes'\n",
       "\\item 'Costillares'\n",
       "\\item 'Cuatro Caminos'\n",
       "\\item 'Cuatro Vientos'\n",
       "\\item 'Delicias'\n",
       "\\item 'El Goloso'\n",
       "\\item 'El Plantío'\n",
       "\\item 'El Viso'\n",
       "\\item 'Embajadores'\n",
       "\\item 'Entrevías'\n",
       "\\item 'Estrella'\n",
       "\\item 'Fontarrón'\n",
       "\\item 'Fuente del Berro'\n",
       "\\item 'Fuentelareina'\n",
       "\\item 'Gaztambide'\n",
       "\\item 'Goya'\n",
       "\\item 'Guindalera'\n",
       "\\item 'Hellín'\n",
       "\\item 'Hispanoamérica'\n",
       "\\item 'Ibiza'\n",
       "\\item 'Imperial'\n",
       "\\item 'Jerónimos'\n",
       "\\item 'Justicia'\n",
       "\\item 'La Paz'\n",
       "\\item 'Legazpi'\n",
       "\\item 'Lista'\n",
       "\\item 'Los Angeles'\n",
       "\\item 'Los Rosales'\n",
       "\\item 'Lucero'\n",
       "\\item 'Marroquina'\n",
       "\\item 'Media Legua'\n",
       "\\item 'Mirasierra'\n",
       "\\item 'Moscardó'\n",
       "\\item 'Niño Jesús'\n",
       "\\item 'Nueva España'\n",
       "\\item 'Numancia'\n",
       "\\item 'Opañel'\n",
       "\\item 'Orcasitas'\n",
       "\\item 'Orcasur'\n",
       "\\item 'Pacífico'\n",
       "\\item 'Palacio'\n",
       "\\item 'Palomas'\n",
       "\\item 'Palomeras Bajas'\n",
       "\\item 'Palomeras Sureste'\n",
       "\\item 'Palos de Moguer'\n",
       "\\item 'Pavones'\n",
       "\\item 'Peñagrande'\n",
       "\\item 'Pilar'\n",
       "\\item 'Pinar del Rey'\n",
       "\\item 'Piovera'\n",
       "\\item 'Portazgo'\n",
       "\\item 'Pradolongo'\n",
       "\\item 'Prosperidad'\n",
       "\\item 'Pueblo Nuevo'\n",
       "\\item 'Puerta Bonita'\n",
       "\\item 'Puerta del Angel'\n",
       "\\item 'Quintana'\n",
       "\\item 'Recoletos'\n",
       "\\item 'Rejas'\n",
       "\\item 'Rios Rosas'\n",
       "\\item 'Rosas'\n",
       "\\item 'Salvador'\n",
       "\\item 'San Andrés'\n",
       "\\item 'San Cristobal'\n",
       "\\item 'San Diego'\n",
       "\\item 'San Fermín'\n",
       "\\item 'San Isidro'\n",
       "\\item 'San Juan Bautista'\n",
       "\\item 'San Pascual'\n",
       "\\item 'Santa Eugenia'\n",
       "\\item 'Simancas'\n",
       "\\item 'Sol'\n",
       "\\item 'Timón'\n",
       "\\item 'Trafalgar'\n",
       "\\item 'Universidad'\n",
       "\\item 'Valdeacederas'\n",
       "\\item 'Valdefuentes'\n",
       "\\item 'Valdemarín'\n",
       "\\item 'Valdezarza'\n",
       "\\item 'Vallehermoso'\n",
       "\\item 'Valverde'\n",
       "\\item 'Ventas'\n",
       "\\item 'Vinateros'\n",
       "\\item 'Vista Alegre'\n",
       "\\item 'Zofío'\n",
       "\\end{enumerate*}\n"
      ],
      "text/markdown": [
       "1. 'Abrantes'\n",
       "2. 'Acacias'\n",
       "3. 'Adelfas'\n",
       "4. 'Aeropuerto'\n",
       "5. 'Aguilas'\n",
       "6. 'Alameda de Osuna'\n",
       "7. 'Almagro'\n",
       "8. 'Almenara'\n",
       "9. 'Almendrales'\n",
       "10. 'Aluche'\n",
       "11. 'Ambroz'\n",
       "12. 'Amposta'\n",
       "13. 'Apostol Santiago'\n",
       "14. 'Arapiles'\n",
       "15. 'Aravaca'\n",
       "16. 'Arcos'\n",
       "17. 'Argüelles'\n",
       "18. 'Atocha'\n",
       "19. 'Bellas Vistas'\n",
       "20. 'Berruguete'\n",
       "21. 'Buenavista'\n",
       "22. 'Butarque'\n",
       "23. 'Campamento'\n",
       "24. 'Canillas'\n",
       "25. 'Canillejas'\n",
       "26. 'Cármenes'\n",
       "27. 'Casa de Campo'\n",
       "28. 'Casco Histórico de Barajas'\n",
       "29. 'Casco Histórico de Vallecas'\n",
       "30. 'Casco Histórico de Vicálvaro'\n",
       "31. 'Castellana'\n",
       "32. 'Castilla'\n",
       "33. 'Castillejos'\n",
       "34. 'Chopera'\n",
       "35. 'Ciudad Jardín'\n",
       "36. 'Ciudad Universitaria'\n",
       "37. 'Colina'\n",
       "38. 'Comillas'\n",
       "39. 'Concepción'\n",
       "40. 'Corralejos'\n",
       "41. 'Cortes'\n",
       "42. 'Costillares'\n",
       "43. 'Cuatro Caminos'\n",
       "44. 'Cuatro Vientos'\n",
       "45. 'Delicias'\n",
       "46. 'El Goloso'\n",
       "47. 'El Plantío'\n",
       "48. 'El Viso'\n",
       "49. 'Embajadores'\n",
       "50. 'Entrevías'\n",
       "51. 'Estrella'\n",
       "52. 'Fontarrón'\n",
       "53. 'Fuente del Berro'\n",
       "54. 'Fuentelareina'\n",
       "55. 'Gaztambide'\n",
       "56. 'Goya'\n",
       "57. 'Guindalera'\n",
       "58. 'Hellín'\n",
       "59. 'Hispanoamérica'\n",
       "60. 'Ibiza'\n",
       "61. 'Imperial'\n",
       "62. 'Jerónimos'\n",
       "63. 'Justicia'\n",
       "64. 'La Paz'\n",
       "65. 'Legazpi'\n",
       "66. 'Lista'\n",
       "67. 'Los Angeles'\n",
       "68. 'Los Rosales'\n",
       "69. 'Lucero'\n",
       "70. 'Marroquina'\n",
       "71. 'Media Legua'\n",
       "72. 'Mirasierra'\n",
       "73. 'Moscardó'\n",
       "74. 'Niño Jesús'\n",
       "75. 'Nueva España'\n",
       "76. 'Numancia'\n",
       "77. 'Opañel'\n",
       "78. 'Orcasitas'\n",
       "79. 'Orcasur'\n",
       "80. 'Pacífico'\n",
       "81. 'Palacio'\n",
       "82. 'Palomas'\n",
       "83. 'Palomeras Bajas'\n",
       "84. 'Palomeras Sureste'\n",
       "85. 'Palos de Moguer'\n",
       "86. 'Pavones'\n",
       "87. 'Peñagrande'\n",
       "88. 'Pilar'\n",
       "89. 'Pinar del Rey'\n",
       "90. 'Piovera'\n",
       "91. 'Portazgo'\n",
       "92. 'Pradolongo'\n",
       "93. 'Prosperidad'\n",
       "94. 'Pueblo Nuevo'\n",
       "95. 'Puerta Bonita'\n",
       "96. 'Puerta del Angel'\n",
       "97. 'Quintana'\n",
       "98. 'Recoletos'\n",
       "99. 'Rejas'\n",
       "100. 'Rios Rosas'\n",
       "101. 'Rosas'\n",
       "102. 'Salvador'\n",
       "103. 'San Andrés'\n",
       "104. 'San Cristobal'\n",
       "105. 'San Diego'\n",
       "106. 'San Fermín'\n",
       "107. 'San Isidro'\n",
       "108. 'San Juan Bautista'\n",
       "109. 'San Pascual'\n",
       "110. 'Santa Eugenia'\n",
       "111. 'Simancas'\n",
       "112. 'Sol'\n",
       "113. 'Timón'\n",
       "114. 'Trafalgar'\n",
       "115. 'Universidad'\n",
       "116. 'Valdeacederas'\n",
       "117. 'Valdefuentes'\n",
       "118. 'Valdemarín'\n",
       "119. 'Valdezarza'\n",
       "120. 'Vallehermoso'\n",
       "121. 'Valverde'\n",
       "122. 'Ventas'\n",
       "123. 'Vinateros'\n",
       "124. 'Vista Alegre'\n",
       "125. 'Zofío'\n",
       "\n",
       "\n"
      ],
      "text/plain": [
       "  [1] \"Abrantes\"                     \"Acacias\"                     \n",
       "  [3] \"Adelfas\"                      \"Aeropuerto\"                  \n",
       "  [5] \"Aguilas\"                      \"Alameda de Osuna\"            \n",
       "  [7] \"Almagro\"                      \"Almenara\"                    \n",
       "  [9] \"Almendrales\"                  \"Aluche\"                      \n",
       " [11] \"Ambroz\"                       \"Amposta\"                     \n",
       " [13] \"Apostol Santiago\"             \"Arapiles\"                    \n",
       " [15] \"Aravaca\"                      \"Arcos\"                       \n",
       " [17] \"Argüelles\"                    \"Atocha\"                      \n",
       " [19] \"Bellas Vistas\"                \"Berruguete\"                  \n",
       " [21] \"Buenavista\"                   \"Butarque\"                    \n",
       " [23] \"Campamento\"                   \"Canillas\"                    \n",
       " [25] \"Canillejas\"                   \"Cármenes\"                    \n",
       " [27] \"Casa de Campo\"                \"Casco Histórico de Barajas\"  \n",
       " [29] \"Casco Histórico de Vallecas\"  \"Casco Histórico de Vicálvaro\"\n",
       " [31] \"Castellana\"                   \"Castilla\"                    \n",
       " [33] \"Castillejos\"                  \"Chopera\"                     \n",
       " [35] \"Ciudad Jardín\"                \"Ciudad Universitaria\"        \n",
       " [37] \"Colina\"                       \"Comillas\"                    \n",
       " [39] \"Concepción\"                   \"Corralejos\"                  \n",
       " [41] \"Cortes\"                       \"Costillares\"                 \n",
       " [43] \"Cuatro Caminos\"               \"Cuatro Vientos\"              \n",
       " [45] \"Delicias\"                     \"El Goloso\"                   \n",
       " [47] \"El Plantío\"                   \"El Viso\"                     \n",
       " [49] \"Embajadores\"                  \"Entrevías\"                   \n",
       " [51] \"Estrella\"                     \"Fontarrón\"                   \n",
       " [53] \"Fuente del Berro\"             \"Fuentelareina\"               \n",
       " [55] \"Gaztambide\"                   \"Goya\"                        \n",
       " [57] \"Guindalera\"                   \"Hellín\"                      \n",
       " [59] \"Hispanoamérica\"               \"Ibiza\"                       \n",
       " [61] \"Imperial\"                     \"Jerónimos\"                   \n",
       " [63] \"Justicia\"                     \"La Paz\"                      \n",
       " [65] \"Legazpi\"                      \"Lista\"                       \n",
       " [67] \"Los Angeles\"                  \"Los Rosales\"                 \n",
       " [69] \"Lucero\"                       \"Marroquina\"                  \n",
       " [71] \"Media Legua\"                  \"Mirasierra\"                  \n",
       " [73] \"Moscardó\"                     \"Niño Jesús\"                  \n",
       " [75] \"Nueva España\"                 \"Numancia\"                    \n",
       " [77] \"Opañel\"                       \"Orcasitas\"                   \n",
       " [79] \"Orcasur\"                      \"Pacífico\"                    \n",
       " [81] \"Palacio\"                      \"Palomas\"                     \n",
       " [83] \"Palomeras Bajas\"              \"Palomeras Sureste\"           \n",
       " [85] \"Palos de Moguer\"              \"Pavones\"                     \n",
       " [87] \"Peñagrande\"                   \"Pilar\"                       \n",
       " [89] \"Pinar del Rey\"                \"Piovera\"                     \n",
       " [91] \"Portazgo\"                     \"Pradolongo\"                  \n",
       " [93] \"Prosperidad\"                  \"Pueblo Nuevo\"                \n",
       " [95] \"Puerta Bonita\"                \"Puerta del Angel\"            \n",
       " [97] \"Quintana\"                     \"Recoletos\"                   \n",
       " [99] \"Rejas\"                        \"Rios Rosas\"                  \n",
       "[101] \"Rosas\"                        \"Salvador\"                    \n",
       "[103] \"San Andrés\"                   \"San Cristobal\"               \n",
       "[105] \"San Diego\"                    \"San Fermín\"                  \n",
       "[107] \"San Isidro\"                   \"San Juan Bautista\"           \n",
       "[109] \"San Pascual\"                  \"Santa Eugenia\"               \n",
       "[111] \"Simancas\"                     \"Sol\"                         \n",
       "[113] \"Timón\"                        \"Trafalgar\"                   \n",
       "[115] \"Universidad\"                  \"Valdeacederas\"               \n",
       "[117] \"Valdefuentes\"                 \"Valdemarín\"                  \n",
       "[119] \"Valdezarza\"                   \"Vallehermoso\"                \n",
       "[121] \"Valverde\"                     \"Ventas\"                      \n",
       "[123] \"Vinateros\"                    \"Vista Alegre\"                \n",
       "[125] \"Zofío\"                       "
      ]
     },
     "metadata": {},
     "output_type": "display_data"
    }
   ],
   "source": [
    "length(unique(airbnb$Barrio))\n",
    "levels(airbnb$Barrio)"
   ]
  },
  {
   "cell_type": "markdown",
   "metadata": {},
   "source": [
    "¿Cuales son los 5 barrios que tienen mayor número entradas?"
   ]
  },
  {
   "cell_type": "code",
   "execution_count": 14,
   "metadata": {},
   "outputs": [
    {
     "data": {
      "text/plain": [
       "\n",
       "Embajadores Universidad     Palacio         Sol    Justicia \n",
       "       1844        1358        1083         940         785 "
      ]
     },
     "metadata": {},
     "output_type": "display_data"
    }
   ],
   "source": [
    "head(sort(table(airbnb$Barrio),decreasing = T),5)"
   ]
  },
  {
   "cell_type": "markdown",
   "metadata": {},
   "source": [
    "¿Cuantos Tipos de Alquiler diferentes hay? ¿Cuales son? ¿Cuantas entradas en el dataframe hay por cada tipo?"
   ]
  },
  {
   "cell_type": "code",
   "execution_count": 15,
   "metadata": {},
   "outputs": [
    {
     "data": {
      "text/html": [
       "3"
      ],
      "text/latex": [
       "3"
      ],
      "text/markdown": [
       "3"
      ],
      "text/plain": [
       "[1] 3"
      ]
     },
     "metadata": {},
     "output_type": "display_data"
    },
    {
     "data": {
      "text/plain": [
       "\n",
       "Entire home/apt    Private room     Shared room \n",
       "           7903            5113             191 "
      ]
     },
     "metadata": {},
     "output_type": "display_data"
    }
   ],
   "source": [
    "length(unique(airbnb$TipoAlquiler))\n",
    "table(airbnb$TipoAlquiler)"
   ]
  },
  {
   "cell_type": "markdown",
   "metadata": {},
   "source": [
    "Muestra el diagrama de cajas del precio para cada uno de los diferentes Tipos de Alquiler"
   ]
  },
  {
   "cell_type": "code",
   "execution_count": 16,
   "metadata": {},
   "outputs": [
    {
     "name": "stderr",
     "output_type": "stream",
     "text": [
      "Warning message:\n",
      "“Removed 9 rows containing non-finite values (stat_boxplot).”\n"
     ]
    },
    {
     "data": {
      "image/png": "[encoded data removed]",
      "text/plain": [
       "plot without title"
      ]
     },
     "metadata": {
      "image/png": {
       "height": 240,
       "width": 360
      }
     },
     "output_type": "display_data"
    }
   ],
   "source": [
    "library(ggplot2)\n",
    "ggplot(airbnb,aes(y=Precio,x=TipoAlquiler,color=TipoAlquiler))+geom_boxplot()"
   ]
  },
  {
   "cell_type": "markdown",
   "metadata": {},
   "source": [
    "Cual es el precio medio de alquiler medio de cada uno, la diferencia que hay ¿es estadísticamente significativa?\n",
    "¿Con que test lo comprobarías?"
   ]
  },
  {
   "cell_type": "code",
   "execution_count": 17,
   "metadata": {},
   "outputs": [
    {
     "name": "stdout",
     "output_type": "stream",
     "text": [
      "[1] \"Precio medio tipo Entire home/apt  =  87.2966058763931\"\n",
      "[1] \" - Test shapiro pvalor =  1.24077898621874e-72\"\n",
      "[1] \"Precio medio tipo Private room  =  34.255135981217\"\n",
      "[1] \" - Test shapiro pvalor =  9.18974842339072e-85\"\n",
      "[1] \"Precio medio tipo Shared room  =  29.8534031413613\"\n",
      "[1] \" - Test shapiro pvalor =  4.51672121600842e-24\"\n"
     ]
    },
    {
     "data": {
      "text/html": [
       "'Las medias son estadísticamente diferentes ya que el pvalor es muy bajo. pvalor= 0'"
      ],
      "text/latex": [
       "'Las medias son estadísticamente diferentes ya que el pvalor es muy bajo. pvalor= 0'"
      ],
      "text/markdown": [
       "'Las medias son estadísticamente diferentes ya que el pvalor es muy bajo. pvalor= 0'"
      ],
      "text/plain": [
       "[1] \"Las medias son estadísticamente diferentes ya que el pvalor es muy bajo. pvalor= 0\""
      ]
     },
     "metadata": {},
     "output_type": "display_data"
    }
   ],
   "source": [
    "for (tipo in levels(airbnb$TipoAlquiler)){\n",
    "    df<-subset(airbnb,TipoAlquiler==tipo)\n",
    "    print(paste(\"Precio medio tipo\",tipo,\" = \",mean(df$Precio,na.rm=T)))\n",
    "    if (nrow(df)>5000){\n",
    "        df<-df[1:5000,]\n",
    "    }\n",
    "    sp<-shapiro.test(df$Precio)\n",
    "    print(paste(\" - Test shapiro pvalor = \",sp$p.value))\n",
    "}\n",
    "\n",
    "#Como no sigue una gaussiana realizamos un test de kruskal\n",
    "kt<-kruskal.test(Precio~TipoAlquiler,airbnb)\n",
    "\n",
    "paste(\"Las medias son estadísticamente diferentes ya que el pvalor es muy bajo. pvalor=\",kt$p.value)"
   ]
  },
  {
   "cell_type": "markdown",
   "metadata": {},
   "source": [
    "Filtra el dataframe cuyos tipo de alquiler sea  'Entire home/apt' y guardalo en un dataframe llamado \n",
    "*airbnb_entire*.\n",
    "Estas serán las entradas que tienen un alquiler del piso completo."
   ]
  },
  {
   "cell_type": "code",
   "execution_count": 18,
   "metadata": {},
   "outputs": [],
   "source": [
    "airbnb_entire<-subset(airbnb,TipoAlquiler=='Entire home/apt')"
   ]
  },
  {
   "cell_type": "markdown",
   "metadata": {},
   "source": [
    "¿Cuales son los 5 barrios que tienen un mayor número de apartamentos enteros en alquiler?\n",
    "Nota: Mirar solo en airbnb_entire"
   ]
  },
  {
   "cell_type": "code",
   "execution_count": 19,
   "metadata": {},
   "outputs": [
    {
     "data": {
      "text/plain": [
       "\n",
       "Embajadores Universidad     Palacio         Sol      Cortes \n",
       "       1228         984         769         701         574 "
      ]
     },
     "metadata": {},
     "output_type": "display_data"
    }
   ],
   "source": [
    "head(sort(table(airbnb_entire$Barrio),decreasing = T),5)"
   ]
  },
  {
   "cell_type": "markdown",
   "metadata": {},
   "source": [
    "¿Cuales son los 5 barrios que tienen un mayor precio medio de alquiler para apartamentos enteros?\n",
    "\n",
    "¿Cual es su precio medio?\n",
    "Ayuda: Usa la función aggregate"
   ]
  },
  {
   "cell_type": "code",
   "execution_count": 20,
   "metadata": {},
   "outputs": [
    {
     "data": {
      "text/html": [
       "<table class=\"dataframe\">\n",
       "<caption>A data.frame: 119 × 2</caption>\n",
       "<thead>\n",
       "\t<tr><th scope=col>Barrio</th><th scope=col>Precio</th></tr>\n",
       "\t<tr><th scope=col>&lt;fct&gt;</th><th scope=col>&lt;dbl&gt;</th></tr>\n",
       "</thead>\n",
       "<tbody>\n",
       "\t<tr><td>Abrantes                    </td><td> 46.00000</td></tr>\n",
       "\t<tr><td>Acacias                     </td><td> 68.16393</td></tr>\n",
       "\t<tr><td>Adelfas                     </td><td> 68.72727</td></tr>\n",
       "\t<tr><td>Aeropuerto                  </td><td> 38.00000</td></tr>\n",
       "\t<tr><td>Aguilas                     </td><td> 54.50000</td></tr>\n",
       "\t<tr><td>Alameda de Osuna            </td><td>138.75000</td></tr>\n",
       "\t<tr><td>Almagro                     </td><td>109.18557</td></tr>\n",
       "\t<tr><td>Almenara                    </td><td> 65.68000</td></tr>\n",
       "\t<tr><td>Almendrales                 </td><td> 77.50000</td></tr>\n",
       "\t<tr><td>Aluche                      </td><td> 55.88889</td></tr>\n",
       "\t<tr><td>Ambroz                      </td><td> 34.50000</td></tr>\n",
       "\t<tr><td>Apostol Santiago            </td><td> 96.60000</td></tr>\n",
       "\t<tr><td>Arapiles                    </td><td> 69.62245</td></tr>\n",
       "\t<tr><td>Aravaca                     </td><td> 66.33333</td></tr>\n",
       "\t<tr><td>Arcos                       </td><td>100.50000</td></tr>\n",
       "\t<tr><td>Argüelles                   </td><td> 89.57343</td></tr>\n",
       "\t<tr><td>Atocha                      </td><td> 71.44444</td></tr>\n",
       "\t<tr><td>Bellas Vistas               </td><td> 51.77778</td></tr>\n",
       "\t<tr><td>Berruguete                  </td><td> 53.85714</td></tr>\n",
       "\t<tr><td>Buenavista                  </td><td> 57.91667</td></tr>\n",
       "\t<tr><td>Butarque                    </td><td> 42.00000</td></tr>\n",
       "\t<tr><td>Campamento                  </td><td> 45.55556</td></tr>\n",
       "\t<tr><td>Canillas                    </td><td>105.80000</td></tr>\n",
       "\t<tr><td>Canillejas                  </td><td> 91.66667</td></tr>\n",
       "\t<tr><td>Cármenes                    </td><td> 78.00000</td></tr>\n",
       "\t<tr><td>Casa de Campo               </td><td> 98.85366</td></tr>\n",
       "\t<tr><td>Casco Histórico de Barajas  </td><td>141.25000</td></tr>\n",
       "\t<tr><td>Casco Histórico de Vallecas </td><td> 61.11111</td></tr>\n",
       "\t<tr><td>Casco Histórico de Vicálvaro</td><td> 73.87500</td></tr>\n",
       "\t<tr><td>Castellana                  </td><td>141.38889</td></tr>\n",
       "\t<tr><td>⋮</td><td>⋮</td></tr>\n",
       "\t<tr><td>Puerta Bonita    </td><td> 88.00000</td></tr>\n",
       "\t<tr><td>Puerta del Angel </td><td> 59.67532</td></tr>\n",
       "\t<tr><td>Quintana         </td><td> 65.00000</td></tr>\n",
       "\t<tr><td>Recoletos        </td><td>161.92537</td></tr>\n",
       "\t<tr><td>Rejas            </td><td> 64.18182</td></tr>\n",
       "\t<tr><td>Rios Rosas       </td><td> 83.00000</td></tr>\n",
       "\t<tr><td>Salvador         </td><td> 66.40000</td></tr>\n",
       "\t<tr><td>San Andrés       </td><td> 50.91667</td></tr>\n",
       "\t<tr><td>San Cristobal    </td><td> 56.50000</td></tr>\n",
       "\t<tr><td>San Diego        </td><td> 44.34375</td></tr>\n",
       "\t<tr><td>San Fermín       </td><td> 63.50000</td></tr>\n",
       "\t<tr><td>San Isidro       </td><td> 76.10256</td></tr>\n",
       "\t<tr><td>San Juan Bautista</td><td> 75.53846</td></tr>\n",
       "\t<tr><td>San Pascual      </td><td> 72.42857</td></tr>\n",
       "\t<tr><td>Santa Eugenia    </td><td> 47.00000</td></tr>\n",
       "\t<tr><td>Simancas         </td><td> 57.14286</td></tr>\n",
       "\t<tr><td>Sol              </td><td>100.75036</td></tr>\n",
       "\t<tr><td>Timón            </td><td> 72.20000</td></tr>\n",
       "\t<tr><td>Trafalgar        </td><td> 98.57848</td></tr>\n",
       "\t<tr><td>Universidad      </td><td> 79.39674</td></tr>\n",
       "\t<tr><td>Valdeacederas    </td><td> 67.36000</td></tr>\n",
       "\t<tr><td>Valdefuentes     </td><td> 84.25000</td></tr>\n",
       "\t<tr><td>Valdemarín       </td><td> 70.50000</td></tr>\n",
       "\t<tr><td>Valdezarza       </td><td> 53.33333</td></tr>\n",
       "\t<tr><td>Vallehermoso     </td><td> 92.39394</td></tr>\n",
       "\t<tr><td>Valverde         </td><td> 71.57895</td></tr>\n",
       "\t<tr><td>Ventas           </td><td> 50.03846</td></tr>\n",
       "\t<tr><td>Vinateros        </td><td>102.50000</td></tr>\n",
       "\t<tr><td>Vista Alegre     </td><td> 59.45455</td></tr>\n",
       "\t<tr><td>Zofío            </td><td> 48.00000</td></tr>\n",
       "</tbody>\n",
       "</table>\n"
      ],
      "text/latex": [
       "A data.frame: 119 × 2\n",
       "\\begin{tabular}{ll}\n",
       " Barrio & Precio\\\\\n",
       " <fct> & <dbl>\\\\\n",
       "\\hline\n",
       "\t Abrantes                     &  46.00000\\\\\n",
       "\t Acacias                      &  68.16393\\\\\n",
       "\t Adelfas                      &  68.72727\\\\\n",
       "\t Aeropuerto                   &  38.00000\\\\\n",
       "\t Aguilas                      &  54.50000\\\\\n",
       "\t Alameda de Osuna             & 138.75000\\\\\n",
       "\t Almagro                      & 109.18557\\\\\n",
       "\t Almenara                     &  65.68000\\\\\n",
       "\t Almendrales                  &  77.50000\\\\\n",
       "\t Aluche                       &  55.88889\\\\\n",
       "\t Ambroz                       &  34.50000\\\\\n",
       "\t Apostol Santiago             &  96.60000\\\\\n",
       "\t Arapiles                     &  69.62245\\\\\n",
       "\t Aravaca                      &  66.33333\\\\\n",
       "\t Arcos                        & 100.50000\\\\\n",
       "\t Argüelles                    &  89.57343\\\\\n",
       "\t Atocha                       &  71.44444\\\\\n",
       "\t Bellas Vistas                &  51.77778\\\\\n",
       "\t Berruguete                   &  53.85714\\\\\n",
       "\t Buenavista                   &  57.91667\\\\\n",
       "\t Butarque                     &  42.00000\\\\\n",
       "\t Campamento                   &  45.55556\\\\\n",
       "\t Canillas                     & 105.80000\\\\\n",
       "\t Canillejas                   &  91.66667\\\\\n",
       "\t Cármenes                     &  78.00000\\\\\n",
       "\t Casa de Campo                &  98.85366\\\\\n",
       "\t Casco Histórico de Barajas   & 141.25000\\\\\n",
       "\t Casco Histórico de Vallecas  &  61.11111\\\\\n",
       "\t Casco Histórico de Vicálvaro &  73.87500\\\\\n",
       "\t Castellana                   & 141.38889\\\\\n",
       "\t ⋮ & ⋮\\\\\n",
       "\t Puerta Bonita     &  88.00000\\\\\n",
       "\t Puerta del Angel  &  59.67532\\\\\n",
       "\t Quintana          &  65.00000\\\\\n",
       "\t Recoletos         & 161.92537\\\\\n",
       "\t Rejas             &  64.18182\\\\\n",
       "\t Rios Rosas        &  83.00000\\\\\n",
       "\t Salvador          &  66.40000\\\\\n",
       "\t San Andrés        &  50.91667\\\\\n",
       "\t San Cristobal     &  56.50000\\\\\n",
       "\t San Diego         &  44.34375\\\\\n",
       "\t San Fermín        &  63.50000\\\\\n",
       "\t San Isidro        &  76.10256\\\\\n",
       "\t San Juan Bautista &  75.53846\\\\\n",
       "\t San Pascual       &  72.42857\\\\\n",
       "\t Santa Eugenia     &  47.00000\\\\\n",
       "\t Simancas          &  57.14286\\\\\n",
       "\t Sol               & 100.75036\\\\\n",
       "\t Timón             &  72.20000\\\\\n",
       "\t Trafalgar         &  98.57848\\\\\n",
       "\t Universidad       &  79.39674\\\\\n",
       "\t Valdeacederas     &  67.36000\\\\\n",
       "\t Valdefuentes      &  84.25000\\\\\n",
       "\t Valdemarín        &  70.50000\\\\\n",
       "\t Valdezarza        &  53.33333\\\\\n",
       "\t Vallehermoso      &  92.39394\\\\\n",
       "\t Valverde          &  71.57895\\\\\n",
       "\t Ventas            &  50.03846\\\\\n",
       "\t Vinateros         & 102.50000\\\\\n",
       "\t Vista Alegre      &  59.45455\\\\\n",
       "\t Zofío             &  48.00000\\\\\n",
       "\\end{tabular}\n"
      ],
      "text/markdown": [
       "\n",
       "A data.frame: 119 × 2\n",
       "\n",
       "| Barrio &lt;fct&gt; | Precio &lt;dbl&gt; |\n",
       "|---|---|\n",
       "| Abrantes                     |  46.00000 |\n",
       "| Acacias                      |  68.16393 |\n",
       "| Adelfas                      |  68.72727 |\n",
       "| Aeropuerto                   |  38.00000 |\n",
       "| Aguilas                      |  54.50000 |\n",
       "| Alameda de Osuna             | 138.75000 |\n",
       "| Almagro                      | 109.18557 |\n",
       "| Almenara                     |  65.68000 |\n",
       "| Almendrales                  |  77.50000 |\n",
       "| Aluche                       |  55.88889 |\n",
       "| Ambroz                       |  34.50000 |\n",
       "| Apostol Santiago             |  96.60000 |\n",
       "| Arapiles                     |  69.62245 |\n",
       "| Aravaca                      |  66.33333 |\n",
       "| Arcos                        | 100.50000 |\n",
       "| Argüelles                    |  89.57343 |\n",
       "| Atocha                       |  71.44444 |\n",
       "| Bellas Vistas                |  51.77778 |\n",
       "| Berruguete                   |  53.85714 |\n",
       "| Buenavista                   |  57.91667 |\n",
       "| Butarque                     |  42.00000 |\n",
       "| Campamento                   |  45.55556 |\n",
       "| Canillas                     | 105.80000 |\n",
       "| Canillejas                   |  91.66667 |\n",
       "| Cármenes                     |  78.00000 |\n",
       "| Casa de Campo                |  98.85366 |\n",
       "| Casco Histórico de Barajas   | 141.25000 |\n",
       "| Casco Histórico de Vallecas  |  61.11111 |\n",
       "| Casco Histórico de Vicálvaro |  73.87500 |\n",
       "| Castellana                   | 141.38889 |\n",
       "| ⋮ | ⋮ |\n",
       "| Puerta Bonita     |  88.00000 |\n",
       "| Puerta del Angel  |  59.67532 |\n",
       "| Quintana          |  65.00000 |\n",
       "| Recoletos         | 161.92537 |\n",
       "| Rejas             |  64.18182 |\n",
       "| Rios Rosas        |  83.00000 |\n",
       "| Salvador          |  66.40000 |\n",
       "| San Andrés        |  50.91667 |\n",
       "| San Cristobal     |  56.50000 |\n",
       "| San Diego         |  44.34375 |\n",
       "| San Fermín        |  63.50000 |\n",
       "| San Isidro        |  76.10256 |\n",
       "| San Juan Bautista |  75.53846 |\n",
       "| San Pascual       |  72.42857 |\n",
       "| Santa Eugenia     |  47.00000 |\n",
       "| Simancas          |  57.14286 |\n",
       "| Sol               | 100.75036 |\n",
       "| Timón             |  72.20000 |\n",
       "| Trafalgar         |  98.57848 |\n",
       "| Universidad       |  79.39674 |\n",
       "| Valdeacederas     |  67.36000 |\n",
       "| Valdefuentes      |  84.25000 |\n",
       "| Valdemarín        |  70.50000 |\n",
       "| Valdezarza        |  53.33333 |\n",
       "| Vallehermoso      |  92.39394 |\n",
       "| Valverde          |  71.57895 |\n",
       "| Ventas            |  50.03846 |\n",
       "| Vinateros         | 102.50000 |\n",
       "| Vista Alegre      |  59.45455 |\n",
       "| Zofío             |  48.00000 |\n",
       "\n"
      ],
      "text/plain": [
       "    Barrio                       Precio   \n",
       "1   Abrantes                      46.00000\n",
       "2   Acacias                       68.16393\n",
       "3   Adelfas                       68.72727\n",
       "4   Aeropuerto                    38.00000\n",
       "5   Aguilas                       54.50000\n",
       "6   Alameda de Osuna             138.75000\n",
       "7   Almagro                      109.18557\n",
       "8   Almenara                      65.68000\n",
       "9   Almendrales                   77.50000\n",
       "10  Aluche                        55.88889\n",
       "11  Ambroz                        34.50000\n",
       "12  Apostol Santiago              96.60000\n",
       "13  Arapiles                      69.62245\n",
       "14  Aravaca                       66.33333\n",
       "15  Arcos                        100.50000\n",
       "16  Argüelles                     89.57343\n",
       "17  Atocha                        71.44444\n",
       "18  Bellas Vistas                 51.77778\n",
       "19  Berruguete                    53.85714\n",
       "20  Buenavista                    57.91667\n",
       "21  Butarque                      42.00000\n",
       "22  Campamento                    45.55556\n",
       "23  Canillas                     105.80000\n",
       "24  Canillejas                    91.66667\n",
       "25  Cármenes                      78.00000\n",
       "26  Casa de Campo                 98.85366\n",
       "27  Casco Histórico de Barajas   141.25000\n",
       "28  Casco Histórico de Vallecas   61.11111\n",
       "29  Casco Histórico de Vicálvaro  73.87500\n",
       "30  Castellana                   141.38889\n",
       "⋮   ⋮                            ⋮        \n",
       "90  Puerta Bonita                 88.00000\n",
       "91  Puerta del Angel              59.67532\n",
       "92  Quintana                      65.00000\n",
       "93  Recoletos                    161.92537\n",
       "94  Rejas                         64.18182\n",
       "95  Rios Rosas                    83.00000\n",
       "96  Salvador                      66.40000\n",
       "97  San Andrés                    50.91667\n",
       "98  San Cristobal                 56.50000\n",
       "99  San Diego                     44.34375\n",
       "100 San Fermín                    63.50000\n",
       "101 San Isidro                    76.10256\n",
       "102 San Juan Bautista             75.53846\n",
       "103 San Pascual                   72.42857\n",
       "104 Santa Eugenia                 47.00000\n",
       "105 Simancas                      57.14286\n",
       "106 Sol                          100.75036\n",
       "107 Timón                         72.20000\n",
       "108 Trafalgar                     98.57848\n",
       "109 Universidad                   79.39674\n",
       "110 Valdeacederas                 67.36000\n",
       "111 Valdefuentes                  84.25000\n",
       "112 Valdemarín                    70.50000\n",
       "113 Valdezarza                    53.33333\n",
       "114 Vallehermoso                  92.39394\n",
       "115 Valverde                      71.57895\n",
       "116 Ventas                        50.03846\n",
       "117 Vinateros                    102.50000\n",
       "118 Vista Alegre                  59.45455\n",
       "119 Zofío                         48.00000"
      ]
     },
     "metadata": {},
     "output_type": "display_data"
    }
   ],
   "source": [
    "mean_price<-aggregate(. ~ Barrio, airbnb_entire[,c(\"Precio\",\"Barrio\")], mean,na.rm=FALSE)\n",
    "mean_price<-aggregate(Precio ~ Barrio, airbnb_entire, mean,na.rm=TRUE)\n",
    "mean_price"
   ]
  },
  {
   "cell_type": "code",
   "execution_count": 21,
   "metadata": {},
   "outputs": [
    {
     "data": {
      "text/html": [
       "<style>\n",
       ".list-inline {list-style: none; margin:0; padding: 0}\n",
       ".list-inline>li {display: inline-block}\n",
       ".list-inline>li:not(:last-child)::after {content: \"\\00b7\"; padding: 0 .5ex}\n",
       "</style>\n",
       "<ol class=list-inline><li>119</li><li>2</li></ol>\n"
      ],
      "text/latex": [
       "\\begin{enumerate*}\n",
       "\\item 119\n",
       "\\item 2\n",
       "\\end{enumerate*}\n"
      ],
      "text/markdown": [
       "1. 119\n",
       "2. 2\n",
       "\n",
       "\n"
      ],
      "text/plain": [
       "[1] 119   2"
      ]
     },
     "metadata": {},
     "output_type": "display_data"
    },
    {
     "data": {
      "text/html": [
       "<table class=\"dataframe\">\n",
       "<caption>A data.frame: 5 × 2</caption>\n",
       "<thead>\n",
       "\t<tr><th></th><th scope=col>Barrio</th><th scope=col>Precio</th></tr>\n",
       "\t<tr><th></th><th scope=col>&lt;fct&gt;</th><th scope=col>&lt;dbl&gt;</th></tr>\n",
       "</thead>\n",
       "<tbody>\n",
       "\t<tr><th scope=row>77</th><td>Palomas      </td><td>309.7500</td></tr>\n",
       "\t<tr><th scope=row>50</th><td>Fuentelareina</td><td>180.0000</td></tr>\n",
       "\t<tr><th scope=row>93</th><td>Recoletos    </td><td>161.9254</td></tr>\n",
       "\t<tr><th scope=row>43</th><td>El Plantío   </td><td>150.0000</td></tr>\n",
       "\t<tr><th scope=row>30</th><td>Castellana   </td><td>141.3889</td></tr>\n",
       "</tbody>\n",
       "</table>\n"
      ],
      "text/latex": [
       "A data.frame: 5 × 2\n",
       "\\begin{tabular}{r|ll}\n",
       "  & Barrio & Precio\\\\\n",
       "  & <fct> & <dbl>\\\\\n",
       "\\hline\n",
       "\t77 & Palomas       & 309.7500\\\\\n",
       "\t50 & Fuentelareina & 180.0000\\\\\n",
       "\t93 & Recoletos     & 161.9254\\\\\n",
       "\t43 & El Plantío    & 150.0000\\\\\n",
       "\t30 & Castellana    & 141.3889\\\\\n",
       "\\end{tabular}\n"
      ],
      "text/markdown": [
       "\n",
       "A data.frame: 5 × 2\n",
       "\n",
       "| <!--/--> | Barrio &lt;fct&gt; | Precio &lt;dbl&gt; |\n",
       "|---|---|---|\n",
       "| 77 | Palomas       | 309.7500 |\n",
       "| 50 | Fuentelareina | 180.0000 |\n",
       "| 93 | Recoletos     | 161.9254 |\n",
       "| 43 | El Plantío    | 150.0000 |\n",
       "| 30 | Castellana    | 141.3889 |\n",
       "\n"
      ],
      "text/plain": [
       "   Barrio        Precio  \n",
       "77 Palomas       309.7500\n",
       "50 Fuentelareina 180.0000\n",
       "93 Recoletos     161.9254\n",
       "43 El Plantío    150.0000\n",
       "30 Castellana    141.3889"
      ]
     },
     "metadata": {},
     "output_type": "display_data"
    }
   ],
   "source": [
    "mean_price<-aggregate(. ~ Barrio, airbnb_entire[c(\"Barrio\",\"Precio\")], mean,na.rm=TRUE)\n",
    "dim(mean_price)\n",
    "mean_price<-mean_price[order(mean_price$Precio,decreasing = T),]\n",
    "head(mean_price,5)\n",
    "barrios<-head(mean_price,5)$Barrio"
   ]
  },
  {
   "cell_type": "markdown",
   "metadata": {},
   "source": [
    "¿Cuantos apartamentos hay en cada uno de esos barrios?\n",
    "\n",
    "Mostrar una dataframe con el nombre del barrio, el precio y el número de entradas.\n",
    "\n",
    "Ayuda: Podeis crear un nuevo dataframe con las columnas \"Barrio\" y \"Freq\" que contenga el número de entradas en cada barrio y hacer un merge con el dataframe del punto anterior."
   ]
  },
  {
   "cell_type": "code",
   "execution_count": 22,
   "metadata": {},
   "outputs": [
    {
     "data": {
      "text/html": [
       "<table class=\"dataframe\">\n",
       "<caption>A data.frame: 5 × 3</caption>\n",
       "<thead>\n",
       "\t<tr><th></th><th scope=col>Barrio</th><th scope=col>Freq</th><th scope=col>Precio</th></tr>\n",
       "\t<tr><th></th><th scope=col>&lt;fct&gt;</th><th scope=col>&lt;int&gt;</th><th scope=col>&lt;dbl&gt;</th></tr>\n",
       "</thead>\n",
       "<tbody>\n",
       "\t<tr><th scope=row>77</th><td>Palomas      </td><td>  4</td><td>309.7500</td></tr>\n",
       "\t<tr><th scope=row>50</th><td>Fuentelareina</td><td>  2</td><td>180.0000</td></tr>\n",
       "\t<tr><th scope=row>93</th><td>Recoletos    </td><td>135</td><td>161.9254</td></tr>\n",
       "\t<tr><th scope=row>43</th><td>El Plantío   </td><td>  1</td><td>150.0000</td></tr>\n",
       "\t<tr><th scope=row>30</th><td>Castellana   </td><td> 73</td><td>141.3889</td></tr>\n",
       "</tbody>\n",
       "</table>\n"
      ],
      "text/latex": [
       "A data.frame: 5 × 3\n",
       "\\begin{tabular}{r|lll}\n",
       "  & Barrio & Freq & Precio\\\\\n",
       "  & <fct> & <int> & <dbl>\\\\\n",
       "\\hline\n",
       "\t77 & Palomas       &   4 & 309.7500\\\\\n",
       "\t50 & Fuentelareina &   2 & 180.0000\\\\\n",
       "\t93 & Recoletos     & 135 & 161.9254\\\\\n",
       "\t43 & El Plantío    &   1 & 150.0000\\\\\n",
       "\t30 & Castellana    &  73 & 141.3889\\\\\n",
       "\\end{tabular}\n"
      ],
      "text/markdown": [
       "\n",
       "A data.frame: 5 × 3\n",
       "\n",
       "| <!--/--> | Barrio &lt;fct&gt; | Freq &lt;int&gt; | Precio &lt;dbl&gt; |\n",
       "|---|---|---|---|\n",
       "| 77 | Palomas       |   4 | 309.7500 |\n",
       "| 50 | Fuentelareina |   2 | 180.0000 |\n",
       "| 93 | Recoletos     | 135 | 161.9254 |\n",
       "| 43 | El Plantío    |   1 | 150.0000 |\n",
       "| 30 | Castellana    |  73 | 141.3889 |\n",
       "\n"
      ],
      "text/plain": [
       "   Barrio        Freq Precio  \n",
       "77 Palomas         4  309.7500\n",
       "50 Fuentelareina   2  180.0000\n",
       "93 Recoletos     135  161.9254\n",
       "43 El Plantío      1  150.0000\n",
       "30 Castellana     73  141.3889"
      ]
     },
     "metadata": {},
     "output_type": "display_data"
    }
   ],
   "source": [
    "count_value<-data.frame(table(airbnb_entire$Barrio))\n",
    "colnames(count_value)<-c(\"Barrio\",\"Freq\")\n",
    "mean_price<-merge(count_value,mean_price,by=\"Barrio\")\n",
    "\n",
    "mean_price<-mean_price[order(mean_price$Precio,decreasing = T),]\n",
    "head(mean_price,5)"
   ]
  },
  {
   "cell_type": "code",
   "execution_count": 23,
   "metadata": {},
   "outputs": [
    {
     "data": {
      "text/html": [
       "<table class=\"dataframe\">\n",
       "<caption>A data.frame: 119 × 3</caption>\n",
       "<thead>\n",
       "\t<tr><th></th><th scope=col>Barrio</th><th scope=col>Freq</th><th scope=col>Precio</th></tr>\n",
       "\t<tr><th></th><th scope=col>&lt;fct&gt;</th><th scope=col>&lt;int&gt;</th><th scope=col>&lt;dbl&gt;</th></tr>\n",
       "</thead>\n",
       "<tbody>\n",
       "\t<tr><th scope=row>77</th><td>Palomas                   </td><td>  4</td><td>309.75000</td></tr>\n",
       "\t<tr><th scope=row>50</th><td>Fuentelareina             </td><td>  2</td><td>180.00000</td></tr>\n",
       "\t<tr><th scope=row>93</th><td>Recoletos                 </td><td>135</td><td>161.92537</td></tr>\n",
       "\t<tr><th scope=row>43</th><td>El Plantío                </td><td>  1</td><td>150.00000</td></tr>\n",
       "\t<tr><th scope=row>30</th><td>Castellana                </td><td> 73</td><td>141.38889</td></tr>\n",
       "\t<tr><th scope=row>27</th><td>Casco Histórico de Barajas</td><td>  8</td><td>141.25000</td></tr>\n",
       "\t<tr><th scope=row>6</th><td>Alameda de Osuna          </td><td>  4</td><td>138.75000</td></tr>\n",
       "\t<tr><th scope=row>35</th><td>Ciudad Universitaria      </td><td> 13</td><td>138.30769</td></tr>\n",
       "\t<tr><th scope=row>58</th><td>Jerónimos                 </td><td> 62</td><td>131.82258</td></tr>\n",
       "\t<tr><th scope=row>82</th><td>Peñagrande                </td><td> 11</td><td>127.63636</td></tr>\n",
       "\t<tr><th scope=row>71</th><td>Nueva España              </td><td> 42</td><td>127.30952</td></tr>\n",
       "\t<tr><th scope=row>52</th><td>Goya                      </td><td>142</td><td>111.33803</td></tr>\n",
       "\t<tr><th scope=row>7</th><td>Almagro                   </td><td> 97</td><td>109.18557</td></tr>\n",
       "\t<tr><th scope=row>23</th><td>Canillas                  </td><td> 15</td><td>105.80000</td></tr>\n",
       "\t<tr><th scope=row>55</th><td>Hispanoamérica            </td><td> 52</td><td>104.44231</td></tr>\n",
       "\t<tr><th scope=row>56</th><td>Ibiza                     </td><td> 64</td><td>102.62500</td></tr>\n",
       "\t<tr><th scope=row>117</th><td>Vinateros                 </td><td>  2</td><td>102.50000</td></tr>\n",
       "\t<tr><th scope=row>68</th><td>Mirasierra                </td><td>  7</td><td>101.28571</td></tr>\n",
       "\t<tr><th scope=row>106</th><td>Sol                       </td><td>701</td><td>100.75036</td></tr>\n",
       "\t<tr><th scope=row>15</th><td>Arcos                     </td><td>  4</td><td>100.50000</td></tr>\n",
       "\t<tr><th scope=row>26</th><td>Casa de Campo             </td><td> 41</td><td> 98.85366</td></tr>\n",
       "\t<tr><th scope=row>108</th><td>Trafalgar                 </td><td>223</td><td> 98.57848</td></tr>\n",
       "\t<tr><th scope=row>59</th><td>Justicia                  </td><td>534</td><td> 98.25468</td></tr>\n",
       "\t<tr><th scope=row>12</th><td>Apostol Santiago          </td><td>  5</td><td> 96.60000</td></tr>\n",
       "\t<tr><th scope=row>40</th><td>Costillares               </td><td> 13</td><td> 95.07692</td></tr>\n",
       "\t<tr><th scope=row>39</th><td>Cortes                    </td><td>574</td><td> 94.39373</td></tr>\n",
       "\t<tr><th scope=row>76</th><td>Palacio                   </td><td>769</td><td> 93.30599</td></tr>\n",
       "\t<tr><th scope=row>47</th><td>Estrella                  </td><td>  3</td><td> 92.66667</td></tr>\n",
       "\t<tr><th scope=row>114</th><td>Vallehermoso              </td><td> 33</td><td> 92.39394</td></tr>\n",
       "\t<tr><th scope=row>24</th><td>Canillejas                </td><td>  3</td><td> 91.66667</td></tr>\n",
       "\t<tr><th scope=row>⋮</th><td>⋮</td><td>⋮</td><td>⋮</td></tr>\n",
       "\t<tr><th scope=row>20</th><td>Buenavista       </td><td>12</td><td>57.91667</td></tr>\n",
       "\t<tr><th scope=row>105</th><td>Simancas         </td><td>21</td><td>57.14286</td></tr>\n",
       "\t<tr><th scope=row>37</th><td>Comillas         </td><td>21</td><td>56.66667</td></tr>\n",
       "\t<tr><th scope=row>98</th><td>San Cristobal    </td><td> 2</td><td>56.50000</td></tr>\n",
       "\t<tr><th scope=row>46</th><td>Entrevías        </td><td> 4</td><td>56.25000</td></tr>\n",
       "\t<tr><th scope=row>69</th><td>Moscardó         </td><td>18</td><td>56.05556</td></tr>\n",
       "\t<tr><th scope=row>10</th><td>Aluche           </td><td> 9</td><td>55.88889</td></tr>\n",
       "\t<tr><th scope=row>33</th><td>Chopera          </td><td>34</td><td>55.02941</td></tr>\n",
       "\t<tr><th scope=row>86</th><td>Portazgo         </td><td> 1</td><td>55.00000</td></tr>\n",
       "\t<tr><th scope=row>5</th><td>Aguilas          </td><td> 2</td><td>54.50000</td></tr>\n",
       "\t<tr><th scope=row>19</th><td>Berruguete       </td><td>35</td><td>53.85714</td></tr>\n",
       "\t<tr><th scope=row>113</th><td>Valdezarza       </td><td> 3</td><td>53.33333</td></tr>\n",
       "\t<tr><th scope=row>48</th><td>Fontarrón        </td><td> 5</td><td>51.80000</td></tr>\n",
       "\t<tr><th scope=row>18</th><td>Bellas Vistas    </td><td>45</td><td>51.77778</td></tr>\n",
       "\t<tr><th scope=row>73</th><td>Opañel           </td><td>10</td><td>51.60000</td></tr>\n",
       "\t<tr><th scope=row>97</th><td>San Andrés       </td><td>12</td><td>50.91667</td></tr>\n",
       "\t<tr><th scope=row>116</th><td>Ventas           </td><td>26</td><td>50.03846</td></tr>\n",
       "\t<tr><th scope=row>66</th><td>Marroquina       </td><td> 2</td><td>50.00000</td></tr>\n",
       "\t<tr><th scope=row>81</th><td>Pavones          </td><td> 1</td><td>48.00000</td></tr>\n",
       "\t<tr><th scope=row>119</th><td>Zofío            </td><td> 4</td><td>48.00000</td></tr>\n",
       "\t<tr><th scope=row>104</th><td>Santa Eugenia    </td><td> 2</td><td>47.00000</td></tr>\n",
       "\t<tr><th scope=row>1</th><td>Abrantes         </td><td> 3</td><td>46.00000</td></tr>\n",
       "\t<tr><th scope=row>22</th><td>Campamento       </td><td> 9</td><td>45.55556</td></tr>\n",
       "\t<tr><th scope=row>74</th><td>Orcasur          </td><td> 1</td><td>45.00000</td></tr>\n",
       "\t<tr><th scope=row>99</th><td>San Diego        </td><td>32</td><td>44.34375</td></tr>\n",
       "\t<tr><th scope=row>21</th><td>Butarque         </td><td> 1</td><td>42.00000</td></tr>\n",
       "\t<tr><th scope=row>54</th><td>Hellín           </td><td> 1</td><td>42.00000</td></tr>\n",
       "\t<tr><th scope=row>4</th><td>Aeropuerto       </td><td> 2</td><td>38.00000</td></tr>\n",
       "\t<tr><th scope=row>11</th><td>Ambroz           </td><td> 2</td><td>34.50000</td></tr>\n",
       "\t<tr><th scope=row>79</th><td>Palomeras Sureste</td><td> 4</td><td>31.50000</td></tr>\n",
       "</tbody>\n",
       "</table>\n"
      ],
      "text/latex": [
       "A data.frame: 119 × 3\n",
       "\\begin{tabular}{r|lll}\n",
       "  & Barrio & Freq & Precio\\\\\n",
       "  & <fct> & <int> & <dbl>\\\\\n",
       "\\hline\n",
       "\t77 & Palomas                    &   4 & 309.75000\\\\\n",
       "\t50 & Fuentelareina              &   2 & 180.00000\\\\\n",
       "\t93 & Recoletos                  & 135 & 161.92537\\\\\n",
       "\t43 & El Plantío                 &   1 & 150.00000\\\\\n",
       "\t30 & Castellana                 &  73 & 141.38889\\\\\n",
       "\t27 & Casco Histórico de Barajas &   8 & 141.25000\\\\\n",
       "\t6 & Alameda de Osuna           &   4 & 138.75000\\\\\n",
       "\t35 & Ciudad Universitaria       &  13 & 138.30769\\\\\n",
       "\t58 & Jerónimos                  &  62 & 131.82258\\\\\n",
       "\t82 & Peñagrande                 &  11 & 127.63636\\\\\n",
       "\t71 & Nueva España               &  42 & 127.30952\\\\\n",
       "\t52 & Goya                       & 142 & 111.33803\\\\\n",
       "\t7 & Almagro                    &  97 & 109.18557\\\\\n",
       "\t23 & Canillas                   &  15 & 105.80000\\\\\n",
       "\t55 & Hispanoamérica             &  52 & 104.44231\\\\\n",
       "\t56 & Ibiza                      &  64 & 102.62500\\\\\n",
       "\t117 & Vinateros                  &   2 & 102.50000\\\\\n",
       "\t68 & Mirasierra                 &   7 & 101.28571\\\\\n",
       "\t106 & Sol                        & 701 & 100.75036\\\\\n",
       "\t15 & Arcos                      &   4 & 100.50000\\\\\n",
       "\t26 & Casa de Campo              &  41 &  98.85366\\\\\n",
       "\t108 & Trafalgar                  & 223 &  98.57848\\\\\n",
       "\t59 & Justicia                   & 534 &  98.25468\\\\\n",
       "\t12 & Apostol Santiago           &   5 &  96.60000\\\\\n",
       "\t40 & Costillares                &  13 &  95.07692\\\\\n",
       "\t39 & Cortes                     & 574 &  94.39373\\\\\n",
       "\t76 & Palacio                    & 769 &  93.30599\\\\\n",
       "\t47 & Estrella                   &   3 &  92.66667\\\\\n",
       "\t114 & Vallehermoso               &  33 &  92.39394\\\\\n",
       "\t24 & Canillejas                 &   3 &  91.66667\\\\\n",
       "\t⋮ & ⋮ & ⋮ & ⋮\\\\\n",
       "\t20 & Buenavista        & 12 & 57.91667\\\\\n",
       "\t105 & Simancas          & 21 & 57.14286\\\\\n",
       "\t37 & Comillas          & 21 & 56.66667\\\\\n",
       "\t98 & San Cristobal     &  2 & 56.50000\\\\\n",
       "\t46 & Entrevías         &  4 & 56.25000\\\\\n",
       "\t69 & Moscardó          & 18 & 56.05556\\\\\n",
       "\t10 & Aluche            &  9 & 55.88889\\\\\n",
       "\t33 & Chopera           & 34 & 55.02941\\\\\n",
       "\t86 & Portazgo          &  1 & 55.00000\\\\\n",
       "\t5 & Aguilas           &  2 & 54.50000\\\\\n",
       "\t19 & Berruguete        & 35 & 53.85714\\\\\n",
       "\t113 & Valdezarza        &  3 & 53.33333\\\\\n",
       "\t48 & Fontarrón         &  5 & 51.80000\\\\\n",
       "\t18 & Bellas Vistas     & 45 & 51.77778\\\\\n",
       "\t73 & Opañel            & 10 & 51.60000\\\\\n",
       "\t97 & San Andrés        & 12 & 50.91667\\\\\n",
       "\t116 & Ventas            & 26 & 50.03846\\\\\n",
       "\t66 & Marroquina        &  2 & 50.00000\\\\\n",
       "\t81 & Pavones           &  1 & 48.00000\\\\\n",
       "\t119 & Zofío             &  4 & 48.00000\\\\\n",
       "\t104 & Santa Eugenia     &  2 & 47.00000\\\\\n",
       "\t1 & Abrantes          &  3 & 46.00000\\\\\n",
       "\t22 & Campamento        &  9 & 45.55556\\\\\n",
       "\t74 & Orcasur           &  1 & 45.00000\\\\\n",
       "\t99 & San Diego         & 32 & 44.34375\\\\\n",
       "\t21 & Butarque          &  1 & 42.00000\\\\\n",
       "\t54 & Hellín            &  1 & 42.00000\\\\\n",
       "\t4 & Aeropuerto        &  2 & 38.00000\\\\\n",
       "\t11 & Ambroz            &  2 & 34.50000\\\\\n",
       "\t79 & Palomeras Sureste &  4 & 31.50000\\\\\n",
       "\\end{tabular}\n"
      ],
      "text/markdown": [
       "\n",
       "A data.frame: 119 × 3\n",
       "\n",
       "| <!--/--> | Barrio &lt;fct&gt; | Freq &lt;int&gt; | Precio &lt;dbl&gt; |\n",
       "|---|---|---|---|\n",
       "| 77 | Palomas                    |   4 | 309.75000 |\n",
       "| 50 | Fuentelareina              |   2 | 180.00000 |\n",
       "| 93 | Recoletos                  | 135 | 161.92537 |\n",
       "| 43 | El Plantío                 |   1 | 150.00000 |\n",
       "| 30 | Castellana                 |  73 | 141.38889 |\n",
       "| 27 | Casco Histórico de Barajas |   8 | 141.25000 |\n",
       "| 6 | Alameda de Osuna           |   4 | 138.75000 |\n",
       "| 35 | Ciudad Universitaria       |  13 | 138.30769 |\n",
       "| 58 | Jerónimos                  |  62 | 131.82258 |\n",
       "| 82 | Peñagrande                 |  11 | 127.63636 |\n",
       "| 71 | Nueva España               |  42 | 127.30952 |\n",
       "| 52 | Goya                       | 142 | 111.33803 |\n",
       "| 7 | Almagro                    |  97 | 109.18557 |\n",
       "| 23 | Canillas                   |  15 | 105.80000 |\n",
       "| 55 | Hispanoamérica             |  52 | 104.44231 |\n",
       "| 56 | Ibiza                      |  64 | 102.62500 |\n",
       "| 117 | Vinateros                  |   2 | 102.50000 |\n",
       "| 68 | Mirasierra                 |   7 | 101.28571 |\n",
       "| 106 | Sol                        | 701 | 100.75036 |\n",
       "| 15 | Arcos                      |   4 | 100.50000 |\n",
       "| 26 | Casa de Campo              |  41 |  98.85366 |\n",
       "| 108 | Trafalgar                  | 223 |  98.57848 |\n",
       "| 59 | Justicia                   | 534 |  98.25468 |\n",
       "| 12 | Apostol Santiago           |   5 |  96.60000 |\n",
       "| 40 | Costillares                |  13 |  95.07692 |\n",
       "| 39 | Cortes                     | 574 |  94.39373 |\n",
       "| 76 | Palacio                    | 769 |  93.30599 |\n",
       "| 47 | Estrella                   |   3 |  92.66667 |\n",
       "| 114 | Vallehermoso               |  33 |  92.39394 |\n",
       "| 24 | Canillejas                 |   3 |  91.66667 |\n",
       "| ⋮ | ⋮ | ⋮ | ⋮ |\n",
       "| 20 | Buenavista        | 12 | 57.91667 |\n",
       "| 105 | Simancas          | 21 | 57.14286 |\n",
       "| 37 | Comillas          | 21 | 56.66667 |\n",
       "| 98 | San Cristobal     |  2 | 56.50000 |\n",
       "| 46 | Entrevías         |  4 | 56.25000 |\n",
       "| 69 | Moscardó          | 18 | 56.05556 |\n",
       "| 10 | Aluche            |  9 | 55.88889 |\n",
       "| 33 | Chopera           | 34 | 55.02941 |\n",
       "| 86 | Portazgo          |  1 | 55.00000 |\n",
       "| 5 | Aguilas           |  2 | 54.50000 |\n",
       "| 19 | Berruguete        | 35 | 53.85714 |\n",
       "| 113 | Valdezarza        |  3 | 53.33333 |\n",
       "| 48 | Fontarrón         |  5 | 51.80000 |\n",
       "| 18 | Bellas Vistas     | 45 | 51.77778 |\n",
       "| 73 | Opañel            | 10 | 51.60000 |\n",
       "| 97 | San Andrés        | 12 | 50.91667 |\n",
       "| 116 | Ventas            | 26 | 50.03846 |\n",
       "| 66 | Marroquina        |  2 | 50.00000 |\n",
       "| 81 | Pavones           |  1 | 48.00000 |\n",
       "| 119 | Zofío             |  4 | 48.00000 |\n",
       "| 104 | Santa Eugenia     |  2 | 47.00000 |\n",
       "| 1 | Abrantes          |  3 | 46.00000 |\n",
       "| 22 | Campamento        |  9 | 45.55556 |\n",
       "| 74 | Orcasur           |  1 | 45.00000 |\n",
       "| 99 | San Diego         | 32 | 44.34375 |\n",
       "| 21 | Butarque          |  1 | 42.00000 |\n",
       "| 54 | Hellín            |  1 | 42.00000 |\n",
       "| 4 | Aeropuerto        |  2 | 38.00000 |\n",
       "| 11 | Ambroz            |  2 | 34.50000 |\n",
       "| 79 | Palomeras Sureste |  4 | 31.50000 |\n",
       "\n"
      ],
      "text/plain": [
       "    Barrio                     Freq Precio   \n",
       "77  Palomas                      4  309.75000\n",
       "50  Fuentelareina                2  180.00000\n",
       "93  Recoletos                  135  161.92537\n",
       "43  El Plantío                   1  150.00000\n",
       "30  Castellana                  73  141.38889\n",
       "27  Casco Histórico de Barajas   8  141.25000\n",
       "6   Alameda de Osuna             4  138.75000\n",
       "35  Ciudad Universitaria        13  138.30769\n",
       "58  Jerónimos                   62  131.82258\n",
       "82  Peñagrande                  11  127.63636\n",
       "71  Nueva España                42  127.30952\n",
       "52  Goya                       142  111.33803\n",
       "7   Almagro                     97  109.18557\n",
       "23  Canillas                    15  105.80000\n",
       "55  Hispanoamérica              52  104.44231\n",
       "56  Ibiza                       64  102.62500\n",
       "117 Vinateros                    2  102.50000\n",
       "68  Mirasierra                   7  101.28571\n",
       "106 Sol                        701  100.75036\n",
       "15  Arcos                        4  100.50000\n",
       "26  Casa de Campo               41   98.85366\n",
       "108 Trafalgar                  223   98.57848\n",
       "59  Justicia                   534   98.25468\n",
       "12  Apostol Santiago             5   96.60000\n",
       "40  Costillares                 13   95.07692\n",
       "39  Cortes                     574   94.39373\n",
       "76  Palacio                    769   93.30599\n",
       "47  Estrella                     3   92.66667\n",
       "114 Vallehermoso                33   92.39394\n",
       "24  Canillejas                   3   91.66667\n",
       "⋮   ⋮                          ⋮    ⋮        \n",
       "20  Buenavista                 12   57.91667 \n",
       "105 Simancas                   21   57.14286 \n",
       "37  Comillas                   21   56.66667 \n",
       "98  San Cristobal               2   56.50000 \n",
       "46  Entrevías                   4   56.25000 \n",
       "69  Moscardó                   18   56.05556 \n",
       "10  Aluche                      9   55.88889 \n",
       "33  Chopera                    34   55.02941 \n",
       "86  Portazgo                    1   55.00000 \n",
       "5   Aguilas                     2   54.50000 \n",
       "19  Berruguete                 35   53.85714 \n",
       "113 Valdezarza                  3   53.33333 \n",
       "48  Fontarrón                   5   51.80000 \n",
       "18  Bellas Vistas              45   51.77778 \n",
       "73  Opañel                     10   51.60000 \n",
       "97  San Andrés                 12   50.91667 \n",
       "116 Ventas                     26   50.03846 \n",
       "66  Marroquina                  2   50.00000 \n",
       "81  Pavones                     1   48.00000 \n",
       "119 Zofío                       4   48.00000 \n",
       "104 Santa Eugenia               2   47.00000 \n",
       "1   Abrantes                    3   46.00000 \n",
       "22  Campamento                  9   45.55556 \n",
       "74  Orcasur                     1   45.00000 \n",
       "99  San Diego                  32   44.34375 \n",
       "21  Butarque                    1   42.00000 \n",
       "54  Hellín                      1   42.00000 \n",
       "4   Aeropuerto                  2   38.00000 \n",
       "11  Ambroz                      2   34.50000 \n",
       "79  Palomeras Sureste           4   31.50000 "
      ]
     },
     "metadata": {},
     "output_type": "display_data"
    }
   ],
   "source": [
    "mean_price"
   ]
  },
  {
   "cell_type": "markdown",
   "metadata": {},
   "source": [
    "Partiendo del dataframe anterior, muestra los 5 barrios con mayor precio, pero que tengan más de 100 entradas de alquiler."
   ]
  },
  {
   "cell_type": "code",
   "execution_count": 24,
   "metadata": {},
   "outputs": [
    {
     "data": {
      "text/html": [
       "<table class=\"dataframe\">\n",
       "<caption>A data.frame: 5 × 3</caption>\n",
       "<thead>\n",
       "\t<tr><th></th><th scope=col>Barrio</th><th scope=col>Freq</th><th scope=col>Precio</th></tr>\n",
       "\t<tr><th></th><th scope=col>&lt;fct&gt;</th><th scope=col>&lt;int&gt;</th><th scope=col>&lt;dbl&gt;</th></tr>\n",
       "</thead>\n",
       "<tbody>\n",
       "\t<tr><th scope=row>93</th><td>Recoletos</td><td>135</td><td>161.92537</td></tr>\n",
       "\t<tr><th scope=row>52</th><td>Goya     </td><td>142</td><td>111.33803</td></tr>\n",
       "\t<tr><th scope=row>106</th><td>Sol      </td><td>701</td><td>100.75036</td></tr>\n",
       "\t<tr><th scope=row>108</th><td>Trafalgar</td><td>223</td><td> 98.57848</td></tr>\n",
       "\t<tr><th scope=row>59</th><td>Justicia </td><td>534</td><td> 98.25468</td></tr>\n",
       "</tbody>\n",
       "</table>\n"
      ],
      "text/latex": [
       "A data.frame: 5 × 3\n",
       "\\begin{tabular}{r|lll}\n",
       "  & Barrio & Freq & Precio\\\\\n",
       "  & <fct> & <int> & <dbl>\\\\\n",
       "\\hline\n",
       "\t93 & Recoletos & 135 & 161.92537\\\\\n",
       "\t52 & Goya      & 142 & 111.33803\\\\\n",
       "\t106 & Sol       & 701 & 100.75036\\\\\n",
       "\t108 & Trafalgar & 223 &  98.57848\\\\\n",
       "\t59 & Justicia  & 534 &  98.25468\\\\\n",
       "\\end{tabular}\n"
      ],
      "text/markdown": [
       "\n",
       "A data.frame: 5 × 3\n",
       "\n",
       "| <!--/--> | Barrio &lt;fct&gt; | Freq &lt;int&gt; | Precio &lt;dbl&gt; |\n",
       "|---|---|---|---|\n",
       "| 93 | Recoletos | 135 | 161.92537 |\n",
       "| 52 | Goya      | 142 | 111.33803 |\n",
       "| 106 | Sol       | 701 | 100.75036 |\n",
       "| 108 | Trafalgar | 223 |  98.57848 |\n",
       "| 59 | Justicia  | 534 |  98.25468 |\n",
       "\n"
      ],
      "text/plain": [
       "    Barrio    Freq Precio   \n",
       "93  Recoletos 135  161.92537\n",
       "52  Goya      142  111.33803\n",
       "106 Sol       701  100.75036\n",
       "108 Trafalgar 223   98.57848\n",
       "59  Justicia  534   98.25468"
      ]
     },
     "metadata": {},
     "output_type": "display_data"
    }
   ],
   "source": [
    "mean_price_100<-subset(mean_price,mean_price$Freq>100)\n",
    "\n",
    "head(mean_price_100,5)\n",
    "barrios<-head(mean_price_100,5)$Barrio"
   ]
  },
  {
   "cell_type": "markdown",
   "metadata": {},
   "source": [
    "Dibuja el diagrama de densidad de distribución de los diferentes precios"
   ]
  },
  {
   "cell_type": "code",
   "execution_count": 25,
   "metadata": {},
   "outputs": [
    {
     "name": "stderr",
     "output_type": "stream",
     "text": [
      "Warning message:\n",
      "“Removed 1 rows containing non-finite values (stat_density).”\n"
     ]
    },
    {
     "data": {
      "image/png": "[encoded data removed]",
      "text/plain": [
       "plot without title"
      ]
     },
     "metadata": {
      "image/png": {
       "height": 240,
       "width": 360
      }
     },
     "output_type": "display_data"
    }
   ],
   "source": [
    "top_barrios<-subset(airbnb_entire,Barrio %in% barrios)\n",
    "ggplot(top_barrios,aes(x=Precio,color=Barrio))+geom_density(bw=10)\n"
   ]
  },
  {
   "cell_type": "markdown",
   "metadata": {},
   "source": [
    "Calcula el tamaño medio, en metros cuadrados, para los 5 barrios anteriores y muestralo en el mismo dataframe junto con el precio y número de entradas"
   ]
  },
  {
   "cell_type": "code",
   "execution_count": 26,
   "metadata": {},
   "outputs": [
    {
     "data": {
      "text/html": [
       "<table class=\"dataframe\">\n",
       "<caption>A data.frame: 5 × 4</caption>\n",
       "<thead>\n",
       "\t<tr><th></th><th scope=col>Barrio</th><th scope=col>Freq</th><th scope=col>Precio</th><th scope=col>MetrosCuadrados</th></tr>\n",
       "\t<tr><th></th><th scope=col>&lt;fct&gt;</th><th scope=col>&lt;int&gt;</th><th scope=col>&lt;dbl&gt;</th><th scope=col>&lt;dbl&gt;</th></tr>\n",
       "</thead>\n",
       "<tbody>\n",
       "\t<tr><th scope=row>8</th><td>Recoletos</td><td>135</td><td>161.92537</td><td>26.66316</td></tr>\n",
       "\t<tr><th scope=row>4</th><td>Goya     </td><td>142</td><td>111.33803</td><td>51.68504</td></tr>\n",
       "\t<tr><th scope=row>9</th><td>Sol      </td><td>701</td><td>100.75036</td><td>45.61692</td></tr>\n",
       "\t<tr><th scope=row>10</th><td>Trafalgar</td><td>223</td><td> 98.57848</td><td>29.30426</td></tr>\n",
       "\t<tr><th scope=row>5</th><td>Justicia </td><td>534</td><td> 98.25468</td><td>28.52669</td></tr>\n",
       "</tbody>\n",
       "</table>\n"
      ],
      "text/latex": [
       "A data.frame: 5 × 4\n",
       "\\begin{tabular}{r|llll}\n",
       "  & Barrio & Freq & Precio & MetrosCuadrados\\\\\n",
       "  & <fct> & <int> & <dbl> & <dbl>\\\\\n",
       "\\hline\n",
       "\t8 & Recoletos & 135 & 161.92537 & 26.66316\\\\\n",
       "\t4 & Goya      & 142 & 111.33803 & 51.68504\\\\\n",
       "\t9 & Sol       & 701 & 100.75036 & 45.61692\\\\\n",
       "\t10 & Trafalgar & 223 &  98.57848 & 29.30426\\\\\n",
       "\t5 & Justicia  & 534 &  98.25468 & 28.52669\\\\\n",
       "\\end{tabular}\n"
      ],
      "text/markdown": [
       "\n",
       "A data.frame: 5 × 4\n",
       "\n",
       "| <!--/--> | Barrio &lt;fct&gt; | Freq &lt;int&gt; | Precio &lt;dbl&gt; | MetrosCuadrados &lt;dbl&gt; |\n",
       "|---|---|---|---|---|\n",
       "| 8 | Recoletos | 135 | 161.92537 | 26.66316 |\n",
       "| 4 | Goya      | 142 | 111.33803 | 51.68504 |\n",
       "| 9 | Sol       | 701 | 100.75036 | 45.61692 |\n",
       "| 10 | Trafalgar | 223 |  98.57848 | 29.30426 |\n",
       "| 5 | Justicia  | 534 |  98.25468 | 28.52669 |\n",
       "\n"
      ],
      "text/plain": [
       "   Barrio    Freq Precio    MetrosCuadrados\n",
       "8  Recoletos 135  161.92537 26.66316       \n",
       "4  Goya      142  111.33803 51.68504       \n",
       "9  Sol       701  100.75036 45.61692       \n",
       "10 Trafalgar 223   98.57848 29.30426       \n",
       "5  Justicia  534   98.25468 28.52669       "
      ]
     },
     "metadata": {},
     "output_type": "display_data"
    }
   ],
   "source": [
    "mean_size<-aggregate(. ~ Barrio, airbnb_entire[c(\"Barrio\",\"MetrosCuadrados\")], mean,na.rm=TRUE)\n",
    "mean_price_size_100<-merge(mean_price_100,mean_size,by=\"Barrio\")\n",
    "\n",
    "mean_price_size_100<-mean_price_size_100[order(mean_price_size_100$Precio,decreasing = T),]\n",
    "head(mean_price_size_100,5)"
   ]
  },
  {
   "cell_type": "markdown",
   "metadata": {},
   "source": [
    "Dibuja el diagrama de densidad de distribución de los diferentes tamaños de apartamentos"
   ]
  },
  {
   "cell_type": "code",
   "execution_count": 27,
   "metadata": {},
   "outputs": [
    {
     "name": "stderr",
     "output_type": "stream",
     "text": [
      "Warning message:\n",
      "“Removed 1645 rows containing non-finite values (stat_density).”\n"
     ]
    },
    {
     "data": {
      "image/png": "[encoded data removed]",
      "text/plain": [
       "plot without title"
      ]
     },
     "metadata": {
      "image/png": {
       "height": 240,
       "width": 360
      }
     },
     "output_type": "display_data"
    }
   ],
   "source": [
    "top_barrios<-subset(airbnb_entire,Barrio %in% barrios)\n",
    "ggplot(top_barrios,aes(x=MetrosCuadrados,color=Barrio))+geom_density()"
   ]
  },
  {
   "cell_type": "markdown",
   "metadata": {},
   "source": [
    "Esta claro que las medias de cada uno de estos 5 barrios parecen ser diferentes, pero ¿son estadísticamente diferentes?\n",
    "¿Que test habría que usar para comprobarlo?"
   ]
  },
  {
   "cell_type": "code",
   "execution_count": 28,
   "metadata": {},
   "outputs": [
    {
     "name": "stdout",
     "output_type": "stream",
     "text": [
      "[1] \"Precio medio tipo Sol  =  45.6169213833333\"\n",
      "[1] \" - Test shapiro pvalor =  8.6913775134728e-07\"\n",
      "[1] \"Precio medio tipo Justicia  =  28.5266858823529\"\n",
      "[1] \" - Test shapiro pvalor =  0.00064192630271212\"\n",
      "[1] \"Precio medio tipo Recoletos  =  26.663161\"\n",
      "[1] \" - Test shapiro pvalor =  0\"\n",
      "[1] \"Precio medio tipo Goya  =  51.6850356666667\"\n",
      "[1] \" - Test shapiro pvalor =  0.519924091564745\"\n",
      "[1] \"Precio medio tipo Trafalgar  =  29.3042605714286\"\n",
      "[1] \" - Test shapiro pvalor =  0.0127581397426826\"\n"
     ]
    },
    {
     "data": {
      "text/plain": [
       "\n",
       "\tKruskal-Wallis rank sum test\n",
       "\n",
       "data:  MetrosCuadrados by Barrio\n",
       "Kruskal-Wallis chi-squared = 1.882, df = 4, p-value = 0.7574\n"
      ]
     },
     "metadata": {},
     "output_type": "display_data"
    },
    {
     "data": {
      "text/html": [
       "'No hay evidencias suficientes que determinen que en cada uno de esos barrios el tamaño de los apartamentos es diferente El pvalor del test es muy alto. pvalor= 0.757443581555649'"
      ],
      "text/latex": [
       "'No hay evidencias suficientes que determinen que en cada uno de esos barrios el tamaño de los apartamentos es diferente El pvalor del test es muy alto. pvalor= 0.757443581555649'"
      ],
      "text/markdown": [
       "'No hay evidencias suficientes que determinen que en cada uno de esos barrios el tamaño de los apartamentos es diferente El pvalor del test es muy alto. pvalor= 0.757443581555649'"
      ],
      "text/plain": [
       "[1] \"No hay evidencias suficientes que determinen que en cada uno de esos barrios el tamaño de los apartamentos es diferente El pvalor del test es muy alto. pvalor= 0.757443581555649\""
      ]
     },
     "metadata": {},
     "output_type": "display_data"
    }
   ],
   "source": [
    "for (barrio in unique(top_barrios$Barrio)){\n",
    "    df<-top_barrios[which(top_barrios$Barrio==as.character(barrio)),]\n",
    "    print(paste(\"Precio medio tipo\",barrio,\" = \",mean(df$MetrosCuadrados,na.rm=T)))\n",
    "    if (nrow(df)>5000){\n",
    "        df<-df[1:5000,]\n",
    "    }\n",
    "    sp<-shapiro.test(df$MetrosCuadrados)\n",
    "    print(paste(\" - Test shapiro pvalor = \",sp$p.value))\n",
    "}\n",
    "\n",
    "kt<-kruskal.test(MetrosCuadrados~Barrio,top_barrios)\n",
    "kt\n",
    "paste(\"No hay evidencias suficientes que determinen que en cada uno de esos barrios el tamaño de los apartamentos es diferente\",\n",
    "     \"El pvalor del test es muy alto. pvalor=\",kt$p.value)\n"
   ]
  },
  {
   "cell_type": "markdown",
   "metadata": {},
   "source": [
    "Para únicamente los pisos de alquiler en el barrio de Sol:\n",
    "\n",
    "``barrio_sol<-subset(airbnb_entire,Barrio==\"Sol\")``\n",
    "\n",
    "Calcular un modelo lineal que combine alguna de estas variables:\n",
    "* NumBanyos\n",
    "* NumDormitorios\n",
    "* MaxOcupantes\n",
    "* MetrosCuadrados"
   ]
  },
  {
   "cell_type": "code",
   "execution_count": 29,
   "metadata": {},
   "outputs": [
    {
     "data": {
      "text/html": [
       "701"
      ],
      "text/latex": [
       "701"
      ],
      "text/markdown": [
       "701"
      ],
      "text/plain": [
       "[1] 701"
      ]
     },
     "metadata": {},
     "output_type": "display_data"
    }
   ],
   "source": [
    "barrio_sol<-subset(airbnb_entire,Barrio==\"Sol\")\n",
    "nrow(barrio_sol)"
   ]
  },
  {
   "cell_type": "markdown",
   "metadata": {},
   "source": [
    "Primero calculamos la correlación para ver como se relacionan estas variables entre sí."
   ]
  },
  {
   "cell_type": "code",
   "execution_count": 30,
   "metadata": {},
   "outputs": [
    {
     "data": {
      "text/html": [
       "<table class=\"dataframe\">\n",
       "<caption>A matrix: 4 × 4 of type dbl</caption>\n",
       "<thead>\n",
       "\t<tr><th></th><th scope=col>NumBanyos</th><th scope=col>NumDormitorios</th><th scope=col>MaxOcupantes</th><th scope=col>MetrosCuadrados</th></tr>\n",
       "</thead>\n",
       "<tbody>\n",
       "\t<tr><th scope=row>NumBanyos</th><td>1.0000000</td><td>0.6761906</td><td>0.6578162</td><td>0.4820549</td></tr>\n",
       "\t<tr><th scope=row>NumDormitorios</th><td>0.6761906</td><td>1.0000000</td><td>0.7594598</td><td>0.5684521</td></tr>\n",
       "\t<tr><th scope=row>MaxOcupantes</th><td>0.6578162</td><td>0.7594598</td><td>1.0000000</td><td>0.4286233</td></tr>\n",
       "\t<tr><th scope=row>MetrosCuadrados</th><td>0.4820549</td><td>0.5684521</td><td>0.4286233</td><td>1.0000000</td></tr>\n",
       "</tbody>\n",
       "</table>\n"
      ],
      "text/latex": [
       "A matrix: 4 × 4 of type dbl\n",
       "\\begin{tabular}{r|llll}\n",
       "  & NumBanyos & NumDormitorios & MaxOcupantes & MetrosCuadrados\\\\\n",
       "\\hline\n",
       "\tNumBanyos & 1.0000000 & 0.6761906 & 0.6578162 & 0.4820549\\\\\n",
       "\tNumDormitorios & 0.6761906 & 1.0000000 & 0.7594598 & 0.5684521\\\\\n",
       "\tMaxOcupantes & 0.6578162 & 0.7594598 & 1.0000000 & 0.4286233\\\\\n",
       "\tMetrosCuadrados & 0.4820549 & 0.5684521 & 0.4286233 & 1.0000000\\\\\n",
       "\\end{tabular}\n"
      ],
      "text/markdown": [
       "\n",
       "A matrix: 4 × 4 of type dbl\n",
       "\n",
       "| <!--/--> | NumBanyos | NumDormitorios | MaxOcupantes | MetrosCuadrados |\n",
       "|---|---|---|---|---|\n",
       "| NumBanyos | 1.0000000 | 0.6761906 | 0.6578162 | 0.4820549 |\n",
       "| NumDormitorios | 0.6761906 | 1.0000000 | 0.7594598 | 0.5684521 |\n",
       "| MaxOcupantes | 0.6578162 | 0.7594598 | 1.0000000 | 0.4286233 |\n",
       "| MetrosCuadrados | 0.4820549 | 0.5684521 | 0.4286233 | 1.0000000 |\n",
       "\n"
      ],
      "text/plain": [
       "                NumBanyos NumDormitorios MaxOcupantes MetrosCuadrados\n",
       "NumBanyos       1.0000000 0.6761906      0.6578162    0.4820549      \n",
       "NumDormitorios  0.6761906 1.0000000      0.7594598    0.5684521      \n",
       "MaxOcupantes    0.6578162 0.7594598      1.0000000    0.4286233      \n",
       "MetrosCuadrados 0.4820549 0.5684521      0.4286233    1.0000000      "
      ]
     },
     "metadata": {},
     "output_type": "display_data"
    }
   ],
   "source": [
    "cor(barrio_sol[,c(\"NumBanyos\",\"NumDormitorios\",\"MaxOcupantes\",\"MetrosCuadrados\")],use=\"pairwise.complete.obs\")"
   ]
  },
  {
   "cell_type": "markdown",
   "metadata": {},
   "source": [
    "Se observa que la correlación entre el número de dormitorios y los metros cuadrados es sorprendentemente baja.\n",
    "¿Son de fiar esos números?\n",
    "\n",
    "Mediante un histograma o curvas de densidad podemos descartar números que notienen sentido en el dataframe barrio_sol,\n",
    "para tener una matriz de correlación que tenga mayor sentido.\n"
   ]
  },
  {
   "cell_type": "code",
   "execution_count": 31,
   "metadata": {},
   "outputs": [
    {
     "name": "stderr",
     "output_type": "stream",
     "text": [
      "Warning message:\n",
      "“Removed 641 rows containing non-finite values (stat_density).”\n"
     ]
    },
    {
     "data": {
      "image/png": "[encoded data removed]",
      "text/plain": [
       "plot without title"
      ]
     },
     "metadata": {
      "image/png": {
       "height": 240,
       "width": 360
      }
     },
     "output_type": "display_data"
    }
   ],
   "source": [
    "ggplot(barrio_sol,aes(x=MetrosCuadrados))+geom_density(bw=3)"
   ]
  },
  {
   "cell_type": "code",
   "execution_count": 32,
   "metadata": {},
   "outputs": [
    {
     "data": {
      "text/html": [
       "32"
      ],
      "text/latex": [
       "32"
      ],
      "text/markdown": [
       "32"
      ],
      "text/plain": [
       "[1] 32"
      ]
     },
     "metadata": {},
     "output_type": "display_data"
    }
   ],
   "source": [
    "# Nos quedamos con los apartamentos que superen los 15m². \n",
    "# Los que son más pequeños es posible que se deba a un error en algún campp\n",
    "barrio_sol<-subset(barrio_sol, MetrosCuadrados>25)\n",
    "nrow(barrio_sol)"
   ]
  },
  {
   "cell_type": "code",
   "execution_count": 33,
   "metadata": {},
   "outputs": [
    {
     "data": {
      "text/plain": [
       "\n",
       " 1  2  3  4 \n",
       "22  7  2  1 "
      ]
     },
     "metadata": {},
     "output_type": "display_data"
    },
    {
     "data": {
      "text/plain": [
       "\n",
       " 0  1  2  3  4  5 \n",
       " 4 14  7  3  2  2 "
      ]
     },
     "metadata": {},
     "output_type": "display_data"
    }
   ],
   "source": [
    "# Comprobamos que las variables numbanyos y numdormitorios tienen valores dentro de lo esperado para un apartamento\n",
    "table(barrio_sol$NumBanyos)\n",
    "table(barrio_sol$NumDormitorios)\n",
    "barrio_sol<-subset(barrio_sol, NumDormitorios>0)\n",
    "barrio_sol$fNumDormitorios<-factor(barrio_sol$NumDormitorios)"
   ]
  },
  {
   "cell_type": "code",
   "execution_count": 34,
   "metadata": {},
   "outputs": [
    {
     "data": {
      "text/html": [
       "<table class=\"dataframe\">\n",
       "<caption>A matrix: 4 × 4 of type dbl</caption>\n",
       "<thead>\n",
       "\t<tr><th></th><th scope=col>NumBanyos</th><th scope=col>NumDormitorios</th><th scope=col>MaxOcupantes</th><th scope=col>MetrosCuadrados</th></tr>\n",
       "</thead>\n",
       "<tbody>\n",
       "\t<tr><th scope=row>NumBanyos</th><td>1.0000000</td><td>0.7292599</td><td>0.8589205</td><td>0.6113095</td></tr>\n",
       "\t<tr><th scope=row>NumDormitorios</th><td>0.7292599</td><td>1.0000000</td><td>0.7855310</td><td>0.8215065</td></tr>\n",
       "\t<tr><th scope=row>MaxOcupantes</th><td>0.8589205</td><td>0.7855310</td><td>1.0000000</td><td>0.7121088</td></tr>\n",
       "\t<tr><th scope=row>MetrosCuadrados</th><td>0.6113095</td><td>0.8215065</td><td>0.7121088</td><td>1.0000000</td></tr>\n",
       "</tbody>\n",
       "</table>\n"
      ],
      "text/latex": [
       "A matrix: 4 × 4 of type dbl\n",
       "\\begin{tabular}{r|llll}\n",
       "  & NumBanyos & NumDormitorios & MaxOcupantes & MetrosCuadrados\\\\\n",
       "\\hline\n",
       "\tNumBanyos & 1.0000000 & 0.7292599 & 0.8589205 & 0.6113095\\\\\n",
       "\tNumDormitorios & 0.7292599 & 1.0000000 & 0.7855310 & 0.8215065\\\\\n",
       "\tMaxOcupantes & 0.8589205 & 0.7855310 & 1.0000000 & 0.7121088\\\\\n",
       "\tMetrosCuadrados & 0.6113095 & 0.8215065 & 0.7121088 & 1.0000000\\\\\n",
       "\\end{tabular}\n"
      ],
      "text/markdown": [
       "\n",
       "A matrix: 4 × 4 of type dbl\n",
       "\n",
       "| <!--/--> | NumBanyos | NumDormitorios | MaxOcupantes | MetrosCuadrados |\n",
       "|---|---|---|---|---|\n",
       "| NumBanyos | 1.0000000 | 0.7292599 | 0.8589205 | 0.6113095 |\n",
       "| NumDormitorios | 0.7292599 | 1.0000000 | 0.7855310 | 0.8215065 |\n",
       "| MaxOcupantes | 0.8589205 | 0.7855310 | 1.0000000 | 0.7121088 |\n",
       "| MetrosCuadrados | 0.6113095 | 0.8215065 | 0.7121088 | 1.0000000 |\n",
       "\n"
      ],
      "text/plain": [
       "                NumBanyos NumDormitorios MaxOcupantes MetrosCuadrados\n",
       "NumBanyos       1.0000000 0.7292599      0.8589205    0.6113095      \n",
       "NumDormitorios  0.7292599 1.0000000      0.7855310    0.8215065      \n",
       "MaxOcupantes    0.8589205 0.7855310      1.0000000    0.7121088      \n",
       "MetrosCuadrados 0.6113095 0.8215065      0.7121088    1.0000000      "
      ]
     },
     "metadata": {},
     "output_type": "display_data"
    }
   ],
   "source": [
    "# Con estos datos nuevos las correlaciones parecen tener más sentido\n",
    "barrio_sol<-subset(airbnb_entire,Barrio==\"Sol\" & MetrosCuadrados>15)\n",
    "cor(barrio_sol[,c(\"NumBanyos\",\"NumDormitorios\",\"MaxOcupantes\",\"MetrosCuadrados\")],use=\"pairwise.complete.obs\")"
   ]
  },
  {
   "cell_type": "markdown",
   "metadata": {},
   "source": [
    "Una vez que hayamos filtrado los datos correspondientes calcular el valor o la combinación de valores que mejor nos permite obtener el precio de un inmueble."
   ]
  },
  {
   "cell_type": "code",
   "execution_count": 35,
   "metadata": {},
   "outputs": [
    {
     "data": {
      "text/plain": [
       "\n",
       "Call:\n",
       "lm(formula = Precio ~ NumBanyos + NumDormitorios + MetrosCuadrados + \n",
       "    MaxOcupantes, data = barrio_sol)\n",
       "\n",
       "Residuals:\n",
       "    Min      1Q  Median      3Q     Max \n",
       "-76.852 -13.673  -5.048  18.523  69.473 \n",
       "\n",
       "Coefficients:\n",
       "                Estimate Std. Error t value Pr(>|t|)   \n",
       "(Intercept)      28.0362    12.9584   2.164  0.03859 * \n",
       "NumBanyos         0.5647    14.6038   0.039  0.96941   \n",
       "NumDormitorios   28.2119     8.5440   3.302  0.00249 **\n",
       "MetrosCuadrados   0.2237     0.2050   1.091  0.28393   \n",
       "MaxOcupantes      2.6738     4.4329   0.603  0.55093   \n",
       "---\n",
       "Signif. codes:  0 ‘***’ 0.001 ‘**’ 0.01 ‘*’ 0.05 ‘.’ 0.1 ‘ ’ 1\n",
       "\n",
       "Residual standard error: 31.32 on 30 degrees of freedom\n",
       "Multiple R-squared:  0.7588,\tAdjusted R-squared:  0.7267 \n",
       "F-statistic:  23.6 on 4 and 30 DF,  p-value: 6.728e-09\n"
      ]
     },
     "metadata": {},
     "output_type": "display_data"
    }
   ],
   "source": [
    "model<-lm(barrio_sol,formula=Precio~NumBanyos+NumDormitorios+MetrosCuadrados+MaxOcupantes)\n",
    "summary(model)"
   ]
  },
  {
   "cell_type": "code",
   "execution_count": 36,
   "metadata": {},
   "outputs": [
    {
     "data": {
      "text/plain": [
       "\n",
       "Call:\n",
       "lm(formula = Precio ~ MetrosCuadrados, data = barrio_sol)\n",
       "\n",
       "Residuals:\n",
       "    Min      1Q  Median      3Q     Max \n",
       "-65.154 -18.405  -0.139   9.146 122.102 \n",
       "\n",
       "Coefficients:\n",
       "                Estimate Std. Error t value Pr(>|t|)    \n",
       "(Intercept)      30.9151    12.6752   2.439   0.0203 *  \n",
       "MetrosCuadrados   0.9796     0.1404   6.978  5.6e-08 ***\n",
       "---\n",
       "Signif. codes:  0 ‘***’ 0.001 ‘**’ 0.01 ‘*’ 0.05 ‘.’ 0.1 ‘ ’ 1\n",
       "\n",
       "Residual standard error: 38.65 on 33 degrees of freedom\n",
       "Multiple R-squared:  0.5961,\tAdjusted R-squared:  0.5838 \n",
       "F-statistic:  48.7 on 1 and 33 DF,  p-value: 5.596e-08\n"
      ]
     },
     "metadata": {},
     "output_type": "display_data"
    }
   ],
   "source": [
    "model<-lm(barrio_sol,formula=Precio~MetrosCuadrados)\n",
    "summary(model)"
   ]
  },
  {
   "cell_type": "code",
   "execution_count": 37,
   "metadata": {},
   "outputs": [
    {
     "data": {
      "text/plain": [
       "\n",
       "Call:\n",
       "lm(formula = Precio ~ NumDormitorios, data = barrio_sol)\n",
       "\n",
       "Residuals:\n",
       "    Min      1Q  Median      3Q     Max \n",
       "-89.704 -17.010  -5.768  19.490  61.296 \n",
       "\n",
       "Coefficients:\n",
       "               Estimate Std. Error t value Pr(>|t|)    \n",
       "(Intercept)      41.283      8.554   4.826 3.08e-05 ***\n",
       "NumDormitorios   39.484      4.078   9.682 3.61e-11 ***\n",
       "---\n",
       "Signif. codes:  0 ‘***’ 0.001 ‘**’ 0.01 ‘*’ 0.05 ‘.’ 0.1 ‘ ’ 1\n",
       "\n",
       "Residual standard error: 31.03 on 33 degrees of freedom\n",
       "Multiple R-squared:  0.7396,\tAdjusted R-squared:  0.7317 \n",
       "F-statistic: 93.75 on 1 and 33 DF,  p-value: 3.611e-11\n"
      ]
     },
     "metadata": {},
     "output_type": "display_data"
    }
   ],
   "source": [
    "model<-lm(barrio_sol,formula=Precio~NumDormitorios)\n",
    "summary(model)"
   ]
  },
  {
   "cell_type": "code",
   "execution_count": 38,
   "metadata": {},
   "outputs": [
    {
     "data": {
      "text/plain": [
       "\n",
       "Call:\n",
       "lm(formula = Precio ~ NumDormitorios + MetrosCuadrados, data = barrio_sol)\n",
       "\n",
       "Residuals:\n",
       "    Min      1Q  Median      3Q     Max \n",
       "-86.701 -15.056  -4.442  17.341  68.125 \n",
       "\n",
       "Coefficients:\n",
       "                Estimate Std. Error t value Pr(>|t|)    \n",
       "(Intercept)      34.0916    10.0930   3.378  0.00193 ** \n",
       "NumDormitorios   31.8817     7.0761   4.506 8.31e-05 ***\n",
       "MetrosCuadrados   0.2558     0.1956   1.308  0.20025    \n",
       "---\n",
       "Signif. codes:  0 ‘***’ 0.001 ‘**’ 0.01 ‘*’ 0.05 ‘.’ 0.1 ‘ ’ 1\n",
       "\n",
       "Residual standard error: 30.7 on 32 degrees of freedom\n",
       "Multiple R-squared:  0.7528,\tAdjusted R-squared:  0.7374 \n",
       "F-statistic: 48.74 on 2 and 32 DF,  p-value: 1.938e-10\n"
      ]
     },
     "metadata": {},
     "output_type": "display_data"
    }
   ],
   "source": [
    "model<-lm(barrio_sol,formula=Precio~NumDormitorios+MetrosCuadrados)\n",
    "summary(model)"
   ]
  },
  {
   "cell_type": "markdown",
   "metadata": {},
   "source": [
    "¿Que variable es más fiable para conocer el precio de un inmueble, el número de habitaciones o los metros cuadrados?"
   ]
  },
  {
   "cell_type": "code",
   "execution_count": 39,
   "metadata": {},
   "outputs": [],
   "source": [
    "# La variable que mejor responde es la de NumDormitorios. \n",
    "# Metros cuadrados y NumDormitorios estan muy correladas por eso una combinación lineal de ambas no ayuda a mejorar\n",
    "# el R^2 significativamente"
   ]
  },
  {
   "cell_type": "code",
   "execution_count": null,
   "metadata": {},
   "outputs": [],
   "source": []
  },
  {
   "cell_type": "markdown",
   "metadata": {},
   "source": [
    "Responde con su correspondiente margen de error del 95%, ¿cuantos euros incrementa el precio del alquiler por cada metro cuadrado extra del piso?"
   ]
  },
  {
   "cell_type": "code",
   "execution_count": 40,
   "metadata": {},
   "outputs": [
    {
     "data": {
      "text/html": [
       "<style>\n",
       ".dl-inline {width: auto; margin:0; padding: 0}\n",
       ".dl-inline>dt, .dl-inline>dd {float: none; width: auto; display: inline-block}\n",
       ".dl-inline>dt::after {content: \":\\0020\"; padding-right: .5ex}\n",
       ".dl-inline>dt:not(:first-of-type) {padding-left: .5ex}\n",
       "</style><dl class=dl-inline><dt>2.5 %</dt><dd>0.694020052426474</dd><dt>97.5 %</dt><dd>1.26525006235795</dd></dl>\n"
      ],
      "text/latex": [
       "\\begin{description*}\n",
       "\\item[2.5 \\textbackslash{}\\%] 0.694020052426474\n",
       "\\item[97.5 \\textbackslash{}\\%] 1.26525006235795\n",
       "\\end{description*}\n"
      ],
      "text/markdown": [
       "2.5 %\n",
       ":   0.69402005242647497.5 %\n",
       ":   1.26525006235795\n",
       "\n"
      ],
      "text/plain": [
       "    2.5 %    97.5 % \n",
       "0.6940201 1.2652501 "
      ]
     },
     "metadata": {},
     "output_type": "display_data"
    }
   ],
   "source": [
    "model<-lm(barrio_sol,formula=Precio~MetrosCuadrados)\n",
    "confint(model)[\"MetrosCuadrados\",]"
   ]
  },
  {
   "cell_type": "markdown",
   "metadata": {},
   "source": [
    "Responde con su correspondiente margen de error del 95%, ¿cuantos euros incrementa el precio del alquiler por cada habitación?"
   ]
  },
  {
   "cell_type": "code",
   "execution_count": 41,
   "metadata": {},
   "outputs": [
    {
     "data": {
      "text/html": [
       "<style>\n",
       ".dl-inline {width: auto; margin:0; padding: 0}\n",
       ".dl-inline>dt, .dl-inline>dd {float: none; width: auto; display: inline-block}\n",
       ".dl-inline>dt::after {content: \":\\0020\"; padding-right: .5ex}\n",
       ".dl-inline>dt:not(:first-of-type) {padding-left: .5ex}\n",
       "</style><dl class=dl-inline><dt>2.5 %</dt><dd>31.1874637434115</dd><dt>97.5 %</dt><dd>47.7809469179902</dd></dl>\n"
      ],
      "text/latex": [
       "\\begin{description*}\n",
       "\\item[2.5 \\textbackslash{}\\%] 31.1874637434115\n",
       "\\item[97.5 \\textbackslash{}\\%] 47.7809469179902\n",
       "\\end{description*}\n"
      ],
      "text/markdown": [
       "2.5 %\n",
       ":   31.187463743411597.5 %\n",
       ":   47.7809469179902\n",
       "\n"
      ],
      "text/plain": [
       "   2.5 %   97.5 % \n",
       "31.18746 47.78095 "
      ]
     },
     "metadata": {},
     "output_type": "display_data"
    }
   ],
   "source": [
    "model<-lm(barrio_sol,formula=Precio~NumDormitorios)\n",
    "confint(model)[\"NumDormitorios\",]"
   ]
  },
  {
   "cell_type": "markdown",
   "metadata": {},
   "source": [
    "¿Cual es la probabilidad de encontrar, en el barrio de Sol, un apartamento en alquiler con 3 dormitorios?\n",
    "¿Cual es el intervalo de confianza de esa probabilidad?"
   ]
  },
  {
   "cell_type": "code",
   "execution_count": 42,
   "metadata": {},
   "outputs": [
    {
     "name": "stdout",
     "output_type": "stream",
     "text": [
      "[1] \"La probabilidad es: 0.0857142857142857\"\n",
      "[1] \"El margen de confianza es:\"\n"
     ]
    },
    {
     "data": {
      "text/html": [
       "<style>\n",
       ".list-inline {list-style: none; margin:0; padding: 0}\n",
       ".list-inline>li {display: inline-block}\n",
       ".list-inline>li:not(:last-child)::after {content: \"\\00b7\"; padding: 0 .5ex}\n",
       "</style>\n",
       "<ol class=list-inline><li>0.0180376398142175</li><li>0.230575018658877</li></ol>\n"
      ],
      "text/latex": [
       "\\begin{enumerate*}\n",
       "\\item 0.0180376398142175\n",
       "\\item 0.230575018658877\n",
       "\\end{enumerate*}\n"
      ],
      "text/markdown": [
       "1. 0.0180376398142175\n",
       "2. 0.230575018658877\n",
       "\n",
       "\n"
      ],
      "text/plain": [
       "[1] 0.01803764 0.23057502\n",
       "attr(,\"conf.level\")\n",
       "[1] 0.95"
      ]
     },
     "metadata": {},
     "output_type": "display_data"
    }
   ],
   "source": [
    "# Aquí calculamos el número de anuncios con 3 dormitorios en Sol:\n",
    "num3dormitorios<-sum(barrio_sol$NumDormitorios==3)\n",
    "# A continuación miramos el número total de anuncios en Sol:\n",
    "numTotal<-nrow(barrio_sol)\n",
    "# Simplemente mostramos el ratio\n",
    "print(paste(\"La probabilidad es:\",num3dormitorios/numTotal))\n",
    "print(\"El margen de confianza es:\")\n",
    "binom.test(num3dormitorios,numTotal)$conf"
   ]
  },
  {
   "cell_type": "markdown",
   "metadata": {},
   "source": [
    "\n"
   ]
  },
  {
   "cell_type": "code",
   "execution_count": null,
   "metadata": {},
   "outputs": [],
   "source": []
  }
 ],
 "metadata": {
  "kernelspec": {
   "display_name": "R",
   "language": "R",
   "name": "ir"
  },
  "language_info": {
   "codemirror_mode": "r",
   "file_extension": ".r",
   "mimetype": "text/x-r-source",
   "name": "R",
   "pygments_lexer": "r",
   "version": "4.1.0"
  }
 },
 "nbformat": 4,
 "nbformat_minor": 2
}
