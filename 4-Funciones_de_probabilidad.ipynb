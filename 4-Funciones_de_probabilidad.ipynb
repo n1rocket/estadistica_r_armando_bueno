{
 "cells": [
  {
   "cell_type": "markdown",
   "metadata": {},
   "source": [
    "# Histograma\n",
    "\n",
    "Representación gráfica de una variable en forma de barras donde la superficie de cada barra es proporcional a la frecuencia de los valores representados.\n",
    "\n",
    "Nos sirve para ver como se distribuyen los datos aleatorios."
   ]
  },
  {
   "cell_type": "markdown",
   "metadata": {},
   "source": [
    "## Análisis de la población española en 2022\n",
    "\n",
    "Se han descargado los datos oficiales del Instituto Nacional de Estadística (http://www.ine.es), la población residente por fecha, sexo y edad a fecha del 1 de enero de 2022. El fichero [9663c.csv](http://www.ine.es/jaxiT3/Tabla.htm?t=9663&L=0) se encuentra accesible desde el notebook."
   ]
  },
  {
   "cell_type": "code",
   "execution_count": null,
   "metadata": {},
   "outputs": [],
   "source": [
    "poblacion_raw<-read.csv(\"data/9663bsc.csv\",skip=0,fileEncoding=\"ISO-8859-1\",header=T, sep=';',stringsAsFactor=F)\n",
    "head(poblacion_raw,7)"
   ]
  },
  {
   "cell_type": "code",
   "execution_count": null,
   "metadata": {},
   "outputs": [],
   "source": []
  },
  {
   "cell_type": "code",
   "execution_count": null,
   "metadata": {},
   "outputs": [],
   "source": []
  },
  {
   "cell_type": "code",
   "execution_count": null,
   "metadata": {},
   "outputs": [],
   "source": []
  },
  {
   "cell_type": "code",
   "execution_count": null,
   "metadata": {},
   "outputs": [],
   "source": []
  },
  {
   "cell_type": "code",
   "execution_count": null,
   "metadata": {},
   "outputs": [],
   "source": []
  },
  {
   "cell_type": "code",
   "execution_count": null,
   "metadata": {},
   "outputs": [],
   "source": []
  },
  {
   "cell_type": "code",
   "execution_count": null,
   "metadata": {},
   "outputs": [],
   "source": [
    "library(dplyr)\n",
    "library(tidyr)\n",
    "\n",
    "poblacion <- poblacion_raw %>% pivot_wider(names_from = Sexo, values_from = Total)  %>% \n",
    " mutate(edad=as.numeric(gsub(\"año(s|)\",\"\",Edad.simple))) %>% drop_na() %>% select(-c(Periodo,Edad.simple)) %>%\n",
    " rename(Total='Ambos sexos') %>% arrange(edad)\n",
    "#arrange(desc(Edad))\n",
    "head(poblacion)"
   ]
  },
  {
   "cell_type": "code",
   "execution_count": null,
   "metadata": {},
   "outputs": [],
   "source": [
    "library(ggplot2)\n",
    "options(repr.plot.height=5,repr.plot.width=8 , repr.plot.res = 400)\n",
    "ggplot(data=poblacion, aes(x=edad, y=Total))+geom_col()+\n",
    "  geom_vline(xintercept = 44, color=\"blue\")+\n",
    "  geom_vline(xintercept = 67, color=\"red\")+\n",
    "  geom_vline(xintercept = 81, color=\"green\")"
   ]
  },
  {
   "cell_type": "code",
   "execution_count": null,
   "metadata": {},
   "outputs": [],
   "source": [
    "ggplot(data=poblacion, aes(x=edad))+\n",
    "  geom_col(aes(y=Hombres),fill=\"blue\")+\n",
    "  geom_col(aes(y= -Mujeres),fill=\"red\")+\n",
    "  scale_y_continuous(breaks=seq(-5e5,5e5,length.out=11), labels=abs(seq(-5e5,5e5,length.out=11)))+\n",
    "  xlab(\"Edad\")+ylab(\"Mujeres           Hombres\")+ggtitle(\"Pirámide poblacional de España\")+\n",
    "  coord_flip()"
   ]
  },
  {
   "cell_type": "code",
   "execution_count": null,
   "metadata": {},
   "outputs": [],
   "source": [
    "#poblacion$porcentaje <- (poblacion$Hombres/poblacion$Mujeres-1)*100\n",
    "poblacion$porcentaje <- with(poblacion, (Hombres/Mujeres-1)*100)\n",
    "\n",
    "ggplot(data=poblacion, aes(x=edad, y=porcentaje))"
   ]
  },
  {
   "cell_type": "markdown",
   "metadata": {},
   "source": [
    "## Análisis de dataset Iris\n",
    "\n",
    "Data set de medidas en centímetros de la longitud y anchura de sépalos de tres especies de Iris:  Iris setosa, versicolor, and virginica. "
   ]
  },
  {
   "cell_type": "code",
   "execution_count": null,
   "metadata": {},
   "outputs": [],
   "source": [
    "print(paste(\"El dataset iris tiene\",nrow(iris),\"filas\"))\n",
    "head(iris)"
   ]
  },
  {
   "cell_type": "markdown",
   "metadata": {},
   "source": [
    "Representamos un histograma de la longitud de los sépalos con diferente número de barras.\n",
    "El aumentar el número de barras nos da una mayor resolución, \n",
    "pero tenemos menos precisión porque hay menos muestra por cada barra.\n",
    "En R el histograma se dibuja con la función *hist()*."
   ]
  },
  {
   "cell_type": "code",
   "execution_count": null,
   "metadata": {},
   "outputs": [],
   "source": [
    "sort(iris$Sepal.Length)"
   ]
  },
  {
   "cell_type": "code",
   "execution_count": null,
   "metadata": {},
   "outputs": [],
   "source": [
    "par(mfrow = c(1,2))\n",
    "hist(iris$Sepal.Length, 5, xlab=\"Longitud sépalo\", ylab=\"Frecuencia\", main=\"Iris\")\n",
    "hist(iris$Sepal.Length, 15, xlab=\"Longitud sépalo\", ylab=\"Frecuencia\", main=\"Iris\")"
   ]
  },
  {
   "cell_type": "markdown",
   "metadata": {},
   "source": [
    "Si queremos utilizar *ggplot* para pintar histogramas podemos utilizar la función *geom_histogram()*: "
   ]
  },
  {
   "cell_type": "code",
   "execution_count": null,
   "metadata": {},
   "outputs": [],
   "source": []
  },
  {
   "cell_type": "markdown",
   "metadata": {},
   "source": [
    "Podemos agrupar los histogramas por la especie. Así podemos ver como se *distribuye* la longitud de cada sépalo en función de la especie."
   ]
  },
  {
   "cell_type": "code",
   "execution_count": null,
   "metadata": {},
   "outputs": [],
   "source": [
    "\n"
   ]
  },
  {
   "cell_type": "markdown",
   "metadata": {},
   "source": [
    "## Ejemplo con datos reales\n",
    "\n",
    "Dataset de Strava de mi cuenta personal."
   ]
  },
  {
   "cell_type": "code",
   "execution_count": null,
   "metadata": {},
   "outputs": [],
   "source": [
    "strava = read.csv(\"data/activities_strava.csv\")\n",
    "head(strava)\n",
    "str(strava)"
   ]
  },
  {
   "cell_type": "code",
   "execution_count": null,
   "metadata": {},
   "outputs": [],
   "source": [
    "strava<-strava[c(\"Activity.Date\",\"Activity.Name\",\"Activity.Type\",\"Elapsed.Time\",\"Distance\",\"Moving.Time\")]\n",
    "head(strava)\n",
    "summary(strava)"
   ]
  },
  {
   "cell_type": "code",
   "execution_count": null,
   "metadata": {},
   "outputs": [],
   "source": [
    "ride<-strava[strava$Activity.Type==\"Ride\",]\n",
    "summary(ride)"
   ]
  },
  {
   "cell_type": "code",
   "execution_count": null,
   "metadata": {},
   "outputs": [],
   "source": []
  },
  {
   "cell_type": "code",
   "execution_count": null,
   "metadata": {},
   "outputs": [],
   "source": []
  },
  {
   "cell_type": "code",
   "execution_count": null,
   "metadata": {},
   "outputs": [],
   "source": []
  },
  {
   "cell_type": "code",
   "execution_count": null,
   "metadata": {},
   "outputs": [],
   "source": []
  },
  {
   "cell_type": "markdown",
   "metadata": {},
   "source": [
    "# Función de densidad de probabilidad\n",
    "\n",
    "[Función](https://es.wikipedia.org/wiki/Funci%C3%B3n_de_densidad_de_probabilidad) que describe la probabilidad relativa según la cual dicha variable aleatoria tomará determinado valor.\n",
    "\n",
    "Podemos pensar en ella como un **histograma con un gran número de barras**, si somos rigurosos sería un histograma cuando el número de barras tiende a infinito (y su ancho a cero).\n",
    "\n",
    "Las podemos dividir en dos grupos:\n",
    "* Discretas: Son aquellas que solo pueden tomar valores dentro de un cojunto finito: Cara/Cruz, Oros/Bastos/Espadas/Copas. Se pueden representar con números enteros (1,2,3,4....)\n",
    "* Continuas: Son aquellas que pueden tomar cualquier valor, números reales.\n"
   ]
  },
  {
   "cell_type": "markdown",
   "metadata": {},
   "source": [
    "## Propiedades\n",
    "\n",
    "Supongamos que $f(x)$ es la función de densidad de probabilidad de una variable aleatoria $x$.\n",
    "\n",
    "Su integral (suma) a lo largo de todo el dominio es igual a 1. Esto significa que la suma de probabilidades de todos los posibles valores será 1.\n",
    "\n",
    "Para una distribución continua será:\n",
    "\\\\[\n",
    "\\int_{- \\infty }^{\\infty}f(x) dx = 1\n",
    "\\\\]\n",
    "\n",
    "Para una distribución discreta será:\n",
    "\\\\[\n",
    "\\sum_{- \\infty }^{\\infty}f(x) dx = 1\n",
    "\\\\]\n",
    "\n",
    "\n",
    "Su integral (suma) a lo largo de dos puntos $[a,b]$, da la probabilidad de que nuestra variable aleatoria $x$ caiga en ese rango:\n",
    "\n",
    "Para una distribución continua será:\n",
    "\\\\[\n",
    "P[a \\leq X \\leq b]=\\int_{a }^{b}f(x) dx\n",
    "\\\\]\n",
    "\n",
    "Para una distribución discreta será:\n",
    "\\\\[\n",
    "P[a \\leq X \\leq b]=\\sum_{a }^{b}f(x) dx\n",
    "\\\\]\n",
    "\n"
   ]
  },
  {
   "cell_type": "markdown",
   "metadata": {},
   "source": [
    "#### Ejemplo\n",
    "\n",
    "Si elegimos una persona al azar en España, ¿cual es la probabilidad de que sea un *milenial*?\n",
    "\n",
    "Según la [Wikipedia](https://es.wikipedia.org/wiki/Generaci%C3%B3n_Y#Generaci%C3%B3n_Y_en_el_mundo) los *milenials* podrían comprender los nacidos entre 1980 y 2000."
   ]
  },
  {
   "cell_type": "code",
   "execution_count": null,
   "metadata": {},
   "outputs": [],
   "source": [
    "f_poblacion <- poblacion[,c(\"Total\",\"edad\")]\n",
    "f_poblacion$nacimiento <- 2019-f_poblacion$edad\n",
    "\n",
    "# Completar\n",
    "\n",
    "paste(\"La probabilida de que eligiendo una persona al azar en España sea milenial es \",\n",
    "      f_poblacion_milenial)"
   ]
  },
  {
   "cell_type": "markdown",
   "metadata": {},
   "source": [
    "## Función de distribución acumulativa\n",
    "\n",
    "Nos dice la probabilidad de obtener un valor menor o igual a cierto umbral dado en nuestra variable aleatoria $x$\n",
    "\n",
    "\\\\[\n",
    "F(x)=P[X \\leq a]=\\int_{-\\infty }^{a}f(x) dx\n",
    "\\\\]\n"
   ]
  },
  {
   "cell_type": "markdown",
   "metadata": {},
   "source": [
    "#### Ejemplo\n",
    "\n",
    "Si elegimos una persona al azar en España, ¿cual es la probabilidad de que sea menor o igual de 64 años?"
   ]
  },
  {
   "cell_type": "code",
   "execution_count": null,
   "metadata": {},
   "outputs": [],
   "source": [
    "# Completar\n",
    "paste0(\"La probabilidad de que eligiendo una persona al azar su edad sea menor o igual a 64 años es \",\n",
    "      round(sum(f_poblacion_subset$Total),3)*100,\"%\")"
   ]
  },
  {
   "cell_type": "markdown",
   "metadata": {},
   "source": [
    "# Funciones de probabilidad conocidas\n",
    "\n",
    "A continuación vamos a ver las funciones de probabilidad que aparecen con mayor frecuencia cuando realizamos algún estudio estadístico. \n",
    "\n",
    "Todas están relacionadas entre sí como veremos a continuación. A modo resumen vamos a ver;\n",
    "\n",
    "* Distribución uniforme: Continua. Todos los valores tienen la misma posibilidad.\n",
    "* Distribución Bernoulli: Discreta. Dos posibles soluciones, ej: Moneda al al arie\n",
    "* Distribución Binomial: Discreta. Generalización de Bernoulli, ej: Tiramos varias monedas al aire\n",
    "* Distribución Poisson: Discreta. Generalización de Binomial cuando hay infinitos eventos de probabilidad muy baja.\n",
    "* Distribución Exponencial: Contínua. Tiempo medio entre courrenia de ventos de una distribución de Bernoulli.\n",
    "* Distribución Gaussiana: Contínua. La distribución más usada, toda combinación de variables aleatorias tiende a una Gaussiana.\n",
    "* Distribución Chi cuadrado: Contínua. Es el cuadrado de una distribución gaussiana."
   ]
  },
  {
   "cell_type": "markdown",
   "metadata": {},
   "source": [
    "## Distribución uniforme\n",
    "\n",
    "Es una familia de funciones de probabilidad donde cada elemento, dentro de cierto intervalo, \n",
    "tiene la misma probabilidad de aparecer.\n",
    "\n",
    "**Ejemplo:** La lotería, todos los números tienen las mismas posibilidades.\n",
    "\n",
    "Función de densidad de probabilidad      | Función acumulativa de probabilidad\n",
    ":---------------------------------------:|:----------------------------------------:\n",
    "![PDF](pics/func_Uniform_Distribution_PDF.png)| ![PDF](pics/func_Uniform_Distribution_CDF.png)\n",
    "\n",
    "Estimadores **media** ($\\mu$) y **varianza** ($\\sigma^2$):\n",
    "\\\\[\n",
    "\\mu=\\frac{a+b}{2} \\qquad\n",
    "\\sigma^2=\\frac{(b-a)^2}{12}\n",
    "\\\\]"
   ]
  },
  {
   "cell_type": "markdown",
   "metadata": {},
   "source": [
    "### Funciones en R\n",
    "\n",
    "* runif(x,min=a,max=b) : genera x números aleatorios\n",
    "* dunif(x,min=a,max=b) : función de densidad en el punto x (likelihood)\n",
    "* punif(x,min=a,max=b) : probabilidad acumulada P(X<x)=p\n",
    "* qunif(p,min=a,max=b) : inversa de la probabilidad acumulada P(X<x)=p\n",
    "\n",
    "Podemos generar una variable aleatoria que siga una distribución uniforme mediante la función *runif()*.\n",
    "\n",
    "Por ejemplo si queremos generar 10000 muestras de una distribución uniforme entre 2 y 7 basta con ejecutar:"
   ]
  },
  {
   "cell_type": "code",
   "execution_count": null,
   "metadata": {},
   "outputs": [],
   "source": [
    "#set.seed(1)\n",
    "myUnifVector<-runif(10000,min=2,max=7)\n",
    "summary(myUnifVector)\n",
    "length(myUnifVector)"
   ]
  },
  {
   "cell_type": "code",
   "execution_count": null,
   "metadata": {},
   "outputs": [],
   "source": []
  },
  {
   "cell_type": "code",
   "execution_count": null,
   "metadata": {},
   "outputs": [],
   "source": []
  },
  {
   "cell_type": "markdown",
   "metadata": {},
   "source": [
    "Podemos ver como el histograma de _myUnifVector_ se parece bastante a la función de densidad de probabilidad esperada:"
   ]
  },
  {
   "cell_type": "code",
   "execution_count": null,
   "metadata": {},
   "outputs": [],
   "source": [
    "library(ggplot2)"
   ]
  },
  {
   "cell_type": "code",
   "execution_count": null,
   "metadata": {},
   "outputs": [],
   "source": [
    "ggplot(data=data.frame(x=myUnifVector), aes(x))+\n",
    "  geom_histogram(bins=15,fill=\"#7070BB\",color=\"#010101\")+ \n",
    "  scale_x_continuous(breaks = seq(0,10,1), lim=c(0,10))"
   ]
  },
  {
   "cell_type": "markdown",
   "metadata": {},
   "source": [
    "Las barras que se encuentran los límites de la distribución, en 2 y 7, \n",
    "aparecen más bajas porque realmente tienen menos elementos. \n",
    "Parte de la barra cae fuera de los límites de nuestra distribución uniforme.  \n",
    "\n",
    "Esto se puede solucionar haciendo las barras más finas, \n",
    "añadiendo más barras a costa de empeorar la precisión."
   ]
  },
  {
   "cell_type": "code",
   "execution_count": null,
   "metadata": {},
   "outputs": [],
   "source": [
    "ggplot(data=data.frame(x=myUnifVector), aes(x))+\n",
    "  geom_histogram(bins=50,fill=\"#7070BB\",color=\"#010101\")+ \n",
    "  scale_x_continuous(breaks = seq(0,10,1), lim=c(0,10))"
   ]
  },
  {
   "cell_type": "markdown",
   "metadata": {},
   "source": [
    "Cuantas más barras utilicemos, más resolución tendremos, \n",
    "pero demasiada nos puede alejar de la función de densidad de probabilidad real.\n",
    "\n",
    "Si tenemos pocas muestras el histograma aparecerá con muchas variaciones, \n",
    "puede ser dificil intuir la función de densidad de probabilidad. \n",
    "\n",
    "Lo ideal sería utilizar unas **barras muy estrechas** para calcular el histograma y luego **suavizar** la función resultante\n",
    "para evitar los saltos bruscos. Si posteriormente normalizamos por el número de muestras acabamos con una estimación\n",
    "de la **función de densidad de probabilidad**.\n",
    "\n",
    "La librería *ggplot* incorporta la función *geom_density()* que hace eso mismo, \n",
    "estima la función de densidad de probabilidad utilizando diferentes funciones de suavizado.\n"
   ]
  },
  {
   "cell_type": "code",
   "execution_count": null,
   "metadata": {},
   "outputs": [],
   "source": [
    "ggplot(data=data.frame(x=myUnifVector), aes(x))+\n",
    "  geom_density(fill=\"#7070BB\",color=\"#010101\")+ \n",
    "  scale_x_continuous(breaks = seq(0,10,1), lim=c(0,10))"
   ]
  },
  {
   "cell_type": "markdown",
   "metadata": {},
   "source": [
    "Por la función de suavizado (llamada kernel) es una gaussiana, pero en nuestro caso particular encajaría mejor una función rectangular que tiene una caida más abrupta. "
   ]
  },
  {
   "cell_type": "code",
   "execution_count": null,
   "metadata": {},
   "outputs": [],
   "source": [
    "ggplot(data=data.frame(x=myUnifVector), aes(x))+\n",
    "  geom_density(fill=\"#7070BB\",color=\"#010101\",kernel=\"rectangular\", bw=0.07)+ \n",
    "  scale_x_continuous(breaks = seq(0,10,1), lim=c(0,10))"
   ]
  },
  {
   "cell_type": "code",
   "execution_count": null,
   "metadata": {},
   "outputs": [],
   "source": [
    "ggplot(data=data.frame(x=myUnifVector), aes(x))+\n",
    "  geom_density(fill=\"#7070BB\",color=\"#010101\",kernel=\"rectangular\", bw=0.01)+ \n",
    "  scale_x_continuous(breaks = seq(0,10,1), lim=c(0,10))"
   ]
  },
  {
   "cell_type": "markdown",
   "metadata": {},
   "source": [
    "## Distribución de Bernoulli\n",
    "\n",
    "Es una distribución discreta que puede tomar dos valores uno con probabilidad $p$ y otro $q=1-p$. Se utiliza para describir sucesos que solo tienen dos posibles resultados como Si/No, 1/0 o Cara/Cruz.\n",
    "\n",
    "**Ejemplo:**  Tiramos una vez una moneda al aire.\n",
    "\n",
    "Estimadores **media** ($\\mu$) y **varianza** ($\\sigma^2$):\n",
    "\\\\[\n",
    "\\mu=p \\qquad\n",
    "\\sigma^2=p·q=p·(1-p)\n",
    "\\\\]"
   ]
  },
  {
   "cell_type": "code",
   "execution_count": null,
   "metadata": {},
   "outputs": [],
   "source": [
    "options(repr.plot.height=2,repr.plot.width=6)\n",
    "p<- 0.7\n",
    "q<- 1-p\n",
    "\n",
    "df <- data.frame(x=c(\"Si\",\"No\"), prob=c(p,q))\n",
    "ggplot(data=df,aes(x=x,y=prob))+geom_point(color=\"blue\")+geom_col(width=0.005,color=\"blue\")+\n",
    " theme_bw()+ggtitle(\"Función de densidad de probabilida \\n de una distribución de Bernuilli\")\n",
    "\n",
    "options(repr.plot.height=4,repr.plot.width=6)"
   ]
  },
  {
   "cell_type": "markdown",
   "metadata": {},
   "source": [
    "La función de densidad de probabilidad se puede representar como:\n",
    "\\\\[\n",
    "f(k;p)=\\left\\{ \n",
    "\\begin{matrix} \n",
    "p & \\text{si  } k=1 \\\\  \n",
    "1-p & \\text{si  } k=0 \n",
    "\\end{matrix}\n",
    "\\right.\n",
    "\\\\]\n",
    "donde $k$ solo admite dos posibles valores $k \\in \\left\\{0,1 \\right\\}$.\n",
    "\n",
    "Esta formula también se puede expresar como:\n",
    "\\\\[\n",
    "f(k;p)=p^k(1-p)^{1-k}\n",
    "\\\\]\n",
    "\n",
    "La distribución de Bernoulli es un caso especial de la **distribución binomial** con n=1.\n"
   ]
  },
  {
   "cell_type": "markdown",
   "metadata": {},
   "source": [
    "Podemos simular una distribución de Bernoulli a partir de una uniforme simplemente comparando si el valor supera un umbral que viene determinado por la probabilidad de la distribución binomial:"
   ]
  },
  {
   "cell_type": "code",
   "execution_count": null,
   "metadata": {},
   "outputs": [],
   "source": [
    "p<-0.1\n",
    "v<-runif(5,min=0,max=1)\n",
    "v\n",
    "as.integer(v>p)"
   ]
  },
  {
   "cell_type": "code",
   "execution_count": null,
   "metadata": {},
   "outputs": [],
   "source": [
    "options(repr.plot.height=4,repr.plot.width=6)\n",
    "\n",
    "slices <- c(p,1-p)\n",
    "lbls <- c(\"Cara\", \"Cruz\")\n",
    "pie(slices, labels = lbls, main=\"Probabilidad\")"
   ]
  },
  {
   "cell_type": "markdown",
   "metadata": {},
   "source": [
    "## Distribución binomial\n",
    "\n",
    "La distribución binomial es una generalización de la distribución de Bernoulli para $n$ sucesos independientes, cada uno de los cuales tiene dos posibles resultados Si/No con probabilidad $p$.\n",
    "\n",
    "**Ejemplo:** Tiramos al aire 3 monedas y mirarmos cual es la probabilidad de que 2 salgan cara.\n",
    "\n",
    "Variables que definen la distribución:\n",
    "* p - probabilidad de éxito de un caso individual\n",
    "* n - número de eventos totales que se desean medir\n",
    "* k - número de eventos que ha salido SI.\n",
    "\n",
    "Estimadores **media** ($\\mu$) y **varianza** ($\\sigma^2$):\n",
    "\\\\[\n",
    "\\mu=n·p \\qquad\n",
    "\\sigma^2=n·p·(1-p)\n",
    "\\\\]\n"
   ]
  },
  {
   "cell_type": "markdown",
   "metadata": {},
   "source": [
    "**Combinatoria**\n",
    "\n",
    "Para entender como se comporta una distribución binomial primero tenemos que entender un poco como funciona la combinatoria.\n",
    "\n",
    "Queremos saber el número de formas diferentes que hay de obtener, sin tener en cuena el orden, de que $k$ objetos puedan ser elegidos dentro de un conjunto de $n$ objetos. Es decir, el número de subconjuntos de $k$-elementos que se pueden obtener de un conjunto de $n$ elementos.\n",
    "\n",
    "**Ejemplo**: Si tenemos 3 monedas diferentes, ¿cuantas formas posibles hay de agruparlas en grupos de dos?\n",
    "\n",
    " .  | .  | .\n",
    ":--------:|:--------:|:--------:\n",
    "        | Moneda 2 | Moneda 3 \n",
    "Moneda 1  |   .       | Moneda 3 \n",
    "Moneda 1  | Moneda 2 | \n",
    "\n",
    "El resultado es 3, hay 3 formas posibles de combinar 3 monedas diferentes en grupos de 2.\n",
    "\n",
    "Este calculo se puede realizar con el **coeficiente binomial**:\n",
    "\\\\[\n",
    "\\binom{n}{k}=\\frac{n!}{k!(n-k)!}\n",
    "\\\\]\n",
    "Para nuestro ejemplo:\n",
    "\\\\[\n",
    "\\binom{3}{2}=\\frac{3!}{2!(3-2)!}=\\frac{3·2·1}{2·1·1!}=3\n",
    "\\\\]"
   ]
  },
  {
   "cell_type": "markdown",
   "metadata": {},
   "source": [
    "**Función de densidad de probabilidad**\n",
    "\n",
    "Si tenemos $n$ sucesos independientes que siguen una distribución de Bernoulli, ¿cual es la probabilidad de que $k$ sucesos sean positivos?. \n",
    "Si sabemos que la probabilidad de un suceso ($k=1$) que sigue una distribución Bernoulli viene dada por la función de distribución:\n",
    "\\\\[\n",
    "Pr_{Bernoulli}(X=k)=p^k(1-p)^{n-k} \\qquad k \\in \\left\\{0,1 \\right\\}.\n",
    "\\\\]\n",
    "\n",
    "Al tener $k$ sucesos donde $k \\in \\left\\{0,1,2,...,n \\right\\}$, la función será la de Bernoulli multiplicada por el coeficiente binomial que acabamos de ver:\n",
    "\\\\[\n",
    "Pr(X=k)=\\binom{n}{k}p^k(1-p)^{n-k}\n",
    "\\\\]\n",
    "La función acumulativa será:\n",
    "\\\\[\n",
    "Pr(X \\leq k)= \\sum_{i=0}^{k-1} \\binom{n}{k}p^k(1-p)^{n-k}\n",
    "\\\\]\n",
    "\n",
    "\n",
    "\n",
    "Función de densidad de probabilidad. [Fuente](https://en.wikipedia.org/wiki/Binomial_distribution)      | Función acumulativa de probabilidad\n",
    ":---------------------------------------:|:----------------------------------------:\n",
    "![](pics/func_Binomial_Distribution_PDF.png)| ![PDF](pics/func_Binomial_Distribution_CDF.png)\n",
    "\n",
    "A medida que $n$ se acerca a $\\infty$ y $p$ se acerca a $0$, entonces la función de probabilidad de una binomial se acerca a una distribución de **Poisson** con media $\\lambda=n·p$"
   ]
  },
  {
   "cell_type": "markdown",
   "metadata": {},
   "source": [
    "### Ejemplo Monedas\n",
    "\n",
    "Tiramos 3 monedas (no trucadas) al aire, ¿cual es la probabilidad de que salgan dos caras?\n",
    "\n",
    "Si tiramos 3 monedas, los posibles resultados se muestran en la siguiente tabla:\n",
    "\n",
    "Moneda 1  | Moneda 2 | Moneda 3 \n",
    ":--------:|:--------:|:--------:\n",
    "(ʘ‿ʘ)  | (ʘ‿ʘ) | (ʘ‿ʘ)\n",
    " **X** | **(ʘ‿ʘ)** | **(ʘ‿ʘ)**\n",
    "**(ʘ‿ʘ)**  | **X** | **(ʘ‿ʘ)**\n",
    "  X    |   X   | (ʘ‿ʘ)\n",
    "**(ʘ‿ʘ)**  | **(ʘ‿ʘ)** | **X**\n",
    "  X    | (ʘ‿ʘ) |   X\n",
    "(ʘ‿ʘ)  |   X   |   X\n",
    "  X    |   X   |   X\n",
    "\n",
    "Al ser la probabilidad de cara igual a la probabilidad de cruz todos los resultados son equiprobables. De los 8 resultados posibles solo 3 serían válidos, así que la probabilidad es $3/8=0.375$\n",
    "\n",
    "Si lo resolvemos con la fórmula de la binomial donde $n=3$, $k=2$ y $p=0.5$:\n",
    "\\\\[\n",
    "Pr(X=2)=\\binom{n}{k}p^k(1-p)^{n-k}=\\binom{3}{2}0.5^{2}·0.5^{1}=0.375\n",
    "\\\\]\n",
    "Esto mismo se puede calcular en R con la función *dbinom()*"
   ]
  },
  {
   "cell_type": "code",
   "execution_count": null,
   "metadata": {},
   "outputs": [],
   "source": [
    "dbinom(x=2,size=3,prob=0.5)"
   ]
  },
  {
   "cell_type": "markdown",
   "metadata": {},
   "source": [
    "También podemos generar una secuencia de números aleatorios siguiendo una distribución binomial con la función *rbinom()*, \n",
    "con la siguiente línea simulamos que ocurre, el número de caras que salen,\n",
    "al repetir el experimento de las 3 monedas 10 veces."
   ]
  },
  {
   "cell_type": "code",
   "execution_count": null,
   "metadata": {},
   "outputs": [],
   "source": [
    "rbinom(10,size=3,prob=0.5)"
   ]
  },
  {
   "cell_type": "markdown",
   "metadata": {},
   "source": [
    "### Ejemplo Test embarazo\n",
    "\n",
    "Un test de embarazo tiene una posiblidad de acierto del 99%. Si Berto Romero utiliza su orín para probar 100 tests de embarazo, ¿cual es la probabilidad de que al menos un test de embarazo salga positivo?. Sabiendo que Berto es un hombre y no puede quedarse embarazado.\n",
    "\n",
    "Si pinchais en la imagen vereis cómo **NO** se debe hacer esto experimentalmente, en el minuto 10.35 Berto lo clarifica.\n",
    "[![](./pics/BertoRomero.png)](https://www.youtube.com/watch?v=yIOwhfWiHbM)\n",
    "\n",
    "Esto se resolvería utilizando la función de una binomial.\n",
    "\\\\[\n",
    "Pr(X \\geq k)=\\sum_{i=k}^n \\binom{n}{i}p^i(1-p)^{n-i}\n",
    "\\\\]\n",
    "Donde:\n",
    "* n = 100\n",
    "* k = 1\n",
    "* p = 0.01\n",
    "\n",
    "Esto en R se haría:"
   ]
  },
  {
   "cell_type": "code",
   "execution_count": null,
   "metadata": {},
   "outputs": [],
   "source": [
    "n=100\n",
    "k=1\n",
    "p=0.01\n",
    "\n",
    "dbinom(x=1,size=100,prob=0.01)\n",
    "dbinom(x=2,size=100,prob=0.01)\n",
    "dbinom(x=3,size=100,prob=0.01)\n",
    "dbinom(x=4,size=100,prob=0.01)\n"
   ]
  },
  {
   "cell_type": "code",
   "execution_count": null,
   "metadata": {},
   "outputs": [],
   "source": [
    "probFinal<-0\n",
    "for (x in k:n){    \n",
    "    probFinal<-probFinal+dbinom(x=x,size=100,prob=0.01)\n",
    "}\n",
    "print(paste0(\"La probabilidad de que en \",n,\" tests de embarazo salga al menos \",\n",
    "             k,\" indicando embarazo, es del \",round(probFinal*100,2),\"%\"))"
   ]
  },
  {
   "cell_type": "markdown",
   "metadata": {
    "collapsed": true
   },
   "source": [
    "Lo cual significa que hay más posibilidades de que al hacer este experimento salga algún test de embarazo con un *falso positivo*, es decir, que diga que Berto está embarazado. \n",
    "Los tests de embarazo miden el nivel de la hormona hCG en la orina, el problema seguramente esté en que esta probabilidad de error viene dado porque algunas veces (pocas) la presencia de esta hormona en la orina de una mujer no implica que esté embarazada. Berto no va a tener esa hormona, lo que indica que la probabilidad de que un test de embarazo falle en su caso es mucho menor.\n",
    "\n",
    "\n",
    "**NOTA**: Esto se podría calcular de forma más fácil asumiendo que tenemos $n=100$ sucesos independientes con probabilidad $(1-p)$. La probabilidad de que absolutamente todos los tests dieran un resultado correcto es de $0.99^{100}=0.366$, con lo que la posibilidad de que al menos un test falle es $1-0.366=0.634$.\n",
    "De hecho si en la ecuación de la binomial utilizamos $k=0$ la ecuación queda reducida a $Pr=(1-p)^{n}$"
   ]
  },
  {
   "cell_type": "markdown",
   "metadata": {},
   "source": [
    "¿Nos podemos fiar de este resultado?\n",
    "\n",
    "Podemos simular el experimento en R y repetirlo 10000 veces para poder calcular probabilidades.  \n",
    "La función *rbinom(n,size=1,prob=p)* genera un vector de tamaño $n=100$ donde \n",
    "cada elemento sigue una distribución de Bernouilli ($size=k=1$).\n"
   ]
  },
  {
   "cell_type": "code",
   "execution_count": null,
   "metadata": {},
   "outputs": [],
   "source": [
    "p=0.01\n",
    "n=100\n",
    "k=1\n",
    "experimento<-runif(n,min=0,max=1)<p\n",
    "\n",
    "experimento"
   ]
  },
  {
   "cell_type": "code",
   "execution_count": null,
   "metadata": {},
   "outputs": [],
   "source": [
    "numTestFail<-0\n",
    "totalIntentos<-10000\n",
    "p=0.01\n",
    "n=100\n",
    "k=1\n",
    "for (i in 1:totalIntentos){\n",
    "    #experimento<-rbinom(n,size=1,prob=p)\n",
    "    experimento<-runif(n,min=0,max=1)<p\n",
    "    numFalsoPositivo<-sum(experimento)\n",
    "    if (numFalsoPositivo>=k){\n",
    "        numTestFail<-numTestFail+1\n",
    "    }\n",
    "}\n",
    "probFinal=numTestFail/totalIntentos\n",
    "print(paste0(\"La probabilidad de que en \",n,\" tests de embarazo salga al menos \",\n",
    "             k,\" indicando embarazo, es del \",round(probFinal*100,2),\"%\"))"
   ]
  },
  {
   "cell_type": "markdown",
   "metadata": {},
   "source": [
    "## Distribución de Poisson\n",
    "\n",
    "Tiene su origen en una distribución **binomial** a medida que $n \\rightarrow \\infty$ y $p \\rightarrow 0$, manteniendo $\\lambda=n·p$ constante.\n",
    "\n",
    "Esta distribución expresa la probabilidad de que un número de eventos dado ocurra en un intervalo de tiempo \n",
    "(o espacio) fijo si los eventos curren con una frecuencia constante y son independientes \n",
    "(no dependen de cuando ocurrió el último evento).\n",
    "\n",
    "Ejemplo: Número de llamadas que cursa una antena de telefonía móvil en una franja horaria.\n",
    "\n",
    "Estimadores **media** ($\\mu$) y **varianza** ($\\sigma^2$):\n",
    "\\\\[\n",
    "\\mu=\\lambda \\qquad\n",
    "\\sigma^2=\\lambda\n",
    "\\\\]\n",
    "\n",
    "**Función de densidad de probabilidad**\n",
    "\n",
    "Un evento puede ocurrir $k \\in \\left\\{0,1,2,3,... \\right\\}$ veces en un intervalo de tiempo dado. El número de ventos que ocurre en media se define con $\\lambda$. La probabilidad de observar $k$ eventos en un intervalo viene dado por la ecuación:\n",
    "\\\\[\n",
    "Pr(X=k)=\\frac{\\lambda^k}{k!} e^{-\\lambda}\n",
    "\\\\]\n",
    "\n",
    "\n",
    "Función de densidad de probabilidad. [Fuente](https://en.wikipedia.org/wiki/Poisson_distribution)      | Función acumulativa de probabilidad\n",
    ":---------------------------------------:|:----------------------------------------:\n",
    "![](pics/func_Poisson_Distribution_PDF.png)| ![PDF](pics/func_Poisson_Distribution_CDF.png)\n",
    "\n",
    "Para valores grandes de $\\lambda$, en torno a $\\lambda>100$, la distribución de Poisson tiende a una gaussiana de media $\\mu=\\lambda$ y desviación típica $\\sigma=\\sqrt{\\lambda}$."
   ]
  },
  {
   "cell_type": "markdown",
   "metadata": {
    "collapsed": true
   },
   "source": [
    "**Ejemplo:**\n",
    "Imaginemos que tenemos un call center que recibe de **media** 2 llamadas por minuto.\n",
    "\n",
    "¿Cual es la probabilidad de que recibamos exactamente 5 llamadas en un minuto?\n",
    "\n",
    "$\\lambda=2\\text{ llamadas/minuto}$\n",
    "\n",
    "$Pr(X=5)=\\frac{2^{5}}{5!}·e^{-2}$"
   ]
  },
  {
   "cell_type": "code",
   "execution_count": null,
   "metadata": {},
   "outputs": [],
   "source": [
    "k=5\n",
    "l=2\n",
    "print(paste(\"METODO 1: La probabilidad de recibir exactamente\",\n",
    "            k,\"llamadas en un minuto es:\",#Completar con la formula))\n",
    "print(paste(\"METODO 2: La probabilidad de recibir exactamente\",\n",
    "            k,\"llamadas en un minuto es:\",dpois(#Completar)))"
   ]
  },
  {
   "cell_type": "markdown",
   "metadata": {},
   "source": [
    "¿Cual es la probabilidad de que recibamos 5 o más llamadas en un minuto?\n",
    "\n",
    "\\\\[\n",
    "Pr(X \\geq k)=\\sum_{i=k}^\\infty {\\frac{\\lambda^i}{i!} e^{-\\lambda}}\n",
    "\\\\]\n",
    "\n",
    "Lo que es equivalente a:\n",
    "\n",
    "\\\\[\n",
    "Pr(X \\geq k)=1-\\sum_{i=0}^{k-1} \\frac{\\lambda^i}{i!} e^{-\\lambda}\n",
    "\\\\]\n"
   ]
  },
  {
   "cell_type": "code",
   "execution_count": null,
   "metadata": {},
   "outputs": [],
   "source": [
    "k<-5\n",
    "l<-2\n",
    "\n",
    "p<-0\n",
    "for (i in k:100){\n",
    "   p<-p+dpois(i,l)\n",
    "}\n",
    "print(paste(\"METODO 1: La probabilidad de recibir más de\",k,\"llamdas en un minuto es:\",p))\n",
    "\n",
    "p<-1\n",
    "for (i in 0:(k-1)){\n",
    "   p<-p-dpois(i,l)\n",
    "}\n",
    "print(paste(\"METODO 2: La probabilidad de recibir más de\",k,\"llamdas en un minuto es:\",p))\n",
    "\n",
    "\n",
    "p<-1-ppois(k-1,l)\n",
    "print(paste(\"METODO 3: La probabilidad de recibir más de\",k,\"llamdas en un minuto es:\",p))\n",
    "\n",
    "\n"
   ]
  },
  {
   "cell_type": "markdown",
   "metadata": {},
   "source": [
    "### Funciones en R\n",
    "\n",
    "Podemos generar una variable aleatoria que siga una distribución de Poisson mediante la función *rpois()*.\n",
    "\n",
    "Por ejemplo si queremos generar 10000 muestras de varias distribuciones de Poisson con medias 2, 4 y 20 basta con ejecutar:"
   ]
  },
  {
   "cell_type": "code",
   "execution_count": null,
   "metadata": {},
   "outputs": [],
   "source": [
    "l<-c(2,4,20)\n",
    "numSamples<-10000\n",
    "myPoissonDataVector<-rpois(numSamples*length(l),l)\n",
    "\n",
    "length(myPoissonDataVector)"
   ]
  },
  {
   "cell_type": "code",
   "execution_count": null,
   "metadata": {},
   "outputs": [],
   "source": [
    "head(rep(l,numSamples),10)"
   ]
  },
  {
   "cell_type": "code",
   "execution_count": null,
   "metadata": {},
   "outputs": [],
   "source": [
    "myPoissonDataFrame<-data.frame(val=myPoissonDataVector,lambda=rep(l,numSamples))\n",
    "myPoissonDataFrame$lambda<-factor(myPoissonDataFrame$lambda)\n",
    "head(myPoissonDataFrame)"
   ]
  },
  {
   "cell_type": "code",
   "execution_count": null,
   "metadata": {},
   "outputs": [],
   "source": [
    "require(ggplot2)\n",
    "ggplot(data=myPoissonDataFrame, aes(x=val,colour=lambda)) + \n",
    " geom_histogram(position=\"dodge\",bins=30)+\n",
    " #geom_density(bw=1)+\n",
    " #geom_vline(xintercept=3.65,color=\"blue\")"
   ]
  },
  {
   "cell_type": "markdown",
   "metadata": {},
   "source": [
    "Podemos comprobar como una distribución **binomial** a medida que $n \\rightarrow \\infty$ y $p \\rightarrow 0$, manteniendo $\\lambda=n·p$ constante converge a una distribución de **Poisson** con media $\\lambda$.\n"
   ]
  },
  {
   "cell_type": "code",
   "execution_count": null,
   "metadata": {},
   "outputs": [],
   "source": [
    "l<-4\n",
    "\n",
    "n<-c(5,10,100)\n",
    "p<-l/n\n",
    "\n",
    "numSamples<-10000\n",
    "\n",
    "myBinomialDataVector<-rbinom(numSamples*length(n),size=n,prob=p)\n",
    "\n",
    "\n",
    "myPoissonDataFrame<-data.frame(val=myBinomialDataVector,n=rep(n,numSamples))\n",
    "myPoissonDataFrame$n<-factor(myPoissonDataFrame$n)\n",
    "\n",
    "require(ggplot2)\n",
    "\n",
    "ggplot(data=myPoissonDataFrame, aes(x=val,colour=n)) +geom_histogram(position=\"dodge\",bins=30)+\n",
    "  stat_function(fun=function(x,...){dpois(round(x),...)*10000},args = list(lambda = l), \n",
    "                  geom=\"area\",color=\"#a98600\",fill=\"yellow\",alpha=0.3)"
   ]
  },
  {
   "cell_type": "markdown",
   "metadata": {},
   "source": [
    "## Distribución exponencial\n",
    "\n",
    "Describe el tiempo que transcurre entre dos eventos que siguen una distribución de Poisson. Es decir, dado un proceso que produce eventos de forma continua e independiente a una tasa constante, el tiempo entre dos eventos vendrá dado por una distribución exponencial.\n",
    "\n",
    "Ejemplo: Tiempo entre dos llamadas consecutivas que llegan a una antena de telefonía móvil en una franja horaria.\n",
    "\n",
    "Estimadores **media** ($\\mu$) y **varianza** ($\\sigma^2$):\n",
    "\\\\[\n",
    "\\mu=\\lambda^{-1} \\qquad\n",
    "\\sigma^2=\\lambda^{-1}\n",
    "\\\\]\n",
    "\n",
    "**Función de densidad de probabilidad**\n",
    "\n",
    "\\\\[\n",
    "f(k;p)= \\left\\{ \n",
    "\\begin{matrix} \n",
    "\\lambda e^{-\\lambda x} & \\text{si  } x \\geq 0 \\\\  \n",
    "0 & \\text{si  } k<0 \n",
    "\\end{matrix}\n",
    "\\right.\n",
    "\\\\]\n",
    "\n",
    "\n",
    "Función de densidad de probabilidad. [Fuente](https://en.wikipedia.org/wiki/Exponential_distribution)      | Función acumulativa de probabilidad\n",
    ":---------------------------------------:|:----------------------------------------:\n",
    "![](pics/func_Exponential_Distribution_PDF.png)| ![](pics/func_Exponential_Distribution_CDF.png)\n",
    "\n",
    "Para valores grandes de $\\lambda$, en torno a $\\lambda>100$, la distribución de Poisson tiende a una gaussiana de media $\\mu=\\lambda$ y desviación típica $\\sigma=\\sqrt{\\lambda}$."
   ]
  },
  {
   "cell_type": "markdown",
   "metadata": {
    "collapsed": true
   },
   "source": [
    "### Funciones en R\n",
    "\n",
    "Podemos generar una variable aleatoria que siga una distribución de exponencial mediante la función *rexp()*.\n",
    "\n",
    "Por ejemplo si queremos generar 10000 muestras de varias distribuciones exponenciales con medias 2, 4 y 20 basta con ejecutar:"
   ]
  },
  {
   "cell_type": "code",
   "execution_count": null,
   "metadata": {},
   "outputs": [],
   "source": [
    "l<-c(2,4,20)\n",
    "numSamples<-10000\n",
    "myExponentialDataVector<-rexp(numSamples*length(l),l)\n",
    "\n",
    "\n",
    "myExponentialDataFrame<-data.frame(val=myExponentialDataVector,lambda=rep(l,numSamples))\n",
    "myExponentialDataFrame$lambda<-factor(myExponentialDataFrame$lambda)\n",
    "\n",
    "require(ggplot2)\n",
    "ggplot(data=myExponentialDataFrame, aes(x=val,colour=lambda)) + \n",
    " geom_density(bw=0.01, kernel=\"rectangular\")"
   ]
  },
  {
   "cell_type": "markdown",
   "metadata": {},
   "source": [
    "### Ejemplo.\n",
    "\n",
    "En un call-center que recibe una media de 20 llamadas cada hora. ¿Cual es la probabilidad de que el call-center esté más de 5 min entre dos llamadas entrantes?"
   ]
  },
  {
   "cell_type": "code",
   "execution_count": null,
   "metadata": {},
   "outputs": [],
   "source": [
    "rate=20\n",
    "paste(rate,\"llamadas cada hora significa una media de una llamada cada\",1/rate*60,\"minutos\")"
   ]
  },
  {
   "cell_type": "code",
   "execution_count": null,
   "metadata": {},
   "outputs": [],
   "source": [
    "est_time=5/60\n",
    "paste(\"La probabilidad de tener que esperar más de\",est_time,\n",
    "      \"horas entre dos llamadas entrantes es de\",1-pexp(est_time,rate=rate))\n"
   ]
  },
  {
   "cell_type": "markdown",
   "metadata": {},
   "source": [
    "## Distribución Gaussiana\n",
    "\n",
    "La distribución normal o gaussiana es posiblemente la distribución de probabilidad más utilizada. Su importancia radica en el teorema central del límite.\n",
    "\n",
    "Su función de densidad de probabilidad es:\n",
    "\\\\[\n",
    "P(x\\;|\\;\\mu ,\\sigma )={\\frac {1}{\\sqrt {2\\pi \\sigma ^{2}}}}\\;e^{-{\\frac {(x-\\mu )^{2}}{2\\sigma ^{2}}}}\n",
    "\\\\]\n",
    "\n",
    "La función acumulativa de probabilidad no tiene una forma explícita:\n",
    "\\\\[\n",
    "P(X>x\\;|\\;\\mu ,\\sigma )={\\frac {1}{\\sqrt {2\\pi \\sigma ^{2}}}}\\;\\int _{-\\infty}^x e^{-{\\frac {(t-\\mu )^{2}}{2\\sigma ^{2}}}} dt\n",
    "\\\\]\n",
    "\n",
    "\n",
    "\n",
    "El Teorema central del límite establece que para distribuciones independientes e identicamente distribuidas con media $\\mu < \\infty$ y varianza $0< \\sigma^2 < \\infty$, la suma de un gran número de variables aleatorias se distribuye aproximadamente como una normal.\n",
    "\n",
    "Función de densidad de probabilidad. [Fuente](https://en.wikipedia.org/wiki/Normal_distribution)      | Función acumulativa de probabilidad\n",
    ":---------------------------------------:|:----------------------------------------:\n",
    "![](pics/func_Gaussian_Distribution_PDF.png)| ![](pics/func_Gaussian_Distribution_CDF.png)"
   ]
  },
  {
   "cell_type": "markdown",
   "metadata": {},
   "source": [
    "### Regla 68-95-99.7\n",
    "\n",
    "Es una regla para acordarse de la distribución de datos cuando estos siguen una distribución gaussiana. Nos dice que porcentaje de datos se encuentran separados de la media en una, dos o tres desviaciones típicas. Es similar a la desigualdad de Tschebyshev pero más restrictiva, al ser solo válida para distribuciones gaussianas:\n",
    "\n",
    "\n",
    "\\\\[\n",
    "\\begin{aligned}\n",
    "\\Pr(\\mu -\\;\\,\\sigma \\leq X\\leq \\mu +\\;\\,\\sigma )&\\approx 0.6827\\\\\n",
    "\\Pr(\\mu -2\\sigma \\leq X\\leq \\mu +2\\sigma )&\\approx 0.9545\\\\\n",
    "\\Pr(\\mu -3\\sigma \\leq X\\leq \\mu +3\\sigma )&\\approx 0.9974\n",
    "\\end{aligned}\n",
    "\\\\]\n",
    "\n",
    "\n",
    "Histograma variable gaussiana. [Fuente](https://en.wikipedia.org/wiki/68%E2%80%9395%E2%80%9399.7_rule)\n",
    "![](pics/regla68-95-99.png)"
   ]
  },
  {
   "cell_type": "code",
   "execution_count": null,
   "metadata": {},
   "outputs": [],
   "source": []
  },
  {
   "cell_type": "markdown",
   "metadata": {
    "collapsed": true
   },
   "source": [
    "### Funciones en R\n"
   ]
  },
  {
   "cell_type": "markdown",
   "metadata": {},
   "source": [
    "En R tenemos las siguientes funciones:\n",
    "* dnorm(x, mean = 0, sd = 1): Da la probabilidad de P(X=x)\n",
    "* pnorm(q, mean = 0, sd = 1): Da la probabilidad acumulada de P(X<x)\n",
    "* qnorm(p, mean = 0, sd = 1): Devuelve resultados de los percentiles (cuantiles),es decir, da el valor de x tal que P(X<x)=p\n",
    "* rnorm(n, mean = 0, sd = 1): Genera un vector aleatorio de dimensión n\n",
    "\n",
    "Donde la media y la destviación típica se definen con los parámetros $mean$ y $sd$\n",
    "\n",
    "La función *qnorm* es la inversa de *pnorm*."
   ]
  },
  {
   "cell_type": "code",
   "execution_count": null,
   "metadata": {},
   "outputs": [],
   "source": [
    "pnorm(2.5,mean=2,sd=1)\n"
   ]
  },
  {
   "cell_type": "code",
   "execution_count": null,
   "metadata": {},
   "outputs": [],
   "source": [
    "x<-seq(-5,5,length.out=100)\n",
    "plot(x,pnorm(x),t=\"l\",col=\"blue\",ylab=\"prob\")\n",
    "lines(x,dnorm(x),t=\"l\",col=\"red\")\n",
    "#lines(qnorm(x),x,t=\"l\",col=\"green\")\n",
    "\n",
    "grid()\n",
    "legend(\"topleft\", c(\"Probabilidad acumulada (pnorm)\",\"Función de probabiliad (dnorm)\"), \n",
    "       pch = '-', title = \"Gráficas\", col=c(\"blue\",\"red\"), y.intersp = 2)"
   ]
  },
  {
   "cell_type": "markdown",
   "metadata": {},
   "source": [
    "### Efecto de la variación media y varianza\n",
    "\n",
    "Gráfico elaborado por el IPCC en 2001, hace casi dos décadas, en el que ya se describía cómo aumentaría la frecuencia de olas de calor al aumentar la temperatura media. Muestra el efecto en temperaturas extremas cuando (a) aumenta la temperatura media, (b) aumenta la varianza y (c) cuando la media y la varianza aumentan para una distribución normal de la temperatura. Fuente: http://www.aemet.es/es/noticias/2019/07/Olas_de_calor_mas_intensas_y_frecuentes\n",
    "\n",
    "![](pics/Curvaipcc.jpg)\n",
    "\n"
   ]
  },
  {
   "cell_type": "markdown",
   "metadata": {},
   "source": [
    "### Operaciones con gaussianas\n",
    "\n",
    "Sumar una constante a una variable aleatoria gaussiana modifica su media en la misma medida.\n",
    "\n",
    "Multiplicar una constante a una variable aleatoria gaussiana cambia su media y desviación típica por el mismo factor.\n"
   ]
  },
  {
   "cell_type": "code",
   "execution_count": null,
   "metadata": {},
   "outputs": [],
   "source": [
    "x<-rnorm(100000, mean = 4, sd = 2)\n",
    "print(paste0(\"Tenemos una variable aleatoria gausiana de media: \",\n",
    "             mean(x),\" y desviación típica:\",sd(x)))"
   ]
  },
  {
   "cell_type": "code",
   "execution_count": null,
   "metadata": {},
   "outputs": [],
   "source": [
    "nm<-6\n",
    "x<-x+nm\n",
    "print(paste0(\"Si le sumamos \",nm,\" su nueva media será: \",mean(x),\" y desviación típica:\",sd(x)))\n"
   ]
  },
  {
   "cell_type": "code",
   "execution_count": null,
   "metadata": {},
   "outputs": [],
   "source": [
    "nsd<-1.5\n",
    "x<-x*nsd\n",
    "print(paste0(\"Si la multiplicamos por \",nsd,\n",
    "             \" su nueva media será: \",mean(x),\" y desviación típica:\",sd(x)))"
   ]
  },
  {
   "cell_type": "markdown",
   "metadata": {},
   "source": [
    "### Comprobación teorema centrál del límite\n",
    "\n",
    "En el siguiente ejemplo vamos a crear vectores de 10.000 entradas que sigan una distribución uniforme entre -1 y 1. \n",
    "Posteriormente vamos a sumar los vectores entre sí y representar la función de densidad. \n",
    "Cuantos más vectores de distribución uniforme sumemos, la curva tiende más a una gaussiana."
   ]
  },
  {
   "cell_type": "code",
   "execution_count": null,
   "metadata": {},
   "outputs": [],
   "source": [
    "data.frame(val=as.numeric(),numFunctions=as.numeric())"
   ]
  },
  {
   "cell_type": "code",
   "execution_count": null,
   "metadata": {},
   "outputs": [],
   "source": [
    "numSamples<-1000\n",
    "\n",
    "myRandomDataFrame<-data.frame(val=as.numeric(),numFunctions=as.numeric())\n",
    "for (numFunctions in c(1,10,100)){\n",
    "    myRandomVector<-rep(0,numSamples)\n",
    "    for (i in 1:numFunctions){\n",
    "        myRandomVector<-myRandomVector+runif(numSamples,min = -1,max = 1)\n",
    "    }\n",
    "    myRandomVector<-myRandomVector\n",
    "    myRandomDataFrame<-rbind(myRandomDataFrame,data.frame(val=myRandomVector,numFunctions=numFunctions))\n",
    "}\n",
    "\n",
    "myRandomDataFrame$numFunctions<-as.factor(myRandomDataFrame$numFunctions)\n",
    "sd10<-sd(myRandomDataFrame$val[myRandomDataFrame$numFunctions==10])\n",
    "\n",
    "paste(\"Desviación típica sumando 10 uniformes:\",sd10)\n",
    "paste(\"Desviación típica sumando 100 uniformes:\",sd(myRandomDataFrame$val[myRandomDataFrame$numFunctions==100]))\n",
    "require(ggplot2)\n",
    "ggplot(data=myRandomDataFrame, aes(x=val,color=numFunctions)) + \n",
    "    #geom_density(kernel=\"rectangular\",bw=0.07)\n",
    "    stat_function(fun=dnorm,args = list(mean = 0, sd=sd10), \n",
    "                  geom=\"area\",color=\"#a98600\",fill=\"yellow\",alpha=0.3)+\n",
    "    geom_density(kernel=\"rectangular\")\n",
    "    "
   ]
  },
  {
   "cell_type": "markdown",
   "metadata": {},
   "source": [
    "### Unidad tipificada (Z-score)\n",
    "\n",
    "Es el número de desviaciones típicas sobre la media en el cual se encuentra el valor seleccionado.\n",
    "\\\\[\n",
    "z=\\frac{x-\\mu}{\\sigma}\n",
    "\\\\]"
   ]
  },
  {
   "cell_type": "markdown",
   "metadata": {},
   "source": [
    "### Función Q(z)\n",
    "\n",
    "La función Q(z) es la probabilidad de que una variable aleatoria gaussiana obtenga un valor mayor que x desviaciones típicas por encima de la media.\n",
    "\\\\[\n",
    "Q(z)=P(X>z)=P \\left( X>\\frac{x-\\mu}{\\sigma} \\right)\n",
    "\\\\]\n",
    "Si suponemos media 0:\n",
    "\\\\[\n",
    "Q(z)=P(X>z)=P \\left( \\sigma X> x \\right)\n",
    "\\\\]\n",
    "\n",
    "\n",
    "x - desviaciones $\\sigma$ | Q(x) - probabilidad\n",
    ":-----:|:---:\n",
    "$-\\infty$ | 1\n",
    "-2 | 0.9772499\n",
    "-1 | 0.8413447\n",
    "0  | 0.5\n",
    "1  | 0.1586533\n",
    "2  | 0.02275013\n",
    "$\\infty$ | 0\n"
   ]
  },
  {
   "cell_type": "code",
   "execution_count": null,
   "metadata": {},
   "outputs": [],
   "source": [
    "print(\"En R se calcula con pnorm:\")\n",
    "pnorm(1,lower.tail = F)\n",
    "\n",
    "print(\"La inversa se calcula con qnorm:\")\n",
    "qnorm(0.158655,lower.tail = F)"
   ]
  },
  {
   "cell_type": "code",
   "execution_count": null,
   "metadata": {},
   "outputs": [],
   "source": [
    "require(ggplot2)\n",
    "options(repr.plot.height=4,repr.plot.width=6)\n",
    "plot_qz<-function(l1,l2){ \n",
    "    qnorm1sd<-function(x){\n",
    "        out<-dnorm(x)\n",
    "        out[x< l1]<-NA\n",
    "        out\n",
    "    }\n",
    "\n",
    "    qnorm05sd<-function(x){\n",
    "        out<-dnorm(x)\n",
    "        out[x<l2]<-NA\n",
    "        out\n",
    "    }\n",
    "\n",
    "\n",
    "    qval1<-round(pnorm(l1,lower.tail = F),3)\n",
    "    qval2<-round(pnorm(l2,lower.tail = F),3)\n",
    "\n",
    "\n",
    "    xdf<-data.frame(z=c(-4,4))\n",
    "    ggplot(xdf,aes(x=z))+stat_function(fun=dnorm,args = list(mean = 0, sd=1))+\n",
    "      stat_function(fun=qnorm1sd, geom=\"area\",fill=\"red\")+\n",
    "      geom_text(x=l1+1,y=dnorm(l1),size=4,label=paste0(\"Q(\",l1,\")=\",qval1))+ \n",
    "      stat_function(fun=qnorm05sd, geom=\"area\",fill=\"green\",alpha=0.2)+\n",
    "      geom_text(x=l2+1,y=dnorm(l2),size=4,label=paste0(\"Q(\",l2,\")=\",qval2))\n",
    "}"
   ]
  },
  {
   "cell_type": "code",
   "execution_count": null,
   "metadata": {},
   "outputs": [],
   "source": [
    "l1<-1\n",
    "l2<-0.5\n",
    "plot_qz(l1,l2)"
   ]
  },
  {
   "cell_type": "markdown",
   "metadata": {},
   "source": [
    "## Gráfico Q-Q\n",
    "\n",
    "El grafico Q-Q se utiliza para comparar dos distribuciones pintando sus percentiles una contra la otra, generalmente se utiliza para comparar si una variable sigue una distribución gausiana."
   ]
  },
  {
   "cell_type": "code",
   "execution_count": null,
   "metadata": {},
   "outputs": [],
   "source": [
    "x<-seq(-4,4,length.out=1000)\n",
    "plot(x,pnorm(x,lower.tail = F),t=\"l\",ylab=\"Q(x) - probabilidad\",xlab=\"x - número de desviaciones típicas sobre la media\")\n",
    "grid()\n",
    "# Es equivalente a:\n",
    "plot(x,1-pnorm(x),t=\"l\")"
   ]
  },
  {
   "cell_type": "code",
   "execution_count": null,
   "metadata": {},
   "outputs": [],
   "source": [
    "numSamples<-10\n",
    "#Empezamos con una variable aleatoria ordenada\n",
    "var_random <-sort(runif(numSamples,min=-5,max=5))\n",
    "\n",
    "#calculamos su probabilidad de que P(X>x)\n",
    "p = ((numSamples-1):0)/numSamples\n",
    "\n",
    "#Basandonos en esta probabilidad, calculamos cual sería su valor si fuera gaussiana\n",
    "z<-qnorm(p,lower.tail = F)\n",
    "\n",
    "matrix(c(var_random,p,z),nrow=3,byrow = T,\n",
    "       dimnames=list(c(\"x\",\"P(X>x) o Q(x)\",\"valor esperado de x si fuera gaussiana\"),NULL))"
   ]
  },
  {
   "cell_type": "code",
   "execution_count": null,
   "metadata": {},
   "outputs": [],
   "source": [
    "plot(p,var_random)"
   ]
  },
  {
   "cell_type": "code",
   "execution_count": null,
   "metadata": {},
   "outputs": [],
   "source": [
    "#El gráfico QQ sería:\n",
    "plot(z,var_random,\n",
    "     xlab=\"número de desviaciones típicas sobre la media teórica\",\n",
    "     ylab=\"valores reales\")"
   ]
  },
  {
   "cell_type": "markdown",
   "metadata": {},
   "source": [
    "Evidentemente el gráfico Q-Q de una variable gaussiana es una linea recta"
   ]
  },
  {
   "cell_type": "code",
   "execution_count": null,
   "metadata": {},
   "outputs": [],
   "source": [
    "numSamples<-1000\n",
    "gauss_random <-sort(rnorm(numSamples,mean=5,sd=3))\n",
    "p = ((numSamples-1):0)/numSamples\n",
    "z<-qnorm(p,lower.tail = F)\n",
    "plot(z,gauss_random,\n",
    "     xlab=\"número de desviaciones típicas sobre la media teoórica\",\n",
    "     ylab=\"valores reales\")"
   ]
  },
  {
   "cell_type": "markdown",
   "metadata": {
    "collapsed": true
   },
   "source": [
    "Existe una función para hacer esto mismo"
   ]
  },
  {
   "cell_type": "code",
   "execution_count": null,
   "metadata": {},
   "outputs": [],
   "source": [
    "qqnorm(gauss_random)\n",
    "qqline(gauss_random, col = 'orange', lwd =2)"
   ]
  },
  {
   "cell_type": "code",
   "execution_count": null,
   "metadata": {},
   "outputs": [],
   "source": [
    "unif1<-subset(myRandomDataFrame,numFunctions==1)$val\n",
    "qqnorm(unif1)\n",
    "qqline(unif1, col = 'orange', lwd =2)"
   ]
  },
  {
   "cell_type": "markdown",
   "metadata": {},
   "source": [
    "## Distribución chi-cuadrado\n",
    "\n",
    "La función de distribución chi-cuadrado con $k$ grados de libertad aparece de sumar el cuadrado de $k$ variables que siguen gausianas independientes. Es usada principalmente para los tests estadísticos.\n",
    "\n",
    "\n",
    "Su función de distribución es:\n",
    "\\\\[\n",
    "f(x;k)=\\begin{cases}{\\dfrac {x^{{\\frac {k}{2}}-1}e^{-{\\frac {x}{2}}}}{2^{\\frac {k}{2}}\\Gamma \\left({\\frac {k}{2}}\\right)}},&x>0;\\\\0,&{\\text{en otro caso}}\\end{cases}\n",
    "\\\\]\n",
    "\n",
    "Función de densidad de probabilidad. [Fuente](https://es.wikipedia.org/wiki/Distribuci%C3%B3n_%CF%87%C2%B2)      | Función acumulativa de probabilidad\n",
    ":---------------------------------------:|:----------------------------------------:\n",
    "![](pics/func_Chisq_Distribution_PDF.png)| ![](pics/func_Chisq_Distribution_CDF.png)"
   ]
  },
  {
   "cell_type": "markdown",
   "metadata": {
    "collapsed": true
   },
   "source": [
    "Funciones en R\n",
    "\n",
    "En R tenemos las siguientes funciones:\n",
    "* dchisq(x, df, ncp = 0): Da la probabilidad de P(X=x)\n",
    "* pchisq(q, df, ncp = 0): Da la probabilidad de P(X<x)\n",
    "* qchisq(p, df, ncp = 0): Devuelve resultados de los percentiles (cuantiles),es decir, da el valor de x tal que P(X>x)=p\n",
    "* rchisq(n, df, ncp = 0): Genera un vector aleatorio de dimensión n\n",
    "\n",
    "Donde df es el número de grados de libertad"
   ]
  },
  {
   "cell_type": "markdown",
   "metadata": {},
   "source": [
    "## Distribución t-student\n",
    "\n",
    "Aparece de muestrear una distribución gausiana. Al tomar N muestras de una distribución gaussiana, la media normalizada (z-score) sigue una distribucíon t-student con N-1 grados de libertad.\n",
    "\n",
    "Fue descubierta por W. S. Gossett mientras trabajaba en pruebas de calidad para la fábrica Guinness en Dublín.\n",
    "\n",
    "\n",
    "Funciones en R\n",
    "\n",
    "En R tenemos las siguientes funciones:\n",
    "* dt(x, df, ncp = 0): Da la probabilidad de P(X=x)\n",
    "* pt(q, df, ncp = 0): Da la probabilidad de P(X<x)\n",
    "* qt(p, df, ncp = 0): Devuelve resultados de los percentiles (cuantiles),es decir, da el valor de x tal que P(X>x)=p\n",
    "* rt(n, df, ncp = 0): Genera un vector aleatorio de dimensión n\n",
    "\n",
    "Donde df es el número de grados de libertad"
   ]
  },
  {
   "cell_type": "code",
   "execution_count": null,
   "metadata": {},
   "outputs": [],
   "source": [
    "library(ggplot2)\n",
    "options(repr.plot.height=4,repr.plot.width=6)\n",
    "pick_N_samples<-function(N){\n",
    "    rnorm(N,m=real_mu,sd=real_sd)\n",
    "}\n",
    "\n",
    "N<-3\n",
    "real_mu<-5\n",
    "real_sd<-2\n",
    "tstudent<-data.frame(rep(NA,10000))\n",
    "\n",
    "for (i in 1:nrow(tstudent)){\n",
    "    g<-pick_N_samples(N)\n",
    "    estimated_sd<-sd(g)/sqrt(N)\n",
    "    estimated_mean<-mean(g)\n",
    "    tstudent[i,\"val\"]<-(estimated_mean-real_mu)/estimated_sd\n",
    "}\n",
    "\n",
    "ggplot(data=tstudent, aes(x=val)) + \n",
    "    stat_function(fun=dnorm,args = list(mean = 0, sd=1), geom=\"area\",color=\"#a98600\",fill=\"yellow\",alpha=0.3)+\n",
    "    stat_function(fun=dt,args = list(df = N-1),color=\"#2222BB\")+\n",
    "    xlim(-5,5)+\n",
    "    geom_density(kernel=\"rectangular\")\n"
   ]
  },
  {
   "cell_type": "markdown",
   "metadata": {},
   "source": [
    "Podemos comparar en un diagrama Q-Q como la t-student presenta una cola mayor:"
   ]
  },
  {
   "cell_type": "code",
   "execution_count": null,
   "metadata": {},
   "outputs": [],
   "source": [
    "qqnorm(tstudent$val,ylim = c(-5,5))\n",
    "qqline(tstudent$val, col = 'orange', lwd =2)"
   ]
  },
  {
   "cell_type": "markdown",
   "metadata": {},
   "source": [
    "### Distribución Beta\n",
    "\n",
    "La función Beta se utiliza mucho en análisis de bayes con test A/B. Tiene la particularidad de ser el [*conjugado prior*](https://en.wikipedia.org/wiki/Conjugate_prior) de las funciones Bernoulli y Binomial (más adelante veremos que significa esto).\n",
    "\n",
    "La fórmula de su densidad de probabilidad recuerda mucho a la de Binomial. Recordemos la formula de la función de distribución de Binomial:\n",
    "\\\\[\n",
    "Pr(X=k)=\\binom{n}{k}p^k(1-p)^{n-k}\n",
    "\\\\]\n",
    "\n",
    "La función de densidad de probabilidad de la función beta es:\n",
    "\\\\[\n",
    "pdf(p) = \\frac{p^{\\alpha-1}(1-p)^{\\beta-1}}{B(\\alpha,\\beta)}\n",
    "\\\\]\n",
    "Donde:\n",
    "\\\\[\n",
    "B(\\alpha,\\beta)=\\int_0^1 p^{\\alpha-1}(1-p)^{\\beta-1} dx\n",
    "\\\\]\n",
    "\n",
    "Estimadores **media** ($\\mu$) y **varianza** ($\\sigma^2$):\n",
    "\\\\[\n",
    "\\mu= \\frac{\\alpha}{\\alpha + \\beta} \\qquad\n",
    "\\sigma^2= \\frac{\\alpha \\beta}{(\\alpha+\\beta)^2(\\alpha+\\beta+1)}\n",
    "\\\\]\n",
    "La moda sería:\n",
    "\\\\[\n",
    "moda = \\frac{\\alpha-1}{\\alpha + \\beta -2}\n",
    "\\\\]\n",
    "\n",
    "Podemos pensar en\n",
    "* α-1 como el número de éxitos\n",
    "* β-1 como el número de fallos"
   ]
  },
  {
   "cell_type": "code",
   "execution_count": null,
   "metadata": {},
   "outputs": [],
   "source": [
    "a<-4\n",
    "b<-8\n",
    "x<-seq(0,1,length.out=1000)\n",
    "plot(x,dbeta(x,a,b),t=\"l\")"
   ]
  }
 ],
 "metadata": {
  "kernelspec": {
   "display_name": "R",
   "language": "R",
   "name": "ir"
  },
  "language_info": {
   "codemirror_mode": "r",
   "file_extension": ".r",
   "mimetype": "text/x-r-source",
   "name": "R",
   "pygments_lexer": "r",
   "version": "4.1.0"
  }
 },
 "nbformat": 4,
 "nbformat_minor": 1
}
